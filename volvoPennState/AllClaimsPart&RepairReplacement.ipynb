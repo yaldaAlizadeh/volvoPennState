{
 "cells": [
  {
   "cell_type": "code",
   "execution_count": 1,
   "id": "6b3243ae-8f6a-49c6-aaf8-a0dffc57b498",
   "metadata": {
    "jupyter": {
     "source_hidden": true
    },
    "tags": []
   },
   "outputs": [],
   "source": [
    "# !pip install SQLAlchemy\n",
    "# !pip install pyspark\n",
    "# !pip install jupysql duckdb duckdb-engine"
   ]
  },
  {
   "cell_type": "code",
   "execution_count": 2,
   "id": "59bd400d-b881-4a40-a1bd-593f5f9ae0ba",
   "metadata": {
    "jupyter": {
     "source_hidden": true
    },
    "tags": []
   },
   "outputs": [
    {
     "name": "stderr",
     "output_type": "stream",
     "text": [
      "ps: /storage/icds/RISE/sw8/anaconda/anaconda3/envs/tensorflow/lib/libuuid.so.1: no version information available (required by /usr/lib64/libblkid.so.1)\n",
      "Setting default log level to \"WARN\".\n",
      "To adjust logging level use sc.setLogLevel(newLevel). For SparkR, use setLogLevel(newLevel).\n",
      "25/03/16 04:50:40 WARN NativeCodeLoader: Unable to load native-hadoop library for your platform... using builtin-java classes where applicable\n",
      "25/03/16 04:50:41 WARN Utils: Service 'SparkUI' could not bind on port 4040. Attempting port 4041.\n",
      "25/03/16 04:50:41 WARN Utils: Service 'SparkUI' could not bind on port 4041. Attempting port 4042.\n",
      "25/03/16 04:50:41 WARN Utils: Service 'SparkUI' could not bind on port 4042. Attempting port 4043.\n",
      "25/03/16 04:50:41 WARN Utils: Service 'SparkUI' could not bind on port 4043. Attempting port 4044.\n",
      "25/03/16 04:50:41 WARN Utils: Service 'SparkUI' could not bind on port 4044. Attempting port 4045.\n",
      "25/03/16 04:50:41 WARN Utils: Service 'SparkUI' could not bind on port 4045. Attempting port 4046.\n",
      "25/03/16 04:50:41 WARN Utils: Service 'SparkUI' could not bind on port 4046. Attempting port 4047.\n",
      "25/03/16 04:50:41 WARN Utils: Service 'SparkUI' could not bind on port 4047. Attempting port 4048.\n",
      "25/03/16 04:50:41 WARN Utils: Service 'SparkUI' could not bind on port 4048. Attempting port 4049.\n",
      "25/03/16 04:50:41 WARN Utils: Service 'SparkUI' could not bind on port 4049. Attempting port 4050.\n",
      "25/03/16 04:50:41 WARN Utils: Service 'SparkUI' could not bind on port 4050. Attempting port 4051.\n",
      "25/03/16 04:50:41 WARN Utils: Service 'SparkUI' could not bind on port 4051. Attempting port 4052.\n",
      "25/03/16 04:50:41 WARN Utils: Service 'SparkUI' could not bind on port 4052. Attempting port 4053.\n",
      "25/03/16 04:50:41 WARN Utils: Service 'SparkUI' could not bind on port 4053. Attempting port 4054.\n"
     ]
    }
   ],
   "source": [
    "import pandas as pd\n",
    "import pyspark as psk\n",
    "from pyspark.sql import SparkSession\n",
    "import time as t  \n",
    "from pyspark.sql.types import *\n",
    "from pyspark.sql import functions as f\n",
    "from pyspark.sql import Row\n",
    "from functools import reduce\n",
    "from pyspark.sql.types import StructType, StructField, StringType\n",
    "from datetime import date, datetime, timedelta\n",
    "from joblib import Parallel, delayed\n",
    "import multiprocessing\n",
    "from functools import reduce  # For Python 3.x\n",
    "from pyspark.sql import DataFrame\n",
    "import numpy as np\n",
    "from math import modf\n",
    "import sqlite3\n",
    "from pyspark.sql.functions import *\n",
    "from pyspark.sql.types import *\n",
    "from pyspark import SparkConf, SQLContext\n",
    "\n",
    "spark = SparkSession.builder.master(\"local\").appName(\"Spark SQL\").getOrCreate()\n",
    "#both works\n",
    "# 1: \n",
    "# spark.sql(\"set spark.sql.legacy.timeParserPolicy=LEGACY\")    #To resolve the error for p1075_38 to_timestamp formating: You may get a different result due to the upgrading to Spark >= 3.0: Fail to parse '1/2/2019 20:40:00' in the new parser. You can set spark.sql.legacy.timeParserPolicy to LEGACY to restore the behavior before Spark 3.0, or set to CORRECTED and treat it as an invalid datetime string.\n",
    "# Set Spark SQL legacy time parser policy to LEGACY to handle older date formats\n",
    "# 2:\n",
    "spark.conf.set(\"spark.sql.legacy.timeParserPolicy\", \"LEGACY\")\n",
    "# Increase the max fields in the string representation of a plan\n",
    "spark.conf.set(\"spark.sql.debug.maxToStringFields\", 1000)  # Increase to 1000 or more as needed\n"
   ]
  },
  {
   "cell_type": "code",
   "execution_count": 3,
   "id": "3b2f9c24-a60f-40fc-a5d0-5ebd4e10df2b",
   "metadata": {
    "jupyter": {
     "source_hidden": true
    },
    "tags": []
   },
   "outputs": [],
   "source": [
    "\n",
    "# # Read CSV file into table\n",
    "\n",
    "# duration_end_date = '2020-01-01'\n",
    "\n",
    "# day_delta = timedelta(days = 1)\n",
    "# split_date = duration_end_date.split('-')\n",
    "\n",
    "# end_date = date(int(split_date[0]), int(split_date[1]), int(split_date[2]))\n",
    "# start_date = end_date - timedelta(days = 90)\n",
    "# print(\"start_date = {}, end_date = {}\".format(start_date, end_date))\n",
    "\n",
    "# df = spark.read.option(\"header\",True).csv(\"P2457_faults.csv\")\n",
    "# # df.printSchema()\n",
    "# # df.show()\n",
    "\n",
    "# # display(df)\n",
    "\n",
    "# # # DataFrame API Select query\n",
    "# df.select(\"VIN\",\"FAULT_DATE_TIME\",\"FAULT_STATUS\").show(20)\n",
    "\n",
    "# # DataFrame API where()\n",
    "# df.select(\"VIN\",\"FAULT_DATE_TIME\",\"FAULT_STATUS\") \\\n",
    "#   .where(\"FAULT_STATUS == 'N'\") \\\n",
    "#   .show(5)\n",
    "\n",
    "# # df.select(\"VIN\",\"FAULT_DATE_TIME\",f.col('FAULT_DATE_TIME'), f.to_timestamp(f.col('FAULT_DATE_TIME'), 'yyyy-MM-dd HH:mm:ss'), f.to_date(f.col('FAULT_DATE_TIME'), 'yyyy-MM-dd')).show(5) \n",
    "# # \\\n",
    "# #   .where(f.to_timestamp(f.col('FAULT_DATE_TIME'), 'yyyy-MM-dd HH:mm:ss')> f.lit(start_date)) \\\n",
    "# #   .show(5)\n",
    "# print(\"Filtering results:\")  #for P1075_38: (f.to_timestamp(f.col('FAULT_DATE_TIME'), 'M/d/yyyy HH:mm') > start_date) & (f.to_timestamp(f.col('FAULT_DATE_TIME'), 'M/d/yyyy HH:mm') < end_date)\n",
    "# df2 = df.filter((f.to_timestamp(f.col('FAULT_DATE_TIME'), 'yyyy-MM-dd HH:mm:ss') > start_date) & (f.to_timestamp(f.col('FAULT_DATE_TIME'), 'yyyy-MM-dd HH:mm:ss') < end_date))\\\n",
    "# .filter(f.col('FAULT_STATUS') == 'N')\n",
    "\n",
    "# df2.select(\"VIN\",\"FAULT_DATE_TIME\",\"FAULT_STATUS\").show(5)\n",
    "\n",
    "# # # "
   ]
  },
  {
   "cell_type": "code",
   "execution_count": 4,
   "id": "96a1dd9a-b9b7-477f-8daa-055a66bbd2ad",
   "metadata": {
    "jupyter": {
     "source_hidden": true
    },
    "tags": []
   },
   "outputs": [],
   "source": [
    "# Read CSV file into table\n",
    "\n",
    "spark.read.option(\"header\",True) \\\n",
    "          .csv(\"P1075_38.csv\") \\\n",
    "          .createOrReplaceTempView(\"p1075_38\")\n",
    "\n",
    "spark.read.option(\"header\",True) \\\n",
    "          .csv(\"P1075_75.csv\") \\\n",
    "          .createOrReplaceTempView(\"p1075_75\")\n",
    "\n",
    "spark.read.option(\"header\",True) \\\n",
    "          .csv(\"P1075_77.csv\") \\\n",
    "          .createOrReplaceTempView(\"p1075_77\")\n",
    "\n",
    "spark.read.option(\"header\",True) \\\n",
    "          .csv(\"P1075_86.csv\") \\\n",
    "          .createOrReplaceTempView(\"p1075_86\")\n",
    "\n",
    "spark.read.option(\"header\",True) \\\n",
    "          .csv(\"P1075_92.csv\") \\\n",
    "          .createOrReplaceTempView(\"p1075_92\")\n",
    "\n",
    "spark.read.option(\"header\",True) \\\n",
    "          .csv(\"P1075_94.csv\") \\\n",
    "          .createOrReplaceTempView(\"p1075_94\")\n",
    "\n",
    "spark.read.option(\"header\",True) \\\n",
    "          .csv(\"P0401_faults.csv\") \\\n",
    "          .createOrReplaceTempView(\"p0401_faults\")\n",
    "\n",
    "spark.read.option(\"header\",True) \\\n",
    "          .csv(\"P2457_faults.csv\") \\\n",
    "          .createOrReplaceTempView(\"p2457_faults\")\n",
    "\n",
    "spark.read.option(\"header\",True) \\\n",
    "          .csv(\"CCA Claims.csv\") \\\n",
    "          .createOrReplaceTempView(\"cca_claims\")\n",
    "\n",
    "spark.read.option(\"header\",True) \\\n",
    "          .csv(\"EGR Cooler Claims.csv\") \\\n",
    "          .createOrReplaceTempView(\"egr_cooler_claims\")\n",
    "\n",
    "spark.read.option(\"header\",True) \\\n",
    "          .csv(\"EGR FG 293 Claims.csv\") \\\n",
    "          .createOrReplaceTempView(\"egr_fg_293_claims\")\n",
    "\n",
    "spark.read.option(\"header\",True) \\\n",
    "          .csv(\"EGR Sensors.csv\") \\\n",
    "          .createOrReplaceTempView(\"egr_sensors\")\n",
    "\n",
    "spark.read.option(\"header\",True) \\\n",
    "          .csv(\"/storage/home/yqf5148/work/volvoPennState/PopulationWithChassisId.csv\") \\\n",
    "          .createOrReplaceTempView(\"population\")\n"
   ]
  },
  {
   "cell_type": "code",
   "execution_count": 5,
   "id": "f4376915-2540-43c4-9beb-3208a993c707",
   "metadata": {
    "jupyter": {
     "source_hidden": true
    },
    "tags": []
   },
   "outputs": [
    {
     "data": {
      "text/plain": [
       "DataFrame[BUSINESS_UNIT: string, CAMP_TYPE: string, CLAIM_HANDLING_DECISION: string, CLAIM_JOB_ID: string, CLAIM_REG_DATE: string, CLAIM_STATUS_DETAIL: string, CRED_DATE: string, DEB_CD: string, DEB_CD_DESC: string, DES_AREA: string, FGRP4: string, FGRP4_DESC: string, MAIN_OP: string, MAIN_OP_DESC: string, MILEAGE_MILES_CLAIM: string, PART_NAME: string, PART_NO: string, REF_NO: string, REPAIR_ID: string, REP_CNTRY: string, REP_DATE: string, REP_DEALER: string, REP_DEALER_NAME: string, REP_REGION: string, REP_STATE: string, SUPPL_NAME: string, SUPPL_NO: string, TOT_CLAIM_PAYMENT_USD: string, TOT_LABOR_PAYMENT_USD: string, TOT_MTR_PAYMENT_USD: string, TOT_OTHER_PAYMENT_USD: string, TOT_TRAVEL_PAYMENT_USD: string, VEH_AGE_CLAIM: string, VMT: string, WIS_CLAIM_ID: string, WIS_PRODUCT_ID: string, Veh Asmbly BUILT Mnth and Yr: string, APPL_TYPE: string, BRAND: string, CHASSIS_SERIES: string, CHASSIS_NO: string, COMPANY: string, CUST_NAME: string, CUST_NO: string, DEL_CNTRY: string, DEL_DEALER: string, DEL_DEALER_NAME: string, DEL_REGION: string, DEL_STATE: string, DEL_STATUS: string, ENGINE_ASSEMB_DATE: string, ENGINE_HP: string, ENGINE_MK: string, ENGINE_SIZE: string, INS_DATE: string, LAST_KNOWN_MILEAGE_MILES: string, SN_ENGINE: string, SN_GEARB: string, VEH_AGE: string, VEH_ASSEMB_DATE: string, i0 : string, VEH_MD_FAMILY: string, VEH_TYPE: string, VIN: string, _KOLA_KTX: string, _KOLA_V6C: string, _KOLA_78A: string, COM_FIELD1: string, COM_FIELD2: string, COM_FIELD3: string, COM_FIELD_4_EXTERNAL: string]"
      ]
     },
     "metadata": {},
     "output_type": "display_data"
    },
    {
     "name": "stderr",
     "output_type": "stream",
     "text": [
      "                                                                                \r"
     ]
    },
    {
     "name": "stdout",
     "output_type": "stream",
     "text": [
      "+-------------+---------+-----------------------+------------------+--------------+-------------------+---------+------+-------------------+--------+-----+----------+-------------+-------------------+-------------------+--------------------+--------+------+--------------------+---------+---------+----------+---------------+----------+---------+--------------------+--------+---------------------+---------------------+-------------------+---------------------+----------------------+-------------+---+------------+--------------+--------------------+---------+-----+--------------+----------+-------+--------------------+----------+---------+-----------+---------------+----------+---------+----------+------------------+---------+---------+-----------+----------+------------------------+---------+---------+-------+---------------+---------------+-------------+--------+-----------------+--------------------+--------------------+--------------------+--------------------+\n",
      "|BUSINESS_UNIT|CAMP_TYPE|CLAIM_HANDLING_DECISION|      CLAIM_JOB_ID|CLAIM_REG_DATE|CLAIM_STATUS_DETAIL|CRED_DATE|DEB_CD|        DEB_CD_DESC|DES_AREA|FGRP4|FGRP4_DESC|      MAIN_OP|       MAIN_OP_DESC|MILEAGE_MILES_CLAIM|           PART_NAME| PART_NO|REF_NO|           REPAIR_ID|REP_CNTRY| REP_DATE|REP_DEALER|REP_DEALER_NAME|REP_REGION|REP_STATE|          SUPPL_NAME|SUPPL_NO|TOT_CLAIM_PAYMENT_USD|TOT_LABOR_PAYMENT_USD|TOT_MTR_PAYMENT_USD|TOT_OTHER_PAYMENT_USD|TOT_TRAVEL_PAYMENT_USD|VEH_AGE_CLAIM|VMT|WIS_CLAIM_ID|WIS_PRODUCT_ID|VEHICLE_ASEMBLY_DATE|APPL_TYPE|BRAND|CHASSIS_SERIES|CHASSIS_NO|COMPANY|           CUST_NAME|   CUST_NO|DEL_CNTRY| DEL_DEALER|DEL_DEALER_NAME|DEL_REGION|DEL_STATE|DEL_STATUS|ENGINE_ASSEMB_DATE|ENGINE_HP|ENGINE_MK|ENGINE_SIZE|  INS_DATE|LAST_KNOWN_MILEAGE_MILES|SN_ENGINE| SN_GEARB|VEH_AGE|VEH_ASSEMB_DATE|VEH_ASSEMB_YEAR|VEH_MD_FAMILY|VEH_TYPE|              VIN|          COM_FIELD1|          COM_FIELD2|          COM_FIELD3|COM_FIELD_4_EXTERNAL|\n",
      "+-------------+---------+-----------------------+------------------+--------------+-------------------+---------+------+-------------------+--------+-----+----------+-------------+-------------------+-------------------+--------------------+--------+------+--------------------+---------+---------+----------+---------------+----------+---------+--------------------+--------+---------------------+---------------------+-------------------+---------------------+----------------------+-------------+---+------------+--------------+--------------------+---------+-----+--------------+----------+-------+--------------------+----------+---------+-----------+---------------+----------+---------+----------+------------------+---------+---------+-----------+----------+------------------------+---------+---------+-------+---------------+---------------+-------------+--------+-----------------+--------------------+--------------------+--------------------+--------------------+\n",
      "|           PE|        ?|                      ?|7698-N971-152062-1|     10/6/2015|             CLOSED|10/9/2015| AM_10|AM_FACTORY WARRANTY|  ENGINE| 2932|    COOLER|2932-03-02-01|EGR COOLER, REPLACE|              84835|EGR COOLER_ REPLA...|85136428|152062|M722-17857-151001...|      CAN|10/1/2015|      N971|   NORTRUX INC.|    CANADA|       AB|DERBY INDUSTRIES ...|   24608|              2764.61|                862.9|            1626.41|                275.3|                     0|           12| 50|    17474970|        251172|              Jan-14|  HIGHWAY| MACK|          M722|     17857|    NAT|WESTCAN BULK TRAN...|5351541802|      CAN|7698-999881|   NORTRUX INC.|    CANADA|       AB| DELIVERED|         1/14/2014|      500|     MACK|        D13|10/30/2014|                  331308|  1052392|710726477|     77|      1/21/2014|           2014|           CH|     CHU|1M1AN07Y8FM017857|COMPLAINT:ADVISE ...|CAUSE:EGR COOLER ...|CORRECTION:***170...|UPS 1ZA878T968960...|\n",
      "+-------------+---------+-----------------------+------------------+--------------+-------------------+---------+------+-------------------+--------+-----+----------+-------------+-------------------+-------------------+--------------------+--------+------+--------------------+---------+---------+----------+---------------+----------+---------+--------------------+--------+---------------------+---------------------+-------------------+---------------------+----------------------+-------------+---+------------+--------------+--------------------+---------+-----+--------------+----------+-------+--------------------+----------+---------+-----------+---------------+----------+---------+----------+------------------+---------+---------+-----------+----------+------------------------+---------+---------+-------+---------------+---------------+-------------+--------+-----------------+--------------------+--------------------+--------------------+--------------------+\n",
      "\n"
     ]
    },
    {
     "name": "stderr",
     "output_type": "stream",
     "text": [
      "                                                                                \r"
     ]
    },
    {
     "name": "stdout",
     "output_type": "stream",
     "text": [
      "+-------------+---------+-----------------------+------------------+--------------+-------------------+---------+------+-------------------+--------+-----+----------+-------------+-------------------+-------------------+--------------------+--------+------+--------------------+---------+---------+----------+---------------+----------+---------+--------------------+--------+---------------------+---------------------+-------------------+---------------------+----------------------+-------------+---+------------+--------------+--------------------+---------+-----+--------------+----------+-------+--------------------+----------+---------+-----------+---------------+----------+---------+----------+------------------+---------+---------+-----------+----------+------------------------+---------+---------+-------+---------------+---------------+-------------+--------+-----------------+--------------------+--------------------+--------------------+--------------------+\n",
      "|BUSINESS_UNIT|CAMP_TYPE|CLAIM_HANDLING_DECISION|      CLAIM_JOB_ID|CLAIM_REG_DATE|CLAIM_STATUS_DETAIL|CRED_DATE|DEB_CD|        DEB_CD_DESC|DES_AREA|FGRP4|FGRP4_DESC|      MAIN_OP|       MAIN_OP_DESC|MILEAGE_MILES_CLAIM|           PART_NAME| PART_NO|REF_NO|           REPAIR_ID|REP_CNTRY| REP_DATE|REP_DEALER|REP_DEALER_NAME|REP_REGION|REP_STATE|          SUPPL_NAME|SUPPL_NO|TOT_CLAIM_PAYMENT_USD|TOT_LABOR_PAYMENT_USD|TOT_MTR_PAYMENT_USD|TOT_OTHER_PAYMENT_USD|TOT_TRAVEL_PAYMENT_USD|VEH_AGE_CLAIM|VMT|WIS_CLAIM_ID|WIS_PRODUCT_ID|VEHICLE_ASEMBLY_DATE|APPL_TYPE|BRAND|CHASSIS_SERIES|CHASSIS_NO|COMPANY|           CUST_NAME|   CUST_NO|DEL_CNTRY| DEL_DEALER|DEL_DEALER_NAME|DEL_REGION|DEL_STATE|DEL_STATUS|ENGINE_ASSEMB_DATE|ENGINE_HP|ENGINE_MK|ENGINE_SIZE|  INS_DATE|LAST_KNOWN_MILEAGE_MILES|SN_ENGINE| SN_GEARB|VEH_AGE|VEH_ASSEMB_DATE|VEH_ASSEMB_YEAR|VEH_MD_FAMILY|VEH_TYPE|              VIN|          COM_FIELD1|          COM_FIELD2|          COM_FIELD3|COM_FIELD_4_EXTERNAL|\n",
      "+-------------+---------+-----------------------+------------------+--------------+-------------------+---------+------+-------------------+--------+-----+----------+-------------+-------------------+-------------------+--------------------+--------+------+--------------------+---------+---------+----------+---------------+----------+---------+--------------------+--------+---------------------+---------------------+-------------------+---------------------+----------------------+-------------+---+------------+--------------+--------------------+---------+-----+--------------+----------+-------+--------------------+----------+---------+-----------+---------------+----------+---------+----------+------------------+---------+---------+-----------+----------+------------------------+---------+---------+-------+---------------+---------------+-------------+--------+-----------------+--------------------+--------------------+--------------------+--------------------+\n",
      "|           PE|        ?|                      ?|7698-N971-152062-1|     10/6/2015|             CLOSED|10/9/2015| AM_10|AM_FACTORY WARRANTY|  ENGINE| 2932|    COOLER|2932-03-02-01|EGR COOLER, REPLACE|              84835|EGR COOLER_ REPLA...|85136428|152062|M722-17857-151001...|      CAN|10/1/2015|      N971|   NORTRUX INC.|    CANADA|       AB|DERBY INDUSTRIES ...|   24608|              2764.61|                862.9|            1626.41|                275.3|                     0|           12| 50|    17474970|        251172|              Jan-14|  HIGHWAY| MACK|          M722|     17857|    NAT|WESTCAN BULK TRAN...|5351541802|      CAN|7698-999881|   NORTRUX INC.|    CANADA|       AB| DELIVERED|         1/14/2014|      500|     MACK|        D13|10/30/2014|                  331308|  1052392|710726477|     77|      1/21/2014|           2014|           CH|     CHU|1M1AN07Y8FM017857|COMPLAINT:ADVISE ...|CAUSE:EGR COOLER ...|CORRECTION:***170...|UPS 1ZA878T968960...|\n",
      "+-------------+---------+-----------------------+------------------+--------------+-------------------+---------+------+-------------------+--------+-----+----------+-------------+-------------------+-------------------+--------------------+--------+------+--------------------+---------+---------+----------+---------------+----------+---------+--------------------+--------+---------------------+---------------------+-------------------+---------------------+----------------------+-------------+---+------------+--------------+--------------------+---------+-----+--------------+----------+-------+--------------------+----------+---------+-----------+---------------+----------+---------+----------+------------------+---------+---------+-----------+----------+------------------------+---------+---------+-------+---------------+---------------+-------------+--------+-----------------+--------------------+--------------------+--------------------+--------------------+\n",
      "\n"
     ]
    },
    {
     "name": "stderr",
     "output_type": "stream",
     "text": [
      "                                                                                \r"
     ]
    },
    {
     "name": "stdout",
     "output_type": "stream",
     "text": [
      "+-------------+---------+-----------------------+------------+--------------+-------------------+---------+------+-----------+--------+-----+----------+-------+------------+-------------------+---------+-------+------+---------+---------+--------+----------+---------------+----------+---------+----------+--------+---------------------+---------------------+-------------------+---------------------+----------------------+-------------+---+------------+--------------+--------------------+---------+-----+--------------+----------+-------+---------+-------+---------+----------+---------------+----------+---------+----------+------------------+---------+---------+-----------+--------+------------------------+---------+--------+-------+---------------+---------------+-------------+--------+---+----------+----------+----------+--------------------+\n",
      "|BUSINESS_UNIT|CAMP_TYPE|CLAIM_HANDLING_DECISION|CLAIM_JOB_ID|CLAIM_REG_DATE|CLAIM_STATUS_DETAIL|CRED_DATE|DEB_CD|DEB_CD_DESC|DES_AREA|FGRP4|FGRP4_DESC|MAIN_OP|MAIN_OP_DESC|MILEAGE_MILES_CLAIM|PART_NAME|PART_NO|REF_NO|REPAIR_ID|REP_CNTRY|REP_DATE|REP_DEALER|REP_DEALER_NAME|REP_REGION|REP_STATE|SUPPL_NAME|SUPPL_NO|TOT_CLAIM_PAYMENT_USD|TOT_LABOR_PAYMENT_USD|TOT_MTR_PAYMENT_USD|TOT_OTHER_PAYMENT_USD|TOT_TRAVEL_PAYMENT_USD|VEH_AGE_CLAIM|VMT|WIS_CLAIM_ID|WIS_PRODUCT_ID|VEHICLE_ASEMBLY_DATE|APPL_TYPE|BRAND|CHASSIS_SERIES|CHASSIS_NO|COMPANY|CUST_NAME|CUST_NO|DEL_CNTRY|DEL_DEALER|DEL_DEALER_NAME|DEL_REGION|DEL_STATE|DEL_STATUS|ENGINE_ASSEMB_DATE|ENGINE_HP|ENGINE_MK|ENGINE_SIZE|INS_DATE|LAST_KNOWN_MILEAGE_MILES|SN_ENGINE|SN_GEARB|VEH_AGE|VEH_ASSEMB_DATE|VEH_ASSEMB_YEAR|VEH_MD_FAMILY|VEH_TYPE|VIN|COM_FIELD1|COM_FIELD2|COM_FIELD3|COM_FIELD_4_EXTERNAL|\n",
      "+-------------+---------+-----------------------+------------+--------------+-------------------+---------+------+-----------+--------+-----+----------+-------+------------+-------------------+---------+-------+------+---------+---------+--------+----------+---------------+----------+---------+----------+--------+---------------------+---------------------+-------------------+---------------------+----------------------+-------------+---+------------+--------------+--------------------+---------+-----+--------------+----------+-------+---------+-------+---------+----------+---------------+----------+---------+----------+------------------+---------+---------+-----------+--------+------------------------+---------+--------+-------+---------------+---------------+-------------+--------+---+----------+----------+----------+--------------------+\n",
      "+-------------+---------+-----------------------+------------+--------------+-------------------+---------+------+-----------+--------+-----+----------+-------+------------+-------------------+---------+-------+------+---------+---------+--------+----------+---------------+----------+---------+----------+--------+---------------------+---------------------+-------------------+---------------------+----------------------+-------------+---+------------+--------------+--------------------+---------+-----+--------------+----------+-------+---------+-------+---------+----------+---------------+----------+---------+----------+------------------+---------+---------+-----------+--------+------------------------+---------+--------+-------+---------------+---------------+-------------+--------+---+----------+----------+----------+--------------------+\n",
      "\n",
      "NO\n"
     ]
    }
   ],
   "source": [
    "# fault_date_time_format='M/d/yyyy'\n",
    "fault_date_time_format = 'MM/dd/yyyy'\n",
    "\n",
    "start_date='01/01/2016'\n",
    "end_date='12/31/2021'\n",
    "\n",
    "thisVIN = \"1M1AN07Y8FM017857\"\n",
    "df_cca_claims = spark.sql(f\"SELECT * FROM cca_claims WHERE VIN = '{thisVIN}'\")\n",
    "display(df_cca_claims)\n",
    "df_egr_cooler_claims = spark.sql(f\"SELECT * FROM egr_cooler_claims WHERE VIN = '{thisVIN}'\")\n",
    "df_egr_cooler_claims.show()\n",
    "df_egr_fg_293_claims = spark.sql(f\"SELECT * FROM egr_fg_293_claims WHERE VIN = '{thisVIN}'\")\n",
    "df_egr_fg_293_claims.show()\n",
    "df_egr_sensors_claims = spark.sql(f\"SELECT * FROM egr_sensors WHERE VIN = '{thisVIN}'\")\n",
    "df_egr_sensors_claims.show()\n",
    "\n",
    "# Define filtering condition\n",
    "filter_condition = (\n",
    "    (f.to_timestamp(f.col('CLAIM_REG_DATE'), fault_date_time_format) > f.to_timestamp(f.lit(start_date), fault_date_time_format)) &\n",
    "    (f.to_timestamp(f.col('CLAIM_REG_DATE'), fault_date_time_format) < f.to_timestamp(f.lit(end_date), fault_date_time_format))\n",
    "\n",
    ")\n",
    "\n",
    "# Filter dataframes based on the condition\n",
    "df_cca_claims_part_replacements = df_cca_claims.filter(filter_condition)\n",
    "df_egr_cooler_claims_part_replacements = df_egr_cooler_claims.filter(filter_condition)\n",
    "df_egr_fg_293_claims_part_replacements = df_egr_fg_293_claims.filter(filter_condition)\n",
    "df_egr_sensors_claims_part_replacements = df_egr_sensors_claims.filter(filter_condition)\n",
    "\n",
    "# Count replacements in each table\n",
    "total_replacements = (\n",
    "    df_cca_claims_part_replacements.count() +\n",
    "    df_egr_cooler_claims_part_replacements.count() +\n",
    "    df_egr_fg_293_claims_part_replacements.count() +\n",
    "    df_egr_sensors_claims_part_replacements.count()\n",
    ")\n",
    "\n",
    "if total_replacements > 0:\n",
    "    print(\"YES\")\n",
    "else:\n",
    "    print(\"NO\")\n"
   ]
  },
  {
   "cell_type": "code",
   "execution_count": null,
   "id": "ddb1c96d-ae39-4a12-b478-8360f1cf5d65",
   "metadata": {},
   "outputs": [
    {
     "name": "stderr",
     "output_type": "stream",
     "text": [
      "                                                                                \r"
     ]
    },
    {
     "name": "stdout",
     "output_type": "stream",
     "text": [
      "322178\n",
      "Processing VIN: 1M1AW01Y9FM007831\n",
      "No part replacements found within the specified period.\n",
      "Processing VIN: 1M2AV02C4FM013537\n",
      "No part replacements found within the specified period.\n",
      "Processing VIN: 1M2AV04C5GM013710\n",
      "No part replacements found within the specified period.\n",
      "Processing VIN: 1M1AW01X8GM008414\n",
      "No part replacements found within the specified period.\n",
      "Processing VIN: 4V4NC9EH1GN939854\n",
      "CSV file saved at /storage/home/yqf5148/work/volvoPennState/data/dataset/all_VINs_part_replacements.csv\n",
      "Processing VIN: 1M1AW01Y6GM008808\n",
      "CSV file saved at /storage/home/yqf5148/work/volvoPennState/data/dataset/all_VINs_part_replacements.csv\n",
      "Processing VIN: 1M1AW06X4GM008919\n",
      "CSV file saved at /storage/home/yqf5148/work/volvoPennState/data/dataset/all_VINs_part_replacements.csv\n",
      "Processing VIN: 1M1AW01Y1GM009025\n",
      "CSV file saved at /storage/home/yqf5148/work/volvoPennState/data/dataset/all_VINs_part_replacements.csv\n",
      "Processing VIN: 1M1AW01X1HM009423\n",
      "CSV file saved at /storage/home/yqf5148/work/volvoPennState/data/dataset/all_VINs_part_replacements.csv\n",
      "Processing VIN: 1M1AW01X8HM009452\n",
      "CSV file saved at /storage/home/yqf5148/work/volvoPennState/data/dataset/all_VINs_part_replacements.csv\n",
      "Processing VIN: 1M1AW01X7HM009474\n",
      "CSV file saved at /storage/home/yqf5148/work/volvoPennState/data/dataset/all_VINs_part_replacements.csv\n",
      "Processing VIN: 1M1AW01X5HM009487\n",
      "CSV file saved at /storage/home/yqf5148/work/volvoPennState/data/dataset/all_VINs_part_replacements.csv\n",
      "Processing VIN: 1M2AV04C3GM014709\n",
      "CSV file saved at /storage/home/yqf5148/work/volvoPennState/data/dataset/all_VINs_part_replacements.csv\n",
      "Processing VIN: 4V4NC9EJXGN940469\n",
      "CSV file saved at /storage/home/yqf5148/work/volvoPennState/data/dataset/all_VINs_part_replacements.csv\n",
      "Processing VIN: 4V4NC9EH6GN940496\n",
      "CSV file saved at /storage/home/yqf5148/work/volvoPennState/data/dataset/all_VINs_part_replacements.csv\n",
      "Processing VIN: 4V4NC9EH0GN940753\n",
      "CSV file saved at /storage/home/yqf5148/work/volvoPennState/data/dataset/all_VINs_part_replacements.csv\n",
      "Processing VIN: 4V4NC9EHXGN940789\n",
      "CSV file saved at /storage/home/yqf5148/work/volvoPennState/data/dataset/all_VINs_part_replacements.csv\n",
      "Processing VIN: 1M2AV04C8GM015452\n",
      "CSV file saved at /storage/home/yqf5148/work/volvoPennState/data/dataset/all_VINs_part_replacements.csv\n",
      "Processing VIN: 1M2AV02CXGM015651\n",
      "CSV file saved at /storage/home/yqf5148/work/volvoPennState/data/dataset/all_VINs_part_replacements.csv\n",
      "Processing VIN: 4V4N39EG3GN941581\n",
      "CSV file saved at /storage/home/yqf5148/work/volvoPennState/data/dataset/all_VINs_part_replacements.csv\n",
      "Processing VIN: 4V4NC9EH5GN941977\n",
      "CSV file saved at /storage/home/yqf5148/work/volvoPennState/data/dataset/all_VINs_part_replacements.csv\n",
      "Processing VIN: 1M2AV04C2HM016873\n",
      "CSV file saved at /storage/home/yqf5148/work/volvoPennState/data/dataset/all_VINs_part_replacements.csv\n",
      "Processing VIN: 4V4NC9EG4GN942626\n",
      "CSV file saved at /storage/home/yqf5148/work/volvoPennState/data/dataset/all_VINs_part_replacements.csv\n",
      "Processing VIN: 4V4NC9EG4GN942660\n",
      "CSV file saved at /storage/home/yqf5148/work/volvoPennState/data/dataset/all_VINs_part_replacements.csv\n",
      "Processing VIN: 1M2AV02C1JM017523\n",
      "CSV file saved at /storage/home/yqf5148/work/volvoPennState/data/dataset/all_VINs_part_replacements.csv\n",
      "Processing VIN: 1M2AV02C9JM017785\n",
      "CSV file saved at /storage/home/yqf5148/work/volvoPennState/data/dataset/all_VINs_part_replacements.csv\n",
      "Processing VIN: 1M2AV04C5JM018106\n",
      "CSV file saved at /storage/home/yqf5148/work/volvoPennState/data/dataset/all_VINs_part_replacements.csv\n",
      "Processing VIN: 4V4NC9EJ0GN943235\n",
      "CSV file saved at /storage/home/yqf5148/work/volvoPennState/data/dataset/all_VINs_part_replacements.csv\n",
      "Processing VIN: 4V4NC9EH6GN943396\n",
      "CSV file saved at /storage/home/yqf5148/work/volvoPennState/data/dataset/all_VINs_part_replacements.csv\n",
      "Processing VIN: 4V4NC9EJ1GN943566\n"
     ]
    }
   ],
   "source": [
    "import pandas as pd\n",
    "from pyspark.sql import functions as f\n",
    "from pyspark.sql.utils import AnalysisException\n",
    "\n",
    "# Path to output CSV file\n",
    "output_csv_path = \"/storage/home/yqf5148/work/volvoPennState/data/dataset/all_VINs_part_replacements.csv\"\n",
    "\n",
    "# Initialize an empty list to store the results\n",
    "replacement_records = []\n",
    "\n",
    "# Read VINs data\n",
    "# path_to_VINs_data_part_repl = \"/storage/home/yqf5148/work/volvoPennState/data/dataset/VINs_data.csv\"\n",
    "# VINs_their_part_repl_is_checked = pd.read_csv(path_to_VINs_data_part_repl, header=None, names=['VIN'], index_col=False, dtype='unicode')\n",
    "\n",
    "\n",
    "df_all_pop_VINs = spark.sql('select distinct VIN from population ') \n",
    "df_pop_VINs_p = df_all_pop_VINs.toPandas()\n",
    "print(df_all_pop_VINs.count())\n",
    "\n",
    "\n",
    "# Set Spark SQL legacy time parser policy to LEGACY to handle older date formats\n",
    "spark.conf.set(\"spark.sql.legacy.timeParserPolicy\", \"LEGACY\")\n",
    "\n",
    "for index, row in df_pop_VINs_p.iterrows():\n",
    "    thisVIN = row['VIN']\n",
    "    # thisVIN = \"1M1AN07Y8FM017857\"\n",
    "    print(f\"Processing VIN: {thisVIN}\")\n",
    "\n",
    "    fault_date_time_format = 'MM/dd/yyyy'\n",
    "    start_date = '2014-12-31'\n",
    "    end_date = '2021-12-31'\n",
    "\n",
    "    # Load all claims tables for the specific VIN\n",
    "    claims_datasets = {\n",
    "        'cca_claims': f\"SELECT VIN, CLAIM_REG_DATE, TOT_CLAIM_PAYMENT_USD FROM cca_claims WHERE VIN = '{thisVIN}'\",\n",
    "        'egr_cooler_claims': f\"SELECT VIN, CLAIM_REG_DATE, TOT_CLAIM_PAYMENT_USD FROM egr_cooler_claims WHERE VIN = '{thisVIN}'\",\n",
    "        'egr_fg_293_claims': f\"SELECT VIN, CLAIM_REG_DATE, TOT_CLAIM_PAYMENT_USD FROM egr_fg_293_claims WHERE VIN = '{thisVIN}'\",\n",
    "        'egr_sensors_claims': f\"SELECT VIN, CLAIM_REG_DATE, TOT_CLAIM_PAYMENT_USD FROM egr_sensors WHERE VIN = '{thisVIN}'\"\n",
    "    }\n",
    "\n",
    "    # Define filtering condition with corrected date format\n",
    "    for dataset_name, query in claims_datasets.items():\n",
    "        try:\n",
    "            df_claims = spark.sql(query)\n",
    "\n",
    "            if df_claims is not None and df_claims.count() > 0:\n",
    "                # print(\"hhssss\")\n",
    "\n",
    "                # df_claims.printSchema()  # Debugging step\n",
    "                # df_claims.show(5, truncate=False)  # Show sample data\n",
    "\n",
    "                df_claims = df_claims.withColumn(\"CLAIM_REG_DATE\", f.to_date(f.col(\"CLAIM_REG_DATE\"), \"MM/dd/yyyy\"))\n",
    "\n",
    "                # Try alternative filtering\n",
    "                df_filtered = df_claims.filter(\n",
    "                    (f.col('CLAIM_REG_DATE') >= f.to_date(f.lit(start_date), \"yyyy-MM-dd\")) &\n",
    "                    (f.col('CLAIM_REG_DATE') <= f.to_date(f.lit(end_date), \"yyyy-MM-dd\"))\n",
    "                )\n",
    "\n",
    "                # df_filtered.show(5, truncate=False)  # Show filtered data\n",
    "\n",
    "                if df_filtered is not None and df_filtered.count() > 0:\n",
    "                    # print(\"kooo\")\n",
    "                    for row in df_filtered.collect():\n",
    "                        replacement_records.append([thisVIN, dataset_name, row['CLAIM_REG_DATE'], row['TOT_CLAIM_PAYMENT_USD']])\n",
    "\n",
    "        except AnalysisException as e:\n",
    "            print(f\"Error processing dataset {dataset_name} for VIN {thisVIN}: {e}\")\n",
    "\n",
    "    # Convert list to DataFrame and save as CSV\n",
    "    if replacement_records:\n",
    "        df_output = pd.DataFrame(replacement_records, columns=['VIN', 'Dataset', 'Claim_Registration_Date', 'TOT_CLAIM_PAYMENT_USD'])\n",
    "        df_output.to_csv(output_csv_path, index = None, mode = 'a', header=False) \n",
    "        print(f\"CSV file saved at {output_csv_path}\")\n",
    "    else:\n",
    "        print(\"No part replacements found within the specified period.\")\n"
   ]
  },
  {
   "cell_type": "code",
   "execution_count": null,
   "id": "e2d01bb6-3c88-40aa-9bdd-5e5efefff237",
   "metadata": {},
   "outputs": [],
   "source": []
  }
 ],
 "metadata": {
  "kernelspec": {
   "display_name": "Python 3 (ipykernel)",
   "language": "python",
   "name": "python3"
  },
  "language_info": {
   "codemirror_mode": {
    "name": "ipython",
    "version": 3
   },
   "file_extension": ".py",
   "mimetype": "text/x-python",
   "name": "python",
   "nbconvert_exporter": "python",
   "pygments_lexer": "ipython3",
   "version": "3.10.4"
  }
 },
 "nbformat": 4,
 "nbformat_minor": 5
}
