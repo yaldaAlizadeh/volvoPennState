{
 "cells": [
  {
   "cell_type": "code",
   "execution_count": 1,
   "id": "cf3d3a5e-b423-4548-93bf-d0fda4cba18c",
   "metadata": {},
   "outputs": [
    {
     "name": "stdout",
     "output_type": "stream",
     "text": [
      "env: JAVA_HOME=/usr/lib/jvm/java-11-openjdk-11.0.25.0.9-2.el8.x86_64\n",
      "env: PATH=/storage/home/yqf5148/work/anaconda3/envs/volvopennstate-env/bin:storage/icds/swst/deployed/production/20220813/apps/anaconda3/2021.05_gcc-8.5.0/bin:/usr/lib/jvm/java-11-openjdk-11.0.25.0.9-2.el8.x86_64/bin/java:/usr/local/bin:/usr/bin:/usr/local/sbin:/usr/sbin:/storage/icds/tools/bin:/storage/sys/slurm/bin:/storage/icds/tools/bin:/storage/sys/slurm/bin:/storage/icds/tools/bin:/storage/sys/slurm/bin:/storage/icds/tools/bin:/storage/sys/slurm/bin:/storage/icds/tools/bin:/storage/sys/slurm/bin\n"
     ]
    }
   ],
   "source": [
    "%env JAVA_HOME=/usr/lib/jvm/java-11-openjdk-11.0.25.0.9-2.el8.x86_64\n",
    "%env PATH=/storage/home/yqf5148/work/anaconda3/envs/volvopennstate-env/bin:storage/icds/swst/deployed/production/20220813/apps/anaconda3/2021.05_gcc-8.5.0/bin:/usr/lib/jvm/java-11-openjdk-11.0.25.0.9-2.el8.x86_64/bin/java:/usr/local/bin:/usr/bin:/usr/local/sbin:/usr/sbin:/storage/icds/tools/bin:/storage/sys/slurm/bin:/storage/icds/tools/bin:/storage/sys/slurm/bin:/storage/icds/tools/bin:/storage/sys/slurm/bin:/storage/icds/tools/bin:/storage/sys/slurm/bin:/storage/icds/tools/bin:/storage/sys/slurm/bin"
   ]
  },
  {
   "cell_type": "code",
   "execution_count": 2,
   "id": "d297e840-bd72-435b-8010-2d356fe8e3b4",
   "metadata": {},
   "outputs": [
    {
     "name": "stderr",
     "output_type": "stream",
     "text": [
      "ps: /storage/icds/RISE/sw8/anaconda/anaconda3/envs/tensorflow/lib/libuuid.so.1: no version information available (required by /usr/lib64/libblkid.so.1)\n",
      "Setting default log level to \"WARN\".\n",
      "To adjust logging level use sc.setLogLevel(newLevel). For SparkR, use setLogLevel(newLevel).\n",
      "24/10/28 19:56:48 WARN NativeCodeLoader: Unable to load native-hadoop library for your platform... using builtin-java classes where applicable\n",
      "24/10/28 19:56:53 WARN SparkStringUtils: Truncated the string representation of a plan since it was too large. This behavior can be adjusted by setting 'spark.sql.debug.maxToStringFields'.\n"
     ]
    }
   ],
   "source": [
    "import findspark\n",
    "import pandas as pd\n",
    "import numpy as np\n",
    "import matplotlib.pyplot as plt\n",
    "\n",
    "import pyspark as psk  \n",
    "from pyspark import SparkConf, SparkContext\n",
    "from pyspark.sql import SparkSession\n",
    "from pyspark.sql.types import *\n",
    "from pyspark.sql import functions as f\n",
    "from pyspark.sql import Row\n",
    "from pyspark.sql.types import StructType, StructField, StringType\n",
    "from pyspark.sql import DataFrame\n",
    "from pyspark.sql.functions import *\n",
    "\n",
    "import time as t \n",
    "from datetime import date, datetime, timedelta\n",
    "from joblib import Parallel, delayed\n",
    "import multiprocessing\n",
    "from functools import reduce  \n",
    "from math import modf\n",
    "import sqlite3\n",
    "import os\n",
    "import sys\n",
    "\n",
    "from delta import * \n",
    "from delta.tables import *\n",
    "from delta import configure_spark_with_delta_pip\n",
    "from IPython import get_ipython\n",
    "\n",
    "\n",
    "findspark.init()\n",
    "findspark.find()\n",
    "\n",
    "os.environ['PYSPARK_PYTHON'] = sys.executable\n",
    "os.environ['PYSPARK_DRIVER_PYTHON'] = sys.executable\n",
    "\n",
    "conf = (SparkConf().set(\"spark.driver.maxResultSize\", \"4g\"))\n",
    "\n",
    "# Create new context\n",
    "sc = SparkContext(conf=conf)\n",
    "\n",
    "\n",
    "# sc = SparkContext(\"local\", \"Simple App\")\n",
    "\n",
    "# Create SparkSession \n",
    "spark = SparkSession.builder \\\n",
    "       .master(\"local[2]\") \\\n",
    "       .appName(\"test\") \\\n",
    "       .config(\"spark.driver.maxResultSize\", \"20g\")\\\n",
    "       .config(\"spark.driver.memory\", \"100g\")\\\n",
    "       .getOrCreate()\n",
    "\n",
    "spark.sql(\"set spark.sql.legacy.timeParserPolicy=LEGACY\")    #To resolve the error for p1075_38 to_timestamp formating: You may get a different result due to the upgrading to Spark >= 3.0: Fail to parse '1/2/2019 20:40:00' in the new parser. You can set spark.sql.legacy.timeParserPolicy to LEGACY to restore the behavior before Spark 3.0, or set to CORRECTED and treat it as an invalid datetime string.\n",
    "\n",
    "spark.read.option(\"header\",True) \\\n",
    "          .csv(\"/storage/home/yqf5148/work/volvoPennState/PopulationWithChassisId.csv\") \\\n",
    "          .createOrReplaceTempView(\"population\")\n",
    "\n",
    "df_population = spark.sql(\"SELECT * FROM population\")"
   ]
  },
  {
   "cell_type": "code",
   "execution_count": 3,
   "id": "c49bf7c1-f72a-4d7e-b67f-b5aa8f8a7220",
   "metadata": {},
   "outputs": [],
   "source": [
    "calculated_features = [    \n",
    "          \"calendar_day\", \n",
    "          \"f_1_dtc38_1th_15d\", \n",
    "          \"f_1_dtc38_2nd_15d\", \n",
    "          \"f_2_dtc38_1th_15d\", \n",
    "          \"f_2_dtc38_2nd_15d\", \n",
    "          \"f_3_dtc38_1th_15d\", \n",
    "          \"f_3_dtc38_2nd_15d\", \n",
    "          \"f_4_dtc38_1th_15d\", \n",
    "          \"f_4_dtc38_2nd_15d\", \n",
    "          \"f_5_dtc38_1th_15d\", \n",
    "          \"f_5_dtc38_2nd_15d\", \n",
    "          \"f_6_dtc38_1th_15d\", \n",
    "          \"f_6_dtc38_2nd_15d\", \n",
    "          \"f_7_dtc38_1th_15d\", \n",
    "          \"f_7_dtc38_2nd_15d\", \n",
    "          \"f_8_dtc38_1th_15d\", \n",
    "          \"f_8_dtc38_2nd_15d\", \n",
    "\n",
    "          \"f_1_dtc75_1th_15d\", \n",
    "          \"f_1_dtc75_2nd_15d\", \n",
    "          \"f_2_dtc75_1th_15d\", \n",
    "          \"f_2_dtc75_2nd_15d\", \n",
    "          \"f_3_dtc75_1th_15d\", \n",
    "          \"f_3_dtc75_2nd_15d\", \n",
    "          \"f_4_dtc75_1th_15d\", \n",
    "          \"f_4_dtc75_2nd_15d\", \n",
    "          \"f_5_dtc75_1th_15d\", \n",
    "          \"f_5_dtc75_2nd_15d\", \n",
    "          \"f_6_dtc75_1th_15d\", \n",
    "          \"f_6_dtc75_2nd_15d\", \n",
    "          \"f_7_dtc75_1th_15d\", \n",
    "          \"f_7_dtc75_2nd_15d\", \n",
    "          \"f_8_dtc75_1th_15d\", \n",
    "          \"f_8_dtc75_2nd_15d\",\n",
    "\n",
    "\n",
    "          \"f_1_dtc77_1th_15d\", \n",
    "          \"f_1_dtc77_2nd_15d\", \n",
    "          \"f_2_dtc77_1th_15d\", \n",
    "          \"f_2_dtc77_2nd_15d\", \n",
    "          \"f_3_dtc77_1th_15d\", \n",
    "          \"f_3_dtc77_2nd_15d\", \n",
    "          \"f_4_dtc77_1th_15d\", \n",
    "          \"f_4_dtc77_2nd_15d\", \n",
    "          \"f_5_dtc77_1th_15d\", \n",
    "          \"f_5_dtc77_2nd_15d\", \n",
    "          \"f_6_dtc77_1th_15d\", \n",
    "          \"f_6_dtc77_2nd_15d\", \n",
    "          \"f_7_dtc77_1th_15d\", \n",
    "          \"f_7_dtc77_2nd_15d\", \n",
    "          \"f_8_dtc77_1th_15d\", \n",
    "          \"f_8_dtc77_2nd_15d\",\n",
    "\n",
    "\n",
    "          \"f_1_dtc86_1th_15d\", \n",
    "          \"f_1_dtc86_2nd_15d\", \n",
    "          \"f_2_dtc86_1th_15d\", \n",
    "          \"f_2_dtc86_2nd_15d\", \n",
    "          \"f_3_dtc86_1th_15d\", \n",
    "          \"f_3_dtc86_2nd_15d\", \n",
    "          \"f_4_dtc86_1th_15d\", \n",
    "          \"f_4_dtc86_2nd_15d\", \n",
    "          \"f_5_dtc86_1th_15d\", \n",
    "          \"f_5_dtc86_2nd_15d\", \n",
    "          \"f_6_dtc86_1th_15d\", \n",
    "          \"f_6_dtc86_2nd_15d\", \n",
    "          \"f_7_dtc86_1th_15d\", \n",
    "          \"f_7_dtc86_2nd_15d\", \n",
    "          \"f_8_dtc86_1th_15d\", \n",
    "          \"f_8_dtc86_2nd_15d\",\n",
    "\n",
    "\n",
    "          \"f_1_dtc92_1th_15d\", \n",
    "          \"f_1_dtc92_2nd_15d\", \n",
    "          \"f_2_dtc92_1th_15d\", \n",
    "          \"f_2_dtc92_2nd_15d\", \n",
    "          \"f_3_dtc92_1th_15d\", \n",
    "          \"f_3_dtc92_2nd_15d\", \n",
    "          \"f_4_dtc92_1th_15d\", \n",
    "          \"f_4_dtc92_2nd_15d\", \n",
    "          \"f_5_dtc92_1th_15d\", \n",
    "          \"f_5_dtc92_2nd_15d\", \n",
    "          \"f_6_dtc92_1th_15d\", \n",
    "          \"f_6_dtc92_2nd_15d\", \n",
    "          \"f_7_dtc92_1th_15d\", \n",
    "          \"f_7_dtc92_2nd_15d\", \n",
    "          \"f_8_dtc92_1th_15d\", \n",
    "          \"f_8_dtc92_2nd_15d\",\n",
    "\n",
    "\n",
    "          \"f_1_dtc94_1th_15d\", \n",
    "          \"f_1_dtc94_2nd_15d\", \n",
    "          \"f_2_dtc94_1th_15d\", \n",
    "          \"f_2_dtc94_2nd_15d\", \n",
    "          \"f_3_dtc94_1th_15d\", \n",
    "          \"f_3_dtc94_2nd_15d\", \n",
    "          \"f_4_dtc94_1th_15d\", \n",
    "          \"f_4_dtc94_2nd_15d\", \n",
    "          \"f_5_dtc94_1th_15d\", \n",
    "          \"f_5_dtc94_2nd_15d\", \n",
    "          \"f_6_dtc94_1th_15d\", \n",
    "          \"f_6_dtc94_2nd_15d\", \n",
    "          \"f_7_dtc94_1th_15d\", \n",
    "          \"f_7_dtc94_2nd_15d\", \n",
    "          \"f_8_dtc94_1th_15d\", \n",
    "          \"f_8_dtc94_2nd_15d\",\n",
    "\n",
    "\n",
    "          \"f_1_dtc0401_1th_15d\", \n",
    "          \"f_1_dtc0401_2nd_15d\", \n",
    "          \"f_2_dtc0401_1th_15d\", \n",
    "          \"f_2_dtc0401_2nd_15d\", \n",
    "          \"f_3_dtc0401_1th_15d\", \n",
    "          \"f_3_dtc0401_2nd_15d\", \n",
    "          \"f_4_dtc0401_1th_15d\", \n",
    "          \"f_4_dtc0401_2nd_15d\", \n",
    "          \"f_5_dtc0401_1th_15d\", \n",
    "          \"f_5_dtc0401_2nd_15d\", \n",
    "          \"f_6_dtc0401_1th_15d\", \n",
    "          \"f_6_dtc0401_2nd_15d\", \n",
    "          \"f_7_dtc0401_1th_15d\", \n",
    "          \"f_7_dtc0401_2nd_15d\", \n",
    "          \"f_8_dtc0401_1th_15d\", \n",
    "          \"f_8_dtc0401_2nd_15d\",\n",
    "\n",
    "\n",
    "          \"f_1_dtc2457_1th_15d\", \n",
    "          \"f_1_dtc2457_2nd_15d\", \n",
    "          \"f_2_dtc2457_1th_15d\", \n",
    "          \"f_2_dtc2457_2nd_15d\", \n",
    "          \"f_3_dtc2457_1th_15d\", \n",
    "          \"f_3_dtc2457_2nd_15d\", \n",
    "          \"f_4_dtc2457_1th_15d\", \n",
    "          \"f_4_dtc2457_2nd_15d\", \n",
    "          \"f_5_dtc2457_1th_15d\", \n",
    "          \"f_5_dtc2457_2nd_15d\", \n",
    "          \"f_6_dtc2457_1th_15d\", \n",
    "          \"f_6_dtc2457_2nd_15d\", \n",
    "          \"f_7_dtc2457_1th_15d\", \n",
    "          \"f_7_dtc2457_2nd_15d\", \n",
    "          \"f_8_dtc2457_1th_15d\", \n",
    "          \"f_8_dtc2457_2nd_15d\",\n",
    "\n",
    "          \"if_parts_replaced_in_1th_15d\", \n",
    "          \"if_parts_replaced_in_2nd_15d\"]"
   ]
  },
  {
   "cell_type": "markdown",
   "id": "ddeba5b4-0edc-4716-aaaf-f735b9c53b28",
   "metadata": {},
   "source": [
    "# Functions"
   ]
  },
  {
   "cell_type": "code",
   "execution_count": 4,
   "id": "3baa59e0-9a98-41e3-a35a-3424c627a088",
   "metadata": {},
   "outputs": [],
   "source": [
    "'''\n",
    "Data Normalization Using Z-score Method\n",
    "The z-score method (often called standardization) transforms the info into distribution with a mean of 0 and a typical deviation of 1. \n",
    "Each standardized value is computed by subtracting the mean of the corresponding feature then dividing by the quality deviation.\n",
    "\n",
    "One standard is to include an epsilon variable that prevents divide by zero. \n",
    "Epsilon is an intentional error added to calculations to prevent creating NaN or Inf.\n",
    "Fact about z-score[column] = 0: mSince the standard deviation is calculated by taking \n",
    "the sum of the squared deviations from the mean, a zero standard deviation can only be possible \n",
    "when all the values of a variable are the same (all equal to the mean). \n",
    "In this case, those variables have no discriminative power so they can be removed from the analysis. \n",
    "They cannot improve any classification, clustering or regression task. \n",
    "Many implementations will do it for you or throw an error about a matrix calculation.\n",
    "'''\n",
    "def normalize_numerical_data(df_numeric_columns):\n",
    "   #first 2 columns, ENGIN_HP and calendar_day are not normalized and neither the latest two columns (target calumns), parts_are_replaced columns\n",
    "    number_of_numeric_features = len(df_numeric_columns.columns)-2\n",
    "    epsilon=1e-100\n",
    "    for column in df_numeric_columns.iloc[:,2:number_of_numeric_features].columns:\n",
    "        df_numeric_columns[column] = (df_numeric_columns[column] -\n",
    "                               df_numeric_columns[column].mean()) / (df_numeric_columns[column].std()+epsilon)\n",
    "\n",
    "    return df_numeric_columns\n",
    "\n",
    "\n",
    "\n",
    "def normalize_numeric_feature_values(statement_in_feature_name, df):\n",
    "\n",
    "  selected_col_names_list = [col for col in df.columns.values if statement_in_feature_name in col]   # selects names of columns that contain specific string\n",
    "\n",
    "  selected_cols = df[selected_col_names_list]\n",
    "  # for col_name in selected_col_names_list:\n",
    "      # selected_cols[col_name] = selected_cols[col_name].str.replace(\",\",\".\")\n",
    "      # selected_cols[col_name] = selected_cols[col_name].apply(lambda x: float(x.split()[0]))\n",
    "  selected_cols_norm = selected_cols.apply(lambda iterator: ((iterator - iterator.mean())/(iterator.max() - iterator.min())).round(3))\n",
    "\n",
    "  df[selected_cols_norm.columns] = selected_cols_norm\n",
    "  return df\n",
    "\n",
    "\n",
    "def check_non_empty_string(input_string):\n",
    "    if not isinstance(input_string, str):\n",
    "        return False\n",
    "    \n",
    "    if input_string.strip() == \"\":\n",
    "        return False\n",
    "    \n",
    "    return True\n",
    "\n",
    "\n",
    "\n",
    "'''\n",
    "Perform z-score normalization by subtracting the mean and dividing by the standard deviation (or the replaced value).\n",
    "\n",
    "'''\n",
    "def normalize_sparse_dataframe(df, skip_this_col):\n",
    "    \"\"\"\n",
    "    Normalize a DataFrame with float numeric values, ensuring no NaN values are produced.\n",
    "    \"\"\"\n",
    "    original_df = df\n",
    "    columns_to_normalize = df.columns\n",
    "    \n",
    "    # First exclude this column (if necessary)\n",
    "    if check_non_empty_string(skip_this_col):\n",
    "        columns_to_normalize = [col for col in df.columns if skip_this_col not in col]\n",
    "        df = df[columns_to_normalize]\n",
    "        \n",
    "    # Calculate the mean and standard deviation for each column\n",
    "    mean = df.mean()\n",
    "    std = df.std()\n",
    "    \n",
    "    # Avoid division by zero by setting std deviations of 0 to 1 (no scaling for those columns)\n",
    "    std_replaced = std.replace(0, 1)\n",
    "    \n",
    "    # Perform the normalization\n",
    "    normalized_df = (df - mean) / std_replaced\n",
    "    original_df[columns_to_normalize] = normalized_df\n",
    "    \n",
    "    return original_df\n",
    "\n",
    "\n",
    "\n",
    "def preprocess_csv(file_path, fixed_file_path, expected_columns):\n",
    "    \"\"\"\n",
    "    Preprocess the CSV file to fix bad lines.\n",
    "\n",
    "    Parameters:\n",
    "    - file_path: Path to the input CSV file.\n",
    "    - fixed_file_path: Path to save the fixed CSV file.\n",
    "    - expected_columns: Expected number of columns in the CSV file.\n",
    "    \"\"\"\n",
    "    with open(file_path, 'r', encoding='utf-8') as infile, open(fixed_file_path, 'w', encoding='utf-8') as outfile:\n",
    "        buffer = \"\"\n",
    "        line_count = 0\n",
    "        skipped_lines = 0\n",
    "        for line in infile:\n",
    "            line_count += 1\n",
    "            if not buffer:\n",
    "                buffer = line.strip()\n",
    "            else:\n",
    "                buffer += ' ' + line.strip()\n",
    "            \n",
    "            # Check the number of columns\n",
    "            columns_count = buffer.count(',') + 1\n",
    "            if columns_count == expected_columns:\n",
    "                outfile.write(buffer + '\\n')\n",
    "                buffer = \"\"\n",
    "            elif columns_count > expected_columns:\n",
    "                # Too many columns, reset the buffer\n",
    "                print(f\"Skipping malformed line (line {line_count})\")\n",
    "                buffer = \"\"\n",
    "                skipped_lines += 1\n",
    "        \n",
    "        # Write any remaining buffered line if it has the correct number of columns\n",
    "        if buffer and buffer.count(',') + 1 == expected_columns:\n",
    "            outfile.write(buffer + '\\n')\n",
    "        \n",
    "        print(f\"Total lines processed: {line_count}\")\n",
    "        print(f\"Total lines skipped: {skipped_lines}\")\n",
    "\n",
    "\n",
    "        \n",
    "def update_VINs_data_file_maker(cleanedNormalized_resultedData, VINs_data_file_path):\n",
    "    df = cleanedNormalized_resultedData[pd.to_numeric(cleanedNormalized_resultedData['calendar_day']) > 1804]    \n",
    "    df = df[['VIN', 'calendar_day']]  #.filter(pd.to_numeric(cleanedNormalized_resultedData['calendar_day']) > 1804) when .filter is used only column inside the filter condition will be selected. \n",
    "    df.sort_values(['VIN', 'calendar_day'], ascending=[True, False], inplace=True)   # Also true and works the same:   df = df.sort_values(by=['VIN', 'calendar_day'], ascending=[True, False])\n",
    "\n",
    "    # Drop duplicates, keeping the first occurrence (which has the maximum side column value due to sorting)\n",
    "    df = df.drop_duplicates(subset='VIN', keep='first')\n",
    "    df.columns = ['VIN', 'TOTAL_ROWS']\n",
    "    # Save the modified DataFrame back to an Excel file\n",
    "    df.to_csv(VINs_data_file_path, index = None, mode = 'w', header=False)\n",
    "    return\n",
    "  \n",
    "                \n",
    "'''\n",
    "This converts a bytes string to a float between 0.0 and 1.0. If we are using a unicode string (e.g., in python 3), then we need to encode it. \n",
    "This should give the same result on any machine and any version of python (tested on python 2.7 and 3.5).'''\n",
    "\n",
    "def is_valid_VIN(vin):\n",
    "    \"\"\"\n",
    "    Validate a Vehicle Identification Number (VIN).\n",
    "    \n",
    "    Args:\n",
    "    vin (str): The VIN to validate.\n",
    "\n",
    "    Returns:\n",
    "    bool: True if the VIN is valid, False otherwise.\n",
    "    \"\"\"\n",
    "    if size(vin) != 17:\n",
    "        return 0  # VIN must be exactly 17 characters\n",
    "    \n",
    "    # Check for invalid characters (I, O, Q are not used in VINs to avoid confusion with numbers)\n",
    "    if any(char in 'IOQ' for char in vin):\n",
    "        return 0\n",
    "\n",
    "    # VIN Check digit calculation (position 9)\n",
    "    transliteration_dict = {\n",
    "        '0': 0, '1': 1, '2': 2, '3': 3, '4': 4,\n",
    "        '5': 5, '6': 6, '7': 7, '8': 8, '9': 9,\n",
    "        'A': 1, 'B': 2, 'C': 3, 'D': 4, 'E': 5,\n",
    "        'F': 6, 'G': 7, 'H': 8, 'J': 1, 'K': 2,\n",
    "        'L': 3, 'M': 4, 'N': 5, 'P': 7, 'R': 9,\n",
    "        'S': 2, 'T': 3, 'U': 4, 'V': 5, 'W': 6,\n",
    "        'X': 7, 'Y': 8, 'Z': 9\n",
    "    }\n",
    "    weights = [8, 7, 6, 5, 4, 3, 2, 10, 0, 9, 8, 7, 6, 5, 4, 3, 2]\n",
    "    \n",
    "    # Calculate the check sum\n",
    "    check_sum = 0\n",
    "    for i, char in enumerate(vin):\n",
    "        if char in transliteration_dict:\n",
    "            check_sum += transliteration_dict[char] * weights[i]\n",
    "    \n",
    "    # Determine the check digit\n",
    "    check_digit = check_sum % 11\n",
    "    check_digit = 'X' if check_digit == 10 else str(check_digit)\n",
    "    \n",
    "    # Check digit is the 9th character in the VIN\n",
    "    if vin[8] == check_digit:\n",
    "        return 1\n",
    "    else:\n",
    "        return 0\n"
   ]
  },
  {
   "cell_type": "markdown",
   "id": "af89a771-841c-4312-a1da-9bc9d3f9dd7e",
   "metadata": {},
   "source": [
    "# Loading Generated Dataframe"
   ]
  },
  {
   "cell_type": "code",
   "execution_count": 5,
   "id": "fa9282eb-d227-4a7b-b078-cfefd865b19b",
   "metadata": {
    "tags": []
   },
   "outputs": [
    {
     "name": "stdout",
     "output_type": "stream",
     "text": [
      "Skipping malformed line (line 173)\n",
      "Skipping malformed line (line 222)\n",
      "Skipping malformed line (line 729)\n",
      "Skipping malformed line (line 890)\n",
      "Skipping malformed line (line 1033)\n",
      "Skipping malformed line (line 2085)\n",
      "Skipping malformed line (line 2125)\n",
      "Skipping malformed line (line 4465)\n",
      "Skipping malformed line (line 6082)\n",
      "Skipping malformed line (line 6469)\n",
      "Skipping malformed line (line 7210)\n",
      "Skipping malformed line (line 7264)\n",
      "Skipping malformed line (line 7970)\n",
      "Skipping malformed line (line 8339)\n",
      "Skipping malformed line (line 8971)\n",
      "Skipping malformed line (line 9863)\n",
      "Skipping malformed line (line 10315)\n",
      "Skipping malformed line (line 10356)\n",
      "Skipping malformed line (line 10536)\n",
      "Skipping malformed line (line 11132)\n",
      "Skipping malformed line (line 11617)\n",
      "Skipping malformed line (line 11717)\n",
      "Skipping malformed line (line 11783)\n",
      "Skipping malformed line (line 12677)\n",
      "Skipping malformed line (line 13773)\n",
      "Skipping malformed line (line 13850)\n",
      "Skipping malformed line (line 14483)\n",
      "Skipping malformed line (line 15339)\n",
      "Skipping malformed line (line 15346)\n",
      "Skipping malformed line (line 16296)\n",
      "Skipping malformed line (line 16936)\n",
      "Skipping malformed line (line 17852)\n",
      "Skipping malformed line (line 18078)\n",
      "Skipping malformed line (line 19066)\n",
      "Skipping malformed line (line 19534)\n",
      "Skipping malformed line (line 20698)\n",
      "Skipping malformed line (line 21007)\n",
      "Skipping malformed line (line 21702)\n",
      "Skipping malformed line (line 22938)\n",
      "Skipping malformed line (line 26099)\n",
      "Skipping malformed line (line 26278)\n",
      "Skipping malformed line (line 26714)\n",
      "Skipping malformed line (line 27273)\n",
      "Skipping malformed line (line 27703)\n",
      "Skipping malformed line (line 28292)\n",
      "Skipping malformed line (line 29679)\n",
      "Skipping malformed line (line 30398)\n",
      "Skipping malformed line (line 30405)\n",
      "Skipping malformed line (line 31404)\n",
      "Skipping malformed line (line 32558)\n",
      "Skipping malformed line (line 33564)\n",
      "Skipping malformed line (line 34200)\n",
      "Skipping malformed line (line 34335)\n",
      "Skipping malformed line (line 35162)\n",
      "Skipping malformed line (line 36470)\n",
      "Skipping malformed line (line 37281)\n",
      "Skipping malformed line (line 37496)\n",
      "Skipping malformed line (line 42146)\n",
      "Skipping malformed line (line 42485)\n",
      "Skipping malformed line (line 47083)\n",
      "Skipping malformed line (line 50844)\n",
      "Skipping malformed line (line 51233)\n",
      "Skipping malformed line (line 52265)\n",
      "Skipping malformed line (line 55638)\n",
      "Skipping malformed line (line 56995)\n",
      "Skipping malformed line (line 57394)\n",
      "Skipping malformed line (line 57683)\n",
      "Skipping malformed line (line 59616)\n",
      "Skipping malformed line (line 59644)\n",
      "Skipping malformed line (line 59884)\n",
      "Skipping malformed line (line 60640)\n",
      "Skipping malformed line (line 60709)\n",
      "Skipping malformed line (line 61264)\n",
      "Skipping malformed line (line 61699)\n",
      "Skipping malformed line (line 62281)\n",
      "Skipping malformed line (line 62342)\n",
      "Skipping malformed line (line 62917)\n",
      "Skipping malformed line (line 63198)\n",
      "Skipping malformed line (line 63650)\n",
      "Skipping malformed line (line 63950)\n",
      "Skipping malformed line (line 64027)\n",
      "Skipping malformed line (line 64176)\n",
      "Skipping malformed line (line 65019)\n",
      "Skipping malformed line (line 66305)\n",
      "Skipping malformed line (line 66449)\n",
      "Skipping malformed line (line 67085)\n",
      "Skipping malformed line (line 69077)\n",
      "Skipping malformed line (line 69080)\n",
      "Skipping malformed line (line 72074)\n",
      "Skipping malformed line (line 72148)\n",
      "Skipping malformed line (line 72299)\n",
      "Skipping malformed line (line 72321)\n",
      "Skipping malformed line (line 73262)\n",
      "Skipping malformed line (line 73395)\n",
      "Skipping malformed line (line 73680)\n",
      "Skipping malformed line (line 73843)\n",
      "Skipping malformed line (line 74448)\n",
      "Skipping malformed line (line 75096)\n",
      "Skipping malformed line (line 75416)\n",
      "Skipping malformed line (line 75600)\n",
      "Skipping malformed line (line 75688)\n",
      "Skipping malformed line (line 75799)\n",
      "Skipping malformed line (line 76157)\n",
      "Skipping malformed line (line 76373)\n",
      "Skipping malformed line (line 76719)\n",
      "Skipping malformed line (line 77578)\n",
      "Skipping malformed line (line 78046)\n",
      "Skipping malformed line (line 78814)\n",
      "Skipping malformed line (line 79110)\n",
      "Skipping malformed line (line 80332)\n",
      "Skipping malformed line (line 82016)\n",
      "Skipping malformed line (line 82166)\n",
      "Skipping malformed line (line 82267)\n",
      "Skipping malformed line (line 83613)\n",
      "Skipping malformed line (line 84351)\n",
      "Skipping malformed line (line 84354)\n",
      "Skipping malformed line (line 85443)\n",
      "Skipping malformed line (line 86499)\n",
      "Skipping malformed line (line 86673)\n",
      "Skipping malformed line (line 88065)\n",
      "Skipping malformed line (line 88380)\n",
      "Skipping malformed line (line 90559)\n",
      "Skipping malformed line (line 90930)\n",
      "Skipping malformed line (line 92068)\n",
      "Skipping malformed line (line 92765)\n",
      "Skipping malformed line (line 93318)\n",
      "Skipping malformed line (line 93368)\n",
      "Skipping malformed line (line 96005)\n",
      "Skipping malformed line (line 96365)\n",
      "Skipping malformed line (line 96732)\n",
      "Skipping malformed line (line 96903)\n",
      "Skipping malformed line (line 97263)\n",
      "Skipping malformed line (line 97921)\n",
      "Skipping malformed line (line 98166)\n",
      "Skipping malformed line (line 98572)\n",
      "Skipping malformed line (line 99971)\n",
      "Skipping malformed line (line 100429)\n",
      "Skipping malformed line (line 102505)\n",
      "Skipping malformed line (line 102732)\n",
      "Skipping malformed line (line 105939)\n",
      "Skipping malformed line (line 106005)\n",
      "Skipping malformed line (line 106390)\n",
      "Skipping malformed line (line 106724)\n",
      "Skipping malformed line (line 107642)\n",
      "Skipping malformed line (line 107662)\n",
      "Skipping malformed line (line 108304)\n",
      "Skipping malformed line (line 109394)\n",
      "Skipping malformed line (line 110708)\n",
      "Skipping malformed line (line 116290)\n",
      "Skipping malformed line (line 119489)\n",
      "Skipping malformed line (line 121402)\n",
      "Skipping malformed line (line 121739)\n",
      "Skipping malformed line (line 122316)\n",
      "Skipping malformed line (line 125333)\n",
      "Skipping malformed line (line 125381)\n",
      "Skipping malformed line (line 125994)\n",
      "Skipping malformed line (line 126797)\n",
      "Skipping malformed line (line 127440)\n",
      "Skipping malformed line (line 128244)\n",
      "Skipping malformed line (line 128484)\n",
      "Skipping malformed line (line 129072)\n",
      "Skipping malformed line (line 130244)\n",
      "Skipping malformed line (line 130717)\n",
      "Skipping malformed line (line 130719)\n",
      "Skipping malformed line (line 130774)\n",
      "Skipping malformed line (line 131303)\n",
      "Skipping malformed line (line 131704)\n",
      "Skipping malformed line (line 132726)\n",
      "Skipping malformed line (line 133649)\n",
      "Skipping malformed line (line 133784)\n",
      "Skipping malformed line (line 133913)\n",
      "Skipping malformed line (line 134061)\n",
      "Skipping malformed line (line 134292)\n",
      "Skipping malformed line (line 135179)\n",
      "Skipping malformed line (line 135875)\n",
      "Skipping malformed line (line 136701)\n",
      "Skipping malformed line (line 137133)\n",
      "Skipping malformed line (line 137623)\n",
      "Skipping malformed line (line 141753)\n",
      "Skipping malformed line (line 141999)\n",
      "Skipping malformed line (line 142163)\n",
      "Skipping malformed line (line 142883)\n",
      "Skipping malformed line (line 145950)\n",
      "Skipping malformed line (line 146050)\n",
      "Skipping malformed line (line 146239)\n",
      "Skipping malformed line (line 147742)\n",
      "Skipping malformed line (line 151558)\n",
      "Skipping malformed line (line 152235)\n",
      "Skipping malformed line (line 152975)\n",
      "Skipping malformed line (line 154451)\n",
      "Skipping malformed line (line 156851)\n",
      "Skipping malformed line (line 157750)\n",
      "Skipping malformed line (line 159521)\n",
      "Skipping malformed line (line 159729)\n",
      "Skipping malformed line (line 159792)\n",
      "Skipping malformed line (line 160705)\n",
      "Skipping malformed line (line 161244)\n",
      "Skipping malformed line (line 161371)\n",
      "Skipping malformed line (line 161772)\n",
      "Skipping malformed line (line 161996)\n",
      "Skipping malformed line (line 163098)\n",
      "Skipping malformed line (line 164682)\n",
      "Skipping malformed line (line 165180)\n",
      "Skipping malformed line (line 165730)\n",
      "Skipping malformed line (line 167225)\n",
      "Skipping malformed line (line 167596)\n",
      "Skipping malformed line (line 168401)\n",
      "Skipping malformed line (line 168833)\n",
      "Skipping malformed line (line 168867)\n",
      "Skipping malformed line (line 169254)\n",
      "Skipping malformed line (line 169924)\n",
      "Skipping malformed line (line 170242)\n",
      "Skipping malformed line (line 170749)\n",
      "Skipping malformed line (line 170759)\n",
      "Skipping malformed line (line 170825)\n",
      "Skipping malformed line (line 171028)\n",
      "Skipping malformed line (line 171533)\n",
      "Skipping malformed line (line 171694)\n",
      "Skipping malformed line (line 171727)\n",
      "Skipping malformed line (line 172539)\n",
      "Skipping malformed line (line 172697)\n",
      "Skipping malformed line (line 173072)\n",
      "Skipping malformed line (line 173507)\n",
      "Skipping malformed line (line 174301)\n",
      "Skipping malformed line (line 174412)\n",
      "Skipping malformed line (line 175032)\n",
      "Skipping malformed line (line 175271)\n",
      "Skipping malformed line (line 175280)\n",
      "Skipping malformed line (line 177447)\n",
      "Skipping malformed line (line 177472)\n",
      "Skipping malformed line (line 177904)\n",
      "Skipping malformed line (line 177906)\n",
      "Skipping malformed line (line 177908)\n",
      "Skipping malformed line (line 177953)\n",
      "Skipping malformed line (line 177960)\n",
      "Skipping malformed line (line 178043)\n",
      "Skipping malformed line (line 178046)\n",
      "Skipping malformed line (line 178049)\n",
      "Skipping malformed line (line 178095)\n",
      "Skipping malformed line (line 178115)\n",
      "Skipping malformed line (line 178131)\n",
      "Skipping malformed line (line 178170)\n",
      "Skipping malformed line (line 178319)\n",
      "Skipping malformed line (line 179037)\n",
      "Skipping malformed line (line 179297)\n",
      "Skipping malformed line (line 180638)\n",
      "Skipping malformed line (line 180915)\n",
      "Skipping malformed line (line 181007)\n",
      "Skipping malformed line (line 181518)\n",
      "Skipping malformed line (line 182138)\n",
      "Skipping malformed line (line 182262)\n",
      "Skipping malformed line (line 182430)\n",
      "Skipping malformed line (line 183700)\n",
      "Skipping malformed line (line 183999)\n",
      "Skipping malformed line (line 184560)\n",
      "Skipping malformed line (line 185408)\n",
      "Skipping malformed line (line 186143)\n",
      "Skipping malformed line (line 187188)\n",
      "Skipping malformed line (line 191319)\n",
      "Skipping malformed line (line 191698)\n",
      "Skipping malformed line (line 191700)\n",
      "Skipping malformed line (line 194483)\n",
      "Skipping malformed line (line 195059)\n",
      "Skipping malformed line (line 196454)\n",
      "Skipping malformed line (line 199240)\n",
      "Skipping malformed line (line 207759)\n",
      "Skipping malformed line (line 209574)\n",
      "Skipping malformed line (line 209926)\n",
      "Skipping malformed line (line 210924)\n",
      "Skipping malformed line (line 211644)\n",
      "Skipping malformed line (line 211932)\n",
      "Skipping malformed line (line 211982)\n",
      "Skipping malformed line (line 212601)\n",
      "Skipping malformed line (line 212603)\n",
      "Skipping malformed line (line 212624)\n",
      "Skipping malformed line (line 212630)\n",
      "Skipping malformed line (line 214537)\n",
      "Skipping malformed line (line 214597)\n",
      "Skipping malformed line (line 218774)\n",
      "Skipping malformed line (line 219755)\n",
      "Skipping malformed line (line 220058)\n",
      "Skipping malformed line (line 221549)\n",
      "Skipping malformed line (line 221583)\n",
      "Skipping malformed line (line 221598)\n",
      "Skipping malformed line (line 221604)\n",
      "Skipping malformed line (line 221606)\n",
      "Skipping malformed line (line 221621)\n",
      "Skipping malformed line (line 221644)\n",
      "Skipping malformed line (line 221655)\n",
      "Skipping malformed line (line 221660)\n",
      "Skipping malformed line (line 221664)\n",
      "Skipping malformed line (line 221893)\n",
      "Skipping malformed line (line 221931)\n",
      "Skipping malformed line (line 222449)\n",
      "Skipping malformed line (line 222465)\n",
      "Skipping malformed line (line 222493)\n",
      "Skipping malformed line (line 222500)\n",
      "Skipping malformed line (line 222681)\n",
      "Skipping malformed line (line 222771)\n",
      "Skipping malformed line (line 223310)\n",
      "Skipping malformed line (line 223575)\n",
      "Skipping malformed line (line 223666)\n",
      "Skipping malformed line (line 223668)\n",
      "Skipping malformed line (line 223674)\n",
      "Skipping malformed line (line 223982)\n",
      "Skipping malformed line (line 224140)\n",
      "Skipping malformed line (line 224270)\n",
      "Skipping malformed line (line 224292)\n",
      "Skipping malformed line (line 224432)\n",
      "Skipping malformed line (line 224434)\n",
      "Skipping malformed line (line 224592)\n",
      "Skipping malformed line (line 224666)\n",
      "Skipping malformed line (line 224772)\n",
      "Skipping malformed line (line 224873)\n",
      "Skipping malformed line (line 224991)\n",
      "Skipping malformed line (line 225041)\n",
      "Skipping malformed line (line 225334)\n",
      "Skipping malformed line (line 225508)\n",
      "Skipping malformed line (line 225675)\n",
      "Skipping malformed line (line 225989)\n",
      "Skipping malformed line (line 226276)\n",
      "Skipping malformed line (line 226284)\n",
      "Skipping malformed line (line 226720)\n",
      "Skipping malformed line (line 226806)\n",
      "Skipping malformed line (line 227433)\n",
      "Skipping malformed line (line 227487)\n",
      "Skipping malformed line (line 227626)\n",
      "Skipping malformed line (line 227698)\n",
      "Skipping malformed line (line 227917)\n",
      "Skipping malformed line (line 227989)\n",
      "Skipping malformed line (line 228217)\n",
      "Skipping malformed line (line 228735)\n",
      "Skipping malformed line (line 228918)\n",
      "Skipping malformed line (line 228965)\n",
      "Skipping malformed line (line 229333)\n",
      "Skipping malformed line (line 229782)\n",
      "Skipping malformed line (line 229994)\n",
      "Skipping malformed line (line 230251)\n",
      "Skipping malformed line (line 230265)\n",
      "Skipping malformed line (line 230956)\n",
      "Skipping malformed line (line 231462)\n",
      "Skipping malformed line (line 231905)\n",
      "Skipping malformed line (line 232426)\n",
      "Skipping malformed line (line 232933)\n",
      "Skipping malformed line (line 233434)\n",
      "Skipping malformed line (line 233696)\n",
      "Skipping malformed line (line 234426)\n",
      "Skipping malformed line (line 234468)\n",
      "Skipping malformed line (line 235515)\n",
      "Skipping malformed line (line 235637)\n",
      "Skipping malformed line (line 235703)\n",
      "Skipping malformed line (line 235705)\n",
      "Skipping malformed line (line 235707)\n",
      "Skipping malformed line (line 235860)\n",
      "Skipping malformed line (line 236150)\n",
      "Skipping malformed line (line 236845)\n",
      "Skipping malformed line (line 236956)\n",
      "Skipping malformed line (line 237394)\n",
      "Skipping malformed line (line 237542)\n",
      "Skipping malformed line (line 238250)\n",
      "Skipping malformed line (line 238643)\n",
      "Skipping malformed line (line 239006)\n",
      "Skipping malformed line (line 239284)\n",
      "Skipping malformed line (line 239693)\n",
      "Skipping malformed line (line 239774)\n",
      "Skipping malformed line (line 239780)\n",
      "Skipping malformed line (line 240059)\n",
      "Skipping malformed line (line 240343)\n",
      "Skipping malformed line (line 240544)\n",
      "Skipping malformed line (line 240944)\n",
      "Skipping malformed line (line 241308)\n",
      "Skipping malformed line (line 241359)\n",
      "Skipping malformed line (line 241628)\n",
      "Skipping malformed line (line 241956)\n",
      "Skipping malformed line (line 242233)\n",
      "Skipping malformed line (line 243188)\n",
      "Skipping malformed line (line 243841)\n",
      "Skipping malformed line (line 243845)\n",
      "Skipping malformed line (line 244013)\n",
      "Skipping malformed line (line 244083)\n",
      "Skipping malformed line (line 244476)\n",
      "Skipping malformed line (line 245536)\n",
      "Skipping malformed line (line 245710)\n",
      "Skipping malformed line (line 245853)\n",
      "Skipping malformed line (line 246013)\n",
      "Skipping malformed line (line 246230)\n",
      "Skipping malformed line (line 246233)\n",
      "Skipping malformed line (line 246243)\n",
      "Skipping malformed line (line 246494)\n",
      "Skipping malformed line (line 247325)\n",
      "Skipping malformed line (line 247616)\n",
      "Skipping malformed line (line 247862)\n",
      "Skipping malformed line (line 247867)\n",
      "Skipping malformed line (line 248089)\n",
      "Skipping malformed line (line 248095)\n",
      "Skipping malformed line (line 248105)\n",
      "Skipping malformed line (line 248296)\n",
      "Skipping malformed line (line 248313)\n",
      "Skipping malformed line (line 248537)\n",
      "Skipping malformed line (line 249020)\n",
      "Skipping malformed line (line 249109)\n",
      "Skipping malformed line (line 249314)\n",
      "Skipping malformed line (line 249481)\n",
      "Skipping malformed line (line 249483)\n",
      "Skipping malformed line (line 249492)\n",
      "Skipping malformed line (line 249677)\n",
      "Skipping malformed line (line 249791)\n",
      "Skipping malformed line (line 249948)\n",
      "Skipping malformed line (line 250853)\n",
      "Skipping malformed line (line 250892)\n",
      "Skipping malformed line (line 251095)\n",
      "Skipping malformed line (line 251279)\n",
      "Skipping malformed line (line 251337)\n",
      "Skipping malformed line (line 252065)\n",
      "Skipping malformed line (line 252119)\n",
      "Skipping malformed line (line 252230)\n",
      "Skipping malformed line (line 252617)\n",
      "Skipping malformed line (line 252684)\n",
      "Skipping malformed line (line 253254)\n",
      "Skipping malformed line (line 253333)\n",
      "Skipping malformed line (line 253340)\n",
      "Skipping malformed line (line 253482)\n",
      "Skipping malformed line (line 253514)\n",
      "Skipping malformed line (line 254088)\n",
      "Skipping malformed line (line 254090)\n",
      "Skipping malformed line (line 254092)\n",
      "Skipping malformed line (line 255629)\n",
      "Skipping malformed line (line 255846)\n",
      "Skipping malformed line (line 256196)\n",
      "Skipping malformed line (line 256645)\n",
      "Skipping malformed line (line 256924)\n",
      "Skipping malformed line (line 257044)\n",
      "Skipping malformed line (line 257385)\n",
      "Skipping malformed line (line 257728)\n",
      "Skipping malformed line (line 258370)\n",
      "Skipping malformed line (line 258511)\n",
      "Skipping malformed line (line 259200)\n",
      "Skipping malformed line (line 259491)\n",
      "Skipping malformed line (line 259534)\n",
      "Skipping malformed line (line 260984)\n",
      "Skipping malformed line (line 261372)\n",
      "Skipping malformed line (line 261674)\n",
      "Skipping malformed line (line 262307)\n",
      "Skipping malformed line (line 262624)\n",
      "Skipping malformed line (line 263083)\n",
      "Skipping malformed line (line 263806)\n",
      "Skipping malformed line (line 264367)\n",
      "Skipping malformed line (line 264387)\n",
      "Skipping malformed line (line 264389)\n",
      "Skipping malformed line (line 264526)\n",
      "Skipping malformed line (line 264528)\n",
      "Skipping malformed line (line 264538)\n",
      "Skipping malformed line (line 265137)\n",
      "Skipping malformed line (line 265683)\n",
      "Skipping malformed line (line 265685)\n",
      "Skipping malformed line (line 266012)\n",
      "Skipping malformed line (line 266014)\n",
      "Skipping malformed line (line 266020)\n",
      "Skipping malformed line (line 266542)\n",
      "Skipping malformed line (line 266599)\n",
      "Skipping malformed line (line 267575)\n",
      "Skipping malformed line (line 267703)\n",
      "Skipping malformed line (line 268110)\n",
      "Skipping malformed line (line 268300)\n",
      "Skipping malformed line (line 268797)\n",
      "Skipping malformed line (line 268898)\n",
      "Skipping malformed line (line 268936)\n",
      "Skipping malformed line (line 269021)\n",
      "Skipping malformed line (line 271125)\n",
      "Skipping malformed line (line 271252)\n",
      "Skipping malformed line (line 271376)\n",
      "Skipping malformed line (line 271426)\n",
      "Skipping malformed line (line 271997)\n",
      "Skipping malformed line (line 272009)\n",
      "Skipping malformed line (line 272055)\n",
      "Skipping malformed line (line 272212)\n",
      "Skipping malformed line (line 272711)\n",
      "Skipping malformed line (line 272714)\n",
      "Skipping malformed line (line 273064)\n",
      "Skipping malformed line (line 273100)\n",
      "Skipping malformed line (line 273170)\n",
      "Skipping malformed line (line 273686)\n",
      "Skipping malformed line (line 273734)\n",
      "Skipping malformed line (line 274250)\n",
      "Skipping malformed line (line 274502)\n",
      "Skipping malformed line (line 274577)\n",
      "Skipping malformed line (line 274611)\n",
      "Skipping malformed line (line 275401)\n",
      "Skipping malformed line (line 275931)\n",
      "Skipping malformed line (line 276721)\n",
      "Skipping malformed line (line 277142)\n",
      "Skipping malformed line (line 277683)\n",
      "Skipping malformed line (line 277685)\n",
      "Skipping malformed line (line 277711)\n",
      "Skipping malformed line (line 277713)\n",
      "Skipping malformed line (line 277970)\n",
      "Skipping malformed line (line 278137)\n",
      "Skipping malformed line (line 278726)\n",
      "Skipping malformed line (line 278786)\n",
      "Skipping malformed line (line 279507)\n",
      "Skipping malformed line (line 280190)\n",
      "Skipping malformed line (line 280193)\n",
      "Skipping malformed line (line 282106)\n",
      "Skipping malformed line (line 283000)\n",
      "Skipping malformed line (line 283037)\n",
      "Skipping malformed line (line 283551)\n",
      "Skipping malformed line (line 283606)\n",
      "Skipping malformed line (line 283786)\n",
      "Skipping malformed line (line 284819)\n",
      "Skipping malformed line (line 284887)\n",
      "Skipping malformed line (line 284975)\n",
      "Skipping malformed line (line 285096)\n",
      "Skipping malformed line (line 285328)\n",
      "Skipping malformed line (line 285698)\n",
      "Skipping malformed line (line 286172)\n",
      "Skipping malformed line (line 286212)\n",
      "Skipping malformed line (line 286501)\n",
      "Skipping malformed line (line 287305)\n",
      "Skipping malformed line (line 287429)\n",
      "Skipping malformed line (line 287433)\n",
      "Skipping malformed line (line 287775)\n",
      "Skipping malformed line (line 287939)\n",
      "Skipping malformed line (line 287973)\n",
      "Skipping malformed line (line 288808)\n",
      "Skipping malformed line (line 289069)\n",
      "Skipping malformed line (line 289188)\n",
      "Skipping malformed line (line 289735)\n",
      "Skipping malformed line (line 289900)\n",
      "Skipping malformed line (line 290137)\n",
      "Skipping malformed line (line 290488)\n",
      "Skipping malformed line (line 290526)\n",
      "Skipping malformed line (line 290603)\n",
      "Skipping malformed line (line 290762)\n",
      "Skipping malformed line (line 291328)\n",
      "Skipping malformed line (line 291558)\n",
      "Skipping malformed line (line 291791)\n",
      "Skipping malformed line (line 291995)\n",
      "Skipping malformed line (line 292207)\n",
      "Skipping malformed line (line 292700)\n",
      "Skipping malformed line (line 293023)\n",
      "Skipping malformed line (line 294408)\n",
      "Skipping malformed line (line 295698)\n",
      "Skipping malformed line (line 295715)\n",
      "Skipping malformed line (line 296158)\n",
      "Skipping malformed line (line 296173)\n",
      "Skipping malformed line (line 296295)\n",
      "Skipping malformed line (line 296739)\n",
      "Skipping malformed line (line 296998)\n",
      "Skipping malformed line (line 297102)\n",
      "Skipping malformed line (line 297490)\n",
      "Skipping malformed line (line 297627)\n",
      "Skipping malformed line (line 298674)\n",
      "Skipping malformed line (line 299010)\n",
      "Skipping malformed line (line 299509)\n",
      "Skipping malformed line (line 299519)\n",
      "Skipping malformed line (line 300073)\n",
      "Skipping malformed line (line 301683)\n",
      "Skipping malformed line (line 301845)\n",
      "Skipping malformed line (line 302285)\n",
      "Skipping malformed line (line 303417)\n",
      "Skipping malformed line (line 303544)\n",
      "Skipping malformed line (line 304125)\n",
      "Skipping malformed line (line 304399)\n",
      "Skipping malformed line (line 304548)\n",
      "Skipping malformed line (line 304883)\n",
      "Skipping malformed line (line 305301)\n",
      "Skipping malformed line (line 306100)\n",
      "Skipping malformed line (line 306841)\n",
      "Skipping malformed line (line 306975)\n",
      "Skipping malformed line (line 307170)\n",
      "Skipping malformed line (line 307486)\n",
      "Skipping malformed line (line 307488)\n",
      "Skipping malformed line (line 307729)\n",
      "Skipping malformed line (line 307733)\n",
      "Skipping malformed line (line 308111)\n",
      "Skipping malformed line (line 308855)\n",
      "Skipping malformed line (line 309316)\n",
      "Skipping malformed line (line 309817)\n",
      "Skipping malformed line (line 310000)\n",
      "Skipping malformed line (line 310411)\n",
      "Skipping malformed line (line 311125)\n",
      "Skipping malformed line (line 311367)\n",
      "Skipping malformed line (line 311384)\n",
      "Skipping malformed line (line 311625)\n",
      "Skipping malformed line (line 311781)\n",
      "Skipping malformed line (line 311875)\n",
      "Skipping malformed line (line 311888)\n",
      "Skipping malformed line (line 311916)\n",
      "Skipping malformed line (line 312149)\n",
      "Skipping malformed line (line 312507)\n",
      "Skipping malformed line (line 312922)\n",
      "Skipping malformed line (line 312950)\n",
      "Skipping malformed line (line 312961)\n",
      "Skipping malformed line (line 313387)\n",
      "Skipping malformed line (line 313984)\n",
      "Skipping malformed line (line 314036)\n",
      "Skipping malformed line (line 314957)\n",
      "Skipping malformed line (line 315127)\n",
      "Skipping malformed line (line 315190)\n",
      "Skipping malformed line (line 315620)\n",
      "Skipping malformed line (line 315786)\n",
      "Skipping malformed line (line 316081)\n",
      "Skipping malformed line (line 316822)\n",
      "Skipping malformed line (line 316844)\n",
      "Skipping malformed line (line 316849)\n",
      "Skipping malformed line (line 316900)\n",
      "Skipping malformed line (line 316929)\n",
      "Skipping malformed line (line 317042)\n",
      "Skipping malformed line (line 317730)\n",
      "Skipping malformed line (line 318100)\n",
      "Skipping malformed line (line 318328)\n",
      "Skipping malformed line (line 318518)\n",
      "Skipping malformed line (line 320627)\n",
      "Skipping malformed line (line 320680)\n",
      "Skipping malformed line (line 321196)\n",
      "Skipping malformed line (line 322361)\n",
      "Skipping malformed line (line 322364)\n",
      "Skipping malformed line (line 322595)\n",
      "Skipping malformed line (line 322610)\n",
      "Skipping malformed line (line 322613)\n",
      "Skipping malformed line (line 322661)\n",
      "Skipping malformed line (line 322982)\n",
      "Skipping malformed line (line 323180)\n",
      "Skipping malformed line (line 324245)\n",
      "Skipping malformed line (line 324406)\n",
      "Skipping malformed line (line 324730)\n",
      "Skipping malformed line (line 325285)\n",
      "Skipping malformed line (line 325367)\n",
      "Skipping malformed line (line 326183)\n",
      "Skipping malformed line (line 326588)\n",
      "Skipping malformed line (line 326741)\n",
      "Skipping malformed line (line 327263)\n",
      "Skipping malformed line (line 327399)\n",
      "Skipping malformed line (line 327527)\n",
      "Skipping malformed line (line 327707)\n",
      "Skipping malformed line (line 327773)\n",
      "Skipping malformed line (line 327873)\n",
      "Skipping malformed line (line 327881)\n",
      "Skipping malformed line (line 327923)\n",
      "Skipping malformed line (line 327925)\n",
      "Skipping malformed line (line 329643)\n",
      "Skipping malformed line (line 330929)\n",
      "Skipping malformed line (line 331302)\n",
      "Skipping malformed line (line 331775)\n",
      "Skipping malformed line (line 332113)\n",
      "Skipping malformed line (line 332436)\n",
      "Skipping malformed line (line 332475)\n",
      "Skipping malformed line (line 332714)\n",
      "Skipping malformed line (line 332717)\n",
      "Skipping malformed line (line 333791)\n",
      "Skipping malformed line (line 335297)\n",
      "Skipping malformed line (line 335878)\n",
      "Skipping malformed line (line 336342)\n",
      "Skipping malformed line (line 336596)\n",
      "Skipping malformed line (line 336600)\n",
      "Skipping malformed line (line 337518)\n",
      "Skipping malformed line (line 337948)\n",
      "Skipping malformed line (line 338105)\n",
      "Skipping malformed line (line 338382)\n",
      "Skipping malformed line (line 339294)\n",
      "Skipping malformed line (line 339487)\n",
      "Skipping malformed line (line 340394)\n",
      "Skipping malformed line (line 340595)\n",
      "Skipping malformed line (line 341349)\n",
      "Skipping malformed line (line 342482)\n",
      "Skipping malformed line (line 342572)\n",
      "Skipping malformed line (line 342801)\n",
      "Skipping malformed line (line 342806)\n",
      "Skipping malformed line (line 342815)\n",
      "Skipping malformed line (line 342826)\n",
      "Skipping malformed line (line 343069)\n",
      "Skipping malformed line (line 343342)\n",
      "Skipping malformed line (line 343374)\n",
      "Skipping malformed line (line 343505)\n",
      "Skipping malformed line (line 343532)\n",
      "Skipping malformed line (line 343598)\n",
      "Skipping malformed line (line 343622)\n",
      "Skipping malformed line (line 343740)\n",
      "Skipping malformed line (line 344113)\n",
      "Skipping malformed line (line 344137)\n",
      "Skipping malformed line (line 344158)\n",
      "Skipping malformed line (line 344348)\n",
      "Skipping malformed line (line 344633)\n",
      "Skipping malformed line (line 344635)\n",
      "Skipping malformed line (line 344661)\n",
      "Skipping malformed line (line 345021)\n",
      "Skipping malformed line (line 345895)\n",
      "Skipping malformed line (line 345897)\n",
      "Skipping malformed line (line 346360)\n",
      "Skipping malformed line (line 346473)\n",
      "Skipping malformed line (line 346494)\n",
      "Skipping malformed line (line 346598)\n",
      "Skipping malformed line (line 346769)\n",
      "Skipping malformed line (line 347228)\n",
      "Skipping malformed line (line 347266)\n",
      "Skipping malformed line (line 347279)\n",
      "Skipping malformed line (line 348754)\n",
      "Skipping malformed line (line 349265)\n",
      "Skipping malformed line (line 349723)\n",
      "Skipping malformed line (line 350028)\n",
      "Skipping malformed line (line 350153)\n",
      "Skipping malformed line (line 350387)\n",
      "Skipping malformed line (line 350993)\n",
      "Skipping malformed line (line 351468)\n",
      "Skipping malformed line (line 351576)\n",
      "Skipping malformed line (line 351620)\n",
      "Skipping malformed line (line 351764)\n",
      "Skipping malformed line (line 351800)\n",
      "Skipping malformed line (line 351910)\n",
      "Skipping malformed line (line 351915)\n",
      "Skipping malformed line (line 352312)\n",
      "Skipping malformed line (line 352462)\n",
      "Skipping malformed line (line 352497)\n",
      "Skipping malformed line (line 352505)\n",
      "Skipping malformed line (line 352925)\n",
      "Skipping malformed line (line 352975)\n",
      "Skipping malformed line (line 353148)\n",
      "Skipping malformed line (line 353304)\n",
      "Skipping malformed line (line 353387)\n",
      "Skipping malformed line (line 353473)\n",
      "Skipping malformed line (line 353475)\n",
      "Skipping malformed line (line 353483)\n",
      "Skipping malformed line (line 353633)\n",
      "Skipping malformed line (line 354179)\n",
      "Skipping malformed line (line 354364)\n",
      "Skipping malformed line (line 355218)\n",
      "Skipping malformed line (line 355282)\n",
      "Skipping malformed line (line 355500)\n",
      "Skipping malformed line (line 355534)\n",
      "Skipping malformed line (line 356462)\n",
      "Skipping malformed line (line 356633)\n",
      "Skipping malformed line (line 356875)\n",
      "Skipping malformed line (line 356929)\n",
      "Skipping malformed line (line 357010)\n",
      "Skipping malformed line (line 357579)\n",
      "Skipping malformed line (line 357590)\n",
      "Skipping malformed line (line 357642)\n",
      "Skipping malformed line (line 357805)\n",
      "Skipping malformed line (line 357917)\n",
      "Skipping malformed line (line 358042)\n",
      "Skipping malformed line (line 358105)\n",
      "Skipping malformed line (line 358107)\n",
      "Skipping malformed line (line 358132)\n",
      "Skipping malformed line (line 358477)\n",
      "Skipping malformed line (line 358859)\n",
      "Skipping malformed line (line 358862)\n",
      "Skipping malformed line (line 359109)\n",
      "Skipping malformed line (line 359539)\n",
      "Skipping malformed line (line 359541)\n",
      "Skipping malformed line (line 359809)\n",
      "Skipping malformed line (line 359850)\n",
      "Skipping malformed line (line 360514)\n",
      "Skipping malformed line (line 360899)\n",
      "Skipping malformed line (line 361223)\n",
      "Skipping malformed line (line 361442)\n",
      "Skipping malformed line (line 361765)\n",
      "Skipping malformed line (line 362006)\n",
      "Skipping malformed line (line 362153)\n",
      "Skipping malformed line (line 362736)\n",
      "Skipping malformed line (line 362753)\n",
      "Skipping malformed line (line 362793)\n",
      "Skipping malformed line (line 362815)\n",
      "Skipping malformed line (line 363125)\n",
      "Skipping malformed line (line 363542)\n",
      "Skipping malformed line (line 363547)\n",
      "Skipping malformed line (line 363684)\n",
      "Skipping malformed line (line 363863)\n",
      "Skipping malformed line (line 363947)\n",
      "Skipping malformed line (line 364355)\n",
      "Skipping malformed line (line 364360)\n",
      "Skipping malformed line (line 364457)\n",
      "Skipping malformed line (line 365357)\n",
      "Skipping malformed line (line 365373)\n",
      "Skipping malformed line (line 365429)\n",
      "Skipping malformed line (line 366576)\n",
      "Skipping malformed line (line 366921)\n",
      "Skipping malformed line (line 367194)\n",
      "Skipping malformed line (line 367394)\n",
      "Skipping malformed line (line 368543)\n",
      "Skipping malformed line (line 368902)\n",
      "Skipping malformed line (line 369857)\n",
      "Skipping malformed line (line 370786)\n",
      "Skipping malformed line (line 371351)\n",
      "Skipping malformed line (line 371837)\n",
      "Skipping malformed line (line 371880)\n",
      "Skipping malformed line (line 372005)\n",
      "Skipping malformed line (line 372339)\n",
      "Skipping malformed line (line 372598)\n",
      "Skipping malformed line (line 373008)\n",
      "Skipping malformed line (line 373124)\n",
      "Skipping malformed line (line 373274)\n",
      "Skipping malformed line (line 373301)\n",
      "Skipping malformed line (line 373494)\n",
      "Skipping malformed line (line 373505)\n",
      "Skipping malformed line (line 373671)\n",
      "Skipping malformed line (line 373932)\n",
      "Skipping malformed line (line 374057)\n",
      "Skipping malformed line (line 374348)\n",
      "Skipping malformed line (line 374506)\n",
      "Skipping malformed line (line 374587)\n",
      "Skipping malformed line (line 374720)\n",
      "Skipping malformed line (line 374915)\n",
      "Skipping malformed line (line 375448)\n",
      "Skipping malformed line (line 375835)\n",
      "Skipping malformed line (line 375899)\n",
      "Skipping malformed line (line 376055)\n",
      "Skipping malformed line (line 376223)\n",
      "Skipping malformed line (line 376734)\n",
      "Skipping malformed line (line 377151)\n",
      "Skipping malformed line (line 377220)\n",
      "Skipping malformed line (line 377876)\n",
      "Skipping malformed line (line 377878)\n",
      "Skipping malformed line (line 378030)\n",
      "Skipping malformed line (line 378206)\n",
      "Skipping malformed line (line 378270)\n",
      "Skipping malformed line (line 379755)\n",
      "Skipping malformed line (line 379914)\n",
      "Skipping malformed line (line 379984)\n",
      "Skipping malformed line (line 380312)\n",
      "Skipping malformed line (line 383076)\n",
      "Skipping malformed line (line 383236)\n",
      "Skipping malformed line (line 383416)\n",
      "Skipping malformed line (line 383511)\n",
      "Skipping malformed line (line 383553)\n",
      "Skipping malformed line (line 383588)\n",
      "Skipping malformed line (line 383629)\n",
      "Skipping malformed line (line 383677)\n",
      "Skipping malformed line (line 383702)\n",
      "Skipping malformed line (line 384354)\n",
      "Skipping malformed line (line 384404)\n",
      "Skipping malformed line (line 384467)\n",
      "Skipping malformed line (line 384643)\n",
      "Skipping malformed line (line 385205)\n",
      "Skipping malformed line (line 385450)\n",
      "Skipping malformed line (line 385569)\n",
      "Skipping malformed line (line 385668)\n",
      "Skipping malformed line (line 386070)\n",
      "Skipping malformed line (line 386259)\n",
      "Skipping malformed line (line 387219)\n",
      "Skipping malformed line (line 387577)\n",
      "Skipping malformed line (line 388338)\n",
      "Skipping malformed line (line 388612)\n",
      "Skipping malformed line (line 388728)\n",
      "Skipping malformed line (line 389500)\n",
      "Skipping malformed line (line 389658)\n",
      "Skipping malformed line (line 389752)\n",
      "Skipping malformed line (line 389788)\n",
      "Skipping malformed line (line 390176)\n",
      "Skipping malformed line (line 390669)\n",
      "Skipping malformed line (line 390863)\n",
      "Skipping malformed line (line 390876)\n",
      "Skipping malformed line (line 391044)\n",
      "Skipping malformed line (line 392222)\n",
      "Skipping malformed line (line 393006)\n",
      "Skipping malformed line (line 394056)\n",
      "Skipping malformed line (line 394363)\n",
      "Skipping malformed line (line 394991)\n",
      "Skipping malformed line (line 395424)\n",
      "Skipping malformed line (line 395464)\n",
      "Skipping malformed line (line 397044)\n",
      "Skipping malformed line (line 397180)\n",
      "Skipping malformed line (line 397447)\n",
      "Skipping malformed line (line 397586)\n",
      "Skipping malformed line (line 397610)\n",
      "Skipping malformed line (line 397639)\n",
      "Skipping malformed line (line 397855)\n",
      "Skipping malformed line (line 398341)\n",
      "Skipping malformed line (line 399283)\n",
      "Skipping malformed line (line 399425)\n",
      "Skipping malformed line (line 399707)\n",
      "Skipping malformed line (line 399744)\n",
      "Skipping malformed line (line 399832)\n",
      "Skipping malformed line (line 399918)\n",
      "Skipping malformed line (line 400283)\n",
      "Skipping malformed line (line 400315)\n",
      "Skipping malformed line (line 400342)\n",
      "Skipping malformed line (line 400878)\n",
      "Skipping malformed line (line 400880)\n",
      "Skipping malformed line (line 401098)\n",
      "Skipping malformed line (line 401254)\n",
      "Skipping malformed line (line 401433)\n",
      "Skipping malformed line (line 401441)\n",
      "Skipping malformed line (line 401446)\n",
      "Skipping malformed line (line 402090)\n",
      "Skipping malformed line (line 402104)\n",
      "Skipping malformed line (line 402437)\n",
      "Skipping malformed line (line 402449)\n",
      "Skipping malformed line (line 402994)\n",
      "Skipping malformed line (line 403279)\n",
      "Skipping malformed line (line 403289)\n",
      "Skipping malformed line (line 403588)\n",
      "Skipping malformed line (line 403756)\n",
      "Skipping malformed line (line 403860)\n",
      "Skipping malformed line (line 403949)\n",
      "Skipping malformed line (line 404046)\n",
      "Skipping malformed line (line 404248)\n",
      "Skipping malformed line (line 404262)\n",
      "Skipping malformed line (line 404467)\n",
      "Skipping malformed line (line 404598)\n",
      "Skipping malformed line (line 404674)\n",
      "Skipping malformed line (line 404972)\n",
      "Skipping malformed line (line 404986)\n",
      "Skipping malformed line (line 404993)\n",
      "Skipping malformed line (line 405232)\n",
      "Skipping malformed line (line 405298)\n",
      "Skipping malformed line (line 405318)\n",
      "Skipping malformed line (line 405795)\n",
      "Skipping malformed line (line 406029)\n",
      "Skipping malformed line (line 406133)\n",
      "Skipping malformed line (line 407001)\n",
      "Skipping malformed line (line 407434)\n",
      "Skipping malformed line (line 407564)\n",
      "Skipping malformed line (line 407815)\n",
      "Skipping malformed line (line 407918)\n",
      "Skipping malformed line (line 408138)\n",
      "Skipping malformed line (line 408219)\n",
      "Skipping malformed line (line 408395)\n",
      "Skipping malformed line (line 408476)\n",
      "Skipping malformed line (line 408853)\n",
      "Skipping malformed line (line 408890)\n",
      "Skipping malformed line (line 408974)\n",
      "Skipping malformed line (line 409050)\n",
      "Skipping malformed line (line 409512)\n",
      "Skipping malformed line (line 409547)\n",
      "Skipping malformed line (line 410249)\n",
      "Skipping malformed line (line 410358)\n",
      "Skipping malformed line (line 411307)\n",
      "Skipping malformed line (line 411400)\n",
      "Skipping malformed line (line 411806)\n",
      "Skipping malformed line (line 411851)\n",
      "Skipping malformed line (line 411858)\n",
      "Skipping malformed line (line 411982)\n",
      "Skipping malformed line (line 412085)\n",
      "Skipping malformed line (line 413002)\n",
      "Skipping malformed line (line 413445)\n",
      "Skipping malformed line (line 413912)\n",
      "Skipping malformed line (line 414093)\n",
      "Skipping malformed line (line 414124)\n",
      "Skipping malformed line (line 414713)\n",
      "Skipping malformed line (line 414881)\n",
      "Skipping malformed line (line 416795)\n",
      "Skipping malformed line (line 417133)\n",
      "Skipping malformed line (line 417245)\n",
      "Skipping malformed line (line 417335)\n",
      "Skipping malformed line (line 417380)\n",
      "Skipping malformed line (line 417840)\n",
      "Skipping malformed line (line 418518)\n",
      "Skipping malformed line (line 418916)\n",
      "Skipping malformed line (line 419030)\n",
      "Skipping malformed line (line 419509)\n",
      "Skipping malformed line (line 419813)\n",
      "Skipping malformed line (line 419823)\n",
      "Skipping malformed line (line 420126)\n",
      "Skipping malformed line (line 420350)\n",
      "Skipping malformed line (line 420479)\n",
      "Skipping malformed line (line 421079)\n",
      "Skipping malformed line (line 421507)\n",
      "Skipping malformed line (line 421572)\n",
      "Skipping malformed line (line 422599)\n",
      "Skipping malformed line (line 422602)\n",
      "Skipping malformed line (line 422668)\n",
      "Skipping malformed line (line 423024)\n",
      "Skipping malformed line (line 423426)\n",
      "Skipping malformed line (line 423577)\n",
      "Skipping malformed line (line 423659)\n",
      "Skipping malformed line (line 423672)\n",
      "Skipping malformed line (line 424137)\n",
      "Skipping malformed line (line 424277)\n",
      "Skipping malformed line (line 424921)\n",
      "Skipping malformed line (line 424939)\n",
      "Skipping malformed line (line 424941)\n",
      "Skipping malformed line (line 425220)\n",
      "Skipping malformed line (line 425663)\n",
      "Skipping malformed line (line 426728)\n",
      "Skipping malformed line (line 426735)\n",
      "Skipping malformed line (line 426999)\n",
      "Skipping malformed line (line 427091)\n",
      "Skipping malformed line (line 427844)\n",
      "Skipping malformed line (line 427933)\n",
      "Skipping malformed line (line 428472)\n",
      "Skipping malformed line (line 428501)\n",
      "Skipping malformed line (line 428506)\n",
      "Skipping malformed line (line 428619)\n",
      "Skipping malformed line (line 428681)\n",
      "Skipping malformed line (line 428684)\n",
      "Skipping malformed line (line 428686)\n",
      "Skipping malformed line (line 428807)\n",
      "Skipping malformed line (line 428857)\n",
      "Skipping malformed line (line 428985)\n",
      "Skipping malformed line (line 429034)\n",
      "Skipping malformed line (line 429124)\n",
      "Skipping malformed line (line 429318)\n",
      "Skipping malformed line (line 429672)\n",
      "Skipping malformed line (line 429682)\n",
      "Skipping malformed line (line 429900)\n",
      "Skipping malformed line (line 429962)\n",
      "Skipping malformed line (line 430055)\n",
      "Skipping malformed line (line 430217)\n",
      "Skipping malformed line (line 430229)\n",
      "Skipping malformed line (line 430448)\n",
      "Skipping malformed line (line 430604)\n",
      "Skipping malformed line (line 430668)\n",
      "Skipping malformed line (line 430822)\n",
      "Skipping malformed line (line 431342)\n",
      "Skipping malformed line (line 431824)\n",
      "Skipping malformed line (line 432047)\n",
      "Skipping malformed line (line 432346)\n",
      "Skipping malformed line (line 433058)\n",
      "Skipping malformed line (line 433179)\n",
      "Skipping malformed line (line 433184)\n",
      "Skipping malformed line (line 433541)\n",
      "Skipping malformed line (line 433637)\n",
      "Skipping malformed line (line 433851)\n",
      "Skipping malformed line (line 433918)\n",
      "Skipping malformed line (line 434052)\n",
      "Skipping malformed line (line 434631)\n",
      "Skipping malformed line (line 434820)\n",
      "Skipping malformed line (line 434985)\n",
      "Skipping malformed line (line 435221)\n",
      "Skipping malformed line (line 436370)\n",
      "Skipping malformed line (line 436373)\n",
      "Skipping malformed line (line 436576)\n",
      "Skipping malformed line (line 437206)\n",
      "Skipping malformed line (line 437552)\n",
      "Skipping malformed line (line 437608)\n",
      "Skipping malformed line (line 437624)\n",
      "Skipping malformed line (line 437867)\n",
      "Skipping malformed line (line 437871)\n",
      "Skipping malformed line (line 438114)\n",
      "Skipping malformed line (line 438184)\n",
      "Skipping malformed line (line 438186)\n",
      "Skipping malformed line (line 438332)\n",
      "Skipping malformed line (line 438337)\n",
      "Skipping malformed line (line 438658)\n",
      "Skipping malformed line (line 439091)\n",
      "Skipping malformed line (line 439173)\n",
      "Skipping malformed line (line 440050)\n",
      "Skipping malformed line (line 440339)\n",
      "Skipping malformed line (line 440601)\n",
      "Skipping malformed line (line 441012)\n",
      "Skipping malformed line (line 441049)\n",
      "Skipping malformed line (line 441233)\n",
      "Skipping malformed line (line 441553)\n",
      "Skipping malformed line (line 441555)\n",
      "Skipping malformed line (line 441789)\n",
      "Skipping malformed line (line 441953)\n",
      "Skipping malformed line (line 441957)\n",
      "Skipping malformed line (line 442104)\n",
      "Skipping malformed line (line 442343)\n",
      "Skipping malformed line (line 443195)\n",
      "Skipping malformed line (line 443330)\n",
      "Skipping malformed line (line 443393)\n",
      "Skipping malformed line (line 444053)\n",
      "Skipping malformed line (line 444224)\n",
      "Skipping malformed line (line 444609)\n",
      "Skipping malformed line (line 444638)\n",
      "Skipping malformed line (line 444742)\n",
      "Skipping malformed line (line 445002)\n",
      "Skipping malformed line (line 445275)\n",
      "Skipping malformed line (line 445404)\n",
      "Skipping malformed line (line 445690)\n",
      "Skipping malformed line (line 445782)\n",
      "Skipping malformed line (line 446114)\n",
      "Skipping malformed line (line 446321)\n",
      "Skipping malformed line (line 446387)\n",
      "Skipping malformed line (line 446389)\n",
      "Skipping malformed line (line 446528)\n",
      "Skipping malformed line (line 446894)\n",
      "Skipping malformed line (line 446934)\n",
      "Skipping malformed line (line 447127)\n",
      "Skipping malformed line (line 447188)\n",
      "Skipping malformed line (line 447218)\n",
      "Skipping malformed line (line 447342)\n",
      "Skipping malformed line (line 447411)\n",
      "Skipping malformed line (line 447437)\n",
      "Skipping malformed line (line 447600)\n",
      "Skipping malformed line (line 448172)\n",
      "Skipping malformed line (line 448217)\n",
      "Skipping malformed line (line 448272)\n",
      "Skipping malformed line (line 448489)\n",
      "Skipping malformed line (line 448536)\n",
      "Skipping malformed line (line 448628)\n",
      "Skipping malformed line (line 448776)\n",
      "Skipping malformed line (line 448799)\n",
      "Skipping malformed line (line 448975)\n",
      "Skipping malformed line (line 449041)\n",
      "Skipping malformed line (line 449146)\n",
      "Skipping malformed line (line 449208)\n",
      "Skipping malformed line (line 449298)\n",
      "Skipping malformed line (line 449326)\n",
      "Skipping malformed line (line 449366)\n",
      "Skipping malformed line (line 449507)\n",
      "Skipping malformed line (line 449551)\n",
      "Skipping malformed line (line 450163)\n",
      "Skipping malformed line (line 450225)\n",
      "Skipping malformed line (line 451023)\n",
      "Skipping malformed line (line 451309)\n",
      "Skipping malformed line (line 451840)\n",
      "Skipping malformed line (line 452034)\n",
      "Skipping malformed line (line 452041)\n",
      "Skipping malformed line (line 452315)\n",
      "Skipping malformed line (line 452464)\n",
      "Skipping malformed line (line 452974)\n",
      "Skipping malformed line (line 453017)\n",
      "Skipping malformed line (line 453035)\n",
      "Skipping malformed line (line 453367)\n",
      "Skipping malformed line (line 453567)\n",
      "Skipping malformed line (line 453826)\n",
      "Skipping malformed line (line 454391)\n",
      "Skipping malformed line (line 454992)\n",
      "Skipping malformed line (line 455152)\n",
      "Skipping malformed line (line 455174)\n",
      "Skipping malformed line (line 455471)\n",
      "Skipping malformed line (line 456226)\n",
      "Skipping malformed line (line 456415)\n",
      "Skipping malformed line (line 456915)\n",
      "Skipping malformed line (line 456989)\n",
      "Skipping malformed line (line 457158)\n",
      "Skipping malformed line (line 457552)\n",
      "Skipping malformed line (line 457993)\n",
      "Skipping malformed line (line 458015)\n",
      "Skipping malformed line (line 458021)\n",
      "Skipping malformed line (line 458411)\n",
      "Skipping malformed line (line 458689)\n",
      "Skipping malformed line (line 458833)\n",
      "Skipping malformed line (line 460139)\n",
      "Skipping malformed line (line 460306)\n",
      "Skipping malformed line (line 460514)\n",
      "Skipping malformed line (line 460864)\n",
      "Skipping malformed line (line 460920)\n",
      "Skipping malformed line (line 460922)\n",
      "Skipping malformed line (line 461059)\n",
      "Skipping malformed line (line 461589)\n",
      "Skipping malformed line (line 462221)\n",
      "Skipping malformed line (line 462227)\n",
      "Skipping malformed line (line 462384)\n",
      "Skipping malformed line (line 462562)\n",
      "Skipping malformed line (line 462879)\n",
      "Skipping malformed line (line 463736)\n",
      "Skipping malformed line (line 463812)\n",
      "Skipping malformed line (line 464624)\n",
      "Skipping malformed line (line 464798)\n",
      "Skipping malformed line (line 465150)\n",
      "Skipping malformed line (line 465768)\n",
      "Skipping malformed line (line 465821)\n",
      "Skipping malformed line (line 465847)\n",
      "Skipping malformed line (line 466470)\n",
      "Skipping malformed line (line 467056)\n",
      "Skipping malformed line (line 467089)\n",
      "Skipping malformed line (line 467163)\n",
      "Skipping malformed line (line 467331)\n",
      "Skipping malformed line (line 467885)\n",
      "Skipping malformed line (line 468015)\n",
      "Skipping malformed line (line 468456)\n",
      "Skipping malformed line (line 468516)\n",
      "Skipping malformed line (line 468594)\n",
      "Skipping malformed line (line 468741)\n",
      "Skipping malformed line (line 469998)\n",
      "Skipping malformed line (line 471967)\n",
      "Skipping malformed line (line 472070)\n",
      "Skipping malformed line (line 472185)\n",
      "Skipping malformed line (line 472283)\n",
      "Skipping malformed line (line 472594)\n",
      "Skipping malformed line (line 472713)\n",
      "Skipping malformed line (line 472774)\n",
      "Skipping malformed line (line 472791)\n",
      "Skipping malformed line (line 473191)\n",
      "Skipping malformed line (line 473449)\n",
      "Skipping malformed line (line 473871)\n",
      "Skipping malformed line (line 474270)\n",
      "Skipping malformed line (line 474599)\n",
      "Skipping malformed line (line 474854)\n",
      "Skipping malformed line (line 474883)\n",
      "Skipping malformed line (line 475016)\n",
      "Skipping malformed line (line 475137)\n",
      "Skipping malformed line (line 475306)\n",
      "Skipping malformed line (line 475380)\n",
      "Skipping malformed line (line 475717)\n",
      "Skipping malformed line (line 476023)\n",
      "Skipping malformed line (line 476098)\n",
      "Skipping malformed line (line 476100)\n",
      "Skipping malformed line (line 477572)\n",
      "Skipping malformed line (line 477718)\n",
      "Skipping malformed line (line 477822)\n",
      "Skipping malformed line (line 478059)\n",
      "Skipping malformed line (line 478295)\n",
      "Skipping malformed line (line 478434)\n",
      "Skipping malformed line (line 478824)\n",
      "Skipping malformed line (line 480304)\n",
      "Skipping malformed line (line 480905)\n",
      "Skipping malformed line (line 480975)\n",
      "Skipping malformed line (line 481473)\n",
      "Skipping malformed line (line 482698)\n",
      "Skipping malformed line (line 483074)\n",
      "Skipping malformed line (line 483091)\n",
      "Skipping malformed line (line 483503)\n",
      "Skipping malformed line (line 483546)\n",
      "Skipping malformed line (line 483552)\n",
      "Skipping malformed line (line 483768)\n",
      "Skipping malformed line (line 483771)\n",
      "Skipping malformed line (line 483976)\n",
      "Skipping malformed line (line 483980)\n",
      "Skipping malformed line (line 484365)\n",
      "Skipping malformed line (line 484636)\n",
      "Skipping malformed line (line 485441)\n",
      "Skipping malformed line (line 485870)\n",
      "Skipping malformed line (line 486101)\n",
      "Skipping malformed line (line 486161)\n",
      "Skipping malformed line (line 486281)\n",
      "Skipping malformed line (line 486324)\n",
      "Skipping malformed line (line 486559)\n",
      "Skipping malformed line (line 487116)\n",
      "Skipping malformed line (line 487396)\n",
      "Skipping malformed line (line 487416)\n",
      "Skipping malformed line (line 487888)\n",
      "Skipping malformed line (line 489063)\n",
      "Skipping malformed line (line 489208)\n",
      "Skipping malformed line (line 489617)\n",
      "Skipping malformed line (line 490326)\n",
      "Skipping malformed line (line 491170)\n",
      "Skipping malformed line (line 491280)\n",
      "Skipping malformed line (line 491604)\n",
      "Skipping malformed line (line 492061)\n",
      "Skipping malformed line (line 492304)\n",
      "Skipping malformed line (line 492492)\n",
      "Skipping malformed line (line 493252)\n",
      "Skipping malformed line (line 493600)\n",
      "Skipping malformed line (line 493846)\n",
      "Skipping malformed line (line 494730)\n",
      "Skipping malformed line (line 494783)\n",
      "Skipping malformed line (line 494967)\n",
      "Skipping malformed line (line 494971)\n",
      "Skipping malformed line (line 495301)\n",
      "Skipping malformed line (line 495342)\n",
      "Skipping malformed line (line 495346)\n",
      "Skipping malformed line (line 495649)\n",
      "Skipping malformed line (line 496287)\n",
      "Skipping malformed line (line 496489)\n",
      "Skipping malformed line (line 496530)\n",
      "Skipping malformed line (line 496871)\n",
      "Skipping malformed line (line 496980)\n",
      "Skipping malformed line (line 497109)\n",
      "Skipping malformed line (line 497187)\n",
      "Skipping malformed line (line 498145)\n",
      "Skipping malformed line (line 498149)\n",
      "Skipping malformed line (line 498233)\n",
      "Skipping malformed line (line 498760)\n",
      "Skipping malformed line (line 499833)\n",
      "Skipping malformed line (line 499967)\n",
      "Skipping malformed line (line 500118)\n",
      "Skipping malformed line (line 501179)\n",
      "Skipping malformed line (line 502145)\n",
      "Skipping malformed line (line 503110)\n",
      "Skipping malformed line (line 503113)\n",
      "Skipping malformed line (line 503605)\n",
      "Skipping malformed line (line 503779)\n",
      "Skipping malformed line (line 504530)\n",
      "Skipping malformed line (line 504947)\n",
      "Skipping malformed line (line 505089)\n",
      "Skipping malformed line (line 505916)\n",
      "Skipping malformed line (line 506051)\n",
      "Skipping malformed line (line 506479)\n",
      "Skipping malformed line (line 506544)\n",
      "Skipping malformed line (line 506874)\n",
      "Skipping malformed line (line 507151)\n",
      "Skipping malformed line (line 508286)\n",
      "Skipping malformed line (line 508311)\n",
      "Skipping malformed line (line 508912)\n",
      "Skipping malformed line (line 509353)\n",
      "Skipping malformed line (line 509431)\n",
      "Skipping malformed line (line 509676)\n",
      "Skipping malformed line (line 509779)\n",
      "Skipping malformed line (line 510180)\n",
      "Skipping malformed line (line 510325)\n",
      "Skipping malformed line (line 510508)\n",
      "Skipping malformed line (line 510513)\n",
      "Skipping malformed line (line 511432)\n",
      "Skipping malformed line (line 512072)\n",
      "Skipping malformed line (line 512664)\n",
      "Skipping malformed line (line 513233)\n",
      "Skipping malformed line (line 514285)\n",
      "Skipping malformed line (line 515116)\n",
      "Skipping malformed line (line 515449)\n",
      "Skipping malformed line (line 515678)\n",
      "Skipping malformed line (line 516516)\n",
      "Skipping malformed line (line 517425)\n",
      "Skipping malformed line (line 517553)\n",
      "Skipping malformed line (line 517954)\n",
      "Skipping malformed line (line 518001)\n",
      "Skipping malformed line (line 518188)\n",
      "Skipping malformed line (line 518357)\n",
      "Skipping malformed line (line 518796)\n",
      "Skipping malformed line (line 519628)\n",
      "Skipping malformed line (line 519718)\n",
      "Skipping malformed line (line 520183)\n",
      "Skipping malformed line (line 520199)\n",
      "Skipping malformed line (line 520475)\n",
      "Skipping malformed line (line 520880)\n",
      "Skipping malformed line (line 521096)\n",
      "Skipping malformed line (line 521357)\n",
      "Skipping malformed line (line 521639)\n",
      "Skipping malformed line (line 521654)\n",
      "Skipping malformed line (line 521745)\n",
      "Skipping malformed line (line 522165)\n",
      "Skipping malformed line (line 522405)\n",
      "Skipping malformed line (line 522481)\n",
      "Skipping malformed line (line 522494)\n",
      "Skipping malformed line (line 523025)\n",
      "Skipping malformed line (line 523355)\n",
      "Skipping malformed line (line 523438)\n",
      "Skipping malformed line (line 523704)\n",
      "Skipping malformed line (line 524773)\n",
      "Skipping malformed line (line 525143)\n",
      "Skipping malformed line (line 526088)\n",
      "Skipping malformed line (line 526248)\n",
      "Skipping malformed line (line 526430)\n",
      "Skipping malformed line (line 526630)\n",
      "Skipping malformed line (line 527067)\n",
      "Skipping malformed line (line 527646)\n",
      "Skipping malformed line (line 527837)\n",
      "Skipping malformed line (line 527947)\n",
      "Skipping malformed line (line 528058)\n",
      "Skipping malformed line (line 528422)\n",
      "Skipping malformed line (line 528467)\n",
      "Skipping malformed line (line 528500)\n",
      "Skipping malformed line (line 529051)\n",
      "Skipping malformed line (line 529271)\n",
      "Skipping malformed line (line 529456)\n",
      "Skipping malformed line (line 529824)\n",
      "Skipping malformed line (line 530724)\n",
      "Skipping malformed line (line 531541)\n",
      "Skipping malformed line (line 531890)\n",
      "Skipping malformed line (line 532032)\n",
      "Skipping malformed line (line 532034)\n",
      "Skipping malformed line (line 532105)\n",
      "Skipping malformed line (line 533724)\n",
      "Skipping malformed line (line 534044)\n",
      "Skipping malformed line (line 534471)\n",
      "Skipping malformed line (line 534949)\n",
      "Skipping malformed line (line 535871)\n",
      "Skipping malformed line (line 535882)\n",
      "Skipping malformed line (line 535913)\n",
      "Skipping malformed line (line 535931)\n",
      "Skipping malformed line (line 536003)\n",
      "Skipping malformed line (line 536025)\n",
      "Skipping malformed line (line 538065)\n",
      "Skipping malformed line (line 539752)\n",
      "Skipping malformed line (line 540169)\n",
      "Skipping malformed line (line 540207)\n",
      "Skipping malformed line (line 542126)\n",
      "Skipping malformed line (line 542134)\n",
      "Skipping malformed line (line 547378)\n",
      "Skipping malformed line (line 547410)\n",
      "Skipping malformed line (line 548034)\n",
      "Skipping malformed line (line 548084)\n",
      "Skipping malformed line (line 548185)\n",
      "Skipping malformed line (line 548252)\n",
      "Skipping malformed line (line 548678)\n",
      "Skipping malformed line (line 548681)\n",
      "Skipping malformed line (line 549570)\n",
      "Skipping malformed line (line 549616)\n",
      "Skipping malformed line (line 549907)\n",
      "Skipping malformed line (line 549927)\n",
      "Skipping malformed line (line 550621)\n",
      "Skipping malformed line (line 550652)\n",
      "Skipping malformed line (line 550783)\n",
      "Skipping malformed line (line 551011)\n",
      "Skipping malformed line (line 551245)\n",
      "Skipping malformed line (line 551890)\n",
      "Skipping malformed line (line 552163)\n",
      "Skipping malformed line (line 552165)\n",
      "Skipping malformed line (line 552332)\n",
      "Skipping malformed line (line 552345)\n",
      "Skipping malformed line (line 552608)\n",
      "Skipping malformed line (line 552610)\n",
      "Skipping malformed line (line 552947)\n",
      "Skipping malformed line (line 553127)\n",
      "Skipping malformed line (line 553454)\n",
      "Skipping malformed line (line 553545)\n",
      "Skipping malformed line (line 553897)\n",
      "Skipping malformed line (line 553900)\n",
      "Skipping malformed line (line 554244)\n",
      "Skipping malformed line (line 554263)\n",
      "Skipping malformed line (line 554344)\n",
      "Skipping malformed line (line 554389)\n",
      "Skipping malformed line (line 554609)\n",
      "Skipping malformed line (line 554742)\n",
      "Skipping malformed line (line 554907)\n",
      "Skipping malformed line (line 555375)\n",
      "Skipping malformed line (line 555539)\n",
      "Skipping malformed line (line 555616)\n",
      "Skipping malformed line (line 556177)\n",
      "Skipping malformed line (line 556613)\n",
      "Skipping malformed line (line 556924)\n",
      "Skipping malformed line (line 557592)\n",
      "Skipping malformed line (line 557816)\n",
      "Skipping malformed line (line 558350)\n",
      "Skipping malformed line (line 558385)\n",
      "Skipping malformed line (line 559707)\n",
      "Skipping malformed line (line 560076)\n",
      "Skipping malformed line (line 560515)\n",
      "Skipping malformed line (line 561086)\n",
      "Skipping malformed line (line 561206)\n",
      "Skipping malformed line (line 561612)\n",
      "Skipping malformed line (line 561856)\n",
      "Skipping malformed line (line 561860)\n",
      "Skipping malformed line (line 561921)\n",
      "Skipping malformed line (line 562069)\n",
      "Skipping malformed line (line 562086)\n",
      "Skipping malformed line (line 562145)\n",
      "Skipping malformed line (line 562239)\n",
      "Skipping malformed line (line 562519)\n",
      "Skipping malformed line (line 563909)\n",
      "Skipping malformed line (line 564036)\n",
      "Skipping malformed line (line 564241)\n",
      "Skipping malformed line (line 565102)\n",
      "Skipping malformed line (line 565572)\n",
      "Skipping malformed line (line 566080)\n",
      "Skipping malformed line (line 566086)\n",
      "Skipping malformed line (line 566240)\n",
      "Skipping malformed line (line 566702)\n",
      "Skipping malformed line (line 566797)\n",
      "Skipping malformed line (line 567455)\n",
      "Skipping malformed line (line 567484)\n",
      "Skipping malformed line (line 567618)\n",
      "Skipping malformed line (line 567968)\n",
      "Skipping malformed line (line 568547)\n",
      "Skipping malformed line (line 568683)\n",
      "Skipping malformed line (line 569292)\n",
      "Skipping malformed line (line 569804)\n",
      "Skipping malformed line (line 571032)\n",
      "Skipping malformed line (line 571576)\n",
      "Skipping malformed line (line 571748)\n",
      "Skipping malformed line (line 571856)\n",
      "Skipping malformed line (line 571864)\n",
      "Skipping malformed line (line 572499)\n",
      "Skipping malformed line (line 572769)\n",
      "Skipping malformed line (line 573527)\n",
      "Skipping malformed line (line 574648)\n",
      "Skipping malformed line (line 574765)\n",
      "Skipping malformed line (line 574881)\n",
      "Skipping malformed line (line 575185)\n",
      "Skipping malformed line (line 577224)\n",
      "Skipping malformed line (line 577657)\n",
      "Skipping malformed line (line 578277)\n",
      "Skipping malformed line (line 578343)\n",
      "Skipping malformed line (line 578674)\n",
      "Skipping malformed line (line 579667)\n",
      "Skipping malformed line (line 580496)\n",
      "Skipping malformed line (line 580605)\n",
      "Skipping malformed line (line 581372)\n",
      "Skipping malformed line (line 582121)\n",
      "Skipping malformed line (line 582564)\n",
      "Skipping malformed line (line 582720)\n",
      "Skipping malformed line (line 582830)\n",
      "Skipping malformed line (line 583007)\n",
      "Skipping malformed line (line 584120)\n",
      "Skipping malformed line (line 584149)\n",
      "Skipping malformed line (line 584772)\n",
      "Skipping malformed line (line 584775)\n",
      "Skipping malformed line (line 585604)\n",
      "Skipping malformed line (line 586013)\n",
      "Skipping malformed line (line 586493)\n",
      "Skipping malformed line (line 587626)\n",
      "Skipping malformed line (line 587653)\n",
      "Skipping malformed line (line 588223)\n",
      "Skipping malformed line (line 589748)\n",
      "Skipping malformed line (line 589984)\n",
      "Skipping malformed line (line 590407)\n",
      "Skipping malformed line (line 591508)\n",
      "Skipping malformed line (line 592112)\n",
      "Skipping malformed line (line 592902)\n",
      "Skipping malformed line (line 593359)\n",
      "Skipping malformed line (line 593503)\n",
      "Skipping malformed line (line 593881)\n",
      "Skipping malformed line (line 595397)\n",
      "Skipping malformed line (line 595565)\n",
      "Skipping malformed line (line 596037)\n",
      "Skipping malformed line (line 596366)\n",
      "Skipping malformed line (line 596592)\n",
      "Skipping malformed line (line 597120)\n",
      "Skipping malformed line (line 597766)\n",
      "Skipping malformed line (line 597768)\n",
      "Skipping malformed line (line 598157)\n",
      "Skipping malformed line (line 598985)\n",
      "Skipping malformed line (line 599016)\n",
      "Skipping malformed line (line 600169)\n",
      "Skipping malformed line (line 600788)\n",
      "Skipping malformed line (line 601256)\n",
      "Skipping malformed line (line 602220)\n",
      "Skipping malformed line (line 602346)\n",
      "Skipping malformed line (line 602628)\n",
      "Skipping malformed line (line 603272)\n",
      "Skipping malformed line (line 603422)\n",
      "Skipping malformed line (line 603649)\n",
      "Skipping malformed line (line 603807)\n",
      "Skipping malformed line (line 604050)\n",
      "Skipping malformed line (line 607125)\n",
      "Skipping malformed line (line 608018)\n",
      "Skipping malformed line (line 608050)\n",
      "Skipping malformed line (line 609003)\n",
      "Skipping malformed line (line 610295)\n",
      "Skipping malformed line (line 611712)\n",
      "Skipping malformed line (line 612129)\n",
      "Skipping malformed line (line 612331)\n",
      "Skipping malformed line (line 613291)\n",
      "Skipping malformed line (line 614410)\n",
      "Skipping malformed line (line 614791)\n",
      "Skipping malformed line (line 615757)\n",
      "Skipping malformed line (line 616788)\n",
      "Skipping malformed line (line 617396)\n",
      "Skipping malformed line (line 617491)\n",
      "Skipping malformed line (line 618362)\n",
      "Skipping malformed line (line 618458)\n",
      "Skipping malformed line (line 618775)\n",
      "Skipping malformed line (line 618923)\n",
      "Skipping malformed line (line 620205)\n",
      "Skipping malformed line (line 620946)\n",
      "Skipping malformed line (line 621957)\n",
      "Skipping malformed line (line 621983)\n",
      "Skipping malformed line (line 621986)\n",
      "Skipping malformed line (line 622922)\n",
      "Skipping malformed line (line 623001)\n",
      "Skipping malformed line (line 623075)\n",
      "Skipping malformed line (line 623729)\n",
      "Skipping malformed line (line 624827)\n",
      "Skipping malformed line (line 626089)\n",
      "Skipping malformed line (line 627413)\n",
      "Skipping malformed line (line 627523)\n",
      "Skipping malformed line (line 627708)\n",
      "Skipping malformed line (line 627719)\n",
      "Skipping malformed line (line 628131)\n",
      "Skipping malformed line (line 628136)\n",
      "Skipping malformed line (line 628170)\n",
      "Skipping malformed line (line 628344)\n",
      "Skipping malformed line (line 628618)\n",
      "Skipping malformed line (line 628781)\n",
      "Skipping malformed line (line 629146)\n",
      "Skipping malformed line (line 629159)\n",
      "Skipping malformed line (line 629206)\n",
      "Skipping malformed line (line 629232)\n",
      "Skipping malformed line (line 629358)\n",
      "Skipping malformed line (line 629362)\n",
      "Skipping malformed line (line 630280)\n",
      "Skipping malformed line (line 631517)\n",
      "Skipping malformed line (line 631608)\n",
      "Skipping malformed line (line 631646)\n",
      "Skipping malformed line (line 631842)\n",
      "Skipping malformed line (line 631845)\n",
      "Skipping malformed line (line 632988)\n",
      "Skipping malformed line (line 633051)\n",
      "Skipping malformed line (line 633053)\n",
      "Skipping malformed line (line 633524)\n",
      "Skipping malformed line (line 633937)\n",
      "Skipping malformed line (line 634138)\n",
      "Skipping malformed line (line 634479)\n",
      "Skipping malformed line (line 634858)\n",
      "Skipping malformed line (line 634947)\n",
      "Skipping malformed line (line 635101)\n",
      "Skipping malformed line (line 635103)\n",
      "Skipping malformed line (line 635360)\n",
      "Skipping malformed line (line 635611)\n",
      "Skipping malformed line (line 636213)\n",
      "Skipping malformed line (line 636575)\n",
      "Skipping malformed line (line 637556)\n",
      "Skipping malformed line (line 637619)\n",
      "Skipping malformed line (line 637631)\n",
      "Skipping malformed line (line 637694)\n",
      "Skipping malformed line (line 638285)\n",
      "Skipping malformed line (line 638419)\n",
      "Skipping malformed line (line 638445)\n",
      "Skipping malformed line (line 638467)\n",
      "Skipping malformed line (line 638488)\n",
      "Skipping malformed line (line 638736)\n",
      "Skipping malformed line (line 639431)\n",
      "Skipping malformed line (line 639793)\n",
      "Skipping malformed line (line 640631)\n",
      "Skipping malformed line (line 640966)\n",
      "Skipping malformed line (line 640990)\n",
      "Skipping malformed line (line 641004)\n",
      "Skipping malformed line (line 641006)\n",
      "Skipping malformed line (line 641089)\n",
      "Skipping malformed line (line 641486)\n",
      "Skipping malformed line (line 642275)\n",
      "Skipping malformed line (line 642808)\n",
      "Skipping malformed line (line 643010)\n",
      "Skipping malformed line (line 643016)\n",
      "Skipping malformed line (line 643304)\n",
      "Skipping malformed line (line 643317)\n",
      "Skipping malformed line (line 643547)\n",
      "Skipping malformed line (line 644380)\n",
      "Skipping malformed line (line 644492)\n",
      "Skipping malformed line (line 645143)\n",
      "Skipping malformed line (line 645508)\n",
      "Skipping malformed line (line 645511)\n",
      "Skipping malformed line (line 645699)\n",
      "Skipping malformed line (line 645872)\n",
      "Skipping malformed line (line 645926)\n",
      "Skipping malformed line (line 646039)\n",
      "Skipping malformed line (line 646262)\n",
      "Skipping malformed line (line 646657)\n",
      "Skipping malformed line (line 647024)\n",
      "Skipping malformed line (line 647311)\n",
      "Skipping malformed line (line 647409)\n",
      "Skipping malformed line (line 647684)\n",
      "Skipping malformed line (line 647705)\n",
      "Skipping malformed line (line 647798)\n",
      "Skipping malformed line (line 648609)\n",
      "Skipping malformed line (line 649528)\n",
      "Skipping malformed line (line 650640)\n",
      "Skipping malformed line (line 651869)\n",
      "Skipping malformed line (line 653326)\n",
      "Skipping malformed line (line 653602)\n",
      "Skipping malformed line (line 653607)\n",
      "Skipping malformed line (line 653870)\n",
      "Skipping malformed line (line 654020)\n",
      "Skipping malformed line (line 654695)\n",
      "Skipping malformed line (line 655632)\n",
      "Skipping malformed line (line 655970)\n",
      "Skipping malformed line (line 656107)\n",
      "Skipping malformed line (line 656407)\n",
      "Skipping malformed line (line 656592)\n",
      "Skipping malformed line (line 657303)\n",
      "Skipping malformed line (line 657353)\n",
      "Skipping malformed line (line 657357)\n",
      "Skipping malformed line (line 658119)\n",
      "Skipping malformed line (line 658427)\n",
      "Skipping malformed line (line 658718)\n",
      "Skipping malformed line (line 659899)\n",
      "Skipping malformed line (line 660383)\n",
      "Skipping malformed line (line 660575)\n",
      "Skipping malformed line (line 660793)\n",
      "Skipping malformed line (line 660917)\n",
      "Skipping malformed line (line 661026)\n",
      "Skipping malformed line (line 661040)\n",
      "Skipping malformed line (line 661045)\n",
      "Skipping malformed line (line 661434)\n",
      "Skipping malformed line (line 661453)\n",
      "Skipping malformed line (line 661641)\n",
      "Skipping malformed line (line 661847)\n",
      "Skipping malformed line (line 661927)\n",
      "Skipping malformed line (line 663774)\n",
      "Skipping malformed line (line 663778)\n",
      "Skipping malformed line (line 663846)\n",
      "Skipping malformed line (line 664410)\n",
      "Skipping malformed line (line 664884)\n",
      "Skipping malformed line (line 665297)\n",
      "Skipping malformed line (line 665497)\n",
      "Skipping malformed line (line 665717)\n",
      "Skipping malformed line (line 665926)\n",
      "Skipping malformed line (line 667221)\n",
      "Skipping malformed line (line 667325)\n",
      "Skipping malformed line (line 667393)\n",
      "Skipping malformed line (line 667461)\n",
      "Skipping malformed line (line 667889)\n",
      "Skipping malformed line (line 668115)\n",
      "Skipping malformed line (line 668402)\n",
      "Skipping malformed line (line 668900)\n",
      "Skipping malformed line (line 669271)\n",
      "Skipping malformed line (line 669350)\n",
      "Skipping malformed line (line 669428)\n",
      "Skipping malformed line (line 669617)\n",
      "Skipping malformed line (line 669678)\n",
      "Skipping malformed line (line 670572)\n",
      "Skipping malformed line (line 670574)\n",
      "Skipping malformed line (line 670745)\n",
      "Skipping malformed line (line 670810)\n",
      "Skipping malformed line (line 670814)\n",
      "Skipping malformed line (line 670971)\n",
      "Skipping malformed line (line 671773)\n",
      "Skipping malformed line (line 671776)\n",
      "Skipping malformed line (line 672061)\n",
      "Skipping malformed line (line 672066)\n",
      "Skipping malformed line (line 672708)\n",
      "Skipping malformed line (line 672773)\n",
      "Skipping malformed line (line 672833)\n",
      "Skipping malformed line (line 672959)\n",
      "Skipping malformed line (line 673052)\n",
      "Skipping malformed line (line 673054)\n",
      "Skipping malformed line (line 673078)\n",
      "Skipping malformed line (line 673276)\n",
      "Skipping malformed line (line 673366)\n",
      "Skipping malformed line (line 673457)\n",
      "Skipping malformed line (line 673461)\n",
      "Skipping malformed line (line 673814)\n",
      "Skipping malformed line (line 674694)\n",
      "Skipping malformed line (line 675095)\n",
      "Skipping malformed line (line 675506)\n",
      "Skipping malformed line (line 675515)\n",
      "Skipping malformed line (line 675623)\n",
      "Skipping malformed line (line 676118)\n",
      "Skipping malformed line (line 677011)\n",
      "Skipping malformed line (line 677077)\n",
      "Skipping malformed line (line 677345)\n",
      "Skipping malformed line (line 678405)\n",
      "Skipping malformed line (line 678978)\n",
      "Skipping malformed line (line 680031)\n",
      "Skipping malformed line (line 680159)\n",
      "Skipping malformed line (line 680275)\n",
      "Skipping malformed line (line 680645)\n",
      "Skipping malformed line (line 680772)\n",
      "Skipping malformed line (line 681702)\n",
      "Skipping malformed line (line 681909)\n",
      "Skipping malformed line (line 682314)\n",
      "Skipping malformed line (line 682500)\n",
      "Skipping malformed line (line 682590)\n",
      "Skipping malformed line (line 683126)\n",
      "Skipping malformed line (line 683323)\n",
      "Skipping malformed line (line 683350)\n",
      "Skipping malformed line (line 683427)\n",
      "Skipping malformed line (line 684509)\n",
      "Skipping malformed line (line 684641)\n",
      "Skipping malformed line (line 684644)\n",
      "Skipping malformed line (line 684910)\n",
      "Skipping malformed line (line 685411)\n",
      "Skipping malformed line (line 685544)\n",
      "Skipping malformed line (line 685771)\n",
      "Skipping malformed line (line 685774)\n",
      "Skipping malformed line (line 686888)\n",
      "Skipping malformed line (line 686923)\n",
      "Skipping malformed line (line 687400)\n",
      "Skipping malformed line (line 687506)\n",
      "Skipping malformed line (line 687729)\n",
      "Skipping malformed line (line 687731)\n",
      "Skipping malformed line (line 688320)\n",
      "Skipping malformed line (line 688511)\n",
      "Skipping malformed line (line 688672)\n",
      "Skipping malformed line (line 688770)\n",
      "Skipping malformed line (line 688785)\n",
      "Skipping malformed line (line 689010)\n",
      "Skipping malformed line (line 689805)\n",
      "Skipping malformed line (line 689868)\n",
      "Skipping malformed line (line 689947)\n",
      "Skipping malformed line (line 690940)\n",
      "Skipping malformed line (line 691043)\n",
      "Skipping malformed line (line 691265)\n",
      "Skipping malformed line (line 691570)\n",
      "Skipping malformed line (line 692875)\n",
      "Skipping malformed line (line 693147)\n",
      "Skipping malformed line (line 693171)\n",
      "Skipping malformed line (line 693317)\n",
      "Skipping malformed line (line 693562)\n",
      "Skipping malformed line (line 695458)\n",
      "Skipping malformed line (line 696068)\n",
      "Skipping malformed line (line 696279)\n",
      "Skipping malformed line (line 696593)\n",
      "Skipping malformed line (line 697350)\n",
      "Skipping malformed line (line 698194)\n",
      "Skipping malformed line (line 698362)\n",
      "Skipping malformed line (line 698405)\n",
      "Skipping malformed line (line 698521)\n",
      "Skipping malformed line (line 698536)\n",
      "Skipping malformed line (line 699161)\n",
      "Skipping malformed line (line 699169)\n",
      "Skipping malformed line (line 699173)\n",
      "Skipping malformed line (line 699270)\n",
      "Skipping malformed line (line 699968)\n",
      "Skipping malformed line (line 700129)\n",
      "Skipping malformed line (line 700288)\n",
      "Skipping malformed line (line 700345)\n",
      "Skipping malformed line (line 700617)\n",
      "Skipping malformed line (line 700950)\n",
      "Skipping malformed line (line 701487)\n",
      "Skipping malformed line (line 701851)\n",
      "Skipping malformed line (line 701902)\n",
      "Skipping malformed line (line 701927)\n",
      "Skipping malformed line (line 702277)\n",
      "Skipping malformed line (line 703164)\n",
      "Skipping malformed line (line 703272)\n",
      "Skipping malformed line (line 703405)\n",
      "Skipping malformed line (line 703470)\n",
      "Skipping malformed line (line 704058)\n",
      "Skipping malformed line (line 705380)\n",
      "Skipping malformed line (line 705441)\n",
      "Skipping malformed line (line 705676)\n",
      "Skipping malformed line (line 705776)\n",
      "Skipping malformed line (line 705986)\n",
      "Skipping malformed line (line 706306)\n",
      "Skipping malformed line (line 706498)\n",
      "Skipping malformed line (line 706945)\n",
      "Skipping malformed line (line 707226)\n",
      "Skipping malformed line (line 707266)\n",
      "Skipping malformed line (line 707569)\n",
      "Skipping malformed line (line 708195)\n",
      "Skipping malformed line (line 708848)\n",
      "Skipping malformed line (line 710268)\n",
      "Skipping malformed line (line 710274)\n",
      "Skipping malformed line (line 710331)\n",
      "Skipping malformed line (line 711181)\n",
      "Skipping malformed line (line 711431)\n",
      "Skipping malformed line (line 711566)\n",
      "Skipping malformed line (line 711605)\n",
      "Skipping malformed line (line 711878)\n",
      "Skipping malformed line (line 712705)\n",
      "Skipping malformed line (line 712842)\n",
      "Skipping malformed line (line 712965)\n",
      "Skipping malformed line (line 713236)\n",
      "Skipping malformed line (line 713377)\n",
      "Skipping malformed line (line 713515)\n",
      "Skipping malformed line (line 713702)\n",
      "Skipping malformed line (line 713771)\n",
      "Skipping malformed line (line 714180)\n",
      "Skipping malformed line (line 714427)\n",
      "Skipping malformed line (line 714573)\n",
      "Skipping malformed line (line 715181)\n",
      "Skipping malformed line (line 715921)\n",
      "Skipping malformed line (line 716018)\n",
      "Skipping malformed line (line 716034)\n",
      "Skipping malformed line (line 716307)\n",
      "Skipping malformed line (line 716321)\n",
      "Skipping malformed line (line 716521)\n",
      "Skipping malformed line (line 717044)\n",
      "Skipping malformed line (line 717229)\n",
      "Skipping malformed line (line 717577)\n",
      "Skipping malformed line (line 717911)\n",
      "Skipping malformed line (line 718357)\n",
      "Skipping malformed line (line 718627)\n",
      "Skipping malformed line (line 718697)\n",
      "Skipping malformed line (line 719055)\n",
      "Skipping malformed line (line 719668)\n",
      "Skipping malformed line (line 720903)\n",
      "Skipping malformed line (line 721222)\n",
      "Skipping malformed line (line 721795)\n",
      "Skipping malformed line (line 722890)\n",
      "Skipping malformed line (line 723711)\n",
      "Skipping malformed line (line 723835)\n",
      "Skipping malformed line (line 725454)\n",
      "Skipping malformed line (line 725542)\n",
      "Skipping malformed line (line 725758)\n",
      "Skipping malformed line (line 725761)\n",
      "Skipping malformed line (line 725805)\n",
      "Skipping malformed line (line 725959)\n",
      "Skipping malformed line (line 726104)\n",
      "Skipping malformed line (line 726630)\n",
      "Skipping malformed line (line 726848)\n",
      "Skipping malformed line (line 727066)\n",
      "Skipping malformed line (line 728554)\n",
      "Skipping malformed line (line 729649)\n",
      "Skipping malformed line (line 730164)\n",
      "Skipping malformed line (line 735375)\n",
      "Skipping malformed line (line 743705)\n",
      "Skipping malformed line (line 745821)\n",
      "Skipping malformed line (line 745866)\n",
      "Skipping malformed line (line 745873)\n",
      "Skipping malformed line (line 745913)\n",
      "Skipping malformed line (line 746034)\n",
      "Skipping malformed line (line 746155)\n",
      "Skipping malformed line (line 746192)\n",
      "Skipping malformed line (line 746196)\n",
      "Skipping malformed line (line 746242)\n",
      "Skipping malformed line (line 746246)\n",
      "Skipping malformed line (line 746258)\n",
      "Skipping malformed line (line 746309)\n",
      "Skipping malformed line (line 746505)\n",
      "Skipping malformed line (line 746518)\n",
      "Skipping malformed line (line 746644)\n",
      "Skipping malformed line (line 746922)\n",
      "Skipping malformed line (line 746964)\n",
      "Skipping malformed line (line 746972)\n",
      "Skipping malformed line (line 747458)\n",
      "Skipping malformed line (line 747678)\n",
      "Skipping malformed line (line 747892)\n",
      "Skipping malformed line (line 748105)\n",
      "Skipping malformed line (line 748275)\n",
      "Skipping malformed line (line 748430)\n",
      "Skipping malformed line (line 748675)\n",
      "Skipping malformed line (line 748714)\n",
      "Skipping malformed line (line 748716)\n",
      "Skipping malformed line (line 748954)\n",
      "Skipping malformed line (line 749626)\n",
      "Skipping malformed line (line 749686)\n",
      "Skipping malformed line (line 749688)\n",
      "Skipping malformed line (line 751064)\n",
      "Skipping malformed line (line 751182)\n",
      "Skipping malformed line (line 751200)\n",
      "Skipping malformed line (line 751264)\n",
      "Skipping malformed line (line 751446)\n",
      "Skipping malformed line (line 751963)\n",
      "Skipping malformed line (line 752016)\n",
      "Skipping malformed line (line 752449)\n",
      "Skipping malformed line (line 752666)\n",
      "Skipping malformed line (line 752952)\n",
      "Skipping malformed line (line 753095)\n",
      "Skipping malformed line (line 753198)\n",
      "Skipping malformed line (line 753369)\n",
      "Skipping malformed line (line 753387)\n",
      "Skipping malformed line (line 753489)\n",
      "Skipping malformed line (line 753688)\n",
      "Skipping malformed line (line 754118)\n",
      "Skipping malformed line (line 754358)\n",
      "Skipping malformed line (line 754477)\n",
      "Skipping malformed line (line 754483)\n",
      "Skipping malformed line (line 754489)\n",
      "Skipping malformed line (line 754586)\n",
      "Skipping malformed line (line 754958)\n",
      "Skipping malformed line (line 755516)\n",
      "Skipping malformed line (line 755550)\n",
      "Skipping malformed line (line 756312)\n",
      "Skipping malformed line (line 756327)\n",
      "Skipping malformed line (line 756492)\n",
      "Skipping malformed line (line 756973)\n",
      "Skipping malformed line (line 757221)\n",
      "Skipping malformed line (line 757708)\n",
      "Skipping malformed line (line 757797)\n",
      "Skipping malformed line (line 758151)\n",
      "Skipping malformed line (line 758279)\n",
      "Skipping malformed line (line 758281)\n",
      "Skipping malformed line (line 758374)\n",
      "Skipping malformed line (line 758818)\n",
      "Skipping malformed line (line 758903)\n",
      "Skipping malformed line (line 759328)\n",
      "Skipping malformed line (line 759782)\n",
      "Skipping malformed line (line 760643)\n",
      "Skipping malformed line (line 761858)\n",
      "Skipping malformed line (line 762390)\n",
      "Skipping malformed line (line 763020)\n",
      "Skipping malformed line (line 764065)\n",
      "Skipping malformed line (line 764278)\n",
      "Skipping malformed line (line 764546)\n",
      "Skipping malformed line (line 764595)\n",
      "Skipping malformed line (line 764860)\n",
      "Skipping malformed line (line 765076)\n",
      "Skipping malformed line (line 766327)\n",
      "Skipping malformed line (line 766329)\n",
      "Skipping malformed line (line 766404)\n",
      "Skipping malformed line (line 766552)\n",
      "Skipping malformed line (line 766689)\n",
      "Skipping malformed line (line 766918)\n",
      "Skipping malformed line (line 766923)\n",
      "Skipping malformed line (line 767138)\n",
      "Skipping malformed line (line 767801)\n",
      "Skipping malformed line (line 768164)\n",
      "Skipping malformed line (line 768246)\n",
      "Skipping malformed line (line 768271)\n",
      "Skipping malformed line (line 768627)\n",
      "Skipping malformed line (line 768735)\n",
      "Skipping malformed line (line 768790)\n",
      "Skipping malformed line (line 769182)\n",
      "Skipping malformed line (line 770491)\n",
      "Skipping malformed line (line 771083)\n",
      "Skipping malformed line (line 771472)\n",
      "Skipping malformed line (line 772413)\n",
      "Skipping malformed line (line 772963)\n",
      "Skipping malformed line (line 773011)\n",
      "Skipping malformed line (line 773229)\n",
      "Skipping malformed line (line 773631)\n",
      "Skipping malformed line (line 773733)\n",
      "Skipping malformed line (line 773837)\n",
      "Skipping malformed line (line 774103)\n",
      "Skipping malformed line (line 774105)\n",
      "Skipping malformed line (line 774539)\n",
      "Skipping malformed line (line 774939)\n",
      "Skipping malformed line (line 775731)\n",
      "Skipping malformed line (line 776158)\n",
      "Skipping malformed line (line 776766)\n",
      "Skipping malformed line (line 776826)\n",
      "Skipping malformed line (line 777802)\n",
      "Skipping malformed line (line 777804)\n",
      "Skipping malformed line (line 778235)\n",
      "Skipping malformed line (line 778477)\n",
      "Skipping malformed line (line 778479)\n",
      "Skipping malformed line (line 778805)\n",
      "Skipping malformed line (line 779596)\n",
      "Skipping malformed line (line 779825)\n",
      "Skipping malformed line (line 779943)\n",
      "Skipping malformed line (line 780008)\n",
      "Skipping malformed line (line 780655)\n",
      "Skipping malformed line (line 780797)\n",
      "Skipping malformed line (line 781561)\n",
      "Skipping malformed line (line 782114)\n",
      "Skipping malformed line (line 782541)\n",
      "Skipping malformed line (line 782570)\n",
      "Skipping malformed line (line 783025)\n",
      "Skipping malformed line (line 783300)\n",
      "Skipping malformed line (line 784322)\n",
      "Skipping malformed line (line 784415)\n",
      "Skipping malformed line (line 784722)\n",
      "Skipping malformed line (line 784844)\n",
      "Skipping malformed line (line 785360)\n",
      "Skipping malformed line (line 785837)\n",
      "Skipping malformed line (line 785839)\n",
      "Skipping malformed line (line 786139)\n",
      "Skipping malformed line (line 786233)\n",
      "Skipping malformed line (line 786463)\n",
      "Skipping malformed line (line 786467)\n",
      "Skipping malformed line (line 787601)\n",
      "Skipping malformed line (line 788633)\n",
      "Skipping malformed line (line 789515)\n",
      "Skipping malformed line (line 789705)\n",
      "Skipping malformed line (line 789966)\n",
      "Skipping malformed line (line 790225)\n",
      "Skipping malformed line (line 790354)\n",
      "Skipping malformed line (line 790392)\n",
      "Skipping malformed line (line 791599)\n",
      "Skipping malformed line (line 792208)\n",
      "Skipping malformed line (line 792272)\n",
      "Skipping malformed line (line 792530)\n",
      "Skipping malformed line (line 792578)\n",
      "Skipping malformed line (line 792833)\n",
      "Skipping malformed line (line 792835)\n",
      "Skipping malformed line (line 792930)\n",
      "Skipping malformed line (line 794945)\n",
      "Skipping malformed line (line 795146)\n",
      "Skipping malformed line (line 795918)\n",
      "Skipping malformed line (line 797905)\n",
      "Skipping malformed line (line 798103)\n",
      "Skipping malformed line (line 798205)\n",
      "Skipping malformed line (line 798657)\n",
      "Skipping malformed line (line 798752)\n",
      "Skipping malformed line (line 798756)\n",
      "Skipping malformed line (line 798879)\n",
      "Skipping malformed line (line 799318)\n",
      "Skipping malformed line (line 799532)\n",
      "Skipping malformed line (line 801608)\n",
      "Skipping malformed line (line 802115)\n",
      "Skipping malformed line (line 802315)\n",
      "Skipping malformed line (line 802583)\n",
      "Skipping malformed line (line 802970)\n",
      "Skipping malformed line (line 802993)\n",
      "Skipping malformed line (line 803565)\n",
      "Skipping malformed line (line 803759)\n",
      "Skipping malformed line (line 804061)\n",
      "Skipping malformed line (line 804064)\n",
      "Skipping malformed line (line 804360)\n",
      "Skipping malformed line (line 804565)\n",
      "Skipping malformed line (line 804718)\n",
      "Skipping malformed line (line 804940)\n",
      "Skipping malformed line (line 804946)\n",
      "Skipping malformed line (line 804999)\n",
      "Skipping malformed line (line 805110)\n",
      "Skipping malformed line (line 807210)\n",
      "Skipping malformed line (line 807255)\n",
      "Skipping malformed line (line 807610)\n",
      "Skipping malformed line (line 808212)\n",
      "Skipping malformed line (line 808214)\n",
      "Skipping malformed line (line 808402)\n",
      "Skipping malformed line (line 808405)\n",
      "Skipping malformed line (line 808900)\n",
      "Skipping malformed line (line 809078)\n",
      "Skipping malformed line (line 809081)\n",
      "Skipping malformed line (line 809202)\n",
      "Skipping malformed line (line 809220)\n",
      "Skipping malformed line (line 809469)\n",
      "Skipping malformed line (line 810810)\n",
      "Skipping malformed line (line 810815)\n",
      "Skipping malformed line (line 811248)\n",
      "Skipping malformed line (line 813667)\n",
      "Skipping malformed line (line 813689)\n",
      "Skipping malformed line (line 814127)\n",
      "Skipping malformed line (line 814299)\n",
      "Skipping malformed line (line 814997)\n",
      "Skipping malformed line (line 815631)\n",
      "Skipping malformed line (line 816448)\n",
      "Skipping malformed line (line 816450)\n",
      "Skipping malformed line (line 816561)\n",
      "Skipping malformed line (line 816596)\n",
      "Skipping malformed line (line 816959)\n",
      "Skipping malformed line (line 817124)\n",
      "Skipping malformed line (line 817282)\n",
      "Skipping malformed line (line 818236)\n",
      "Skipping malformed line (line 818316)\n",
      "Skipping malformed line (line 818796)\n",
      "Skipping malformed line (line 818897)\n",
      "Skipping malformed line (line 819260)\n",
      "Skipping malformed line (line 820398)\n",
      "Skipping malformed line (line 821158)\n",
      "Skipping malformed line (line 821186)\n",
      "Skipping malformed line (line 821241)\n",
      "Skipping malformed line (line 821451)\n",
      "Skipping malformed line (line 821492)\n",
      "Skipping malformed line (line 821494)\n",
      "Skipping malformed line (line 821670)\n",
      "Skipping malformed line (line 821888)\n",
      "Skipping malformed line (line 822010)\n",
      "Skipping malformed line (line 822147)\n",
      "Skipping malformed line (line 822150)\n",
      "Skipping malformed line (line 822963)\n",
      "Skipping malformed line (line 824385)\n",
      "Skipping malformed line (line 824443)\n",
      "Skipping malformed line (line 824599)\n",
      "Skipping malformed line (line 825881)\n",
      "Skipping malformed line (line 826376)\n",
      "Skipping malformed line (line 826670)\n",
      "Skipping malformed line (line 827931)\n",
      "Skipping malformed line (line 828224)\n",
      "Skipping malformed line (line 828401)\n",
      "Skipping malformed line (line 829682)\n",
      "Skipping malformed line (line 829685)\n",
      "Skipping malformed line (line 830242)\n",
      "Skipping malformed line (line 830824)\n",
      "Skipping malformed line (line 831104)\n",
      "Skipping malformed line (line 831231)\n",
      "Skipping malformed line (line 831903)\n",
      "Skipping malformed line (line 831936)\n",
      "Skipping malformed line (line 832003)\n",
      "Skipping malformed line (line 832089)\n",
      "Skipping malformed line (line 832291)\n",
      "Skipping malformed line (line 832726)\n",
      "Skipping malformed line (line 833118)\n",
      "Skipping malformed line (line 833124)\n",
      "Skipping malformed line (line 833130)\n",
      "Skipping malformed line (line 833146)\n",
      "Skipping malformed line (line 833616)\n",
      "Skipping malformed line (line 834362)\n",
      "Skipping malformed line (line 834567)\n",
      "Skipping malformed line (line 834878)\n",
      "Skipping malformed line (line 835082)\n",
      "Skipping malformed line (line 835347)\n",
      "Skipping malformed line (line 835370)\n",
      "Skipping malformed line (line 835643)\n",
      "Skipping malformed line (line 836456)\n",
      "Skipping malformed line (line 836756)\n",
      "Skipping malformed line (line 836832)\n",
      "Skipping malformed line (line 837190)\n",
      "Skipping malformed line (line 837400)\n",
      "Skipping malformed line (line 837467)\n",
      "Skipping malformed line (line 837784)\n",
      "Skipping malformed line (line 838347)\n",
      "Skipping malformed line (line 838656)\n",
      "Skipping malformed line (line 838691)\n",
      "Skipping malformed line (line 838911)\n",
      "Skipping malformed line (line 839458)\n",
      "Skipping malformed line (line 840205)\n",
      "Skipping malformed line (line 840386)\n",
      "Skipping malformed line (line 841259)\n",
      "Skipping malformed line (line 841265)\n",
      "Skipping malformed line (line 841267)\n",
      "Skipping malformed line (line 841437)\n",
      "Skipping malformed line (line 841439)\n",
      "Skipping malformed line (line 841563)\n",
      "Skipping malformed line (line 841581)\n",
      "Skipping malformed line (line 841593)\n",
      "Skipping malformed line (line 841628)\n",
      "Skipping malformed line (line 841842)\n",
      "Skipping malformed line (line 842394)\n",
      "Skipping malformed line (line 842449)\n",
      "Skipping malformed line (line 842817)\n",
      "Skipping malformed line (line 844566)\n",
      "Skipping malformed line (line 844819)\n",
      "Skipping malformed line (line 844988)\n",
      "Skipping malformed line (line 845323)\n",
      "Skipping malformed line (line 845599)\n",
      "Skipping malformed line (line 845628)\n",
      "Skipping malformed line (line 845861)\n",
      "Skipping malformed line (line 846035)\n",
      "Skipping malformed line (line 846454)\n",
      "Skipping malformed line (line 846578)\n",
      "Skipping malformed line (line 846773)\n",
      "Skipping malformed line (line 846944)\n",
      "Skipping malformed line (line 847130)\n",
      "Skipping malformed line (line 847569)\n",
      "Skipping malformed line (line 848251)\n",
      "Skipping malformed line (line 848365)\n",
      "Skipping malformed line (line 848878)\n",
      "Skipping malformed line (line 848939)\n",
      "Skipping malformed line (line 849125)\n",
      "Skipping malformed line (line 849247)\n",
      "Skipping malformed line (line 849343)\n",
      "Skipping malformed line (line 849345)\n",
      "Skipping malformed line (line 849607)\n",
      "Skipping malformed line (line 849932)\n",
      "Skipping malformed line (line 849936)\n",
      "Skipping malformed line (line 849941)\n",
      "Skipping malformed line (line 850004)\n",
      "Skipping malformed line (line 850200)\n",
      "Skipping malformed line (line 850320)\n",
      "Skipping malformed line (line 850503)\n",
      "Skipping malformed line (line 850524)\n",
      "Skipping malformed line (line 850635)\n",
      "Skipping malformed line (line 850875)\n",
      "Skipping malformed line (line 851792)\n",
      "Skipping malformed line (line 851872)\n",
      "Skipping malformed line (line 851904)\n",
      "Skipping malformed line (line 852106)\n",
      "Skipping malformed line (line 852428)\n",
      "Skipping malformed line (line 852607)\n",
      "Skipping malformed line (line 852953)\n",
      "Skipping malformed line (line 853310)\n",
      "Skipping malformed line (line 853317)\n",
      "Skipping malformed line (line 853484)\n",
      "Skipping malformed line (line 853931)\n",
      "Skipping malformed line (line 854393)\n",
      "Skipping malformed line (line 854610)\n",
      "Skipping malformed line (line 854679)\n",
      "Skipping malformed line (line 854730)\n",
      "Skipping malformed line (line 854815)\n",
      "Skipping malformed line (line 854932)\n",
      "Skipping malformed line (line 855168)\n",
      "Skipping malformed line (line 855384)\n",
      "Skipping malformed line (line 855517)\n",
      "Skipping malformed line (line 855522)\n",
      "Skipping malformed line (line 855738)\n",
      "Skipping malformed line (line 855927)\n",
      "Skipping malformed line (line 856630)\n",
      "Skipping malformed line (line 856658)\n",
      "Skipping malformed line (line 856855)\n",
      "Skipping malformed line (line 857204)\n",
      "Skipping malformed line (line 857217)\n",
      "Skipping malformed line (line 857286)\n",
      "Skipping malformed line (line 857517)\n",
      "Skipping malformed line (line 857666)\n",
      "Skipping malformed line (line 857828)\n",
      "Skipping malformed line (line 857865)\n",
      "Skipping malformed line (line 857887)\n",
      "Skipping malformed line (line 858583)\n",
      "Skipping malformed line (line 858599)\n",
      "Skipping malformed line (line 858664)\n",
      "Skipping malformed line (line 858879)\n",
      "Skipping malformed line (line 858883)\n",
      "Skipping malformed line (line 859231)\n",
      "Skipping malformed line (line 859963)\n",
      "Skipping malformed line (line 860036)\n",
      "Skipping malformed line (line 860156)\n",
      "Skipping malformed line (line 860159)\n",
      "Skipping malformed line (line 860269)\n",
      "Skipping malformed line (line 860329)\n",
      "Skipping malformed line (line 860457)\n",
      "Skipping malformed line (line 860546)\n",
      "Skipping malformed line (line 860899)\n",
      "Skipping malformed line (line 861085)\n",
      "Skipping malformed line (line 861149)\n",
      "Skipping malformed line (line 861341)\n",
      "Skipping malformed line (line 861456)\n",
      "Skipping malformed line (line 861587)\n",
      "Skipping malformed line (line 861641)\n",
      "Skipping malformed line (line 861643)\n",
      "Skipping malformed line (line 861722)\n",
      "Skipping malformed line (line 861873)\n",
      "Skipping malformed line (line 862182)\n",
      "Skipping malformed line (line 862202)\n",
      "Skipping malformed line (line 863074)\n",
      "Skipping malformed line (line 863189)\n",
      "Skipping malformed line (line 863252)\n",
      "Skipping malformed line (line 863509)\n",
      "Skipping malformed line (line 863512)\n",
      "Skipping malformed line (line 863516)\n",
      "Skipping malformed line (line 863552)\n",
      "Skipping malformed line (line 863625)\n",
      "Skipping malformed line (line 864482)\n",
      "Skipping malformed line (line 864511)\n",
      "Skipping malformed line (line 864585)\n",
      "Skipping malformed line (line 864617)\n",
      "Skipping malformed line (line 864740)\n",
      "Skipping malformed line (line 866594)\n",
      "Skipping malformed line (line 866617)\n",
      "Skipping malformed line (line 866709)\n",
      "Skipping malformed line (line 866945)\n",
      "Skipping malformed line (line 867235)\n",
      "Skipping malformed line (line 867239)\n",
      "Skipping malformed line (line 867346)\n",
      "Skipping malformed line (line 867419)\n",
      "Skipping malformed line (line 867754)\n",
      "Skipping malformed line (line 868070)\n",
      "Skipping malformed line (line 868138)\n",
      "Skipping malformed line (line 868418)\n",
      "Skipping malformed line (line 868530)\n",
      "Skipping malformed line (line 868934)\n",
      "Skipping malformed line (line 868955)\n",
      "Skipping malformed line (line 869483)\n",
      "Skipping malformed line (line 869690)\n",
      "Skipping malformed line (line 869811)\n",
      "Skipping malformed line (line 870554)\n",
      "Skipping malformed line (line 870574)\n",
      "Skipping malformed line (line 870689)\n",
      "Skipping malformed line (line 871342)\n",
      "Skipping malformed line (line 871504)\n",
      "Skipping malformed line (line 871579)\n",
      "Skipping malformed line (line 871915)\n",
      "Skipping malformed line (line 872637)\n",
      "Skipping malformed line (line 872868)\n",
      "Skipping malformed line (line 873441)\n",
      "Skipping malformed line (line 873497)\n",
      "Skipping malformed line (line 873879)\n",
      "Skipping malformed line (line 874059)\n",
      "Skipping malformed line (line 874291)\n",
      "Skipping malformed line (line 874461)\n",
      "Skipping malformed line (line 874859)\n",
      "Skipping malformed line (line 874902)\n",
      "Skipping malformed line (line 875019)\n",
      "Skipping malformed line (line 875069)\n",
      "Skipping malformed line (line 875505)\n",
      "Skipping malformed line (line 875806)\n",
      "Skipping malformed line (line 876010)\n",
      "Skipping malformed line (line 876166)\n",
      "Skipping malformed line (line 876203)\n",
      "Skipping malformed line (line 876377)\n",
      "Skipping malformed line (line 876830)\n",
      "Skipping malformed line (line 877343)\n",
      "Skipping malformed line (line 877445)\n",
      "Skipping malformed line (line 877636)\n",
      "Skipping malformed line (line 877803)\n",
      "Skipping malformed line (line 878142)\n",
      "Skipping malformed line (line 878591)\n",
      "Skipping malformed line (line 879306)\n",
      "Skipping malformed line (line 879383)\n",
      "Skipping malformed line (line 879774)\n",
      "Skipping malformed line (line 880120)\n",
      "Skipping malformed line (line 880122)\n",
      "Skipping malformed line (line 880747)\n",
      "Skipping malformed line (line 881024)\n",
      "Skipping malformed line (line 881027)\n",
      "Skipping malformed line (line 881049)\n",
      "Skipping malformed line (line 881255)\n",
      "Skipping malformed line (line 881674)\n",
      "Skipping malformed line (line 881988)\n",
      "Skipping malformed line (line 882042)\n",
      "Skipping malformed line (line 882254)\n",
      "Skipping malformed line (line 882281)\n",
      "Skipping malformed line (line 882594)\n",
      "Skipping malformed line (line 882922)\n",
      "Skipping malformed line (line 883153)\n",
      "Skipping malformed line (line 883609)\n",
      "Skipping malformed line (line 883694)\n",
      "Skipping malformed line (line 883849)\n",
      "Skipping malformed line (line 885107)\n",
      "Skipping malformed line (line 885171)\n",
      "Skipping malformed line (line 885202)\n",
      "Skipping malformed line (line 885271)\n",
      "Skipping malformed line (line 885371)\n",
      "Skipping malformed line (line 885706)\n",
      "Skipping malformed line (line 885873)\n",
      "Skipping malformed line (line 885988)\n",
      "Skipping malformed line (line 886671)\n",
      "Skipping malformed line (line 886697)\n",
      "Skipping malformed line (line 887197)\n",
      "Skipping malformed line (line 887491)\n",
      "Skipping malformed line (line 887544)\n",
      "Skipping malformed line (line 887839)\n",
      "Skipping malformed line (line 888105)\n",
      "Skipping malformed line (line 888175)\n",
      "Skipping malformed line (line 888396)\n",
      "Skipping malformed line (line 888690)\n",
      "Skipping malformed line (line 888706)\n",
      "Skipping malformed line (line 888835)\n",
      "Skipping malformed line (line 889352)\n",
      "Skipping malformed line (line 889529)\n",
      "Skipping malformed line (line 889697)\n",
      "Skipping malformed line (line 890066)\n",
      "Skipping malformed line (line 890097)\n",
      "Skipping malformed line (line 890278)\n",
      "Skipping malformed line (line 890429)\n",
      "Skipping malformed line (line 890875)\n",
      "Skipping malformed line (line 890940)\n",
      "Skipping malformed line (line 891156)\n",
      "Skipping malformed line (line 891300)\n",
      "Skipping malformed line (line 891487)\n",
      "Skipping malformed line (line 891787)\n",
      "Skipping malformed line (line 892260)\n",
      "Skipping malformed line (line 892400)\n",
      "Skipping malformed line (line 893482)\n",
      "Skipping malformed line (line 893585)\n",
      "Skipping malformed line (line 893817)\n",
      "Skipping malformed line (line 893819)\n",
      "Skipping malformed line (line 893989)\n",
      "Skipping malformed line (line 894337)\n",
      "Skipping malformed line (line 894835)\n",
      "Skipping malformed line (line 895086)\n",
      "Skipping malformed line (line 896118)\n",
      "Skipping malformed line (line 896120)\n",
      "Skipping malformed line (line 896464)\n",
      "Skipping malformed line (line 897205)\n",
      "Skipping malformed line (line 897495)\n",
      "Skipping malformed line (line 897694)\n",
      "Skipping malformed line (line 897790)\n",
      "Skipping malformed line (line 898211)\n",
      "Skipping malformed line (line 898363)\n",
      "Skipping malformed line (line 898401)\n",
      "Skipping malformed line (line 898870)\n",
      "Skipping malformed line (line 898918)\n",
      "Skipping malformed line (line 899247)\n",
      "Skipping malformed line (line 899455)\n",
      "Skipping malformed line (line 899544)\n",
      "Skipping malformed line (line 899713)\n",
      "Skipping malformed line (line 900034)\n",
      "Skipping malformed line (line 900036)\n",
      "Skipping malformed line (line 900137)\n",
      "Skipping malformed line (line 900330)\n",
      "Skipping malformed line (line 901219)\n",
      "Skipping malformed line (line 901519)\n",
      "Skipping malformed line (line 901653)\n",
      "Skipping malformed line (line 901657)\n",
      "Skipping malformed line (line 901729)\n",
      "Skipping malformed line (line 901741)\n",
      "Skipping malformed line (line 902668)\n",
      "Skipping malformed line (line 902773)\n",
      "Skipping malformed line (line 903047)\n",
      "Skipping malformed line (line 903508)\n",
      "Skipping malformed line (line 903892)\n",
      "Skipping malformed line (line 903987)\n",
      "Skipping malformed line (line 904148)\n",
      "Skipping malformed line (line 904732)\n",
      "Skipping malformed line (line 905193)\n",
      "Skipping malformed line (line 905461)\n",
      "Skipping malformed line (line 905666)\n",
      "Skipping malformed line (line 905984)\n",
      "Skipping malformed line (line 906264)\n",
      "Skipping malformed line (line 906661)\n",
      "Skipping malformed line (line 907401)\n",
      "Skipping malformed line (line 907413)\n",
      "Skipping malformed line (line 907818)\n",
      "Skipping malformed line (line 909456)\n",
      "Skipping malformed line (line 909769)\n",
      "Skipping malformed line (line 910170)\n",
      "Skipping malformed line (line 910270)\n",
      "Skipping malformed line (line 910272)\n",
      "Skipping malformed line (line 910458)\n",
      "Skipping malformed line (line 911035)\n",
      "Skipping malformed line (line 911998)\n",
      "Skipping malformed line (line 913036)\n",
      "Skipping malformed line (line 913560)\n",
      "Skipping malformed line (line 913698)\n",
      "Skipping malformed line (line 913880)\n",
      "Skipping malformed line (line 913905)\n",
      "Skipping malformed line (line 913907)\n",
      "Skipping malformed line (line 914045)\n",
      "Skipping malformed line (line 914164)\n",
      "Skipping malformed line (line 914252)\n",
      "Skipping malformed line (line 914599)\n",
      "Skipping malformed line (line 914690)\n",
      "Skipping malformed line (line 914801)\n",
      "Skipping malformed line (line 914954)\n",
      "Skipping malformed line (line 914966)\n",
      "Skipping malformed line (line 915459)\n",
      "Skipping malformed line (line 916094)\n",
      "Skipping malformed line (line 916122)\n",
      "Skipping malformed line (line 916159)\n",
      "Skipping malformed line (line 916413)\n",
      "Skipping malformed line (line 916964)\n",
      "Skipping malformed line (line 917001)\n",
      "Skipping malformed line (line 917446)\n",
      "Skipping malformed line (line 918506)\n",
      "Skipping malformed line (line 918551)\n",
      "Skipping malformed line (line 919067)\n",
      "Skipping malformed line (line 919100)\n",
      "Skipping malformed line (line 919229)\n",
      "Skipping malformed line (line 919306)\n",
      "Skipping malformed line (line 919459)\n",
      "Skipping malformed line (line 919481)\n",
      "Skipping malformed line (line 919752)\n",
      "Skipping malformed line (line 920149)\n",
      "Skipping malformed line (line 920296)\n",
      "Skipping malformed line (line 920516)\n",
      "Skipping malformed line (line 920518)\n",
      "Skipping malformed line (line 920665)\n",
      "Skipping malformed line (line 920760)\n",
      "Skipping malformed line (line 921406)\n",
      "Skipping malformed line (line 921620)\n",
      "Skipping malformed line (line 922301)\n",
      "Skipping malformed line (line 922325)\n",
      "Skipping malformed line (line 923606)\n",
      "Skipping malformed line (line 924030)\n",
      "Skipping malformed line (line 924792)\n",
      "Skipping malformed line (line 924846)\n",
      "Skipping malformed line (line 924938)\n",
      "Skipping malformed line (line 925291)\n",
      "Skipping malformed line (line 925427)\n",
      "Skipping malformed line (line 925530)\n",
      "Skipping malformed line (line 925870)\n",
      "Skipping malformed line (line 926232)\n",
      "Skipping malformed line (line 926335)\n",
      "Skipping malformed line (line 926363)\n",
      "Skipping malformed line (line 926788)\n",
      "Skipping malformed line (line 927708)\n",
      "Skipping malformed line (line 927772)\n",
      "Skipping malformed line (line 927872)\n",
      "Skipping malformed line (line 928595)\n",
      "Skipping malformed line (line 929036)\n",
      "Skipping malformed line (line 929042)\n",
      "Skipping malformed line (line 929299)\n",
      "Skipping malformed line (line 930298)\n",
      "Skipping malformed line (line 930376)\n",
      "Skipping malformed line (line 930378)\n",
      "Skipping malformed line (line 931253)\n",
      "Skipping malformed line (line 931748)\n",
      "Skipping malformed line (line 931966)\n",
      "Skipping malformed line (line 932290)\n",
      "Skipping malformed line (line 932569)\n",
      "Skipping malformed line (line 932746)\n",
      "Skipping malformed line (line 932888)\n",
      "Skipping malformed line (line 933187)\n",
      "Skipping malformed line (line 933456)\n",
      "Skipping malformed line (line 933477)\n",
      "Skipping malformed line (line 933522)\n",
      "Skipping malformed line (line 933548)\n",
      "Skipping malformed line (line 933644)\n",
      "Skipping malformed line (line 933672)\n",
      "Skipping malformed line (line 933701)\n",
      "Skipping malformed line (line 933796)\n",
      "Skipping malformed line (line 934056)\n",
      "Skipping malformed line (line 934826)\n",
      "Skipping malformed line (line 934861)\n",
      "Skipping malformed line (line 935375)\n",
      "Skipping malformed line (line 935836)\n",
      "Skipping malformed line (line 935881)\n",
      "Skipping malformed line (line 936133)\n",
      "Skipping malformed line (line 936215)\n",
      "Skipping malformed line (line 936546)\n",
      "Skipping malformed line (line 936747)\n",
      "Skipping malformed line (line 936955)\n",
      "Skipping malformed line (line 937100)\n",
      "Skipping malformed line (line 937140)\n",
      "Skipping malformed line (line 937143)\n",
      "Skipping malformed line (line 937166)\n",
      "Skipping malformed line (line 937685)\n",
      "Skipping malformed line (line 937687)\n",
      "Skipping malformed line (line 938168)\n",
      "Skipping malformed line (line 938171)\n",
      "Skipping malformed line (line 938334)\n",
      "Skipping malformed line (line 938712)\n",
      "Skipping malformed line (line 938719)\n",
      "Skipping malformed line (line 939241)\n",
      "Skipping malformed line (line 939244)\n",
      "Skipping malformed line (line 939395)\n",
      "Skipping malformed line (line 939838)\n",
      "Skipping malformed line (line 939984)\n",
      "Skipping malformed line (line 940251)\n",
      "Skipping malformed line (line 940473)\n",
      "Skipping malformed line (line 940738)\n",
      "Skipping malformed line (line 940811)\n",
      "Skipping malformed line (line 940912)\n",
      "Skipping malformed line (line 942388)\n",
      "Skipping malformed line (line 942390)\n",
      "Skipping malformed line (line 942597)\n",
      "Skipping malformed line (line 942616)\n",
      "Skipping malformed line (line 942922)\n",
      "Skipping malformed line (line 943076)\n",
      "Skipping malformed line (line 943080)\n",
      "Skipping malformed line (line 943276)\n",
      "Skipping malformed line (line 943406)\n",
      "Skipping malformed line (line 943515)\n",
      "Skipping malformed line (line 944283)\n",
      "Skipping malformed line (line 944694)\n",
      "Skipping malformed line (line 944909)\n",
      "Skipping malformed line (line 944936)\n",
      "Skipping malformed line (line 945024)\n",
      "Skipping malformed line (line 945824)\n",
      "Skipping malformed line (line 945980)\n",
      "Skipping malformed line (line 946235)\n",
      "Skipping malformed line (line 946411)\n",
      "Skipping malformed line (line 946504)\n",
      "Skipping malformed line (line 946758)\n",
      "Skipping malformed line (line 947152)\n",
      "Skipping malformed line (line 947841)\n",
      "Skipping malformed line (line 948610)\n",
      "Skipping malformed line (line 948787)\n",
      "Skipping malformed line (line 948849)\n",
      "Skipping malformed line (line 948993)\n",
      "Skipping malformed line (line 949333)\n",
      "Skipping malformed line (line 949788)\n",
      "Skipping malformed line (line 950110)\n",
      "Skipping malformed line (line 950449)\n",
      "Skipping malformed line (line 950573)\n",
      "Skipping malformed line (line 952219)\n",
      "Skipping malformed line (line 952430)\n",
      "Skipping malformed line (line 952447)\n",
      "Skipping malformed line (line 952754)\n",
      "Skipping malformed line (line 952838)\n",
      "Skipping malformed line (line 953589)\n",
      "Skipping malformed line (line 954220)\n",
      "Skipping malformed line (line 954285)\n",
      "Skipping malformed line (line 954475)\n",
      "Skipping malformed line (line 954595)\n",
      "Skipping malformed line (line 955409)\n",
      "Skipping malformed line (line 955516)\n",
      "Skipping malformed line (line 955742)\n",
      "Skipping malformed line (line 955801)\n",
      "Skipping malformed line (line 956198)\n",
      "Skipping malformed line (line 956636)\n",
      "Skipping malformed line (line 956737)\n",
      "Skipping malformed line (line 956978)\n",
      "Skipping malformed line (line 956984)\n",
      "Skipping malformed line (line 957467)\n",
      "Skipping malformed line (line 957705)\n",
      "Skipping malformed line (line 958088)\n",
      "Skipping malformed line (line 958536)\n",
      "Skipping malformed line (line 958548)\n",
      "Skipping malformed line (line 958652)\n",
      "Skipping malformed line (line 958689)\n",
      "Skipping malformed line (line 958713)\n",
      "Skipping malformed line (line 958725)\n",
      "Skipping malformed line (line 959576)\n",
      "Skipping malformed line (line 959730)\n",
      "Skipping malformed line (line 960152)\n",
      "Skipping malformed line (line 960652)\n",
      "Skipping malformed line (line 960736)\n",
      "Skipping malformed line (line 960883)\n",
      "Skipping malformed line (line 961034)\n",
      "Skipping malformed line (line 961045)\n",
      "Skipping malformed line (line 961874)\n",
      "Skipping malformed line (line 961891)\n",
      "Skipping malformed line (line 962098)\n",
      "Skipping malformed line (line 962101)\n",
      "Skipping malformed line (line 962112)\n",
      "Skipping malformed line (line 962332)\n",
      "Skipping malformed line (line 962596)\n",
      "Skipping malformed line (line 962626)\n",
      "Skipping malformed line (line 963047)\n",
      "Skipping malformed line (line 963091)\n",
      "Skipping malformed line (line 963339)\n",
      "Skipping malformed line (line 963631)\n",
      "Skipping malformed line (line 963761)\n",
      "Skipping malformed line (line 963903)\n",
      "Skipping malformed line (line 964301)\n",
      "Skipping malformed line (line 964392)\n",
      "Skipping malformed line (line 964522)\n",
      "Skipping malformed line (line 964546)\n",
      "Skipping malformed line (line 964936)\n",
      "Skipping malformed line (line 965843)\n",
      "Skipping malformed line (line 965989)\n",
      "Skipping malformed line (line 966369)\n",
      "Skipping malformed line (line 966583)\n",
      "Skipping malformed line (line 966614)\n",
      "Skipping malformed line (line 966636)\n",
      "Skipping malformed line (line 966909)\n",
      "Skipping malformed line (line 967097)\n",
      "Skipping malformed line (line 967309)\n",
      "Skipping malformed line (line 967402)\n",
      "Skipping malformed line (line 967406)\n",
      "Skipping malformed line (line 967479)\n",
      "Skipping malformed line (line 967632)\n",
      "Skipping malformed line (line 967659)\n",
      "Skipping malformed line (line 967695)\n",
      "Skipping malformed line (line 967939)\n",
      "Skipping malformed line (line 967975)\n",
      "Skipping malformed line (line 968427)\n",
      "Skipping malformed line (line 968543)\n",
      "Skipping malformed line (line 968832)\n",
      "Skipping malformed line (line 969114)\n",
      "Skipping malformed line (line 969489)\n",
      "Skipping malformed line (line 969977)\n",
      "Skipping malformed line (line 970060)\n",
      "Skipping malformed line (line 970229)\n",
      "Skipping malformed line (line 971871)\n",
      "Skipping malformed line (line 972035)\n",
      "Skipping malformed line (line 972171)\n",
      "Skipping malformed line (line 972228)\n",
      "Skipping malformed line (line 972245)\n",
      "Skipping malformed line (line 972247)\n",
      "Skipping malformed line (line 972602)\n",
      "Skipping malformed line (line 972630)\n",
      "Skipping malformed line (line 972746)\n",
      "Skipping malformed line (line 972754)\n",
      "Skipping malformed line (line 973356)\n",
      "Skipping malformed line (line 973452)\n",
      "Skipping malformed line (line 973501)\n",
      "Skipping malformed line (line 973783)\n",
      "Skipping malformed line (line 973815)\n",
      "Skipping malformed line (line 973964)\n",
      "Skipping malformed line (line 974212)\n",
      "Skipping malformed line (line 974728)\n",
      "Skipping malformed line (line 975085)\n",
      "Skipping malformed line (line 975099)\n",
      "Skipping malformed line (line 975609)\n",
      "Skipping malformed line (line 976246)\n",
      "Skipping malformed line (line 976251)\n",
      "Skipping malformed line (line 976691)\n",
      "Skipping malformed line (line 976763)\n",
      "Skipping malformed line (line 976768)\n",
      "Skipping malformed line (line 977424)\n",
      "Skipping malformed line (line 977485)\n",
      "Skipping malformed line (line 977912)\n",
      "Skipping malformed line (line 978132)\n",
      "Skipping malformed line (line 978380)\n",
      "Skipping malformed line (line 978852)\n",
      "Skipping malformed line (line 979189)\n",
      "Skipping malformed line (line 979528)\n",
      "Skipping malformed line (line 979725)\n",
      "Skipping malformed line (line 980066)\n",
      "Skipping malformed line (line 980312)\n",
      "Skipping malformed line (line 981035)\n",
      "Skipping malformed line (line 982512)\n",
      "Skipping malformed line (line 982554)\n",
      "Skipping malformed line (line 982784)\n",
      "Skipping malformed line (line 983470)\n",
      "Skipping malformed line (line 983683)\n",
      "Skipping malformed line (line 984519)\n",
      "Skipping malformed line (line 984581)\n",
      "Skipping malformed line (line 984699)\n",
      "Skipping malformed line (line 985474)\n",
      "Skipping malformed line (line 985860)\n",
      "Skipping malformed line (line 986111)\n",
      "Skipping malformed line (line 986236)\n",
      "Skipping malformed line (line 986399)\n",
      "Skipping malformed line (line 986948)\n",
      "Skipping malformed line (line 986994)\n",
      "Skipping malformed line (line 987293)\n",
      "Skipping malformed line (line 987460)\n",
      "Skipping malformed line (line 987524)\n",
      "Skipping malformed line (line 987842)\n",
      "Skipping malformed line (line 988047)\n",
      "Skipping malformed line (line 988448)\n",
      "Skipping malformed line (line 988755)\n",
      "Skipping malformed line (line 988782)\n",
      "Skipping malformed line (line 989028)\n",
      "Skipping malformed line (line 989063)\n",
      "Skipping malformed line (line 989587)\n",
      "Skipping malformed line (line 989683)\n",
      "Skipping malformed line (line 990198)\n",
      "Skipping malformed line (line 990995)\n",
      "Skipping malformed line (line 991274)\n",
      "Skipping malformed line (line 991699)\n",
      "Skipping malformed line (line 991962)\n",
      "Skipping malformed line (line 992117)\n",
      "Skipping malformed line (line 992277)\n",
      "Skipping malformed line (line 992795)\n",
      "Skipping malformed line (line 992895)\n",
      "Skipping malformed line (line 992985)\n",
      "Skipping malformed line (line 993146)\n",
      "Skipping malformed line (line 993262)\n",
      "Skipping malformed line (line 993266)\n",
      "Skipping malformed line (line 993383)\n",
      "Skipping malformed line (line 993647)\n",
      "Skipping malformed line (line 993782)\n",
      "Skipping malformed line (line 994804)\n",
      "Skipping malformed line (line 994906)\n",
      "Skipping malformed line (line 995933)\n",
      "Skipping malformed line (line 996035)\n",
      "Skipping malformed line (line 996310)\n",
      "Skipping malformed line (line 996635)\n",
      "Skipping malformed line (line 996657)\n",
      "Skipping malformed line (line 997097)\n",
      "Skipping malformed line (line 997247)\n",
      "Skipping malformed line (line 997782)\n",
      "Skipping malformed line (line 997851)\n",
      "Skipping malformed line (line 998008)\n",
      "Skipping malformed line (line 998319)\n",
      "Skipping malformed line (line 999001)\n",
      "Skipping malformed line (line 999550)\n",
      "Skipping malformed line (line 999592)\n",
      "Skipping malformed line (line 999786)\n",
      "Skipping malformed line (line 999861)\n",
      "Skipping malformed line (line 1000548)\n",
      "Skipping malformed line (line 1000687)\n",
      "Skipping malformed line (line 1001288)\n",
      "Skipping malformed line (line 1002190)\n",
      "Skipping malformed line (line 1002287)\n",
      "Skipping malformed line (line 1002928)\n",
      "Skipping malformed line (line 1004043)\n",
      "Skipping malformed line (line 1004045)\n",
      "Skipping malformed line (line 1004167)\n",
      "Skipping malformed line (line 1004177)\n",
      "Skipping malformed line (line 1005321)\n",
      "Skipping malformed line (line 1005325)\n",
      "Skipping malformed line (line 1005928)\n",
      "Skipping malformed line (line 1006002)\n",
      "Skipping malformed line (line 1006278)\n",
      "Skipping malformed line (line 1006285)\n",
      "Skipping malformed line (line 1006308)\n",
      "Skipping malformed line (line 1007530)\n",
      "Skipping malformed line (line 1007863)\n",
      "Skipping malformed line (line 1008377)\n",
      "Skipping malformed line (line 1008566)\n",
      "Skipping malformed line (line 1008966)\n",
      "Skipping malformed line (line 1009521)\n",
      "Skipping malformed line (line 1010047)\n",
      "Skipping malformed line (line 1010231)\n",
      "Skipping malformed line (line 1010331)\n",
      "Skipping malformed line (line 1010638)\n",
      "Skipping malformed line (line 1010719)\n",
      "Skipping malformed line (line 1011039)\n",
      "Skipping malformed line (line 1011304)\n",
      "Skipping malformed line (line 1011335)\n",
      "Skipping malformed line (line 1011565)\n",
      "Skipping malformed line (line 1011608)\n",
      "Skipping malformed line (line 1012804)\n",
      "Skipping malformed line (line 1012990)\n",
      "Skipping malformed line (line 1014541)\n",
      "Skipping malformed line (line 1014763)\n",
      "Skipping malformed line (line 1014963)\n",
      "Skipping malformed line (line 1015156)\n",
      "Skipping malformed line (line 1015203)\n",
      "Skipping malformed line (line 1015373)\n",
      "Skipping malformed line (line 1015378)\n",
      "Skipping malformed line (line 1015407)\n",
      "Skipping malformed line (line 1015990)\n",
      "Skipping malformed line (line 1016135)\n",
      "Skipping malformed line (line 1016914)\n",
      "Skipping malformed line (line 1016962)\n",
      "Skipping malformed line (line 1017124)\n",
      "Skipping malformed line (line 1017578)\n",
      "Skipping malformed line (line 1017897)\n",
      "Skipping malformed line (line 1018082)\n",
      "Skipping malformed line (line 1018098)\n",
      "Skipping malformed line (line 1018273)\n",
      "Skipping malformed line (line 1018718)\n",
      "Skipping malformed line (line 1019159)\n",
      "Skipping malformed line (line 1019472)\n",
      "Skipping malformed line (line 1019754)\n",
      "Skipping malformed line (line 1020242)\n",
      "Skipping malformed line (line 1020427)\n",
      "Skipping malformed line (line 1020432)\n",
      "Skipping malformed line (line 1020559)\n",
      "Skipping malformed line (line 1021261)\n",
      "Skipping malformed line (line 1021530)\n",
      "Skipping malformed line (line 1021747)\n",
      "Skipping malformed line (line 1021887)\n",
      "Skipping malformed line (line 1022122)\n",
      "Skipping malformed line (line 1022428)\n",
      "Skipping malformed line (line 1022576)\n",
      "Skipping malformed line (line 1022578)\n",
      "Skipping malformed line (line 1023399)\n",
      "Skipping malformed line (line 1023488)\n",
      "Skipping malformed line (line 1023553)\n",
      "Skipping malformed line (line 1023711)\n",
      "Skipping malformed line (line 1023944)\n",
      "Skipping malformed line (line 1023966)\n",
      "Skipping malformed line (line 1024307)\n",
      "Skipping malformed line (line 1024606)\n",
      "Skipping malformed line (line 1024884)\n",
      "Skipping malformed line (line 1025428)\n",
      "Skipping malformed line (line 1025492)\n",
      "Skipping malformed line (line 1025631)\n",
      "Skipping malformed line (line 1025813)\n",
      "Skipping malformed line (line 1025832)\n",
      "Skipping malformed line (line 1025879)\n",
      "Skipping malformed line (line 1026377)\n",
      "Skipping malformed line (line 1026635)\n",
      "Skipping malformed line (line 1027268)\n",
      "Skipping malformed line (line 1027567)\n",
      "Skipping malformed line (line 1027790)\n",
      "Skipping malformed line (line 1027829)\n",
      "Skipping malformed line (line 1028003)\n",
      "Skipping malformed line (line 1028103)\n",
      "Skipping malformed line (line 1028390)\n",
      "Skipping malformed line (line 1028918)\n",
      "Skipping malformed line (line 1029341)\n",
      "Skipping malformed line (line 1029942)\n",
      "Skipping malformed line (line 1030076)\n",
      "Skipping malformed line (line 1030082)\n",
      "Skipping malformed line (line 1030147)\n",
      "Skipping malformed line (line 1030335)\n",
      "Skipping malformed line (line 1030337)\n",
      "Skipping malformed line (line 1030552)\n",
      "Skipping malformed line (line 1030806)\n",
      "Skipping malformed line (line 1030816)\n",
      "Skipping malformed line (line 1031085)\n",
      "Skipping malformed line (line 1031685)\n",
      "Skipping malformed line (line 1031947)\n",
      "Skipping malformed line (line 1032008)\n",
      "Skipping malformed line (line 1032277)\n",
      "Skipping malformed line (line 1033101)\n",
      "Skipping malformed line (line 1033119)\n",
      "Skipping malformed line (line 1033330)\n",
      "Skipping malformed line (line 1033902)\n",
      "Skipping malformed line (line 1034497)\n",
      "Skipping malformed line (line 1036134)\n",
      "Skipping malformed line (line 1036344)\n",
      "Skipping malformed line (line 1037097)\n",
      "Skipping malformed line (line 1037213)\n",
      "Skipping malformed line (line 1037601)\n",
      "Skipping malformed line (line 1037608)\n",
      "Skipping malformed line (line 1037832)\n",
      "Skipping malformed line (line 1037844)\n",
      "Skipping malformed line (line 1038093)\n",
      "Skipping malformed line (line 1038805)\n",
      "Skipping malformed line (line 1039141)\n",
      "Skipping malformed line (line 1039263)\n",
      "Skipping malformed line (line 1039920)\n",
      "Skipping malformed line (line 1040366)\n",
      "Skipping malformed line (line 1040411)\n",
      "Skipping malformed line (line 1040808)\n",
      "Skipping malformed line (line 1041039)\n",
      "Skipping malformed line (line 1041548)\n",
      "Skipping malformed line (line 1041758)\n",
      "Skipping malformed line (line 1042416)\n",
      "Skipping malformed line (line 1042920)\n",
      "Skipping malformed line (line 1042998)\n",
      "Skipping malformed line (line 1043391)\n",
      "Skipping malformed line (line 1043649)\n",
      "Skipping malformed line (line 1044122)\n",
      "Skipping malformed line (line 1044819)\n",
      "Skipping malformed line (line 1045545)\n",
      "Skipping malformed line (line 1046563)\n",
      "Skipping malformed line (line 1046951)\n",
      "Skipping malformed line (line 1047210)\n",
      "Skipping malformed line (line 1047234)\n",
      "Skipping malformed line (line 1047482)\n",
      "Skipping malformed line (line 1048187)\n",
      "Skipping malformed line (line 1048356)\n",
      "Skipping malformed line (line 1048931)\n",
      "Skipping malformed line (line 1049409)\n",
      "Skipping malformed line (line 1050311)\n",
      "Skipping malformed line (line 1050935)\n",
      "Skipping malformed line (line 1050937)\n",
      "Skipping malformed line (line 1051535)\n",
      "Skipping malformed line (line 1051870)\n",
      "Skipping malformed line (line 1052021)\n",
      "Skipping malformed line (line 1052182)\n",
      "Skipping malformed line (line 1052460)\n",
      "Skipping malformed line (line 1052683)\n",
      "Skipping malformed line (line 1052829)\n",
      "Skipping malformed line (line 1053062)\n",
      "Skipping malformed line (line 1053092)\n",
      "Skipping malformed line (line 1054087)\n",
      "Skipping malformed line (line 1054145)\n",
      "Skipping malformed line (line 1054591)\n",
      "Skipping malformed line (line 1055381)\n",
      "Skipping malformed line (line 1055467)\n",
      "Skipping malformed line (line 1055508)\n",
      "Skipping malformed line (line 1055651)\n",
      "Skipping malformed line (line 1055950)\n",
      "Skipping malformed line (line 1056127)\n",
      "Skipping malformed line (line 1056631)\n",
      "Skipping malformed line (line 1056650)\n",
      "Skipping malformed line (line 1056889)\n",
      "Skipping malformed line (line 1057128)\n",
      "Skipping malformed line (line 1057144)\n",
      "Skipping malformed line (line 1057263)\n",
      "Skipping malformed line (line 1057908)\n",
      "Skipping malformed line (line 1057910)\n",
      "Skipping malformed line (line 1058481)\n",
      "Skipping malformed line (line 1058927)\n",
      "Skipping malformed line (line 1059505)\n",
      "Skipping malformed line (line 1060854)\n",
      "Skipping malformed line (line 1061554)\n",
      "Skipping malformed line (line 1061565)\n",
      "Skipping malformed line (line 1061567)\n",
      "Skipping malformed line (line 1061578)\n",
      "Skipping malformed line (line 1061598)\n",
      "Skipping malformed line (line 1061600)\n",
      "Skipping malformed line (line 1062400)\n",
      "Skipping malformed line (line 1063066)\n",
      "Skipping malformed line (line 1063138)\n",
      "Skipping malformed line (line 1063148)\n",
      "Skipping malformed line (line 1063406)\n",
      "Skipping malformed line (line 1063665)\n",
      "Skipping malformed line (line 1063885)\n",
      "Skipping malformed line (line 1065676)\n",
      "Skipping malformed line (line 1065715)\n",
      "Skipping malformed line (line 1066098)\n",
      "Skipping malformed line (line 1066304)\n",
      "Skipping malformed line (line 1066808)\n",
      "Skipping malformed line (line 1067549)\n",
      "Skipping malformed line (line 1067563)\n",
      "Skipping malformed line (line 1067743)\n",
      "Skipping malformed line (line 1067772)\n",
      "Skipping malformed line (line 1068631)\n",
      "Skipping malformed line (line 1068850)\n",
      "Skipping malformed line (line 1068852)\n",
      "Skipping malformed line (line 1069191)\n",
      "Skipping malformed line (line 1069798)\n",
      "Skipping malformed line (line 1070218)\n",
      "Skipping malformed line (line 1072388)\n",
      "Skipping malformed line (line 1072608)\n",
      "Skipping malformed line (line 1072957)\n",
      "Skipping malformed line (line 1074449)\n",
      "Skipping malformed line (line 1074746)\n",
      "Skipping malformed line (line 1074826)\n",
      "Skipping malformed line (line 1074830)\n",
      "Skipping malformed line (line 1075553)\n",
      "Skipping malformed line (line 1075943)\n",
      "Skipping malformed line (line 1076452)\n",
      "Skipping malformed line (line 1077988)\n",
      "Skipping malformed line (line 1078920)\n",
      "Skipping malformed line (line 1079152)\n",
      "Skipping malformed line (line 1079187)\n",
      "Skipping malformed line (line 1080206)\n",
      "Skipping malformed line (line 1080209)\n",
      "Skipping malformed line (line 1080427)\n",
      "Skipping malformed line (line 1080584)\n",
      "Skipping malformed line (line 1080754)\n",
      "Skipping malformed line (line 1080791)\n",
      "Skipping malformed line (line 1081057)\n",
      "Skipping malformed line (line 1081685)\n",
      "Skipping malformed line (line 1083555)\n",
      "Skipping malformed line (line 1083652)\n",
      "Skipping malformed line (line 1084505)\n",
      "Skipping malformed line (line 1084507)\n",
      "Skipping malformed line (line 1084587)\n",
      "Skipping malformed line (line 1084773)\n",
      "Skipping malformed line (line 1085106)\n",
      "Skipping malformed line (line 1085673)\n",
      "Skipping malformed line (line 1085908)\n",
      "Skipping malformed line (line 1086075)\n",
      "Skipping malformed line (line 1088735)\n",
      "Skipping malformed line (line 1088950)\n",
      "Skipping malformed line (line 1089958)\n",
      "Skipping malformed line (line 1091146)\n",
      "Skipping malformed line (line 1091153)\n",
      "Skipping malformed line (line 1092552)\n",
      "Skipping malformed line (line 1093298)\n",
      "Skipping malformed line (line 1094980)\n",
      "Skipping malformed line (line 1095685)\n",
      "Skipping malformed line (line 1096004)\n",
      "Skipping malformed line (line 1096122)\n",
      "Skipping malformed line (line 1097635)\n",
      "Skipping malformed line (line 1097894)\n",
      "Skipping malformed line (line 1097968)\n",
      "Skipping malformed line (line 1098601)\n",
      "Skipping malformed line (line 1099333)\n",
      "Skipping malformed line (line 1099359)\n",
      "Skipping malformed line (line 1099807)\n",
      "Skipping malformed line (line 1103580)\n",
      "Skipping malformed line (line 1104282)\n",
      "Skipping malformed line (line 1104765)\n",
      "Skipping malformed line (line 1106736)\n",
      "Skipping malformed line (line 1107332)\n",
      "Skipping malformed line (line 1107630)\n",
      "Skipping malformed line (line 1109629)\n",
      "Skipping malformed line (line 1110525)\n",
      "Skipping malformed line (line 1110679)\n",
      "Skipping malformed line (line 1110704)\n",
      "Skipping malformed line (line 1110907)\n",
      "Skipping malformed line (line 1112000)\n",
      "Skipping malformed line (line 1116627)\n",
      "Skipping malformed line (line 1116668)\n",
      "Skipping malformed line (line 1116985)\n",
      "Skipping malformed line (line 1116997)\n",
      "Skipping malformed line (line 1117001)\n",
      "Skipping malformed line (line 1117041)\n",
      "Skipping malformed line (line 1117051)\n",
      "Skipping malformed line (line 1117056)\n",
      "Skipping malformed line (line 1117064)\n",
      "Skipping malformed line (line 1117069)\n",
      "Skipping malformed line (line 1117188)\n",
      "Skipping malformed line (line 1117455)\n",
      "Skipping malformed line (line 1117459)\n",
      "Skipping malformed line (line 1117486)\n",
      "Skipping malformed line (line 1118156)\n",
      "Skipping malformed line (line 1118745)\n",
      "Skipping malformed line (line 1119370)\n",
      "Skipping malformed line (line 1120030)\n",
      "Skipping malformed line (line 1120309)\n",
      "Skipping malformed line (line 1120315)\n",
      "Skipping malformed line (line 1120343)\n",
      "Skipping malformed line (line 1120853)\n",
      "Skipping malformed line (line 1120933)\n",
      "Skipping malformed line (line 1120967)\n",
      "Skipping malformed line (line 1121261)\n",
      "Skipping malformed line (line 1121359)\n",
      "Skipping malformed line (line 1121475)\n",
      "Skipping malformed line (line 1121489)\n",
      "Skipping malformed line (line 1122167)\n",
      "Skipping malformed line (line 1122351)\n",
      "Skipping malformed line (line 1122509)\n",
      "Skipping malformed line (line 1122798)\n",
      "Skipping malformed line (line 1122872)\n",
      "Skipping malformed line (line 1123006)\n",
      "Skipping malformed line (line 1123631)\n",
      "Skipping malformed line (line 1123656)\n",
      "Skipping malformed line (line 1124050)\n",
      "Skipping malformed line (line 1124053)\n",
      "Skipping malformed line (line 1124291)\n",
      "Skipping malformed line (line 1124349)\n",
      "Skipping malformed line (line 1124428)\n",
      "Skipping malformed line (line 1124481)\n",
      "Skipping malformed line (line 1124732)\n",
      "Skipping malformed line (line 1124810)\n",
      "Skipping malformed line (line 1124938)\n",
      "Skipping malformed line (line 1124978)\n",
      "Skipping malformed line (line 1125039)\n",
      "Skipping malformed line (line 1125361)\n",
      "Skipping malformed line (line 1125364)\n",
      "Skipping malformed line (line 1125659)\n",
      "Skipping malformed line (line 1125848)\n",
      "Skipping malformed line (line 1126186)\n",
      "Skipping malformed line (line 1126333)\n",
      "Skipping malformed line (line 1126401)\n",
      "Skipping malformed line (line 1126597)\n",
      "Skipping malformed line (line 1127373)\n",
      "Skipping malformed line (line 1127380)\n",
      "Skipping malformed line (line 1127644)\n",
      "Skipping malformed line (line 1127835)\n",
      "Skipping malformed line (line 1128125)\n",
      "Skipping malformed line (line 1128538)\n",
      "Skipping malformed line (line 1129033)\n",
      "Skipping malformed line (line 1129048)\n",
      "Skipping malformed line (line 1129317)\n",
      "Skipping malformed line (line 1129422)\n",
      "Skipping malformed line (line 1129766)\n",
      "Skipping malformed line (line 1130000)\n",
      "Skipping malformed line (line 1130165)\n",
      "Skipping malformed line (line 1130298)\n",
      "Skipping malformed line (line 1131012)\n",
      "Skipping malformed line (line 1131480)\n",
      "Skipping malformed line (line 1131775)\n",
      "Skipping malformed line (line 1131986)\n",
      "Skipping malformed line (line 1132110)\n",
      "Skipping malformed line (line 1132424)\n",
      "Skipping malformed line (line 1132906)\n",
      "Skipping malformed line (line 1132911)\n",
      "Skipping malformed line (line 1132916)\n",
      "Skipping malformed line (line 1133942)\n",
      "Skipping malformed line (line 1134464)\n",
      "Skipping malformed line (line 1134958)\n",
      "Skipping malformed line (line 1134972)\n",
      "Skipping malformed line (line 1135884)\n",
      "Skipping malformed line (line 1135887)\n",
      "Skipping malformed line (line 1136911)\n",
      "Skipping malformed line (line 1137235)\n",
      "Skipping malformed line (line 1137301)\n",
      "Skipping malformed line (line 1137406)\n",
      "Skipping malformed line (line 1137426)\n",
      "Skipping malformed line (line 1137429)\n",
      "Skipping malformed line (line 1137543)\n",
      "Skipping malformed line (line 1137761)\n",
      "Skipping malformed line (line 1137906)\n",
      "Skipping malformed line (line 1137950)\n",
      "Skipping malformed line (line 1138073)\n",
      "Skipping malformed line (line 1138705)\n",
      "Skipping malformed line (line 1138754)\n",
      "Skipping malformed line (line 1138777)\n",
      "Skipping malformed line (line 1139049)\n",
      "Skipping malformed line (line 1139186)\n",
      "Skipping malformed line (line 1139827)\n",
      "Skipping malformed line (line 1139931)\n",
      "Skipping malformed line (line 1140253)\n",
      "Skipping malformed line (line 1140709)\n",
      "Skipping malformed line (line 1140812)\n",
      "Skipping malformed line (line 1141407)\n",
      "Skipping malformed line (line 1141409)\n",
      "Skipping malformed line (line 1141412)\n",
      "Skipping malformed line (line 1142907)\n",
      "Skipping malformed line (line 1142970)\n",
      "Skipping malformed line (line 1142999)\n",
      "Skipping malformed line (line 1143217)\n",
      "Skipping malformed line (line 1143774)\n",
      "Skipping malformed line (line 1144086)\n",
      "Skipping malformed line (line 1144574)\n",
      "Skipping malformed line (line 1145935)\n",
      "Skipping malformed line (line 1146330)\n",
      "Skipping malformed line (line 1146604)\n",
      "Skipping malformed line (line 1146704)\n",
      "Skipping malformed line (line 1146965)\n",
      "Skipping malformed line (line 1147050)\n",
      "Skipping malformed line (line 1147101)\n",
      "Skipping malformed line (line 1148000)\n",
      "Skipping malformed line (line 1148036)\n",
      "Skipping malformed line (line 1148261)\n",
      "Skipping malformed line (line 1148523)\n",
      "Skipping malformed line (line 1149212)\n",
      "Skipping malformed line (line 1150087)\n",
      "Skipping malformed line (line 1150127)\n",
      "Skipping malformed line (line 1150381)\n",
      "Skipping malformed line (line 1150522)\n",
      "Skipping malformed line (line 1150539)\n",
      "Skipping malformed line (line 1150992)\n",
      "Skipping malformed line (line 1151104)\n",
      "Skipping malformed line (line 1151155)\n",
      "Skipping malformed line (line 1151162)\n",
      "Skipping malformed line (line 1151166)\n",
      "Skipping malformed line (line 1151178)\n",
      "Skipping malformed line (line 1151399)\n",
      "Skipping malformed line (line 1151820)\n",
      "Skipping malformed line (line 1151836)\n",
      "Skipping malformed line (line 1152093)\n",
      "Skipping malformed line (line 1152587)\n",
      "Skipping malformed line (line 1152976)\n",
      "Skipping malformed line (line 1153529)\n",
      "Skipping malformed line (line 1154044)\n",
      "Skipping malformed line (line 1154101)\n",
      "Skipping malformed line (line 1154126)\n",
      "Skipping malformed line (line 1154454)\n",
      "Skipping malformed line (line 1154594)\n",
      "Skipping malformed line (line 1155363)\n",
      "Skipping malformed line (line 1155475)\n",
      "Skipping malformed line (line 1155481)\n",
      "Skipping malformed line (line 1155547)\n",
      "Skipping malformed line (line 1155695)\n",
      "Skipping malformed line (line 1156068)\n",
      "Skipping malformed line (line 1156812)\n",
      "Skipping malformed line (line 1156896)\n",
      "Skipping malformed line (line 1157779)\n",
      "Skipping malformed line (line 1158504)\n",
      "Skipping malformed line (line 1159761)\n",
      "Skipping malformed line (line 1160835)\n",
      "Skipping malformed line (line 1160949)\n",
      "Skipping malformed line (line 1161410)\n",
      "Skipping malformed line (line 1161449)\n",
      "Skipping malformed line (line 1161568)\n",
      "Skipping malformed line (line 1161738)\n",
      "Skipping malformed line (line 1161848)\n",
      "Skipping malformed line (line 1162018)\n",
      "Skipping malformed line (line 1162034)\n",
      "Skipping malformed line (line 1162197)\n",
      "Skipping malformed line (line 1163018)\n",
      "Skipping malformed line (line 1163225)\n",
      "Skipping malformed line (line 1164029)\n",
      "Skipping malformed line (line 1164240)\n",
      "Skipping malformed line (line 1164309)\n",
      "Skipping malformed line (line 1164475)\n",
      "Skipping malformed line (line 1164547)\n",
      "Skipping malformed line (line 1164687)\n",
      "Skipping malformed line (line 1164824)\n",
      "Skipping malformed line (line 1165253)\n",
      "Skipping malformed line (line 1165300)\n",
      "Skipping malformed line (line 1166273)\n",
      "Skipping malformed line (line 1166692)\n",
      "Skipping malformed line (line 1166788)\n",
      "Skipping malformed line (line 1167319)\n",
      "Skipping malformed line (line 1167373)\n",
      "Skipping malformed line (line 1167447)\n",
      "Skipping malformed line (line 1168066)\n",
      "Skipping malformed line (line 1168069)\n",
      "Skipping malformed line (line 1168135)\n",
      "Skipping malformed line (line 1168139)\n",
      "Skipping malformed line (line 1168810)\n",
      "Skipping malformed line (line 1169186)\n",
      "Skipping malformed line (line 1169189)\n",
      "Skipping malformed line (line 1169223)\n",
      "Skipping malformed line (line 1170032)\n",
      "Skipping malformed line (line 1170484)\n",
      "Skipping malformed line (line 1170618)\n",
      "Skipping malformed line (line 1170820)\n",
      "Skipping malformed line (line 1171233)\n",
      "Skipping malformed line (line 1171439)\n",
      "Skipping malformed line (line 1171809)\n",
      "Skipping malformed line (line 1172021)\n",
      "Skipping malformed line (line 1172250)\n",
      "Skipping malformed line (line 1172430)\n",
      "Skipping malformed line (line 1172727)\n",
      "Skipping malformed line (line 1173636)\n",
      "Skipping malformed line (line 1174211)\n",
      "Skipping malformed line (line 1174673)\n",
      "Skipping malformed line (line 1174706)\n",
      "Skipping malformed line (line 1175513)\n",
      "Skipping malformed line (line 1176263)\n",
      "Skipping malformed line (line 1176675)\n",
      "Skipping malformed line (line 1177140)\n",
      "Skipping malformed line (line 1177593)\n",
      "Skipping malformed line (line 1178663)\n",
      "Skipping malformed line (line 1178679)\n",
      "Skipping malformed line (line 1179911)\n",
      "Skipping malformed line (line 1180416)\n",
      "Skipping malformed line (line 1180700)\n",
      "Skipping malformed line (line 1180941)\n",
      "Skipping malformed line (line 1180960)\n",
      "Skipping malformed line (line 1181521)\n",
      "Skipping malformed line (line 1181525)\n",
      "Skipping malformed line (line 1181601)\n",
      "Skipping malformed line (line 1181607)\n",
      "Skipping malformed line (line 1182376)\n",
      "Skipping malformed line (line 1182497)\n",
      "Skipping malformed line (line 1183044)\n",
      "Skipping malformed line (line 1183088)\n",
      "Skipping malformed line (line 1183118)\n",
      "Skipping malformed line (line 1183281)\n",
      "Skipping malformed line (line 1183490)\n",
      "Skipping malformed line (line 1183799)\n",
      "Skipping malformed line (line 1184203)\n",
      "Skipping malformed line (line 1184271)\n",
      "Skipping malformed line (line 1184304)\n",
      "Skipping malformed line (line 1184977)\n",
      "Skipping malformed line (line 1185234)\n",
      "Skipping malformed line (line 1185637)\n",
      "Skipping malformed line (line 1185792)\n",
      "Skipping malformed line (line 1186155)\n",
      "Skipping malformed line (line 1186174)\n",
      "Skipping malformed line (line 1186278)\n",
      "Skipping malformed line (line 1186307)\n",
      "Skipping malformed line (line 1186843)\n",
      "Skipping malformed line (line 1186893)\n",
      "Skipping malformed line (line 1187139)\n",
      "Skipping malformed line (line 1187265)\n",
      "Skipping malformed line (line 1187416)\n",
      "Skipping malformed line (line 1188658)\n",
      "Skipping malformed line (line 1188694)\n",
      "Skipping malformed line (line 1188967)\n",
      "Skipping malformed line (line 1189147)\n",
      "Skipping malformed line (line 1189151)\n",
      "Skipping malformed line (line 1189798)\n",
      "Skipping malformed line (line 1190343)\n",
      "Skipping malformed line (line 1190802)\n",
      "Skipping malformed line (line 1192020)\n",
      "Skipping malformed line (line 1192104)\n",
      "Skipping malformed line (line 1192523)\n",
      "Skipping malformed line (line 1193848)\n",
      "Skipping malformed line (line 1193981)\n",
      "Skipping malformed line (line 1194823)\n",
      "Skipping malformed line (line 1194993)\n",
      "Skipping malformed line (line 1195286)\n",
      "Skipping malformed line (line 1195347)\n",
      "Skipping malformed line (line 1195865)\n",
      "Skipping malformed line (line 1196054)\n",
      "Skipping malformed line (line 1196170)\n",
      "Skipping malformed line (line 1196453)\n",
      "Skipping malformed line (line 1196966)\n",
      "Skipping malformed line (line 1196984)\n",
      "Skipping malformed line (line 1197255)\n",
      "Skipping malformed line (line 1197519)\n",
      "Skipping malformed line (line 1198675)\n",
      "Skipping malformed line (line 1199299)\n",
      "Skipping malformed line (line 1199568)\n",
      "Skipping malformed line (line 1199744)\n",
      "Skipping malformed line (line 1199991)\n",
      "Skipping malformed line (line 1200054)\n",
      "Skipping malformed line (line 1200503)\n",
      "Skipping malformed line (line 1200696)\n",
      "Skipping malformed line (line 1201412)\n",
      "Skipping malformed line (line 1202407)\n",
      "Skipping malformed line (line 1202409)\n",
      "Skipping malformed line (line 1202877)\n",
      "Skipping malformed line (line 1203617)\n",
      "Skipping malformed line (line 1203810)\n",
      "Skipping malformed line (line 1203894)\n",
      "Skipping malformed line (line 1203966)\n",
      "Skipping malformed line (line 1204037)\n",
      "Skipping malformed line (line 1204081)\n",
      "Skipping malformed line (line 1204240)\n",
      "Skipping malformed line (line 1204474)\n",
      "Skipping malformed line (line 1204626)\n",
      "Skipping malformed line (line 1204786)\n",
      "Skipping malformed line (line 1204955)\n",
      "Skipping malformed line (line 1205011)\n",
      "Skipping malformed line (line 1205202)\n",
      "Skipping malformed line (line 1205390)\n",
      "Skipping malformed line (line 1205607)\n",
      "Skipping malformed line (line 1205646)\n",
      "Skipping malformed line (line 1205857)\n",
      "Skipping malformed line (line 1206151)\n",
      "Skipping malformed line (line 1206516)\n",
      "Skipping malformed line (line 1206701)\n",
      "Skipping malformed line (line 1206841)\n",
      "Skipping malformed line (line 1207702)\n",
      "Skipping malformed line (line 1207717)\n",
      "Skipping malformed line (line 1208266)\n",
      "Skipping malformed line (line 1208493)\n",
      "Skipping malformed line (line 1208634)\n",
      "Skipping malformed line (line 1208730)\n",
      "Skipping malformed line (line 1209246)\n",
      "Skipping malformed line (line 1209501)\n",
      "Skipping malformed line (line 1210007)\n",
      "Skipping malformed line (line 1210070)\n",
      "Skipping malformed line (line 1210376)\n",
      "Skipping malformed line (line 1210673)\n",
      "Skipping malformed line (line 1210703)\n",
      "Skipping malformed line (line 1210705)\n",
      "Skipping malformed line (line 1210707)\n",
      "Skipping malformed line (line 1210887)\n",
      "Skipping malformed line (line 1211484)\n",
      "Skipping malformed line (line 1211873)\n",
      "Skipping malformed line (line 1212011)\n",
      "Skipping malformed line (line 1212045)\n",
      "Skipping malformed line (line 1212891)\n",
      "Skipping malformed line (line 1213343)\n",
      "Skipping malformed line (line 1213441)\n",
      "Skipping malformed line (line 1213555)\n",
      "Skipping malformed line (line 1213696)\n",
      "Skipping malformed line (line 1213905)\n",
      "Skipping malformed line (line 1213976)\n",
      "Skipping malformed line (line 1214170)\n",
      "Skipping malformed line (line 1214517)\n",
      "Skipping malformed line (line 1214525)\n",
      "Skipping malformed line (line 1214839)\n",
      "Skipping malformed line (line 1214875)\n",
      "Skipping malformed line (line 1214890)\n",
      "Skipping malformed line (line 1215408)\n",
      "Skipping malformed line (line 1215525)\n",
      "Skipping malformed line (line 1215978)\n",
      "Skipping malformed line (line 1216325)\n",
      "Skipping malformed line (line 1217445)\n",
      "Skipping malformed line (line 1217447)\n",
      "Skipping malformed line (line 1217567)\n",
      "Skipping malformed line (line 1217966)\n",
      "Skipping malformed line (line 1218748)\n",
      "Skipping malformed line (line 1218873)\n",
      "Skipping malformed line (line 1219398)\n",
      "Skipping malformed line (line 1220257)\n",
      "Skipping malformed line (line 1220282)\n",
      "Skipping malformed line (line 1221048)\n",
      "Skipping malformed line (line 1221050)\n",
      "Skipping malformed line (line 1221085)\n",
      "Skipping malformed line (line 1221090)\n",
      "Skipping malformed line (line 1221093)\n",
      "Skipping malformed line (line 1221537)\n",
      "Skipping malformed line (line 1221597)\n",
      "Skipping malformed line (line 1222843)\n",
      "Skipping malformed line (line 1223084)\n",
      "Skipping malformed line (line 1223527)\n",
      "Skipping malformed line (line 1223925)\n",
      "Skipping malformed line (line 1224563)\n",
      "Skipping malformed line (line 1224588)\n",
      "Skipping malformed line (line 1224667)\n",
      "Skipping malformed line (line 1224769)\n",
      "Skipping malformed line (line 1224863)\n",
      "Skipping malformed line (line 1225082)\n",
      "Skipping malformed line (line 1225467)\n",
      "Skipping malformed line (line 1225728)\n",
      "Skipping malformed line (line 1225951)\n",
      "Skipping malformed line (line 1226393)\n",
      "Skipping malformed line (line 1226400)\n",
      "Skipping malformed line (line 1226524)\n",
      "Skipping malformed line (line 1226740)\n",
      "Skipping malformed line (line 1226859)\n",
      "Skipping malformed line (line 1227344)\n",
      "Skipping malformed line (line 1227990)\n",
      "Skipping malformed line (line 1228882)\n",
      "Skipping malformed line (line 1229207)\n",
      "Skipping malformed line (line 1229631)\n",
      "Skipping malformed line (line 1230068)\n",
      "Skipping malformed line (line 1230428)\n",
      "Skipping malformed line (line 1230430)\n",
      "Skipping malformed line (line 1232005)\n",
      "Skipping malformed line (line 1232285)\n",
      "Skipping malformed line (line 1232991)\n",
      "Skipping malformed line (line 1233095)\n",
      "Skipping malformed line (line 1233996)\n",
      "Skipping malformed line (line 1234067)\n",
      "Skipping malformed line (line 1234260)\n",
      "Skipping malformed line (line 1234426)\n",
      "Skipping malformed line (line 1235043)\n",
      "Skipping malformed line (line 1235990)\n",
      "Skipping malformed line (line 1236089)\n",
      "Skipping malformed line (line 1236178)\n",
      "Skipping malformed line (line 1236525)\n",
      "Skipping malformed line (line 1236656)\n",
      "Skipping malformed line (line 1236901)\n",
      "Skipping malformed line (line 1236943)\n",
      "Skipping malformed line (line 1237304)\n",
      "Skipping malformed line (line 1237308)\n",
      "Skipping malformed line (line 1238210)\n",
      "Skipping malformed line (line 1238800)\n",
      "Skipping malformed line (line 1239055)\n",
      "Skipping malformed line (line 1239162)\n",
      "Skipping malformed line (line 1240711)\n",
      "Skipping malformed line (line 1241651)\n",
      "Skipping malformed line (line 1242827)\n",
      "Skipping malformed line (line 1243844)\n",
      "Skipping malformed line (line 1245544)\n",
      "Skipping malformed line (line 1246015)\n",
      "Skipping malformed line (line 1246110)\n",
      "Skipping malformed line (line 1246145)\n",
      "Skipping malformed line (line 1246823)\n",
      "Skipping malformed line (line 1247170)\n",
      "Skipping malformed line (line 1247197)\n",
      "Skipping malformed line (line 1247201)\n",
      "Skipping malformed line (line 1247203)\n",
      "Skipping malformed line (line 1247888)\n",
      "Skipping malformed line (line 1247891)\n",
      "Skipping malformed line (line 1247945)\n",
      "Skipping malformed line (line 1249182)\n",
      "Skipping malformed line (line 1249200)\n",
      "Skipping malformed line (line 1250136)\n",
      "Skipping malformed line (line 1250789)\n",
      "Skipping malformed line (line 1251102)\n",
      "Skipping malformed line (line 1251536)\n",
      "Skipping malformed line (line 1251937)\n",
      "Skipping malformed line (line 1252375)\n",
      "Skipping malformed line (line 1252447)\n",
      "Skipping malformed line (line 1253315)\n",
      "Skipping malformed line (line 1253529)\n",
      "Skipping malformed line (line 1253906)\n",
      "Skipping malformed line (line 1256232)\n",
      "Skipping malformed line (line 1256589)\n",
      "Skipping malformed line (line 1258521)\n",
      "Skipping malformed line (line 1258608)\n",
      "Skipping malformed line (line 1259129)\n",
      "Skipping malformed line (line 1259487)\n",
      "Skipping malformed line (line 1259742)\n",
      "Skipping malformed line (line 1260089)\n",
      "Skipping malformed line (line 1260723)\n",
      "Skipping malformed line (line 1262461)\n",
      "Skipping malformed line (line 1263744)\n",
      "Skipping malformed line (line 1264689)\n",
      "Skipping malformed line (line 1265579)\n",
      "Skipping malformed line (line 1265714)\n",
      "Skipping malformed line (line 1265739)\n",
      "Skipping malformed line (line 1266479)\n",
      "Skipping malformed line (line 1266719)\n",
      "Skipping malformed line (line 1268104)\n",
      "Skipping malformed line (line 1268949)\n",
      "Skipping malformed line (line 1269112)\n",
      "Skipping malformed line (line 1269260)\n",
      "Skipping malformed line (line 1269653)\n",
      "Skipping malformed line (line 1269914)\n",
      "Skipping malformed line (line 1270167)\n",
      "Skipping malformed line (line 1271614)\n",
      "Skipping malformed line (line 1271616)\n",
      "Skipping malformed line (line 1272910)\n",
      "Skipping malformed line (line 1273713)\n",
      "Skipping malformed line (line 1275479)\n",
      "Skipping malformed line (line 1275904)\n",
      "Skipping malformed line (line 1276055)\n",
      "Skipping malformed line (line 1276864)\n",
      "Skipping malformed line (line 1277612)\n",
      "Skipping malformed line (line 1278794)\n",
      "Skipping malformed line (line 1279280)\n",
      "Skipping malformed line (line 1279740)\n",
      "Skipping malformed line (line 1279943)\n",
      "Skipping malformed line (line 1280057)\n",
      "Skipping malformed line (line 1282050)\n",
      "Skipping malformed line (line 1284139)\n",
      "Skipping malformed line (line 1284167)\n",
      "Skipping malformed line (line 1284204)\n",
      "Skipping malformed line (line 1284729)\n",
      "Skipping malformed line (line 1284905)\n",
      "Skipping malformed line (line 1285539)\n",
      "Skipping malformed line (line 1285541)\n",
      "Skipping malformed line (line 1285674)\n",
      "Skipping malformed line (line 1285698)\n",
      "Skipping malformed line (line 1285724)\n",
      "Skipping malformed line (line 1285860)\n",
      "Skipping malformed line (line 1285913)\n",
      "Skipping malformed line (line 1285969)\n",
      "Skipping malformed line (line 1285975)\n",
      "Skipping malformed line (line 1286307)\n",
      "Skipping malformed line (line 1286384)\n",
      "Skipping malformed line (line 1287177)\n",
      "Skipping malformed line (line 1287920)\n",
      "Skipping malformed line (line 1288334)\n",
      "Skipping malformed line (line 1288607)\n",
      "Skipping malformed line (line 1289222)\n",
      "Skipping malformed line (line 1289227)\n",
      "Skipping malformed line (line 1289385)\n",
      "Skipping malformed line (line 1289503)\n",
      "Skipping malformed line (line 1289923)\n",
      "Skipping malformed line (line 1289947)\n",
      "Skipping malformed line (line 1290313)\n",
      "Skipping malformed line (line 1290561)\n",
      "Skipping malformed line (line 1291225)\n",
      "Skipping malformed line (line 1291254)\n",
      "Skipping malformed line (line 1291722)\n",
      "Skipping malformed line (line 1291783)\n",
      "Skipping malformed line (line 1291927)\n",
      "Skipping malformed line (line 1292076)\n",
      "Skipping malformed line (line 1292315)\n",
      "Skipping malformed line (line 1292500)\n",
      "Skipping malformed line (line 1292815)\n",
      "Skipping malformed line (line 1292907)\n",
      "Skipping malformed line (line 1293027)\n",
      "Skipping malformed line (line 1293080)\n",
      "Skipping malformed line (line 1294155)\n",
      "Skipping malformed line (line 1294352)\n",
      "Skipping malformed line (line 1294622)\n",
      "Skipping malformed line (line 1294780)\n",
      "Skipping malformed line (line 1294788)\n",
      "Skipping malformed line (line 1295344)\n",
      "Skipping malformed line (line 1295641)\n",
      "Skipping malformed line (line 1295855)\n",
      "Skipping malformed line (line 1296311)\n",
      "Skipping malformed line (line 1296454)\n",
      "Skipping malformed line (line 1296489)\n",
      "Skipping malformed line (line 1296658)\n",
      "Skipping malformed line (line 1296911)\n",
      "Skipping malformed line (line 1297569)\n",
      "Skipping malformed line (line 1297581)\n",
      "Skipping malformed line (line 1297667)\n",
      "Skipping malformed line (line 1298932)\n",
      "Skipping malformed line (line 1299152)\n",
      "Skipping malformed line (line 1299234)\n",
      "Skipping malformed line (line 1300006)\n",
      "Skipping malformed line (line 1300008)\n",
      "Skipping malformed line (line 1300186)\n",
      "Skipping malformed line (line 1300273)\n",
      "Skipping malformed line (line 1300277)\n",
      "Skipping malformed line (line 1300909)\n",
      "Skipping malformed line (line 1301041)\n",
      "Skipping malformed line (line 1301043)\n",
      "Skipping malformed line (line 1301086)\n",
      "Skipping malformed line (line 1301139)\n",
      "Skipping malformed line (line 1301288)\n",
      "Skipping malformed line (line 1302091)\n",
      "Skipping malformed line (line 1303058)\n",
      "Skipping malformed line (line 1303510)\n",
      "Skipping malformed line (line 1303781)\n",
      "Skipping malformed line (line 1304210)\n",
      "Skipping malformed line (line 1304261)\n",
      "Skipping malformed line (line 1305382)\n",
      "Skipping malformed line (line 1305698)\n",
      "Skipping malformed line (line 1305765)\n",
      "Skipping malformed line (line 1306349)\n",
      "Skipping malformed line (line 1306436)\n",
      "Skipping malformed line (line 1306600)\n",
      "Skipping malformed line (line 1306749)\n",
      "Skipping malformed line (line 1306751)\n",
      "Skipping malformed line (line 1306999)\n",
      "Skipping malformed line (line 1307144)\n",
      "Skipping malformed line (line 1307211)\n",
      "Skipping malformed line (line 1307372)\n",
      "Skipping malformed line (line 1307683)\n",
      "Skipping malformed line (line 1308032)\n",
      "Skipping malformed line (line 1308595)\n",
      "Skipping malformed line (line 1308892)\n",
      "Skipping malformed line (line 1309085)\n",
      "Skipping malformed line (line 1309949)\n",
      "Skipping malformed line (line 1310080)\n",
      "Skipping malformed line (line 1310758)\n",
      "Skipping malformed line (line 1310794)\n",
      "Skipping malformed line (line 1310923)\n",
      "Skipping malformed line (line 1310997)\n",
      "Skipping malformed line (line 1311306)\n",
      "Skipping malformed line (line 1311571)\n",
      "Skipping malformed line (line 1311880)\n",
      "Skipping malformed line (line 1312474)\n",
      "Skipping malformed line (line 1313352)\n",
      "Skipping malformed line (line 1313593)\n",
      "Skipping malformed line (line 1313866)\n",
      "Skipping malformed line (line 1314437)\n",
      "Skipping malformed line (line 1314461)\n",
      "Skipping malformed line (line 1314967)\n",
      "Skipping malformed line (line 1315993)\n",
      "Skipping malformed line (line 1316098)\n",
      "Skipping malformed line (line 1316110)\n",
      "Skipping malformed line (line 1316692)\n",
      "Skipping malformed line (line 1317521)\n",
      "Skipping malformed line (line 1317935)\n",
      "Skipping malformed line (line 1317943)\n",
      "Skipping malformed line (line 1318332)\n",
      "Skipping malformed line (line 1318725)\n",
      "Skipping malformed line (line 1318794)\n",
      "Skipping malformed line (line 1319674)\n",
      "Skipping malformed line (line 1319676)\n",
      "Skipping malformed line (line 1320036)\n",
      "Skipping malformed line (line 1320757)\n",
      "Skipping malformed line (line 1320762)\n",
      "Skipping malformed line (line 1321180)\n",
      "Skipping malformed line (line 1321366)\n",
      "Skipping malformed line (line 1321480)\n",
      "Skipping malformed line (line 1321816)\n",
      "Skipping malformed line (line 1321924)\n",
      "Skipping malformed line (line 1321941)\n",
      "Skipping malformed line (line 1322166)\n",
      "Skipping malformed line (line 1322394)\n",
      "Skipping malformed line (line 1323176)\n",
      "Skipping malformed line (line 1323508)\n",
      "Skipping malformed line (line 1323585)\n",
      "Skipping malformed line (line 1324178)\n",
      "Skipping malformed line (line 1324274)\n",
      "Skipping malformed line (line 1325617)\n",
      "Skipping malformed line (line 1325636)\n",
      "Skipping malformed line (line 1325791)\n",
      "Skipping malformed line (line 1326668)\n",
      "Skipping malformed line (line 1326884)\n",
      "Skipping malformed line (line 1327000)\n",
      "Skipping malformed line (line 1327120)\n",
      "Skipping malformed line (line 1327574)\n",
      "Skipping malformed line (line 1327882)\n",
      "Skipping malformed line (line 1328199)\n",
      "Skipping malformed line (line 1328866)\n",
      "Skipping malformed line (line 1331144)\n",
      "Skipping malformed line (line 1331306)\n",
      "Skipping malformed line (line 1331466)\n",
      "Skipping malformed line (line 1332536)\n",
      "Skipping malformed line (line 1332613)\n",
      "Skipping malformed line (line 1334872)\n",
      "Skipping malformed line (line 1335041)\n",
      "Skipping malformed line (line 1335092)\n",
      "Skipping malformed line (line 1337293)\n",
      "Skipping malformed line (line 1338108)\n",
      "Skipping malformed line (line 1338157)\n",
      "Skipping malformed line (line 1338466)\n",
      "Skipping malformed line (line 1338712)\n",
      "Skipping malformed line (line 1338888)\n",
      "Skipping malformed line (line 1339846)\n",
      "Skipping malformed line (line 1339850)\n",
      "Skipping malformed line (line 1339868)\n",
      "Skipping malformed line (line 1340246)\n",
      "Skipping malformed line (line 1340649)\n",
      "Skipping malformed line (line 1341846)\n",
      "Skipping malformed line (line 1342434)\n",
      "Skipping malformed line (line 1342660)\n",
      "Skipping malformed line (line 1342824)\n",
      "Skipping malformed line (line 1343286)\n",
      "Skipping malformed line (line 1344111)\n",
      "Skipping malformed line (line 1344415)\n",
      "Skipping malformed line (line 1344572)\n",
      "Skipping malformed line (line 1344575)\n",
      "Skipping malformed line (line 1345029)\n",
      "Skipping malformed line (line 1345056)\n",
      "Skipping malformed line (line 1346425)\n",
      "Skipping malformed line (line 1346790)\n",
      "Skipping malformed line (line 1348039)\n",
      "Skipping malformed line (line 1348695)\n",
      "Skipping malformed line (line 1348795)\n",
      "Skipping malformed line (line 1349032)\n",
      "Skipping malformed line (line 1349044)\n",
      "Skipping malformed line (line 1349331)\n",
      "Skipping malformed line (line 1349407)\n",
      "Skipping malformed line (line 1350333)\n",
      "Skipping malformed line (line 1351490)\n",
      "Skipping malformed line (line 1351678)\n",
      "Skipping malformed line (line 1352095)\n",
      "Skipping malformed line (line 1352568)\n",
      "Skipping malformed line (line 1353618)\n",
      "Skipping malformed line (line 1354563)\n",
      "Skipping malformed line (line 1354587)\n",
      "Skipping malformed line (line 1354623)\n",
      "Skipping malformed line (line 1355913)\n",
      "Skipping malformed line (line 1356027)\n",
      "Skipping malformed line (line 1356326)\n",
      "Skipping malformed line (line 1356627)\n",
      "Skipping malformed line (line 1356734)\n",
      "Skipping malformed line (line 1356741)\n",
      "Skipping malformed line (line 1356930)\n",
      "Skipping malformed line (line 1357254)\n",
      "Skipping malformed line (line 1357580)\n",
      "Skipping malformed line (line 1357582)\n",
      "Skipping malformed line (line 1357752)\n",
      "Skipping malformed line (line 1358096)\n",
      "Skipping malformed line (line 1358121)\n",
      "Skipping malformed line (line 1358244)\n",
      "Skipping malformed line (line 1358425)\n",
      "Skipping malformed line (line 1359326)\n",
      "Skipping malformed line (line 1360347)\n",
      "Skipping malformed line (line 1361370)\n",
      "Skipping malformed line (line 1361651)\n",
      "Skipping malformed line (line 1362970)\n",
      "Skipping malformed line (line 1362973)\n",
      "Skipping malformed line (line 1363413)\n",
      "Skipping malformed line (line 1363608)\n",
      "Skipping malformed line (line 1364470)\n",
      "Skipping malformed line (line 1364616)\n",
      "Skipping malformed line (line 1365021)\n",
      "Skipping malformed line (line 1365337)\n",
      "Skipping malformed line (line 1367375)\n",
      "Skipping malformed line (line 1367799)\n",
      "Skipping malformed line (line 1367854)\n",
      "Skipping malformed line (line 1367869)\n",
      "Skipping malformed line (line 1367885)\n",
      "Skipping malformed line (line 1367986)\n",
      "Skipping malformed line (line 1367996)\n",
      "Skipping malformed line (line 1368006)\n",
      "Skipping malformed line (line 1368013)\n",
      "Skipping malformed line (line 1368128)\n",
      "Skipping malformed line (line 1368213)\n",
      "Skipping malformed line (line 1368224)\n",
      "Skipping malformed line (line 1368253)\n",
      "Skipping malformed line (line 1368309)\n",
      "Total lines processed: 1368360\n",
      "Total lines skipped: 3718\n",
      "DataFrame loaded successfully:\n"
     ]
    },
    {
     "data": {
      "text/html": [
       "<div>\n",
       "<style scoped>\n",
       "    .dataframe tbody tr th:only-of-type {\n",
       "        vertical-align: middle;\n",
       "    }\n",
       "\n",
       "    .dataframe tbody tr th {\n",
       "        vertical-align: top;\n",
       "    }\n",
       "\n",
       "    .dataframe thead th {\n",
       "        text-align: right;\n",
       "    }\n",
       "</style>\n",
       "<table border=\"1\" class=\"dataframe\">\n",
       "  <thead>\n",
       "    <tr style=\"text-align: right;\">\n",
       "      <th></th>\n",
       "      <th>VIN</th>\n",
       "      <th>ENGINE_SIZE</th>\n",
       "      <th>ENGINE_HP</th>\n",
       "      <th>VEH_TYPE</th>\n",
       "      <th>_KOLA_01X</th>\n",
       "      <th>_KOLA_02X</th>\n",
       "      <th>_KOLA_03X</th>\n",
       "      <th>_KOLA_04X</th>\n",
       "      <th>_KOLA_05X</th>\n",
       "      <th>_KOLA_06X</th>\n",
       "      <th>...</th>\n",
       "      <th>f_5_dtc2457_1th_15d</th>\n",
       "      <th>f_5_dtc2457_2nd_15d</th>\n",
       "      <th>f_6_dtc2457_1th_15d</th>\n",
       "      <th>f_6_dtc2457_2nd_15d</th>\n",
       "      <th>f_7_dtc2457_1th_15d</th>\n",
       "      <th>f_7_dtc2457_2nd_15d</th>\n",
       "      <th>f_8_dtc2457_1th_15d</th>\n",
       "      <th>f_8_dtc2457_2nd_15d</th>\n",
       "      <th>if_parts_replaced_in_1th_15d</th>\n",
       "      <th>if_parts_replaced_in_2nd_15d</th>\n",
       "    </tr>\n",
       "  </thead>\n",
       "  <tbody>\n",
       "    <tr>\n",
       "      <th>0</th>\n",
       "      <td>4V4NC9EH6KN904736</td>\n",
       "      <td>D13</td>\n",
       "      <td>455</td>\n",
       "      <td>VNL</td>\n",
       "      <td>WTDF22.5</td>\n",
       "      <td>WTDD22.5</td>\n",
       "      <td>UWTDT</td>\n",
       "      <td>WBF-ALCO</td>\n",
       "      <td>WBD-ALCO</td>\n",
       "      <td>UWBT</td>\n",
       "      <td>...</td>\n",
       "      <td>0.0</td>\n",
       "      <td>0.0</td>\n",
       "      <td>0.0</td>\n",
       "      <td>0.0</td>\n",
       "      <td>0</td>\n",
       "      <td>0</td>\n",
       "      <td>0</td>\n",
       "      <td>0</td>\n",
       "      <td>0</td>\n",
       "      <td>0</td>\n",
       "    </tr>\n",
       "    <tr>\n",
       "      <th>1</th>\n",
       "      <td>4V4NC9EH6KN904736</td>\n",
       "      <td>D13</td>\n",
       "      <td>455</td>\n",
       "      <td>VNL</td>\n",
       "      <td>WTDF22.5</td>\n",
       "      <td>WTDD22.5</td>\n",
       "      <td>UWTDT</td>\n",
       "      <td>WBF-ALCO</td>\n",
       "      <td>WBD-ALCO</td>\n",
       "      <td>UWBT</td>\n",
       "      <td>...</td>\n",
       "      <td>0.0</td>\n",
       "      <td>0.0</td>\n",
       "      <td>0.0</td>\n",
       "      <td>0.0</td>\n",
       "      <td>0</td>\n",
       "      <td>0</td>\n",
       "      <td>0</td>\n",
       "      <td>0</td>\n",
       "      <td>0</td>\n",
       "      <td>0</td>\n",
       "    </tr>\n",
       "    <tr>\n",
       "      <th>2</th>\n",
       "      <td>4V4NC9EH6KN904736</td>\n",
       "      <td>D13</td>\n",
       "      <td>455</td>\n",
       "      <td>VNL</td>\n",
       "      <td>WTDF22.5</td>\n",
       "      <td>WTDD22.5</td>\n",
       "      <td>UWTDT</td>\n",
       "      <td>WBF-ALCO</td>\n",
       "      <td>WBD-ALCO</td>\n",
       "      <td>UWBT</td>\n",
       "      <td>...</td>\n",
       "      <td>0.0</td>\n",
       "      <td>0.0</td>\n",
       "      <td>0.0</td>\n",
       "      <td>0.0</td>\n",
       "      <td>0</td>\n",
       "      <td>0</td>\n",
       "      <td>0</td>\n",
       "      <td>0</td>\n",
       "      <td>0</td>\n",
       "      <td>0</td>\n",
       "    </tr>\n",
       "    <tr>\n",
       "      <th>3</th>\n",
       "      <td>4V4NC9EH6KN904736</td>\n",
       "      <td>D13</td>\n",
       "      <td>455</td>\n",
       "      <td>VNL</td>\n",
       "      <td>WTDF22.5</td>\n",
       "      <td>WTDD22.5</td>\n",
       "      <td>UWTDT</td>\n",
       "      <td>WBF-ALCO</td>\n",
       "      <td>WBD-ALCO</td>\n",
       "      <td>UWBT</td>\n",
       "      <td>...</td>\n",
       "      <td>0.0</td>\n",
       "      <td>0.0</td>\n",
       "      <td>0.0</td>\n",
       "      <td>0.0</td>\n",
       "      <td>0</td>\n",
       "      <td>0</td>\n",
       "      <td>0</td>\n",
       "      <td>0</td>\n",
       "      <td>0</td>\n",
       "      <td>0</td>\n",
       "    </tr>\n",
       "    <tr>\n",
       "      <th>4</th>\n",
       "      <td>4V4NC9EH6KN904736</td>\n",
       "      <td>D13</td>\n",
       "      <td>455</td>\n",
       "      <td>VNL</td>\n",
       "      <td>WTDF22.5</td>\n",
       "      <td>WTDD22.5</td>\n",
       "      <td>UWTDT</td>\n",
       "      <td>WBF-ALCO</td>\n",
       "      <td>WBD-ALCO</td>\n",
       "      <td>UWBT</td>\n",
       "      <td>...</td>\n",
       "      <td>0.0</td>\n",
       "      <td>0.0</td>\n",
       "      <td>0.0</td>\n",
       "      <td>0.0</td>\n",
       "      <td>0</td>\n",
       "      <td>0</td>\n",
       "      <td>0</td>\n",
       "      <td>0</td>\n",
       "      <td>0</td>\n",
       "      <td>0</td>\n",
       "    </tr>\n",
       "    <tr>\n",
       "      <th>...</th>\n",
       "      <td>...</td>\n",
       "      <td>...</td>\n",
       "      <td>...</td>\n",
       "      <td>...</td>\n",
       "      <td>...</td>\n",
       "      <td>...</td>\n",
       "      <td>...</td>\n",
       "      <td>...</td>\n",
       "      <td>...</td>\n",
       "      <td>...</td>\n",
       "      <td>...</td>\n",
       "      <td>...</td>\n",
       "      <td>...</td>\n",
       "      <td>...</td>\n",
       "      <td>...</td>\n",
       "      <td>...</td>\n",
       "      <td>...</td>\n",
       "      <td>...</td>\n",
       "      <td>...</td>\n",
       "      <td>...</td>\n",
       "      <td>...</td>\n",
       "    </tr>\n",
       "    <tr>\n",
       "      <th>1360889</th>\n",
       "      <td>4V4NC9EJ1FN909416</td>\n",
       "      <td>D13</td>\n",
       "      <td>475</td>\n",
       "      <td>VNL</td>\n",
       "      <td>WTDF22.5</td>\n",
       "      <td>WTDD22.5</td>\n",
       "      <td>UWTDT</td>\n",
       "      <td>WBF-ALCO</td>\n",
       "      <td>WBD-ALCO</td>\n",
       "      <td>UWBT</td>\n",
       "      <td>...</td>\n",
       "      <td>0.0</td>\n",
       "      <td>0.0</td>\n",
       "      <td>0.0</td>\n",
       "      <td>0.0</td>\n",
       "      <td>0</td>\n",
       "      <td>0</td>\n",
       "      <td>0</td>\n",
       "      <td>0</td>\n",
       "      <td>0</td>\n",
       "      <td>0</td>\n",
       "    </tr>\n",
       "    <tr>\n",
       "      <th>1360890</th>\n",
       "      <td>4V4NC9EJ1FN909416</td>\n",
       "      <td>D13</td>\n",
       "      <td>475</td>\n",
       "      <td>VNL</td>\n",
       "      <td>WTDF22.5</td>\n",
       "      <td>WTDD22.5</td>\n",
       "      <td>UWTDT</td>\n",
       "      <td>WBF-ALCO</td>\n",
       "      <td>WBD-ALCO</td>\n",
       "      <td>UWBT</td>\n",
       "      <td>...</td>\n",
       "      <td>0.0</td>\n",
       "      <td>0.0</td>\n",
       "      <td>0.0</td>\n",
       "      <td>0.0</td>\n",
       "      <td>0</td>\n",
       "      <td>0</td>\n",
       "      <td>0</td>\n",
       "      <td>0</td>\n",
       "      <td>0</td>\n",
       "      <td>0</td>\n",
       "    </tr>\n",
       "    <tr>\n",
       "      <th>1360891</th>\n",
       "      <td>4V4NC9EH5FN188692</td>\n",
       "      <td>D13</td>\n",
       "      <td>455</td>\n",
       "      <td>VNL</td>\n",
       "      <td>WTDF22.5</td>\n",
       "      <td>WTDD22.5</td>\n",
       "      <td>UWTDT</td>\n",
       "      <td>WBF-ALCO</td>\n",
       "      <td>WBD-ALCO</td>\n",
       "      <td>UWBT</td>\n",
       "      <td>...</td>\n",
       "      <td>0.0</td>\n",
       "      <td>0.0</td>\n",
       "      <td>0.0</td>\n",
       "      <td>0.0</td>\n",
       "      <td>0</td>\n",
       "      <td>0</td>\n",
       "      <td>0</td>\n",
       "      <td>0</td>\n",
       "      <td>0</td>\n",
       "      <td>0</td>\n",
       "    </tr>\n",
       "    <tr>\n",
       "      <th>1360892</th>\n",
       "      <td>4V4NC9EH5FN188692</td>\n",
       "      <td>D13</td>\n",
       "      <td>455</td>\n",
       "      <td>VNL</td>\n",
       "      <td>WTDF22.5</td>\n",
       "      <td>WTDD22.5</td>\n",
       "      <td>UWTDT</td>\n",
       "      <td>WBF-ALCO</td>\n",
       "      <td>WBD-ALCO</td>\n",
       "      <td>UWBT</td>\n",
       "      <td>...</td>\n",
       "      <td>0.0</td>\n",
       "      <td>0.0</td>\n",
       "      <td>0.0</td>\n",
       "      <td>0.0</td>\n",
       "      <td>0</td>\n",
       "      <td>0</td>\n",
       "      <td>0</td>\n",
       "      <td>0</td>\n",
       "      <td>0</td>\n",
       "      <td>0</td>\n",
       "    </tr>\n",
       "    <tr>\n",
       "      <th>1360893</th>\n",
       "      <td>4V4NC9EH5FN188692</td>\n",
       "      <td>D13</td>\n",
       "      <td>455</td>\n",
       "      <td>VNL</td>\n",
       "      <td>WTDF22.5</td>\n",
       "      <td>WTDD22.5</td>\n",
       "      <td>UWTDT</td>\n",
       "      <td>WBF-ALCO</td>\n",
       "      <td>WBD-ALCO</td>\n",
       "      <td>UWBT</td>\n",
       "      <td>...</td>\n",
       "      <td>0.0</td>\n",
       "      <td>0.0</td>\n",
       "      <td>0.0</td>\n",
       "      <td>0.0</td>\n",
       "      <td>0</td>\n",
       "      <td>0</td>\n",
       "      <td>0</td>\n",
       "      <td>0</td>\n",
       "      <td>0</td>\n",
       "      <td>0</td>\n",
       "    </tr>\n",
       "  </tbody>\n",
       "</table>\n",
       "<p>1360894 rows × 723 columns</p>\n",
       "</div>"
      ],
      "text/plain": [
       "                       VIN ENGINE_SIZE ENGINE_HP VEH_TYPE _KOLA_01X _KOLA_02X  \\\n",
       "0        4V4NC9EH6KN904736         D13       455      VNL  WTDF22.5  WTDD22.5   \n",
       "1        4V4NC9EH6KN904736         D13       455      VNL  WTDF22.5  WTDD22.5   \n",
       "2        4V4NC9EH6KN904736         D13       455      VNL  WTDF22.5  WTDD22.5   \n",
       "3        4V4NC9EH6KN904736         D13       455      VNL  WTDF22.5  WTDD22.5   \n",
       "4        4V4NC9EH6KN904736         D13       455      VNL  WTDF22.5  WTDD22.5   \n",
       "...                    ...         ...       ...      ...       ...       ...   \n",
       "1360889  4V4NC9EJ1FN909416         D13       475      VNL  WTDF22.5  WTDD22.5   \n",
       "1360890  4V4NC9EJ1FN909416         D13       475      VNL  WTDF22.5  WTDD22.5   \n",
       "1360891  4V4NC9EH5FN188692         D13       455      VNL  WTDF22.5  WTDD22.5   \n",
       "1360892  4V4NC9EH5FN188692         D13       455      VNL  WTDF22.5  WTDD22.5   \n",
       "1360893  4V4NC9EH5FN188692         D13       455      VNL  WTDF22.5  WTDD22.5   \n",
       "\n",
       "        _KOLA_03X _KOLA_04X _KOLA_05X _KOLA_06X  ... f_5_dtc2457_1th_15d  \\\n",
       "0           UWTDT  WBF-ALCO  WBD-ALCO      UWBT  ...                 0.0   \n",
       "1           UWTDT  WBF-ALCO  WBD-ALCO      UWBT  ...                 0.0   \n",
       "2           UWTDT  WBF-ALCO  WBD-ALCO      UWBT  ...                 0.0   \n",
       "3           UWTDT  WBF-ALCO  WBD-ALCO      UWBT  ...                 0.0   \n",
       "4           UWTDT  WBF-ALCO  WBD-ALCO      UWBT  ...                 0.0   \n",
       "...           ...       ...       ...       ...  ...                 ...   \n",
       "1360889     UWTDT  WBF-ALCO  WBD-ALCO      UWBT  ...                 0.0   \n",
       "1360890     UWTDT  WBF-ALCO  WBD-ALCO      UWBT  ...                 0.0   \n",
       "1360891     UWTDT  WBF-ALCO  WBD-ALCO      UWBT  ...                 0.0   \n",
       "1360892     UWTDT  WBF-ALCO  WBD-ALCO      UWBT  ...                 0.0   \n",
       "1360893     UWTDT  WBF-ALCO  WBD-ALCO      UWBT  ...                 0.0   \n",
       "\n",
       "        f_5_dtc2457_2nd_15d f_6_dtc2457_1th_15d f_6_dtc2457_2nd_15d  \\\n",
       "0                       0.0                 0.0                 0.0   \n",
       "1                       0.0                 0.0                 0.0   \n",
       "2                       0.0                 0.0                 0.0   \n",
       "3                       0.0                 0.0                 0.0   \n",
       "4                       0.0                 0.0                 0.0   \n",
       "...                     ...                 ...                 ...   \n",
       "1360889                 0.0                 0.0                 0.0   \n",
       "1360890                 0.0                 0.0                 0.0   \n",
       "1360891                 0.0                 0.0                 0.0   \n",
       "1360892                 0.0                 0.0                 0.0   \n",
       "1360893                 0.0                 0.0                 0.0   \n",
       "\n",
       "        f_7_dtc2457_1th_15d f_7_dtc2457_2nd_15d f_8_dtc2457_1th_15d  \\\n",
       "0                         0                   0                   0   \n",
       "1                         0                   0                   0   \n",
       "2                         0                   0                   0   \n",
       "3                         0                   0                   0   \n",
       "4                         0                   0                   0   \n",
       "...                     ...                 ...                 ...   \n",
       "1360889                   0                   0                   0   \n",
       "1360890                   0                   0                   0   \n",
       "1360891                   0                   0                   0   \n",
       "1360892                   0                   0                   0   \n",
       "1360893                   0                   0                   0   \n",
       "\n",
       "        f_8_dtc2457_2nd_15d if_parts_replaced_in_1th_15d  \\\n",
       "0                         0                            0   \n",
       "1                         0                            0   \n",
       "2                         0                            0   \n",
       "3                         0                            0   \n",
       "4                         0                            0   \n",
       "...                     ...                          ...   \n",
       "1360889                   0                            0   \n",
       "1360890                   0                            0   \n",
       "1360891                   0                            0   \n",
       "1360892                   0                            0   \n",
       "1360893                   0                            0   \n",
       "\n",
       "        if_parts_replaced_in_2nd_15d  \n",
       "0                                  0  \n",
       "1                                  0  \n",
       "2                                  0  \n",
       "3                                  0  \n",
       "4                                  0  \n",
       "...                              ...  \n",
       "1360889                            0  \n",
       "1360890                            0  \n",
       "1360891                            0  \n",
       "1360892                            0  \n",
       "1360893                            0  \n",
       "\n",
       "[1360894 rows x 723 columns]"
      ]
     },
     "metadata": {},
     "output_type": "display_data"
    },
    {
     "name": "stdout",
     "output_type": "stream",
     "text": [
      "Number of rows read: 1360894\n"
     ]
    }
   ],
   "source": [
    "input_file_path = '/storage/home/yqf5148/work/volvoPennState/data/dataset/resultedData.csv'\n",
    "cleaned_file_path = '/storage/home/yqf5148/work/volvoPennState/data/dataset/cleanedNormalized_resultedData.csv'\n",
    "VINs_data_file_path = '/storage/home/yqf5148/work/volvoPennState/data/dataset/VINs_data.csv'\n",
    "expected_columns = 723  # The correct number of columns\n",
    "\n",
    "\n",
    "# Preprocess the CSV file to fix bad lines\n",
    "preprocess_csv(input_file_path, cleaned_file_path, expected_columns)\n",
    "\n",
    "\n",
    "selected_features_from_population = ['VIN','ENGINE_SIZE','ENGINE_HP','VEH_TYPE']+[s for s in df_population.columns if 'KOLA' in s]\n",
    "all_columns_names = ['VIN','ENGINE_SIZE','ENGINE_HP','VEH_TYPE']+[s for s in df_population.columns if 'KOLA' in s] + calculated_features\n",
    "\n",
    "\n",
    "# Read the cleaned CSV file into a DataFrame\n",
    "cleanedNormalized_resultedData = pd.read_csv(cleaned_file_path, header=None, names=all_columns_names, index_col=False, dtype='unicode')\n",
    "\n",
    "# Display the DataFrame\n",
    "print(\"DataFrame loaded successfully:\")\n",
    "display(cleanedNormalized_resultedData)  #cleanedNormalized_resultedData[['VIN','calendar_day']])\n",
    "print(f\"Number of rows read: {len(cleanedNormalized_resultedData)}\")"
   ]
  },
  {
   "cell_type": "markdown",
   "id": "5cfb89dc-239d-4f23-a8fc-9da0fd6ef9e7",
   "metadata": {},
   "source": [
    "# Validating and Cleaning of the Generated Data"
   ]
  },
  {
   "cell_type": "code",
   "execution_count": 6,
   "id": "d4f29e68-b56e-4b34-ad2f-8210ebd12c78",
   "metadata": {},
   "outputs": [
    {
     "name": "stdout",
     "output_type": "stream",
     "text": [
      "Cleaned DataFrame shape: (1360701, 723)\n"
     ]
    },
    {
     "data": {
      "text/html": [
       "<div>\n",
       "<style scoped>\n",
       "    .dataframe tbody tr th:only-of-type {\n",
       "        vertical-align: middle;\n",
       "    }\n",
       "\n",
       "    .dataframe tbody tr th {\n",
       "        vertical-align: top;\n",
       "    }\n",
       "\n",
       "    .dataframe thead th {\n",
       "        text-align: right;\n",
       "    }\n",
       "</style>\n",
       "<table border=\"1\" class=\"dataframe\">\n",
       "  <thead>\n",
       "    <tr style=\"text-align: right;\">\n",
       "      <th></th>\n",
       "      <th>VIN</th>\n",
       "      <th>ENGINE_SIZE</th>\n",
       "      <th>ENGINE_HP</th>\n",
       "      <th>VEH_TYPE</th>\n",
       "      <th>_KOLA_01X</th>\n",
       "      <th>_KOLA_02X</th>\n",
       "      <th>_KOLA_03X</th>\n",
       "      <th>_KOLA_04X</th>\n",
       "      <th>_KOLA_05X</th>\n",
       "      <th>_KOLA_06X</th>\n",
       "      <th>...</th>\n",
       "      <th>f_5_dtc2457_1th_15d</th>\n",
       "      <th>f_5_dtc2457_2nd_15d</th>\n",
       "      <th>f_6_dtc2457_1th_15d</th>\n",
       "      <th>f_6_dtc2457_2nd_15d</th>\n",
       "      <th>f_7_dtc2457_1th_15d</th>\n",
       "      <th>f_7_dtc2457_2nd_15d</th>\n",
       "      <th>f_8_dtc2457_1th_15d</th>\n",
       "      <th>f_8_dtc2457_2nd_15d</th>\n",
       "      <th>if_parts_replaced_in_1th_15d</th>\n",
       "      <th>if_parts_replaced_in_2nd_15d</th>\n",
       "    </tr>\n",
       "  </thead>\n",
       "  <tbody>\n",
       "    <tr>\n",
       "      <th>0</th>\n",
       "      <td>4V4NC9EH6KN904736</td>\n",
       "      <td>D13</td>\n",
       "      <td>455</td>\n",
       "      <td>VNL</td>\n",
       "      <td>WTDF22.5</td>\n",
       "      <td>WTDD22.5</td>\n",
       "      <td>UWTDT</td>\n",
       "      <td>WBF-ALCO</td>\n",
       "      <td>WBD-ALCO</td>\n",
       "      <td>UWBT</td>\n",
       "      <td>...</td>\n",
       "      <td>0.0</td>\n",
       "      <td>0.0</td>\n",
       "      <td>0.0</td>\n",
       "      <td>0.0</td>\n",
       "      <td>0</td>\n",
       "      <td>0</td>\n",
       "      <td>0</td>\n",
       "      <td>0</td>\n",
       "      <td>0</td>\n",
       "      <td>0</td>\n",
       "    </tr>\n",
       "    <tr>\n",
       "      <th>1</th>\n",
       "      <td>4V4NC9EH6KN904736</td>\n",
       "      <td>D13</td>\n",
       "      <td>455</td>\n",
       "      <td>VNL</td>\n",
       "      <td>WTDF22.5</td>\n",
       "      <td>WTDD22.5</td>\n",
       "      <td>UWTDT</td>\n",
       "      <td>WBF-ALCO</td>\n",
       "      <td>WBD-ALCO</td>\n",
       "      <td>UWBT</td>\n",
       "      <td>...</td>\n",
       "      <td>0.0</td>\n",
       "      <td>0.0</td>\n",
       "      <td>0.0</td>\n",
       "      <td>0.0</td>\n",
       "      <td>0</td>\n",
       "      <td>0</td>\n",
       "      <td>0</td>\n",
       "      <td>0</td>\n",
       "      <td>0</td>\n",
       "      <td>0</td>\n",
       "    </tr>\n",
       "    <tr>\n",
       "      <th>2</th>\n",
       "      <td>4V4NC9EH6KN904736</td>\n",
       "      <td>D13</td>\n",
       "      <td>455</td>\n",
       "      <td>VNL</td>\n",
       "      <td>WTDF22.5</td>\n",
       "      <td>WTDD22.5</td>\n",
       "      <td>UWTDT</td>\n",
       "      <td>WBF-ALCO</td>\n",
       "      <td>WBD-ALCO</td>\n",
       "      <td>UWBT</td>\n",
       "      <td>...</td>\n",
       "      <td>0.0</td>\n",
       "      <td>0.0</td>\n",
       "      <td>0.0</td>\n",
       "      <td>0.0</td>\n",
       "      <td>0</td>\n",
       "      <td>0</td>\n",
       "      <td>0</td>\n",
       "      <td>0</td>\n",
       "      <td>0</td>\n",
       "      <td>0</td>\n",
       "    </tr>\n",
       "    <tr>\n",
       "      <th>3</th>\n",
       "      <td>4V4NC9EH6KN904736</td>\n",
       "      <td>D13</td>\n",
       "      <td>455</td>\n",
       "      <td>VNL</td>\n",
       "      <td>WTDF22.5</td>\n",
       "      <td>WTDD22.5</td>\n",
       "      <td>UWTDT</td>\n",
       "      <td>WBF-ALCO</td>\n",
       "      <td>WBD-ALCO</td>\n",
       "      <td>UWBT</td>\n",
       "      <td>...</td>\n",
       "      <td>0.0</td>\n",
       "      <td>0.0</td>\n",
       "      <td>0.0</td>\n",
       "      <td>0.0</td>\n",
       "      <td>0</td>\n",
       "      <td>0</td>\n",
       "      <td>0</td>\n",
       "      <td>0</td>\n",
       "      <td>0</td>\n",
       "      <td>0</td>\n",
       "    </tr>\n",
       "    <tr>\n",
       "      <th>4</th>\n",
       "      <td>4V4NC9EH6KN904736</td>\n",
       "      <td>D13</td>\n",
       "      <td>455</td>\n",
       "      <td>VNL</td>\n",
       "      <td>WTDF22.5</td>\n",
       "      <td>WTDD22.5</td>\n",
       "      <td>UWTDT</td>\n",
       "      <td>WBF-ALCO</td>\n",
       "      <td>WBD-ALCO</td>\n",
       "      <td>UWBT</td>\n",
       "      <td>...</td>\n",
       "      <td>0.0</td>\n",
       "      <td>0.0</td>\n",
       "      <td>0.0</td>\n",
       "      <td>0.0</td>\n",
       "      <td>0</td>\n",
       "      <td>0</td>\n",
       "      <td>0</td>\n",
       "      <td>0</td>\n",
       "      <td>0</td>\n",
       "      <td>0</td>\n",
       "    </tr>\n",
       "    <tr>\n",
       "      <th>...</th>\n",
       "      <td>...</td>\n",
       "      <td>...</td>\n",
       "      <td>...</td>\n",
       "      <td>...</td>\n",
       "      <td>...</td>\n",
       "      <td>...</td>\n",
       "      <td>...</td>\n",
       "      <td>...</td>\n",
       "      <td>...</td>\n",
       "      <td>...</td>\n",
       "      <td>...</td>\n",
       "      <td>...</td>\n",
       "      <td>...</td>\n",
       "      <td>...</td>\n",
       "      <td>...</td>\n",
       "      <td>...</td>\n",
       "      <td>...</td>\n",
       "      <td>...</td>\n",
       "      <td>...</td>\n",
       "      <td>...</td>\n",
       "      <td>...</td>\n",
       "    </tr>\n",
       "    <tr>\n",
       "      <th>1360889</th>\n",
       "      <td>4V4NC9EJ1FN909416</td>\n",
       "      <td>D13</td>\n",
       "      <td>475</td>\n",
       "      <td>VNL</td>\n",
       "      <td>WTDF22.5</td>\n",
       "      <td>WTDD22.5</td>\n",
       "      <td>UWTDT</td>\n",
       "      <td>WBF-ALCO</td>\n",
       "      <td>WBD-ALCO</td>\n",
       "      <td>UWBT</td>\n",
       "      <td>...</td>\n",
       "      <td>0.0</td>\n",
       "      <td>0.0</td>\n",
       "      <td>0.0</td>\n",
       "      <td>0.0</td>\n",
       "      <td>0</td>\n",
       "      <td>0</td>\n",
       "      <td>0</td>\n",
       "      <td>0</td>\n",
       "      <td>0</td>\n",
       "      <td>0</td>\n",
       "    </tr>\n",
       "    <tr>\n",
       "      <th>1360890</th>\n",
       "      <td>4V4NC9EJ1FN909416</td>\n",
       "      <td>D13</td>\n",
       "      <td>475</td>\n",
       "      <td>VNL</td>\n",
       "      <td>WTDF22.5</td>\n",
       "      <td>WTDD22.5</td>\n",
       "      <td>UWTDT</td>\n",
       "      <td>WBF-ALCO</td>\n",
       "      <td>WBD-ALCO</td>\n",
       "      <td>UWBT</td>\n",
       "      <td>...</td>\n",
       "      <td>0.0</td>\n",
       "      <td>0.0</td>\n",
       "      <td>0.0</td>\n",
       "      <td>0.0</td>\n",
       "      <td>0</td>\n",
       "      <td>0</td>\n",
       "      <td>0</td>\n",
       "      <td>0</td>\n",
       "      <td>0</td>\n",
       "      <td>0</td>\n",
       "    </tr>\n",
       "    <tr>\n",
       "      <th>1360891</th>\n",
       "      <td>4V4NC9EH5FN188692</td>\n",
       "      <td>D13</td>\n",
       "      <td>455</td>\n",
       "      <td>VNL</td>\n",
       "      <td>WTDF22.5</td>\n",
       "      <td>WTDD22.5</td>\n",
       "      <td>UWTDT</td>\n",
       "      <td>WBF-ALCO</td>\n",
       "      <td>WBD-ALCO</td>\n",
       "      <td>UWBT</td>\n",
       "      <td>...</td>\n",
       "      <td>0.0</td>\n",
       "      <td>0.0</td>\n",
       "      <td>0.0</td>\n",
       "      <td>0.0</td>\n",
       "      <td>0</td>\n",
       "      <td>0</td>\n",
       "      <td>0</td>\n",
       "      <td>0</td>\n",
       "      <td>0</td>\n",
       "      <td>0</td>\n",
       "    </tr>\n",
       "    <tr>\n",
       "      <th>1360892</th>\n",
       "      <td>4V4NC9EH5FN188692</td>\n",
       "      <td>D13</td>\n",
       "      <td>455</td>\n",
       "      <td>VNL</td>\n",
       "      <td>WTDF22.5</td>\n",
       "      <td>WTDD22.5</td>\n",
       "      <td>UWTDT</td>\n",
       "      <td>WBF-ALCO</td>\n",
       "      <td>WBD-ALCO</td>\n",
       "      <td>UWBT</td>\n",
       "      <td>...</td>\n",
       "      <td>0.0</td>\n",
       "      <td>0.0</td>\n",
       "      <td>0.0</td>\n",
       "      <td>0.0</td>\n",
       "      <td>0</td>\n",
       "      <td>0</td>\n",
       "      <td>0</td>\n",
       "      <td>0</td>\n",
       "      <td>0</td>\n",
       "      <td>0</td>\n",
       "    </tr>\n",
       "    <tr>\n",
       "      <th>1360893</th>\n",
       "      <td>4V4NC9EH5FN188692</td>\n",
       "      <td>D13</td>\n",
       "      <td>455</td>\n",
       "      <td>VNL</td>\n",
       "      <td>WTDF22.5</td>\n",
       "      <td>WTDD22.5</td>\n",
       "      <td>UWTDT</td>\n",
       "      <td>WBF-ALCO</td>\n",
       "      <td>WBD-ALCO</td>\n",
       "      <td>UWBT</td>\n",
       "      <td>...</td>\n",
       "      <td>0.0</td>\n",
       "      <td>0.0</td>\n",
       "      <td>0.0</td>\n",
       "      <td>0.0</td>\n",
       "      <td>0</td>\n",
       "      <td>0</td>\n",
       "      <td>0</td>\n",
       "      <td>0</td>\n",
       "      <td>0</td>\n",
       "      <td>0</td>\n",
       "    </tr>\n",
       "  </tbody>\n",
       "</table>\n",
       "<p>1360701 rows × 723 columns</p>\n",
       "</div>"
      ],
      "text/plain": [
       "                       VIN ENGINE_SIZE ENGINE_HP VEH_TYPE _KOLA_01X _KOLA_02X  \\\n",
       "0        4V4NC9EH6KN904736         D13       455      VNL  WTDF22.5  WTDD22.5   \n",
       "1        4V4NC9EH6KN904736         D13       455      VNL  WTDF22.5  WTDD22.5   \n",
       "2        4V4NC9EH6KN904736         D13       455      VNL  WTDF22.5  WTDD22.5   \n",
       "3        4V4NC9EH6KN904736         D13       455      VNL  WTDF22.5  WTDD22.5   \n",
       "4        4V4NC9EH6KN904736         D13       455      VNL  WTDF22.5  WTDD22.5   \n",
       "...                    ...         ...       ...      ...       ...       ...   \n",
       "1360889  4V4NC9EJ1FN909416         D13       475      VNL  WTDF22.5  WTDD22.5   \n",
       "1360890  4V4NC9EJ1FN909416         D13       475      VNL  WTDF22.5  WTDD22.5   \n",
       "1360891  4V4NC9EH5FN188692         D13       455      VNL  WTDF22.5  WTDD22.5   \n",
       "1360892  4V4NC9EH5FN188692         D13       455      VNL  WTDF22.5  WTDD22.5   \n",
       "1360893  4V4NC9EH5FN188692         D13       455      VNL  WTDF22.5  WTDD22.5   \n",
       "\n",
       "        _KOLA_03X _KOLA_04X _KOLA_05X _KOLA_06X  ... f_5_dtc2457_1th_15d  \\\n",
       "0           UWTDT  WBF-ALCO  WBD-ALCO      UWBT  ...                 0.0   \n",
       "1           UWTDT  WBF-ALCO  WBD-ALCO      UWBT  ...                 0.0   \n",
       "2           UWTDT  WBF-ALCO  WBD-ALCO      UWBT  ...                 0.0   \n",
       "3           UWTDT  WBF-ALCO  WBD-ALCO      UWBT  ...                 0.0   \n",
       "4           UWTDT  WBF-ALCO  WBD-ALCO      UWBT  ...                 0.0   \n",
       "...           ...       ...       ...       ...  ...                 ...   \n",
       "1360889     UWTDT  WBF-ALCO  WBD-ALCO      UWBT  ...                 0.0   \n",
       "1360890     UWTDT  WBF-ALCO  WBD-ALCO      UWBT  ...                 0.0   \n",
       "1360891     UWTDT  WBF-ALCO  WBD-ALCO      UWBT  ...                 0.0   \n",
       "1360892     UWTDT  WBF-ALCO  WBD-ALCO      UWBT  ...                 0.0   \n",
       "1360893     UWTDT  WBF-ALCO  WBD-ALCO      UWBT  ...                 0.0   \n",
       "\n",
       "        f_5_dtc2457_2nd_15d f_6_dtc2457_1th_15d f_6_dtc2457_2nd_15d  \\\n",
       "0                       0.0                 0.0                 0.0   \n",
       "1                       0.0                 0.0                 0.0   \n",
       "2                       0.0                 0.0                 0.0   \n",
       "3                       0.0                 0.0                 0.0   \n",
       "4                       0.0                 0.0                 0.0   \n",
       "...                     ...                 ...                 ...   \n",
       "1360889                 0.0                 0.0                 0.0   \n",
       "1360890                 0.0                 0.0                 0.0   \n",
       "1360891                 0.0                 0.0                 0.0   \n",
       "1360892                 0.0                 0.0                 0.0   \n",
       "1360893                 0.0                 0.0                 0.0   \n",
       "\n",
       "        f_7_dtc2457_1th_15d f_7_dtc2457_2nd_15d f_8_dtc2457_1th_15d  \\\n",
       "0                         0                   0                   0   \n",
       "1                         0                   0                   0   \n",
       "2                         0                   0                   0   \n",
       "3                         0                   0                   0   \n",
       "4                         0                   0                   0   \n",
       "...                     ...                 ...                 ...   \n",
       "1360889                   0                   0                   0   \n",
       "1360890                   0                   0                   0   \n",
       "1360891                   0                   0                   0   \n",
       "1360892                   0                   0                   0   \n",
       "1360893                   0                   0                   0   \n",
       "\n",
       "        f_8_dtc2457_2nd_15d if_parts_replaced_in_1th_15d  \\\n",
       "0                         0                            0   \n",
       "1                         0                            0   \n",
       "2                         0                            0   \n",
       "3                         0                            0   \n",
       "4                         0                            0   \n",
       "...                     ...                          ...   \n",
       "1360889                   0                            0   \n",
       "1360890                   0                            0   \n",
       "1360891                   0                            0   \n",
       "1360892                   0                            0   \n",
       "1360893                   0                            0   \n",
       "\n",
       "        if_parts_replaced_in_2nd_15d  \n",
       "0                                  0  \n",
       "1                                  0  \n",
       "2                                  0  \n",
       "3                                  0  \n",
       "4                                  0  \n",
       "...                              ...  \n",
       "1360889                            0  \n",
       "1360890                            0  \n",
       "1360891                            0  \n",
       "1360892                            0  \n",
       "1360893                            0  \n",
       "\n",
       "[1360701 rows x 723 columns]"
      ]
     },
     "metadata": {},
     "output_type": "display_data"
    }
   ],
   "source": [
    "# removing bad rows with more cells (columns) in each row than expected.\n",
    "max_columns = cleanedNormalized_resultedData.shape[1]\n",
    "\n",
    "cleanedNormalized_resultedData = cleanedNormalized_resultedData[cleanedNormalized_resultedData['VIN'].str.len() == 17]  #cleanedNormalized_resultedData.filter(cleanedNormalized_resultedData['VIN'].str.len() == 17) only selects column VIN\n",
    "\n",
    "# 1 - Removing any possible leading or trailing whitespace from the column names may cause issues.\n",
    "cleanedNormalized_resultedData.columns = cleanedNormalized_resultedData.columns.str.strip()\n",
    "\n",
    "# 2 - removing bad rows with more cells (columns) in each row than expected.\n",
    "max_columns = cleanedNormalized_resultedData.shape[1]\n",
    "cleanedNormalized_resultedData = cleanedNormalized_resultedData[cleanedNormalized_resultedData.apply(lambda x: len(x) <= max_columns, axis=1)]\n",
    "\n",
    "# 3 - fill empty values with 0\n",
    "cleanedNormalized_resultedData = cleanedNormalized_resultedData.fillna(0)\n",
    "print(f\"Cleaned DataFrame shape: {cleanedNormalized_resultedData.shape}\")\n",
    "\n",
    "# Generage updated VINs_data file\n",
    "update_VINs_data_file_maker(cleanedNormalized_resultedData, VINs_data_file_path)\n",
    "# print(cleanedNormalized_resultedData.columns)\n",
    "\n",
    "# display(len(cleanedNormalized_resultedData['VIN'].unique()))\n",
    "\n",
    "\n",
    "display(cleanedNormalized_resultedData)"
   ]
  },
  {
   "cell_type": "code",
   "execution_count": 7,
   "id": "c5144051-952d-4dd6-951b-6d11b23ff358",
   "metadata": {},
   "outputs": [
    {
     "name": "stdout",
     "output_type": "stream",
     "text": [
      "0          6\n",
      "1          4\n",
      "2          0\n",
      "3          2\n",
      "4          8\n",
      "          ..\n",
      "1360889    1\n",
      "1360890    5\n",
      "1360891    9\n",
      "1360892    1\n",
      "1360893    7\n",
      "Name: calendar_day, Length: 1360701, dtype: object\n"
     ]
    }
   ],
   "source": [
    "print(cleanedNormalized_resultedData.iloc[:, 592])  # col[0] is VIN, col[1] to col[591] KOLA features. col[592] is calendar_day. col[593] to col[722] are calculated features. "
   ]
  },
  {
   "cell_type": "markdown",
   "id": "b5ddf0df-504f-4205-8469-91870974b467",
   "metadata": {},
   "source": [
    "# Example1: None Sparse Data Normalization Example"
   ]
  },
  {
   "cell_type": "code",
   "execution_count": 8,
   "id": "b9a68722-bddf-4c4e-85a1-09e974ab136f",
   "metadata": {},
   "outputs": [],
   "source": [
    "# column_names = [f'Column_{i}' for i in range(num_columns)]  # Generate column names\n",
    "# df = pd.DataFrame(data, columns=column_names)\n",
    "# print(\"original DataFrame with Random Numeric Values:\")\n",
    "# print(df)\n",
    "# df = normalize_numeric_feature_values(\"Column\", df)\n",
    "# # Display the DataFrame\n",
    "# print(\"Generated DataFrame with Random Numeric Values:\")\n",
    "# print(df)"
   ]
  },
  {
   "cell_type": "markdown",
   "id": "e3fa3348-5d6f-4ad0-a012-656f5cd90849",
   "metadata": {},
   "source": [
    "# Example2:Sparse Data Normalization Example"
   ]
  },
  {
   "cell_type": "code",
   "execution_count": 9,
   "id": "b30d6e21-72ac-4491-a035-e98accc9e540",
   "metadata": {},
   "outputs": [],
   "source": [
    "# # Example usage\n",
    "# # Generating a sparse DataFrame with random float values and many zeros\n",
    "# num_rows = 10\n",
    "# num_columns = 5\n",
    "# data = np.random.uniform(0, 1, size=(num_rows, num_columns))\n",
    "# data[data < 0.7] = 0  # Introduce sparsity by setting 70% of the data to zero\n",
    "# df = pd.DataFrame(data, columns=[f'Column_{i}' for i in range(num_columns)])\n",
    "\n",
    "# print(\"Original DataFrame:\")\n",
    "# print(df)\n",
    "\n",
    "# # Normalize the DataFrame\n",
    "# normalized_df = normalize_sparse_dataframe(df)\n",
    "\n",
    "# print(\"\\nNormalized DataFrame:\")\n",
    "# print(normalized_df)"
   ]
  },
  {
   "cell_type": "markdown",
   "id": "3aad44e3-2de7-48c7-8aa5-a254322dee96",
   "metadata": {},
   "source": [
    "# Normalizing the Generated Data"
   ]
  },
  {
   "cell_type": "code",
   "execution_count": 10,
   "id": "d9b6e989-a066-43ce-a00d-feb20c300e4a",
   "metadata": {},
   "outputs": [
    {
     "name": "stdout",
     "output_type": "stream",
     "text": [
      "1M1AN07Y0JM027470 0\n"
     ]
    },
    {
     "name": "stderr",
     "output_type": "stream",
     "text": [
      "/tmp/ipykernel_1168028/1295774049.py:73: FutureWarning: Downcasting behavior in `replace` is deprecated and will be removed in a future version. To retain the old behavior, explicitly call `result.infer_objects(copy=False)`. To opt-in to the future behavior, set `pd.set_option('future.no_silent_downcasting', True)`\n",
      "  std_replaced = std.replace(0, 1)\n",
      "/tmp/ipykernel_1168028/1295774049.py:77: SettingWithCopyWarning: \n",
      "A value is trying to be set on a copy of a slice from a DataFrame.\n",
      "Try using .loc[row_indexer,col_indexer] = value instead\n",
      "\n",
      "See the caveats in the documentation: https://pandas.pydata.org/pandas-docs/stable/user_guide/indexing.html#returning-a-view-versus-a-copy\n",
      "  original_df[columns_to_normalize] = normalized_df\n"
     ]
    },
    {
     "name": "stdout",
     "output_type": "stream",
     "text": [
      "1M1AN07Y1JM028191 1\n"
     ]
    },
    {
     "name": "stderr",
     "output_type": "stream",
     "text": [
      "/tmp/ipykernel_1168028/1295774049.py:73: FutureWarning: Downcasting behavior in `replace` is deprecated and will be removed in a future version. To retain the old behavior, explicitly call `result.infer_objects(copy=False)`. To opt-in to the future behavior, set `pd.set_option('future.no_silent_downcasting', True)`\n",
      "  std_replaced = std.replace(0, 1)\n",
      "/tmp/ipykernel_1168028/1295774049.py:77: SettingWithCopyWarning: \n",
      "A value is trying to be set on a copy of a slice from a DataFrame.\n",
      "Try using .loc[row_indexer,col_indexer] = value instead\n",
      "\n",
      "See the caveats in the documentation: https://pandas.pydata.org/pandas-docs/stable/user_guide/indexing.html#returning-a-view-versus-a-copy\n",
      "  original_df[columns_to_normalize] = normalized_df\n"
     ]
    },
    {
     "name": "stdout",
     "output_type": "stream",
     "text": [
      "1M1AN07Y2HM023723 2\n"
     ]
    },
    {
     "name": "stderr",
     "output_type": "stream",
     "text": [
      "/tmp/ipykernel_1168028/1295774049.py:73: FutureWarning: Downcasting behavior in `replace` is deprecated and will be removed in a future version. To retain the old behavior, explicitly call `result.infer_objects(copy=False)`. To opt-in to the future behavior, set `pd.set_option('future.no_silent_downcasting', True)`\n",
      "  std_replaced = std.replace(0, 1)\n",
      "/tmp/ipykernel_1168028/1295774049.py:77: SettingWithCopyWarning: \n",
      "A value is trying to be set on a copy of a slice from a DataFrame.\n",
      "Try using .loc[row_indexer,col_indexer] = value instead\n",
      "\n",
      "See the caveats in the documentation: https://pandas.pydata.org/pandas-docs/stable/user_guide/indexing.html#returning-a-view-versus-a-copy\n",
      "  original_df[columns_to_normalize] = normalized_df\n"
     ]
    },
    {
     "name": "stdout",
     "output_type": "stream",
     "text": [
      "1M1AN07Y4JM028458 3\n"
     ]
    },
    {
     "name": "stderr",
     "output_type": "stream",
     "text": [
      "/tmp/ipykernel_1168028/1295774049.py:73: FutureWarning: Downcasting behavior in `replace` is deprecated and will be removed in a future version. To retain the old behavior, explicitly call `result.infer_objects(copy=False)`. To opt-in to the future behavior, set `pd.set_option('future.no_silent_downcasting', True)`\n",
      "  std_replaced = std.replace(0, 1)\n",
      "/tmp/ipykernel_1168028/1295774049.py:77: SettingWithCopyWarning: \n",
      "A value is trying to be set on a copy of a slice from a DataFrame.\n",
      "Try using .loc[row_indexer,col_indexer] = value instead\n",
      "\n",
      "See the caveats in the documentation: https://pandas.pydata.org/pandas-docs/stable/user_guide/indexing.html#returning-a-view-versus-a-copy\n",
      "  original_df[columns_to_normalize] = normalized_df\n"
     ]
    },
    {
     "name": "stdout",
     "output_type": "stream",
     "text": [
      "1M1AN07Y7GM023733 4\n"
     ]
    },
    {
     "name": "stderr",
     "output_type": "stream",
     "text": [
      "/tmp/ipykernel_1168028/1295774049.py:73: FutureWarning: Downcasting behavior in `replace` is deprecated and will be removed in a future version. To retain the old behavior, explicitly call `result.infer_objects(copy=False)`. To opt-in to the future behavior, set `pd.set_option('future.no_silent_downcasting', True)`\n",
      "  std_replaced = std.replace(0, 1)\n",
      "/tmp/ipykernel_1168028/1295774049.py:77: SettingWithCopyWarning: \n",
      "A value is trying to be set on a copy of a slice from a DataFrame.\n",
      "Try using .loc[row_indexer,col_indexer] = value instead\n",
      "\n",
      "See the caveats in the documentation: https://pandas.pydata.org/pandas-docs/stable/user_guide/indexing.html#returning-a-view-versus-a-copy\n",
      "  original_df[columns_to_normalize] = normalized_df\n"
     ]
    },
    {
     "name": "stdout",
     "output_type": "stream",
     "text": [
      "1M1AN07Y8JM028155 5\n"
     ]
    },
    {
     "name": "stderr",
     "output_type": "stream",
     "text": [
      "/tmp/ipykernel_1168028/1295774049.py:73: FutureWarning: Downcasting behavior in `replace` is deprecated and will be removed in a future version. To retain the old behavior, explicitly call `result.infer_objects(copy=False)`. To opt-in to the future behavior, set `pd.set_option('future.no_silent_downcasting', True)`\n",
      "  std_replaced = std.replace(0, 1)\n",
      "/tmp/ipykernel_1168028/1295774049.py:77: SettingWithCopyWarning: \n",
      "A value is trying to be set on a copy of a slice from a DataFrame.\n",
      "Try using .loc[row_indexer,col_indexer] = value instead\n",
      "\n",
      "See the caveats in the documentation: https://pandas.pydata.org/pandas-docs/stable/user_guide/indexing.html#returning-a-view-versus-a-copy\n",
      "  original_df[columns_to_normalize] = normalized_df\n"
     ]
    },
    {
     "name": "stdout",
     "output_type": "stream",
     "text": [
      "1M1AN09Y4JM026805 6\n"
     ]
    },
    {
     "name": "stderr",
     "output_type": "stream",
     "text": [
      "/tmp/ipykernel_1168028/1295774049.py:73: FutureWarning: Downcasting behavior in `replace` is deprecated and will be removed in a future version. To retain the old behavior, explicitly call `result.infer_objects(copy=False)`. To opt-in to the future behavior, set `pd.set_option('future.no_silent_downcasting', True)`\n",
      "  std_replaced = std.replace(0, 1)\n",
      "/tmp/ipykernel_1168028/1295774049.py:77: SettingWithCopyWarning: \n",
      "A value is trying to be set on a copy of a slice from a DataFrame.\n",
      "Try using .loc[row_indexer,col_indexer] = value instead\n",
      "\n",
      "See the caveats in the documentation: https://pandas.pydata.org/pandas-docs/stable/user_guide/indexing.html#returning-a-view-versus-a-copy\n",
      "  original_df[columns_to_normalize] = normalized_df\n"
     ]
    },
    {
     "name": "stdout",
     "output_type": "stream",
     "text": [
      "1M1AN09Y9FM019369 7\n"
     ]
    },
    {
     "name": "stderr",
     "output_type": "stream",
     "text": [
      "/tmp/ipykernel_1168028/1295774049.py:73: FutureWarning: Downcasting behavior in `replace` is deprecated and will be removed in a future version. To retain the old behavior, explicitly call `result.infer_objects(copy=False)`. To opt-in to the future behavior, set `pd.set_option('future.no_silent_downcasting', True)`\n",
      "  std_replaced = std.replace(0, 1)\n",
      "/tmp/ipykernel_1168028/1295774049.py:77: SettingWithCopyWarning: \n",
      "A value is trying to be set on a copy of a slice from a DataFrame.\n",
      "Try using .loc[row_indexer,col_indexer] = value instead\n",
      "\n",
      "See the caveats in the documentation: https://pandas.pydata.org/pandas-docs/stable/user_guide/indexing.html#returning-a-view-versus-a-copy\n",
      "  original_df[columns_to_normalize] = normalized_df\n"
     ]
    },
    {
     "name": "stdout",
     "output_type": "stream",
     "text": [
      "1M1AN09YXFM018585 8\n"
     ]
    },
    {
     "name": "stderr",
     "output_type": "stream",
     "text": [
      "/tmp/ipykernel_1168028/1295774049.py:73: FutureWarning: Downcasting behavior in `replace` is deprecated and will be removed in a future version. To retain the old behavior, explicitly call `result.infer_objects(copy=False)`. To opt-in to the future behavior, set `pd.set_option('future.no_silent_downcasting', True)`\n",
      "  std_replaced = std.replace(0, 1)\n",
      "/tmp/ipykernel_1168028/1295774049.py:77: SettingWithCopyWarning: \n",
      "A value is trying to be set on a copy of a slice from a DataFrame.\n",
      "Try using .loc[row_indexer,col_indexer] = value instead\n",
      "\n",
      "See the caveats in the documentation: https://pandas.pydata.org/pandas-docs/stable/user_guide/indexing.html#returning-a-view-versus-a-copy\n",
      "  original_df[columns_to_normalize] = normalized_df\n"
     ]
    },
    {
     "name": "stdout",
     "output_type": "stream",
     "text": [
      "1M1AN2AY8LM002016 9\n"
     ]
    },
    {
     "name": "stderr",
     "output_type": "stream",
     "text": [
      "/tmp/ipykernel_1168028/1295774049.py:73: FutureWarning: Downcasting behavior in `replace` is deprecated and will be removed in a future version. To retain the old behavior, explicitly call `result.infer_objects(copy=False)`. To opt-in to the future behavior, set `pd.set_option('future.no_silent_downcasting', True)`\n",
      "  std_replaced = std.replace(0, 1)\n",
      "/tmp/ipykernel_1168028/1295774049.py:77: SettingWithCopyWarning: \n",
      "A value is trying to be set on a copy of a slice from a DataFrame.\n",
      "Try using .loc[row_indexer,col_indexer] = value instead\n",
      "\n",
      "See the caveats in the documentation: https://pandas.pydata.org/pandas-docs/stable/user_guide/indexing.html#returning-a-view-versus-a-copy\n",
      "  original_df[columns_to_normalize] = normalized_df\n"
     ]
    },
    {
     "name": "stdout",
     "output_type": "stream",
     "text": [
      "1M1AN2GY6NM023859 10\n"
     ]
    },
    {
     "name": "stderr",
     "output_type": "stream",
     "text": [
      "/tmp/ipykernel_1168028/1295774049.py:73: FutureWarning: Downcasting behavior in `replace` is deprecated and will be removed in a future version. To retain the old behavior, explicitly call `result.infer_objects(copy=False)`. To opt-in to the future behavior, set `pd.set_option('future.no_silent_downcasting', True)`\n",
      "  std_replaced = std.replace(0, 1)\n",
      "/tmp/ipykernel_1168028/1295774049.py:77: SettingWithCopyWarning: \n",
      "A value is trying to be set on a copy of a slice from a DataFrame.\n",
      "Try using .loc[row_indexer,col_indexer] = value instead\n",
      "\n",
      "See the caveats in the documentation: https://pandas.pydata.org/pandas-docs/stable/user_guide/indexing.html#returning-a-view-versus-a-copy\n",
      "  original_df[columns_to_normalize] = normalized_df\n"
     ]
    },
    {
     "name": "stdout",
     "output_type": "stream",
     "text": [
      "1M1AN2GY9MM022512 11\n"
     ]
    },
    {
     "name": "stderr",
     "output_type": "stream",
     "text": [
      "/tmp/ipykernel_1168028/1295774049.py:73: FutureWarning: Downcasting behavior in `replace` is deprecated and will be removed in a future version. To retain the old behavior, explicitly call `result.infer_objects(copy=False)`. To opt-in to the future behavior, set `pd.set_option('future.no_silent_downcasting', True)`\n",
      "  std_replaced = std.replace(0, 1)\n",
      "/tmp/ipykernel_1168028/1295774049.py:77: SettingWithCopyWarning: \n",
      "A value is trying to be set on a copy of a slice from a DataFrame.\n",
      "Try using .loc[row_indexer,col_indexer] = value instead\n",
      "\n",
      "See the caveats in the documentation: https://pandas.pydata.org/pandas-docs/stable/user_guide/indexing.html#returning-a-view-versus-a-copy\n",
      "  original_df[columns_to_normalize] = normalized_df\n"
     ]
    },
    {
     "name": "stdout",
     "output_type": "stream",
     "text": [
      "1M1AN3GY1KM003763 12\n"
     ]
    },
    {
     "name": "stderr",
     "output_type": "stream",
     "text": [
      "/tmp/ipykernel_1168028/1295774049.py:73: FutureWarning: Downcasting behavior in `replace` is deprecated and will be removed in a future version. To retain the old behavior, explicitly call `result.infer_objects(copy=False)`. To opt-in to the future behavior, set `pd.set_option('future.no_silent_downcasting', True)`\n",
      "  std_replaced = std.replace(0, 1)\n",
      "/tmp/ipykernel_1168028/1295774049.py:77: SettingWithCopyWarning: \n",
      "A value is trying to be set on a copy of a slice from a DataFrame.\n",
      "Try using .loc[row_indexer,col_indexer] = value instead\n",
      "\n",
      "See the caveats in the documentation: https://pandas.pydata.org/pandas-docs/stable/user_guide/indexing.html#returning-a-view-versus-a-copy\n",
      "  original_df[columns_to_normalize] = normalized_df\n"
     ]
    },
    {
     "name": "stdout",
     "output_type": "stream",
     "text": [
      "1M1AN3GY1NM023984 13\n"
     ]
    },
    {
     "name": "stderr",
     "output_type": "stream",
     "text": [
      "/tmp/ipykernel_1168028/1295774049.py:73: FutureWarning: Downcasting behavior in `replace` is deprecated and will be removed in a future version. To retain the old behavior, explicitly call `result.infer_objects(copy=False)`. To opt-in to the future behavior, set `pd.set_option('future.no_silent_downcasting', True)`\n",
      "  std_replaced = std.replace(0, 1)\n",
      "/tmp/ipykernel_1168028/1295774049.py:77: SettingWithCopyWarning: \n",
      "A value is trying to be set on a copy of a slice from a DataFrame.\n",
      "Try using .loc[row_indexer,col_indexer] = value instead\n",
      "\n",
      "See the caveats in the documentation: https://pandas.pydata.org/pandas-docs/stable/user_guide/indexing.html#returning-a-view-versus-a-copy\n",
      "  original_df[columns_to_normalize] = normalized_df\n"
     ]
    },
    {
     "name": "stdout",
     "output_type": "stream",
     "text": [
      "1M1AN3GY5LM015030 14\n"
     ]
    },
    {
     "name": "stderr",
     "output_type": "stream",
     "text": [
      "/tmp/ipykernel_1168028/1295774049.py:73: FutureWarning: Downcasting behavior in `replace` is deprecated and will be removed in a future version. To retain the old behavior, explicitly call `result.infer_objects(copy=False)`. To opt-in to the future behavior, set `pd.set_option('future.no_silent_downcasting', True)`\n",
      "  std_replaced = std.replace(0, 1)\n",
      "/tmp/ipykernel_1168028/1295774049.py:77: SettingWithCopyWarning: \n",
      "A value is trying to be set on a copy of a slice from a DataFrame.\n",
      "Try using .loc[row_indexer,col_indexer] = value instead\n",
      "\n",
      "See the caveats in the documentation: https://pandas.pydata.org/pandas-docs/stable/user_guide/indexing.html#returning-a-view-versus-a-copy\n",
      "  original_df[columns_to_normalize] = normalized_df\n"
     ]
    },
    {
     "name": "stdout",
     "output_type": "stream",
     "text": [
      "1M1AN3GY5LM015917 15\n"
     ]
    },
    {
     "name": "stderr",
     "output_type": "stream",
     "text": [
      "/tmp/ipykernel_1168028/1295774049.py:73: FutureWarning: Downcasting behavior in `replace` is deprecated and will be removed in a future version. To retain the old behavior, explicitly call `result.infer_objects(copy=False)`. To opt-in to the future behavior, set `pd.set_option('future.no_silent_downcasting', True)`\n",
      "  std_replaced = std.replace(0, 1)\n",
      "/tmp/ipykernel_1168028/1295774049.py:77: SettingWithCopyWarning: \n",
      "A value is trying to be set on a copy of a slice from a DataFrame.\n",
      "Try using .loc[row_indexer,col_indexer] = value instead\n",
      "\n",
      "See the caveats in the documentation: https://pandas.pydata.org/pandas-docs/stable/user_guide/indexing.html#returning-a-view-versus-a-copy\n",
      "  original_df[columns_to_normalize] = normalized_df\n"
     ]
    },
    {
     "name": "stdout",
     "output_type": "stream",
     "text": [
      "1M1AN3GY5LM018302 16\n"
     ]
    },
    {
     "name": "stderr",
     "output_type": "stream",
     "text": [
      "/tmp/ipykernel_1168028/1295774049.py:73: FutureWarning: Downcasting behavior in `replace` is deprecated and will be removed in a future version. To retain the old behavior, explicitly call `result.infer_objects(copy=False)`. To opt-in to the future behavior, set `pd.set_option('future.no_silent_downcasting', True)`\n",
      "  std_replaced = std.replace(0, 1)\n",
      "/tmp/ipykernel_1168028/1295774049.py:77: SettingWithCopyWarning: \n",
      "A value is trying to be set on a copy of a slice from a DataFrame.\n",
      "Try using .loc[row_indexer,col_indexer] = value instead\n",
      "\n",
      "See the caveats in the documentation: https://pandas.pydata.org/pandas-docs/stable/user_guide/indexing.html#returning-a-view-versus-a-copy\n",
      "  original_df[columns_to_normalize] = normalized_df\n"
     ]
    },
    {
     "name": "stdout",
     "output_type": "stream",
     "text": [
      "1M1AN3GY8LM016625 17\n"
     ]
    },
    {
     "name": "stderr",
     "output_type": "stream",
     "text": [
      "/tmp/ipykernel_1168028/1295774049.py:73: FutureWarning: Downcasting behavior in `replace` is deprecated and will be removed in a future version. To retain the old behavior, explicitly call `result.infer_objects(copy=False)`. To opt-in to the future behavior, set `pd.set_option('future.no_silent_downcasting', True)`\n",
      "  std_replaced = std.replace(0, 1)\n",
      "/tmp/ipykernel_1168028/1295774049.py:77: SettingWithCopyWarning: \n",
      "A value is trying to be set on a copy of a slice from a DataFrame.\n",
      "Try using .loc[row_indexer,col_indexer] = value instead\n",
      "\n",
      "See the caveats in the documentation: https://pandas.pydata.org/pandas-docs/stable/user_guide/indexing.html#returning-a-view-versus-a-copy\n",
      "  original_df[columns_to_normalize] = normalized_df\n"
     ]
    },
    {
     "name": "stdout",
     "output_type": "stream",
     "text": [
      "1M1AN3GY8MM022748 18\n"
     ]
    },
    {
     "name": "stderr",
     "output_type": "stream",
     "text": [
      "/tmp/ipykernel_1168028/1295774049.py:73: FutureWarning: Downcasting behavior in `replace` is deprecated and will be removed in a future version. To retain the old behavior, explicitly call `result.infer_objects(copy=False)`. To opt-in to the future behavior, set `pd.set_option('future.no_silent_downcasting', True)`\n",
      "  std_replaced = std.replace(0, 1)\n",
      "/tmp/ipykernel_1168028/1295774049.py:77: SettingWithCopyWarning: \n",
      "A value is trying to be set on a copy of a slice from a DataFrame.\n",
      "Try using .loc[row_indexer,col_indexer] = value instead\n",
      "\n",
      "See the caveats in the documentation: https://pandas.pydata.org/pandas-docs/stable/user_guide/indexing.html#returning-a-view-versus-a-copy\n",
      "  original_df[columns_to_normalize] = normalized_df\n"
     ]
    },
    {
     "name": "stdout",
     "output_type": "stream",
     "text": [
      "1M1AN4AY4KM001343 19\n"
     ]
    },
    {
     "name": "stderr",
     "output_type": "stream",
     "text": [
      "/tmp/ipykernel_1168028/1295774049.py:73: FutureWarning: Downcasting behavior in `replace` is deprecated and will be removed in a future version. To retain the old behavior, explicitly call `result.infer_objects(copy=False)`. To opt-in to the future behavior, set `pd.set_option('future.no_silent_downcasting', True)`\n",
      "  std_replaced = std.replace(0, 1)\n",
      "/tmp/ipykernel_1168028/1295774049.py:77: SettingWithCopyWarning: \n",
      "A value is trying to be set on a copy of a slice from a DataFrame.\n",
      "Try using .loc[row_indexer,col_indexer] = value instead\n",
      "\n",
      "See the caveats in the documentation: https://pandas.pydata.org/pandas-docs/stable/user_guide/indexing.html#returning-a-view-versus-a-copy\n",
      "  original_df[columns_to_normalize] = normalized_df\n"
     ]
    },
    {
     "name": "stdout",
     "output_type": "stream",
     "text": [
      "1M1AN4GY0LM012221 20\n"
     ]
    },
    {
     "name": "stderr",
     "output_type": "stream",
     "text": [
      "/tmp/ipykernel_1168028/1295774049.py:73: FutureWarning: Downcasting behavior in `replace` is deprecated and will be removed in a future version. To retain the old behavior, explicitly call `result.infer_objects(copy=False)`. To opt-in to the future behavior, set `pd.set_option('future.no_silent_downcasting', True)`\n",
      "  std_replaced = std.replace(0, 1)\n",
      "/tmp/ipykernel_1168028/1295774049.py:77: SettingWithCopyWarning: \n",
      "A value is trying to be set on a copy of a slice from a DataFrame.\n",
      "Try using .loc[row_indexer,col_indexer] = value instead\n",
      "\n",
      "See the caveats in the documentation: https://pandas.pydata.org/pandas-docs/stable/user_guide/indexing.html#returning-a-view-versus-a-copy\n",
      "  original_df[columns_to_normalize] = normalized_df\n"
     ]
    },
    {
     "name": "stdout",
     "output_type": "stream",
     "text": [
      "1M1AN4GY0LM014082 21\n"
     ]
    },
    {
     "name": "stderr",
     "output_type": "stream",
     "text": [
      "/tmp/ipykernel_1168028/1295774049.py:73: FutureWarning: Downcasting behavior in `replace` is deprecated and will be removed in a future version. To retain the old behavior, explicitly call `result.infer_objects(copy=False)`. To opt-in to the future behavior, set `pd.set_option('future.no_silent_downcasting', True)`\n",
      "  std_replaced = std.replace(0, 1)\n",
      "/tmp/ipykernel_1168028/1295774049.py:77: SettingWithCopyWarning: \n",
      "A value is trying to be set on a copy of a slice from a DataFrame.\n",
      "Try using .loc[row_indexer,col_indexer] = value instead\n",
      "\n",
      "See the caveats in the documentation: https://pandas.pydata.org/pandas-docs/stable/user_guide/indexing.html#returning-a-view-versus-a-copy\n",
      "  original_df[columns_to_normalize] = normalized_df\n"
     ]
    },
    {
     "name": "stdout",
     "output_type": "stream",
     "text": [
      "1M1AN4GY0LM019590 22\n"
     ]
    },
    {
     "name": "stderr",
     "output_type": "stream",
     "text": [
      "/tmp/ipykernel_1168028/1295774049.py:73: FutureWarning: Downcasting behavior in `replace` is deprecated and will be removed in a future version. To retain the old behavior, explicitly call `result.infer_objects(copy=False)`. To opt-in to the future behavior, set `pd.set_option('future.no_silent_downcasting', True)`\n",
      "  std_replaced = std.replace(0, 1)\n",
      "/tmp/ipykernel_1168028/1295774049.py:77: SettingWithCopyWarning: \n",
      "A value is trying to be set on a copy of a slice from a DataFrame.\n",
      "Try using .loc[row_indexer,col_indexer] = value instead\n",
      "\n",
      "See the caveats in the documentation: https://pandas.pydata.org/pandas-docs/stable/user_guide/indexing.html#returning-a-view-versus-a-copy\n",
      "  original_df[columns_to_normalize] = normalized_df\n"
     ]
    },
    {
     "name": "stdout",
     "output_type": "stream",
     "text": [
      "1M1AN4GY0MM021454 23\n"
     ]
    },
    {
     "name": "stderr",
     "output_type": "stream",
     "text": [
      "/tmp/ipykernel_1168028/1295774049.py:73: FutureWarning: Downcasting behavior in `replace` is deprecated and will be removed in a future version. To retain the old behavior, explicitly call `result.infer_objects(copy=False)`. To opt-in to the future behavior, set `pd.set_option('future.no_silent_downcasting', True)`\n",
      "  std_replaced = std.replace(0, 1)\n",
      "/tmp/ipykernel_1168028/1295774049.py:77: SettingWithCopyWarning: \n",
      "A value is trying to be set on a copy of a slice from a DataFrame.\n",
      "Try using .loc[row_indexer,col_indexer] = value instead\n",
      "\n",
      "See the caveats in the documentation: https://pandas.pydata.org/pandas-docs/stable/user_guide/indexing.html#returning-a-view-versus-a-copy\n",
      "  original_df[columns_to_normalize] = normalized_df\n"
     ]
    },
    {
     "name": "stdout",
     "output_type": "stream",
     "text": [
      "1M1AN4GY1KM010072 24\n"
     ]
    },
    {
     "name": "stderr",
     "output_type": "stream",
     "text": [
      "/tmp/ipykernel_1168028/1295774049.py:73: FutureWarning: Downcasting behavior in `replace` is deprecated and will be removed in a future version. To retain the old behavior, explicitly call `result.infer_objects(copy=False)`. To opt-in to the future behavior, set `pd.set_option('future.no_silent_downcasting', True)`\n",
      "  std_replaced = std.replace(0, 1)\n",
      "/tmp/ipykernel_1168028/1295774049.py:77: SettingWithCopyWarning: \n",
      "A value is trying to be set on a copy of a slice from a DataFrame.\n",
      "Try using .loc[row_indexer,col_indexer] = value instead\n",
      "\n",
      "See the caveats in the documentation: https://pandas.pydata.org/pandas-docs/stable/user_guide/indexing.html#returning-a-view-versus-a-copy\n",
      "  original_df[columns_to_normalize] = normalized_df\n"
     ]
    },
    {
     "name": "stdout",
     "output_type": "stream",
     "text": [
      "1M1AN4GY1LM009974 25\n"
     ]
    },
    {
     "name": "stderr",
     "output_type": "stream",
     "text": [
      "/tmp/ipykernel_1168028/1295774049.py:73: FutureWarning: Downcasting behavior in `replace` is deprecated and will be removed in a future version. To retain the old behavior, explicitly call `result.infer_objects(copy=False)`. To opt-in to the future behavior, set `pd.set_option('future.no_silent_downcasting', True)`\n",
      "  std_replaced = std.replace(0, 1)\n",
      "/tmp/ipykernel_1168028/1295774049.py:77: SettingWithCopyWarning: \n",
      "A value is trying to be set on a copy of a slice from a DataFrame.\n",
      "Try using .loc[row_indexer,col_indexer] = value instead\n",
      "\n",
      "See the caveats in the documentation: https://pandas.pydata.org/pandas-docs/stable/user_guide/indexing.html#returning-a-view-versus-a-copy\n",
      "  original_df[columns_to_normalize] = normalized_df\n"
     ]
    },
    {
     "name": "stdout",
     "output_type": "stream",
     "text": [
      "1M1AN4GY1LM018447 26\n"
     ]
    },
    {
     "name": "stderr",
     "output_type": "stream",
     "text": [
      "/tmp/ipykernel_1168028/1295774049.py:73: FutureWarning: Downcasting behavior in `replace` is deprecated and will be removed in a future version. To retain the old behavior, explicitly call `result.infer_objects(copy=False)`. To opt-in to the future behavior, set `pd.set_option('future.no_silent_downcasting', True)`\n",
      "  std_replaced = std.replace(0, 1)\n",
      "/tmp/ipykernel_1168028/1295774049.py:77: SettingWithCopyWarning: \n",
      "A value is trying to be set on a copy of a slice from a DataFrame.\n",
      "Try using .loc[row_indexer,col_indexer] = value instead\n",
      "\n",
      "See the caveats in the documentation: https://pandas.pydata.org/pandas-docs/stable/user_guide/indexing.html#returning-a-view-versus-a-copy\n",
      "  original_df[columns_to_normalize] = normalized_df\n"
     ]
    },
    {
     "name": "stdout",
     "output_type": "stream",
     "text": [
      "1M1AN4GY2KM001364 27\n"
     ]
    },
    {
     "name": "stderr",
     "output_type": "stream",
     "text": [
      "/tmp/ipykernel_1168028/1295774049.py:73: FutureWarning: Downcasting behavior in `replace` is deprecated and will be removed in a future version. To retain the old behavior, explicitly call `result.infer_objects(copy=False)`. To opt-in to the future behavior, set `pd.set_option('future.no_silent_downcasting', True)`\n",
      "  std_replaced = std.replace(0, 1)\n",
      "/tmp/ipykernel_1168028/1295774049.py:77: SettingWithCopyWarning: \n",
      "A value is trying to be set on a copy of a slice from a DataFrame.\n",
      "Try using .loc[row_indexer,col_indexer] = value instead\n",
      "\n",
      "See the caveats in the documentation: https://pandas.pydata.org/pandas-docs/stable/user_guide/indexing.html#returning-a-view-versus-a-copy\n",
      "  original_df[columns_to_normalize] = normalized_df\n"
     ]
    },
    {
     "name": "stdout",
     "output_type": "stream",
     "text": [
      "1M1AN4GY2KM003907 28\n"
     ]
    },
    {
     "name": "stderr",
     "output_type": "stream",
     "text": [
      "/tmp/ipykernel_1168028/1295774049.py:73: FutureWarning: Downcasting behavior in `replace` is deprecated and will be removed in a future version. To retain the old behavior, explicitly call `result.infer_objects(copy=False)`. To opt-in to the future behavior, set `pd.set_option('future.no_silent_downcasting', True)`\n",
      "  std_replaced = std.replace(0, 1)\n",
      "/tmp/ipykernel_1168028/1295774049.py:77: SettingWithCopyWarning: \n",
      "A value is trying to be set on a copy of a slice from a DataFrame.\n",
      "Try using .loc[row_indexer,col_indexer] = value instead\n",
      "\n",
      "See the caveats in the documentation: https://pandas.pydata.org/pandas-docs/stable/user_guide/indexing.html#returning-a-view-versus-a-copy\n",
      "  original_df[columns_to_normalize] = normalized_df\n"
     ]
    },
    {
     "name": "stdout",
     "output_type": "stream",
     "text": [
      "1M1AN4GY3LM018952 29\n"
     ]
    },
    {
     "name": "stderr",
     "output_type": "stream",
     "text": [
      "/tmp/ipykernel_1168028/1295774049.py:73: FutureWarning: Downcasting behavior in `replace` is deprecated and will be removed in a future version. To retain the old behavior, explicitly call `result.infer_objects(copy=False)`. To opt-in to the future behavior, set `pd.set_option('future.no_silent_downcasting', True)`\n",
      "  std_replaced = std.replace(0, 1)\n",
      "/tmp/ipykernel_1168028/1295774049.py:77: SettingWithCopyWarning: \n",
      "A value is trying to be set on a copy of a slice from a DataFrame.\n",
      "Try using .loc[row_indexer,col_indexer] = value instead\n",
      "\n",
      "See the caveats in the documentation: https://pandas.pydata.org/pandas-docs/stable/user_guide/indexing.html#returning-a-view-versus-a-copy\n",
      "  original_df[columns_to_normalize] = normalized_df\n"
     ]
    },
    {
     "name": "stdout",
     "output_type": "stream",
     "text": [
      "1M1AN4GY4KM003164 30\n"
     ]
    },
    {
     "name": "stderr",
     "output_type": "stream",
     "text": [
      "/tmp/ipykernel_1168028/1295774049.py:73: FutureWarning: Downcasting behavior in `replace` is deprecated and will be removed in a future version. To retain the old behavior, explicitly call `result.infer_objects(copy=False)`. To opt-in to the future behavior, set `pd.set_option('future.no_silent_downcasting', True)`\n",
      "  std_replaced = std.replace(0, 1)\n",
      "/tmp/ipykernel_1168028/1295774049.py:77: SettingWithCopyWarning: \n",
      "A value is trying to be set on a copy of a slice from a DataFrame.\n",
      "Try using .loc[row_indexer,col_indexer] = value instead\n",
      "\n",
      "See the caveats in the documentation: https://pandas.pydata.org/pandas-docs/stable/user_guide/indexing.html#returning-a-view-versus-a-copy\n",
      "  original_df[columns_to_normalize] = normalized_df\n"
     ]
    },
    {
     "name": "stdout",
     "output_type": "stream",
     "text": [
      "1M1AN4GY4MM020243 31\n"
     ]
    },
    {
     "name": "stderr",
     "output_type": "stream",
     "text": [
      "/tmp/ipykernel_1168028/1295774049.py:73: FutureWarning: Downcasting behavior in `replace` is deprecated and will be removed in a future version. To retain the old behavior, explicitly call `result.infer_objects(copy=False)`. To opt-in to the future behavior, set `pd.set_option('future.no_silent_downcasting', True)`\n",
      "  std_replaced = std.replace(0, 1)\n",
      "/tmp/ipykernel_1168028/1295774049.py:77: SettingWithCopyWarning: \n",
      "A value is trying to be set on a copy of a slice from a DataFrame.\n",
      "Try using .loc[row_indexer,col_indexer] = value instead\n",
      "\n",
      "See the caveats in the documentation: https://pandas.pydata.org/pandas-docs/stable/user_guide/indexing.html#returning-a-view-versus-a-copy\n",
      "  original_df[columns_to_normalize] = normalized_df\n"
     ]
    },
    {
     "name": "stdout",
     "output_type": "stream",
     "text": [
      "1M1AN4GY5LM015177 32\n"
     ]
    },
    {
     "name": "stderr",
     "output_type": "stream",
     "text": [
      "/tmp/ipykernel_1168028/1295774049.py:73: FutureWarning: Downcasting behavior in `replace` is deprecated and will be removed in a future version. To retain the old behavior, explicitly call `result.infer_objects(copy=False)`. To opt-in to the future behavior, set `pd.set_option('future.no_silent_downcasting', True)`\n",
      "  std_replaced = std.replace(0, 1)\n",
      "/tmp/ipykernel_1168028/1295774049.py:77: SettingWithCopyWarning: \n",
      "A value is trying to be set on a copy of a slice from a DataFrame.\n",
      "Try using .loc[row_indexer,col_indexer] = value instead\n",
      "\n",
      "See the caveats in the documentation: https://pandas.pydata.org/pandas-docs/stable/user_guide/indexing.html#returning-a-view-versus-a-copy\n",
      "  original_df[columns_to_normalize] = normalized_df\n"
     ]
    },
    {
     "name": "stdout",
     "output_type": "stream",
     "text": [
      "1M1AN4GY5MM021756 33\n"
     ]
    },
    {
     "name": "stderr",
     "output_type": "stream",
     "text": [
      "/tmp/ipykernel_1168028/1295774049.py:73: FutureWarning: Downcasting behavior in `replace` is deprecated and will be removed in a future version. To retain the old behavior, explicitly call `result.infer_objects(copy=False)`. To opt-in to the future behavior, set `pd.set_option('future.no_silent_downcasting', True)`\n",
      "  std_replaced = std.replace(0, 1)\n",
      "/tmp/ipykernel_1168028/1295774049.py:77: SettingWithCopyWarning: \n",
      "A value is trying to be set on a copy of a slice from a DataFrame.\n",
      "Try using .loc[row_indexer,col_indexer] = value instead\n",
      "\n",
      "See the caveats in the documentation: https://pandas.pydata.org/pandas-docs/stable/user_guide/indexing.html#returning-a-view-versus-a-copy\n",
      "  original_df[columns_to_normalize] = normalized_df\n"
     ]
    },
    {
     "name": "stdout",
     "output_type": "stream",
     "text": [
      "1M1AN4GY6LM018279 34\n"
     ]
    },
    {
     "name": "stderr",
     "output_type": "stream",
     "text": [
      "/tmp/ipykernel_1168028/1295774049.py:73: FutureWarning: Downcasting behavior in `replace` is deprecated and will be removed in a future version. To retain the old behavior, explicitly call `result.infer_objects(copy=False)`. To opt-in to the future behavior, set `pd.set_option('future.no_silent_downcasting', True)`\n",
      "  std_replaced = std.replace(0, 1)\n",
      "/tmp/ipykernel_1168028/1295774049.py:77: SettingWithCopyWarning: \n",
      "A value is trying to be set on a copy of a slice from a DataFrame.\n",
      "Try using .loc[row_indexer,col_indexer] = value instead\n",
      "\n",
      "See the caveats in the documentation: https://pandas.pydata.org/pandas-docs/stable/user_guide/indexing.html#returning-a-view-versus-a-copy\n",
      "  original_df[columns_to_normalize] = normalized_df\n"
     ]
    },
    {
     "name": "stdout",
     "output_type": "stream",
     "text": [
      "1M1AN4GY6MM020969 35\n"
     ]
    },
    {
     "name": "stderr",
     "output_type": "stream",
     "text": [
      "/tmp/ipykernel_1168028/1295774049.py:73: FutureWarning: Downcasting behavior in `replace` is deprecated and will be removed in a future version. To retain the old behavior, explicitly call `result.infer_objects(copy=False)`. To opt-in to the future behavior, set `pd.set_option('future.no_silent_downcasting', True)`\n",
      "  std_replaced = std.replace(0, 1)\n",
      "/tmp/ipykernel_1168028/1295774049.py:77: SettingWithCopyWarning: \n",
      "A value is trying to be set on a copy of a slice from a DataFrame.\n",
      "Try using .loc[row_indexer,col_indexer] = value instead\n",
      "\n",
      "See the caveats in the documentation: https://pandas.pydata.org/pandas-docs/stable/user_guide/indexing.html#returning-a-view-versus-a-copy\n",
      "  original_df[columns_to_normalize] = normalized_df\n"
     ]
    },
    {
     "name": "stdout",
     "output_type": "stream",
     "text": [
      "1M1AN4GY7KM008360 36\n"
     ]
    },
    {
     "name": "stderr",
     "output_type": "stream",
     "text": [
      "/tmp/ipykernel_1168028/1295774049.py:73: FutureWarning: Downcasting behavior in `replace` is deprecated and will be removed in a future version. To retain the old behavior, explicitly call `result.infer_objects(copy=False)`. To opt-in to the future behavior, set `pd.set_option('future.no_silent_downcasting', True)`\n",
      "  std_replaced = std.replace(0, 1)\n",
      "/tmp/ipykernel_1168028/1295774049.py:77: SettingWithCopyWarning: \n",
      "A value is trying to be set on a copy of a slice from a DataFrame.\n",
      "Try using .loc[row_indexer,col_indexer] = value instead\n",
      "\n",
      "See the caveats in the documentation: https://pandas.pydata.org/pandas-docs/stable/user_guide/indexing.html#returning-a-view-versus-a-copy\n",
      "  original_df[columns_to_normalize] = normalized_df\n"
     ]
    },
    {
     "name": "stdout",
     "output_type": "stream",
     "text": [
      "1M1AN4GY7KM008603 37\n"
     ]
    },
    {
     "name": "stderr",
     "output_type": "stream",
     "text": [
      "/tmp/ipykernel_1168028/1295774049.py:73: FutureWarning: Downcasting behavior in `replace` is deprecated and will be removed in a future version. To retain the old behavior, explicitly call `result.infer_objects(copy=False)`. To opt-in to the future behavior, set `pd.set_option('future.no_silent_downcasting', True)`\n",
      "  std_replaced = std.replace(0, 1)\n",
      "/tmp/ipykernel_1168028/1295774049.py:77: SettingWithCopyWarning: \n",
      "A value is trying to be set on a copy of a slice from a DataFrame.\n",
      "Try using .loc[row_indexer,col_indexer] = value instead\n",
      "\n",
      "See the caveats in the documentation: https://pandas.pydata.org/pandas-docs/stable/user_guide/indexing.html#returning-a-view-versus-a-copy\n",
      "  original_df[columns_to_normalize] = normalized_df\n"
     ]
    },
    {
     "name": "stdout",
     "output_type": "stream",
     "text": [
      "1M1AN4GY7MM022844 38\n"
     ]
    },
    {
     "name": "stderr",
     "output_type": "stream",
     "text": [
      "/tmp/ipykernel_1168028/1295774049.py:73: FutureWarning: Downcasting behavior in `replace` is deprecated and will be removed in a future version. To retain the old behavior, explicitly call `result.infer_objects(copy=False)`. To opt-in to the future behavior, set `pd.set_option('future.no_silent_downcasting', True)`\n",
      "  std_replaced = std.replace(0, 1)\n",
      "/tmp/ipykernel_1168028/1295774049.py:77: SettingWithCopyWarning: \n",
      "A value is trying to be set on a copy of a slice from a DataFrame.\n",
      "Try using .loc[row_indexer,col_indexer] = value instead\n",
      "\n",
      "See the caveats in the documentation: https://pandas.pydata.org/pandas-docs/stable/user_guide/indexing.html#returning-a-view-versus-a-copy\n",
      "  original_df[columns_to_normalize] = normalized_df\n"
     ]
    },
    {
     "name": "stdout",
     "output_type": "stream",
     "text": [
      "1M1AN4GY8LM014654 39\n"
     ]
    },
    {
     "name": "stderr",
     "output_type": "stream",
     "text": [
      "/tmp/ipykernel_1168028/1295774049.py:73: FutureWarning: Downcasting behavior in `replace` is deprecated and will be removed in a future version. To retain the old behavior, explicitly call `result.infer_objects(copy=False)`. To opt-in to the future behavior, set `pd.set_option('future.no_silent_downcasting', True)`\n",
      "  std_replaced = std.replace(0, 1)\n",
      "/tmp/ipykernel_1168028/1295774049.py:77: SettingWithCopyWarning: \n",
      "A value is trying to be set on a copy of a slice from a DataFrame.\n",
      "Try using .loc[row_indexer,col_indexer] = value instead\n",
      "\n",
      "See the caveats in the documentation: https://pandas.pydata.org/pandas-docs/stable/user_guide/indexing.html#returning-a-view-versus-a-copy\n",
      "  original_df[columns_to_normalize] = normalized_df\n"
     ]
    },
    {
     "name": "stdout",
     "output_type": "stream",
     "text": [
      "1M1AN4GY9LM016848 40\n"
     ]
    },
    {
     "name": "stderr",
     "output_type": "stream",
     "text": [
      "/tmp/ipykernel_1168028/1295774049.py:73: FutureWarning: Downcasting behavior in `replace` is deprecated and will be removed in a future version. To retain the old behavior, explicitly call `result.infer_objects(copy=False)`. To opt-in to the future behavior, set `pd.set_option('future.no_silent_downcasting', True)`\n",
      "  std_replaced = std.replace(0, 1)\n",
      "/tmp/ipykernel_1168028/1295774049.py:77: SettingWithCopyWarning: \n",
      "A value is trying to be set on a copy of a slice from a DataFrame.\n",
      "Try using .loc[row_indexer,col_indexer] = value instead\n",
      "\n",
      "See the caveats in the documentation: https://pandas.pydata.org/pandas-docs/stable/user_guide/indexing.html#returning-a-view-versus-a-copy\n",
      "  original_df[columns_to_normalize] = normalized_df\n"
     ]
    },
    {
     "name": "stdout",
     "output_type": "stream",
     "text": [
      "1M1AN4GY9LM017773 41\n"
     ]
    },
    {
     "name": "stderr",
     "output_type": "stream",
     "text": [
      "/tmp/ipykernel_1168028/1295774049.py:73: FutureWarning: Downcasting behavior in `replace` is deprecated and will be removed in a future version. To retain the old behavior, explicitly call `result.infer_objects(copy=False)`. To opt-in to the future behavior, set `pd.set_option('future.no_silent_downcasting', True)`\n",
      "  std_replaced = std.replace(0, 1)\n",
      "/tmp/ipykernel_1168028/1295774049.py:77: SettingWithCopyWarning: \n",
      "A value is trying to be set on a copy of a slice from a DataFrame.\n",
      "Try using .loc[row_indexer,col_indexer] = value instead\n",
      "\n",
      "See the caveats in the documentation: https://pandas.pydata.org/pandas-docs/stable/user_guide/indexing.html#returning-a-view-versus-a-copy\n",
      "  original_df[columns_to_normalize] = normalized_df\n"
     ]
    },
    {
     "name": "stdout",
     "output_type": "stream",
     "text": [
      "1M1AN4GY9LM019734 42\n"
     ]
    },
    {
     "name": "stderr",
     "output_type": "stream",
     "text": [
      "/tmp/ipykernel_1168028/1295774049.py:73: FutureWarning: Downcasting behavior in `replace` is deprecated and will be removed in a future version. To retain the old behavior, explicitly call `result.infer_objects(copy=False)`. To opt-in to the future behavior, set `pd.set_option('future.no_silent_downcasting', True)`\n",
      "  std_replaced = std.replace(0, 1)\n",
      "/tmp/ipykernel_1168028/1295774049.py:77: SettingWithCopyWarning: \n",
      "A value is trying to be set on a copy of a slice from a DataFrame.\n",
      "Try using .loc[row_indexer,col_indexer] = value instead\n",
      "\n",
      "See the caveats in the documentation: https://pandas.pydata.org/pandas-docs/stable/user_guide/indexing.html#returning-a-view-versus-a-copy\n",
      "  original_df[columns_to_normalize] = normalized_df\n"
     ]
    },
    {
     "name": "stdout",
     "output_type": "stream",
     "text": [
      "1M1AN4GYXKM001516 43\n"
     ]
    },
    {
     "name": "stderr",
     "output_type": "stream",
     "text": [
      "/tmp/ipykernel_1168028/1295774049.py:73: FutureWarning: Downcasting behavior in `replace` is deprecated and will be removed in a future version. To retain the old behavior, explicitly call `result.infer_objects(copy=False)`. To opt-in to the future behavior, set `pd.set_option('future.no_silent_downcasting', True)`\n",
      "  std_replaced = std.replace(0, 1)\n",
      "/tmp/ipykernel_1168028/1295774049.py:77: SettingWithCopyWarning: \n",
      "A value is trying to be set on a copy of a slice from a DataFrame.\n",
      "Try using .loc[row_indexer,col_indexer] = value instead\n",
      "\n",
      "See the caveats in the documentation: https://pandas.pydata.org/pandas-docs/stable/user_guide/indexing.html#returning-a-view-versus-a-copy\n",
      "  original_df[columns_to_normalize] = normalized_df\n"
     ]
    },
    {
     "name": "stdout",
     "output_type": "stream",
     "text": [
      "1M1AW01Y2KM011049 44\n"
     ]
    },
    {
     "name": "stderr",
     "output_type": "stream",
     "text": [
      "/tmp/ipykernel_1168028/1295774049.py:73: FutureWarning: Downcasting behavior in `replace` is deprecated and will be removed in a future version. To retain the old behavior, explicitly call `result.infer_objects(copy=False)`. To opt-in to the future behavior, set `pd.set_option('future.no_silent_downcasting', True)`\n",
      "  std_replaced = std.replace(0, 1)\n",
      "/tmp/ipykernel_1168028/1295774049.py:77: SettingWithCopyWarning: \n",
      "A value is trying to be set on a copy of a slice from a DataFrame.\n",
      "Try using .loc[row_indexer,col_indexer] = value instead\n",
      "\n",
      "See the caveats in the documentation: https://pandas.pydata.org/pandas-docs/stable/user_guide/indexing.html#returning-a-view-versus-a-copy\n",
      "  original_df[columns_to_normalize] = normalized_df\n"
     ]
    },
    {
     "name": "stdout",
     "output_type": "stream",
     "text": [
      "1M1AW02Y0HM082869 45\n"
     ]
    },
    {
     "name": "stderr",
     "output_type": "stream",
     "text": [
      "/tmp/ipykernel_1168028/1295774049.py:73: FutureWarning: Downcasting behavior in `replace` is deprecated and will be removed in a future version. To retain the old behavior, explicitly call `result.infer_objects(copy=False)`. To opt-in to the future behavior, set `pd.set_option('future.no_silent_downcasting', True)`\n",
      "  std_replaced = std.replace(0, 1)\n",
      "/tmp/ipykernel_1168028/1295774049.py:77: SettingWithCopyWarning: \n",
      "A value is trying to be set on a copy of a slice from a DataFrame.\n",
      "Try using .loc[row_indexer,col_indexer] = value instead\n",
      "\n",
      "See the caveats in the documentation: https://pandas.pydata.org/pandas-docs/stable/user_guide/indexing.html#returning-a-view-versus-a-copy\n",
      "  original_df[columns_to_normalize] = normalized_df\n"
     ]
    },
    {
     "name": "stdout",
     "output_type": "stream",
     "text": [
      "1M1AW02Y1JM085060 46\n"
     ]
    },
    {
     "name": "stderr",
     "output_type": "stream",
     "text": [
      "/tmp/ipykernel_1168028/1295774049.py:73: FutureWarning: Downcasting behavior in `replace` is deprecated and will be removed in a future version. To retain the old behavior, explicitly call `result.infer_objects(copy=False)`. To opt-in to the future behavior, set `pd.set_option('future.no_silent_downcasting', True)`\n",
      "  std_replaced = std.replace(0, 1)\n",
      "/tmp/ipykernel_1168028/1295774049.py:77: SettingWithCopyWarning: \n",
      "A value is trying to be set on a copy of a slice from a DataFrame.\n",
      "Try using .loc[row_indexer,col_indexer] = value instead\n",
      "\n",
      "See the caveats in the documentation: https://pandas.pydata.org/pandas-docs/stable/user_guide/indexing.html#returning-a-view-versus-a-copy\n",
      "  original_df[columns_to_normalize] = normalized_df\n"
     ]
    },
    {
     "name": "stdout",
     "output_type": "stream",
     "text": [
      "1M1AW02Y3JM085285 47\n"
     ]
    },
    {
     "name": "stderr",
     "output_type": "stream",
     "text": [
      "/tmp/ipykernel_1168028/1295774049.py:73: FutureWarning: Downcasting behavior in `replace` is deprecated and will be removed in a future version. To retain the old behavior, explicitly call `result.infer_objects(copy=False)`. To opt-in to the future behavior, set `pd.set_option('future.no_silent_downcasting', True)`\n",
      "  std_replaced = std.replace(0, 1)\n",
      "/tmp/ipykernel_1168028/1295774049.py:77: SettingWithCopyWarning: \n",
      "A value is trying to be set on a copy of a slice from a DataFrame.\n",
      "Try using .loc[row_indexer,col_indexer] = value instead\n",
      "\n",
      "See the caveats in the documentation: https://pandas.pydata.org/pandas-docs/stable/user_guide/indexing.html#returning-a-view-versus-a-copy\n",
      "  original_df[columns_to_normalize] = normalized_df\n"
     ]
    },
    {
     "name": "stdout",
     "output_type": "stream",
     "text": [
      "1M1AW02Y4JM085280 48\n"
     ]
    },
    {
     "name": "stderr",
     "output_type": "stream",
     "text": [
      "/tmp/ipykernel_1168028/1295774049.py:73: FutureWarning: Downcasting behavior in `replace` is deprecated and will be removed in a future version. To retain the old behavior, explicitly call `result.infer_objects(copy=False)`. To opt-in to the future behavior, set `pd.set_option('future.no_silent_downcasting', True)`\n",
      "  std_replaced = std.replace(0, 1)\n",
      "/tmp/ipykernel_1168028/1295774049.py:77: SettingWithCopyWarning: \n",
      "A value is trying to be set on a copy of a slice from a DataFrame.\n",
      "Try using .loc[row_indexer,col_indexer] = value instead\n",
      "\n",
      "See the caveats in the documentation: https://pandas.pydata.org/pandas-docs/stable/user_guide/indexing.html#returning-a-view-versus-a-copy\n",
      "  original_df[columns_to_normalize] = normalized_df\n"
     ]
    },
    {
     "name": "stdout",
     "output_type": "stream",
     "text": [
      "1M1AW02Y9FM043761 49\n"
     ]
    },
    {
     "name": "stderr",
     "output_type": "stream",
     "text": [
      "/tmp/ipykernel_1168028/1295774049.py:73: FutureWarning: Downcasting behavior in `replace` is deprecated and will be removed in a future version. To retain the old behavior, explicitly call `result.infer_objects(copy=False)`. To opt-in to the future behavior, set `pd.set_option('future.no_silent_downcasting', True)`\n",
      "  std_replaced = std.replace(0, 1)\n",
      "/tmp/ipykernel_1168028/1295774049.py:77: SettingWithCopyWarning: \n",
      "A value is trying to be set on a copy of a slice from a DataFrame.\n",
      "Try using .loc[row_indexer,col_indexer] = value instead\n",
      "\n",
      "See the caveats in the documentation: https://pandas.pydata.org/pandas-docs/stable/user_guide/indexing.html#returning-a-view-versus-a-copy\n",
      "  original_df[columns_to_normalize] = normalized_df\n"
     ]
    },
    {
     "name": "stdout",
     "output_type": "stream",
     "text": [
      "1M1AW07Y0FM044144 50\n"
     ]
    },
    {
     "name": "stderr",
     "output_type": "stream",
     "text": [
      "/tmp/ipykernel_1168028/1295774049.py:73: FutureWarning: Downcasting behavior in `replace` is deprecated and will be removed in a future version. To retain the old behavior, explicitly call `result.infer_objects(copy=False)`. To opt-in to the future behavior, set `pd.set_option('future.no_silent_downcasting', True)`\n",
      "  std_replaced = std.replace(0, 1)\n",
      "/tmp/ipykernel_1168028/1295774049.py:77: SettingWithCopyWarning: \n",
      "A value is trying to be set on a copy of a slice from a DataFrame.\n",
      "Try using .loc[row_indexer,col_indexer] = value instead\n",
      "\n",
      "See the caveats in the documentation: https://pandas.pydata.org/pandas-docs/stable/user_guide/indexing.html#returning-a-view-versus-a-copy\n",
      "  original_df[columns_to_normalize] = normalized_df\n"
     ]
    },
    {
     "name": "stdout",
     "output_type": "stream",
     "text": [
      "1M1AW07Y0FM051434 51\n"
     ]
    },
    {
     "name": "stderr",
     "output_type": "stream",
     "text": [
      "/tmp/ipykernel_1168028/1295774049.py:73: FutureWarning: Downcasting behavior in `replace` is deprecated and will be removed in a future version. To retain the old behavior, explicitly call `result.infer_objects(copy=False)`. To opt-in to the future behavior, set `pd.set_option('future.no_silent_downcasting', True)`\n",
      "  std_replaced = std.replace(0, 1)\n",
      "/tmp/ipykernel_1168028/1295774049.py:77: SettingWithCopyWarning: \n",
      "A value is trying to be set on a copy of a slice from a DataFrame.\n",
      "Try using .loc[row_indexer,col_indexer] = value instead\n",
      "\n",
      "See the caveats in the documentation: https://pandas.pydata.org/pandas-docs/stable/user_guide/indexing.html#returning-a-view-versus-a-copy\n",
      "  original_df[columns_to_normalize] = normalized_df\n"
     ]
    },
    {
     "name": "stdout",
     "output_type": "stream",
     "text": [
      "1M1AW07Y0FM051482 52\n"
     ]
    },
    {
     "name": "stderr",
     "output_type": "stream",
     "text": [
      "/tmp/ipykernel_1168028/1295774049.py:73: FutureWarning: Downcasting behavior in `replace` is deprecated and will be removed in a future version. To retain the old behavior, explicitly call `result.infer_objects(copy=False)`. To opt-in to the future behavior, set `pd.set_option('future.no_silent_downcasting', True)`\n",
      "  std_replaced = std.replace(0, 1)\n",
      "/tmp/ipykernel_1168028/1295774049.py:77: SettingWithCopyWarning: \n",
      "A value is trying to be set on a copy of a slice from a DataFrame.\n",
      "Try using .loc[row_indexer,col_indexer] = value instead\n",
      "\n",
      "See the caveats in the documentation: https://pandas.pydata.org/pandas-docs/stable/user_guide/indexing.html#returning-a-view-versus-a-copy\n",
      "  original_df[columns_to_normalize] = normalized_df\n"
     ]
    },
    {
     "name": "stdout",
     "output_type": "stream",
     "text": [
      "1M1AW07Y2GM059553 53\n"
     ]
    },
    {
     "name": "stderr",
     "output_type": "stream",
     "text": [
      "/tmp/ipykernel_1168028/1295774049.py:73: FutureWarning: Downcasting behavior in `replace` is deprecated and will be removed in a future version. To retain the old behavior, explicitly call `result.infer_objects(copy=False)`. To opt-in to the future behavior, set `pd.set_option('future.no_silent_downcasting', True)`\n",
      "  std_replaced = std.replace(0, 1)\n",
      "/tmp/ipykernel_1168028/1295774049.py:77: SettingWithCopyWarning: \n",
      "A value is trying to be set on a copy of a slice from a DataFrame.\n",
      "Try using .loc[row_indexer,col_indexer] = value instead\n",
      "\n",
      "See the caveats in the documentation: https://pandas.pydata.org/pandas-docs/stable/user_guide/indexing.html#returning-a-view-versus-a-copy\n",
      "  original_df[columns_to_normalize] = normalized_df\n"
     ]
    },
    {
     "name": "stdout",
     "output_type": "stream",
     "text": [
      "1M1AW07Y2HM080873 54\n"
     ]
    },
    {
     "name": "stderr",
     "output_type": "stream",
     "text": [
      "/tmp/ipykernel_1168028/1295774049.py:73: FutureWarning: Downcasting behavior in `replace` is deprecated and will be removed in a future version. To retain the old behavior, explicitly call `result.infer_objects(copy=False)`. To opt-in to the future behavior, set `pd.set_option('future.no_silent_downcasting', True)`\n",
      "  std_replaced = std.replace(0, 1)\n",
      "/tmp/ipykernel_1168028/1295774049.py:77: SettingWithCopyWarning: \n",
      "A value is trying to be set on a copy of a slice from a DataFrame.\n",
      "Try using .loc[row_indexer,col_indexer] = value instead\n",
      "\n",
      "See the caveats in the documentation: https://pandas.pydata.org/pandas-docs/stable/user_guide/indexing.html#returning-a-view-versus-a-copy\n",
      "  original_df[columns_to_normalize] = normalized_df\n"
     ]
    },
    {
     "name": "stdout",
     "output_type": "stream",
     "text": [
      "1M1AW07Y4GM054760 55\n"
     ]
    },
    {
     "name": "stderr",
     "output_type": "stream",
     "text": [
      "/tmp/ipykernel_1168028/1295774049.py:73: FutureWarning: Downcasting behavior in `replace` is deprecated and will be removed in a future version. To retain the old behavior, explicitly call `result.infer_objects(copy=False)`. To opt-in to the future behavior, set `pd.set_option('future.no_silent_downcasting', True)`\n",
      "  std_replaced = std.replace(0, 1)\n",
      "/tmp/ipykernel_1168028/1295774049.py:77: SettingWithCopyWarning: \n",
      "A value is trying to be set on a copy of a slice from a DataFrame.\n",
      "Try using .loc[row_indexer,col_indexer] = value instead\n",
      "\n",
      "See the caveats in the documentation: https://pandas.pydata.org/pandas-docs/stable/user_guide/indexing.html#returning-a-view-versus-a-copy\n",
      "  original_df[columns_to_normalize] = normalized_df\n"
     ]
    },
    {
     "name": "stdout",
     "output_type": "stream",
     "text": [
      "1M1AW07Y5FM051784 56\n"
     ]
    },
    {
     "name": "stderr",
     "output_type": "stream",
     "text": [
      "/tmp/ipykernel_1168028/1295774049.py:73: FutureWarning: Downcasting behavior in `replace` is deprecated and will be removed in a future version. To retain the old behavior, explicitly call `result.infer_objects(copy=False)`. To opt-in to the future behavior, set `pd.set_option('future.no_silent_downcasting', True)`\n",
      "  std_replaced = std.replace(0, 1)\n",
      "/tmp/ipykernel_1168028/1295774049.py:77: SettingWithCopyWarning: \n",
      "A value is trying to be set on a copy of a slice from a DataFrame.\n",
      "Try using .loc[row_indexer,col_indexer] = value instead\n",
      "\n",
      "See the caveats in the documentation: https://pandas.pydata.org/pandas-docs/stable/user_guide/indexing.html#returning-a-view-versus-a-copy\n",
      "  original_df[columns_to_normalize] = normalized_df\n"
     ]
    },
    {
     "name": "stdout",
     "output_type": "stream",
     "text": [
      "1M1AW07Y6FM050269 57\n"
     ]
    },
    {
     "name": "stderr",
     "output_type": "stream",
     "text": [
      "/tmp/ipykernel_1168028/1295774049.py:73: FutureWarning: Downcasting behavior in `replace` is deprecated and will be removed in a future version. To retain the old behavior, explicitly call `result.infer_objects(copy=False)`. To opt-in to the future behavior, set `pd.set_option('future.no_silent_downcasting', True)`\n",
      "  std_replaced = std.replace(0, 1)\n",
      "/tmp/ipykernel_1168028/1295774049.py:77: SettingWithCopyWarning: \n",
      "A value is trying to be set on a copy of a slice from a DataFrame.\n",
      "Try using .loc[row_indexer,col_indexer] = value instead\n",
      "\n",
      "See the caveats in the documentation: https://pandas.pydata.org/pandas-docs/stable/user_guide/indexing.html#returning-a-view-versus-a-copy\n",
      "  original_df[columns_to_normalize] = normalized_df\n"
     ]
    },
    {
     "name": "stdout",
     "output_type": "stream",
     "text": [
      "1M1AW07Y7GM060715 58\n"
     ]
    },
    {
     "name": "stderr",
     "output_type": "stream",
     "text": [
      "/tmp/ipykernel_1168028/1295774049.py:73: FutureWarning: Downcasting behavior in `replace` is deprecated and will be removed in a future version. To retain the old behavior, explicitly call `result.infer_objects(copy=False)`. To opt-in to the future behavior, set `pd.set_option('future.no_silent_downcasting', True)`\n",
      "  std_replaced = std.replace(0, 1)\n",
      "/tmp/ipykernel_1168028/1295774049.py:77: SettingWithCopyWarning: \n",
      "A value is trying to be set on a copy of a slice from a DataFrame.\n",
      "Try using .loc[row_indexer,col_indexer] = value instead\n",
      "\n",
      "See the caveats in the documentation: https://pandas.pydata.org/pandas-docs/stable/user_guide/indexing.html#returning-a-view-versus-a-copy\n",
      "  original_df[columns_to_normalize] = normalized_df\n"
     ]
    },
    {
     "name": "stdout",
     "output_type": "stream",
     "text": [
      "1M1AW07Y8GM078527 59\n"
     ]
    },
    {
     "name": "stderr",
     "output_type": "stream",
     "text": [
      "/tmp/ipykernel_1168028/1295774049.py:73: FutureWarning: Downcasting behavior in `replace` is deprecated and will be removed in a future version. To retain the old behavior, explicitly call `result.infer_objects(copy=False)`. To opt-in to the future behavior, set `pd.set_option('future.no_silent_downcasting', True)`\n",
      "  std_replaced = std.replace(0, 1)\n",
      "/tmp/ipykernel_1168028/1295774049.py:77: SettingWithCopyWarning: \n",
      "A value is trying to be set on a copy of a slice from a DataFrame.\n",
      "Try using .loc[row_indexer,col_indexer] = value instead\n",
      "\n",
      "See the caveats in the documentation: https://pandas.pydata.org/pandas-docs/stable/user_guide/indexing.html#returning-a-view-versus-a-copy\n",
      "  original_df[columns_to_normalize] = normalized_df\n"
     ]
    },
    {
     "name": "stdout",
     "output_type": "stream",
     "text": [
      "1M1AW07Y9GM078455 60\n"
     ]
    },
    {
     "name": "stderr",
     "output_type": "stream",
     "text": [
      "/tmp/ipykernel_1168028/1295774049.py:73: FutureWarning: Downcasting behavior in `replace` is deprecated and will be removed in a future version. To retain the old behavior, explicitly call `result.infer_objects(copy=False)`. To opt-in to the future behavior, set `pd.set_option('future.no_silent_downcasting', True)`\n",
      "  std_replaced = std.replace(0, 1)\n",
      "/tmp/ipykernel_1168028/1295774049.py:77: SettingWithCopyWarning: \n",
      "A value is trying to be set on a copy of a slice from a DataFrame.\n",
      "Try using .loc[row_indexer,col_indexer] = value instead\n",
      "\n",
      "See the caveats in the documentation: https://pandas.pydata.org/pandas-docs/stable/user_guide/indexing.html#returning-a-view-versus-a-copy\n",
      "  original_df[columns_to_normalize] = normalized_df\n"
     ]
    },
    {
     "name": "stdout",
     "output_type": "stream",
     "text": [
      "1M1AW07Y9JM085655 61\n"
     ]
    },
    {
     "name": "stderr",
     "output_type": "stream",
     "text": [
      "/tmp/ipykernel_1168028/1295774049.py:73: FutureWarning: Downcasting behavior in `replace` is deprecated and will be removed in a future version. To retain the old behavior, explicitly call `result.infer_objects(copy=False)`. To opt-in to the future behavior, set `pd.set_option('future.no_silent_downcasting', True)`\n",
      "  std_replaced = std.replace(0, 1)\n",
      "/tmp/ipykernel_1168028/1295774049.py:77: SettingWithCopyWarning: \n",
      "A value is trying to be set on a copy of a slice from a DataFrame.\n",
      "Try using .loc[row_indexer,col_indexer] = value instead\n",
      "\n",
      "See the caveats in the documentation: https://pandas.pydata.org/pandas-docs/stable/user_guide/indexing.html#returning-a-view-versus-a-copy\n",
      "  original_df[columns_to_normalize] = normalized_df\n"
     ]
    },
    {
     "name": "stdout",
     "output_type": "stream",
     "text": [
      "1M1AW07YXFM052607 62\n"
     ]
    },
    {
     "name": "stderr",
     "output_type": "stream",
     "text": [
      "/tmp/ipykernel_1168028/1295774049.py:73: FutureWarning: Downcasting behavior in `replace` is deprecated and will be removed in a future version. To retain the old behavior, explicitly call `result.infer_objects(copy=False)`. To opt-in to the future behavior, set `pd.set_option('future.no_silent_downcasting', True)`\n",
      "  std_replaced = std.replace(0, 1)\n",
      "/tmp/ipykernel_1168028/1295774049.py:77: SettingWithCopyWarning: \n",
      "A value is trying to be set on a copy of a slice from a DataFrame.\n",
      "Try using .loc[row_indexer,col_indexer] = value instead\n",
      "\n",
      "See the caveats in the documentation: https://pandas.pydata.org/pandas-docs/stable/user_guide/indexing.html#returning-a-view-versus-a-copy\n",
      "  original_df[columns_to_normalize] = normalized_df\n"
     ]
    },
    {
     "name": "stdout",
     "output_type": "stream",
     "text": [
      "1M1AW07YXJM086880 63\n"
     ]
    },
    {
     "name": "stderr",
     "output_type": "stream",
     "text": [
      "/tmp/ipykernel_1168028/1295774049.py:73: FutureWarning: Downcasting behavior in `replace` is deprecated and will be removed in a future version. To retain the old behavior, explicitly call `result.infer_objects(copy=False)`. To opt-in to the future behavior, set `pd.set_option('future.no_silent_downcasting', True)`\n",
      "  std_replaced = std.replace(0, 1)\n",
      "/tmp/ipykernel_1168028/1295774049.py:77: SettingWithCopyWarning: \n",
      "A value is trying to be set on a copy of a slice from a DataFrame.\n",
      "Try using .loc[row_indexer,col_indexer] = value instead\n",
      "\n",
      "See the caveats in the documentation: https://pandas.pydata.org/pandas-docs/stable/user_guide/indexing.html#returning-a-view-versus-a-copy\n",
      "  original_df[columns_to_normalize] = normalized_df\n"
     ]
    },
    {
     "name": "stdout",
     "output_type": "stream",
     "text": [
      "1M1AW09Y2GM056939 64\n"
     ]
    },
    {
     "name": "stderr",
     "output_type": "stream",
     "text": [
      "/tmp/ipykernel_1168028/1295774049.py:73: FutureWarning: Downcasting behavior in `replace` is deprecated and will be removed in a future version. To retain the old behavior, explicitly call `result.infer_objects(copy=False)`. To opt-in to the future behavior, set `pd.set_option('future.no_silent_downcasting', True)`\n",
      "  std_replaced = std.replace(0, 1)\n",
      "/tmp/ipykernel_1168028/1295774049.py:77: SettingWithCopyWarning: \n",
      "A value is trying to be set on a copy of a slice from a DataFrame.\n",
      "Try using .loc[row_indexer,col_indexer] = value instead\n",
      "\n",
      "See the caveats in the documentation: https://pandas.pydata.org/pandas-docs/stable/user_guide/indexing.html#returning-a-view-versus-a-copy\n",
      "  original_df[columns_to_normalize] = normalized_df\n"
     ]
    },
    {
     "name": "stdout",
     "output_type": "stream",
     "text": [
      "1M1AW09Y7HM084902 65\n"
     ]
    },
    {
     "name": "stderr",
     "output_type": "stream",
     "text": [
      "/tmp/ipykernel_1168028/1295774049.py:73: FutureWarning: Downcasting behavior in `replace` is deprecated and will be removed in a future version. To retain the old behavior, explicitly call `result.infer_objects(copy=False)`. To opt-in to the future behavior, set `pd.set_option('future.no_silent_downcasting', True)`\n",
      "  std_replaced = std.replace(0, 1)\n",
      "/tmp/ipykernel_1168028/1295774049.py:77: SettingWithCopyWarning: \n",
      "A value is trying to be set on a copy of a slice from a DataFrame.\n",
      "Try using .loc[row_indexer,col_indexer] = value instead\n",
      "\n",
      "See the caveats in the documentation: https://pandas.pydata.org/pandas-docs/stable/user_guide/indexing.html#returning-a-view-versus-a-copy\n",
      "  original_df[columns_to_normalize] = normalized_df\n"
     ]
    },
    {
     "name": "stdout",
     "output_type": "stream",
     "text": [
      "1M1AW09Y8FM048133 66\n"
     ]
    },
    {
     "name": "stderr",
     "output_type": "stream",
     "text": [
      "/tmp/ipykernel_1168028/1295774049.py:73: FutureWarning: Downcasting behavior in `replace` is deprecated and will be removed in a future version. To retain the old behavior, explicitly call `result.infer_objects(copy=False)`. To opt-in to the future behavior, set `pd.set_option('future.no_silent_downcasting', True)`\n",
      "  std_replaced = std.replace(0, 1)\n",
      "/tmp/ipykernel_1168028/1295774049.py:77: SettingWithCopyWarning: \n",
      "A value is trying to be set on a copy of a slice from a DataFrame.\n",
      "Try using .loc[row_indexer,col_indexer] = value instead\n",
      "\n",
      "See the caveats in the documentation: https://pandas.pydata.org/pandas-docs/stable/user_guide/indexing.html#returning-a-view-versus-a-copy\n",
      "  original_df[columns_to_normalize] = normalized_df\n"
     ]
    },
    {
     "name": "stdout",
     "output_type": "stream",
     "text": [
      "1M1AW21Y2GM060478 67\n"
     ]
    },
    {
     "name": "stderr",
     "output_type": "stream",
     "text": [
      "/tmp/ipykernel_1168028/1295774049.py:73: FutureWarning: Downcasting behavior in `replace` is deprecated and will be removed in a future version. To retain the old behavior, explicitly call `result.infer_objects(copy=False)`. To opt-in to the future behavior, set `pd.set_option('future.no_silent_downcasting', True)`\n",
      "  std_replaced = std.replace(0, 1)\n",
      "/tmp/ipykernel_1168028/1295774049.py:77: SettingWithCopyWarning: \n",
      "A value is trying to be set on a copy of a slice from a DataFrame.\n",
      "Try using .loc[row_indexer,col_indexer] = value instead\n",
      "\n",
      "See the caveats in the documentation: https://pandas.pydata.org/pandas-docs/stable/user_guide/indexing.html#returning-a-view-versus-a-copy\n",
      "  original_df[columns_to_normalize] = normalized_df\n"
     ]
    },
    {
     "name": "stdout",
     "output_type": "stream",
     "text": [
      "1M1AW21YXFM051381 68\n"
     ]
    },
    {
     "name": "stderr",
     "output_type": "stream",
     "text": [
      "/tmp/ipykernel_1168028/1295774049.py:73: FutureWarning: Downcasting behavior in `replace` is deprecated and will be removed in a future version. To retain the old behavior, explicitly call `result.infer_objects(copy=False)`. To opt-in to the future behavior, set `pd.set_option('future.no_silent_downcasting', True)`\n",
      "  std_replaced = std.replace(0, 1)\n",
      "/tmp/ipykernel_1168028/1295774049.py:77: SettingWithCopyWarning: \n",
      "A value is trying to be set on a copy of a slice from a DataFrame.\n",
      "Try using .loc[row_indexer,col_indexer] = value instead\n",
      "\n",
      "See the caveats in the documentation: https://pandas.pydata.org/pandas-docs/stable/user_guide/indexing.html#returning-a-view-versus-a-copy\n",
      "  original_df[columns_to_normalize] = normalized_df\n"
     ]
    },
    {
     "name": "stdout",
     "output_type": "stream",
     "text": [
      "1M1AW21YXGM053312 69\n"
     ]
    },
    {
     "name": "stderr",
     "output_type": "stream",
     "text": [
      "/tmp/ipykernel_1168028/1295774049.py:73: FutureWarning: Downcasting behavior in `replace` is deprecated and will be removed in a future version. To retain the old behavior, explicitly call `result.infer_objects(copy=False)`. To opt-in to the future behavior, set `pd.set_option('future.no_silent_downcasting', True)`\n",
      "  std_replaced = std.replace(0, 1)\n",
      "/tmp/ipykernel_1168028/1295774049.py:77: SettingWithCopyWarning: \n",
      "A value is trying to be set on a copy of a slice from a DataFrame.\n",
      "Try using .loc[row_indexer,col_indexer] = value instead\n",
      "\n",
      "See the caveats in the documentation: https://pandas.pydata.org/pandas-docs/stable/user_guide/indexing.html#returning-a-view-versus-a-copy\n",
      "  original_df[columns_to_normalize] = normalized_df\n"
     ]
    },
    {
     "name": "stdout",
     "output_type": "stream",
     "text": [
      "1M1AW31Y5FM048880 70\n"
     ]
    },
    {
     "name": "stderr",
     "output_type": "stream",
     "text": [
      "/tmp/ipykernel_1168028/1295774049.py:73: FutureWarning: Downcasting behavior in `replace` is deprecated and will be removed in a future version. To retain the old behavior, explicitly call `result.infer_objects(copy=False)`. To opt-in to the future behavior, set `pd.set_option('future.no_silent_downcasting', True)`\n",
      "  std_replaced = std.replace(0, 1)\n",
      "/tmp/ipykernel_1168028/1295774049.py:77: SettingWithCopyWarning: \n",
      "A value is trying to be set on a copy of a slice from a DataFrame.\n",
      "Try using .loc[row_indexer,col_indexer] = value instead\n",
      "\n",
      "See the caveats in the documentation: https://pandas.pydata.org/pandas-docs/stable/user_guide/indexing.html#returning-a-view-versus-a-copy\n",
      "  original_df[columns_to_normalize] = normalized_df\n"
     ]
    },
    {
     "name": "stdout",
     "output_type": "stream",
     "text": [
      "1M1AX04Y2HM037006 71\n"
     ]
    },
    {
     "name": "stderr",
     "output_type": "stream",
     "text": [
      "/tmp/ipykernel_1168028/1295774049.py:73: FutureWarning: Downcasting behavior in `replace` is deprecated and will be removed in a future version. To retain the old behavior, explicitly call `result.infer_objects(copy=False)`. To opt-in to the future behavior, set `pd.set_option('future.no_silent_downcasting', True)`\n",
      "  std_replaced = std.replace(0, 1)\n",
      "/tmp/ipykernel_1168028/1295774049.py:77: SettingWithCopyWarning: \n",
      "A value is trying to be set on a copy of a slice from a DataFrame.\n",
      "Try using .loc[row_indexer,col_indexer] = value instead\n",
      "\n",
      "See the caveats in the documentation: https://pandas.pydata.org/pandas-docs/stable/user_guide/indexing.html#returning-a-view-versus-a-copy\n",
      "  original_df[columns_to_normalize] = normalized_df\n"
     ]
    },
    {
     "name": "stdout",
     "output_type": "stream",
     "text": [
      "1M1AX07Y5FM020516 72\n"
     ]
    },
    {
     "name": "stderr",
     "output_type": "stream",
     "text": [
      "/tmp/ipykernel_1168028/1295774049.py:73: FutureWarning: Downcasting behavior in `replace` is deprecated and will be removed in a future version. To retain the old behavior, explicitly call `result.infer_objects(copy=False)`. To opt-in to the future behavior, set `pd.set_option('future.no_silent_downcasting', True)`\n",
      "  std_replaced = std.replace(0, 1)\n",
      "/tmp/ipykernel_1168028/1295774049.py:77: SettingWithCopyWarning: \n",
      "A value is trying to be set on a copy of a slice from a DataFrame.\n",
      "Try using .loc[row_indexer,col_indexer] = value instead\n",
      "\n",
      "See the caveats in the documentation: https://pandas.pydata.org/pandas-docs/stable/user_guide/indexing.html#returning-a-view-versus-a-copy\n",
      "  original_df[columns_to_normalize] = normalized_df\n"
     ]
    },
    {
     "name": "stdout",
     "output_type": "stream",
     "text": [
      "1M1GR4GY1KM004495 73\n"
     ]
    },
    {
     "name": "stderr",
     "output_type": "stream",
     "text": [
      "/tmp/ipykernel_1168028/1295774049.py:73: FutureWarning: Downcasting behavior in `replace` is deprecated and will be removed in a future version. To retain the old behavior, explicitly call `result.infer_objects(copy=False)`. To opt-in to the future behavior, set `pd.set_option('future.no_silent_downcasting', True)`\n",
      "  std_replaced = std.replace(0, 1)\n",
      "/tmp/ipykernel_1168028/1295774049.py:77: SettingWithCopyWarning: \n",
      "A value is trying to be set on a copy of a slice from a DataFrame.\n",
      "Try using .loc[row_indexer,col_indexer] = value instead\n",
      "\n",
      "See the caveats in the documentation: https://pandas.pydata.org/pandas-docs/stable/user_guide/indexing.html#returning-a-view-versus-a-copy\n",
      "  original_df[columns_to_normalize] = normalized_df\n"
     ]
    },
    {
     "name": "stdout",
     "output_type": "stream",
     "text": [
      "1M1GR4GY4LM016318 74\n"
     ]
    },
    {
     "name": "stderr",
     "output_type": "stream",
     "text": [
      "/tmp/ipykernel_1168028/1295774049.py:73: FutureWarning: Downcasting behavior in `replace` is deprecated and will be removed in a future version. To retain the old behavior, explicitly call `result.infer_objects(copy=False)`. To opt-in to the future behavior, set `pd.set_option('future.no_silent_downcasting', True)`\n",
      "  std_replaced = std.replace(0, 1)\n",
      "/tmp/ipykernel_1168028/1295774049.py:77: SettingWithCopyWarning: \n",
      "A value is trying to be set on a copy of a slice from a DataFrame.\n",
      "Try using .loc[row_indexer,col_indexer] = value instead\n",
      "\n",
      "See the caveats in the documentation: https://pandas.pydata.org/pandas-docs/stable/user_guide/indexing.html#returning-a-view-versus-a-copy\n",
      "  original_df[columns_to_normalize] = normalized_df\n"
     ]
    },
    {
     "name": "stdout",
     "output_type": "stream",
     "text": [
      "1M1GR4GY5LM016456 75\n"
     ]
    },
    {
     "name": "stderr",
     "output_type": "stream",
     "text": [
      "/tmp/ipykernel_1168028/1295774049.py:73: FutureWarning: Downcasting behavior in `replace` is deprecated and will be removed in a future version. To retain the old behavior, explicitly call `result.infer_objects(copy=False)`. To opt-in to the future behavior, set `pd.set_option('future.no_silent_downcasting', True)`\n",
      "  std_replaced = std.replace(0, 1)\n",
      "/tmp/ipykernel_1168028/1295774049.py:77: SettingWithCopyWarning: \n",
      "A value is trying to be set on a copy of a slice from a DataFrame.\n",
      "Try using .loc[row_indexer,col_indexer] = value instead\n",
      "\n",
      "See the caveats in the documentation: https://pandas.pydata.org/pandas-docs/stable/user_guide/indexing.html#returning-a-view-versus-a-copy\n",
      "  original_df[columns_to_normalize] = normalized_df\n"
     ]
    },
    {
     "name": "stdout",
     "output_type": "stream",
     "text": [
      "1M1PN3GY0LM005869 76\n"
     ]
    },
    {
     "name": "stderr",
     "output_type": "stream",
     "text": [
      "/tmp/ipykernel_1168028/1295774049.py:73: FutureWarning: Downcasting behavior in `replace` is deprecated and will be removed in a future version. To retain the old behavior, explicitly call `result.infer_objects(copy=False)`. To opt-in to the future behavior, set `pd.set_option('future.no_silent_downcasting', True)`\n",
      "  std_replaced = std.replace(0, 1)\n",
      "/tmp/ipykernel_1168028/1295774049.py:77: SettingWithCopyWarning: \n",
      "A value is trying to be set on a copy of a slice from a DataFrame.\n",
      "Try using .loc[row_indexer,col_indexer] = value instead\n",
      "\n",
      "See the caveats in the documentation: https://pandas.pydata.org/pandas-docs/stable/user_guide/indexing.html#returning-a-view-versus-a-copy\n",
      "  original_df[columns_to_normalize] = normalized_df\n"
     ]
    },
    {
     "name": "stdout",
     "output_type": "stream",
     "text": [
      "1M1PN3GY6LM005245 77\n"
     ]
    },
    {
     "name": "stderr",
     "output_type": "stream",
     "text": [
      "/tmp/ipykernel_1168028/1295774049.py:73: FutureWarning: Downcasting behavior in `replace` is deprecated and will be removed in a future version. To retain the old behavior, explicitly call `result.infer_objects(copy=False)`. To opt-in to the future behavior, set `pd.set_option('future.no_silent_downcasting', True)`\n",
      "  std_replaced = std.replace(0, 1)\n",
      "/tmp/ipykernel_1168028/1295774049.py:77: SettingWithCopyWarning: \n",
      "A value is trying to be set on a copy of a slice from a DataFrame.\n",
      "Try using .loc[row_indexer,col_indexer] = value instead\n",
      "\n",
      "See the caveats in the documentation: https://pandas.pydata.org/pandas-docs/stable/user_guide/indexing.html#returning-a-view-versus-a-copy\n",
      "  original_df[columns_to_normalize] = normalized_df\n"
     ]
    },
    {
     "name": "stdout",
     "output_type": "stream",
     "text": [
      "1M1PN3GY7LM005853 78\n"
     ]
    },
    {
     "name": "stderr",
     "output_type": "stream",
     "text": [
      "/tmp/ipykernel_1168028/1295774049.py:73: FutureWarning: Downcasting behavior in `replace` is deprecated and will be removed in a future version. To retain the old behavior, explicitly call `result.infer_objects(copy=False)`. To opt-in to the future behavior, set `pd.set_option('future.no_silent_downcasting', True)`\n",
      "  std_replaced = std.replace(0, 1)\n",
      "/tmp/ipykernel_1168028/1295774049.py:77: SettingWithCopyWarning: \n",
      "A value is trying to be set on a copy of a slice from a DataFrame.\n",
      "Try using .loc[row_indexer,col_indexer] = value instead\n",
      "\n",
      "See the caveats in the documentation: https://pandas.pydata.org/pandas-docs/stable/user_guide/indexing.html#returning-a-view-versus-a-copy\n",
      "  original_df[columns_to_normalize] = normalized_df\n"
     ]
    },
    {
     "name": "stdout",
     "output_type": "stream",
     "text": [
      "1M1PN4GY0KM003009 79\n"
     ]
    },
    {
     "name": "stderr",
     "output_type": "stream",
     "text": [
      "/tmp/ipykernel_1168028/1295774049.py:73: FutureWarning: Downcasting behavior in `replace` is deprecated and will be removed in a future version. To retain the old behavior, explicitly call `result.infer_objects(copy=False)`. To opt-in to the future behavior, set `pd.set_option('future.no_silent_downcasting', True)`\n",
      "  std_replaced = std.replace(0, 1)\n",
      "/tmp/ipykernel_1168028/1295774049.py:77: SettingWithCopyWarning: \n",
      "A value is trying to be set on a copy of a slice from a DataFrame.\n",
      "Try using .loc[row_indexer,col_indexer] = value instead\n",
      "\n",
      "See the caveats in the documentation: https://pandas.pydata.org/pandas-docs/stable/user_guide/indexing.html#returning-a-view-versus-a-copy\n",
      "  original_df[columns_to_normalize] = normalized_df\n"
     ]
    },
    {
     "name": "stdout",
     "output_type": "stream",
     "text": [
      "1M1PN4GY1KM003410 80\n"
     ]
    },
    {
     "name": "stderr",
     "output_type": "stream",
     "text": [
      "/tmp/ipykernel_1168028/1295774049.py:73: FutureWarning: Downcasting behavior in `replace` is deprecated and will be removed in a future version. To retain the old behavior, explicitly call `result.infer_objects(copy=False)`. To opt-in to the future behavior, set `pd.set_option('future.no_silent_downcasting', True)`\n",
      "  std_replaced = std.replace(0, 1)\n",
      "/tmp/ipykernel_1168028/1295774049.py:77: SettingWithCopyWarning: \n",
      "A value is trying to be set on a copy of a slice from a DataFrame.\n",
      "Try using .loc[row_indexer,col_indexer] = value instead\n",
      "\n",
      "See the caveats in the documentation: https://pandas.pydata.org/pandas-docs/stable/user_guide/indexing.html#returning-a-view-versus-a-copy\n",
      "  original_df[columns_to_normalize] = normalized_df\n"
     ]
    },
    {
     "name": "stdout",
     "output_type": "stream",
     "text": [
      "1M1PN4GY1MM007590 81\n"
     ]
    },
    {
     "name": "stderr",
     "output_type": "stream",
     "text": [
      "/tmp/ipykernel_1168028/1295774049.py:73: FutureWarning: Downcasting behavior in `replace` is deprecated and will be removed in a future version. To retain the old behavior, explicitly call `result.infer_objects(copy=False)`. To opt-in to the future behavior, set `pd.set_option('future.no_silent_downcasting', True)`\n",
      "  std_replaced = std.replace(0, 1)\n",
      "/tmp/ipykernel_1168028/1295774049.py:77: SettingWithCopyWarning: \n",
      "A value is trying to be set on a copy of a slice from a DataFrame.\n",
      "Try using .loc[row_indexer,col_indexer] = value instead\n",
      "\n",
      "See the caveats in the documentation: https://pandas.pydata.org/pandas-docs/stable/user_guide/indexing.html#returning-a-view-versus-a-copy\n",
      "  original_df[columns_to_normalize] = normalized_df\n"
     ]
    },
    {
     "name": "stdout",
     "output_type": "stream",
     "text": [
      "1M1PN4GY2LM006253 82\n"
     ]
    },
    {
     "name": "stderr",
     "output_type": "stream",
     "text": [
      "/tmp/ipykernel_1168028/1295774049.py:73: FutureWarning: Downcasting behavior in `replace` is deprecated and will be removed in a future version. To retain the old behavior, explicitly call `result.infer_objects(copy=False)`. To opt-in to the future behavior, set `pd.set_option('future.no_silent_downcasting', True)`\n",
      "  std_replaced = std.replace(0, 1)\n",
      "/tmp/ipykernel_1168028/1295774049.py:77: SettingWithCopyWarning: \n",
      "A value is trying to be set on a copy of a slice from a DataFrame.\n",
      "Try using .loc[row_indexer,col_indexer] = value instead\n",
      "\n",
      "See the caveats in the documentation: https://pandas.pydata.org/pandas-docs/stable/user_guide/indexing.html#returning-a-view-versus-a-copy\n",
      "  original_df[columns_to_normalize] = normalized_df\n"
     ]
    },
    {
     "name": "stdout",
     "output_type": "stream",
     "text": [
      "1M1PN4GY3LM003474 83\n"
     ]
    },
    {
     "name": "stderr",
     "output_type": "stream",
     "text": [
      "/tmp/ipykernel_1168028/1295774049.py:73: FutureWarning: Downcasting behavior in `replace` is deprecated and will be removed in a future version. To retain the old behavior, explicitly call `result.infer_objects(copy=False)`. To opt-in to the future behavior, set `pd.set_option('future.no_silent_downcasting', True)`\n",
      "  std_replaced = std.replace(0, 1)\n",
      "/tmp/ipykernel_1168028/1295774049.py:77: SettingWithCopyWarning: \n",
      "A value is trying to be set on a copy of a slice from a DataFrame.\n",
      "Try using .loc[row_indexer,col_indexer] = value instead\n",
      "\n",
      "See the caveats in the documentation: https://pandas.pydata.org/pandas-docs/stable/user_guide/indexing.html#returning-a-view-versus-a-copy\n",
      "  original_df[columns_to_normalize] = normalized_df\n"
     ]
    },
    {
     "name": "stdout",
     "output_type": "stream",
     "text": [
      "1M1PN4GY4LM006707 84\n"
     ]
    },
    {
     "name": "stderr",
     "output_type": "stream",
     "text": [
      "/tmp/ipykernel_1168028/1295774049.py:73: FutureWarning: Downcasting behavior in `replace` is deprecated and will be removed in a future version. To retain the old behavior, explicitly call `result.infer_objects(copy=False)`. To opt-in to the future behavior, set `pd.set_option('future.no_silent_downcasting', True)`\n",
      "  std_replaced = std.replace(0, 1)\n",
      "/tmp/ipykernel_1168028/1295774049.py:77: SettingWithCopyWarning: \n",
      "A value is trying to be set on a copy of a slice from a DataFrame.\n",
      "Try using .loc[row_indexer,col_indexer] = value instead\n",
      "\n",
      "See the caveats in the documentation: https://pandas.pydata.org/pandas-docs/stable/user_guide/indexing.html#returning-a-view-versus-a-copy\n",
      "  original_df[columns_to_normalize] = normalized_df\n"
     ]
    },
    {
     "name": "stdout",
     "output_type": "stream",
     "text": [
      "1M1PN4GY5MM007821 85\n"
     ]
    },
    {
     "name": "stderr",
     "output_type": "stream",
     "text": [
      "/tmp/ipykernel_1168028/1295774049.py:73: FutureWarning: Downcasting behavior in `replace` is deprecated and will be removed in a future version. To retain the old behavior, explicitly call `result.infer_objects(copy=False)`. To opt-in to the future behavior, set `pd.set_option('future.no_silent_downcasting', True)`\n",
      "  std_replaced = std.replace(0, 1)\n",
      "/tmp/ipykernel_1168028/1295774049.py:77: SettingWithCopyWarning: \n",
      "A value is trying to be set on a copy of a slice from a DataFrame.\n",
      "Try using .loc[row_indexer,col_indexer] = value instead\n",
      "\n",
      "See the caveats in the documentation: https://pandas.pydata.org/pandas-docs/stable/user_guide/indexing.html#returning-a-view-versus-a-copy\n",
      "  original_df[columns_to_normalize] = normalized_df\n"
     ]
    },
    {
     "name": "stdout",
     "output_type": "stream",
     "text": [
      "1M1PN4GY8LM005544 86\n"
     ]
    },
    {
     "name": "stderr",
     "output_type": "stream",
     "text": [
      "/tmp/ipykernel_1168028/1295774049.py:73: FutureWarning: Downcasting behavior in `replace` is deprecated and will be removed in a future version. To retain the old behavior, explicitly call `result.infer_objects(copy=False)`. To opt-in to the future behavior, set `pd.set_option('future.no_silent_downcasting', True)`\n",
      "  std_replaced = std.replace(0, 1)\n",
      "/tmp/ipykernel_1168028/1295774049.py:77: SettingWithCopyWarning: \n",
      "A value is trying to be set on a copy of a slice from a DataFrame.\n",
      "Try using .loc[row_indexer,col_indexer] = value instead\n",
      "\n",
      "See the caveats in the documentation: https://pandas.pydata.org/pandas-docs/stable/user_guide/indexing.html#returning-a-view-versus-a-copy\n",
      "  original_df[columns_to_normalize] = normalized_df\n"
     ]
    },
    {
     "name": "stdout",
     "output_type": "stream",
     "text": [
      "1M1PN4GY8LM006841 87\n"
     ]
    },
    {
     "name": "stderr",
     "output_type": "stream",
     "text": [
      "/tmp/ipykernel_1168028/1295774049.py:73: FutureWarning: Downcasting behavior in `replace` is deprecated and will be removed in a future version. To retain the old behavior, explicitly call `result.infer_objects(copy=False)`. To opt-in to the future behavior, set `pd.set_option('future.no_silent_downcasting', True)`\n",
      "  std_replaced = std.replace(0, 1)\n",
      "/tmp/ipykernel_1168028/1295774049.py:77: SettingWithCopyWarning: \n",
      "A value is trying to be set on a copy of a slice from a DataFrame.\n",
      "Try using .loc[row_indexer,col_indexer] = value instead\n",
      "\n",
      "See the caveats in the documentation: https://pandas.pydata.org/pandas-docs/stable/user_guide/indexing.html#returning-a-view-versus-a-copy\n",
      "  original_df[columns_to_normalize] = normalized_df\n"
     ]
    },
    {
     "name": "stdout",
     "output_type": "stream",
     "text": [
      "1M1PN4GY8MM007909 88\n"
     ]
    },
    {
     "name": "stderr",
     "output_type": "stream",
     "text": [
      "/tmp/ipykernel_1168028/1295774049.py:73: FutureWarning: Downcasting behavior in `replace` is deprecated and will be removed in a future version. To retain the old behavior, explicitly call `result.infer_objects(copy=False)`. To opt-in to the future behavior, set `pd.set_option('future.no_silent_downcasting', True)`\n",
      "  std_replaced = std.replace(0, 1)\n",
      "/tmp/ipykernel_1168028/1295774049.py:77: SettingWithCopyWarning: \n",
      "A value is trying to be set on a copy of a slice from a DataFrame.\n",
      "Try using .loc[row_indexer,col_indexer] = value instead\n",
      "\n",
      "See the caveats in the documentation: https://pandas.pydata.org/pandas-docs/stable/user_guide/indexing.html#returning-a-view-versus-a-copy\n",
      "  original_df[columns_to_normalize] = normalized_df\n"
     ]
    },
    {
     "name": "stdout",
     "output_type": "stream",
     "text": [
      "1M1PN4GY9LM001762 89\n"
     ]
    },
    {
     "name": "stderr",
     "output_type": "stream",
     "text": [
      "/tmp/ipykernel_1168028/1295774049.py:73: FutureWarning: Downcasting behavior in `replace` is deprecated and will be removed in a future version. To retain the old behavior, explicitly call `result.infer_objects(copy=False)`. To opt-in to the future behavior, set `pd.set_option('future.no_silent_downcasting', True)`\n",
      "  std_replaced = std.replace(0, 1)\n",
      "/tmp/ipykernel_1168028/1295774049.py:77: SettingWithCopyWarning: \n",
      "A value is trying to be set on a copy of a slice from a DataFrame.\n",
      "Try using .loc[row_indexer,col_indexer] = value instead\n",
      "\n",
      "See the caveats in the documentation: https://pandas.pydata.org/pandas-docs/stable/user_guide/indexing.html#returning-a-view-versus-a-copy\n",
      "  original_df[columns_to_normalize] = normalized_df\n"
     ]
    },
    {
     "name": "stdout",
     "output_type": "stream",
     "text": [
      "1M1PN4GY9LM005262 90\n"
     ]
    },
    {
     "name": "stderr",
     "output_type": "stream",
     "text": [
      "/tmp/ipykernel_1168028/1295774049.py:73: FutureWarning: Downcasting behavior in `replace` is deprecated and will be removed in a future version. To retain the old behavior, explicitly call `result.infer_objects(copy=False)`. To opt-in to the future behavior, set `pd.set_option('future.no_silent_downcasting', True)`\n",
      "  std_replaced = std.replace(0, 1)\n",
      "/tmp/ipykernel_1168028/1295774049.py:77: SettingWithCopyWarning: \n",
      "A value is trying to be set on a copy of a slice from a DataFrame.\n",
      "Try using .loc[row_indexer,col_indexer] = value instead\n",
      "\n",
      "See the caveats in the documentation: https://pandas.pydata.org/pandas-docs/stable/user_guide/indexing.html#returning-a-view-versus-a-copy\n",
      "  original_df[columns_to_normalize] = normalized_df\n"
     ]
    },
    {
     "name": "stdout",
     "output_type": "stream",
     "text": [
      "1M1PN4GY9MM007823 91\n"
     ]
    },
    {
     "name": "stderr",
     "output_type": "stream",
     "text": [
      "/tmp/ipykernel_1168028/1295774049.py:73: FutureWarning: Downcasting behavior in `replace` is deprecated and will be removed in a future version. To retain the old behavior, explicitly call `result.infer_objects(copy=False)`. To opt-in to the future behavior, set `pd.set_option('future.no_silent_downcasting', True)`\n",
      "  std_replaced = std.replace(0, 1)\n",
      "/tmp/ipykernel_1168028/1295774049.py:77: SettingWithCopyWarning: \n",
      "A value is trying to be set on a copy of a slice from a DataFrame.\n",
      "Try using .loc[row_indexer,col_indexer] = value instead\n",
      "\n",
      "See the caveats in the documentation: https://pandas.pydata.org/pandas-docs/stable/user_guide/indexing.html#returning-a-view-versus-a-copy\n",
      "  original_df[columns_to_normalize] = normalized_df\n"
     ]
    },
    {
     "name": "stdout",
     "output_type": "stream",
     "text": [
      "1M1PN4GY9NM009511 92\n"
     ]
    },
    {
     "name": "stderr",
     "output_type": "stream",
     "text": [
      "/tmp/ipykernel_1168028/1295774049.py:73: FutureWarning: Downcasting behavior in `replace` is deprecated and will be removed in a future version. To retain the old behavior, explicitly call `result.infer_objects(copy=False)`. To opt-in to the future behavior, set `pd.set_option('future.no_silent_downcasting', True)`\n",
      "  std_replaced = std.replace(0, 1)\n",
      "/tmp/ipykernel_1168028/1295774049.py:77: SettingWithCopyWarning: \n",
      "A value is trying to be set on a copy of a slice from a DataFrame.\n",
      "Try using .loc[row_indexer,col_indexer] = value instead\n",
      "\n",
      "See the caveats in the documentation: https://pandas.pydata.org/pandas-docs/stable/user_guide/indexing.html#returning-a-view-versus-a-copy\n",
      "  original_df[columns_to_normalize] = normalized_df\n"
     ]
    },
    {
     "name": "stdout",
     "output_type": "stream",
     "text": [
      "1M2AN07C1HM026192 93\n"
     ]
    },
    {
     "name": "stderr",
     "output_type": "stream",
     "text": [
      "/tmp/ipykernel_1168028/1295774049.py:73: FutureWarning: Downcasting behavior in `replace` is deprecated and will be removed in a future version. To retain the old behavior, explicitly call `result.infer_objects(copy=False)`. To opt-in to the future behavior, set `pd.set_option('future.no_silent_downcasting', True)`\n",
      "  std_replaced = std.replace(0, 1)\n",
      "/tmp/ipykernel_1168028/1295774049.py:77: SettingWithCopyWarning: \n",
      "A value is trying to be set on a copy of a slice from a DataFrame.\n",
      "Try using .loc[row_indexer,col_indexer] = value instead\n",
      "\n",
      "See the caveats in the documentation: https://pandas.pydata.org/pandas-docs/stable/user_guide/indexing.html#returning-a-view-versus-a-copy\n",
      "  original_df[columns_to_normalize] = normalized_df\n"
     ]
    },
    {
     "name": "stdout",
     "output_type": "stream",
     "text": [
      "1M2AN07Y7FM018865 94\n"
     ]
    },
    {
     "name": "stderr",
     "output_type": "stream",
     "text": [
      "/tmp/ipykernel_1168028/1295774049.py:73: FutureWarning: Downcasting behavior in `replace` is deprecated and will be removed in a future version. To retain the old behavior, explicitly call `result.infer_objects(copy=False)`. To opt-in to the future behavior, set `pd.set_option('future.no_silent_downcasting', True)`\n",
      "  std_replaced = std.replace(0, 1)\n",
      "/tmp/ipykernel_1168028/1295774049.py:77: SettingWithCopyWarning: \n",
      "A value is trying to be set on a copy of a slice from a DataFrame.\n",
      "Try using .loc[row_indexer,col_indexer] = value instead\n",
      "\n",
      "See the caveats in the documentation: https://pandas.pydata.org/pandas-docs/stable/user_guide/indexing.html#returning-a-view-versus-a-copy\n",
      "  original_df[columns_to_normalize] = normalized_df\n"
     ]
    },
    {
     "name": "stdout",
     "output_type": "stream",
     "text": [
      "1M2AN07YXFM018004 95\n"
     ]
    },
    {
     "name": "stderr",
     "output_type": "stream",
     "text": [
      "/tmp/ipykernel_1168028/1295774049.py:73: FutureWarning: Downcasting behavior in `replace` is deprecated and will be removed in a future version. To retain the old behavior, explicitly call `result.infer_objects(copy=False)`. To opt-in to the future behavior, set `pd.set_option('future.no_silent_downcasting', True)`\n",
      "  std_replaced = std.replace(0, 1)\n",
      "/tmp/ipykernel_1168028/1295774049.py:77: SettingWithCopyWarning: \n",
      "A value is trying to be set on a copy of a slice from a DataFrame.\n",
      "Try using .loc[row_indexer,col_indexer] = value instead\n",
      "\n",
      "See the caveats in the documentation: https://pandas.pydata.org/pandas-docs/stable/user_guide/indexing.html#returning-a-view-versus-a-copy\n",
      "  original_df[columns_to_normalize] = normalized_df\n"
     ]
    },
    {
     "name": "stdout",
     "output_type": "stream",
     "text": [
      "1M2AU02C8FM009137 96\n"
     ]
    },
    {
     "name": "stderr",
     "output_type": "stream",
     "text": [
      "/tmp/ipykernel_1168028/1295774049.py:73: FutureWarning: Downcasting behavior in `replace` is deprecated and will be removed in a future version. To retain the old behavior, explicitly call `result.infer_objects(copy=False)`. To opt-in to the future behavior, set `pd.set_option('future.no_silent_downcasting', True)`\n",
      "  std_replaced = std.replace(0, 1)\n",
      "/tmp/ipykernel_1168028/1295774049.py:77: SettingWithCopyWarning: \n",
      "A value is trying to be set on a copy of a slice from a DataFrame.\n",
      "Try using .loc[row_indexer,col_indexer] = value instead\n",
      "\n",
      "See the caveats in the documentation: https://pandas.pydata.org/pandas-docs/stable/user_guide/indexing.html#returning-a-view-versus-a-copy\n",
      "  original_df[columns_to_normalize] = normalized_df\n"
     ]
    },
    {
     "name": "stdout",
     "output_type": "stream",
     "text": [
      "1M2AU02CXFM009642 97\n"
     ]
    },
    {
     "name": "stderr",
     "output_type": "stream",
     "text": [
      "/tmp/ipykernel_1168028/1295774049.py:73: FutureWarning: Downcasting behavior in `replace` is deprecated and will be removed in a future version. To retain the old behavior, explicitly call `result.infer_objects(copy=False)`. To opt-in to the future behavior, set `pd.set_option('future.no_silent_downcasting', True)`\n",
      "  std_replaced = std.replace(0, 1)\n",
      "/tmp/ipykernel_1168028/1295774049.py:77: SettingWithCopyWarning: \n",
      "A value is trying to be set on a copy of a slice from a DataFrame.\n",
      "Try using .loc[row_indexer,col_indexer] = value instead\n",
      "\n",
      "See the caveats in the documentation: https://pandas.pydata.org/pandas-docs/stable/user_guide/indexing.html#returning-a-view-versus-a-copy\n",
      "  original_df[columns_to_normalize] = normalized_df\n"
     ]
    },
    {
     "name": "stdout",
     "output_type": "stream",
     "text": [
      "1M2AU04C8GM010383 98\n"
     ]
    },
    {
     "name": "stderr",
     "output_type": "stream",
     "text": [
      "/tmp/ipykernel_1168028/1295774049.py:73: FutureWarning: Downcasting behavior in `replace` is deprecated and will be removed in a future version. To retain the old behavior, explicitly call `result.infer_objects(copy=False)`. To opt-in to the future behavior, set `pd.set_option('future.no_silent_downcasting', True)`\n",
      "  std_replaced = std.replace(0, 1)\n",
      "/tmp/ipykernel_1168028/1295774049.py:77: SettingWithCopyWarning: \n",
      "A value is trying to be set on a copy of a slice from a DataFrame.\n",
      "Try using .loc[row_indexer,col_indexer] = value instead\n",
      "\n",
      "See the caveats in the documentation: https://pandas.pydata.org/pandas-docs/stable/user_guide/indexing.html#returning-a-view-versus-a-copy\n",
      "  original_df[columns_to_normalize] = normalized_df\n"
     ]
    },
    {
     "name": "stdout",
     "output_type": "stream",
     "text": [
      "1M2AV01C3JM001423 99\n"
     ]
    },
    {
     "name": "stderr",
     "output_type": "stream",
     "text": [
      "/tmp/ipykernel_1168028/1295774049.py:73: FutureWarning: Downcasting behavior in `replace` is deprecated and will be removed in a future version. To retain the old behavior, explicitly call `result.infer_objects(copy=False)`. To opt-in to the future behavior, set `pd.set_option('future.no_silent_downcasting', True)`\n",
      "  std_replaced = std.replace(0, 1)\n",
      "/tmp/ipykernel_1168028/1295774049.py:77: SettingWithCopyWarning: \n",
      "A value is trying to be set on a copy of a slice from a DataFrame.\n",
      "Try using .loc[row_indexer,col_indexer] = value instead\n",
      "\n",
      "See the caveats in the documentation: https://pandas.pydata.org/pandas-docs/stable/user_guide/indexing.html#returning-a-view-versus-a-copy\n",
      "  original_df[columns_to_normalize] = normalized_df\n"
     ]
    },
    {
     "name": "stdout",
     "output_type": "stream",
     "text": [
      "1M2AV02C2FM013410 100\n"
     ]
    },
    {
     "name": "stderr",
     "output_type": "stream",
     "text": [
      "/tmp/ipykernel_1168028/1295774049.py:73: FutureWarning: Downcasting behavior in `replace` is deprecated and will be removed in a future version. To retain the old behavior, explicitly call `result.infer_objects(copy=False)`. To opt-in to the future behavior, set `pd.set_option('future.no_silent_downcasting', True)`\n",
      "  std_replaced = std.replace(0, 1)\n",
      "/tmp/ipykernel_1168028/1295774049.py:77: SettingWithCopyWarning: \n",
      "A value is trying to be set on a copy of a slice from a DataFrame.\n",
      "Try using .loc[row_indexer,col_indexer] = value instead\n",
      "\n",
      "See the caveats in the documentation: https://pandas.pydata.org/pandas-docs/stable/user_guide/indexing.html#returning-a-view-versus-a-copy\n",
      "  original_df[columns_to_normalize] = normalized_df\n"
     ]
    },
    {
     "name": "stdout",
     "output_type": "stream",
     "text": [
      "1M2AV02C2GM016065 101\n"
     ]
    },
    {
     "name": "stderr",
     "output_type": "stream",
     "text": [
      "/tmp/ipykernel_1168028/1295774049.py:73: FutureWarning: Downcasting behavior in `replace` is deprecated and will be removed in a future version. To retain the old behavior, explicitly call `result.infer_objects(copy=False)`. To opt-in to the future behavior, set `pd.set_option('future.no_silent_downcasting', True)`\n",
      "  std_replaced = std.replace(0, 1)\n",
      "/tmp/ipykernel_1168028/1295774049.py:77: SettingWithCopyWarning: \n",
      "A value is trying to be set on a copy of a slice from a DataFrame.\n",
      "Try using .loc[row_indexer,col_indexer] = value instead\n",
      "\n",
      "See the caveats in the documentation: https://pandas.pydata.org/pandas-docs/stable/user_guide/indexing.html#returning-a-view-versus-a-copy\n",
      "  original_df[columns_to_normalize] = normalized_df\n"
     ]
    },
    {
     "name": "stdout",
     "output_type": "stream",
     "text": [
      "1M2AV02C7FM012415 102\n"
     ]
    },
    {
     "name": "stderr",
     "output_type": "stream",
     "text": [
      "/tmp/ipykernel_1168028/1295774049.py:73: FutureWarning: Downcasting behavior in `replace` is deprecated and will be removed in a future version. To retain the old behavior, explicitly call `result.infer_objects(copy=False)`. To opt-in to the future behavior, set `pd.set_option('future.no_silent_downcasting', True)`\n",
      "  std_replaced = std.replace(0, 1)\n",
      "/tmp/ipykernel_1168028/1295774049.py:77: SettingWithCopyWarning: \n",
      "A value is trying to be set on a copy of a slice from a DataFrame.\n",
      "Try using .loc[row_indexer,col_indexer] = value instead\n",
      "\n",
      "See the caveats in the documentation: https://pandas.pydata.org/pandas-docs/stable/user_guide/indexing.html#returning-a-view-versus-a-copy\n",
      "  original_df[columns_to_normalize] = normalized_df\n"
     ]
    },
    {
     "name": "stdout",
     "output_type": "stream",
     "text": [
      "1M2AV02C7GM014053 103\n"
     ]
    },
    {
     "name": "stderr",
     "output_type": "stream",
     "text": [
      "/tmp/ipykernel_1168028/1295774049.py:73: FutureWarning: Downcasting behavior in `replace` is deprecated and will be removed in a future version. To retain the old behavior, explicitly call `result.infer_objects(copy=False)`. To opt-in to the future behavior, set `pd.set_option('future.no_silent_downcasting', True)`\n",
      "  std_replaced = std.replace(0, 1)\n",
      "/tmp/ipykernel_1168028/1295774049.py:77: SettingWithCopyWarning: \n",
      "A value is trying to be set on a copy of a slice from a DataFrame.\n",
      "Try using .loc[row_indexer,col_indexer] = value instead\n",
      "\n",
      "See the caveats in the documentation: https://pandas.pydata.org/pandas-docs/stable/user_guide/indexing.html#returning-a-view-versus-a-copy\n",
      "  original_df[columns_to_normalize] = normalized_df\n"
     ]
    },
    {
     "name": "stdout",
     "output_type": "stream",
     "text": [
      "1M2AV02C8FM012892 104\n"
     ]
    },
    {
     "name": "stderr",
     "output_type": "stream",
     "text": [
      "/tmp/ipykernel_1168028/1295774049.py:73: FutureWarning: Downcasting behavior in `replace` is deprecated and will be removed in a future version. To retain the old behavior, explicitly call `result.infer_objects(copy=False)`. To opt-in to the future behavior, set `pd.set_option('future.no_silent_downcasting', True)`\n",
      "  std_replaced = std.replace(0, 1)\n",
      "/tmp/ipykernel_1168028/1295774049.py:77: SettingWithCopyWarning: \n",
      "A value is trying to be set on a copy of a slice from a DataFrame.\n",
      "Try using .loc[row_indexer,col_indexer] = value instead\n",
      "\n",
      "See the caveats in the documentation: https://pandas.pydata.org/pandas-docs/stable/user_guide/indexing.html#returning-a-view-versus-a-copy\n",
      "  original_df[columns_to_normalize] = normalized_df\n"
     ]
    },
    {
     "name": "stdout",
     "output_type": "stream",
     "text": [
      "1M2AV04C1GM014711 105\n"
     ]
    },
    {
     "name": "stderr",
     "output_type": "stream",
     "text": [
      "/tmp/ipykernel_1168028/1295774049.py:73: FutureWarning: Downcasting behavior in `replace` is deprecated and will be removed in a future version. To retain the old behavior, explicitly call `result.infer_objects(copy=False)`. To opt-in to the future behavior, set `pd.set_option('future.no_silent_downcasting', True)`\n",
      "  std_replaced = std.replace(0, 1)\n",
      "/tmp/ipykernel_1168028/1295774049.py:77: SettingWithCopyWarning: \n",
      "A value is trying to be set on a copy of a slice from a DataFrame.\n",
      "Try using .loc[row_indexer,col_indexer] = value instead\n",
      "\n",
      "See the caveats in the documentation: https://pandas.pydata.org/pandas-docs/stable/user_guide/indexing.html#returning-a-view-versus-a-copy\n",
      "  original_df[columns_to_normalize] = normalized_df\n"
     ]
    },
    {
     "name": "stdout",
     "output_type": "stream",
     "text": [
      "1M2AV04C1JM018023 106\n"
     ]
    },
    {
     "name": "stderr",
     "output_type": "stream",
     "text": [
      "/tmp/ipykernel_1168028/1295774049.py:73: FutureWarning: Downcasting behavior in `replace` is deprecated and will be removed in a future version. To retain the old behavior, explicitly call `result.infer_objects(copy=False)`. To opt-in to the future behavior, set `pd.set_option('future.no_silent_downcasting', True)`\n",
      "  std_replaced = std.replace(0, 1)\n",
      "/tmp/ipykernel_1168028/1295774049.py:77: SettingWithCopyWarning: \n",
      "A value is trying to be set on a copy of a slice from a DataFrame.\n",
      "Try using .loc[row_indexer,col_indexer] = value instead\n",
      "\n",
      "See the caveats in the documentation: https://pandas.pydata.org/pandas-docs/stable/user_guide/indexing.html#returning-a-view-versus-a-copy\n",
      "  original_df[columns_to_normalize] = normalized_df\n"
     ]
    },
    {
     "name": "stdout",
     "output_type": "stream",
     "text": [
      "1M2AV04C1JM019687 107\n"
     ]
    },
    {
     "name": "stderr",
     "output_type": "stream",
     "text": [
      "/tmp/ipykernel_1168028/1295774049.py:73: FutureWarning: Downcasting behavior in `replace` is deprecated and will be removed in a future version. To retain the old behavior, explicitly call `result.infer_objects(copy=False)`. To opt-in to the future behavior, set `pd.set_option('future.no_silent_downcasting', True)`\n",
      "  std_replaced = std.replace(0, 1)\n",
      "/tmp/ipykernel_1168028/1295774049.py:77: SettingWithCopyWarning: \n",
      "A value is trying to be set on a copy of a slice from a DataFrame.\n",
      "Try using .loc[row_indexer,col_indexer] = value instead\n",
      "\n",
      "See the caveats in the documentation: https://pandas.pydata.org/pandas-docs/stable/user_guide/indexing.html#returning-a-view-versus-a-copy\n",
      "  original_df[columns_to_normalize] = normalized_df\n"
     ]
    },
    {
     "name": "stdout",
     "output_type": "stream",
     "text": [
      "1M2AV04C4JM017884 108\n"
     ]
    },
    {
     "name": "stderr",
     "output_type": "stream",
     "text": [
      "/tmp/ipykernel_1168028/1295774049.py:73: FutureWarning: Downcasting behavior in `replace` is deprecated and will be removed in a future version. To retain the old behavior, explicitly call `result.infer_objects(copy=False)`. To opt-in to the future behavior, set `pd.set_option('future.no_silent_downcasting', True)`\n",
      "  std_replaced = std.replace(0, 1)\n",
      "/tmp/ipykernel_1168028/1295774049.py:77: SettingWithCopyWarning: \n",
      "A value is trying to be set on a copy of a slice from a DataFrame.\n",
      "Try using .loc[row_indexer,col_indexer] = value instead\n",
      "\n",
      "See the caveats in the documentation: https://pandas.pydata.org/pandas-docs/stable/user_guide/indexing.html#returning-a-view-versus-a-copy\n",
      "  original_df[columns_to_normalize] = normalized_df\n"
     ]
    },
    {
     "name": "stdout",
     "output_type": "stream",
     "text": [
      "1M2AV04C5JM017604 109\n"
     ]
    },
    {
     "name": "stderr",
     "output_type": "stream",
     "text": [
      "/tmp/ipykernel_1168028/1295774049.py:73: FutureWarning: Downcasting behavior in `replace` is deprecated and will be removed in a future version. To retain the old behavior, explicitly call `result.infer_objects(copy=False)`. To opt-in to the future behavior, set `pd.set_option('future.no_silent_downcasting', True)`\n",
      "  std_replaced = std.replace(0, 1)\n",
      "/tmp/ipykernel_1168028/1295774049.py:77: SettingWithCopyWarning: \n",
      "A value is trying to be set on a copy of a slice from a DataFrame.\n",
      "Try using .loc[row_indexer,col_indexer] = value instead\n",
      "\n",
      "See the caveats in the documentation: https://pandas.pydata.org/pandas-docs/stable/user_guide/indexing.html#returning-a-view-versus-a-copy\n",
      "  original_df[columns_to_normalize] = normalized_df\n"
     ]
    },
    {
     "name": "stdout",
     "output_type": "stream",
     "text": [
      "1M2AV04C5JM018820 110\n"
     ]
    },
    {
     "name": "stderr",
     "output_type": "stream",
     "text": [
      "/tmp/ipykernel_1168028/1295774049.py:73: FutureWarning: Downcasting behavior in `replace` is deprecated and will be removed in a future version. To retain the old behavior, explicitly call `result.infer_objects(copy=False)`. To opt-in to the future behavior, set `pd.set_option('future.no_silent_downcasting', True)`\n",
      "  std_replaced = std.replace(0, 1)\n",
      "/tmp/ipykernel_1168028/1295774049.py:77: SettingWithCopyWarning: \n",
      "A value is trying to be set on a copy of a slice from a DataFrame.\n",
      "Try using .loc[row_indexer,col_indexer] = value instead\n",
      "\n",
      "See the caveats in the documentation: https://pandas.pydata.org/pandas-docs/stable/user_guide/indexing.html#returning-a-view-versus-a-copy\n",
      "  original_df[columns_to_normalize] = normalized_df\n"
     ]
    },
    {
     "name": "stdout",
     "output_type": "stream",
     "text": [
      "1M2AV04C6JM018406 111\n"
     ]
    },
    {
     "name": "stderr",
     "output_type": "stream",
     "text": [
      "/tmp/ipykernel_1168028/1295774049.py:73: FutureWarning: Downcasting behavior in `replace` is deprecated and will be removed in a future version. To retain the old behavior, explicitly call `result.infer_objects(copy=False)`. To opt-in to the future behavior, set `pd.set_option('future.no_silent_downcasting', True)`\n",
      "  std_replaced = std.replace(0, 1)\n",
      "/tmp/ipykernel_1168028/1295774049.py:77: SettingWithCopyWarning: \n",
      "A value is trying to be set on a copy of a slice from a DataFrame.\n",
      "Try using .loc[row_indexer,col_indexer] = value instead\n",
      "\n",
      "See the caveats in the documentation: https://pandas.pydata.org/pandas-docs/stable/user_guide/indexing.html#returning-a-view-versus-a-copy\n",
      "  original_df[columns_to_normalize] = normalized_df\n"
     ]
    },
    {
     "name": "stdout",
     "output_type": "stream",
     "text": [
      "1M2AV04C6JM018471 112\n"
     ]
    },
    {
     "name": "stderr",
     "output_type": "stream",
     "text": [
      "/tmp/ipykernel_1168028/1295774049.py:73: FutureWarning: Downcasting behavior in `replace` is deprecated and will be removed in a future version. To retain the old behavior, explicitly call `result.infer_objects(copy=False)`. To opt-in to the future behavior, set `pd.set_option('future.no_silent_downcasting', True)`\n",
      "  std_replaced = std.replace(0, 1)\n",
      "/tmp/ipykernel_1168028/1295774049.py:77: SettingWithCopyWarning: \n",
      "A value is trying to be set on a copy of a slice from a DataFrame.\n",
      "Try using .loc[row_indexer,col_indexer] = value instead\n",
      "\n",
      "See the caveats in the documentation: https://pandas.pydata.org/pandas-docs/stable/user_guide/indexing.html#returning-a-view-versus-a-copy\n",
      "  original_df[columns_to_normalize] = normalized_df\n"
     ]
    },
    {
     "name": "stdout",
     "output_type": "stream",
     "text": [
      "1M2AV04C7JM016650 113\n"
     ]
    },
    {
     "name": "stderr",
     "output_type": "stream",
     "text": [
      "/tmp/ipykernel_1168028/1295774049.py:73: FutureWarning: Downcasting behavior in `replace` is deprecated and will be removed in a future version. To retain the old behavior, explicitly call `result.infer_objects(copy=False)`. To opt-in to the future behavior, set `pd.set_option('future.no_silent_downcasting', True)`\n",
      "  std_replaced = std.replace(0, 1)\n",
      "/tmp/ipykernel_1168028/1295774049.py:77: SettingWithCopyWarning: \n",
      "A value is trying to be set on a copy of a slice from a DataFrame.\n",
      "Try using .loc[row_indexer,col_indexer] = value instead\n",
      "\n",
      "See the caveats in the documentation: https://pandas.pydata.org/pandas-docs/stable/user_guide/indexing.html#returning-a-view-versus-a-copy\n",
      "  original_df[columns_to_normalize] = normalized_df\n"
     ]
    },
    {
     "name": "stdout",
     "output_type": "stream",
     "text": [
      "1M2AV04C9GM014178 114\n"
     ]
    },
    {
     "name": "stderr",
     "output_type": "stream",
     "text": [
      "/tmp/ipykernel_1168028/1295774049.py:73: FutureWarning: Downcasting behavior in `replace` is deprecated and will be removed in a future version. To retain the old behavior, explicitly call `result.infer_objects(copy=False)`. To opt-in to the future behavior, set `pd.set_option('future.no_silent_downcasting', True)`\n",
      "  std_replaced = std.replace(0, 1)\n",
      "/tmp/ipykernel_1168028/1295774049.py:77: SettingWithCopyWarning: \n",
      "A value is trying to be set on a copy of a slice from a DataFrame.\n",
      "Try using .loc[row_indexer,col_indexer] = value instead\n",
      "\n",
      "See the caveats in the documentation: https://pandas.pydata.org/pandas-docs/stable/user_guide/indexing.html#returning-a-view-versus-a-copy\n",
      "  original_df[columns_to_normalize] = normalized_df\n"
     ]
    },
    {
     "name": "stdout",
     "output_type": "stream",
     "text": [
      "1M2AV04CXFM012065 115\n"
     ]
    },
    {
     "name": "stderr",
     "output_type": "stream",
     "text": [
      "/tmp/ipykernel_1168028/1295774049.py:73: FutureWarning: Downcasting behavior in `replace` is deprecated and will be removed in a future version. To retain the old behavior, explicitly call `result.infer_objects(copy=False)`. To opt-in to the future behavior, set `pd.set_option('future.no_silent_downcasting', True)`\n",
      "  std_replaced = std.replace(0, 1)\n",
      "/tmp/ipykernel_1168028/1295774049.py:77: SettingWithCopyWarning: \n",
      "A value is trying to be set on a copy of a slice from a DataFrame.\n",
      "Try using .loc[row_indexer,col_indexer] = value instead\n",
      "\n",
      "See the caveats in the documentation: https://pandas.pydata.org/pandas-docs/stable/user_guide/indexing.html#returning-a-view-versus-a-copy\n",
      "  original_df[columns_to_normalize] = normalized_df\n"
     ]
    },
    {
     "name": "stdout",
     "output_type": "stream",
     "text": [
      "1M2AV04CXKM019561 116\n"
     ]
    },
    {
     "name": "stderr",
     "output_type": "stream",
     "text": [
      "/tmp/ipykernel_1168028/1295774049.py:73: FutureWarning: Downcasting behavior in `replace` is deprecated and will be removed in a future version. To retain the old behavior, explicitly call `result.infer_objects(copy=False)`. To opt-in to the future behavior, set `pd.set_option('future.no_silent_downcasting', True)`\n",
      "  std_replaced = std.replace(0, 1)\n",
      "/tmp/ipykernel_1168028/1295774049.py:77: SettingWithCopyWarning: \n",
      "A value is trying to be set on a copy of a slice from a DataFrame.\n",
      "Try using .loc[row_indexer,col_indexer] = value instead\n",
      "\n",
      "See the caveats in the documentation: https://pandas.pydata.org/pandas-docs/stable/user_guide/indexing.html#returning-a-view-versus-a-copy\n",
      "  original_df[columns_to_normalize] = normalized_df\n"
     ]
    },
    {
     "name": "stdout",
     "output_type": "stream",
     "text": [
      "1M2AV09C1HM015769 117\n"
     ]
    },
    {
     "name": "stderr",
     "output_type": "stream",
     "text": [
      "/tmp/ipykernel_1168028/1295774049.py:73: FutureWarning: Downcasting behavior in `replace` is deprecated and will be removed in a future version. To retain the old behavior, explicitly call `result.infer_objects(copy=False)`. To opt-in to the future behavior, set `pd.set_option('future.no_silent_downcasting', True)`\n",
      "  std_replaced = std.replace(0, 1)\n",
      "/tmp/ipykernel_1168028/1295774049.py:77: SettingWithCopyWarning: \n",
      "A value is trying to be set on a copy of a slice from a DataFrame.\n",
      "Try using .loc[row_indexer,col_indexer] = value instead\n",
      "\n",
      "See the caveats in the documentation: https://pandas.pydata.org/pandas-docs/stable/user_guide/indexing.html#returning-a-view-versus-a-copy\n",
      "  original_df[columns_to_normalize] = normalized_df\n"
     ]
    },
    {
     "name": "stdout",
     "output_type": "stream",
     "text": [
      "1M2AW02Y1FM048691 118\n"
     ]
    },
    {
     "name": "stderr",
     "output_type": "stream",
     "text": [
      "/tmp/ipykernel_1168028/1295774049.py:73: FutureWarning: Downcasting behavior in `replace` is deprecated and will be removed in a future version. To retain the old behavior, explicitly call `result.infer_objects(copy=False)`. To opt-in to the future behavior, set `pd.set_option('future.no_silent_downcasting', True)`\n",
      "  std_replaced = std.replace(0, 1)\n",
      "/tmp/ipykernel_1168028/1295774049.py:77: SettingWithCopyWarning: \n",
      "A value is trying to be set on a copy of a slice from a DataFrame.\n",
      "Try using .loc[row_indexer,col_indexer] = value instead\n",
      "\n",
      "See the caveats in the documentation: https://pandas.pydata.org/pandas-docs/stable/user_guide/indexing.html#returning-a-view-versus-a-copy\n",
      "  original_df[columns_to_normalize] = normalized_df\n"
     ]
    },
    {
     "name": "stdout",
     "output_type": "stream",
     "text": [
      "1M2AX02C8FM002082 119\n"
     ]
    },
    {
     "name": "stderr",
     "output_type": "stream",
     "text": [
      "/tmp/ipykernel_1168028/1295774049.py:73: FutureWarning: Downcasting behavior in `replace` is deprecated and will be removed in a future version. To retain the old behavior, explicitly call `result.infer_objects(copy=False)`. To opt-in to the future behavior, set `pd.set_option('future.no_silent_downcasting', True)`\n",
      "  std_replaced = std.replace(0, 1)\n",
      "/tmp/ipykernel_1168028/1295774049.py:77: SettingWithCopyWarning: \n",
      "A value is trying to be set on a copy of a slice from a DataFrame.\n",
      "Try using .loc[row_indexer,col_indexer] = value instead\n",
      "\n",
      "See the caveats in the documentation: https://pandas.pydata.org/pandas-docs/stable/user_guide/indexing.html#returning-a-view-versus-a-copy\n",
      "  original_df[columns_to_normalize] = normalized_df\n"
     ]
    },
    {
     "name": "stdout",
     "output_type": "stream",
     "text": [
      "1M2AX04C3FM022608 120\n"
     ]
    },
    {
     "name": "stderr",
     "output_type": "stream",
     "text": [
      "/tmp/ipykernel_1168028/1295774049.py:73: FutureWarning: Downcasting behavior in `replace` is deprecated and will be removed in a future version. To retain the old behavior, explicitly call `result.infer_objects(copy=False)`. To opt-in to the future behavior, set `pd.set_option('future.no_silent_downcasting', True)`\n",
      "  std_replaced = std.replace(0, 1)\n",
      "/tmp/ipykernel_1168028/1295774049.py:77: SettingWithCopyWarning: \n",
      "A value is trying to be set on a copy of a slice from a DataFrame.\n",
      "Try using .loc[row_indexer,col_indexer] = value instead\n",
      "\n",
      "See the caveats in the documentation: https://pandas.pydata.org/pandas-docs/stable/user_guide/indexing.html#returning-a-view-versus-a-copy\n",
      "  original_df[columns_to_normalize] = normalized_df\n"
     ]
    },
    {
     "name": "stdout",
     "output_type": "stream",
     "text": [
      "1M2AX04C4FM024643 121\n"
     ]
    },
    {
     "name": "stderr",
     "output_type": "stream",
     "text": [
      "/tmp/ipykernel_1168028/1295774049.py:73: FutureWarning: Downcasting behavior in `replace` is deprecated and will be removed in a future version. To retain the old behavior, explicitly call `result.infer_objects(copy=False)`. To opt-in to the future behavior, set `pd.set_option('future.no_silent_downcasting', True)`\n",
      "  std_replaced = std.replace(0, 1)\n",
      "/tmp/ipykernel_1168028/1295774049.py:77: SettingWithCopyWarning: \n",
      "A value is trying to be set on a copy of a slice from a DataFrame.\n",
      "Try using .loc[row_indexer,col_indexer] = value instead\n",
      "\n",
      "See the caveats in the documentation: https://pandas.pydata.org/pandas-docs/stable/user_guide/indexing.html#returning-a-view-versus-a-copy\n",
      "  original_df[columns_to_normalize] = normalized_df\n"
     ]
    },
    {
     "name": "stdout",
     "output_type": "stream",
     "text": [
      "1M2AX04C4FM024934 122\n"
     ]
    },
    {
     "name": "stderr",
     "output_type": "stream",
     "text": [
      "/tmp/ipykernel_1168028/1295774049.py:73: FutureWarning: Downcasting behavior in `replace` is deprecated and will be removed in a future version. To retain the old behavior, explicitly call `result.infer_objects(copy=False)`. To opt-in to the future behavior, set `pd.set_option('future.no_silent_downcasting', True)`\n",
      "  std_replaced = std.replace(0, 1)\n",
      "/tmp/ipykernel_1168028/1295774049.py:77: SettingWithCopyWarning: \n",
      "A value is trying to be set on a copy of a slice from a DataFrame.\n",
      "Try using .loc[row_indexer,col_indexer] = value instead\n",
      "\n",
      "See the caveats in the documentation: https://pandas.pydata.org/pandas-docs/stable/user_guide/indexing.html#returning-a-view-versus-a-copy\n",
      "  original_df[columns_to_normalize] = normalized_df\n"
     ]
    },
    {
     "name": "stdout",
     "output_type": "stream",
     "text": [
      "1M2AX04C5GM031795 123\n"
     ]
    },
    {
     "name": "stderr",
     "output_type": "stream",
     "text": [
      "/tmp/ipykernel_1168028/1295774049.py:73: FutureWarning: Downcasting behavior in `replace` is deprecated and will be removed in a future version. To retain the old behavior, explicitly call `result.infer_objects(copy=False)`. To opt-in to the future behavior, set `pd.set_option('future.no_silent_downcasting', True)`\n",
      "  std_replaced = std.replace(0, 1)\n",
      "/tmp/ipykernel_1168028/1295774049.py:77: SettingWithCopyWarning: \n",
      "A value is trying to be set on a copy of a slice from a DataFrame.\n",
      "Try using .loc[row_indexer,col_indexer] = value instead\n",
      "\n",
      "See the caveats in the documentation: https://pandas.pydata.org/pandas-docs/stable/user_guide/indexing.html#returning-a-view-versus-a-copy\n",
      "  original_df[columns_to_normalize] = normalized_df\n"
     ]
    },
    {
     "name": "stdout",
     "output_type": "stream",
     "text": [
      "1M2AX04C7FM025012 124\n"
     ]
    },
    {
     "name": "stderr",
     "output_type": "stream",
     "text": [
      "/tmp/ipykernel_1168028/1295774049.py:73: FutureWarning: Downcasting behavior in `replace` is deprecated and will be removed in a future version. To retain the old behavior, explicitly call `result.infer_objects(copy=False)`. To opt-in to the future behavior, set `pd.set_option('future.no_silent_downcasting', True)`\n",
      "  std_replaced = std.replace(0, 1)\n",
      "/tmp/ipykernel_1168028/1295774049.py:77: SettingWithCopyWarning: \n",
      "A value is trying to be set on a copy of a slice from a DataFrame.\n",
      "Try using .loc[row_indexer,col_indexer] = value instead\n",
      "\n",
      "See the caveats in the documentation: https://pandas.pydata.org/pandas-docs/stable/user_guide/indexing.html#returning-a-view-versus-a-copy\n",
      "  original_df[columns_to_normalize] = normalized_df\n"
     ]
    },
    {
     "name": "stdout",
     "output_type": "stream",
     "text": [
      "1M2AX04C9FM021446 125\n"
     ]
    },
    {
     "name": "stderr",
     "output_type": "stream",
     "text": [
      "/tmp/ipykernel_1168028/1295774049.py:73: FutureWarning: Downcasting behavior in `replace` is deprecated and will be removed in a future version. To retain the old behavior, explicitly call `result.infer_objects(copy=False)`. To opt-in to the future behavior, set `pd.set_option('future.no_silent_downcasting', True)`\n",
      "  std_replaced = std.replace(0, 1)\n",
      "/tmp/ipykernel_1168028/1295774049.py:77: SettingWithCopyWarning: \n",
      "A value is trying to be set on a copy of a slice from a DataFrame.\n",
      "Try using .loc[row_indexer,col_indexer] = value instead\n",
      "\n",
      "See the caveats in the documentation: https://pandas.pydata.org/pandas-docs/stable/user_guide/indexing.html#returning-a-view-versus-a-copy\n",
      "  original_df[columns_to_normalize] = normalized_df\n"
     ]
    },
    {
     "name": "stdout",
     "output_type": "stream",
     "text": [
      "1M2AX07C0HM034679 126\n"
     ]
    },
    {
     "name": "stderr",
     "output_type": "stream",
     "text": [
      "/tmp/ipykernel_1168028/1295774049.py:73: FutureWarning: Downcasting behavior in `replace` is deprecated and will be removed in a future version. To retain the old behavior, explicitly call `result.infer_objects(copy=False)`. To opt-in to the future behavior, set `pd.set_option('future.no_silent_downcasting', True)`\n",
      "  std_replaced = std.replace(0, 1)\n",
      "/tmp/ipykernel_1168028/1295774049.py:77: SettingWithCopyWarning: \n",
      "A value is trying to be set on a copy of a slice from a DataFrame.\n",
      "Try using .loc[row_indexer,col_indexer] = value instead\n",
      "\n",
      "See the caveats in the documentation: https://pandas.pydata.org/pandas-docs/stable/user_guide/indexing.html#returning-a-view-versus-a-copy\n",
      "  original_df[columns_to_normalize] = normalized_df\n"
     ]
    },
    {
     "name": "stdout",
     "output_type": "stream",
     "text": [
      "1M2AX07C2GM028123 127\n"
     ]
    },
    {
     "name": "stderr",
     "output_type": "stream",
     "text": [
      "/tmp/ipykernel_1168028/1295774049.py:73: FutureWarning: Downcasting behavior in `replace` is deprecated and will be removed in a future version. To retain the old behavior, explicitly call `result.infer_objects(copy=False)`. To opt-in to the future behavior, set `pd.set_option('future.no_silent_downcasting', True)`\n",
      "  std_replaced = std.replace(0, 1)\n",
      "/tmp/ipykernel_1168028/1295774049.py:77: SettingWithCopyWarning: \n",
      "A value is trying to be set on a copy of a slice from a DataFrame.\n",
      "Try using .loc[row_indexer,col_indexer] = value instead\n",
      "\n",
      "See the caveats in the documentation: https://pandas.pydata.org/pandas-docs/stable/user_guide/indexing.html#returning-a-view-versus-a-copy\n",
      "  original_df[columns_to_normalize] = normalized_df\n"
     ]
    },
    {
     "name": "stdout",
     "output_type": "stream",
     "text": [
      "1M2AX07C4GM027622 128\n"
     ]
    },
    {
     "name": "stderr",
     "output_type": "stream",
     "text": [
      "/tmp/ipykernel_1168028/1295774049.py:73: FutureWarning: Downcasting behavior in `replace` is deprecated and will be removed in a future version. To retain the old behavior, explicitly call `result.infer_objects(copy=False)`. To opt-in to the future behavior, set `pd.set_option('future.no_silent_downcasting', True)`\n",
      "  std_replaced = std.replace(0, 1)\n",
      "/tmp/ipykernel_1168028/1295774049.py:77: SettingWithCopyWarning: \n",
      "A value is trying to be set on a copy of a slice from a DataFrame.\n",
      "Try using .loc[row_indexer,col_indexer] = value instead\n",
      "\n",
      "See the caveats in the documentation: https://pandas.pydata.org/pandas-docs/stable/user_guide/indexing.html#returning-a-view-versus-a-copy\n",
      "  original_df[columns_to_normalize] = normalized_df\n"
     ]
    },
    {
     "name": "stdout",
     "output_type": "stream",
     "text": [
      "1M2AX07C6FM021965 129\n"
     ]
    },
    {
     "name": "stderr",
     "output_type": "stream",
     "text": [
      "/tmp/ipykernel_1168028/1295774049.py:73: FutureWarning: Downcasting behavior in `replace` is deprecated and will be removed in a future version. To retain the old behavior, explicitly call `result.infer_objects(copy=False)`. To opt-in to the future behavior, set `pd.set_option('future.no_silent_downcasting', True)`\n",
      "  std_replaced = std.replace(0, 1)\n",
      "/tmp/ipykernel_1168028/1295774049.py:77: SettingWithCopyWarning: \n",
      "A value is trying to be set on a copy of a slice from a DataFrame.\n",
      "Try using .loc[row_indexer,col_indexer] = value instead\n",
      "\n",
      "See the caveats in the documentation: https://pandas.pydata.org/pandas-docs/stable/user_guide/indexing.html#returning-a-view-versus-a-copy\n",
      "  original_df[columns_to_normalize] = normalized_df\n"
     ]
    },
    {
     "name": "stdout",
     "output_type": "stream",
     "text": [
      "1M2AX07C6GM028190 130\n"
     ]
    },
    {
     "name": "stderr",
     "output_type": "stream",
     "text": [
      "/tmp/ipykernel_1168028/1295774049.py:73: FutureWarning: Downcasting behavior in `replace` is deprecated and will be removed in a future version. To retain the old behavior, explicitly call `result.infer_objects(copy=False)`. To opt-in to the future behavior, set `pd.set_option('future.no_silent_downcasting', True)`\n",
      "  std_replaced = std.replace(0, 1)\n",
      "/tmp/ipykernel_1168028/1295774049.py:77: SettingWithCopyWarning: \n",
      "A value is trying to be set on a copy of a slice from a DataFrame.\n",
      "Try using .loc[row_indexer,col_indexer] = value instead\n",
      "\n",
      "See the caveats in the documentation: https://pandas.pydata.org/pandas-docs/stable/user_guide/indexing.html#returning-a-view-versus-a-copy\n",
      "  original_df[columns_to_normalize] = normalized_df\n"
     ]
    },
    {
     "name": "stdout",
     "output_type": "stream",
     "text": [
      "1M2AX07C9GM032220 131\n"
     ]
    },
    {
     "name": "stderr",
     "output_type": "stream",
     "text": [
      "/tmp/ipykernel_1168028/1295774049.py:73: FutureWarning: Downcasting behavior in `replace` is deprecated and will be removed in a future version. To retain the old behavior, explicitly call `result.infer_objects(copy=False)`. To opt-in to the future behavior, set `pd.set_option('future.no_silent_downcasting', True)`\n",
      "  std_replaced = std.replace(0, 1)\n",
      "/tmp/ipykernel_1168028/1295774049.py:77: SettingWithCopyWarning: \n",
      "A value is trying to be set on a copy of a slice from a DataFrame.\n",
      "Try using .loc[row_indexer,col_indexer] = value instead\n",
      "\n",
      "See the caveats in the documentation: https://pandas.pydata.org/pandas-docs/stable/user_guide/indexing.html#returning-a-view-versus-a-copy\n",
      "  original_df[columns_to_normalize] = normalized_df\n"
     ]
    },
    {
     "name": "stdout",
     "output_type": "stream",
     "text": [
      "1M2AX07C9HM035345 132\n"
     ]
    },
    {
     "name": "stderr",
     "output_type": "stream",
     "text": [
      "/tmp/ipykernel_1168028/1295774049.py:73: FutureWarning: Downcasting behavior in `replace` is deprecated and will be removed in a future version. To retain the old behavior, explicitly call `result.infer_objects(copy=False)`. To opt-in to the future behavior, set `pd.set_option('future.no_silent_downcasting', True)`\n",
      "  std_replaced = std.replace(0, 1)\n",
      "/tmp/ipykernel_1168028/1295774049.py:77: SettingWithCopyWarning: \n",
      "A value is trying to be set on a copy of a slice from a DataFrame.\n",
      "Try using .loc[row_indexer,col_indexer] = value instead\n",
      "\n",
      "See the caveats in the documentation: https://pandas.pydata.org/pandas-docs/stable/user_guide/indexing.html#returning-a-view-versus-a-copy\n",
      "  original_df[columns_to_normalize] = normalized_df\n"
     ]
    },
    {
     "name": "stdout",
     "output_type": "stream",
     "text": [
      "1M2AX07C9HM035667 133\n"
     ]
    },
    {
     "name": "stderr",
     "output_type": "stream",
     "text": [
      "/tmp/ipykernel_1168028/1295774049.py:73: FutureWarning: Downcasting behavior in `replace` is deprecated and will be removed in a future version. To retain the old behavior, explicitly call `result.infer_objects(copy=False)`. To opt-in to the future behavior, set `pd.set_option('future.no_silent_downcasting', True)`\n",
      "  std_replaced = std.replace(0, 1)\n",
      "/tmp/ipykernel_1168028/1295774049.py:77: SettingWithCopyWarning: \n",
      "A value is trying to be set on a copy of a slice from a DataFrame.\n",
      "Try using .loc[row_indexer,col_indexer] = value instead\n",
      "\n",
      "See the caveats in the documentation: https://pandas.pydata.org/pandas-docs/stable/user_guide/indexing.html#returning-a-view-versus-a-copy\n",
      "  original_df[columns_to_normalize] = normalized_df\n"
     ]
    },
    {
     "name": "stdout",
     "output_type": "stream",
     "text": [
      "1M2AX07C9HM036804 134\n"
     ]
    },
    {
     "name": "stderr",
     "output_type": "stream",
     "text": [
      "/tmp/ipykernel_1168028/1295774049.py:73: FutureWarning: Downcasting behavior in `replace` is deprecated and will be removed in a future version. To retain the old behavior, explicitly call `result.infer_objects(copy=False)`. To opt-in to the future behavior, set `pd.set_option('future.no_silent_downcasting', True)`\n",
      "  std_replaced = std.replace(0, 1)\n",
      "/tmp/ipykernel_1168028/1295774049.py:77: SettingWithCopyWarning: \n",
      "A value is trying to be set on a copy of a slice from a DataFrame.\n",
      "Try using .loc[row_indexer,col_indexer] = value instead\n",
      "\n",
      "See the caveats in the documentation: https://pandas.pydata.org/pandas-docs/stable/user_guide/indexing.html#returning-a-view-versus-a-copy\n",
      "  original_df[columns_to_normalize] = normalized_df\n"
     ]
    },
    {
     "name": "stdout",
     "output_type": "stream",
     "text": [
      "1M2AX07C9JM041295 135\n"
     ]
    },
    {
     "name": "stderr",
     "output_type": "stream",
     "text": [
      "/tmp/ipykernel_1168028/1295774049.py:73: FutureWarning: Downcasting behavior in `replace` is deprecated and will be removed in a future version. To retain the old behavior, explicitly call `result.infer_objects(copy=False)`. To opt-in to the future behavior, set `pd.set_option('future.no_silent_downcasting', True)`\n",
      "  std_replaced = std.replace(0, 1)\n",
      "/tmp/ipykernel_1168028/1295774049.py:77: SettingWithCopyWarning: \n",
      "A value is trying to be set on a copy of a slice from a DataFrame.\n",
      "Try using .loc[row_indexer,col_indexer] = value instead\n",
      "\n",
      "See the caveats in the documentation: https://pandas.pydata.org/pandas-docs/stable/user_guide/indexing.html#returning-a-view-versus-a-copy\n",
      "  original_df[columns_to_normalize] = normalized_df\n"
     ]
    },
    {
     "name": "stdout",
     "output_type": "stream",
     "text": [
      "1M2AX07CXGM031562 136\n"
     ]
    },
    {
     "name": "stderr",
     "output_type": "stream",
     "text": [
      "/tmp/ipykernel_1168028/1295774049.py:73: FutureWarning: Downcasting behavior in `replace` is deprecated and will be removed in a future version. To retain the old behavior, explicitly call `result.infer_objects(copy=False)`. To opt-in to the future behavior, set `pd.set_option('future.no_silent_downcasting', True)`\n",
      "  std_replaced = std.replace(0, 1)\n",
      "/tmp/ipykernel_1168028/1295774049.py:77: SettingWithCopyWarning: \n",
      "A value is trying to be set on a copy of a slice from a DataFrame.\n",
      "Try using .loc[row_indexer,col_indexer] = value instead\n",
      "\n",
      "See the caveats in the documentation: https://pandas.pydata.org/pandas-docs/stable/user_guide/indexing.html#returning-a-view-versus-a-copy\n",
      "  original_df[columns_to_normalize] = normalized_df\n"
     ]
    },
    {
     "name": "stdout",
     "output_type": "stream",
     "text": [
      "1M2AX09C4HM035251 137\n"
     ]
    },
    {
     "name": "stderr",
     "output_type": "stream",
     "text": [
      "/tmp/ipykernel_1168028/1295774049.py:73: FutureWarning: Downcasting behavior in `replace` is deprecated and will be removed in a future version. To retain the old behavior, explicitly call `result.infer_objects(copy=False)`. To opt-in to the future behavior, set `pd.set_option('future.no_silent_downcasting', True)`\n",
      "  std_replaced = std.replace(0, 1)\n",
      "/tmp/ipykernel_1168028/1295774049.py:77: SettingWithCopyWarning: \n",
      "A value is trying to be set on a copy of a slice from a DataFrame.\n",
      "Try using .loc[row_indexer,col_indexer] = value instead\n",
      "\n",
      "See the caveats in the documentation: https://pandas.pydata.org/pandas-docs/stable/user_guide/indexing.html#returning-a-view-versus-a-copy\n",
      "  original_df[columns_to_normalize] = normalized_df\n"
     ]
    },
    {
     "name": "stdout",
     "output_type": "stream",
     "text": [
      "1M2AX09C5JM035832 138\n"
     ]
    },
    {
     "name": "stderr",
     "output_type": "stream",
     "text": [
      "/tmp/ipykernel_1168028/1295774049.py:73: FutureWarning: Downcasting behavior in `replace` is deprecated and will be removed in a future version. To retain the old behavior, explicitly call `result.infer_objects(copy=False)`. To opt-in to the future behavior, set `pd.set_option('future.no_silent_downcasting', True)`\n",
      "  std_replaced = std.replace(0, 1)\n",
      "/tmp/ipykernel_1168028/1295774049.py:77: SettingWithCopyWarning: \n",
      "A value is trying to be set on a copy of a slice from a DataFrame.\n",
      "Try using .loc[row_indexer,col_indexer] = value instead\n",
      "\n",
      "See the caveats in the documentation: https://pandas.pydata.org/pandas-docs/stable/user_guide/indexing.html#returning-a-view-versus-a-copy\n",
      "  original_df[columns_to_normalize] = normalized_df\n"
     ]
    },
    {
     "name": "stdout",
     "output_type": "stream",
     "text": [
      "1M2AX09C5JM040416 139\n"
     ]
    },
    {
     "name": "stderr",
     "output_type": "stream",
     "text": [
      "/tmp/ipykernel_1168028/1295774049.py:73: FutureWarning: Downcasting behavior in `replace` is deprecated and will be removed in a future version. To retain the old behavior, explicitly call `result.infer_objects(copy=False)`. To opt-in to the future behavior, set `pd.set_option('future.no_silent_downcasting', True)`\n",
      "  std_replaced = std.replace(0, 1)\n",
      "/tmp/ipykernel_1168028/1295774049.py:77: SettingWithCopyWarning: \n",
      "A value is trying to be set on a copy of a slice from a DataFrame.\n",
      "Try using .loc[row_indexer,col_indexer] = value instead\n",
      "\n",
      "See the caveats in the documentation: https://pandas.pydata.org/pandas-docs/stable/user_guide/indexing.html#returning-a-view-versus-a-copy\n",
      "  original_df[columns_to_normalize] = normalized_df\n"
     ]
    },
    {
     "name": "stdout",
     "output_type": "stream",
     "text": [
      "1M2AX09CXFM021366 140\n"
     ]
    },
    {
     "name": "stderr",
     "output_type": "stream",
     "text": [
      "/tmp/ipykernel_1168028/1295774049.py:73: FutureWarning: Downcasting behavior in `replace` is deprecated and will be removed in a future version. To retain the old behavior, explicitly call `result.infer_objects(copy=False)`. To opt-in to the future behavior, set `pd.set_option('future.no_silent_downcasting', True)`\n",
      "  std_replaced = std.replace(0, 1)\n",
      "/tmp/ipykernel_1168028/1295774049.py:77: SettingWithCopyWarning: \n",
      "A value is trying to be set on a copy of a slice from a DataFrame.\n",
      "Try using .loc[row_indexer,col_indexer] = value instead\n",
      "\n",
      "See the caveats in the documentation: https://pandas.pydata.org/pandas-docs/stable/user_guide/indexing.html#returning-a-view-versus-a-copy\n",
      "  original_df[columns_to_normalize] = normalized_df\n"
     ]
    },
    {
     "name": "stdout",
     "output_type": "stream",
     "text": [
      "1M2AX09CXGM031011 141\n"
     ]
    },
    {
     "name": "stderr",
     "output_type": "stream",
     "text": [
      "/tmp/ipykernel_1168028/1295774049.py:73: FutureWarning: Downcasting behavior in `replace` is deprecated and will be removed in a future version. To retain the old behavior, explicitly call `result.infer_objects(copy=False)`. To opt-in to the future behavior, set `pd.set_option('future.no_silent_downcasting', True)`\n",
      "  std_replaced = std.replace(0, 1)\n",
      "/tmp/ipykernel_1168028/1295774049.py:77: SettingWithCopyWarning: \n",
      "A value is trying to be set on a copy of a slice from a DataFrame.\n",
      "Try using .loc[row_indexer,col_indexer] = value instead\n",
      "\n",
      "See the caveats in the documentation: https://pandas.pydata.org/pandas-docs/stable/user_guide/indexing.html#returning-a-view-versus-a-copy\n",
      "  original_df[columns_to_normalize] = normalized_df\n"
     ]
    },
    {
     "name": "stdout",
     "output_type": "stream",
     "text": [
      "1M2AX13C0GM031484 142\n"
     ]
    },
    {
     "name": "stderr",
     "output_type": "stream",
     "text": [
      "/tmp/ipykernel_1168028/1295774049.py:73: FutureWarning: Downcasting behavior in `replace` is deprecated and will be removed in a future version. To retain the old behavior, explicitly call `result.infer_objects(copy=False)`. To opt-in to the future behavior, set `pd.set_option('future.no_silent_downcasting', True)`\n",
      "  std_replaced = std.replace(0, 1)\n",
      "/tmp/ipykernel_1168028/1295774049.py:77: SettingWithCopyWarning: \n",
      "A value is trying to be set on a copy of a slice from a DataFrame.\n",
      "Try using .loc[row_indexer,col_indexer] = value instead\n",
      "\n",
      "See the caveats in the documentation: https://pandas.pydata.org/pandas-docs/stable/user_guide/indexing.html#returning-a-view-versus-a-copy\n",
      "  original_df[columns_to_normalize] = normalized_df\n"
     ]
    },
    {
     "name": "stdout",
     "output_type": "stream",
     "text": [
      "1M2AX13C0GM031937 143\n"
     ]
    },
    {
     "name": "stderr",
     "output_type": "stream",
     "text": [
      "/tmp/ipykernel_1168028/1295774049.py:73: FutureWarning: Downcasting behavior in `replace` is deprecated and will be removed in a future version. To retain the old behavior, explicitly call `result.infer_objects(copy=False)`. To opt-in to the future behavior, set `pd.set_option('future.no_silent_downcasting', True)`\n",
      "  std_replaced = std.replace(0, 1)\n",
      "/tmp/ipykernel_1168028/1295774049.py:77: SettingWithCopyWarning: \n",
      "A value is trying to be set on a copy of a slice from a DataFrame.\n",
      "Try using .loc[row_indexer,col_indexer] = value instead\n",
      "\n",
      "See the caveats in the documentation: https://pandas.pydata.org/pandas-docs/stable/user_guide/indexing.html#returning-a-view-versus-a-copy\n",
      "  original_df[columns_to_normalize] = normalized_df\n"
     ]
    },
    {
     "name": "stdout",
     "output_type": "stream",
     "text": [
      "1M2AX13C0GM035986 144\n"
     ]
    },
    {
     "name": "stderr",
     "output_type": "stream",
     "text": [
      "/tmp/ipykernel_1168028/1295774049.py:73: FutureWarning: Downcasting behavior in `replace` is deprecated and will be removed in a future version. To retain the old behavior, explicitly call `result.infer_objects(copy=False)`. To opt-in to the future behavior, set `pd.set_option('future.no_silent_downcasting', True)`\n",
      "  std_replaced = std.replace(0, 1)\n",
      "/tmp/ipykernel_1168028/1295774049.py:77: SettingWithCopyWarning: \n",
      "A value is trying to be set on a copy of a slice from a DataFrame.\n",
      "Try using .loc[row_indexer,col_indexer] = value instead\n",
      "\n",
      "See the caveats in the documentation: https://pandas.pydata.org/pandas-docs/stable/user_guide/indexing.html#returning-a-view-versus-a-copy\n",
      "  original_df[columns_to_normalize] = normalized_df\n"
     ]
    },
    {
     "name": "stdout",
     "output_type": "stream",
     "text": [
      "1M2AX13C0GM061505 145\n"
     ]
    },
    {
     "name": "stderr",
     "output_type": "stream",
     "text": [
      "/tmp/ipykernel_1168028/1295774049.py:73: FutureWarning: Downcasting behavior in `replace` is deprecated and will be removed in a future version. To retain the old behavior, explicitly call `result.infer_objects(copy=False)`. To opt-in to the future behavior, set `pd.set_option('future.no_silent_downcasting', True)`\n",
      "  std_replaced = std.replace(0, 1)\n",
      "/tmp/ipykernel_1168028/1295774049.py:77: SettingWithCopyWarning: \n",
      "A value is trying to be set on a copy of a slice from a DataFrame.\n",
      "Try using .loc[row_indexer,col_indexer] = value instead\n",
      "\n",
      "See the caveats in the documentation: https://pandas.pydata.org/pandas-docs/stable/user_guide/indexing.html#returning-a-view-versus-a-copy\n",
      "  original_df[columns_to_normalize] = normalized_df\n"
     ]
    },
    {
     "name": "stdout",
     "output_type": "stream",
     "text": [
      "1M2AX13C0KM042798 146\n"
     ]
    },
    {
     "name": "stderr",
     "output_type": "stream",
     "text": [
      "/tmp/ipykernel_1168028/1295774049.py:73: FutureWarning: Downcasting behavior in `replace` is deprecated and will be removed in a future version. To retain the old behavior, explicitly call `result.infer_objects(copy=False)`. To opt-in to the future behavior, set `pd.set_option('future.no_silent_downcasting', True)`\n",
      "  std_replaced = std.replace(0, 1)\n",
      "/tmp/ipykernel_1168028/1295774049.py:77: SettingWithCopyWarning: \n",
      "A value is trying to be set on a copy of a slice from a DataFrame.\n",
      "Try using .loc[row_indexer,col_indexer] = value instead\n",
      "\n",
      "See the caveats in the documentation: https://pandas.pydata.org/pandas-docs/stable/user_guide/indexing.html#returning-a-view-versus-a-copy\n",
      "  original_df[columns_to_normalize] = normalized_df\n"
     ]
    },
    {
     "name": "stdout",
     "output_type": "stream",
     "text": [
      "1M2AX13C1GM032207 147\n"
     ]
    },
    {
     "name": "stderr",
     "output_type": "stream",
     "text": [
      "/tmp/ipykernel_1168028/1295774049.py:73: FutureWarning: Downcasting behavior in `replace` is deprecated and will be removed in a future version. To retain the old behavior, explicitly call `result.infer_objects(copy=False)`. To opt-in to the future behavior, set `pd.set_option('future.no_silent_downcasting', True)`\n",
      "  std_replaced = std.replace(0, 1)\n",
      "/tmp/ipykernel_1168028/1295774049.py:77: SettingWithCopyWarning: \n",
      "A value is trying to be set on a copy of a slice from a DataFrame.\n",
      "Try using .loc[row_indexer,col_indexer] = value instead\n",
      "\n",
      "See the caveats in the documentation: https://pandas.pydata.org/pandas-docs/stable/user_guide/indexing.html#returning-a-view-versus-a-copy\n",
      "  original_df[columns_to_normalize] = normalized_df\n"
     ]
    },
    {
     "name": "stdout",
     "output_type": "stream",
     "text": [
      "1M2AX13C3HM036812 148\n"
     ]
    },
    {
     "name": "stderr",
     "output_type": "stream",
     "text": [
      "/tmp/ipykernel_1168028/1295774049.py:73: FutureWarning: Downcasting behavior in `replace` is deprecated and will be removed in a future version. To retain the old behavior, explicitly call `result.infer_objects(copy=False)`. To opt-in to the future behavior, set `pd.set_option('future.no_silent_downcasting', True)`\n",
      "  std_replaced = std.replace(0, 1)\n",
      "/tmp/ipykernel_1168028/1295774049.py:77: SettingWithCopyWarning: \n",
      "A value is trying to be set on a copy of a slice from a DataFrame.\n",
      "Try using .loc[row_indexer,col_indexer] = value instead\n",
      "\n",
      "See the caveats in the documentation: https://pandas.pydata.org/pandas-docs/stable/user_guide/indexing.html#returning-a-view-versus-a-copy\n",
      "  original_df[columns_to_normalize] = normalized_df\n"
     ]
    },
    {
     "name": "stdout",
     "output_type": "stream",
     "text": [
      "1M2AX13C4FM029011 149\n"
     ]
    },
    {
     "name": "stderr",
     "output_type": "stream",
     "text": [
      "/tmp/ipykernel_1168028/1295774049.py:73: FutureWarning: Downcasting behavior in `replace` is deprecated and will be removed in a future version. To retain the old behavior, explicitly call `result.infer_objects(copy=False)`. To opt-in to the future behavior, set `pd.set_option('future.no_silent_downcasting', True)`\n",
      "  std_replaced = std.replace(0, 1)\n",
      "/tmp/ipykernel_1168028/1295774049.py:77: SettingWithCopyWarning: \n",
      "A value is trying to be set on a copy of a slice from a DataFrame.\n",
      "Try using .loc[row_indexer,col_indexer] = value instead\n",
      "\n",
      "See the caveats in the documentation: https://pandas.pydata.org/pandas-docs/stable/user_guide/indexing.html#returning-a-view-versus-a-copy\n",
      "  original_df[columns_to_normalize] = normalized_df\n"
     ]
    },
    {
     "name": "stdout",
     "output_type": "stream",
     "text": [
      "1M2AX13C4GM034680 150\n"
     ]
    },
    {
     "name": "stderr",
     "output_type": "stream",
     "text": [
      "/tmp/ipykernel_1168028/1295774049.py:73: FutureWarning: Downcasting behavior in `replace` is deprecated and will be removed in a future version. To retain the old behavior, explicitly call `result.infer_objects(copy=False)`. To opt-in to the future behavior, set `pd.set_option('future.no_silent_downcasting', True)`\n",
      "  std_replaced = std.replace(0, 1)\n",
      "/tmp/ipykernel_1168028/1295774049.py:77: SettingWithCopyWarning: \n",
      "A value is trying to be set on a copy of a slice from a DataFrame.\n",
      "Try using .loc[row_indexer,col_indexer] = value instead\n",
      "\n",
      "See the caveats in the documentation: https://pandas.pydata.org/pandas-docs/stable/user_guide/indexing.html#returning-a-view-versus-a-copy\n",
      "  original_df[columns_to_normalize] = normalized_df\n"
     ]
    },
    {
     "name": "stdout",
     "output_type": "stream",
     "text": [
      "1M2AX13C4JM041166 151\n"
     ]
    },
    {
     "name": "stderr",
     "output_type": "stream",
     "text": [
      "/tmp/ipykernel_1168028/1295774049.py:73: FutureWarning: Downcasting behavior in `replace` is deprecated and will be removed in a future version. To retain the old behavior, explicitly call `result.infer_objects(copy=False)`. To opt-in to the future behavior, set `pd.set_option('future.no_silent_downcasting', True)`\n",
      "  std_replaced = std.replace(0, 1)\n",
      "/tmp/ipykernel_1168028/1295774049.py:77: SettingWithCopyWarning: \n",
      "A value is trying to be set on a copy of a slice from a DataFrame.\n",
      "Try using .loc[row_indexer,col_indexer] = value instead\n",
      "\n",
      "See the caveats in the documentation: https://pandas.pydata.org/pandas-docs/stable/user_guide/indexing.html#returning-a-view-versus-a-copy\n",
      "  original_df[columns_to_normalize] = normalized_df\n"
     ]
    },
    {
     "name": "stdout",
     "output_type": "stream",
     "text": [
      "1M2AX13C7FM030508 152\n"
     ]
    },
    {
     "name": "stderr",
     "output_type": "stream",
     "text": [
      "/tmp/ipykernel_1168028/1295774049.py:73: FutureWarning: Downcasting behavior in `replace` is deprecated and will be removed in a future version. To retain the old behavior, explicitly call `result.infer_objects(copy=False)`. To opt-in to the future behavior, set `pd.set_option('future.no_silent_downcasting', True)`\n",
      "  std_replaced = std.replace(0, 1)\n",
      "/tmp/ipykernel_1168028/1295774049.py:77: SettingWithCopyWarning: \n",
      "A value is trying to be set on a copy of a slice from a DataFrame.\n",
      "Try using .loc[row_indexer,col_indexer] = value instead\n",
      "\n",
      "See the caveats in the documentation: https://pandas.pydata.org/pandas-docs/stable/user_guide/indexing.html#returning-a-view-versus-a-copy\n",
      "  original_df[columns_to_normalize] = normalized_df\n"
     ]
    },
    {
     "name": "stdout",
     "output_type": "stream",
     "text": [
      "1M2AX13C9HM036345 153\n"
     ]
    },
    {
     "name": "stderr",
     "output_type": "stream",
     "text": [
      "/tmp/ipykernel_1168028/1295774049.py:73: FutureWarning: Downcasting behavior in `replace` is deprecated and will be removed in a future version. To retain the old behavior, explicitly call `result.infer_objects(copy=False)`. To opt-in to the future behavior, set `pd.set_option('future.no_silent_downcasting', True)`\n",
      "  std_replaced = std.replace(0, 1)\n",
      "/tmp/ipykernel_1168028/1295774049.py:77: SettingWithCopyWarning: \n",
      "A value is trying to be set on a copy of a slice from a DataFrame.\n",
      "Try using .loc[row_indexer,col_indexer] = value instead\n",
      "\n",
      "See the caveats in the documentation: https://pandas.pydata.org/pandas-docs/stable/user_guide/indexing.html#returning-a-view-versus-a-copy\n",
      "  original_df[columns_to_normalize] = normalized_df\n"
     ]
    },
    {
     "name": "stdout",
     "output_type": "stream",
     "text": [
      "1M2AX13CXGM035087 154\n"
     ]
    },
    {
     "name": "stderr",
     "output_type": "stream",
     "text": [
      "/tmp/ipykernel_1168028/1295774049.py:73: FutureWarning: Downcasting behavior in `replace` is deprecated and will be removed in a future version. To retain the old behavior, explicitly call `result.infer_objects(copy=False)`. To opt-in to the future behavior, set `pd.set_option('future.no_silent_downcasting', True)`\n",
      "  std_replaced = std.replace(0, 1)\n",
      "/tmp/ipykernel_1168028/1295774049.py:77: SettingWithCopyWarning: \n",
      "A value is trying to be set on a copy of a slice from a DataFrame.\n",
      "Try using .loc[row_indexer,col_indexer] = value instead\n",
      "\n",
      "See the caveats in the documentation: https://pandas.pydata.org/pandas-docs/stable/user_guide/indexing.html#returning-a-view-versus-a-copy\n",
      "  original_df[columns_to_normalize] = normalized_df\n"
     ]
    },
    {
     "name": "stdout",
     "output_type": "stream",
     "text": [
      "1M2AX16C4GM033508 155\n"
     ]
    },
    {
     "name": "stderr",
     "output_type": "stream",
     "text": [
      "/tmp/ipykernel_1168028/1295774049.py:73: FutureWarning: Downcasting behavior in `replace` is deprecated and will be removed in a future version. To retain the old behavior, explicitly call `result.infer_objects(copy=False)`. To opt-in to the future behavior, set `pd.set_option('future.no_silent_downcasting', True)`\n",
      "  std_replaced = std.replace(0, 1)\n",
      "/tmp/ipykernel_1168028/1295774049.py:77: SettingWithCopyWarning: \n",
      "A value is trying to be set on a copy of a slice from a DataFrame.\n",
      "Try using .loc[row_indexer,col_indexer] = value instead\n",
      "\n",
      "See the caveats in the documentation: https://pandas.pydata.org/pandas-docs/stable/user_guide/indexing.html#returning-a-view-versus-a-copy\n",
      "  original_df[columns_to_normalize] = normalized_df\n"
     ]
    },
    {
     "name": "stdout",
     "output_type": "stream",
     "text": [
      "1M2AX16C4JM040689 156\n"
     ]
    },
    {
     "name": "stderr",
     "output_type": "stream",
     "text": [
      "/tmp/ipykernel_1168028/1295774049.py:73: FutureWarning: Downcasting behavior in `replace` is deprecated and will be removed in a future version. To retain the old behavior, explicitly call `result.infer_objects(copy=False)`. To opt-in to the future behavior, set `pd.set_option('future.no_silent_downcasting', True)`\n",
      "  std_replaced = std.replace(0, 1)\n",
      "/tmp/ipykernel_1168028/1295774049.py:77: SettingWithCopyWarning: \n",
      "A value is trying to be set on a copy of a slice from a DataFrame.\n",
      "Try using .loc[row_indexer,col_indexer] = value instead\n",
      "\n",
      "See the caveats in the documentation: https://pandas.pydata.org/pandas-docs/stable/user_guide/indexing.html#returning-a-view-versus-a-copy\n",
      "  original_df[columns_to_normalize] = normalized_df\n"
     ]
    },
    {
     "name": "stdout",
     "output_type": "stream",
     "text": [
      "1M2AX18C4JM040723 157\n"
     ]
    },
    {
     "name": "stderr",
     "output_type": "stream",
     "text": [
      "/tmp/ipykernel_1168028/1295774049.py:73: FutureWarning: Downcasting behavior in `replace` is deprecated and will be removed in a future version. To retain the old behavior, explicitly call `result.infer_objects(copy=False)`. To opt-in to the future behavior, set `pd.set_option('future.no_silent_downcasting', True)`\n",
      "  std_replaced = std.replace(0, 1)\n",
      "/tmp/ipykernel_1168028/1295774049.py:77: SettingWithCopyWarning: \n",
      "A value is trying to be set on a copy of a slice from a DataFrame.\n",
      "Try using .loc[row_indexer,col_indexer] = value instead\n",
      "\n",
      "See the caveats in the documentation: https://pandas.pydata.org/pandas-docs/stable/user_guide/indexing.html#returning-a-view-versus-a-copy\n",
      "  original_df[columns_to_normalize] = normalized_df\n"
     ]
    },
    {
     "name": "stdout",
     "output_type": "stream",
     "text": [
      "1M2AX18C5GM034972 158\n"
     ]
    },
    {
     "name": "stderr",
     "output_type": "stream",
     "text": [
      "/tmp/ipykernel_1168028/1295774049.py:73: FutureWarning: Downcasting behavior in `replace` is deprecated and will be removed in a future version. To retain the old behavior, explicitly call `result.infer_objects(copy=False)`. To opt-in to the future behavior, set `pd.set_option('future.no_silent_downcasting', True)`\n",
      "  std_replaced = std.replace(0, 1)\n",
      "/tmp/ipykernel_1168028/1295774049.py:77: SettingWithCopyWarning: \n",
      "A value is trying to be set on a copy of a slice from a DataFrame.\n",
      "Try using .loc[row_indexer,col_indexer] = value instead\n",
      "\n",
      "See the caveats in the documentation: https://pandas.pydata.org/pandas-docs/stable/user_guide/indexing.html#returning-a-view-versus-a-copy\n",
      "  original_df[columns_to_normalize] = normalized_df\n"
     ]
    },
    {
     "name": "stdout",
     "output_type": "stream",
     "text": [
      "1M2AX18C6KM042796 159\n"
     ]
    },
    {
     "name": "stderr",
     "output_type": "stream",
     "text": [
      "/tmp/ipykernel_1168028/1295774049.py:73: FutureWarning: Downcasting behavior in `replace` is deprecated and will be removed in a future version. To retain the old behavior, explicitly call `result.infer_objects(copy=False)`. To opt-in to the future behavior, set `pd.set_option('future.no_silent_downcasting', True)`\n",
      "  std_replaced = std.replace(0, 1)\n",
      "/tmp/ipykernel_1168028/1295774049.py:77: SettingWithCopyWarning: \n",
      "A value is trying to be set on a copy of a slice from a DataFrame.\n",
      "Try using .loc[row_indexer,col_indexer] = value instead\n",
      "\n",
      "See the caveats in the documentation: https://pandas.pydata.org/pandas-docs/stable/user_guide/indexing.html#returning-a-view-versus-a-copy\n",
      "  original_df[columns_to_normalize] = normalized_df\n"
     ]
    },
    {
     "name": "stdout",
     "output_type": "stream",
     "text": [
      "1M2AX18CXFM028910 160\n"
     ]
    },
    {
     "name": "stderr",
     "output_type": "stream",
     "text": [
      "/tmp/ipykernel_1168028/1295774049.py:73: FutureWarning: Downcasting behavior in `replace` is deprecated and will be removed in a future version. To retain the old behavior, explicitly call `result.infer_objects(copy=False)`. To opt-in to the future behavior, set `pd.set_option('future.no_silent_downcasting', True)`\n",
      "  std_replaced = std.replace(0, 1)\n",
      "/tmp/ipykernel_1168028/1295774049.py:77: SettingWithCopyWarning: \n",
      "A value is trying to be set on a copy of a slice from a DataFrame.\n",
      "Try using .loc[row_indexer,col_indexer] = value instead\n",
      "\n",
      "See the caveats in the documentation: https://pandas.pydata.org/pandas-docs/stable/user_guide/indexing.html#returning-a-view-versus-a-copy\n",
      "  original_df[columns_to_normalize] = normalized_df\n"
     ]
    },
    {
     "name": "stdout",
     "output_type": "stream",
     "text": [
      "1M2AX20C6FM001236 161\n"
     ]
    },
    {
     "name": "stderr",
     "output_type": "stream",
     "text": [
      "/tmp/ipykernel_1168028/1295774049.py:73: FutureWarning: Downcasting behavior in `replace` is deprecated and will be removed in a future version. To retain the old behavior, explicitly call `result.infer_objects(copy=False)`. To opt-in to the future behavior, set `pd.set_option('future.no_silent_downcasting', True)`\n",
      "  std_replaced = std.replace(0, 1)\n",
      "/tmp/ipykernel_1168028/1295774049.py:77: SettingWithCopyWarning: \n",
      "A value is trying to be set on a copy of a slice from a DataFrame.\n",
      "Try using .loc[row_indexer,col_indexer] = value instead\n",
      "\n",
      "See the caveats in the documentation: https://pandas.pydata.org/pandas-docs/stable/user_guide/indexing.html#returning-a-view-versus-a-copy\n",
      "  original_df[columns_to_normalize] = normalized_df\n"
     ]
    },
    {
     "name": "stdout",
     "output_type": "stream",
     "text": [
      "1M2AX26C3HM001351 162\n"
     ]
    },
    {
     "name": "stderr",
     "output_type": "stream",
     "text": [
      "/tmp/ipykernel_1168028/1295774049.py:73: FutureWarning: Downcasting behavior in `replace` is deprecated and will be removed in a future version. To retain the old behavior, explicitly call `result.infer_objects(copy=False)`. To opt-in to the future behavior, set `pd.set_option('future.no_silent_downcasting', True)`\n",
      "  std_replaced = std.replace(0, 1)\n",
      "/tmp/ipykernel_1168028/1295774049.py:77: SettingWithCopyWarning: \n",
      "A value is trying to be set on a copy of a slice from a DataFrame.\n",
      "Try using .loc[row_indexer,col_indexer] = value instead\n",
      "\n",
      "See the caveats in the documentation: https://pandas.pydata.org/pandas-docs/stable/user_guide/indexing.html#returning-a-view-versus-a-copy\n",
      "  original_df[columns_to_normalize] = normalized_df\n"
     ]
    },
    {
     "name": "stdout",
     "output_type": "stream",
     "text": [
      "1M2GR2GC0KM003665 163\n"
     ]
    },
    {
     "name": "stderr",
     "output_type": "stream",
     "text": [
      "/tmp/ipykernel_1168028/1295774049.py:73: FutureWarning: Downcasting behavior in `replace` is deprecated and will be removed in a future version. To retain the old behavior, explicitly call `result.infer_objects(copy=False)`. To opt-in to the future behavior, set `pd.set_option('future.no_silent_downcasting', True)`\n",
      "  std_replaced = std.replace(0, 1)\n",
      "/tmp/ipykernel_1168028/1295774049.py:77: SettingWithCopyWarning: \n",
      "A value is trying to be set on a copy of a slice from a DataFrame.\n",
      "Try using .loc[row_indexer,col_indexer] = value instead\n",
      "\n",
      "See the caveats in the documentation: https://pandas.pydata.org/pandas-docs/stable/user_guide/indexing.html#returning-a-view-versus-a-copy\n",
      "  original_df[columns_to_normalize] = normalized_df\n"
     ]
    },
    {
     "name": "stdout",
     "output_type": "stream",
     "text": [
      "1M2GR2GC1KM004100 164\n"
     ]
    },
    {
     "name": "stderr",
     "output_type": "stream",
     "text": [
      "/tmp/ipykernel_1168028/1295774049.py:73: FutureWarning: Downcasting behavior in `replace` is deprecated and will be removed in a future version. To retain the old behavior, explicitly call `result.infer_objects(copy=False)`. To opt-in to the future behavior, set `pd.set_option('future.no_silent_downcasting', True)`\n",
      "  std_replaced = std.replace(0, 1)\n",
      "/tmp/ipykernel_1168028/1295774049.py:77: SettingWithCopyWarning: \n",
      "A value is trying to be set on a copy of a slice from a DataFrame.\n",
      "Try using .loc[row_indexer,col_indexer] = value instead\n",
      "\n",
      "See the caveats in the documentation: https://pandas.pydata.org/pandas-docs/stable/user_guide/indexing.html#returning-a-view-versus-a-copy\n",
      "  original_df[columns_to_normalize] = normalized_df\n"
     ]
    },
    {
     "name": "stdout",
     "output_type": "stream",
     "text": [
      "1M2GR2GC1MM023863 165\n"
     ]
    },
    {
     "name": "stderr",
     "output_type": "stream",
     "text": [
      "/tmp/ipykernel_1168028/1295774049.py:73: FutureWarning: Downcasting behavior in `replace` is deprecated and will be removed in a future version. To retain the old behavior, explicitly call `result.infer_objects(copy=False)`. To opt-in to the future behavior, set `pd.set_option('future.no_silent_downcasting', True)`\n",
      "  std_replaced = std.replace(0, 1)\n",
      "/tmp/ipykernel_1168028/1295774049.py:77: SettingWithCopyWarning: \n",
      "A value is trying to be set on a copy of a slice from a DataFrame.\n",
      "Try using .loc[row_indexer,col_indexer] = value instead\n",
      "\n",
      "See the caveats in the documentation: https://pandas.pydata.org/pandas-docs/stable/user_guide/indexing.html#returning-a-view-versus-a-copy\n",
      "  original_df[columns_to_normalize] = normalized_df\n"
     ]
    },
    {
     "name": "stdout",
     "output_type": "stream",
     "text": [
      "1M2GR2GC2KM006910 166\n"
     ]
    },
    {
     "name": "stderr",
     "output_type": "stream",
     "text": [
      "/tmp/ipykernel_1168028/1295774049.py:73: FutureWarning: Downcasting behavior in `replace` is deprecated and will be removed in a future version. To retain the old behavior, explicitly call `result.infer_objects(copy=False)`. To opt-in to the future behavior, set `pd.set_option('future.no_silent_downcasting', True)`\n",
      "  std_replaced = std.replace(0, 1)\n",
      "/tmp/ipykernel_1168028/1295774049.py:77: SettingWithCopyWarning: \n",
      "A value is trying to be set on a copy of a slice from a DataFrame.\n",
      "Try using .loc[row_indexer,col_indexer] = value instead\n",
      "\n",
      "See the caveats in the documentation: https://pandas.pydata.org/pandas-docs/stable/user_guide/indexing.html#returning-a-view-versus-a-copy\n",
      "  original_df[columns_to_normalize] = normalized_df\n"
     ]
    },
    {
     "name": "stdout",
     "output_type": "stream",
     "text": [
      "1M2GR2GC2KM011783 167\n"
     ]
    },
    {
     "name": "stderr",
     "output_type": "stream",
     "text": [
      "/tmp/ipykernel_1168028/1295774049.py:73: FutureWarning: Downcasting behavior in `replace` is deprecated and will be removed in a future version. To retain the old behavior, explicitly call `result.infer_objects(copy=False)`. To opt-in to the future behavior, set `pd.set_option('future.no_silent_downcasting', True)`\n",
      "  std_replaced = std.replace(0, 1)\n",
      "/tmp/ipykernel_1168028/1295774049.py:77: SettingWithCopyWarning: \n",
      "A value is trying to be set on a copy of a slice from a DataFrame.\n",
      "Try using .loc[row_indexer,col_indexer] = value instead\n",
      "\n",
      "See the caveats in the documentation: https://pandas.pydata.org/pandas-docs/stable/user_guide/indexing.html#returning-a-view-versus-a-copy\n",
      "  original_df[columns_to_normalize] = normalized_df\n"
     ]
    },
    {
     "name": "stdout",
     "output_type": "stream",
     "text": [
      "1M2GR2GC2LM016581 168\n"
     ]
    },
    {
     "name": "stderr",
     "output_type": "stream",
     "text": [
      "/tmp/ipykernel_1168028/1295774049.py:73: FutureWarning: Downcasting behavior in `replace` is deprecated and will be removed in a future version. To retain the old behavior, explicitly call `result.infer_objects(copy=False)`. To opt-in to the future behavior, set `pd.set_option('future.no_silent_downcasting', True)`\n",
      "  std_replaced = std.replace(0, 1)\n",
      "/tmp/ipykernel_1168028/1295774049.py:77: SettingWithCopyWarning: \n",
      "A value is trying to be set on a copy of a slice from a DataFrame.\n",
      "Try using .loc[row_indexer,col_indexer] = value instead\n",
      "\n",
      "See the caveats in the documentation: https://pandas.pydata.org/pandas-docs/stable/user_guide/indexing.html#returning-a-view-versus-a-copy\n",
      "  original_df[columns_to_normalize] = normalized_df\n"
     ]
    },
    {
     "name": "stdout",
     "output_type": "stream",
     "text": [
      "1M2GR2GC2MM024844 169\n"
     ]
    },
    {
     "name": "stderr",
     "output_type": "stream",
     "text": [
      "/tmp/ipykernel_1168028/1295774049.py:73: FutureWarning: Downcasting behavior in `replace` is deprecated and will be removed in a future version. To retain the old behavior, explicitly call `result.infer_objects(copy=False)`. To opt-in to the future behavior, set `pd.set_option('future.no_silent_downcasting', True)`\n",
      "  std_replaced = std.replace(0, 1)\n",
      "/tmp/ipykernel_1168028/1295774049.py:77: SettingWithCopyWarning: \n",
      "A value is trying to be set on a copy of a slice from a DataFrame.\n",
      "Try using .loc[row_indexer,col_indexer] = value instead\n",
      "\n",
      "See the caveats in the documentation: https://pandas.pydata.org/pandas-docs/stable/user_guide/indexing.html#returning-a-view-versus-a-copy\n",
      "  original_df[columns_to_normalize] = normalized_df\n"
     ]
    },
    {
     "name": "stdout",
     "output_type": "stream",
     "text": [
      "1M2GR2GC3KM009069 170\n"
     ]
    },
    {
     "name": "stderr",
     "output_type": "stream",
     "text": [
      "/tmp/ipykernel_1168028/1295774049.py:73: FutureWarning: Downcasting behavior in `replace` is deprecated and will be removed in a future version. To retain the old behavior, explicitly call `result.infer_objects(copy=False)`. To opt-in to the future behavior, set `pd.set_option('future.no_silent_downcasting', True)`\n",
      "  std_replaced = std.replace(0, 1)\n",
      "/tmp/ipykernel_1168028/1295774049.py:77: SettingWithCopyWarning: \n",
      "A value is trying to be set on a copy of a slice from a DataFrame.\n",
      "Try using .loc[row_indexer,col_indexer] = value instead\n",
      "\n",
      "See the caveats in the documentation: https://pandas.pydata.org/pandas-docs/stable/user_guide/indexing.html#returning-a-view-versus-a-copy\n",
      "  original_df[columns_to_normalize] = normalized_df\n"
     ]
    },
    {
     "name": "stdout",
     "output_type": "stream",
     "text": [
      "1M2GR2GC3MM016333 171\n"
     ]
    },
    {
     "name": "stderr",
     "output_type": "stream",
     "text": [
      "/tmp/ipykernel_1168028/1295774049.py:73: FutureWarning: Downcasting behavior in `replace` is deprecated and will be removed in a future version. To retain the old behavior, explicitly call `result.infer_objects(copy=False)`. To opt-in to the future behavior, set `pd.set_option('future.no_silent_downcasting', True)`\n",
      "  std_replaced = std.replace(0, 1)\n",
      "/tmp/ipykernel_1168028/1295774049.py:77: SettingWithCopyWarning: \n",
      "A value is trying to be set on a copy of a slice from a DataFrame.\n",
      "Try using .loc[row_indexer,col_indexer] = value instead\n",
      "\n",
      "See the caveats in the documentation: https://pandas.pydata.org/pandas-docs/stable/user_guide/indexing.html#returning-a-view-versus-a-copy\n",
      "  original_df[columns_to_normalize] = normalized_df\n"
     ]
    },
    {
     "name": "stdout",
     "output_type": "stream",
     "text": [
      "1M2GR2GC3MM020916 172\n"
     ]
    },
    {
     "name": "stderr",
     "output_type": "stream",
     "text": [
      "/tmp/ipykernel_1168028/1295774049.py:73: FutureWarning: Downcasting behavior in `replace` is deprecated and will be removed in a future version. To retain the old behavior, explicitly call `result.infer_objects(copy=False)`. To opt-in to the future behavior, set `pd.set_option('future.no_silent_downcasting', True)`\n",
      "  std_replaced = std.replace(0, 1)\n",
      "/tmp/ipykernel_1168028/1295774049.py:77: SettingWithCopyWarning: \n",
      "A value is trying to be set on a copy of a slice from a DataFrame.\n",
      "Try using .loc[row_indexer,col_indexer] = value instead\n",
      "\n",
      "See the caveats in the documentation: https://pandas.pydata.org/pandas-docs/stable/user_guide/indexing.html#returning-a-view-versus-a-copy\n",
      "  original_df[columns_to_normalize] = normalized_df\n"
     ]
    },
    {
     "name": "stdout",
     "output_type": "stream",
     "text": [
      "1M2GR2GC3NM027317 173\n"
     ]
    },
    {
     "name": "stderr",
     "output_type": "stream",
     "text": [
      "/tmp/ipykernel_1168028/1295774049.py:73: FutureWarning: Downcasting behavior in `replace` is deprecated and will be removed in a future version. To retain the old behavior, explicitly call `result.infer_objects(copy=False)`. To opt-in to the future behavior, set `pd.set_option('future.no_silent_downcasting', True)`\n",
      "  std_replaced = std.replace(0, 1)\n",
      "/tmp/ipykernel_1168028/1295774049.py:77: SettingWithCopyWarning: \n",
      "A value is trying to be set on a copy of a slice from a DataFrame.\n",
      "Try using .loc[row_indexer,col_indexer] = value instead\n",
      "\n",
      "See the caveats in the documentation: https://pandas.pydata.org/pandas-docs/stable/user_guide/indexing.html#returning-a-view-versus-a-copy\n",
      "  original_df[columns_to_normalize] = normalized_df\n"
     ]
    },
    {
     "name": "stdout",
     "output_type": "stream",
     "text": [
      "1M2GR2GC4LM017473 174\n"
     ]
    },
    {
     "name": "stderr",
     "output_type": "stream",
     "text": [
      "/tmp/ipykernel_1168028/1295774049.py:73: FutureWarning: Downcasting behavior in `replace` is deprecated and will be removed in a future version. To retain the old behavior, explicitly call `result.infer_objects(copy=False)`. To opt-in to the future behavior, set `pd.set_option('future.no_silent_downcasting', True)`\n",
      "  std_replaced = std.replace(0, 1)\n",
      "/tmp/ipykernel_1168028/1295774049.py:77: SettingWithCopyWarning: \n",
      "A value is trying to be set on a copy of a slice from a DataFrame.\n",
      "Try using .loc[row_indexer,col_indexer] = value instead\n",
      "\n",
      "See the caveats in the documentation: https://pandas.pydata.org/pandas-docs/stable/user_guide/indexing.html#returning-a-view-versus-a-copy\n",
      "  original_df[columns_to_normalize] = normalized_df\n"
     ]
    },
    {
     "name": "stdout",
     "output_type": "stream",
     "text": [
      "1M2GR2GC4LM019059 175\n"
     ]
    },
    {
     "name": "stderr",
     "output_type": "stream",
     "text": [
      "/tmp/ipykernel_1168028/1295774049.py:73: FutureWarning: Downcasting behavior in `replace` is deprecated and will be removed in a future version. To retain the old behavior, explicitly call `result.infer_objects(copy=False)`. To opt-in to the future behavior, set `pd.set_option('future.no_silent_downcasting', True)`\n",
      "  std_replaced = std.replace(0, 1)\n",
      "/tmp/ipykernel_1168028/1295774049.py:77: SettingWithCopyWarning: \n",
      "A value is trying to be set on a copy of a slice from a DataFrame.\n",
      "Try using .loc[row_indexer,col_indexer] = value instead\n",
      "\n",
      "See the caveats in the documentation: https://pandas.pydata.org/pandas-docs/stable/user_guide/indexing.html#returning-a-view-versus-a-copy\n",
      "  original_df[columns_to_normalize] = normalized_df\n"
     ]
    },
    {
     "name": "stdout",
     "output_type": "stream",
     "text": [
      "1M2GR2GC5KM007114 176\n"
     ]
    },
    {
     "name": "stderr",
     "output_type": "stream",
     "text": [
      "/tmp/ipykernel_1168028/1295774049.py:73: FutureWarning: Downcasting behavior in `replace` is deprecated and will be removed in a future version. To retain the old behavior, explicitly call `result.infer_objects(copy=False)`. To opt-in to the future behavior, set `pd.set_option('future.no_silent_downcasting', True)`\n",
      "  std_replaced = std.replace(0, 1)\n",
      "/tmp/ipykernel_1168028/1295774049.py:77: SettingWithCopyWarning: \n",
      "A value is trying to be set on a copy of a slice from a DataFrame.\n",
      "Try using .loc[row_indexer,col_indexer] = value instead\n",
      "\n",
      "See the caveats in the documentation: https://pandas.pydata.org/pandas-docs/stable/user_guide/indexing.html#returning-a-view-versus-a-copy\n",
      "  original_df[columns_to_normalize] = normalized_df\n"
     ]
    },
    {
     "name": "stdout",
     "output_type": "stream",
     "text": [
      "1M2GR2GC5LM016011 177\n"
     ]
    },
    {
     "name": "stderr",
     "output_type": "stream",
     "text": [
      "/tmp/ipykernel_1168028/1295774049.py:73: FutureWarning: Downcasting behavior in `replace` is deprecated and will be removed in a future version. To retain the old behavior, explicitly call `result.infer_objects(copy=False)`. To opt-in to the future behavior, set `pd.set_option('future.no_silent_downcasting', True)`\n",
      "  std_replaced = std.replace(0, 1)\n",
      "/tmp/ipykernel_1168028/1295774049.py:77: SettingWithCopyWarning: \n",
      "A value is trying to be set on a copy of a slice from a DataFrame.\n",
      "Try using .loc[row_indexer,col_indexer] = value instead\n",
      "\n",
      "See the caveats in the documentation: https://pandas.pydata.org/pandas-docs/stable/user_guide/indexing.html#returning-a-view-versus-a-copy\n",
      "  original_df[columns_to_normalize] = normalized_df\n"
     ]
    },
    {
     "name": "stdout",
     "output_type": "stream",
     "text": [
      "1M2GR2GC6KM001256 178\n"
     ]
    },
    {
     "name": "stderr",
     "output_type": "stream",
     "text": [
      "/tmp/ipykernel_1168028/1295774049.py:73: FutureWarning: Downcasting behavior in `replace` is deprecated and will be removed in a future version. To retain the old behavior, explicitly call `result.infer_objects(copy=False)`. To opt-in to the future behavior, set `pd.set_option('future.no_silent_downcasting', True)`\n",
      "  std_replaced = std.replace(0, 1)\n",
      "/tmp/ipykernel_1168028/1295774049.py:77: SettingWithCopyWarning: \n",
      "A value is trying to be set on a copy of a slice from a DataFrame.\n",
      "Try using .loc[row_indexer,col_indexer] = value instead\n",
      "\n",
      "See the caveats in the documentation: https://pandas.pydata.org/pandas-docs/stable/user_guide/indexing.html#returning-a-view-versus-a-copy\n",
      "  original_df[columns_to_normalize] = normalized_df\n"
     ]
    },
    {
     "name": "stdout",
     "output_type": "stream",
     "text": [
      "1M2GR2GC6LM008645 179\n"
     ]
    },
    {
     "name": "stderr",
     "output_type": "stream",
     "text": [
      "/tmp/ipykernel_1168028/1295774049.py:73: FutureWarning: Downcasting behavior in `replace` is deprecated and will be removed in a future version. To retain the old behavior, explicitly call `result.infer_objects(copy=False)`. To opt-in to the future behavior, set `pd.set_option('future.no_silent_downcasting', True)`\n",
      "  std_replaced = std.replace(0, 1)\n",
      "/tmp/ipykernel_1168028/1295774049.py:77: SettingWithCopyWarning: \n",
      "A value is trying to be set on a copy of a slice from a DataFrame.\n",
      "Try using .loc[row_indexer,col_indexer] = value instead\n",
      "\n",
      "See the caveats in the documentation: https://pandas.pydata.org/pandas-docs/stable/user_guide/indexing.html#returning-a-view-versus-a-copy\n",
      "  original_df[columns_to_normalize] = normalized_df\n"
     ]
    },
    {
     "name": "stdout",
     "output_type": "stream",
     "text": [
      "1M2GR2GC6NM026307 180\n"
     ]
    },
    {
     "name": "stderr",
     "output_type": "stream",
     "text": [
      "/tmp/ipykernel_1168028/1295774049.py:73: FutureWarning: Downcasting behavior in `replace` is deprecated and will be removed in a future version. To retain the old behavior, explicitly call `result.infer_objects(copy=False)`. To opt-in to the future behavior, set `pd.set_option('future.no_silent_downcasting', True)`\n",
      "  std_replaced = std.replace(0, 1)\n",
      "/tmp/ipykernel_1168028/1295774049.py:77: SettingWithCopyWarning: \n",
      "A value is trying to be set on a copy of a slice from a DataFrame.\n",
      "Try using .loc[row_indexer,col_indexer] = value instead\n",
      "\n",
      "See the caveats in the documentation: https://pandas.pydata.org/pandas-docs/stable/user_guide/indexing.html#returning-a-view-versus-a-copy\n",
      "  original_df[columns_to_normalize] = normalized_df\n"
     ]
    },
    {
     "name": "stdout",
     "output_type": "stream",
     "text": [
      "1M2GR2GC7MM024824 181\n"
     ]
    },
    {
     "name": "stderr",
     "output_type": "stream",
     "text": [
      "/tmp/ipykernel_1168028/1295774049.py:73: FutureWarning: Downcasting behavior in `replace` is deprecated and will be removed in a future version. To retain the old behavior, explicitly call `result.infer_objects(copy=False)`. To opt-in to the future behavior, set `pd.set_option('future.no_silent_downcasting', True)`\n",
      "  std_replaced = std.replace(0, 1)\n",
      "/tmp/ipykernel_1168028/1295774049.py:77: SettingWithCopyWarning: \n",
      "A value is trying to be set on a copy of a slice from a DataFrame.\n",
      "Try using .loc[row_indexer,col_indexer] = value instead\n",
      "\n",
      "See the caveats in the documentation: https://pandas.pydata.org/pandas-docs/stable/user_guide/indexing.html#returning-a-view-versus-a-copy\n",
      "  original_df[columns_to_normalize] = normalized_df\n"
     ]
    },
    {
     "name": "stdout",
     "output_type": "stream",
     "text": [
      "1M2GR2GC8KM006328 182\n"
     ]
    },
    {
     "name": "stderr",
     "output_type": "stream",
     "text": [
      "/tmp/ipykernel_1168028/1295774049.py:73: FutureWarning: Downcasting behavior in `replace` is deprecated and will be removed in a future version. To retain the old behavior, explicitly call `result.infer_objects(copy=False)`. To opt-in to the future behavior, set `pd.set_option('future.no_silent_downcasting', True)`\n",
      "  std_replaced = std.replace(0, 1)\n",
      "/tmp/ipykernel_1168028/1295774049.py:77: SettingWithCopyWarning: \n",
      "A value is trying to be set on a copy of a slice from a DataFrame.\n",
      "Try using .loc[row_indexer,col_indexer] = value instead\n",
      "\n",
      "See the caveats in the documentation: https://pandas.pydata.org/pandas-docs/stable/user_guide/indexing.html#returning-a-view-versus-a-copy\n",
      "  original_df[columns_to_normalize] = normalized_df\n"
     ]
    },
    {
     "name": "stdout",
     "output_type": "stream",
     "text": [
      "1M2GR2GC9KM005401 183\n"
     ]
    },
    {
     "name": "stderr",
     "output_type": "stream",
     "text": [
      "/tmp/ipykernel_1168028/1295774049.py:73: FutureWarning: Downcasting behavior in `replace` is deprecated and will be removed in a future version. To retain the old behavior, explicitly call `result.infer_objects(copy=False)`. To opt-in to the future behavior, set `pd.set_option('future.no_silent_downcasting', True)`\n",
      "  std_replaced = std.replace(0, 1)\n",
      "/tmp/ipykernel_1168028/1295774049.py:77: SettingWithCopyWarning: \n",
      "A value is trying to be set on a copy of a slice from a DataFrame.\n",
      "Try using .loc[row_indexer,col_indexer] = value instead\n",
      "\n",
      "See the caveats in the documentation: https://pandas.pydata.org/pandas-docs/stable/user_guide/indexing.html#returning-a-view-versus-a-copy\n",
      "  original_df[columns_to_normalize] = normalized_df\n"
     ]
    },
    {
     "name": "stdout",
     "output_type": "stream",
     "text": [
      "1M2GR2GC9KM009061 184\n"
     ]
    },
    {
     "name": "stderr",
     "output_type": "stream",
     "text": [
      "/tmp/ipykernel_1168028/1295774049.py:73: FutureWarning: Downcasting behavior in `replace` is deprecated and will be removed in a future version. To retain the old behavior, explicitly call `result.infer_objects(copy=False)`. To opt-in to the future behavior, set `pd.set_option('future.no_silent_downcasting', True)`\n",
      "  std_replaced = std.replace(0, 1)\n",
      "/tmp/ipykernel_1168028/1295774049.py:77: SettingWithCopyWarning: \n",
      "A value is trying to be set on a copy of a slice from a DataFrame.\n",
      "Try using .loc[row_indexer,col_indexer] = value instead\n",
      "\n",
      "See the caveats in the documentation: https://pandas.pydata.org/pandas-docs/stable/user_guide/indexing.html#returning-a-view-versus-a-copy\n",
      "  original_df[columns_to_normalize] = normalized_df\n"
     ]
    },
    {
     "name": "stdout",
     "output_type": "stream",
     "text": [
      "1M2GR2GC9LM013242 185\n"
     ]
    },
    {
     "name": "stderr",
     "output_type": "stream",
     "text": [
      "/tmp/ipykernel_1168028/1295774049.py:73: FutureWarning: Downcasting behavior in `replace` is deprecated and will be removed in a future version. To retain the old behavior, explicitly call `result.infer_objects(copy=False)`. To opt-in to the future behavior, set `pd.set_option('future.no_silent_downcasting', True)`\n",
      "  std_replaced = std.replace(0, 1)\n",
      "/tmp/ipykernel_1168028/1295774049.py:77: SettingWithCopyWarning: \n",
      "A value is trying to be set on a copy of a slice from a DataFrame.\n",
      "Try using .loc[row_indexer,col_indexer] = value instead\n",
      "\n",
      "See the caveats in the documentation: https://pandas.pydata.org/pandas-docs/stable/user_guide/indexing.html#returning-a-view-versus-a-copy\n",
      "  original_df[columns_to_normalize] = normalized_df\n"
     ]
    },
    {
     "name": "stdout",
     "output_type": "stream",
     "text": [
      "1M2GR2GC9LM015623 186\n"
     ]
    },
    {
     "name": "stderr",
     "output_type": "stream",
     "text": [
      "/tmp/ipykernel_1168028/1295774049.py:73: FutureWarning: Downcasting behavior in `replace` is deprecated and will be removed in a future version. To retain the old behavior, explicitly call `result.infer_objects(copy=False)`. To opt-in to the future behavior, set `pd.set_option('future.no_silent_downcasting', True)`\n",
      "  std_replaced = std.replace(0, 1)\n",
      "/tmp/ipykernel_1168028/1295774049.py:77: SettingWithCopyWarning: \n",
      "A value is trying to be set on a copy of a slice from a DataFrame.\n",
      "Try using .loc[row_indexer,col_indexer] = value instead\n",
      "\n",
      "See the caveats in the documentation: https://pandas.pydata.org/pandas-docs/stable/user_guide/indexing.html#returning-a-view-versus-a-copy\n",
      "  original_df[columns_to_normalize] = normalized_df\n"
     ]
    },
    {
     "name": "stdout",
     "output_type": "stream",
     "text": [
      "1M2GR2GC9MM021343 187\n"
     ]
    },
    {
     "name": "stderr",
     "output_type": "stream",
     "text": [
      "/tmp/ipykernel_1168028/1295774049.py:73: FutureWarning: Downcasting behavior in `replace` is deprecated and will be removed in a future version. To retain the old behavior, explicitly call `result.infer_objects(copy=False)`. To opt-in to the future behavior, set `pd.set_option('future.no_silent_downcasting', True)`\n",
      "  std_replaced = std.replace(0, 1)\n",
      "/tmp/ipykernel_1168028/1295774049.py:77: SettingWithCopyWarning: \n",
      "A value is trying to be set on a copy of a slice from a DataFrame.\n",
      "Try using .loc[row_indexer,col_indexer] = value instead\n",
      "\n",
      "See the caveats in the documentation: https://pandas.pydata.org/pandas-docs/stable/user_guide/indexing.html#returning-a-view-versus-a-copy\n",
      "  original_df[columns_to_normalize] = normalized_df\n"
     ]
    },
    {
     "name": "stdout",
     "output_type": "stream",
     "text": [
      "1M2GR2GCXLM015727 188\n"
     ]
    },
    {
     "name": "stderr",
     "output_type": "stream",
     "text": [
      "/tmp/ipykernel_1168028/1295774049.py:73: FutureWarning: Downcasting behavior in `replace` is deprecated and will be removed in a future version. To retain the old behavior, explicitly call `result.infer_objects(copy=False)`. To opt-in to the future behavior, set `pd.set_option('future.no_silent_downcasting', True)`\n",
      "  std_replaced = std.replace(0, 1)\n",
      "/tmp/ipykernel_1168028/1295774049.py:77: SettingWithCopyWarning: \n",
      "A value is trying to be set on a copy of a slice from a DataFrame.\n",
      "Try using .loc[row_indexer,col_indexer] = value instead\n",
      "\n",
      "See the caveats in the documentation: https://pandas.pydata.org/pandas-docs/stable/user_guide/indexing.html#returning-a-view-versus-a-copy\n",
      "  original_df[columns_to_normalize] = normalized_df\n"
     ]
    },
    {
     "name": "stdout",
     "output_type": "stream",
     "text": [
      "1M2GR2NC2KM001077 189\n"
     ]
    },
    {
     "name": "stderr",
     "output_type": "stream",
     "text": [
      "/tmp/ipykernel_1168028/1295774049.py:73: FutureWarning: Downcasting behavior in `replace` is deprecated and will be removed in a future version. To retain the old behavior, explicitly call `result.infer_objects(copy=False)`. To opt-in to the future behavior, set `pd.set_option('future.no_silent_downcasting', True)`\n",
      "  std_replaced = std.replace(0, 1)\n",
      "/tmp/ipykernel_1168028/1295774049.py:77: SettingWithCopyWarning: \n",
      "A value is trying to be set on a copy of a slice from a DataFrame.\n",
      "Try using .loc[row_indexer,col_indexer] = value instead\n",
      "\n",
      "See the caveats in the documentation: https://pandas.pydata.org/pandas-docs/stable/user_guide/indexing.html#returning-a-view-versus-a-copy\n",
      "  original_df[columns_to_normalize] = normalized_df\n"
     ]
    },
    {
     "name": "stdout",
     "output_type": "stream",
     "text": [
      "1M2GR2NCXMM001718 190\n"
     ]
    },
    {
     "name": "stderr",
     "output_type": "stream",
     "text": [
      "/tmp/ipykernel_1168028/1295774049.py:73: FutureWarning: Downcasting behavior in `replace` is deprecated and will be removed in a future version. To retain the old behavior, explicitly call `result.infer_objects(copy=False)`. To opt-in to the future behavior, set `pd.set_option('future.no_silent_downcasting', True)`\n",
      "  std_replaced = std.replace(0, 1)\n",
      "/tmp/ipykernel_1168028/1295774049.py:77: SettingWithCopyWarning: \n",
      "A value is trying to be set on a copy of a slice from a DataFrame.\n",
      "Try using .loc[row_indexer,col_indexer] = value instead\n",
      "\n",
      "See the caveats in the documentation: https://pandas.pydata.org/pandas-docs/stable/user_guide/indexing.html#returning-a-view-versus-a-copy\n",
      "  original_df[columns_to_normalize] = normalized_df\n"
     ]
    },
    {
     "name": "stdout",
     "output_type": "stream",
     "text": [
      "1M2GR2TC4LM001098 191\n"
     ]
    },
    {
     "name": "stderr",
     "output_type": "stream",
     "text": [
      "/tmp/ipykernel_1168028/1295774049.py:73: FutureWarning: Downcasting behavior in `replace` is deprecated and will be removed in a future version. To retain the old behavior, explicitly call `result.infer_objects(copy=False)`. To opt-in to the future behavior, set `pd.set_option('future.no_silent_downcasting', True)`\n",
      "  std_replaced = std.replace(0, 1)\n",
      "/tmp/ipykernel_1168028/1295774049.py:77: SettingWithCopyWarning: \n",
      "A value is trying to be set on a copy of a slice from a DataFrame.\n",
      "Try using .loc[row_indexer,col_indexer] = value instead\n",
      "\n",
      "See the caveats in the documentation: https://pandas.pydata.org/pandas-docs/stable/user_guide/indexing.html#returning-a-view-versus-a-copy\n",
      "  original_df[columns_to_normalize] = normalized_df\n"
     ]
    },
    {
     "name": "stdout",
     "output_type": "stream",
     "text": [
      "1M2GR3GC2KM006945 192\n"
     ]
    },
    {
     "name": "stderr",
     "output_type": "stream",
     "text": [
      "/tmp/ipykernel_1168028/1295774049.py:73: FutureWarning: Downcasting behavior in `replace` is deprecated and will be removed in a future version. To retain the old behavior, explicitly call `result.infer_objects(copy=False)`. To opt-in to the future behavior, set `pd.set_option('future.no_silent_downcasting', True)`\n",
      "  std_replaced = std.replace(0, 1)\n",
      "/tmp/ipykernel_1168028/1295774049.py:77: SettingWithCopyWarning: \n",
      "A value is trying to be set on a copy of a slice from a DataFrame.\n",
      "Try using .loc[row_indexer,col_indexer] = value instead\n",
      "\n",
      "See the caveats in the documentation: https://pandas.pydata.org/pandas-docs/stable/user_guide/indexing.html#returning-a-view-versus-a-copy\n",
      "  original_df[columns_to_normalize] = normalized_df\n"
     ]
    },
    {
     "name": "stdout",
     "output_type": "stream",
     "text": [
      "1M2GR3GC2LM010446 193\n"
     ]
    },
    {
     "name": "stderr",
     "output_type": "stream",
     "text": [
      "/tmp/ipykernel_1168028/1295774049.py:73: FutureWarning: Downcasting behavior in `replace` is deprecated and will be removed in a future version. To retain the old behavior, explicitly call `result.infer_objects(copy=False)`. To opt-in to the future behavior, set `pd.set_option('future.no_silent_downcasting', True)`\n",
      "  std_replaced = std.replace(0, 1)\n",
      "/tmp/ipykernel_1168028/1295774049.py:77: SettingWithCopyWarning: \n",
      "A value is trying to be set on a copy of a slice from a DataFrame.\n",
      "Try using .loc[row_indexer,col_indexer] = value instead\n",
      "\n",
      "See the caveats in the documentation: https://pandas.pydata.org/pandas-docs/stable/user_guide/indexing.html#returning-a-view-versus-a-copy\n",
      "  original_df[columns_to_normalize] = normalized_df\n"
     ]
    },
    {
     "name": "stdout",
     "output_type": "stream",
     "text": [
      "1M2GR3GC4MM021367 194\n"
     ]
    },
    {
     "name": "stderr",
     "output_type": "stream",
     "text": [
      "/tmp/ipykernel_1168028/1295774049.py:73: FutureWarning: Downcasting behavior in `replace` is deprecated and will be removed in a future version. To retain the old behavior, explicitly call `result.infer_objects(copy=False)`. To opt-in to the future behavior, set `pd.set_option('future.no_silent_downcasting', True)`\n",
      "  std_replaced = std.replace(0, 1)\n",
      "/tmp/ipykernel_1168028/1295774049.py:77: SettingWithCopyWarning: \n",
      "A value is trying to be set on a copy of a slice from a DataFrame.\n",
      "Try using .loc[row_indexer,col_indexer] = value instead\n",
      "\n",
      "See the caveats in the documentation: https://pandas.pydata.org/pandas-docs/stable/user_guide/indexing.html#returning-a-view-versus-a-copy\n",
      "  original_df[columns_to_normalize] = normalized_df\n"
     ]
    },
    {
     "name": "stdout",
     "output_type": "stream",
     "text": [
      "1M2GR3GCXKM010158 195\n"
     ]
    },
    {
     "name": "stderr",
     "output_type": "stream",
     "text": [
      "/tmp/ipykernel_1168028/1295774049.py:73: FutureWarning: Downcasting behavior in `replace` is deprecated and will be removed in a future version. To retain the old behavior, explicitly call `result.infer_objects(copy=False)`. To opt-in to the future behavior, set `pd.set_option('future.no_silent_downcasting', True)`\n",
      "  std_replaced = std.replace(0, 1)\n",
      "/tmp/ipykernel_1168028/1295774049.py:77: SettingWithCopyWarning: \n",
      "A value is trying to be set on a copy of a slice from a DataFrame.\n",
      "Try using .loc[row_indexer,col_indexer] = value instead\n",
      "\n",
      "See the caveats in the documentation: https://pandas.pydata.org/pandas-docs/stable/user_guide/indexing.html#returning-a-view-versus-a-copy\n",
      "  original_df[columns_to_normalize] = normalized_df\n"
     ]
    },
    {
     "name": "stdout",
     "output_type": "stream",
     "text": [
      "1M2GR3GCXNM025974 196\n"
     ]
    },
    {
     "name": "stderr",
     "output_type": "stream",
     "text": [
      "/tmp/ipykernel_1168028/1295774049.py:73: FutureWarning: Downcasting behavior in `replace` is deprecated and will be removed in a future version. To retain the old behavior, explicitly call `result.infer_objects(copy=False)`. To opt-in to the future behavior, set `pd.set_option('future.no_silent_downcasting', True)`\n",
      "  std_replaced = std.replace(0, 1)\n",
      "/tmp/ipykernel_1168028/1295774049.py:77: SettingWithCopyWarning: \n",
      "A value is trying to be set on a copy of a slice from a DataFrame.\n",
      "Try using .loc[row_indexer,col_indexer] = value instead\n",
      "\n",
      "See the caveats in the documentation: https://pandas.pydata.org/pandas-docs/stable/user_guide/indexing.html#returning-a-view-versus-a-copy\n",
      "  original_df[columns_to_normalize] = normalized_df\n"
     ]
    },
    {
     "name": "stdout",
     "output_type": "stream",
     "text": [
      "1M2GR3NC2LM001328 197\n"
     ]
    },
    {
     "name": "stderr",
     "output_type": "stream",
     "text": [
      "/tmp/ipykernel_1168028/1295774049.py:73: FutureWarning: Downcasting behavior in `replace` is deprecated and will be removed in a future version. To retain the old behavior, explicitly call `result.infer_objects(copy=False)`. To opt-in to the future behavior, set `pd.set_option('future.no_silent_downcasting', True)`\n",
      "  std_replaced = std.replace(0, 1)\n",
      "/tmp/ipykernel_1168028/1295774049.py:77: SettingWithCopyWarning: \n",
      "A value is trying to be set on a copy of a slice from a DataFrame.\n",
      "Try using .loc[row_indexer,col_indexer] = value instead\n",
      "\n",
      "See the caveats in the documentation: https://pandas.pydata.org/pandas-docs/stable/user_guide/indexing.html#returning-a-view-versus-a-copy\n",
      "  original_df[columns_to_normalize] = normalized_df\n"
     ]
    },
    {
     "name": "stdout",
     "output_type": "stream",
     "text": [
      "1M2GR4GC0KM010160 198\n"
     ]
    },
    {
     "name": "stderr",
     "output_type": "stream",
     "text": [
      "/tmp/ipykernel_1168028/1295774049.py:73: FutureWarning: Downcasting behavior in `replace` is deprecated and will be removed in a future version. To retain the old behavior, explicitly call `result.infer_objects(copy=False)`. To opt-in to the future behavior, set `pd.set_option('future.no_silent_downcasting', True)`\n",
      "  std_replaced = std.replace(0, 1)\n",
      "/tmp/ipykernel_1168028/1295774049.py:77: SettingWithCopyWarning: \n",
      "A value is trying to be set on a copy of a slice from a DataFrame.\n",
      "Try using .loc[row_indexer,col_indexer] = value instead\n",
      "\n",
      "See the caveats in the documentation: https://pandas.pydata.org/pandas-docs/stable/user_guide/indexing.html#returning-a-view-versus-a-copy\n",
      "  original_df[columns_to_normalize] = normalized_df\n"
     ]
    },
    {
     "name": "stdout",
     "output_type": "stream",
     "text": [
      "1M2GR4GC1KM009583 199\n"
     ]
    },
    {
     "name": "stderr",
     "output_type": "stream",
     "text": [
      "/tmp/ipykernel_1168028/1295774049.py:73: FutureWarning: Downcasting behavior in `replace` is deprecated and will be removed in a future version. To retain the old behavior, explicitly call `result.infer_objects(copy=False)`. To opt-in to the future behavior, set `pd.set_option('future.no_silent_downcasting', True)`\n",
      "  std_replaced = std.replace(0, 1)\n",
      "/tmp/ipykernel_1168028/1295774049.py:77: SettingWithCopyWarning: \n",
      "A value is trying to be set on a copy of a slice from a DataFrame.\n",
      "Try using .loc[row_indexer,col_indexer] = value instead\n",
      "\n",
      "See the caveats in the documentation: https://pandas.pydata.org/pandas-docs/stable/user_guide/indexing.html#returning-a-view-versus-a-copy\n",
      "  original_df[columns_to_normalize] = normalized_df\n"
     ]
    },
    {
     "name": "stdout",
     "output_type": "stream",
     "text": [
      "1M2GR4GC2KM007034 200\n"
     ]
    },
    {
     "name": "stderr",
     "output_type": "stream",
     "text": [
      "/tmp/ipykernel_1168028/1295774049.py:73: FutureWarning: Downcasting behavior in `replace` is deprecated and will be removed in a future version. To retain the old behavior, explicitly call `result.infer_objects(copy=False)`. To opt-in to the future behavior, set `pd.set_option('future.no_silent_downcasting', True)`\n",
      "  std_replaced = std.replace(0, 1)\n",
      "/tmp/ipykernel_1168028/1295774049.py:77: SettingWithCopyWarning: \n",
      "A value is trying to be set on a copy of a slice from a DataFrame.\n",
      "Try using .loc[row_indexer,col_indexer] = value instead\n",
      "\n",
      "See the caveats in the documentation: https://pandas.pydata.org/pandas-docs/stable/user_guide/indexing.html#returning-a-view-versus-a-copy\n",
      "  original_df[columns_to_normalize] = normalized_df\n"
     ]
    },
    {
     "name": "stdout",
     "output_type": "stream",
     "text": [
      "1M2GR4GC2LM012977 201\n"
     ]
    },
    {
     "name": "stderr",
     "output_type": "stream",
     "text": [
      "/tmp/ipykernel_1168028/1295774049.py:73: FutureWarning: Downcasting behavior in `replace` is deprecated and will be removed in a future version. To retain the old behavior, explicitly call `result.infer_objects(copy=False)`. To opt-in to the future behavior, set `pd.set_option('future.no_silent_downcasting', True)`\n",
      "  std_replaced = std.replace(0, 1)\n",
      "/tmp/ipykernel_1168028/1295774049.py:77: SettingWithCopyWarning: \n",
      "A value is trying to be set on a copy of a slice from a DataFrame.\n",
      "Try using .loc[row_indexer,col_indexer] = value instead\n",
      "\n",
      "See the caveats in the documentation: https://pandas.pydata.org/pandas-docs/stable/user_guide/indexing.html#returning-a-view-versus-a-copy\n",
      "  original_df[columns_to_normalize] = normalized_df\n"
     ]
    },
    {
     "name": "stdout",
     "output_type": "stream",
     "text": [
      "1M2GR4GC3MM020202 202\n"
     ]
    },
    {
     "name": "stderr",
     "output_type": "stream",
     "text": [
      "/tmp/ipykernel_1168028/1295774049.py:73: FutureWarning: Downcasting behavior in `replace` is deprecated and will be removed in a future version. To retain the old behavior, explicitly call `result.infer_objects(copy=False)`. To opt-in to the future behavior, set `pd.set_option('future.no_silent_downcasting', True)`\n",
      "  std_replaced = std.replace(0, 1)\n",
      "/tmp/ipykernel_1168028/1295774049.py:77: SettingWithCopyWarning: \n",
      "A value is trying to be set on a copy of a slice from a DataFrame.\n",
      "Try using .loc[row_indexer,col_indexer] = value instead\n",
      "\n",
      "See the caveats in the documentation: https://pandas.pydata.org/pandas-docs/stable/user_guide/indexing.html#returning-a-view-versus-a-copy\n",
      "  original_df[columns_to_normalize] = normalized_df\n"
     ]
    },
    {
     "name": "stdout",
     "output_type": "stream",
     "text": [
      "1M2GR4GC3MM021916 203\n"
     ]
    },
    {
     "name": "stderr",
     "output_type": "stream",
     "text": [
      "/tmp/ipykernel_1168028/1295774049.py:73: FutureWarning: Downcasting behavior in `replace` is deprecated and will be removed in a future version. To retain the old behavior, explicitly call `result.infer_objects(copy=False)`. To opt-in to the future behavior, set `pd.set_option('future.no_silent_downcasting', True)`\n",
      "  std_replaced = std.replace(0, 1)\n",
      "/tmp/ipykernel_1168028/1295774049.py:77: SettingWithCopyWarning: \n",
      "A value is trying to be set on a copy of a slice from a DataFrame.\n",
      "Try using .loc[row_indexer,col_indexer] = value instead\n",
      "\n",
      "See the caveats in the documentation: https://pandas.pydata.org/pandas-docs/stable/user_guide/indexing.html#returning-a-view-versus-a-copy\n",
      "  original_df[columns_to_normalize] = normalized_df\n"
     ]
    },
    {
     "name": "stdout",
     "output_type": "stream",
     "text": [
      "1M2GR4GC4MM020970 204\n"
     ]
    },
    {
     "name": "stderr",
     "output_type": "stream",
     "text": [
      "/tmp/ipykernel_1168028/1295774049.py:73: FutureWarning: Downcasting behavior in `replace` is deprecated and will be removed in a future version. To retain the old behavior, explicitly call `result.infer_objects(copy=False)`. To opt-in to the future behavior, set `pd.set_option('future.no_silent_downcasting', True)`\n",
      "  std_replaced = std.replace(0, 1)\n",
      "/tmp/ipykernel_1168028/1295774049.py:77: SettingWithCopyWarning: \n",
      "A value is trying to be set on a copy of a slice from a DataFrame.\n",
      "Try using .loc[row_indexer,col_indexer] = value instead\n",
      "\n",
      "See the caveats in the documentation: https://pandas.pydata.org/pandas-docs/stable/user_guide/indexing.html#returning-a-view-versus-a-copy\n",
      "  original_df[columns_to_normalize] = normalized_df\n"
     ]
    },
    {
     "name": "stdout",
     "output_type": "stream",
     "text": [
      "1M2GR4GC4MM021519 205\n"
     ]
    },
    {
     "name": "stderr",
     "output_type": "stream",
     "text": [
      "/tmp/ipykernel_1168028/1295774049.py:73: FutureWarning: Downcasting behavior in `replace` is deprecated and will be removed in a future version. To retain the old behavior, explicitly call `result.infer_objects(copy=False)`. To opt-in to the future behavior, set `pd.set_option('future.no_silent_downcasting', True)`\n",
      "  std_replaced = std.replace(0, 1)\n",
      "/tmp/ipykernel_1168028/1295774049.py:77: SettingWithCopyWarning: \n",
      "A value is trying to be set on a copy of a slice from a DataFrame.\n",
      "Try using .loc[row_indexer,col_indexer] = value instead\n",
      "\n",
      "See the caveats in the documentation: https://pandas.pydata.org/pandas-docs/stable/user_guide/indexing.html#returning-a-view-versus-a-copy\n",
      "  original_df[columns_to_normalize] = normalized_df\n"
     ]
    },
    {
     "name": "stdout",
     "output_type": "stream",
     "text": [
      "1M2GR4GC5NM025919 206\n"
     ]
    },
    {
     "name": "stderr",
     "output_type": "stream",
     "text": [
      "/tmp/ipykernel_1168028/1295774049.py:73: FutureWarning: Downcasting behavior in `replace` is deprecated and will be removed in a future version. To retain the old behavior, explicitly call `result.infer_objects(copy=False)`. To opt-in to the future behavior, set `pd.set_option('future.no_silent_downcasting', True)`\n",
      "  std_replaced = std.replace(0, 1)\n",
      "/tmp/ipykernel_1168028/1295774049.py:77: SettingWithCopyWarning: \n",
      "A value is trying to be set on a copy of a slice from a DataFrame.\n",
      "Try using .loc[row_indexer,col_indexer] = value instead\n",
      "\n",
      "See the caveats in the documentation: https://pandas.pydata.org/pandas-docs/stable/user_guide/indexing.html#returning-a-view-versus-a-copy\n",
      "  original_df[columns_to_normalize] = normalized_df\n"
     ]
    },
    {
     "name": "stdout",
     "output_type": "stream",
     "text": [
      "1M2GR4GC6NM025038 207\n"
     ]
    },
    {
     "name": "stderr",
     "output_type": "stream",
     "text": [
      "/tmp/ipykernel_1168028/1295774049.py:73: FutureWarning: Downcasting behavior in `replace` is deprecated and will be removed in a future version. To retain the old behavior, explicitly call `result.infer_objects(copy=False)`. To opt-in to the future behavior, set `pd.set_option('future.no_silent_downcasting', True)`\n",
      "  std_replaced = std.replace(0, 1)\n",
      "/tmp/ipykernel_1168028/1295774049.py:77: SettingWithCopyWarning: \n",
      "A value is trying to be set on a copy of a slice from a DataFrame.\n",
      "Try using .loc[row_indexer,col_indexer] = value instead\n",
      "\n",
      "See the caveats in the documentation: https://pandas.pydata.org/pandas-docs/stable/user_guide/indexing.html#returning-a-view-versus-a-copy\n",
      "  original_df[columns_to_normalize] = normalized_df\n"
     ]
    },
    {
     "name": "stdout",
     "output_type": "stream",
     "text": [
      "1M2GR4GC6NM027596 208\n"
     ]
    },
    {
     "name": "stderr",
     "output_type": "stream",
     "text": [
      "/tmp/ipykernel_1168028/1295774049.py:73: FutureWarning: Downcasting behavior in `replace` is deprecated and will be removed in a future version. To retain the old behavior, explicitly call `result.infer_objects(copy=False)`. To opt-in to the future behavior, set `pd.set_option('future.no_silent_downcasting', True)`\n",
      "  std_replaced = std.replace(0, 1)\n",
      "/tmp/ipykernel_1168028/1295774049.py:77: SettingWithCopyWarning: \n",
      "A value is trying to be set on a copy of a slice from a DataFrame.\n",
      "Try using .loc[row_indexer,col_indexer] = value instead\n",
      "\n",
      "See the caveats in the documentation: https://pandas.pydata.org/pandas-docs/stable/user_guide/indexing.html#returning-a-view-versus-a-copy\n",
      "  original_df[columns_to_normalize] = normalized_df\n"
     ]
    },
    {
     "name": "stdout",
     "output_type": "stream",
     "text": [
      "1M2GR4GC7LM014983 209\n"
     ]
    },
    {
     "name": "stderr",
     "output_type": "stream",
     "text": [
      "/tmp/ipykernel_1168028/1295774049.py:73: FutureWarning: Downcasting behavior in `replace` is deprecated and will be removed in a future version. To retain the old behavior, explicitly call `result.infer_objects(copy=False)`. To opt-in to the future behavior, set `pd.set_option('future.no_silent_downcasting', True)`\n",
      "  std_replaced = std.replace(0, 1)\n",
      "/tmp/ipykernel_1168028/1295774049.py:77: SettingWithCopyWarning: \n",
      "A value is trying to be set on a copy of a slice from a DataFrame.\n",
      "Try using .loc[row_indexer,col_indexer] = value instead\n",
      "\n",
      "See the caveats in the documentation: https://pandas.pydata.org/pandas-docs/stable/user_guide/indexing.html#returning-a-view-versus-a-copy\n",
      "  original_df[columns_to_normalize] = normalized_df\n"
     ]
    },
    {
     "name": "stdout",
     "output_type": "stream",
     "text": [
      "1M2GR4GC9NM025955 210\n"
     ]
    },
    {
     "name": "stderr",
     "output_type": "stream",
     "text": [
      "/tmp/ipykernel_1168028/1295774049.py:73: FutureWarning: Downcasting behavior in `replace` is deprecated and will be removed in a future version. To retain the old behavior, explicitly call `result.infer_objects(copy=False)`. To opt-in to the future behavior, set `pd.set_option('future.no_silent_downcasting', True)`\n",
      "  std_replaced = std.replace(0, 1)\n",
      "/tmp/ipykernel_1168028/1295774049.py:77: SettingWithCopyWarning: \n",
      "A value is trying to be set on a copy of a slice from a DataFrame.\n",
      "Try using .loc[row_indexer,col_indexer] = value instead\n",
      "\n",
      "See the caveats in the documentation: https://pandas.pydata.org/pandas-docs/stable/user_guide/indexing.html#returning-a-view-versus-a-copy\n",
      "  original_df[columns_to_normalize] = normalized_df\n"
     ]
    },
    {
     "name": "stdout",
     "output_type": "stream",
     "text": [
      "1M2GR4GCXMM024697 211\n"
     ]
    },
    {
     "name": "stderr",
     "output_type": "stream",
     "text": [
      "/tmp/ipykernel_1168028/1295774049.py:73: FutureWarning: Downcasting behavior in `replace` is deprecated and will be removed in a future version. To retain the old behavior, explicitly call `result.infer_objects(copy=False)`. To opt-in to the future behavior, set `pd.set_option('future.no_silent_downcasting', True)`\n",
      "  std_replaced = std.replace(0, 1)\n",
      "/tmp/ipykernel_1168028/1295774049.py:77: SettingWithCopyWarning: \n",
      "A value is trying to be set on a copy of a slice from a DataFrame.\n",
      "Try using .loc[row_indexer,col_indexer] = value instead\n",
      "\n",
      "See the caveats in the documentation: https://pandas.pydata.org/pandas-docs/stable/user_guide/indexing.html#returning-a-view-versus-a-copy\n",
      "  original_df[columns_to_normalize] = normalized_df\n"
     ]
    },
    {
     "name": "stdout",
     "output_type": "stream",
     "text": [
      "1M2GR4NC4MM001970 212\n"
     ]
    },
    {
     "name": "stderr",
     "output_type": "stream",
     "text": [
      "/tmp/ipykernel_1168028/1295774049.py:73: FutureWarning: Downcasting behavior in `replace` is deprecated and will be removed in a future version. To retain the old behavior, explicitly call `result.infer_objects(copy=False)`. To opt-in to the future behavior, set `pd.set_option('future.no_silent_downcasting', True)`\n",
      "  std_replaced = std.replace(0, 1)\n",
      "/tmp/ipykernel_1168028/1295774049.py:77: SettingWithCopyWarning: \n",
      "A value is trying to be set on a copy of a slice from a DataFrame.\n",
      "Try using .loc[row_indexer,col_indexer] = value instead\n",
      "\n",
      "See the caveats in the documentation: https://pandas.pydata.org/pandas-docs/stable/user_guide/indexing.html#returning-a-view-versus-a-copy\n",
      "  original_df[columns_to_normalize] = normalized_df\n"
     ]
    },
    {
     "name": "stdout",
     "output_type": "stream",
     "text": [
      "1M2LR1GC0MM003886 213\n"
     ]
    },
    {
     "name": "stderr",
     "output_type": "stream",
     "text": [
      "/tmp/ipykernel_1168028/1295774049.py:73: FutureWarning: Downcasting behavior in `replace` is deprecated and will be removed in a future version. To retain the old behavior, explicitly call `result.infer_objects(copy=False)`. To opt-in to the future behavior, set `pd.set_option('future.no_silent_downcasting', True)`\n",
      "  std_replaced = std.replace(0, 1)\n",
      "/tmp/ipykernel_1168028/1295774049.py:77: SettingWithCopyWarning: \n",
      "A value is trying to be set on a copy of a slice from a DataFrame.\n",
      "Try using .loc[row_indexer,col_indexer] = value instead\n",
      "\n",
      "See the caveats in the documentation: https://pandas.pydata.org/pandas-docs/stable/user_guide/indexing.html#returning-a-view-versus-a-copy\n",
      "  original_df[columns_to_normalize] = normalized_df\n"
     ]
    },
    {
     "name": "stdout",
     "output_type": "stream",
     "text": [
      "1M2LR1GC0MM004777 214\n"
     ]
    },
    {
     "name": "stderr",
     "output_type": "stream",
     "text": [
      "/tmp/ipykernel_1168028/1295774049.py:73: FutureWarning: Downcasting behavior in `replace` is deprecated and will be removed in a future version. To retain the old behavior, explicitly call `result.infer_objects(copy=False)`. To opt-in to the future behavior, set `pd.set_option('future.no_silent_downcasting', True)`\n",
      "  std_replaced = std.replace(0, 1)\n",
      "/tmp/ipykernel_1168028/1295774049.py:77: SettingWithCopyWarning: \n",
      "A value is trying to be set on a copy of a slice from a DataFrame.\n",
      "Try using .loc[row_indexer,col_indexer] = value instead\n",
      "\n",
      "See the caveats in the documentation: https://pandas.pydata.org/pandas-docs/stable/user_guide/indexing.html#returning-a-view-versus-a-copy\n",
      "  original_df[columns_to_normalize] = normalized_df\n"
     ]
    },
    {
     "name": "stdout",
     "output_type": "stream",
     "text": [
      "1M2LR1GC6MM004296 215\n"
     ]
    },
    {
     "name": "stderr",
     "output_type": "stream",
     "text": [
      "/tmp/ipykernel_1168028/1295774049.py:73: FutureWarning: Downcasting behavior in `replace` is deprecated and will be removed in a future version. To retain the old behavior, explicitly call `result.infer_objects(copy=False)`. To opt-in to the future behavior, set `pd.set_option('future.no_silent_downcasting', True)`\n",
      "  std_replaced = std.replace(0, 1)\n",
      "/tmp/ipykernel_1168028/1295774049.py:77: SettingWithCopyWarning: \n",
      "A value is trying to be set on a copy of a slice from a DataFrame.\n",
      "Try using .loc[row_indexer,col_indexer] = value instead\n",
      "\n",
      "See the caveats in the documentation: https://pandas.pydata.org/pandas-docs/stable/user_guide/indexing.html#returning-a-view-versus-a-copy\n",
      "  original_df[columns_to_normalize] = normalized_df\n"
     ]
    },
    {
     "name": "stdout",
     "output_type": "stream",
     "text": [
      "1M2LR1GC6NM005384 216\n"
     ]
    },
    {
     "name": "stderr",
     "output_type": "stream",
     "text": [
      "/tmp/ipykernel_1168028/1295774049.py:73: FutureWarning: Downcasting behavior in `replace` is deprecated and will be removed in a future version. To retain the old behavior, explicitly call `result.infer_objects(copy=False)`. To opt-in to the future behavior, set `pd.set_option('future.no_silent_downcasting', True)`\n",
      "  std_replaced = std.replace(0, 1)\n",
      "/tmp/ipykernel_1168028/1295774049.py:77: SettingWithCopyWarning: \n",
      "A value is trying to be set on a copy of a slice from a DataFrame.\n",
      "Try using .loc[row_indexer,col_indexer] = value instead\n",
      "\n",
      "See the caveats in the documentation: https://pandas.pydata.org/pandas-docs/stable/user_guide/indexing.html#returning-a-view-versus-a-copy\n",
      "  original_df[columns_to_normalize] = normalized_df\n"
     ]
    },
    {
     "name": "stdout",
     "output_type": "stream",
     "text": [
      "1M2LR1GC8LM003388 217\n"
     ]
    },
    {
     "name": "stderr",
     "output_type": "stream",
     "text": [
      "/tmp/ipykernel_1168028/1295774049.py:73: FutureWarning: Downcasting behavior in `replace` is deprecated and will be removed in a future version. To retain the old behavior, explicitly call `result.infer_objects(copy=False)`. To opt-in to the future behavior, set `pd.set_option('future.no_silent_downcasting', True)`\n",
      "  std_replaced = std.replace(0, 1)\n",
      "/tmp/ipykernel_1168028/1295774049.py:77: SettingWithCopyWarning: \n",
      "A value is trying to be set on a copy of a slice from a DataFrame.\n",
      "Try using .loc[row_indexer,col_indexer] = value instead\n",
      "\n",
      "See the caveats in the documentation: https://pandas.pydata.org/pandas-docs/stable/user_guide/indexing.html#returning-a-view-versus-a-copy\n",
      "  original_df[columns_to_normalize] = normalized_df\n"
     ]
    },
    {
     "name": "stdout",
     "output_type": "stream",
     "text": [
      "1M2LR1GC8MM003795 218\n"
     ]
    },
    {
     "name": "stderr",
     "output_type": "stream",
     "text": [
      "/tmp/ipykernel_1168028/1295774049.py:73: FutureWarning: Downcasting behavior in `replace` is deprecated and will be removed in a future version. To retain the old behavior, explicitly call `result.infer_objects(copy=False)`. To opt-in to the future behavior, set `pd.set_option('future.no_silent_downcasting', True)`\n",
      "  std_replaced = std.replace(0, 1)\n",
      "/tmp/ipykernel_1168028/1295774049.py:77: SettingWithCopyWarning: \n",
      "A value is trying to be set on a copy of a slice from a DataFrame.\n",
      "Try using .loc[row_indexer,col_indexer] = value instead\n",
      "\n",
      "See the caveats in the documentation: https://pandas.pydata.org/pandas-docs/stable/user_guide/indexing.html#returning-a-view-versus-a-copy\n",
      "  original_df[columns_to_normalize] = normalized_df\n"
     ]
    },
    {
     "name": "stdout",
     "output_type": "stream",
     "text": [
      "1M2LR1GCXMM003927 219\n"
     ]
    },
    {
     "name": "stderr",
     "output_type": "stream",
     "text": [
      "/tmp/ipykernel_1168028/1295774049.py:73: FutureWarning: Downcasting behavior in `replace` is deprecated and will be removed in a future version. To retain the old behavior, explicitly call `result.infer_objects(copy=False)`. To opt-in to the future behavior, set `pd.set_option('future.no_silent_downcasting', True)`\n",
      "  std_replaced = std.replace(0, 1)\n",
      "/tmp/ipykernel_1168028/1295774049.py:77: SettingWithCopyWarning: \n",
      "A value is trying to be set on a copy of a slice from a DataFrame.\n",
      "Try using .loc[row_indexer,col_indexer] = value instead\n",
      "\n",
      "See the caveats in the documentation: https://pandas.pydata.org/pandas-docs/stable/user_guide/indexing.html#returning-a-view-versus-a-copy\n",
      "  original_df[columns_to_normalize] = normalized_df\n"
     ]
    },
    {
     "name": "stdout",
     "output_type": "stream",
     "text": [
      "1M2LR2GC2KM002077 220\n"
     ]
    },
    {
     "name": "stderr",
     "output_type": "stream",
     "text": [
      "/tmp/ipykernel_1168028/1295774049.py:73: FutureWarning: Downcasting behavior in `replace` is deprecated and will be removed in a future version. To retain the old behavior, explicitly call `result.infer_objects(copy=False)`. To opt-in to the future behavior, set `pd.set_option('future.no_silent_downcasting', True)`\n",
      "  std_replaced = std.replace(0, 1)\n",
      "/tmp/ipykernel_1168028/1295774049.py:77: SettingWithCopyWarning: \n",
      "A value is trying to be set on a copy of a slice from a DataFrame.\n",
      "Try using .loc[row_indexer,col_indexer] = value instead\n",
      "\n",
      "See the caveats in the documentation: https://pandas.pydata.org/pandas-docs/stable/user_guide/indexing.html#returning-a-view-versus-a-copy\n",
      "  original_df[columns_to_normalize] = normalized_df\n"
     ]
    },
    {
     "name": "stdout",
     "output_type": "stream",
     "text": [
      "1M2LR2GC3KM001164 221\n"
     ]
    },
    {
     "name": "stderr",
     "output_type": "stream",
     "text": [
      "/tmp/ipykernel_1168028/1295774049.py:73: FutureWarning: Downcasting behavior in `replace` is deprecated and will be removed in a future version. To retain the old behavior, explicitly call `result.infer_objects(copy=False)`. To opt-in to the future behavior, set `pd.set_option('future.no_silent_downcasting', True)`\n",
      "  std_replaced = std.replace(0, 1)\n",
      "/tmp/ipykernel_1168028/1295774049.py:77: SettingWithCopyWarning: \n",
      "A value is trying to be set on a copy of a slice from a DataFrame.\n",
      "Try using .loc[row_indexer,col_indexer] = value instead\n",
      "\n",
      "See the caveats in the documentation: https://pandas.pydata.org/pandas-docs/stable/user_guide/indexing.html#returning-a-view-versus-a-copy\n",
      "  original_df[columns_to_normalize] = normalized_df\n"
     ]
    },
    {
     "name": "stdout",
     "output_type": "stream",
     "text": [
      "1M2LR2GC3NM005512 222\n"
     ]
    },
    {
     "name": "stderr",
     "output_type": "stream",
     "text": [
      "/tmp/ipykernel_1168028/1295774049.py:73: FutureWarning: Downcasting behavior in `replace` is deprecated and will be removed in a future version. To retain the old behavior, explicitly call `result.infer_objects(copy=False)`. To opt-in to the future behavior, set `pd.set_option('future.no_silent_downcasting', True)`\n",
      "  std_replaced = std.replace(0, 1)\n",
      "/tmp/ipykernel_1168028/1295774049.py:77: SettingWithCopyWarning: \n",
      "A value is trying to be set on a copy of a slice from a DataFrame.\n",
      "Try using .loc[row_indexer,col_indexer] = value instead\n",
      "\n",
      "See the caveats in the documentation: https://pandas.pydata.org/pandas-docs/stable/user_guide/indexing.html#returning-a-view-versus-a-copy\n",
      "  original_df[columns_to_normalize] = normalized_df\n"
     ]
    },
    {
     "name": "stdout",
     "output_type": "stream",
     "text": [
      "1M2LR2GC6MM004501 223\n"
     ]
    },
    {
     "name": "stderr",
     "output_type": "stream",
     "text": [
      "/tmp/ipykernel_1168028/1295774049.py:73: FutureWarning: Downcasting behavior in `replace` is deprecated and will be removed in a future version. To retain the old behavior, explicitly call `result.infer_objects(copy=False)`. To opt-in to the future behavior, set `pd.set_option('future.no_silent_downcasting', True)`\n",
      "  std_replaced = std.replace(0, 1)\n",
      "/tmp/ipykernel_1168028/1295774049.py:77: SettingWithCopyWarning: \n",
      "A value is trying to be set on a copy of a slice from a DataFrame.\n",
      "Try using .loc[row_indexer,col_indexer] = value instead\n",
      "\n",
      "See the caveats in the documentation: https://pandas.pydata.org/pandas-docs/stable/user_guide/indexing.html#returning-a-view-versus-a-copy\n",
      "  original_df[columns_to_normalize] = normalized_df\n"
     ]
    },
    {
     "name": "stdout",
     "output_type": "stream",
     "text": [
      "1M2LR2GC7KM001412 224\n"
     ]
    },
    {
     "name": "stderr",
     "output_type": "stream",
     "text": [
      "/tmp/ipykernel_1168028/1295774049.py:73: FutureWarning: Downcasting behavior in `replace` is deprecated and will be removed in a future version. To retain the old behavior, explicitly call `result.infer_objects(copy=False)`. To opt-in to the future behavior, set `pd.set_option('future.no_silent_downcasting', True)`\n",
      "  std_replaced = std.replace(0, 1)\n",
      "/tmp/ipykernel_1168028/1295774049.py:77: SettingWithCopyWarning: \n",
      "A value is trying to be set on a copy of a slice from a DataFrame.\n",
      "Try using .loc[row_indexer,col_indexer] = value instead\n",
      "\n",
      "See the caveats in the documentation: https://pandas.pydata.org/pandas-docs/stable/user_guide/indexing.html#returning-a-view-versus-a-copy\n",
      "  original_df[columns_to_normalize] = normalized_df\n"
     ]
    },
    {
     "name": "stdout",
     "output_type": "stream",
     "text": [
      "1M2LR2GC9LM002580 225\n"
     ]
    },
    {
     "name": "stderr",
     "output_type": "stream",
     "text": [
      "/tmp/ipykernel_1168028/1295774049.py:73: FutureWarning: Downcasting behavior in `replace` is deprecated and will be removed in a future version. To retain the old behavior, explicitly call `result.infer_objects(copy=False)`. To opt-in to the future behavior, set `pd.set_option('future.no_silent_downcasting', True)`\n",
      "  std_replaced = std.replace(0, 1)\n",
      "/tmp/ipykernel_1168028/1295774049.py:77: SettingWithCopyWarning: \n",
      "A value is trying to be set on a copy of a slice from a DataFrame.\n",
      "Try using .loc[row_indexer,col_indexer] = value instead\n",
      "\n",
      "See the caveats in the documentation: https://pandas.pydata.org/pandas-docs/stable/user_guide/indexing.html#returning-a-view-versus-a-copy\n",
      "  original_df[columns_to_normalize] = normalized_df\n"
     ]
    },
    {
     "name": "stdout",
     "output_type": "stream",
     "text": [
      "1M2PN3GC0MM007607 226\n"
     ]
    },
    {
     "name": "stderr",
     "output_type": "stream",
     "text": [
      "/tmp/ipykernel_1168028/1295774049.py:73: FutureWarning: Downcasting behavior in `replace` is deprecated and will be removed in a future version. To retain the old behavior, explicitly call `result.infer_objects(copy=False)`. To opt-in to the future behavior, set `pd.set_option('future.no_silent_downcasting', True)`\n",
      "  std_replaced = std.replace(0, 1)\n",
      "/tmp/ipykernel_1168028/1295774049.py:77: SettingWithCopyWarning: \n",
      "A value is trying to be set on a copy of a slice from a DataFrame.\n",
      "Try using .loc[row_indexer,col_indexer] = value instead\n",
      "\n",
      "See the caveats in the documentation: https://pandas.pydata.org/pandas-docs/stable/user_guide/indexing.html#returning-a-view-versus-a-copy\n",
      "  original_df[columns_to_normalize] = normalized_df\n"
     ]
    },
    {
     "name": "stdout",
     "output_type": "stream",
     "text": [
      "1M2PN4GC7LM006507 227\n"
     ]
    },
    {
     "name": "stderr",
     "output_type": "stream",
     "text": [
      "/tmp/ipykernel_1168028/1295774049.py:73: FutureWarning: Downcasting behavior in `replace` is deprecated and will be removed in a future version. To retain the old behavior, explicitly call `result.infer_objects(copy=False)`. To opt-in to the future behavior, set `pd.set_option('future.no_silent_downcasting', True)`\n",
      "  std_replaced = std.replace(0, 1)\n",
      "/tmp/ipykernel_1168028/1295774049.py:77: SettingWithCopyWarning: \n",
      "A value is trying to be set on a copy of a slice from a DataFrame.\n",
      "Try using .loc[row_indexer,col_indexer] = value instead\n",
      "\n",
      "See the caveats in the documentation: https://pandas.pydata.org/pandas-docs/stable/user_guide/indexing.html#returning-a-view-versus-a-copy\n",
      "  original_df[columns_to_normalize] = normalized_df\n"
     ]
    },
    {
     "name": "stdout",
     "output_type": "stream",
     "text": [
      "1M2TE1GC3LM004430 228\n"
     ]
    },
    {
     "name": "stderr",
     "output_type": "stream",
     "text": [
      "/tmp/ipykernel_1168028/1295774049.py:73: FutureWarning: Downcasting behavior in `replace` is deprecated and will be removed in a future version. To retain the old behavior, explicitly call `result.infer_objects(copy=False)`. To opt-in to the future behavior, set `pd.set_option('future.no_silent_downcasting', True)`\n",
      "  std_replaced = std.replace(0, 1)\n",
      "/tmp/ipykernel_1168028/1295774049.py:77: SettingWithCopyWarning: \n",
      "A value is trying to be set on a copy of a slice from a DataFrame.\n",
      "Try using .loc[row_indexer,col_indexer] = value instead\n",
      "\n",
      "See the caveats in the documentation: https://pandas.pydata.org/pandas-docs/stable/user_guide/indexing.html#returning-a-view-versus-a-copy\n",
      "  original_df[columns_to_normalize] = normalized_df\n"
     ]
    },
    {
     "name": "stdout",
     "output_type": "stream",
     "text": [
      "1M2TE1GC3MM005563 229\n"
     ]
    },
    {
     "name": "stderr",
     "output_type": "stream",
     "text": [
      "/tmp/ipykernel_1168028/1295774049.py:73: FutureWarning: Downcasting behavior in `replace` is deprecated and will be removed in a future version. To retain the old behavior, explicitly call `result.infer_objects(copy=False)`. To opt-in to the future behavior, set `pd.set_option('future.no_silent_downcasting', True)`\n",
      "  std_replaced = std.replace(0, 1)\n",
      "/tmp/ipykernel_1168028/1295774049.py:77: SettingWithCopyWarning: \n",
      "A value is trying to be set on a copy of a slice from a DataFrame.\n",
      "Try using .loc[row_indexer,col_indexer] = value instead\n",
      "\n",
      "See the caveats in the documentation: https://pandas.pydata.org/pandas-docs/stable/user_guide/indexing.html#returning-a-view-versus-a-copy\n",
      "  original_df[columns_to_normalize] = normalized_df\n"
     ]
    },
    {
     "name": "stdout",
     "output_type": "stream",
     "text": [
      "1M2TE1GC4KM001177 230\n"
     ]
    },
    {
     "name": "stderr",
     "output_type": "stream",
     "text": [
      "/tmp/ipykernel_1168028/1295774049.py:73: FutureWarning: Downcasting behavior in `replace` is deprecated and will be removed in a future version. To retain the old behavior, explicitly call `result.infer_objects(copy=False)`. To opt-in to the future behavior, set `pd.set_option('future.no_silent_downcasting', True)`\n",
      "  std_replaced = std.replace(0, 1)\n",
      "/tmp/ipykernel_1168028/1295774049.py:77: SettingWithCopyWarning: \n",
      "A value is trying to be set on a copy of a slice from a DataFrame.\n",
      "Try using .loc[row_indexer,col_indexer] = value instead\n",
      "\n",
      "See the caveats in the documentation: https://pandas.pydata.org/pandas-docs/stable/user_guide/indexing.html#returning-a-view-versus-a-copy\n",
      "  original_df[columns_to_normalize] = normalized_df\n"
     ]
    },
    {
     "name": "stdout",
     "output_type": "stream",
     "text": [
      "1M2TE1GC5KM001222 231\n"
     ]
    },
    {
     "name": "stderr",
     "output_type": "stream",
     "text": [
      "/tmp/ipykernel_1168028/1295774049.py:73: FutureWarning: Downcasting behavior in `replace` is deprecated and will be removed in a future version. To retain the old behavior, explicitly call `result.infer_objects(copy=False)`. To opt-in to the future behavior, set `pd.set_option('future.no_silent_downcasting', True)`\n",
      "  std_replaced = std.replace(0, 1)\n",
      "/tmp/ipykernel_1168028/1295774049.py:77: SettingWithCopyWarning: \n",
      "A value is trying to be set on a copy of a slice from a DataFrame.\n",
      "Try using .loc[row_indexer,col_indexer] = value instead\n",
      "\n",
      "See the caveats in the documentation: https://pandas.pydata.org/pandas-docs/stable/user_guide/indexing.html#returning-a-view-versus-a-copy\n",
      "  original_df[columns_to_normalize] = normalized_df\n"
     ]
    },
    {
     "name": "stdout",
     "output_type": "stream",
     "text": [
      "1M2TE1GC8NM006581 232\n"
     ]
    },
    {
     "name": "stderr",
     "output_type": "stream",
     "text": [
      "/tmp/ipykernel_1168028/1295774049.py:73: FutureWarning: Downcasting behavior in `replace` is deprecated and will be removed in a future version. To retain the old behavior, explicitly call `result.infer_objects(copy=False)`. To opt-in to the future behavior, set `pd.set_option('future.no_silent_downcasting', True)`\n",
      "  std_replaced = std.replace(0, 1)\n",
      "/tmp/ipykernel_1168028/1295774049.py:77: SettingWithCopyWarning: \n",
      "A value is trying to be set on a copy of a slice from a DataFrame.\n",
      "Try using .loc[row_indexer,col_indexer] = value instead\n",
      "\n",
      "See the caveats in the documentation: https://pandas.pydata.org/pandas-docs/stable/user_guide/indexing.html#returning-a-view-versus-a-copy\n",
      "  original_df[columns_to_normalize] = normalized_df\n"
     ]
    },
    {
     "name": "stdout",
     "output_type": "stream",
     "text": [
      "1M2TE2GC0LM004438 233\n"
     ]
    },
    {
     "name": "stderr",
     "output_type": "stream",
     "text": [
      "/tmp/ipykernel_1168028/1295774049.py:73: FutureWarning: Downcasting behavior in `replace` is deprecated and will be removed in a future version. To retain the old behavior, explicitly call `result.infer_objects(copy=False)`. To opt-in to the future behavior, set `pd.set_option('future.no_silent_downcasting', True)`\n",
      "  std_replaced = std.replace(0, 1)\n",
      "/tmp/ipykernel_1168028/1295774049.py:77: SettingWithCopyWarning: \n",
      "A value is trying to be set on a copy of a slice from a DataFrame.\n",
      "Try using .loc[row_indexer,col_indexer] = value instead\n",
      "\n",
      "See the caveats in the documentation: https://pandas.pydata.org/pandas-docs/stable/user_guide/indexing.html#returning-a-view-versus-a-copy\n",
      "  original_df[columns_to_normalize] = normalized_df\n"
     ]
    },
    {
     "name": "stdout",
     "output_type": "stream",
     "text": [
      "1M2TE2GC1MM005681 234\n"
     ]
    },
    {
     "name": "stderr",
     "output_type": "stream",
     "text": [
      "/tmp/ipykernel_1168028/1295774049.py:73: FutureWarning: Downcasting behavior in `replace` is deprecated and will be removed in a future version. To retain the old behavior, explicitly call `result.infer_objects(copy=False)`. To opt-in to the future behavior, set `pd.set_option('future.no_silent_downcasting', True)`\n",
      "  std_replaced = std.replace(0, 1)\n",
      "/tmp/ipykernel_1168028/1295774049.py:77: SettingWithCopyWarning: \n",
      "A value is trying to be set on a copy of a slice from a DataFrame.\n",
      "Try using .loc[row_indexer,col_indexer] = value instead\n",
      "\n",
      "See the caveats in the documentation: https://pandas.pydata.org/pandas-docs/stable/user_guide/indexing.html#returning-a-view-versus-a-copy\n",
      "  original_df[columns_to_normalize] = normalized_df\n"
     ]
    },
    {
     "name": "stdout",
     "output_type": "stream",
     "text": [
      "1M2TE2GC4LM004720 235\n"
     ]
    },
    {
     "name": "stderr",
     "output_type": "stream",
     "text": [
      "/tmp/ipykernel_1168028/1295774049.py:73: FutureWarning: Downcasting behavior in `replace` is deprecated and will be removed in a future version. To retain the old behavior, explicitly call `result.infer_objects(copy=False)`. To opt-in to the future behavior, set `pd.set_option('future.no_silent_downcasting', True)`\n",
      "  std_replaced = std.replace(0, 1)\n",
      "/tmp/ipykernel_1168028/1295774049.py:77: SettingWithCopyWarning: \n",
      "A value is trying to be set on a copy of a slice from a DataFrame.\n",
      "Try using .loc[row_indexer,col_indexer] = value instead\n",
      "\n",
      "See the caveats in the documentation: https://pandas.pydata.org/pandas-docs/stable/user_guide/indexing.html#returning-a-view-versus-a-copy\n",
      "  original_df[columns_to_normalize] = normalized_df\n"
     ]
    },
    {
     "name": "stdout",
     "output_type": "stream",
     "text": [
      "1M2TE2GC6KM002093 236\n"
     ]
    },
    {
     "name": "stderr",
     "output_type": "stream",
     "text": [
      "/tmp/ipykernel_1168028/1295774049.py:73: FutureWarning: Downcasting behavior in `replace` is deprecated and will be removed in a future version. To retain the old behavior, explicitly call `result.infer_objects(copy=False)`. To opt-in to the future behavior, set `pd.set_option('future.no_silent_downcasting', True)`\n",
      "  std_replaced = std.replace(0, 1)\n",
      "/tmp/ipykernel_1168028/1295774049.py:77: SettingWithCopyWarning: \n",
      "A value is trying to be set on a copy of a slice from a DataFrame.\n",
      "Try using .loc[row_indexer,col_indexer] = value instead\n",
      "\n",
      "See the caveats in the documentation: https://pandas.pydata.org/pandas-docs/stable/user_guide/indexing.html#returning-a-view-versus-a-copy\n",
      "  original_df[columns_to_normalize] = normalized_df\n"
     ]
    },
    {
     "name": "stdout",
     "output_type": "stream",
     "text": [
      "1M2TE2GC6MM005059 237\n"
     ]
    },
    {
     "name": "stderr",
     "output_type": "stream",
     "text": [
      "/tmp/ipykernel_1168028/1295774049.py:73: FutureWarning: Downcasting behavior in `replace` is deprecated and will be removed in a future version. To retain the old behavior, explicitly call `result.infer_objects(copy=False)`. To opt-in to the future behavior, set `pd.set_option('future.no_silent_downcasting', True)`\n",
      "  std_replaced = std.replace(0, 1)\n",
      "/tmp/ipykernel_1168028/1295774049.py:77: SettingWithCopyWarning: \n",
      "A value is trying to be set on a copy of a slice from a DataFrame.\n",
      "Try using .loc[row_indexer,col_indexer] = value instead\n",
      "\n",
      "See the caveats in the documentation: https://pandas.pydata.org/pandas-docs/stable/user_guide/indexing.html#returning-a-view-versus-a-copy\n",
      "  original_df[columns_to_normalize] = normalized_df\n"
     ]
    },
    {
     "name": "stdout",
     "output_type": "stream",
     "text": [
      "1M2TE2GC9MM005749 238\n"
     ]
    },
    {
     "name": "stderr",
     "output_type": "stream",
     "text": [
      "/tmp/ipykernel_1168028/1295774049.py:73: FutureWarning: Downcasting behavior in `replace` is deprecated and will be removed in a future version. To retain the old behavior, explicitly call `result.infer_objects(copy=False)`. To opt-in to the future behavior, set `pd.set_option('future.no_silent_downcasting', True)`\n",
      "  std_replaced = std.replace(0, 1)\n",
      "/tmp/ipykernel_1168028/1295774049.py:77: SettingWithCopyWarning: \n",
      "A value is trying to be set on a copy of a slice from a DataFrame.\n",
      "Try using .loc[row_indexer,col_indexer] = value instead\n",
      "\n",
      "See the caveats in the documentation: https://pandas.pydata.org/pandas-docs/stable/user_guide/indexing.html#returning-a-view-versus-a-copy\n",
      "  original_df[columns_to_normalize] = normalized_df\n"
     ]
    },
    {
     "name": "stdout",
     "output_type": "stream",
     "text": [
      "1M2TE2GCXMM005369 239\n"
     ]
    },
    {
     "name": "stderr",
     "output_type": "stream",
     "text": [
      "/tmp/ipykernel_1168028/1295774049.py:73: FutureWarning: Downcasting behavior in `replace` is deprecated and will be removed in a future version. To retain the old behavior, explicitly call `result.infer_objects(copy=False)`. To opt-in to the future behavior, set `pd.set_option('future.no_silent_downcasting', True)`\n",
      "  std_replaced = std.replace(0, 1)\n",
      "/tmp/ipykernel_1168028/1295774049.py:77: SettingWithCopyWarning: \n",
      "A value is trying to be set on a copy of a slice from a DataFrame.\n",
      "Try using .loc[row_indexer,col_indexer] = value instead\n",
      "\n",
      "See the caveats in the documentation: https://pandas.pydata.org/pandas-docs/stable/user_guide/indexing.html#returning-a-view-versus-a-copy\n",
      "  original_df[columns_to_normalize] = normalized_df\n"
     ]
    },
    {
     "name": "stdout",
     "output_type": "stream",
     "text": [
      "1M2TE2GCXNM006586 240\n"
     ]
    },
    {
     "name": "stderr",
     "output_type": "stream",
     "text": [
      "/tmp/ipykernel_1168028/1295774049.py:73: FutureWarning: Downcasting behavior in `replace` is deprecated and will be removed in a future version. To retain the old behavior, explicitly call `result.infer_objects(copy=False)`. To opt-in to the future behavior, set `pd.set_option('future.no_silent_downcasting', True)`\n",
      "  std_replaced = std.replace(0, 1)\n",
      "/tmp/ipykernel_1168028/1295774049.py:77: SettingWithCopyWarning: \n",
      "A value is trying to be set on a copy of a slice from a DataFrame.\n",
      "Try using .loc[row_indexer,col_indexer] = value instead\n",
      "\n",
      "See the caveats in the documentation: https://pandas.pydata.org/pandas-docs/stable/user_guide/indexing.html#returning-a-view-versus-a-copy\n",
      "  original_df[columns_to_normalize] = normalized_df\n"
     ]
    },
    {
     "name": "stdout",
     "output_type": "stream",
     "text": [
      "4V4MC9DG2GN947904 241\n"
     ]
    },
    {
     "name": "stderr",
     "output_type": "stream",
     "text": [
      "/tmp/ipykernel_1168028/1295774049.py:73: FutureWarning: Downcasting behavior in `replace` is deprecated and will be removed in a future version. To retain the old behavior, explicitly call `result.infer_objects(copy=False)`. To opt-in to the future behavior, set `pd.set_option('future.no_silent_downcasting', True)`\n",
      "  std_replaced = std.replace(0, 1)\n",
      "/tmp/ipykernel_1168028/1295774049.py:77: SettingWithCopyWarning: \n",
      "A value is trying to be set on a copy of a slice from a DataFrame.\n",
      "Try using .loc[row_indexer,col_indexer] = value instead\n",
      "\n",
      "See the caveats in the documentation: https://pandas.pydata.org/pandas-docs/stable/user_guide/indexing.html#returning-a-view-versus-a-copy\n",
      "  original_df[columns_to_normalize] = normalized_df\n"
     ]
    },
    {
     "name": "stdout",
     "output_type": "stream",
     "text": [
      "4V4MC9DG8JN888753 242\n"
     ]
    },
    {
     "name": "stderr",
     "output_type": "stream",
     "text": [
      "/tmp/ipykernel_1168028/1295774049.py:73: FutureWarning: Downcasting behavior in `replace` is deprecated and will be removed in a future version. To retain the old behavior, explicitly call `result.infer_objects(copy=False)`. To opt-in to the future behavior, set `pd.set_option('future.no_silent_downcasting', True)`\n",
      "  std_replaced = std.replace(0, 1)\n",
      "/tmp/ipykernel_1168028/1295774049.py:77: SettingWithCopyWarning: \n",
      "A value is trying to be set on a copy of a slice from a DataFrame.\n",
      "Try using .loc[row_indexer,col_indexer] = value instead\n",
      "\n",
      "See the caveats in the documentation: https://pandas.pydata.org/pandas-docs/stable/user_guide/indexing.html#returning-a-view-versus-a-copy\n",
      "  original_df[columns_to_normalize] = normalized_df\n"
     ]
    },
    {
     "name": "stdout",
     "output_type": "stream",
     "text": [
      "4V4MC9EG2FN918772 243\n"
     ]
    },
    {
     "name": "stderr",
     "output_type": "stream",
     "text": [
      "/tmp/ipykernel_1168028/1295774049.py:73: FutureWarning: Downcasting behavior in `replace` is deprecated and will be removed in a future version. To retain the old behavior, explicitly call `result.infer_objects(copy=False)`. To opt-in to the future behavior, set `pd.set_option('future.no_silent_downcasting', True)`\n",
      "  std_replaced = std.replace(0, 1)\n",
      "/tmp/ipykernel_1168028/1295774049.py:77: SettingWithCopyWarning: \n",
      "A value is trying to be set on a copy of a slice from a DataFrame.\n",
      "Try using .loc[row_indexer,col_indexer] = value instead\n",
      "\n",
      "See the caveats in the documentation: https://pandas.pydata.org/pandas-docs/stable/user_guide/indexing.html#returning-a-view-versus-a-copy\n",
      "  original_df[columns_to_normalize] = normalized_df\n"
     ]
    },
    {
     "name": "stdout",
     "output_type": "stream",
     "text": [
      "4V4MC9EG4FN916182 244\n"
     ]
    },
    {
     "name": "stderr",
     "output_type": "stream",
     "text": [
      "/tmp/ipykernel_1168028/1295774049.py:73: FutureWarning: Downcasting behavior in `replace` is deprecated and will be removed in a future version. To retain the old behavior, explicitly call `result.infer_objects(copy=False)`. To opt-in to the future behavior, set `pd.set_option('future.no_silent_downcasting', True)`\n",
      "  std_replaced = std.replace(0, 1)\n",
      "/tmp/ipykernel_1168028/1295774049.py:77: SettingWithCopyWarning: \n",
      "A value is trying to be set on a copy of a slice from a DataFrame.\n",
      "Try using .loc[row_indexer,col_indexer] = value instead\n",
      "\n",
      "See the caveats in the documentation: https://pandas.pydata.org/pandas-docs/stable/user_guide/indexing.html#returning-a-view-versus-a-copy\n",
      "  original_df[columns_to_normalize] = normalized_df\n"
     ]
    },
    {
     "name": "stdout",
     "output_type": "stream",
     "text": [
      "4V4MC9EGXFN916574 245\n"
     ]
    },
    {
     "name": "stderr",
     "output_type": "stream",
     "text": [
      "/tmp/ipykernel_1168028/1295774049.py:73: FutureWarning: Downcasting behavior in `replace` is deprecated and will be removed in a future version. To retain the old behavior, explicitly call `result.infer_objects(copy=False)`. To opt-in to the future behavior, set `pd.set_option('future.no_silent_downcasting', True)`\n",
      "  std_replaced = std.replace(0, 1)\n",
      "/tmp/ipykernel_1168028/1295774049.py:77: SettingWithCopyWarning: \n",
      "A value is trying to be set on a copy of a slice from a DataFrame.\n",
      "Try using .loc[row_indexer,col_indexer] = value instead\n",
      "\n",
      "See the caveats in the documentation: https://pandas.pydata.org/pandas-docs/stable/user_guide/indexing.html#returning-a-view-versus-a-copy\n",
      "  original_df[columns_to_normalize] = normalized_df\n"
     ]
    },
    {
     "name": "stdout",
     "output_type": "stream",
     "text": [
      "4V4MC9EH0GN180979 246\n"
     ]
    },
    {
     "name": "stderr",
     "output_type": "stream",
     "text": [
      "/tmp/ipykernel_1168028/1295774049.py:73: FutureWarning: Downcasting behavior in `replace` is deprecated and will be removed in a future version. To retain the old behavior, explicitly call `result.infer_objects(copy=False)`. To opt-in to the future behavior, set `pd.set_option('future.no_silent_downcasting', True)`\n",
      "  std_replaced = std.replace(0, 1)\n",
      "/tmp/ipykernel_1168028/1295774049.py:77: SettingWithCopyWarning: \n",
      "A value is trying to be set on a copy of a slice from a DataFrame.\n",
      "Try using .loc[row_indexer,col_indexer] = value instead\n",
      "\n",
      "See the caveats in the documentation: https://pandas.pydata.org/pandas-docs/stable/user_guide/indexing.html#returning-a-view-versus-a-copy\n",
      "  original_df[columns_to_normalize] = normalized_df\n"
     ]
    },
    {
     "name": "stdout",
     "output_type": "stream",
     "text": [
      "4V4MC9EH9FN916400 247\n"
     ]
    },
    {
     "name": "stderr",
     "output_type": "stream",
     "text": [
      "/tmp/ipykernel_1168028/1295774049.py:73: FutureWarning: Downcasting behavior in `replace` is deprecated and will be removed in a future version. To retain the old behavior, explicitly call `result.infer_objects(copy=False)`. To opt-in to the future behavior, set `pd.set_option('future.no_silent_downcasting', True)`\n",
      "  std_replaced = std.replace(0, 1)\n",
      "/tmp/ipykernel_1168028/1295774049.py:77: SettingWithCopyWarning: \n",
      "A value is trying to be set on a copy of a slice from a DataFrame.\n",
      "Try using .loc[row_indexer,col_indexer] = value instead\n",
      "\n",
      "See the caveats in the documentation: https://pandas.pydata.org/pandas-docs/stable/user_guide/indexing.html#returning-a-view-versus-a-copy\n",
      "  original_df[columns_to_normalize] = normalized_df\n"
     ]
    },
    {
     "name": "stdout",
     "output_type": "stream",
     "text": [
      "4V4MC9EJ3GN970070 248\n"
     ]
    },
    {
     "name": "stderr",
     "output_type": "stream",
     "text": [
      "/tmp/ipykernel_1168028/1295774049.py:73: FutureWarning: Downcasting behavior in `replace` is deprecated and will be removed in a future version. To retain the old behavior, explicitly call `result.infer_objects(copy=False)`. To opt-in to the future behavior, set `pd.set_option('future.no_silent_downcasting', True)`\n",
      "  std_replaced = std.replace(0, 1)\n",
      "/tmp/ipykernel_1168028/1295774049.py:77: SettingWithCopyWarning: \n",
      "A value is trying to be set on a copy of a slice from a DataFrame.\n",
      "Try using .loc[row_indexer,col_indexer] = value instead\n",
      "\n",
      "See the caveats in the documentation: https://pandas.pydata.org/pandas-docs/stable/user_guide/indexing.html#returning-a-view-versus-a-copy\n",
      "  original_df[columns_to_normalize] = normalized_df\n"
     ]
    },
    {
     "name": "stdout",
     "output_type": "stream",
     "text": [
      "4V4N19EH9KN871897 249\n"
     ]
    },
    {
     "name": "stderr",
     "output_type": "stream",
     "text": [
      "/tmp/ipykernel_1168028/1295774049.py:73: FutureWarning: Downcasting behavior in `replace` is deprecated and will be removed in a future version. To retain the old behavior, explicitly call `result.infer_objects(copy=False)`. To opt-in to the future behavior, set `pd.set_option('future.no_silent_downcasting', True)`\n",
      "  std_replaced = std.replace(0, 1)\n",
      "/tmp/ipykernel_1168028/1295774049.py:77: SettingWithCopyWarning: \n",
      "A value is trying to be set on a copy of a slice from a DataFrame.\n",
      "Try using .loc[row_indexer,col_indexer] = value instead\n",
      "\n",
      "See the caveats in the documentation: https://pandas.pydata.org/pandas-docs/stable/user_guide/indexing.html#returning-a-view-versus-a-copy\n",
      "  original_df[columns_to_normalize] = normalized_df\n"
     ]
    },
    {
     "name": "stdout",
     "output_type": "stream",
     "text": [
      "4V4N39EG2KN212738 250\n"
     ]
    },
    {
     "name": "stderr",
     "output_type": "stream",
     "text": [
      "/tmp/ipykernel_1168028/1295774049.py:73: FutureWarning: Downcasting behavior in `replace` is deprecated and will be removed in a future version. To retain the old behavior, explicitly call `result.infer_objects(copy=False)`. To opt-in to the future behavior, set `pd.set_option('future.no_silent_downcasting', True)`\n",
      "  std_replaced = std.replace(0, 1)\n",
      "/tmp/ipykernel_1168028/1295774049.py:77: SettingWithCopyWarning: \n",
      "A value is trying to be set on a copy of a slice from a DataFrame.\n",
      "Try using .loc[row_indexer,col_indexer] = value instead\n",
      "\n",
      "See the caveats in the documentation: https://pandas.pydata.org/pandas-docs/stable/user_guide/indexing.html#returning-a-view-versus-a-copy\n",
      "  original_df[columns_to_normalize] = normalized_df\n"
     ]
    },
    {
     "name": "stdout",
     "output_type": "stream",
     "text": [
      "4V4N39EG8FN185891 251\n"
     ]
    },
    {
     "name": "stderr",
     "output_type": "stream",
     "text": [
      "/tmp/ipykernel_1168028/1295774049.py:73: FutureWarning: Downcasting behavior in `replace` is deprecated and will be removed in a future version. To retain the old behavior, explicitly call `result.infer_objects(copy=False)`. To opt-in to the future behavior, set `pd.set_option('future.no_silent_downcasting', True)`\n",
      "  std_replaced = std.replace(0, 1)\n",
      "/tmp/ipykernel_1168028/1295774049.py:77: SettingWithCopyWarning: \n",
      "A value is trying to be set on a copy of a slice from a DataFrame.\n",
      "Try using .loc[row_indexer,col_indexer] = value instead\n",
      "\n",
      "See the caveats in the documentation: https://pandas.pydata.org/pandas-docs/stable/user_guide/indexing.html#returning-a-view-versus-a-copy\n",
      "  original_df[columns_to_normalize] = normalized_df\n"
     ]
    },
    {
     "name": "stdout",
     "output_type": "stream",
     "text": [
      "4V4N99EH2FN190561 252\n"
     ]
    },
    {
     "name": "stderr",
     "output_type": "stream",
     "text": [
      "/tmp/ipykernel_1168028/1295774049.py:73: FutureWarning: Downcasting behavior in `replace` is deprecated and will be removed in a future version. To retain the old behavior, explicitly call `result.infer_objects(copy=False)`. To opt-in to the future behavior, set `pd.set_option('future.no_silent_downcasting', True)`\n",
      "  std_replaced = std.replace(0, 1)\n",
      "/tmp/ipykernel_1168028/1295774049.py:77: SettingWithCopyWarning: \n",
      "A value is trying to be set on a copy of a slice from a DataFrame.\n",
      "Try using .loc[row_indexer,col_indexer] = value instead\n",
      "\n",
      "See the caveats in the documentation: https://pandas.pydata.org/pandas-docs/stable/user_guide/indexing.html#returning-a-view-versus-a-copy\n",
      "  original_df[columns_to_normalize] = normalized_df\n"
     ]
    },
    {
     "name": "stdout",
     "output_type": "stream",
     "text": [
      "4V4N99EH3FN916329 253\n"
     ]
    },
    {
     "name": "stderr",
     "output_type": "stream",
     "text": [
      "/tmp/ipykernel_1168028/1295774049.py:73: FutureWarning: Downcasting behavior in `replace` is deprecated and will be removed in a future version. To retain the old behavior, explicitly call `result.infer_objects(copy=False)`. To opt-in to the future behavior, set `pd.set_option('future.no_silent_downcasting', True)`\n",
      "  std_replaced = std.replace(0, 1)\n",
      "/tmp/ipykernel_1168028/1295774049.py:77: SettingWithCopyWarning: \n",
      "A value is trying to be set on a copy of a slice from a DataFrame.\n",
      "Try using .loc[row_indexer,col_indexer] = value instead\n",
      "\n",
      "See the caveats in the documentation: https://pandas.pydata.org/pandas-docs/stable/user_guide/indexing.html#returning-a-view-versus-a-copy\n",
      "  original_df[columns_to_normalize] = normalized_df\n"
     ]
    },
    {
     "name": "stdout",
     "output_type": "stream",
     "text": [
      "4V4NB9EH3LN247690 254\n"
     ]
    },
    {
     "name": "stderr",
     "output_type": "stream",
     "text": [
      "/tmp/ipykernel_1168028/1295774049.py:73: FutureWarning: Downcasting behavior in `replace` is deprecated and will be removed in a future version. To retain the old behavior, explicitly call `result.infer_objects(copy=False)`. To opt-in to the future behavior, set `pd.set_option('future.no_silent_downcasting', True)`\n",
      "  std_replaced = std.replace(0, 1)\n",
      "/tmp/ipykernel_1168028/1295774049.py:77: SettingWithCopyWarning: \n",
      "A value is trying to be set on a copy of a slice from a DataFrame.\n",
      "Try using .loc[row_indexer,col_indexer] = value instead\n",
      "\n",
      "See the caveats in the documentation: https://pandas.pydata.org/pandas-docs/stable/user_guide/indexing.html#returning-a-view-versus-a-copy\n",
      "  original_df[columns_to_normalize] = normalized_df\n"
     ]
    },
    {
     "name": "stdout",
     "output_type": "stream",
     "text": [
      "4V4NB9EH5MN288050 255\n"
     ]
    },
    {
     "name": "stderr",
     "output_type": "stream",
     "text": [
      "/tmp/ipykernel_1168028/1295774049.py:73: FutureWarning: Downcasting behavior in `replace` is deprecated and will be removed in a future version. To retain the old behavior, explicitly call `result.infer_objects(copy=False)`. To opt-in to the future behavior, set `pd.set_option('future.no_silent_downcasting', True)`\n",
      "  std_replaced = std.replace(0, 1)\n",
      "/tmp/ipykernel_1168028/1295774049.py:77: SettingWithCopyWarning: \n",
      "A value is trying to be set on a copy of a slice from a DataFrame.\n",
      "Try using .loc[row_indexer,col_indexer] = value instead\n",
      "\n",
      "See the caveats in the documentation: https://pandas.pydata.org/pandas-docs/stable/user_guide/indexing.html#returning-a-view-versus-a-copy\n",
      "  original_df[columns_to_normalize] = normalized_df\n"
     ]
    },
    {
     "name": "stdout",
     "output_type": "stream",
     "text": [
      "4V4NB9EH7JN902351 256\n"
     ]
    },
    {
     "name": "stderr",
     "output_type": "stream",
     "text": [
      "/tmp/ipykernel_1168028/1295774049.py:73: FutureWarning: Downcasting behavior in `replace` is deprecated and will be removed in a future version. To retain the old behavior, explicitly call `result.infer_objects(copy=False)`. To opt-in to the future behavior, set `pd.set_option('future.no_silent_downcasting', True)`\n",
      "  std_replaced = std.replace(0, 1)\n",
      "/tmp/ipykernel_1168028/1295774049.py:77: SettingWithCopyWarning: \n",
      "A value is trying to be set on a copy of a slice from a DataFrame.\n",
      "Try using .loc[row_indexer,col_indexer] = value instead\n",
      "\n",
      "See the caveats in the documentation: https://pandas.pydata.org/pandas-docs/stable/user_guide/indexing.html#returning-a-view-versus-a-copy\n",
      "  original_df[columns_to_normalize] = normalized_df\n"
     ]
    },
    {
     "name": "stdout",
     "output_type": "stream",
     "text": [
      "4V4NB9EH8KN210861 257\n"
     ]
    },
    {
     "name": "stderr",
     "output_type": "stream",
     "text": [
      "/tmp/ipykernel_1168028/1295774049.py:73: FutureWarning: Downcasting behavior in `replace` is deprecated and will be removed in a future version. To retain the old behavior, explicitly call `result.infer_objects(copy=False)`. To opt-in to the future behavior, set `pd.set_option('future.no_silent_downcasting', True)`\n",
      "  std_replaced = std.replace(0, 1)\n",
      "/tmp/ipykernel_1168028/1295774049.py:77: SettingWithCopyWarning: \n",
      "A value is trying to be set on a copy of a slice from a DataFrame.\n",
      "Try using .loc[row_indexer,col_indexer] = value instead\n",
      "\n",
      "See the caveats in the documentation: https://pandas.pydata.org/pandas-docs/stable/user_guide/indexing.html#returning-a-view-versus-a-copy\n",
      "  original_df[columns_to_normalize] = normalized_df\n"
     ]
    },
    {
     "name": "stdout",
     "output_type": "stream",
     "text": [
      "4V4NC9DG2JN999173 258\n"
     ]
    },
    {
     "name": "stderr",
     "output_type": "stream",
     "text": [
      "/tmp/ipykernel_1168028/1295774049.py:73: FutureWarning: Downcasting behavior in `replace` is deprecated and will be removed in a future version. To retain the old behavior, explicitly call `result.infer_objects(copy=False)`. To opt-in to the future behavior, set `pd.set_option('future.no_silent_downcasting', True)`\n",
      "  std_replaced = std.replace(0, 1)\n",
      "/tmp/ipykernel_1168028/1295774049.py:77: SettingWithCopyWarning: \n",
      "A value is trying to be set on a copy of a slice from a DataFrame.\n",
      "Try using .loc[row_indexer,col_indexer] = value instead\n",
      "\n",
      "See the caveats in the documentation: https://pandas.pydata.org/pandas-docs/stable/user_guide/indexing.html#returning-a-view-versus-a-copy\n",
      "  original_df[columns_to_normalize] = normalized_df\n"
     ]
    },
    {
     "name": "stdout",
     "output_type": "stream",
     "text": [
      "4V4NC9DG4GN972274 259\n"
     ]
    },
    {
     "name": "stderr",
     "output_type": "stream",
     "text": [
      "/tmp/ipykernel_1168028/1295774049.py:73: FutureWarning: Downcasting behavior in `replace` is deprecated and will be removed in a future version. To retain the old behavior, explicitly call `result.infer_objects(copy=False)`. To opt-in to the future behavior, set `pd.set_option('future.no_silent_downcasting', True)`\n",
      "  std_replaced = std.replace(0, 1)\n",
      "/tmp/ipykernel_1168028/1295774049.py:77: SettingWithCopyWarning: \n",
      "A value is trying to be set on a copy of a slice from a DataFrame.\n",
      "Try using .loc[row_indexer,col_indexer] = value instead\n",
      "\n",
      "See the caveats in the documentation: https://pandas.pydata.org/pandas-docs/stable/user_guide/indexing.html#returning-a-view-versus-a-copy\n",
      "  original_df[columns_to_normalize] = normalized_df\n"
     ]
    },
    {
     "name": "stdout",
     "output_type": "stream",
     "text": [
      "4V4NC9EG1KN900777 260\n"
     ]
    },
    {
     "name": "stderr",
     "output_type": "stream",
     "text": [
      "/tmp/ipykernel_1168028/1295774049.py:73: FutureWarning: Downcasting behavior in `replace` is deprecated and will be removed in a future version. To retain the old behavior, explicitly call `result.infer_objects(copy=False)`. To opt-in to the future behavior, set `pd.set_option('future.no_silent_downcasting', True)`\n",
      "  std_replaced = std.replace(0, 1)\n",
      "/tmp/ipykernel_1168028/1295774049.py:77: SettingWithCopyWarning: \n",
      "A value is trying to be set on a copy of a slice from a DataFrame.\n",
      "Try using .loc[row_indexer,col_indexer] = value instead\n",
      "\n",
      "See the caveats in the documentation: https://pandas.pydata.org/pandas-docs/stable/user_guide/indexing.html#returning-a-view-versus-a-copy\n",
      "  original_df[columns_to_normalize] = normalized_df\n"
     ]
    },
    {
     "name": "stdout",
     "output_type": "stream",
     "text": [
      "4V4NC9EG2GN952104 261\n"
     ]
    },
    {
     "name": "stderr",
     "output_type": "stream",
     "text": [
      "/tmp/ipykernel_1168028/1295774049.py:73: FutureWarning: Downcasting behavior in `replace` is deprecated and will be removed in a future version. To retain the old behavior, explicitly call `result.infer_objects(copy=False)`. To opt-in to the future behavior, set `pd.set_option('future.no_silent_downcasting', True)`\n",
      "  std_replaced = std.replace(0, 1)\n",
      "/tmp/ipykernel_1168028/1295774049.py:77: SettingWithCopyWarning: \n",
      "A value is trying to be set on a copy of a slice from a DataFrame.\n",
      "Try using .loc[row_indexer,col_indexer] = value instead\n",
      "\n",
      "See the caveats in the documentation: https://pandas.pydata.org/pandas-docs/stable/user_guide/indexing.html#returning-a-view-versus-a-copy\n",
      "  original_df[columns_to_normalize] = normalized_df\n"
     ]
    },
    {
     "name": "stdout",
     "output_type": "stream",
     "text": [
      "4V4NC9EG2LN246390 262\n"
     ]
    },
    {
     "name": "stderr",
     "output_type": "stream",
     "text": [
      "/tmp/ipykernel_1168028/1295774049.py:73: FutureWarning: Downcasting behavior in `replace` is deprecated and will be removed in a future version. To retain the old behavior, explicitly call `result.infer_objects(copy=False)`. To opt-in to the future behavior, set `pd.set_option('future.no_silent_downcasting', True)`\n",
      "  std_replaced = std.replace(0, 1)\n",
      "/tmp/ipykernel_1168028/1295774049.py:77: SettingWithCopyWarning: \n",
      "A value is trying to be set on a copy of a slice from a DataFrame.\n",
      "Try using .loc[row_indexer,col_indexer] = value instead\n",
      "\n",
      "See the caveats in the documentation: https://pandas.pydata.org/pandas-docs/stable/user_guide/indexing.html#returning-a-view-versus-a-copy\n",
      "  original_df[columns_to_normalize] = normalized_df\n"
     ]
    },
    {
     "name": "stdout",
     "output_type": "stream",
     "text": [
      "4V4NC9EG3FN190917 263\n"
     ]
    },
    {
     "name": "stderr",
     "output_type": "stream",
     "text": [
      "/tmp/ipykernel_1168028/1295774049.py:73: FutureWarning: Downcasting behavior in `replace` is deprecated and will be removed in a future version. To retain the old behavior, explicitly call `result.infer_objects(copy=False)`. To opt-in to the future behavior, set `pd.set_option('future.no_silent_downcasting', True)`\n",
      "  std_replaced = std.replace(0, 1)\n",
      "/tmp/ipykernel_1168028/1295774049.py:77: SettingWithCopyWarning: \n",
      "A value is trying to be set on a copy of a slice from a DataFrame.\n",
      "Try using .loc[row_indexer,col_indexer] = value instead\n",
      "\n",
      "See the caveats in the documentation: https://pandas.pydata.org/pandas-docs/stable/user_guide/indexing.html#returning-a-view-versus-a-copy\n",
      "  original_df[columns_to_normalize] = normalized_df\n"
     ]
    },
    {
     "name": "stdout",
     "output_type": "stream",
     "text": [
      "4V4NC9EG3JN898643 264\n"
     ]
    },
    {
     "name": "stderr",
     "output_type": "stream",
     "text": [
      "/tmp/ipykernel_1168028/1295774049.py:73: FutureWarning: Downcasting behavior in `replace` is deprecated and will be removed in a future version. To retain the old behavior, explicitly call `result.infer_objects(copy=False)`. To opt-in to the future behavior, set `pd.set_option('future.no_silent_downcasting', True)`\n",
      "  std_replaced = std.replace(0, 1)\n",
      "/tmp/ipykernel_1168028/1295774049.py:77: SettingWithCopyWarning: \n",
      "A value is trying to be set on a copy of a slice from a DataFrame.\n",
      "Try using .loc[row_indexer,col_indexer] = value instead\n",
      "\n",
      "See the caveats in the documentation: https://pandas.pydata.org/pandas-docs/stable/user_guide/indexing.html#returning-a-view-versus-a-copy\n",
      "  original_df[columns_to_normalize] = normalized_df\n"
     ]
    },
    {
     "name": "stdout",
     "output_type": "stream",
     "text": [
      "4V4NC9EG3LN263585 265\n"
     ]
    },
    {
     "name": "stderr",
     "output_type": "stream",
     "text": [
      "/tmp/ipykernel_1168028/1295774049.py:73: FutureWarning: Downcasting behavior in `replace` is deprecated and will be removed in a future version. To retain the old behavior, explicitly call `result.infer_objects(copy=False)`. To opt-in to the future behavior, set `pd.set_option('future.no_silent_downcasting', True)`\n",
      "  std_replaced = std.replace(0, 1)\n",
      "/tmp/ipykernel_1168028/1295774049.py:77: SettingWithCopyWarning: \n",
      "A value is trying to be set on a copy of a slice from a DataFrame.\n",
      "Try using .loc[row_indexer,col_indexer] = value instead\n",
      "\n",
      "See the caveats in the documentation: https://pandas.pydata.org/pandas-docs/stable/user_guide/indexing.html#returning-a-view-versus-a-copy\n",
      "  original_df[columns_to_normalize] = normalized_df\n"
     ]
    },
    {
     "name": "stdout",
     "output_type": "stream",
     "text": [
      "4V4NC9EG4FN931432 266\n"
     ]
    },
    {
     "name": "stderr",
     "output_type": "stream",
     "text": [
      "/tmp/ipykernel_1168028/1295774049.py:73: FutureWarning: Downcasting behavior in `replace` is deprecated and will be removed in a future version. To retain the old behavior, explicitly call `result.infer_objects(copy=False)`. To opt-in to the future behavior, set `pd.set_option('future.no_silent_downcasting', True)`\n",
      "  std_replaced = std.replace(0, 1)\n",
      "/tmp/ipykernel_1168028/1295774049.py:77: SettingWithCopyWarning: \n",
      "A value is trying to be set on a copy of a slice from a DataFrame.\n",
      "Try using .loc[row_indexer,col_indexer] = value instead\n",
      "\n",
      "See the caveats in the documentation: https://pandas.pydata.org/pandas-docs/stable/user_guide/indexing.html#returning-a-view-versus-a-copy\n",
      "  original_df[columns_to_normalize] = normalized_df\n"
     ]
    },
    {
     "name": "stdout",
     "output_type": "stream",
     "text": [
      "4V4NC9EG4LN261893 267\n"
     ]
    },
    {
     "name": "stderr",
     "output_type": "stream",
     "text": [
      "/tmp/ipykernel_1168028/1295774049.py:73: FutureWarning: Downcasting behavior in `replace` is deprecated and will be removed in a future version. To retain the old behavior, explicitly call `result.infer_objects(copy=False)`. To opt-in to the future behavior, set `pd.set_option('future.no_silent_downcasting', True)`\n",
      "  std_replaced = std.replace(0, 1)\n",
      "/tmp/ipykernel_1168028/1295774049.py:77: SettingWithCopyWarning: \n",
      "A value is trying to be set on a copy of a slice from a DataFrame.\n",
      "Try using .loc[row_indexer,col_indexer] = value instead\n",
      "\n",
      "See the caveats in the documentation: https://pandas.pydata.org/pandas-docs/stable/user_guide/indexing.html#returning-a-view-versus-a-copy\n",
      "  original_df[columns_to_normalize] = normalized_df\n"
     ]
    },
    {
     "name": "stdout",
     "output_type": "stream",
     "text": [
      "4V4NC9EG5FN178140 268\n"
     ]
    },
    {
     "name": "stderr",
     "output_type": "stream",
     "text": [
      "/tmp/ipykernel_1168028/1295774049.py:73: FutureWarning: Downcasting behavior in `replace` is deprecated and will be removed in a future version. To retain the old behavior, explicitly call `result.infer_objects(copy=False)`. To opt-in to the future behavior, set `pd.set_option('future.no_silent_downcasting', True)`\n",
      "  std_replaced = std.replace(0, 1)\n",
      "/tmp/ipykernel_1168028/1295774049.py:77: SettingWithCopyWarning: \n",
      "A value is trying to be set on a copy of a slice from a DataFrame.\n",
      "Try using .loc[row_indexer,col_indexer] = value instead\n",
      "\n",
      "See the caveats in the documentation: https://pandas.pydata.org/pandas-docs/stable/user_guide/indexing.html#returning-a-view-versus-a-copy\n",
      "  original_df[columns_to_normalize] = normalized_df\n"
     ]
    },
    {
     "name": "stdout",
     "output_type": "stream",
     "text": [
      "4V4NC9EG5FN183211 269\n"
     ]
    },
    {
     "name": "stderr",
     "output_type": "stream",
     "text": [
      "/tmp/ipykernel_1168028/1295774049.py:73: FutureWarning: Downcasting behavior in `replace` is deprecated and will be removed in a future version. To retain the old behavior, explicitly call `result.infer_objects(copy=False)`. To opt-in to the future behavior, set `pd.set_option('future.no_silent_downcasting', True)`\n",
      "  std_replaced = std.replace(0, 1)\n",
      "/tmp/ipykernel_1168028/1295774049.py:77: SettingWithCopyWarning: \n",
      "A value is trying to be set on a copy of a slice from a DataFrame.\n",
      "Try using .loc[row_indexer,col_indexer] = value instead\n",
      "\n",
      "See the caveats in the documentation: https://pandas.pydata.org/pandas-docs/stable/user_guide/indexing.html#returning-a-view-versus-a-copy\n",
      "  original_df[columns_to_normalize] = normalized_df\n"
     ]
    },
    {
     "name": "stdout",
     "output_type": "stream",
     "text": [
      "4V4NC9EG5JN999215 270\n"
     ]
    },
    {
     "name": "stderr",
     "output_type": "stream",
     "text": [
      "/tmp/ipykernel_1168028/1295774049.py:73: FutureWarning: Downcasting behavior in `replace` is deprecated and will be removed in a future version. To retain the old behavior, explicitly call `result.infer_objects(copy=False)`. To opt-in to the future behavior, set `pd.set_option('future.no_silent_downcasting', True)`\n",
      "  std_replaced = std.replace(0, 1)\n",
      "/tmp/ipykernel_1168028/1295774049.py:77: SettingWithCopyWarning: \n",
      "A value is trying to be set on a copy of a slice from a DataFrame.\n",
      "Try using .loc[row_indexer,col_indexer] = value instead\n",
      "\n",
      "See the caveats in the documentation: https://pandas.pydata.org/pandas-docs/stable/user_guide/indexing.html#returning-a-view-versus-a-copy\n",
      "  original_df[columns_to_normalize] = normalized_df\n"
     ]
    },
    {
     "name": "stdout",
     "output_type": "stream",
     "text": [
      "4V4NC9EG5LN217515 271\n"
     ]
    },
    {
     "name": "stderr",
     "output_type": "stream",
     "text": [
      "/tmp/ipykernel_1168028/1295774049.py:73: FutureWarning: Downcasting behavior in `replace` is deprecated and will be removed in a future version. To retain the old behavior, explicitly call `result.infer_objects(copy=False)`. To opt-in to the future behavior, set `pd.set_option('future.no_silent_downcasting', True)`\n",
      "  std_replaced = std.replace(0, 1)\n",
      "/tmp/ipykernel_1168028/1295774049.py:77: SettingWithCopyWarning: \n",
      "A value is trying to be set on a copy of a slice from a DataFrame.\n",
      "Try using .loc[row_indexer,col_indexer] = value instead\n",
      "\n",
      "See the caveats in the documentation: https://pandas.pydata.org/pandas-docs/stable/user_guide/indexing.html#returning-a-view-versus-a-copy\n",
      "  original_df[columns_to_normalize] = normalized_df\n"
     ]
    },
    {
     "name": "stdout",
     "output_type": "stream",
     "text": [
      "4V4NC9EG5LN257139 272\n"
     ]
    },
    {
     "name": "stderr",
     "output_type": "stream",
     "text": [
      "/tmp/ipykernel_1168028/1295774049.py:73: FutureWarning: Downcasting behavior in `replace` is deprecated and will be removed in a future version. To retain the old behavior, explicitly call `result.infer_objects(copy=False)`. To opt-in to the future behavior, set `pd.set_option('future.no_silent_downcasting', True)`\n",
      "  std_replaced = std.replace(0, 1)\n",
      "/tmp/ipykernel_1168028/1295774049.py:77: SettingWithCopyWarning: \n",
      "A value is trying to be set on a copy of a slice from a DataFrame.\n",
      "Try using .loc[row_indexer,col_indexer] = value instead\n",
      "\n",
      "See the caveats in the documentation: https://pandas.pydata.org/pandas-docs/stable/user_guide/indexing.html#returning-a-view-versus-a-copy\n",
      "  original_df[columns_to_normalize] = normalized_df\n"
     ]
    },
    {
     "name": "stdout",
     "output_type": "stream",
     "text": [
      "4V4NC9EG7FN176292 273\n"
     ]
    },
    {
     "name": "stderr",
     "output_type": "stream",
     "text": [
      "/tmp/ipykernel_1168028/1295774049.py:73: FutureWarning: Downcasting behavior in `replace` is deprecated and will be removed in a future version. To retain the old behavior, explicitly call `result.infer_objects(copy=False)`. To opt-in to the future behavior, set `pd.set_option('future.no_silent_downcasting', True)`\n",
      "  std_replaced = std.replace(0, 1)\n",
      "/tmp/ipykernel_1168028/1295774049.py:77: SettingWithCopyWarning: \n",
      "A value is trying to be set on a copy of a slice from a DataFrame.\n",
      "Try using .loc[row_indexer,col_indexer] = value instead\n",
      "\n",
      "See the caveats in the documentation: https://pandas.pydata.org/pandas-docs/stable/user_guide/indexing.html#returning-a-view-versus-a-copy\n",
      "  original_df[columns_to_normalize] = normalized_df\n"
     ]
    },
    {
     "name": "stdout",
     "output_type": "stream",
     "text": [
      "4V4NC9EG7JN891663 274\n"
     ]
    },
    {
     "name": "stderr",
     "output_type": "stream",
     "text": [
      "/tmp/ipykernel_1168028/1295774049.py:73: FutureWarning: Downcasting behavior in `replace` is deprecated and will be removed in a future version. To retain the old behavior, explicitly call `result.infer_objects(copy=False)`. To opt-in to the future behavior, set `pd.set_option('future.no_silent_downcasting', True)`\n",
      "  std_replaced = std.replace(0, 1)\n",
      "/tmp/ipykernel_1168028/1295774049.py:77: SettingWithCopyWarning: \n",
      "A value is trying to be set on a copy of a slice from a DataFrame.\n",
      "Try using .loc[row_indexer,col_indexer] = value instead\n",
      "\n",
      "See the caveats in the documentation: https://pandas.pydata.org/pandas-docs/stable/user_guide/indexing.html#returning-a-view-versus-a-copy\n",
      "  original_df[columns_to_normalize] = normalized_df\n"
     ]
    },
    {
     "name": "stdout",
     "output_type": "stream",
     "text": [
      "4V4NC9EG8FN176267 275\n"
     ]
    },
    {
     "name": "stderr",
     "output_type": "stream",
     "text": [
      "/tmp/ipykernel_1168028/1295774049.py:73: FutureWarning: Downcasting behavior in `replace` is deprecated and will be removed in a future version. To retain the old behavior, explicitly call `result.infer_objects(copy=False)`. To opt-in to the future behavior, set `pd.set_option('future.no_silent_downcasting', True)`\n",
      "  std_replaced = std.replace(0, 1)\n",
      "/tmp/ipykernel_1168028/1295774049.py:77: SettingWithCopyWarning: \n",
      "A value is trying to be set on a copy of a slice from a DataFrame.\n",
      "Try using .loc[row_indexer,col_indexer] = value instead\n",
      "\n",
      "See the caveats in the documentation: https://pandas.pydata.org/pandas-docs/stable/user_guide/indexing.html#returning-a-view-versus-a-copy\n",
      "  original_df[columns_to_normalize] = normalized_df\n"
     ]
    },
    {
     "name": "stdout",
     "output_type": "stream",
     "text": [
      "4V4NC9EG8GN952138 276\n"
     ]
    },
    {
     "name": "stderr",
     "output_type": "stream",
     "text": [
      "/tmp/ipykernel_1168028/1295774049.py:73: FutureWarning: Downcasting behavior in `replace` is deprecated and will be removed in a future version. To retain the old behavior, explicitly call `result.infer_objects(copy=False)`. To opt-in to the future behavior, set `pd.set_option('future.no_silent_downcasting', True)`\n",
      "  std_replaced = std.replace(0, 1)\n",
      "/tmp/ipykernel_1168028/1295774049.py:77: SettingWithCopyWarning: \n",
      "A value is trying to be set on a copy of a slice from a DataFrame.\n",
      "Try using .loc[row_indexer,col_indexer] = value instead\n",
      "\n",
      "See the caveats in the documentation: https://pandas.pydata.org/pandas-docs/stable/user_guide/indexing.html#returning-a-view-versus-a-copy\n",
      "  original_df[columns_to_normalize] = normalized_df\n"
     ]
    },
    {
     "name": "stdout",
     "output_type": "stream",
     "text": [
      "4V4NC9EG8JN899593 277\n"
     ]
    },
    {
     "name": "stderr",
     "output_type": "stream",
     "text": [
      "/tmp/ipykernel_1168028/1295774049.py:73: FutureWarning: Downcasting behavior in `replace` is deprecated and will be removed in a future version. To retain the old behavior, explicitly call `result.infer_objects(copy=False)`. To opt-in to the future behavior, set `pd.set_option('future.no_silent_downcasting', True)`\n",
      "  std_replaced = std.replace(0, 1)\n",
      "/tmp/ipykernel_1168028/1295774049.py:77: SettingWithCopyWarning: \n",
      "A value is trying to be set on a copy of a slice from a DataFrame.\n",
      "Try using .loc[row_indexer,col_indexer] = value instead\n",
      "\n",
      "See the caveats in the documentation: https://pandas.pydata.org/pandas-docs/stable/user_guide/indexing.html#returning-a-view-versus-a-copy\n",
      "  original_df[columns_to_normalize] = normalized_df\n"
     ]
    },
    {
     "name": "stdout",
     "output_type": "stream",
     "text": [
      "4V4NC9EG8LN252016 278\n"
     ]
    },
    {
     "name": "stderr",
     "output_type": "stream",
     "text": [
      "/tmp/ipykernel_1168028/1295774049.py:73: FutureWarning: Downcasting behavior in `replace` is deprecated and will be removed in a future version. To retain the old behavior, explicitly call `result.infer_objects(copy=False)`. To opt-in to the future behavior, set `pd.set_option('future.no_silent_downcasting', True)`\n",
      "  std_replaced = std.replace(0, 1)\n",
      "/tmp/ipykernel_1168028/1295774049.py:77: SettingWithCopyWarning: \n",
      "A value is trying to be set on a copy of a slice from a DataFrame.\n",
      "Try using .loc[row_indexer,col_indexer] = value instead\n",
      "\n",
      "See the caveats in the documentation: https://pandas.pydata.org/pandas-docs/stable/user_guide/indexing.html#returning-a-view-versus-a-copy\n",
      "  original_df[columns_to_normalize] = normalized_df\n"
     ]
    },
    {
     "name": "stdout",
     "output_type": "stream",
     "text": [
      "4V4NC9EG8MN271747 279\n"
     ]
    },
    {
     "name": "stderr",
     "output_type": "stream",
     "text": [
      "/tmp/ipykernel_1168028/1295774049.py:73: FutureWarning: Downcasting behavior in `replace` is deprecated and will be removed in a future version. To retain the old behavior, explicitly call `result.infer_objects(copy=False)`. To opt-in to the future behavior, set `pd.set_option('future.no_silent_downcasting', True)`\n",
      "  std_replaced = std.replace(0, 1)\n",
      "/tmp/ipykernel_1168028/1295774049.py:77: SettingWithCopyWarning: \n",
      "A value is trying to be set on a copy of a slice from a DataFrame.\n",
      "Try using .loc[row_indexer,col_indexer] = value instead\n",
      "\n",
      "See the caveats in the documentation: https://pandas.pydata.org/pandas-docs/stable/user_guide/indexing.html#returning-a-view-versus-a-copy\n",
      "  original_df[columns_to_normalize] = normalized_df\n"
     ]
    },
    {
     "name": "stdout",
     "output_type": "stream",
     "text": [
      "4V4NC9EG9FN916232 280\n"
     ]
    },
    {
     "name": "stderr",
     "output_type": "stream",
     "text": [
      "/tmp/ipykernel_1168028/1295774049.py:73: FutureWarning: Downcasting behavior in `replace` is deprecated and will be removed in a future version. To retain the old behavior, explicitly call `result.infer_objects(copy=False)`. To opt-in to the future behavior, set `pd.set_option('future.no_silent_downcasting', True)`\n",
      "  std_replaced = std.replace(0, 1)\n",
      "/tmp/ipykernel_1168028/1295774049.py:77: SettingWithCopyWarning: \n",
      "A value is trying to be set on a copy of a slice from a DataFrame.\n",
      "Try using .loc[row_indexer,col_indexer] = value instead\n",
      "\n",
      "See the caveats in the documentation: https://pandas.pydata.org/pandas-docs/stable/user_guide/indexing.html#returning-a-view-versus-a-copy\n",
      "  original_df[columns_to_normalize] = normalized_df\n"
     ]
    },
    {
     "name": "stdout",
     "output_type": "stream",
     "text": [
      "4V4NC9EH0FN925202 281\n"
     ]
    },
    {
     "name": "stderr",
     "output_type": "stream",
     "text": [
      "/tmp/ipykernel_1168028/1295774049.py:73: FutureWarning: Downcasting behavior in `replace` is deprecated and will be removed in a future version. To retain the old behavior, explicitly call `result.infer_objects(copy=False)`. To opt-in to the future behavior, set `pd.set_option('future.no_silent_downcasting', True)`\n",
      "  std_replaced = std.replace(0, 1)\n",
      "/tmp/ipykernel_1168028/1295774049.py:77: SettingWithCopyWarning: \n",
      "A value is trying to be set on a copy of a slice from a DataFrame.\n",
      "Try using .loc[row_indexer,col_indexer] = value instead\n",
      "\n",
      "See the caveats in the documentation: https://pandas.pydata.org/pandas-docs/stable/user_guide/indexing.html#returning-a-view-versus-a-copy\n",
      "  original_df[columns_to_normalize] = normalized_df\n"
     ]
    },
    {
     "name": "stdout",
     "output_type": "stream",
     "text": [
      "4V4NC9EH0JN888726 282\n"
     ]
    },
    {
     "name": "stderr",
     "output_type": "stream",
     "text": [
      "/tmp/ipykernel_1168028/1295774049.py:73: FutureWarning: Downcasting behavior in `replace` is deprecated and will be removed in a future version. To retain the old behavior, explicitly call `result.infer_objects(copy=False)`. To opt-in to the future behavior, set `pd.set_option('future.no_silent_downcasting', True)`\n",
      "  std_replaced = std.replace(0, 1)\n",
      "/tmp/ipykernel_1168028/1295774049.py:77: SettingWithCopyWarning: \n",
      "A value is trying to be set on a copy of a slice from a DataFrame.\n",
      "Try using .loc[row_indexer,col_indexer] = value instead\n",
      "\n",
      "See the caveats in the documentation: https://pandas.pydata.org/pandas-docs/stable/user_guide/indexing.html#returning-a-view-versus-a-copy\n",
      "  original_df[columns_to_normalize] = normalized_df\n"
     ]
    },
    {
     "name": "stdout",
     "output_type": "stream",
     "text": [
      "4V4NC9EH0JN890248 283\n"
     ]
    },
    {
     "name": "stderr",
     "output_type": "stream",
     "text": [
      "/tmp/ipykernel_1168028/1295774049.py:73: FutureWarning: Downcasting behavior in `replace` is deprecated and will be removed in a future version. To retain the old behavior, explicitly call `result.infer_objects(copy=False)`. To opt-in to the future behavior, set `pd.set_option('future.no_silent_downcasting', True)`\n",
      "  std_replaced = std.replace(0, 1)\n",
      "/tmp/ipykernel_1168028/1295774049.py:77: SettingWithCopyWarning: \n",
      "A value is trying to be set on a copy of a slice from a DataFrame.\n",
      "Try using .loc[row_indexer,col_indexer] = value instead\n",
      "\n",
      "See the caveats in the documentation: https://pandas.pydata.org/pandas-docs/stable/user_guide/indexing.html#returning-a-view-versus-a-copy\n",
      "  original_df[columns_to_normalize] = normalized_df\n"
     ]
    },
    {
     "name": "stdout",
     "output_type": "stream",
     "text": [
      "4V4NC9EH0KN236481 284\n"
     ]
    },
    {
     "name": "stderr",
     "output_type": "stream",
     "text": [
      "/tmp/ipykernel_1168028/1295774049.py:73: FutureWarning: Downcasting behavior in `replace` is deprecated and will be removed in a future version. To retain the old behavior, explicitly call `result.infer_objects(copy=False)`. To opt-in to the future behavior, set `pd.set_option('future.no_silent_downcasting', True)`\n",
      "  std_replaced = std.replace(0, 1)\n",
      "/tmp/ipykernel_1168028/1295774049.py:77: SettingWithCopyWarning: \n",
      "A value is trying to be set on a copy of a slice from a DataFrame.\n",
      "Try using .loc[row_indexer,col_indexer] = value instead\n",
      "\n",
      "See the caveats in the documentation: https://pandas.pydata.org/pandas-docs/stable/user_guide/indexing.html#returning-a-view-versus-a-copy\n",
      "  original_df[columns_to_normalize] = normalized_df\n"
     ]
    },
    {
     "name": "stdout",
     "output_type": "stream",
     "text": [
      "4V4NC9EH0KN240109 285\n"
     ]
    },
    {
     "name": "stderr",
     "output_type": "stream",
     "text": [
      "/tmp/ipykernel_1168028/1295774049.py:73: FutureWarning: Downcasting behavior in `replace` is deprecated and will be removed in a future version. To retain the old behavior, explicitly call `result.infer_objects(copy=False)`. To opt-in to the future behavior, set `pd.set_option('future.no_silent_downcasting', True)`\n",
      "  std_replaced = std.replace(0, 1)\n",
      "/tmp/ipykernel_1168028/1295774049.py:77: SettingWithCopyWarning: \n",
      "A value is trying to be set on a copy of a slice from a DataFrame.\n",
      "Try using .loc[row_indexer,col_indexer] = value instead\n",
      "\n",
      "See the caveats in the documentation: https://pandas.pydata.org/pandas-docs/stable/user_guide/indexing.html#returning-a-view-versus-a-copy\n",
      "  original_df[columns_to_normalize] = normalized_df\n"
     ]
    },
    {
     "name": "stdout",
     "output_type": "stream",
     "text": [
      "4V4NC9EH0KN900911 286\n"
     ]
    },
    {
     "name": "stderr",
     "output_type": "stream",
     "text": [
      "/tmp/ipykernel_1168028/1295774049.py:73: FutureWarning: Downcasting behavior in `replace` is deprecated and will be removed in a future version. To retain the old behavior, explicitly call `result.infer_objects(copy=False)`. To opt-in to the future behavior, set `pd.set_option('future.no_silent_downcasting', True)`\n",
      "  std_replaced = std.replace(0, 1)\n",
      "/tmp/ipykernel_1168028/1295774049.py:77: SettingWithCopyWarning: \n",
      "A value is trying to be set on a copy of a slice from a DataFrame.\n",
      "Try using .loc[row_indexer,col_indexer] = value instead\n",
      "\n",
      "See the caveats in the documentation: https://pandas.pydata.org/pandas-docs/stable/user_guide/indexing.html#returning-a-view-versus-a-copy\n",
      "  original_df[columns_to_normalize] = normalized_df\n"
     ]
    },
    {
     "name": "stdout",
     "output_type": "stream",
     "text": [
      "4V4NC9EH0LN223148 287\n"
     ]
    },
    {
     "name": "stderr",
     "output_type": "stream",
     "text": [
      "/tmp/ipykernel_1168028/1295774049.py:73: FutureWarning: Downcasting behavior in `replace` is deprecated and will be removed in a future version. To retain the old behavior, explicitly call `result.infer_objects(copy=False)`. To opt-in to the future behavior, set `pd.set_option('future.no_silent_downcasting', True)`\n",
      "  std_replaced = std.replace(0, 1)\n",
      "/tmp/ipykernel_1168028/1295774049.py:77: SettingWithCopyWarning: \n",
      "A value is trying to be set on a copy of a slice from a DataFrame.\n",
      "Try using .loc[row_indexer,col_indexer] = value instead\n",
      "\n",
      "See the caveats in the documentation: https://pandas.pydata.org/pandas-docs/stable/user_guide/indexing.html#returning-a-view-versus-a-copy\n",
      "  original_df[columns_to_normalize] = normalized_df\n"
     ]
    },
    {
     "name": "stdout",
     "output_type": "stream",
     "text": [
      "4V4NC9EH0LN257526 288\n"
     ]
    },
    {
     "name": "stderr",
     "output_type": "stream",
     "text": [
      "/tmp/ipykernel_1168028/1295774049.py:73: FutureWarning: Downcasting behavior in `replace` is deprecated and will be removed in a future version. To retain the old behavior, explicitly call `result.infer_objects(copy=False)`. To opt-in to the future behavior, set `pd.set_option('future.no_silent_downcasting', True)`\n",
      "  std_replaced = std.replace(0, 1)\n",
      "/tmp/ipykernel_1168028/1295774049.py:77: SettingWithCopyWarning: \n",
      "A value is trying to be set on a copy of a slice from a DataFrame.\n",
      "Try using .loc[row_indexer,col_indexer] = value instead\n",
      "\n",
      "See the caveats in the documentation: https://pandas.pydata.org/pandas-docs/stable/user_guide/indexing.html#returning-a-view-versus-a-copy\n",
      "  original_df[columns_to_normalize] = normalized_df\n"
     ]
    },
    {
     "name": "stdout",
     "output_type": "stream",
     "text": [
      "4V4NC9EH0MN231106 289\n"
     ]
    },
    {
     "name": "stderr",
     "output_type": "stream",
     "text": [
      "/tmp/ipykernel_1168028/1295774049.py:73: FutureWarning: Downcasting behavior in `replace` is deprecated and will be removed in a future version. To retain the old behavior, explicitly call `result.infer_objects(copy=False)`. To opt-in to the future behavior, set `pd.set_option('future.no_silent_downcasting', True)`\n",
      "  std_replaced = std.replace(0, 1)\n",
      "/tmp/ipykernel_1168028/1295774049.py:77: SettingWithCopyWarning: \n",
      "A value is trying to be set on a copy of a slice from a DataFrame.\n",
      "Try using .loc[row_indexer,col_indexer] = value instead\n",
      "\n",
      "See the caveats in the documentation: https://pandas.pydata.org/pandas-docs/stable/user_guide/indexing.html#returning-a-view-versus-a-copy\n",
      "  original_df[columns_to_normalize] = normalized_df\n"
     ]
    },
    {
     "name": "stdout",
     "output_type": "stream",
     "text": [
      "4V4NC9EH0MN265031 290\n"
     ]
    },
    {
     "name": "stderr",
     "output_type": "stream",
     "text": [
      "/tmp/ipykernel_1168028/1295774049.py:73: FutureWarning: Downcasting behavior in `replace` is deprecated and will be removed in a future version. To retain the old behavior, explicitly call `result.infer_objects(copy=False)`. To opt-in to the future behavior, set `pd.set_option('future.no_silent_downcasting', True)`\n",
      "  std_replaced = std.replace(0, 1)\n",
      "/tmp/ipykernel_1168028/1295774049.py:77: SettingWithCopyWarning: \n",
      "A value is trying to be set on a copy of a slice from a DataFrame.\n",
      "Try using .loc[row_indexer,col_indexer] = value instead\n",
      "\n",
      "See the caveats in the documentation: https://pandas.pydata.org/pandas-docs/stable/user_guide/indexing.html#returning-a-view-versus-a-copy\n",
      "  original_df[columns_to_normalize] = normalized_df\n"
     ]
    },
    {
     "name": "stdout",
     "output_type": "stream",
     "text": [
      "4V4NC9EH0NN282610 291\n"
     ]
    },
    {
     "name": "stderr",
     "output_type": "stream",
     "text": [
      "/tmp/ipykernel_1168028/1295774049.py:73: FutureWarning: Downcasting behavior in `replace` is deprecated and will be removed in a future version. To retain the old behavior, explicitly call `result.infer_objects(copy=False)`. To opt-in to the future behavior, set `pd.set_option('future.no_silent_downcasting', True)`\n",
      "  std_replaced = std.replace(0, 1)\n",
      "/tmp/ipykernel_1168028/1295774049.py:77: SettingWithCopyWarning: \n",
      "A value is trying to be set on a copy of a slice from a DataFrame.\n",
      "Try using .loc[row_indexer,col_indexer] = value instead\n",
      "\n",
      "See the caveats in the documentation: https://pandas.pydata.org/pandas-docs/stable/user_guide/indexing.html#returning-a-view-versus-a-copy\n",
      "  original_df[columns_to_normalize] = normalized_df\n"
     ]
    },
    {
     "name": "stdout",
     "output_type": "stream",
     "text": [
      "4V4NC9EH1FN926178 292\n"
     ]
    },
    {
     "name": "stderr",
     "output_type": "stream",
     "text": [
      "/tmp/ipykernel_1168028/1295774049.py:73: FutureWarning: Downcasting behavior in `replace` is deprecated and will be removed in a future version. To retain the old behavior, explicitly call `result.infer_objects(copy=False)`. To opt-in to the future behavior, set `pd.set_option('future.no_silent_downcasting', True)`\n",
      "  std_replaced = std.replace(0, 1)\n",
      "/tmp/ipykernel_1168028/1295774049.py:77: SettingWithCopyWarning: \n",
      "A value is trying to be set on a copy of a slice from a DataFrame.\n",
      "Try using .loc[row_indexer,col_indexer] = value instead\n",
      "\n",
      "See the caveats in the documentation: https://pandas.pydata.org/pandas-docs/stable/user_guide/indexing.html#returning-a-view-versus-a-copy\n",
      "  original_df[columns_to_normalize] = normalized_df\n"
     ]
    },
    {
     "name": "stdout",
     "output_type": "stream",
     "text": [
      "4V4NC9EH1GN973843 293\n"
     ]
    },
    {
     "name": "stderr",
     "output_type": "stream",
     "text": [
      "/tmp/ipykernel_1168028/1295774049.py:73: FutureWarning: Downcasting behavior in `replace` is deprecated and will be removed in a future version. To retain the old behavior, explicitly call `result.infer_objects(copy=False)`. To opt-in to the future behavior, set `pd.set_option('future.no_silent_downcasting', True)`\n",
      "  std_replaced = std.replace(0, 1)\n",
      "/tmp/ipykernel_1168028/1295774049.py:77: SettingWithCopyWarning: \n",
      "A value is trying to be set on a copy of a slice from a DataFrame.\n",
      "Try using .loc[row_indexer,col_indexer] = value instead\n",
      "\n",
      "See the caveats in the documentation: https://pandas.pydata.org/pandas-docs/stable/user_guide/indexing.html#returning-a-view-versus-a-copy\n",
      "  original_df[columns_to_normalize] = normalized_df\n"
     ]
    },
    {
     "name": "stdout",
     "output_type": "stream",
     "text": [
      "4V4NC9EH1HN977974 294\n"
     ]
    },
    {
     "name": "stderr",
     "output_type": "stream",
     "text": [
      "/tmp/ipykernel_1168028/1295774049.py:73: FutureWarning: Downcasting behavior in `replace` is deprecated and will be removed in a future version. To retain the old behavior, explicitly call `result.infer_objects(copy=False)`. To opt-in to the future behavior, set `pd.set_option('future.no_silent_downcasting', True)`\n",
      "  std_replaced = std.replace(0, 1)\n",
      "/tmp/ipykernel_1168028/1295774049.py:77: SettingWithCopyWarning: \n",
      "A value is trying to be set on a copy of a slice from a DataFrame.\n",
      "Try using .loc[row_indexer,col_indexer] = value instead\n",
      "\n",
      "See the caveats in the documentation: https://pandas.pydata.org/pandas-docs/stable/user_guide/indexing.html#returning-a-view-versus-a-copy\n",
      "  original_df[columns_to_normalize] = normalized_df\n"
     ]
    },
    {
     "name": "stdout",
     "output_type": "stream",
     "text": [
      "4V4NC9EH1JN993775 295\n"
     ]
    },
    {
     "name": "stderr",
     "output_type": "stream",
     "text": [
      "/tmp/ipykernel_1168028/1295774049.py:73: FutureWarning: Downcasting behavior in `replace` is deprecated and will be removed in a future version. To retain the old behavior, explicitly call `result.infer_objects(copy=False)`. To opt-in to the future behavior, set `pd.set_option('future.no_silent_downcasting', True)`\n",
      "  std_replaced = std.replace(0, 1)\n",
      "/tmp/ipykernel_1168028/1295774049.py:77: SettingWithCopyWarning: \n",
      "A value is trying to be set on a copy of a slice from a DataFrame.\n",
      "Try using .loc[row_indexer,col_indexer] = value instead\n",
      "\n",
      "See the caveats in the documentation: https://pandas.pydata.org/pandas-docs/stable/user_guide/indexing.html#returning-a-view-versus-a-copy\n",
      "  original_df[columns_to_normalize] = normalized_df\n"
     ]
    },
    {
     "name": "stdout",
     "output_type": "stream",
     "text": [
      "4V4NC9EH1LN222154 296\n"
     ]
    },
    {
     "name": "stderr",
     "output_type": "stream",
     "text": [
      "/tmp/ipykernel_1168028/1295774049.py:73: FutureWarning: Downcasting behavior in `replace` is deprecated and will be removed in a future version. To retain the old behavior, explicitly call `result.infer_objects(copy=False)`. To opt-in to the future behavior, set `pd.set_option('future.no_silent_downcasting', True)`\n",
      "  std_replaced = std.replace(0, 1)\n",
      "/tmp/ipykernel_1168028/1295774049.py:77: SettingWithCopyWarning: \n",
      "A value is trying to be set on a copy of a slice from a DataFrame.\n",
      "Try using .loc[row_indexer,col_indexer] = value instead\n",
      "\n",
      "See the caveats in the documentation: https://pandas.pydata.org/pandas-docs/stable/user_guide/indexing.html#returning-a-view-versus-a-copy\n",
      "  original_df[columns_to_normalize] = normalized_df\n"
     ]
    },
    {
     "name": "stdout",
     "output_type": "stream",
     "text": [
      "4V4NC9EH1LN241254 297\n"
     ]
    },
    {
     "name": "stderr",
     "output_type": "stream",
     "text": [
      "/tmp/ipykernel_1168028/1295774049.py:73: FutureWarning: Downcasting behavior in `replace` is deprecated and will be removed in a future version. To retain the old behavior, explicitly call `result.infer_objects(copy=False)`. To opt-in to the future behavior, set `pd.set_option('future.no_silent_downcasting', True)`\n",
      "  std_replaced = std.replace(0, 1)\n",
      "/tmp/ipykernel_1168028/1295774049.py:77: SettingWithCopyWarning: \n",
      "A value is trying to be set on a copy of a slice from a DataFrame.\n",
      "Try using .loc[row_indexer,col_indexer] = value instead\n",
      "\n",
      "See the caveats in the documentation: https://pandas.pydata.org/pandas-docs/stable/user_guide/indexing.html#returning-a-view-versus-a-copy\n",
      "  original_df[columns_to_normalize] = normalized_df\n"
     ]
    },
    {
     "name": "stdout",
     "output_type": "stream",
     "text": [
      "4V4NC9EH1LN241593 298\n"
     ]
    },
    {
     "name": "stderr",
     "output_type": "stream",
     "text": [
      "/tmp/ipykernel_1168028/1295774049.py:73: FutureWarning: Downcasting behavior in `replace` is deprecated and will be removed in a future version. To retain the old behavior, explicitly call `result.infer_objects(copy=False)`. To opt-in to the future behavior, set `pd.set_option('future.no_silent_downcasting', True)`\n",
      "  std_replaced = std.replace(0, 1)\n",
      "/tmp/ipykernel_1168028/1295774049.py:77: SettingWithCopyWarning: \n",
      "A value is trying to be set on a copy of a slice from a DataFrame.\n",
      "Try using .loc[row_indexer,col_indexer] = value instead\n",
      "\n",
      "See the caveats in the documentation: https://pandas.pydata.org/pandas-docs/stable/user_guide/indexing.html#returning-a-view-versus-a-copy\n",
      "  original_df[columns_to_normalize] = normalized_df\n"
     ]
    },
    {
     "name": "stdout",
     "output_type": "stream",
     "text": [
      "4V4NC9EH1LN256062 299\n"
     ]
    },
    {
     "name": "stderr",
     "output_type": "stream",
     "text": [
      "/tmp/ipykernel_1168028/1295774049.py:73: FutureWarning: Downcasting behavior in `replace` is deprecated and will be removed in a future version. To retain the old behavior, explicitly call `result.infer_objects(copy=False)`. To opt-in to the future behavior, set `pd.set_option('future.no_silent_downcasting', True)`\n",
      "  std_replaced = std.replace(0, 1)\n",
      "/tmp/ipykernel_1168028/1295774049.py:77: SettingWithCopyWarning: \n",
      "A value is trying to be set on a copy of a slice from a DataFrame.\n",
      "Try using .loc[row_indexer,col_indexer] = value instead\n",
      "\n",
      "See the caveats in the documentation: https://pandas.pydata.org/pandas-docs/stable/user_guide/indexing.html#returning-a-view-versus-a-copy\n",
      "  original_df[columns_to_normalize] = normalized_df\n"
     ]
    },
    {
     "name": "stdout",
     "output_type": "stream",
     "text": [
      "4V4NC9EH1MN246181 300\n"
     ]
    },
    {
     "name": "stderr",
     "output_type": "stream",
     "text": [
      "/tmp/ipykernel_1168028/1295774049.py:73: FutureWarning: Downcasting behavior in `replace` is deprecated and will be removed in a future version. To retain the old behavior, explicitly call `result.infer_objects(copy=False)`. To opt-in to the future behavior, set `pd.set_option('future.no_silent_downcasting', True)`\n",
      "  std_replaced = std.replace(0, 1)\n",
      "/tmp/ipykernel_1168028/1295774049.py:77: SettingWithCopyWarning: \n",
      "A value is trying to be set on a copy of a slice from a DataFrame.\n",
      "Try using .loc[row_indexer,col_indexer] = value instead\n",
      "\n",
      "See the caveats in the documentation: https://pandas.pydata.org/pandas-docs/stable/user_guide/indexing.html#returning-a-view-versus-a-copy\n",
      "  original_df[columns_to_normalize] = normalized_df\n"
     ]
    },
    {
     "name": "stdout",
     "output_type": "stream",
     "text": [
      "4V4NC9EH1MN276409 301\n"
     ]
    },
    {
     "name": "stderr",
     "output_type": "stream",
     "text": [
      "/tmp/ipykernel_1168028/1295774049.py:73: FutureWarning: Downcasting behavior in `replace` is deprecated and will be removed in a future version. To retain the old behavior, explicitly call `result.infer_objects(copy=False)`. To opt-in to the future behavior, set `pd.set_option('future.no_silent_downcasting', True)`\n",
      "  std_replaced = std.replace(0, 1)\n",
      "/tmp/ipykernel_1168028/1295774049.py:77: SettingWithCopyWarning: \n",
      "A value is trying to be set on a copy of a slice from a DataFrame.\n",
      "Try using .loc[row_indexer,col_indexer] = value instead\n",
      "\n",
      "See the caveats in the documentation: https://pandas.pydata.org/pandas-docs/stable/user_guide/indexing.html#returning-a-view-versus-a-copy\n",
      "  original_df[columns_to_normalize] = normalized_df\n"
     ]
    },
    {
     "name": "stdout",
     "output_type": "stream",
     "text": [
      "4V4NC9EH1NN288027 302\n"
     ]
    },
    {
     "name": "stderr",
     "output_type": "stream",
     "text": [
      "/tmp/ipykernel_1168028/1295774049.py:73: FutureWarning: Downcasting behavior in `replace` is deprecated and will be removed in a future version. To retain the old behavior, explicitly call `result.infer_objects(copy=False)`. To opt-in to the future behavior, set `pd.set_option('future.no_silent_downcasting', True)`\n",
      "  std_replaced = std.replace(0, 1)\n",
      "/tmp/ipykernel_1168028/1295774049.py:77: SettingWithCopyWarning: \n",
      "A value is trying to be set on a copy of a slice from a DataFrame.\n",
      "Try using .loc[row_indexer,col_indexer] = value instead\n",
      "\n",
      "See the caveats in the documentation: https://pandas.pydata.org/pandas-docs/stable/user_guide/indexing.html#returning-a-view-versus-a-copy\n",
      "  original_df[columns_to_normalize] = normalized_df\n"
     ]
    },
    {
     "name": "stdout",
     "output_type": "stream",
     "text": [
      "4V4NC9EH1NN299075 303\n"
     ]
    },
    {
     "name": "stderr",
     "output_type": "stream",
     "text": [
      "/tmp/ipykernel_1168028/1295774049.py:73: FutureWarning: Downcasting behavior in `replace` is deprecated and will be removed in a future version. To retain the old behavior, explicitly call `result.infer_objects(copy=False)`. To opt-in to the future behavior, set `pd.set_option('future.no_silent_downcasting', True)`\n",
      "  std_replaced = std.replace(0, 1)\n",
      "/tmp/ipykernel_1168028/1295774049.py:77: SettingWithCopyWarning: \n",
      "A value is trying to be set on a copy of a slice from a DataFrame.\n",
      "Try using .loc[row_indexer,col_indexer] = value instead\n",
      "\n",
      "See the caveats in the documentation: https://pandas.pydata.org/pandas-docs/stable/user_guide/indexing.html#returning-a-view-versus-a-copy\n",
      "  original_df[columns_to_normalize] = normalized_df\n"
     ]
    },
    {
     "name": "stdout",
     "output_type": "stream",
     "text": [
      "4V4NC9EH2FN909907 304\n"
     ]
    },
    {
     "name": "stderr",
     "output_type": "stream",
     "text": [
      "/tmp/ipykernel_1168028/1295774049.py:73: FutureWarning: Downcasting behavior in `replace` is deprecated and will be removed in a future version. To retain the old behavior, explicitly call `result.infer_objects(copy=False)`. To opt-in to the future behavior, set `pd.set_option('future.no_silent_downcasting', True)`\n",
      "  std_replaced = std.replace(0, 1)\n",
      "/tmp/ipykernel_1168028/1295774049.py:77: SettingWithCopyWarning: \n",
      "A value is trying to be set on a copy of a slice from a DataFrame.\n",
      "Try using .loc[row_indexer,col_indexer] = value instead\n",
      "\n",
      "See the caveats in the documentation: https://pandas.pydata.org/pandas-docs/stable/user_guide/indexing.html#returning-a-view-versus-a-copy\n",
      "  original_df[columns_to_normalize] = normalized_df\n"
     ]
    },
    {
     "name": "stdout",
     "output_type": "stream",
     "text": [
      "4V4NC9EH2JN895158 305\n"
     ]
    },
    {
     "name": "stderr",
     "output_type": "stream",
     "text": [
      "/tmp/ipykernel_1168028/1295774049.py:73: FutureWarning: Downcasting behavior in `replace` is deprecated and will be removed in a future version. To retain the old behavior, explicitly call `result.infer_objects(copy=False)`. To opt-in to the future behavior, set `pd.set_option('future.no_silent_downcasting', True)`\n",
      "  std_replaced = std.replace(0, 1)\n",
      "/tmp/ipykernel_1168028/1295774049.py:77: SettingWithCopyWarning: \n",
      "A value is trying to be set on a copy of a slice from a DataFrame.\n",
      "Try using .loc[row_indexer,col_indexer] = value instead\n",
      "\n",
      "See the caveats in the documentation: https://pandas.pydata.org/pandas-docs/stable/user_guide/indexing.html#returning-a-view-versus-a-copy\n",
      "  original_df[columns_to_normalize] = normalized_df\n"
     ]
    },
    {
     "name": "stdout",
     "output_type": "stream",
     "text": [
      "4V4NC9EH2JN895824 306\n"
     ]
    },
    {
     "name": "stderr",
     "output_type": "stream",
     "text": [
      "/tmp/ipykernel_1168028/1295774049.py:73: FutureWarning: Downcasting behavior in `replace` is deprecated and will be removed in a future version. To retain the old behavior, explicitly call `result.infer_objects(copy=False)`. To opt-in to the future behavior, set `pd.set_option('future.no_silent_downcasting', True)`\n",
      "  std_replaced = std.replace(0, 1)\n",
      "/tmp/ipykernel_1168028/1295774049.py:77: SettingWithCopyWarning: \n",
      "A value is trying to be set on a copy of a slice from a DataFrame.\n",
      "Try using .loc[row_indexer,col_indexer] = value instead\n",
      "\n",
      "See the caveats in the documentation: https://pandas.pydata.org/pandas-docs/stable/user_guide/indexing.html#returning-a-view-versus-a-copy\n",
      "  original_df[columns_to_normalize] = normalized_df\n"
     ]
    },
    {
     "name": "stdout",
     "output_type": "stream",
     "text": [
      "4V4NC9EH2KN210822 307\n"
     ]
    },
    {
     "name": "stderr",
     "output_type": "stream",
     "text": [
      "/tmp/ipykernel_1168028/1295774049.py:73: FutureWarning: Downcasting behavior in `replace` is deprecated and will be removed in a future version. To retain the old behavior, explicitly call `result.infer_objects(copy=False)`. To opt-in to the future behavior, set `pd.set_option('future.no_silent_downcasting', True)`\n",
      "  std_replaced = std.replace(0, 1)\n",
      "/tmp/ipykernel_1168028/1295774049.py:77: SettingWithCopyWarning: \n",
      "A value is trying to be set on a copy of a slice from a DataFrame.\n",
      "Try using .loc[row_indexer,col_indexer] = value instead\n",
      "\n",
      "See the caveats in the documentation: https://pandas.pydata.org/pandas-docs/stable/user_guide/indexing.html#returning-a-view-versus-a-copy\n",
      "  original_df[columns_to_normalize] = normalized_df\n"
     ]
    },
    {
     "name": "stdout",
     "output_type": "stream",
     "text": [
      "4V4NC9EH2KN900070 308\n"
     ]
    },
    {
     "name": "stderr",
     "output_type": "stream",
     "text": [
      "/tmp/ipykernel_1168028/1295774049.py:73: FutureWarning: Downcasting behavior in `replace` is deprecated and will be removed in a future version. To retain the old behavior, explicitly call `result.infer_objects(copy=False)`. To opt-in to the future behavior, set `pd.set_option('future.no_silent_downcasting', True)`\n",
      "  std_replaced = std.replace(0, 1)\n",
      "/tmp/ipykernel_1168028/1295774049.py:77: SettingWithCopyWarning: \n",
      "A value is trying to be set on a copy of a slice from a DataFrame.\n",
      "Try using .loc[row_indexer,col_indexer] = value instead\n",
      "\n",
      "See the caveats in the documentation: https://pandas.pydata.org/pandas-docs/stable/user_guide/indexing.html#returning-a-view-versus-a-copy\n",
      "  original_df[columns_to_normalize] = normalized_df\n"
     ]
    },
    {
     "name": "stdout",
     "output_type": "stream",
     "text": [
      "4V4NC9EH2LN230666 309\n"
     ]
    },
    {
     "name": "stderr",
     "output_type": "stream",
     "text": [
      "/tmp/ipykernel_1168028/1295774049.py:73: FutureWarning: Downcasting behavior in `replace` is deprecated and will be removed in a future version. To retain the old behavior, explicitly call `result.infer_objects(copy=False)`. To opt-in to the future behavior, set `pd.set_option('future.no_silent_downcasting', True)`\n",
      "  std_replaced = std.replace(0, 1)\n",
      "/tmp/ipykernel_1168028/1295774049.py:77: SettingWithCopyWarning: \n",
      "A value is trying to be set on a copy of a slice from a DataFrame.\n",
      "Try using .loc[row_indexer,col_indexer] = value instead\n",
      "\n",
      "See the caveats in the documentation: https://pandas.pydata.org/pandas-docs/stable/user_guide/indexing.html#returning-a-view-versus-a-copy\n",
      "  original_df[columns_to_normalize] = normalized_df\n"
     ]
    },
    {
     "name": "stdout",
     "output_type": "stream",
     "text": [
      "4V4NC9EH2MN275950 310\n"
     ]
    },
    {
     "name": "stderr",
     "output_type": "stream",
     "text": [
      "/tmp/ipykernel_1168028/1295774049.py:73: FutureWarning: Downcasting behavior in `replace` is deprecated and will be removed in a future version. To retain the old behavior, explicitly call `result.infer_objects(copy=False)`. To opt-in to the future behavior, set `pd.set_option('future.no_silent_downcasting', True)`\n",
      "  std_replaced = std.replace(0, 1)\n",
      "/tmp/ipykernel_1168028/1295774049.py:77: SettingWithCopyWarning: \n",
      "A value is trying to be set on a copy of a slice from a DataFrame.\n",
      "Try using .loc[row_indexer,col_indexer] = value instead\n",
      "\n",
      "See the caveats in the documentation: https://pandas.pydata.org/pandas-docs/stable/user_guide/indexing.html#returning-a-view-versus-a-copy\n",
      "  original_df[columns_to_normalize] = normalized_df\n"
     ]
    },
    {
     "name": "stdout",
     "output_type": "stream",
     "text": [
      "4V4NC9EH2MN276838 311\n"
     ]
    },
    {
     "name": "stderr",
     "output_type": "stream",
     "text": [
      "/tmp/ipykernel_1168028/1295774049.py:73: FutureWarning: Downcasting behavior in `replace` is deprecated and will be removed in a future version. To retain the old behavior, explicitly call `result.infer_objects(copy=False)`. To opt-in to the future behavior, set `pd.set_option('future.no_silent_downcasting', True)`\n",
      "  std_replaced = std.replace(0, 1)\n",
      "/tmp/ipykernel_1168028/1295774049.py:77: SettingWithCopyWarning: \n",
      "A value is trying to be set on a copy of a slice from a DataFrame.\n",
      "Try using .loc[row_indexer,col_indexer] = value instead\n",
      "\n",
      "See the caveats in the documentation: https://pandas.pydata.org/pandas-docs/stable/user_guide/indexing.html#returning-a-view-versus-a-copy\n",
      "  original_df[columns_to_normalize] = normalized_df\n"
     ]
    },
    {
     "name": "stdout",
     "output_type": "stream",
     "text": [
      "4V4NC9EH2NN292698 312\n"
     ]
    },
    {
     "name": "stderr",
     "output_type": "stream",
     "text": [
      "/tmp/ipykernel_1168028/1295774049.py:73: FutureWarning: Downcasting behavior in `replace` is deprecated and will be removed in a future version. To retain the old behavior, explicitly call `result.infer_objects(copy=False)`. To opt-in to the future behavior, set `pd.set_option('future.no_silent_downcasting', True)`\n",
      "  std_replaced = std.replace(0, 1)\n",
      "/tmp/ipykernel_1168028/1295774049.py:77: SettingWithCopyWarning: \n",
      "A value is trying to be set on a copy of a slice from a DataFrame.\n",
      "Try using .loc[row_indexer,col_indexer] = value instead\n",
      "\n",
      "See the caveats in the documentation: https://pandas.pydata.org/pandas-docs/stable/user_guide/indexing.html#returning-a-view-versus-a-copy\n",
      "  original_df[columns_to_normalize] = normalized_df\n"
     ]
    },
    {
     "name": "stdout",
     "output_type": "stream",
     "text": [
      "4V4NC9EH3FN176914 313\n"
     ]
    },
    {
     "name": "stderr",
     "output_type": "stream",
     "text": [
      "/tmp/ipykernel_1168028/1295774049.py:73: FutureWarning: Downcasting behavior in `replace` is deprecated and will be removed in a future version. To retain the old behavior, explicitly call `result.infer_objects(copy=False)`. To opt-in to the future behavior, set `pd.set_option('future.no_silent_downcasting', True)`\n",
      "  std_replaced = std.replace(0, 1)\n",
      "/tmp/ipykernel_1168028/1295774049.py:77: SettingWithCopyWarning: \n",
      "A value is trying to be set on a copy of a slice from a DataFrame.\n",
      "Try using .loc[row_indexer,col_indexer] = value instead\n",
      "\n",
      "See the caveats in the documentation: https://pandas.pydata.org/pandas-docs/stable/user_guide/indexing.html#returning-a-view-versus-a-copy\n",
      "  original_df[columns_to_normalize] = normalized_df\n"
     ]
    },
    {
     "name": "stdout",
     "output_type": "stream",
     "text": [
      "4V4NC9EH3HN992332 314\n"
     ]
    },
    {
     "name": "stderr",
     "output_type": "stream",
     "text": [
      "/tmp/ipykernel_1168028/1295774049.py:73: FutureWarning: Downcasting behavior in `replace` is deprecated and will be removed in a future version. To retain the old behavior, explicitly call `result.infer_objects(copy=False)`. To opt-in to the future behavior, set `pd.set_option('future.no_silent_downcasting', True)`\n",
      "  std_replaced = std.replace(0, 1)\n",
      "/tmp/ipykernel_1168028/1295774049.py:77: SettingWithCopyWarning: \n",
      "A value is trying to be set on a copy of a slice from a DataFrame.\n",
      "Try using .loc[row_indexer,col_indexer] = value instead\n",
      "\n",
      "See the caveats in the documentation: https://pandas.pydata.org/pandas-docs/stable/user_guide/indexing.html#returning-a-view-versus-a-copy\n",
      "  original_df[columns_to_normalize] = normalized_df\n"
     ]
    },
    {
     "name": "stdout",
     "output_type": "stream",
     "text": [
      "4V4NC9EH3JN889658 315\n"
     ]
    },
    {
     "name": "stderr",
     "output_type": "stream",
     "text": [
      "/tmp/ipykernel_1168028/1295774049.py:73: FutureWarning: Downcasting behavior in `replace` is deprecated and will be removed in a future version. To retain the old behavior, explicitly call `result.infer_objects(copy=False)`. To opt-in to the future behavior, set `pd.set_option('future.no_silent_downcasting', True)`\n",
      "  std_replaced = std.replace(0, 1)\n",
      "/tmp/ipykernel_1168028/1295774049.py:77: SettingWithCopyWarning: \n",
      "A value is trying to be set on a copy of a slice from a DataFrame.\n",
      "Try using .loc[row_indexer,col_indexer] = value instead\n",
      "\n",
      "See the caveats in the documentation: https://pandas.pydata.org/pandas-docs/stable/user_guide/indexing.html#returning-a-view-versus-a-copy\n",
      "  original_df[columns_to_normalize] = normalized_df\n"
     ]
    },
    {
     "name": "stdout",
     "output_type": "stream",
     "text": [
      "4V4NC9EH3KN207654 316\n"
     ]
    },
    {
     "name": "stderr",
     "output_type": "stream",
     "text": [
      "/tmp/ipykernel_1168028/1295774049.py:73: FutureWarning: Downcasting behavior in `replace` is deprecated and will be removed in a future version. To retain the old behavior, explicitly call `result.infer_objects(copy=False)`. To opt-in to the future behavior, set `pd.set_option('future.no_silent_downcasting', True)`\n",
      "  std_replaced = std.replace(0, 1)\n",
      "/tmp/ipykernel_1168028/1295774049.py:77: SettingWithCopyWarning: \n",
      "A value is trying to be set on a copy of a slice from a DataFrame.\n",
      "Try using .loc[row_indexer,col_indexer] = value instead\n",
      "\n",
      "See the caveats in the documentation: https://pandas.pydata.org/pandas-docs/stable/user_guide/indexing.html#returning-a-view-versus-a-copy\n",
      "  original_df[columns_to_normalize] = normalized_df\n"
     ]
    },
    {
     "name": "stdout",
     "output_type": "stream",
     "text": [
      "4V4NC9EH3KN232876 317\n"
     ]
    },
    {
     "name": "stderr",
     "output_type": "stream",
     "text": [
      "/tmp/ipykernel_1168028/1295774049.py:73: FutureWarning: Downcasting behavior in `replace` is deprecated and will be removed in a future version. To retain the old behavior, explicitly call `result.infer_objects(copy=False)`. To opt-in to the future behavior, set `pd.set_option('future.no_silent_downcasting', True)`\n",
      "  std_replaced = std.replace(0, 1)\n",
      "/tmp/ipykernel_1168028/1295774049.py:77: SettingWithCopyWarning: \n",
      "A value is trying to be set on a copy of a slice from a DataFrame.\n",
      "Try using .loc[row_indexer,col_indexer] = value instead\n",
      "\n",
      "See the caveats in the documentation: https://pandas.pydata.org/pandas-docs/stable/user_guide/indexing.html#returning-a-view-versus-a-copy\n",
      "  original_df[columns_to_normalize] = normalized_df\n"
     ]
    },
    {
     "name": "stdout",
     "output_type": "stream",
     "text": [
      "4V4NC9EH3KN900823 318\n"
     ]
    },
    {
     "name": "stderr",
     "output_type": "stream",
     "text": [
      "/tmp/ipykernel_1168028/1295774049.py:73: FutureWarning: Downcasting behavior in `replace` is deprecated and will be removed in a future version. To retain the old behavior, explicitly call `result.infer_objects(copy=False)`. To opt-in to the future behavior, set `pd.set_option('future.no_silent_downcasting', True)`\n",
      "  std_replaced = std.replace(0, 1)\n",
      "/tmp/ipykernel_1168028/1295774049.py:77: SettingWithCopyWarning: \n",
      "A value is trying to be set on a copy of a slice from a DataFrame.\n",
      "Try using .loc[row_indexer,col_indexer] = value instead\n",
      "\n",
      "See the caveats in the documentation: https://pandas.pydata.org/pandas-docs/stable/user_guide/indexing.html#returning-a-view-versus-a-copy\n",
      "  original_df[columns_to_normalize] = normalized_df\n"
     ]
    },
    {
     "name": "stdout",
     "output_type": "stream",
     "text": [
      "4V4NC9EH3KN902751 319\n"
     ]
    },
    {
     "name": "stderr",
     "output_type": "stream",
     "text": [
      "/tmp/ipykernel_1168028/1295774049.py:73: FutureWarning: Downcasting behavior in `replace` is deprecated and will be removed in a future version. To retain the old behavior, explicitly call `result.infer_objects(copy=False)`. To opt-in to the future behavior, set `pd.set_option('future.no_silent_downcasting', True)`\n",
      "  std_replaced = std.replace(0, 1)\n",
      "/tmp/ipykernel_1168028/1295774049.py:77: SettingWithCopyWarning: \n",
      "A value is trying to be set on a copy of a slice from a DataFrame.\n",
      "Try using .loc[row_indexer,col_indexer] = value instead\n",
      "\n",
      "See the caveats in the documentation: https://pandas.pydata.org/pandas-docs/stable/user_guide/indexing.html#returning-a-view-versus-a-copy\n",
      "  original_df[columns_to_normalize] = normalized_df\n"
     ]
    },
    {
     "name": "stdout",
     "output_type": "stream",
     "text": [
      "4V4NC9EH3LN232698 320\n"
     ]
    },
    {
     "name": "stderr",
     "output_type": "stream",
     "text": [
      "/tmp/ipykernel_1168028/1295774049.py:73: FutureWarning: Downcasting behavior in `replace` is deprecated and will be removed in a future version. To retain the old behavior, explicitly call `result.infer_objects(copy=False)`. To opt-in to the future behavior, set `pd.set_option('future.no_silent_downcasting', True)`\n",
      "  std_replaced = std.replace(0, 1)\n",
      "/tmp/ipykernel_1168028/1295774049.py:77: SettingWithCopyWarning: \n",
      "A value is trying to be set on a copy of a slice from a DataFrame.\n",
      "Try using .loc[row_indexer,col_indexer] = value instead\n",
      "\n",
      "See the caveats in the documentation: https://pandas.pydata.org/pandas-docs/stable/user_guide/indexing.html#returning-a-view-versus-a-copy\n",
      "  original_df[columns_to_normalize] = normalized_df\n"
     ]
    },
    {
     "name": "stdout",
     "output_type": "stream",
     "text": [
      "4V4NC9EH3MN248451 321\n"
     ]
    },
    {
     "name": "stderr",
     "output_type": "stream",
     "text": [
      "/tmp/ipykernel_1168028/1295774049.py:73: FutureWarning: Downcasting behavior in `replace` is deprecated and will be removed in a future version. To retain the old behavior, explicitly call `result.infer_objects(copy=False)`. To opt-in to the future behavior, set `pd.set_option('future.no_silent_downcasting', True)`\n",
      "  std_replaced = std.replace(0, 1)\n",
      "/tmp/ipykernel_1168028/1295774049.py:77: SettingWithCopyWarning: \n",
      "A value is trying to be set on a copy of a slice from a DataFrame.\n",
      "Try using .loc[row_indexer,col_indexer] = value instead\n",
      "\n",
      "See the caveats in the documentation: https://pandas.pydata.org/pandas-docs/stable/user_guide/indexing.html#returning-a-view-versus-a-copy\n",
      "  original_df[columns_to_normalize] = normalized_df\n"
     ]
    },
    {
     "name": "stdout",
     "output_type": "stream",
     "text": [
      "4V4NC9EH3MN273463 322\n"
     ]
    },
    {
     "name": "stderr",
     "output_type": "stream",
     "text": [
      "/tmp/ipykernel_1168028/1295774049.py:73: FutureWarning: Downcasting behavior in `replace` is deprecated and will be removed in a future version. To retain the old behavior, explicitly call `result.infer_objects(copy=False)`. To opt-in to the future behavior, set `pd.set_option('future.no_silent_downcasting', True)`\n",
      "  std_replaced = std.replace(0, 1)\n",
      "/tmp/ipykernel_1168028/1295774049.py:77: SettingWithCopyWarning: \n",
      "A value is trying to be set on a copy of a slice from a DataFrame.\n",
      "Try using .loc[row_indexer,col_indexer] = value instead\n",
      "\n",
      "See the caveats in the documentation: https://pandas.pydata.org/pandas-docs/stable/user_guide/indexing.html#returning-a-view-versus-a-copy\n",
      "  original_df[columns_to_normalize] = normalized_df\n"
     ]
    },
    {
     "name": "stdout",
     "output_type": "stream",
     "text": [
      "4V4NC9EH3MN600721 323\n"
     ]
    },
    {
     "name": "stderr",
     "output_type": "stream",
     "text": [
      "/tmp/ipykernel_1168028/1295774049.py:73: FutureWarning: Downcasting behavior in `replace` is deprecated and will be removed in a future version. To retain the old behavior, explicitly call `result.infer_objects(copy=False)`. To opt-in to the future behavior, set `pd.set_option('future.no_silent_downcasting', True)`\n",
      "  std_replaced = std.replace(0, 1)\n",
      "/tmp/ipykernel_1168028/1295774049.py:77: SettingWithCopyWarning: \n",
      "A value is trying to be set on a copy of a slice from a DataFrame.\n",
      "Try using .loc[row_indexer,col_indexer] = value instead\n",
      "\n",
      "See the caveats in the documentation: https://pandas.pydata.org/pandas-docs/stable/user_guide/indexing.html#returning-a-view-versus-a-copy\n",
      "  original_df[columns_to_normalize] = normalized_df\n"
     ]
    },
    {
     "name": "stdout",
     "output_type": "stream",
     "text": [
      "4V4NC9EH4FN184181 324\n"
     ]
    },
    {
     "name": "stderr",
     "output_type": "stream",
     "text": [
      "/tmp/ipykernel_1168028/1295774049.py:73: FutureWarning: Downcasting behavior in `replace` is deprecated and will be removed in a future version. To retain the old behavior, explicitly call `result.infer_objects(copy=False)`. To opt-in to the future behavior, set `pd.set_option('future.no_silent_downcasting', True)`\n",
      "  std_replaced = std.replace(0, 1)\n",
      "/tmp/ipykernel_1168028/1295774049.py:77: SettingWithCopyWarning: \n",
      "A value is trying to be set on a copy of a slice from a DataFrame.\n",
      "Try using .loc[row_indexer,col_indexer] = value instead\n",
      "\n",
      "See the caveats in the documentation: https://pandas.pydata.org/pandas-docs/stable/user_guide/indexing.html#returning-a-view-versus-a-copy\n",
      "  original_df[columns_to_normalize] = normalized_df\n"
     ]
    },
    {
     "name": "stdout",
     "output_type": "stream",
     "text": [
      "4V4NC9EH4JN894027 325\n"
     ]
    },
    {
     "name": "stderr",
     "output_type": "stream",
     "text": [
      "/tmp/ipykernel_1168028/1295774049.py:73: FutureWarning: Downcasting behavior in `replace` is deprecated and will be removed in a future version. To retain the old behavior, explicitly call `result.infer_objects(copy=False)`. To opt-in to the future behavior, set `pd.set_option('future.no_silent_downcasting', True)`\n",
      "  std_replaced = std.replace(0, 1)\n",
      "/tmp/ipykernel_1168028/1295774049.py:77: SettingWithCopyWarning: \n",
      "A value is trying to be set on a copy of a slice from a DataFrame.\n",
      "Try using .loc[row_indexer,col_indexer] = value instead\n",
      "\n",
      "See the caveats in the documentation: https://pandas.pydata.org/pandas-docs/stable/user_guide/indexing.html#returning-a-view-versus-a-copy\n",
      "  original_df[columns_to_normalize] = normalized_df\n"
     ]
    },
    {
     "name": "stdout",
     "output_type": "stream",
     "text": [
      "4V4NC9EH4KN195739 326\n"
     ]
    },
    {
     "name": "stderr",
     "output_type": "stream",
     "text": [
      "/tmp/ipykernel_1168028/1295774049.py:73: FutureWarning: Downcasting behavior in `replace` is deprecated and will be removed in a future version. To retain the old behavior, explicitly call `result.infer_objects(copy=False)`. To opt-in to the future behavior, set `pd.set_option('future.no_silent_downcasting', True)`\n",
      "  std_replaced = std.replace(0, 1)\n",
      "/tmp/ipykernel_1168028/1295774049.py:77: SettingWithCopyWarning: \n",
      "A value is trying to be set on a copy of a slice from a DataFrame.\n",
      "Try using .loc[row_indexer,col_indexer] = value instead\n",
      "\n",
      "See the caveats in the documentation: https://pandas.pydata.org/pandas-docs/stable/user_guide/indexing.html#returning-a-view-versus-a-copy\n",
      "  original_df[columns_to_normalize] = normalized_df\n"
     ]
    },
    {
     "name": "stdout",
     "output_type": "stream",
     "text": [
      "4V4NC9EH4KN201457 327\n"
     ]
    },
    {
     "name": "stderr",
     "output_type": "stream",
     "text": [
      "/tmp/ipykernel_1168028/1295774049.py:73: FutureWarning: Downcasting behavior in `replace` is deprecated and will be removed in a future version. To retain the old behavior, explicitly call `result.infer_objects(copy=False)`. To opt-in to the future behavior, set `pd.set_option('future.no_silent_downcasting', True)`\n",
      "  std_replaced = std.replace(0, 1)\n",
      "/tmp/ipykernel_1168028/1295774049.py:77: SettingWithCopyWarning: \n",
      "A value is trying to be set on a copy of a slice from a DataFrame.\n",
      "Try using .loc[row_indexer,col_indexer] = value instead\n",
      "\n",
      "See the caveats in the documentation: https://pandas.pydata.org/pandas-docs/stable/user_guide/indexing.html#returning-a-view-versus-a-copy\n",
      "  original_df[columns_to_normalize] = normalized_df\n"
     ]
    },
    {
     "name": "stdout",
     "output_type": "stream",
     "text": [
      "4V4NC9EH4KN214984 328\n"
     ]
    },
    {
     "name": "stderr",
     "output_type": "stream",
     "text": [
      "/tmp/ipykernel_1168028/1295774049.py:73: FutureWarning: Downcasting behavior in `replace` is deprecated and will be removed in a future version. To retain the old behavior, explicitly call `result.infer_objects(copy=False)`. To opt-in to the future behavior, set `pd.set_option('future.no_silent_downcasting', True)`\n",
      "  std_replaced = std.replace(0, 1)\n",
      "/tmp/ipykernel_1168028/1295774049.py:77: SettingWithCopyWarning: \n",
      "A value is trying to be set on a copy of a slice from a DataFrame.\n",
      "Try using .loc[row_indexer,col_indexer] = value instead\n",
      "\n",
      "See the caveats in the documentation: https://pandas.pydata.org/pandas-docs/stable/user_guide/indexing.html#returning-a-view-versus-a-copy\n",
      "  original_df[columns_to_normalize] = normalized_df\n"
     ]
    },
    {
     "name": "stdout",
     "output_type": "stream",
     "text": [
      "4V4NC9EH4KN233597 329\n"
     ]
    },
    {
     "name": "stderr",
     "output_type": "stream",
     "text": [
      "/tmp/ipykernel_1168028/1295774049.py:73: FutureWarning: Downcasting behavior in `replace` is deprecated and will be removed in a future version. To retain the old behavior, explicitly call `result.infer_objects(copy=False)`. To opt-in to the future behavior, set `pd.set_option('future.no_silent_downcasting', True)`\n",
      "  std_replaced = std.replace(0, 1)\n",
      "/tmp/ipykernel_1168028/1295774049.py:77: SettingWithCopyWarning: \n",
      "A value is trying to be set on a copy of a slice from a DataFrame.\n",
      "Try using .loc[row_indexer,col_indexer] = value instead\n",
      "\n",
      "See the caveats in the documentation: https://pandas.pydata.org/pandas-docs/stable/user_guide/indexing.html#returning-a-view-versus-a-copy\n",
      "  original_df[columns_to_normalize] = normalized_df\n"
     ]
    },
    {
     "name": "stdout",
     "output_type": "stream",
     "text": [
      "4V4NC9EH4KN903908 330\n"
     ]
    },
    {
     "name": "stderr",
     "output_type": "stream",
     "text": [
      "/tmp/ipykernel_1168028/1295774049.py:73: FutureWarning: Downcasting behavior in `replace` is deprecated and will be removed in a future version. To retain the old behavior, explicitly call `result.infer_objects(copy=False)`. To opt-in to the future behavior, set `pd.set_option('future.no_silent_downcasting', True)`\n",
      "  std_replaced = std.replace(0, 1)\n",
      "/tmp/ipykernel_1168028/1295774049.py:77: SettingWithCopyWarning: \n",
      "A value is trying to be set on a copy of a slice from a DataFrame.\n",
      "Try using .loc[row_indexer,col_indexer] = value instead\n",
      "\n",
      "See the caveats in the documentation: https://pandas.pydata.org/pandas-docs/stable/user_guide/indexing.html#returning-a-view-versus-a-copy\n",
      "  original_df[columns_to_normalize] = normalized_df\n"
     ]
    },
    {
     "name": "stdout",
     "output_type": "stream",
     "text": [
      "4V4NC9EH4LN221158 331\n"
     ]
    },
    {
     "name": "stderr",
     "output_type": "stream",
     "text": [
      "/tmp/ipykernel_1168028/1295774049.py:73: FutureWarning: Downcasting behavior in `replace` is deprecated and will be removed in a future version. To retain the old behavior, explicitly call `result.infer_objects(copy=False)`. To opt-in to the future behavior, set `pd.set_option('future.no_silent_downcasting', True)`\n",
      "  std_replaced = std.replace(0, 1)\n",
      "/tmp/ipykernel_1168028/1295774049.py:77: SettingWithCopyWarning: \n",
      "A value is trying to be set on a copy of a slice from a DataFrame.\n",
      "Try using .loc[row_indexer,col_indexer] = value instead\n",
      "\n",
      "See the caveats in the documentation: https://pandas.pydata.org/pandas-docs/stable/user_guide/indexing.html#returning-a-view-versus-a-copy\n",
      "  original_df[columns_to_normalize] = normalized_df\n"
     ]
    },
    {
     "name": "stdout",
     "output_type": "stream",
     "text": [
      "4V4NC9EH4LN228417 332\n"
     ]
    },
    {
     "name": "stderr",
     "output_type": "stream",
     "text": [
      "/tmp/ipykernel_1168028/1295774049.py:73: FutureWarning: Downcasting behavior in `replace` is deprecated and will be removed in a future version. To retain the old behavior, explicitly call `result.infer_objects(copy=False)`. To opt-in to the future behavior, set `pd.set_option('future.no_silent_downcasting', True)`\n",
      "  std_replaced = std.replace(0, 1)\n",
      "/tmp/ipykernel_1168028/1295774049.py:77: SettingWithCopyWarning: \n",
      "A value is trying to be set on a copy of a slice from a DataFrame.\n",
      "Try using .loc[row_indexer,col_indexer] = value instead\n",
      "\n",
      "See the caveats in the documentation: https://pandas.pydata.org/pandas-docs/stable/user_guide/indexing.html#returning-a-view-versus-a-copy\n",
      "  original_df[columns_to_normalize] = normalized_df\n"
     ]
    },
    {
     "name": "stdout",
     "output_type": "stream",
     "text": [
      "4V4NC9EH4LN252734 333\n"
     ]
    },
    {
     "name": "stderr",
     "output_type": "stream",
     "text": [
      "/tmp/ipykernel_1168028/1295774049.py:73: FutureWarning: Downcasting behavior in `replace` is deprecated and will be removed in a future version. To retain the old behavior, explicitly call `result.infer_objects(copy=False)`. To opt-in to the future behavior, set `pd.set_option('future.no_silent_downcasting', True)`\n",
      "  std_replaced = std.replace(0, 1)\n",
      "/tmp/ipykernel_1168028/1295774049.py:77: SettingWithCopyWarning: \n",
      "A value is trying to be set on a copy of a slice from a DataFrame.\n",
      "Try using .loc[row_indexer,col_indexer] = value instead\n",
      "\n",
      "See the caveats in the documentation: https://pandas.pydata.org/pandas-docs/stable/user_guide/indexing.html#returning-a-view-versus-a-copy\n",
      "  original_df[columns_to_normalize] = normalized_df\n"
     ]
    },
    {
     "name": "stdout",
     "output_type": "stream",
     "text": [
      "4V4NC9EH4LN269372 334\n"
     ]
    },
    {
     "name": "stderr",
     "output_type": "stream",
     "text": [
      "/tmp/ipykernel_1168028/1295774049.py:73: FutureWarning: Downcasting behavior in `replace` is deprecated and will be removed in a future version. To retain the old behavior, explicitly call `result.infer_objects(copy=False)`. To opt-in to the future behavior, set `pd.set_option('future.no_silent_downcasting', True)`\n",
      "  std_replaced = std.replace(0, 1)\n",
      "/tmp/ipykernel_1168028/1295774049.py:77: SettingWithCopyWarning: \n",
      "A value is trying to be set on a copy of a slice from a DataFrame.\n",
      "Try using .loc[row_indexer,col_indexer] = value instead\n",
      "\n",
      "See the caveats in the documentation: https://pandas.pydata.org/pandas-docs/stable/user_guide/indexing.html#returning-a-view-versus-a-copy\n",
      "  original_df[columns_to_normalize] = normalized_df\n"
     ]
    },
    {
     "name": "stdout",
     "output_type": "stream",
     "text": [
      "4V4NC9EH4MN262200 335\n"
     ]
    },
    {
     "name": "stderr",
     "output_type": "stream",
     "text": [
      "/tmp/ipykernel_1168028/1295774049.py:73: FutureWarning: Downcasting behavior in `replace` is deprecated and will be removed in a future version. To retain the old behavior, explicitly call `result.infer_objects(copy=False)`. To opt-in to the future behavior, set `pd.set_option('future.no_silent_downcasting', True)`\n",
      "  std_replaced = std.replace(0, 1)\n",
      "/tmp/ipykernel_1168028/1295774049.py:77: SettingWithCopyWarning: \n",
      "A value is trying to be set on a copy of a slice from a DataFrame.\n",
      "Try using .loc[row_indexer,col_indexer] = value instead\n",
      "\n",
      "See the caveats in the documentation: https://pandas.pydata.org/pandas-docs/stable/user_guide/indexing.html#returning-a-view-versus-a-copy\n",
      "  original_df[columns_to_normalize] = normalized_df\n"
     ]
    },
    {
     "name": "stdout",
     "output_type": "stream",
     "text": [
      "4V4NC9EH4MN271334 336\n"
     ]
    },
    {
     "name": "stderr",
     "output_type": "stream",
     "text": [
      "/tmp/ipykernel_1168028/1295774049.py:73: FutureWarning: Downcasting behavior in `replace` is deprecated and will be removed in a future version. To retain the old behavior, explicitly call `result.infer_objects(copy=False)`. To opt-in to the future behavior, set `pd.set_option('future.no_silent_downcasting', True)`\n",
      "  std_replaced = std.replace(0, 1)\n",
      "/tmp/ipykernel_1168028/1295774049.py:77: SettingWithCopyWarning: \n",
      "A value is trying to be set on a copy of a slice from a DataFrame.\n",
      "Try using .loc[row_indexer,col_indexer] = value instead\n",
      "\n",
      "See the caveats in the documentation: https://pandas.pydata.org/pandas-docs/stable/user_guide/indexing.html#returning-a-view-versus-a-copy\n",
      "  original_df[columns_to_normalize] = normalized_df\n"
     ]
    },
    {
     "name": "stdout",
     "output_type": "stream",
     "text": [
      "4V4NC9EH5FN182410 337\n"
     ]
    },
    {
     "name": "stderr",
     "output_type": "stream",
     "text": [
      "/tmp/ipykernel_1168028/1295774049.py:73: FutureWarning: Downcasting behavior in `replace` is deprecated and will be removed in a future version. To retain the old behavior, explicitly call `result.infer_objects(copy=False)`. To opt-in to the future behavior, set `pd.set_option('future.no_silent_downcasting', True)`\n",
      "  std_replaced = std.replace(0, 1)\n",
      "/tmp/ipykernel_1168028/1295774049.py:77: SettingWithCopyWarning: \n",
      "A value is trying to be set on a copy of a slice from a DataFrame.\n",
      "Try using .loc[row_indexer,col_indexer] = value instead\n",
      "\n",
      "See the caveats in the documentation: https://pandas.pydata.org/pandas-docs/stable/user_guide/indexing.html#returning-a-view-versus-a-copy\n",
      "  original_df[columns_to_normalize] = normalized_df\n"
     ]
    },
    {
     "name": "stdout",
     "output_type": "stream",
     "text": [
      "4V4NC9EH5FN185047 338\n"
     ]
    },
    {
     "name": "stderr",
     "output_type": "stream",
     "text": [
      "/tmp/ipykernel_1168028/1295774049.py:73: FutureWarning: Downcasting behavior in `replace` is deprecated and will be removed in a future version. To retain the old behavior, explicitly call `result.infer_objects(copy=False)`. To opt-in to the future behavior, set `pd.set_option('future.no_silent_downcasting', True)`\n",
      "  std_replaced = std.replace(0, 1)\n",
      "/tmp/ipykernel_1168028/1295774049.py:77: SettingWithCopyWarning: \n",
      "A value is trying to be set on a copy of a slice from a DataFrame.\n",
      "Try using .loc[row_indexer,col_indexer] = value instead\n",
      "\n",
      "See the caveats in the documentation: https://pandas.pydata.org/pandas-docs/stable/user_guide/indexing.html#returning-a-view-versus-a-copy\n",
      "  original_df[columns_to_normalize] = normalized_df\n"
     ]
    },
    {
     "name": "stdout",
     "output_type": "stream",
     "text": [
      "4V4NC9EH5FN189647 339\n"
     ]
    },
    {
     "name": "stderr",
     "output_type": "stream",
     "text": [
      "/tmp/ipykernel_1168028/1295774049.py:73: FutureWarning: Downcasting behavior in `replace` is deprecated and will be removed in a future version. To retain the old behavior, explicitly call `result.infer_objects(copy=False)`. To opt-in to the future behavior, set `pd.set_option('future.no_silent_downcasting', True)`\n",
      "  std_replaced = std.replace(0, 1)\n",
      "/tmp/ipykernel_1168028/1295774049.py:77: SettingWithCopyWarning: \n",
      "A value is trying to be set on a copy of a slice from a DataFrame.\n",
      "Try using .loc[row_indexer,col_indexer] = value instead\n",
      "\n",
      "See the caveats in the documentation: https://pandas.pydata.org/pandas-docs/stable/user_guide/indexing.html#returning-a-view-versus-a-copy\n",
      "  original_df[columns_to_normalize] = normalized_df\n"
     ]
    },
    {
     "name": "stdout",
     "output_type": "stream",
     "text": [
      "4V4NC9EH5JN889595 340\n"
     ]
    },
    {
     "name": "stderr",
     "output_type": "stream",
     "text": [
      "/tmp/ipykernel_1168028/1295774049.py:73: FutureWarning: Downcasting behavior in `replace` is deprecated and will be removed in a future version. To retain the old behavior, explicitly call `result.infer_objects(copy=False)`. To opt-in to the future behavior, set `pd.set_option('future.no_silent_downcasting', True)`\n",
      "  std_replaced = std.replace(0, 1)\n",
      "/tmp/ipykernel_1168028/1295774049.py:77: SettingWithCopyWarning: \n",
      "A value is trying to be set on a copy of a slice from a DataFrame.\n",
      "Try using .loc[row_indexer,col_indexer] = value instead\n",
      "\n",
      "See the caveats in the documentation: https://pandas.pydata.org/pandas-docs/stable/user_guide/indexing.html#returning-a-view-versus-a-copy\n",
      "  original_df[columns_to_normalize] = normalized_df\n"
     ]
    },
    {
     "name": "stdout",
     "output_type": "stream",
     "text": [
      "4V4NC9EH5JN965851 341\n"
     ]
    },
    {
     "name": "stderr",
     "output_type": "stream",
     "text": [
      "/tmp/ipykernel_1168028/1295774049.py:73: FutureWarning: Downcasting behavior in `replace` is deprecated and will be removed in a future version. To retain the old behavior, explicitly call `result.infer_objects(copy=False)`. To opt-in to the future behavior, set `pd.set_option('future.no_silent_downcasting', True)`\n",
      "  std_replaced = std.replace(0, 1)\n",
      "/tmp/ipykernel_1168028/1295774049.py:77: SettingWithCopyWarning: \n",
      "A value is trying to be set on a copy of a slice from a DataFrame.\n",
      "Try using .loc[row_indexer,col_indexer] = value instead\n",
      "\n",
      "See the caveats in the documentation: https://pandas.pydata.org/pandas-docs/stable/user_guide/indexing.html#returning-a-view-versus-a-copy\n",
      "  original_df[columns_to_normalize] = normalized_df\n"
     ]
    },
    {
     "name": "stdout",
     "output_type": "stream",
     "text": [
      "4V4NC9EH5KN207395 342\n"
     ]
    },
    {
     "name": "stderr",
     "output_type": "stream",
     "text": [
      "/tmp/ipykernel_1168028/1295774049.py:73: FutureWarning: Downcasting behavior in `replace` is deprecated and will be removed in a future version. To retain the old behavior, explicitly call `result.infer_objects(copy=False)`. To opt-in to the future behavior, set `pd.set_option('future.no_silent_downcasting', True)`\n",
      "  std_replaced = std.replace(0, 1)\n",
      "/tmp/ipykernel_1168028/1295774049.py:77: SettingWithCopyWarning: \n",
      "A value is trying to be set on a copy of a slice from a DataFrame.\n",
      "Try using .loc[row_indexer,col_indexer] = value instead\n",
      "\n",
      "See the caveats in the documentation: https://pandas.pydata.org/pandas-docs/stable/user_guide/indexing.html#returning-a-view-versus-a-copy\n",
      "  original_df[columns_to_normalize] = normalized_df\n"
     ]
    },
    {
     "name": "stdout",
     "output_type": "stream",
     "text": [
      "4V4NC9EH5LN218527 343\n"
     ]
    },
    {
     "name": "stderr",
     "output_type": "stream",
     "text": [
      "/tmp/ipykernel_1168028/1295774049.py:73: FutureWarning: Downcasting behavior in `replace` is deprecated and will be removed in a future version. To retain the old behavior, explicitly call `result.infer_objects(copy=False)`. To opt-in to the future behavior, set `pd.set_option('future.no_silent_downcasting', True)`\n",
      "  std_replaced = std.replace(0, 1)\n",
      "/tmp/ipykernel_1168028/1295774049.py:77: SettingWithCopyWarning: \n",
      "A value is trying to be set on a copy of a slice from a DataFrame.\n",
      "Try using .loc[row_indexer,col_indexer] = value instead\n",
      "\n",
      "See the caveats in the documentation: https://pandas.pydata.org/pandas-docs/stable/user_guide/indexing.html#returning-a-view-versus-a-copy\n",
      "  original_df[columns_to_normalize] = normalized_df\n"
     ]
    },
    {
     "name": "stdout",
     "output_type": "stream",
     "text": [
      "4V4NC9EH5LN233190 344\n"
     ]
    },
    {
     "name": "stderr",
     "output_type": "stream",
     "text": [
      "/tmp/ipykernel_1168028/1295774049.py:73: FutureWarning: Downcasting behavior in `replace` is deprecated and will be removed in a future version. To retain the old behavior, explicitly call `result.infer_objects(copy=False)`. To opt-in to the future behavior, set `pd.set_option('future.no_silent_downcasting', True)`\n",
      "  std_replaced = std.replace(0, 1)\n",
      "/tmp/ipykernel_1168028/1295774049.py:77: SettingWithCopyWarning: \n",
      "A value is trying to be set on a copy of a slice from a DataFrame.\n",
      "Try using .loc[row_indexer,col_indexer] = value instead\n",
      "\n",
      "See the caveats in the documentation: https://pandas.pydata.org/pandas-docs/stable/user_guide/indexing.html#returning-a-view-versus-a-copy\n",
      "  original_df[columns_to_normalize] = normalized_df\n"
     ]
    },
    {
     "name": "stdout",
     "output_type": "stream",
     "text": [
      "4V4NC9EH5LN241743 345\n"
     ]
    },
    {
     "name": "stderr",
     "output_type": "stream",
     "text": [
      "/tmp/ipykernel_1168028/1295774049.py:73: FutureWarning: Downcasting behavior in `replace` is deprecated and will be removed in a future version. To retain the old behavior, explicitly call `result.infer_objects(copy=False)`. To opt-in to the future behavior, set `pd.set_option('future.no_silent_downcasting', True)`\n",
      "  std_replaced = std.replace(0, 1)\n",
      "/tmp/ipykernel_1168028/1295774049.py:77: SettingWithCopyWarning: \n",
      "A value is trying to be set on a copy of a slice from a DataFrame.\n",
      "Try using .loc[row_indexer,col_indexer] = value instead\n",
      "\n",
      "See the caveats in the documentation: https://pandas.pydata.org/pandas-docs/stable/user_guide/indexing.html#returning-a-view-versus-a-copy\n",
      "  original_df[columns_to_normalize] = normalized_df\n"
     ]
    },
    {
     "name": "stdout",
     "output_type": "stream",
     "text": [
      "4V4NC9EH5LN256291 346\n"
     ]
    },
    {
     "name": "stderr",
     "output_type": "stream",
     "text": [
      "/tmp/ipykernel_1168028/1295774049.py:73: FutureWarning: Downcasting behavior in `replace` is deprecated and will be removed in a future version. To retain the old behavior, explicitly call `result.infer_objects(copy=False)`. To opt-in to the future behavior, set `pd.set_option('future.no_silent_downcasting', True)`\n",
      "  std_replaced = std.replace(0, 1)\n",
      "/tmp/ipykernel_1168028/1295774049.py:77: SettingWithCopyWarning: \n",
      "A value is trying to be set on a copy of a slice from a DataFrame.\n",
      "Try using .loc[row_indexer,col_indexer] = value instead\n",
      "\n",
      "See the caveats in the documentation: https://pandas.pydata.org/pandas-docs/stable/user_guide/indexing.html#returning-a-view-versus-a-copy\n",
      "  original_df[columns_to_normalize] = normalized_df\n"
     ]
    },
    {
     "name": "stdout",
     "output_type": "stream",
     "text": [
      "4V4NC9EH5LN261104 347\n"
     ]
    },
    {
     "name": "stderr",
     "output_type": "stream",
     "text": [
      "/tmp/ipykernel_1168028/1295774049.py:73: FutureWarning: Downcasting behavior in `replace` is deprecated and will be removed in a future version. To retain the old behavior, explicitly call `result.infer_objects(copy=False)`. To opt-in to the future behavior, set `pd.set_option('future.no_silent_downcasting', True)`\n",
      "  std_replaced = std.replace(0, 1)\n",
      "/tmp/ipykernel_1168028/1295774049.py:77: SettingWithCopyWarning: \n",
      "A value is trying to be set on a copy of a slice from a DataFrame.\n",
      "Try using .loc[row_indexer,col_indexer] = value instead\n",
      "\n",
      "See the caveats in the documentation: https://pandas.pydata.org/pandas-docs/stable/user_guide/indexing.html#returning-a-view-versus-a-copy\n",
      "  original_df[columns_to_normalize] = normalized_df\n"
     ]
    },
    {
     "name": "stdout",
     "output_type": "stream",
     "text": [
      "4V4NC9EH5LN263726 348\n"
     ]
    },
    {
     "name": "stderr",
     "output_type": "stream",
     "text": [
      "/tmp/ipykernel_1168028/1295774049.py:73: FutureWarning: Downcasting behavior in `replace` is deprecated and will be removed in a future version. To retain the old behavior, explicitly call `result.infer_objects(copy=False)`. To opt-in to the future behavior, set `pd.set_option('future.no_silent_downcasting', True)`\n",
      "  std_replaced = std.replace(0, 1)\n",
      "/tmp/ipykernel_1168028/1295774049.py:77: SettingWithCopyWarning: \n",
      "A value is trying to be set on a copy of a slice from a DataFrame.\n",
      "Try using .loc[row_indexer,col_indexer] = value instead\n",
      "\n",
      "See the caveats in the documentation: https://pandas.pydata.org/pandas-docs/stable/user_guide/indexing.html#returning-a-view-versus-a-copy\n",
      "  original_df[columns_to_normalize] = normalized_df\n"
     ]
    },
    {
     "name": "stdout",
     "output_type": "stream",
     "text": [
      "4V4NC9EH5LN267307 349\n"
     ]
    },
    {
     "name": "stderr",
     "output_type": "stream",
     "text": [
      "/tmp/ipykernel_1168028/1295774049.py:73: FutureWarning: Downcasting behavior in `replace` is deprecated and will be removed in a future version. To retain the old behavior, explicitly call `result.infer_objects(copy=False)`. To opt-in to the future behavior, set `pd.set_option('future.no_silent_downcasting', True)`\n",
      "  std_replaced = std.replace(0, 1)\n",
      "/tmp/ipykernel_1168028/1295774049.py:77: SettingWithCopyWarning: \n",
      "A value is trying to be set on a copy of a slice from a DataFrame.\n",
      "Try using .loc[row_indexer,col_indexer] = value instead\n",
      "\n",
      "See the caveats in the documentation: https://pandas.pydata.org/pandas-docs/stable/user_guide/indexing.html#returning-a-view-versus-a-copy\n",
      "  original_df[columns_to_normalize] = normalized_df\n"
     ]
    },
    {
     "name": "stdout",
     "output_type": "stream",
     "text": [
      "4V4NC9EH5MN265607 350\n"
     ]
    },
    {
     "name": "stderr",
     "output_type": "stream",
     "text": [
      "/tmp/ipykernel_1168028/1295774049.py:73: FutureWarning: Downcasting behavior in `replace` is deprecated and will be removed in a future version. To retain the old behavior, explicitly call `result.infer_objects(copy=False)`. To opt-in to the future behavior, set `pd.set_option('future.no_silent_downcasting', True)`\n",
      "  std_replaced = std.replace(0, 1)\n",
      "/tmp/ipykernel_1168028/1295774049.py:77: SettingWithCopyWarning: \n",
      "A value is trying to be set on a copy of a slice from a DataFrame.\n",
      "Try using .loc[row_indexer,col_indexer] = value instead\n",
      "\n",
      "See the caveats in the documentation: https://pandas.pydata.org/pandas-docs/stable/user_guide/indexing.html#returning-a-view-versus-a-copy\n",
      "  original_df[columns_to_normalize] = normalized_df\n"
     ]
    },
    {
     "name": "stdout",
     "output_type": "stream",
     "text": [
      "4V4NC9EH5NN601810 351\n"
     ]
    },
    {
     "name": "stderr",
     "output_type": "stream",
     "text": [
      "/tmp/ipykernel_1168028/1295774049.py:73: FutureWarning: Downcasting behavior in `replace` is deprecated and will be removed in a future version. To retain the old behavior, explicitly call `result.infer_objects(copy=False)`. To opt-in to the future behavior, set `pd.set_option('future.no_silent_downcasting', True)`\n",
      "  std_replaced = std.replace(0, 1)\n",
      "/tmp/ipykernel_1168028/1295774049.py:77: SettingWithCopyWarning: \n",
      "A value is trying to be set on a copy of a slice from a DataFrame.\n",
      "Try using .loc[row_indexer,col_indexer] = value instead\n",
      "\n",
      "See the caveats in the documentation: https://pandas.pydata.org/pandas-docs/stable/user_guide/indexing.html#returning-a-view-versus-a-copy\n",
      "  original_df[columns_to_normalize] = normalized_df\n"
     ]
    },
    {
     "name": "stdout",
     "output_type": "stream",
     "text": [
      "4V4NC9EH6FN187552 352\n"
     ]
    },
    {
     "name": "stderr",
     "output_type": "stream",
     "text": [
      "/tmp/ipykernel_1168028/1295774049.py:73: FutureWarning: Downcasting behavior in `replace` is deprecated and will be removed in a future version. To retain the old behavior, explicitly call `result.infer_objects(copy=False)`. To opt-in to the future behavior, set `pd.set_option('future.no_silent_downcasting', True)`\n",
      "  std_replaced = std.replace(0, 1)\n",
      "/tmp/ipykernel_1168028/1295774049.py:77: SettingWithCopyWarning: \n",
      "A value is trying to be set on a copy of a slice from a DataFrame.\n",
      "Try using .loc[row_indexer,col_indexer] = value instead\n",
      "\n",
      "See the caveats in the documentation: https://pandas.pydata.org/pandas-docs/stable/user_guide/indexing.html#returning-a-view-versus-a-copy\n",
      "  original_df[columns_to_normalize] = normalized_df\n"
     ]
    },
    {
     "name": "stdout",
     "output_type": "stream",
     "text": [
      "4V4NC9EH6FN190693 353\n"
     ]
    },
    {
     "name": "stderr",
     "output_type": "stream",
     "text": [
      "/tmp/ipykernel_1168028/1295774049.py:73: FutureWarning: Downcasting behavior in `replace` is deprecated and will be removed in a future version. To retain the old behavior, explicitly call `result.infer_objects(copy=False)`. To opt-in to the future behavior, set `pd.set_option('future.no_silent_downcasting', True)`\n",
      "  std_replaced = std.replace(0, 1)\n",
      "/tmp/ipykernel_1168028/1295774049.py:77: SettingWithCopyWarning: \n",
      "A value is trying to be set on a copy of a slice from a DataFrame.\n",
      "Try using .loc[row_indexer,col_indexer] = value instead\n",
      "\n",
      "See the caveats in the documentation: https://pandas.pydata.org/pandas-docs/stable/user_guide/indexing.html#returning-a-view-versus-a-copy\n",
      "  original_df[columns_to_normalize] = normalized_df\n"
     ]
    },
    {
     "name": "stdout",
     "output_type": "stream",
     "text": [
      "4V4NC9EH6JN885233 354\n"
     ]
    },
    {
     "name": "stderr",
     "output_type": "stream",
     "text": [
      "/tmp/ipykernel_1168028/1295774049.py:73: FutureWarning: Downcasting behavior in `replace` is deprecated and will be removed in a future version. To retain the old behavior, explicitly call `result.infer_objects(copy=False)`. To opt-in to the future behavior, set `pd.set_option('future.no_silent_downcasting', True)`\n",
      "  std_replaced = std.replace(0, 1)\n",
      "/tmp/ipykernel_1168028/1295774049.py:77: SettingWithCopyWarning: \n",
      "A value is trying to be set on a copy of a slice from a DataFrame.\n",
      "Try using .loc[row_indexer,col_indexer] = value instead\n",
      "\n",
      "See the caveats in the documentation: https://pandas.pydata.org/pandas-docs/stable/user_guide/indexing.html#returning-a-view-versus-a-copy\n",
      "  original_df[columns_to_normalize] = normalized_df\n"
     ]
    },
    {
     "name": "stdout",
     "output_type": "stream",
     "text": [
      "4V4NC9EH6JN889010 355\n"
     ]
    },
    {
     "name": "stderr",
     "output_type": "stream",
     "text": [
      "/tmp/ipykernel_1168028/1295774049.py:73: FutureWarning: Downcasting behavior in `replace` is deprecated and will be removed in a future version. To retain the old behavior, explicitly call `result.infer_objects(copy=False)`. To opt-in to the future behavior, set `pd.set_option('future.no_silent_downcasting', True)`\n",
      "  std_replaced = std.replace(0, 1)\n",
      "/tmp/ipykernel_1168028/1295774049.py:77: SettingWithCopyWarning: \n",
      "A value is trying to be set on a copy of a slice from a DataFrame.\n",
      "Try using .loc[row_indexer,col_indexer] = value instead\n",
      "\n",
      "See the caveats in the documentation: https://pandas.pydata.org/pandas-docs/stable/user_guide/indexing.html#returning-a-view-versus-a-copy\n",
      "  original_df[columns_to_normalize] = normalized_df\n"
     ]
    },
    {
     "name": "stdout",
     "output_type": "stream",
     "text": [
      "4V4NC9EH6JN895809 356\n"
     ]
    },
    {
     "name": "stderr",
     "output_type": "stream",
     "text": [
      "/tmp/ipykernel_1168028/1295774049.py:73: FutureWarning: Downcasting behavior in `replace` is deprecated and will be removed in a future version. To retain the old behavior, explicitly call `result.infer_objects(copy=False)`. To opt-in to the future behavior, set `pd.set_option('future.no_silent_downcasting', True)`\n",
      "  std_replaced = std.replace(0, 1)\n",
      "/tmp/ipykernel_1168028/1295774049.py:77: SettingWithCopyWarning: \n",
      "A value is trying to be set on a copy of a slice from a DataFrame.\n",
      "Try using .loc[row_indexer,col_indexer] = value instead\n",
      "\n",
      "See the caveats in the documentation: https://pandas.pydata.org/pandas-docs/stable/user_guide/indexing.html#returning-a-view-versus-a-copy\n",
      "  original_df[columns_to_normalize] = normalized_df\n"
     ]
    },
    {
     "name": "stdout",
     "output_type": "stream",
     "text": [
      "4V4NC9EH6JN979872 357\n"
     ]
    },
    {
     "name": "stderr",
     "output_type": "stream",
     "text": [
      "/tmp/ipykernel_1168028/1295774049.py:73: FutureWarning: Downcasting behavior in `replace` is deprecated and will be removed in a future version. To retain the old behavior, explicitly call `result.infer_objects(copy=False)`. To opt-in to the future behavior, set `pd.set_option('future.no_silent_downcasting', True)`\n",
      "  std_replaced = std.replace(0, 1)\n",
      "/tmp/ipykernel_1168028/1295774049.py:77: SettingWithCopyWarning: \n",
      "A value is trying to be set on a copy of a slice from a DataFrame.\n",
      "Try using .loc[row_indexer,col_indexer] = value instead\n",
      "\n",
      "See the caveats in the documentation: https://pandas.pydata.org/pandas-docs/stable/user_guide/indexing.html#returning-a-view-versus-a-copy\n",
      "  original_df[columns_to_normalize] = normalized_df\n"
     ]
    },
    {
     "name": "stdout",
     "output_type": "stream",
     "text": [
      "4V4NC9EH6JN990449 358\n"
     ]
    },
    {
     "name": "stderr",
     "output_type": "stream",
     "text": [
      "/tmp/ipykernel_1168028/1295774049.py:73: FutureWarning: Downcasting behavior in `replace` is deprecated and will be removed in a future version. To retain the old behavior, explicitly call `result.infer_objects(copy=False)`. To opt-in to the future behavior, set `pd.set_option('future.no_silent_downcasting', True)`\n",
      "  std_replaced = std.replace(0, 1)\n",
      "/tmp/ipykernel_1168028/1295774049.py:77: SettingWithCopyWarning: \n",
      "A value is trying to be set on a copy of a slice from a DataFrame.\n",
      "Try using .loc[row_indexer,col_indexer] = value instead\n",
      "\n",
      "See the caveats in the documentation: https://pandas.pydata.org/pandas-docs/stable/user_guide/indexing.html#returning-a-view-versus-a-copy\n",
      "  original_df[columns_to_normalize] = normalized_df\n"
     ]
    },
    {
     "name": "stdout",
     "output_type": "stream",
     "text": [
      "4V4NC9EH6KN898999 359\n"
     ]
    },
    {
     "name": "stderr",
     "output_type": "stream",
     "text": [
      "/tmp/ipykernel_1168028/1295774049.py:73: FutureWarning: Downcasting behavior in `replace` is deprecated and will be removed in a future version. To retain the old behavior, explicitly call `result.infer_objects(copy=False)`. To opt-in to the future behavior, set `pd.set_option('future.no_silent_downcasting', True)`\n",
      "  std_replaced = std.replace(0, 1)\n",
      "/tmp/ipykernel_1168028/1295774049.py:77: SettingWithCopyWarning: \n",
      "A value is trying to be set on a copy of a slice from a DataFrame.\n",
      "Try using .loc[row_indexer,col_indexer] = value instead\n",
      "\n",
      "See the caveats in the documentation: https://pandas.pydata.org/pandas-docs/stable/user_guide/indexing.html#returning-a-view-versus-a-copy\n",
      "  original_df[columns_to_normalize] = normalized_df\n"
     ]
    },
    {
     "name": "stdout",
     "output_type": "stream",
     "text": [
      "4V4NC9EH6KN903845 360\n"
     ]
    },
    {
     "name": "stderr",
     "output_type": "stream",
     "text": [
      "/tmp/ipykernel_1168028/1295774049.py:73: FutureWarning: Downcasting behavior in `replace` is deprecated and will be removed in a future version. To retain the old behavior, explicitly call `result.infer_objects(copy=False)`. To opt-in to the future behavior, set `pd.set_option('future.no_silent_downcasting', True)`\n",
      "  std_replaced = std.replace(0, 1)\n",
      "/tmp/ipykernel_1168028/1295774049.py:77: SettingWithCopyWarning: \n",
      "A value is trying to be set on a copy of a slice from a DataFrame.\n",
      "Try using .loc[row_indexer,col_indexer] = value instead\n",
      "\n",
      "See the caveats in the documentation: https://pandas.pydata.org/pandas-docs/stable/user_guide/indexing.html#returning-a-view-versus-a-copy\n",
      "  original_df[columns_to_normalize] = normalized_df\n"
     ]
    },
    {
     "name": "stdout",
     "output_type": "stream",
     "text": [
      "4V4NC9EH6KN904736 361\n"
     ]
    },
    {
     "name": "stderr",
     "output_type": "stream",
     "text": [
      "/tmp/ipykernel_1168028/1295774049.py:73: FutureWarning: Downcasting behavior in `replace` is deprecated and will be removed in a future version. To retain the old behavior, explicitly call `result.infer_objects(copy=False)`. To opt-in to the future behavior, set `pd.set_option('future.no_silent_downcasting', True)`\n",
      "  std_replaced = std.replace(0, 1)\n",
      "/tmp/ipykernel_1168028/1295774049.py:77: SettingWithCopyWarning: \n",
      "A value is trying to be set on a copy of a slice from a DataFrame.\n",
      "Try using .loc[row_indexer,col_indexer] = value instead\n",
      "\n",
      "See the caveats in the documentation: https://pandas.pydata.org/pandas-docs/stable/user_guide/indexing.html#returning-a-view-versus-a-copy\n",
      "  original_df[columns_to_normalize] = normalized_df\n"
     ]
    },
    {
     "name": "stdout",
     "output_type": "stream",
     "text": [
      "4V4NC9EH6LN259541 362\n"
     ]
    },
    {
     "name": "stderr",
     "output_type": "stream",
     "text": [
      "/tmp/ipykernel_1168028/1295774049.py:73: FutureWarning: Downcasting behavior in `replace` is deprecated and will be removed in a future version. To retain the old behavior, explicitly call `result.infer_objects(copy=False)`. To opt-in to the future behavior, set `pd.set_option('future.no_silent_downcasting', True)`\n",
      "  std_replaced = std.replace(0, 1)\n",
      "/tmp/ipykernel_1168028/1295774049.py:77: SettingWithCopyWarning: \n",
      "A value is trying to be set on a copy of a slice from a DataFrame.\n",
      "Try using .loc[row_indexer,col_indexer] = value instead\n",
      "\n",
      "See the caveats in the documentation: https://pandas.pydata.org/pandas-docs/stable/user_guide/indexing.html#returning-a-view-versus-a-copy\n",
      "  original_df[columns_to_normalize] = normalized_df\n"
     ]
    },
    {
     "name": "stdout",
     "output_type": "stream",
     "text": [
      "4V4NC9EH6NN297645 363\n"
     ]
    },
    {
     "name": "stderr",
     "output_type": "stream",
     "text": [
      "/tmp/ipykernel_1168028/1295774049.py:73: FutureWarning: Downcasting behavior in `replace` is deprecated and will be removed in a future version. To retain the old behavior, explicitly call `result.infer_objects(copy=False)`. To opt-in to the future behavior, set `pd.set_option('future.no_silent_downcasting', True)`\n",
      "  std_replaced = std.replace(0, 1)\n",
      "/tmp/ipykernel_1168028/1295774049.py:77: SettingWithCopyWarning: \n",
      "A value is trying to be set on a copy of a slice from a DataFrame.\n",
      "Try using .loc[row_indexer,col_indexer] = value instead\n",
      "\n",
      "See the caveats in the documentation: https://pandas.pydata.org/pandas-docs/stable/user_guide/indexing.html#returning-a-view-versus-a-copy\n",
      "  original_df[columns_to_normalize] = normalized_df\n"
     ]
    },
    {
     "name": "stdout",
     "output_type": "stream",
     "text": [
      "4V4NC9EH7FN925424 364\n"
     ]
    },
    {
     "name": "stderr",
     "output_type": "stream",
     "text": [
      "/tmp/ipykernel_1168028/1295774049.py:73: FutureWarning: Downcasting behavior in `replace` is deprecated and will be removed in a future version. To retain the old behavior, explicitly call `result.infer_objects(copy=False)`. To opt-in to the future behavior, set `pd.set_option('future.no_silent_downcasting', True)`\n",
      "  std_replaced = std.replace(0, 1)\n",
      "/tmp/ipykernel_1168028/1295774049.py:77: SettingWithCopyWarning: \n",
      "A value is trying to be set on a copy of a slice from a DataFrame.\n",
      "Try using .loc[row_indexer,col_indexer] = value instead\n",
      "\n",
      "See the caveats in the documentation: https://pandas.pydata.org/pandas-docs/stable/user_guide/indexing.html#returning-a-view-versus-a-copy\n",
      "  original_df[columns_to_normalize] = normalized_df\n"
     ]
    },
    {
     "name": "stdout",
     "output_type": "stream",
     "text": [
      "4V4NC9EH7GN180708 365\n"
     ]
    },
    {
     "name": "stderr",
     "output_type": "stream",
     "text": [
      "/tmp/ipykernel_1168028/1295774049.py:73: FutureWarning: Downcasting behavior in `replace` is deprecated and will be removed in a future version. To retain the old behavior, explicitly call `result.infer_objects(copy=False)`. To opt-in to the future behavior, set `pd.set_option('future.no_silent_downcasting', True)`\n",
      "  std_replaced = std.replace(0, 1)\n",
      "/tmp/ipykernel_1168028/1295774049.py:77: SettingWithCopyWarning: \n",
      "A value is trying to be set on a copy of a slice from a DataFrame.\n",
      "Try using .loc[row_indexer,col_indexer] = value instead\n",
      "\n",
      "See the caveats in the documentation: https://pandas.pydata.org/pandas-docs/stable/user_guide/indexing.html#returning-a-view-versus-a-copy\n",
      "  original_df[columns_to_normalize] = normalized_df\n"
     ]
    },
    {
     "name": "stdout",
     "output_type": "stream",
     "text": [
      "4V4NC9EH7HN977638 366\n"
     ]
    },
    {
     "name": "stderr",
     "output_type": "stream",
     "text": [
      "/tmp/ipykernel_1168028/1295774049.py:73: FutureWarning: Downcasting behavior in `replace` is deprecated and will be removed in a future version. To retain the old behavior, explicitly call `result.infer_objects(copy=False)`. To opt-in to the future behavior, set `pd.set_option('future.no_silent_downcasting', True)`\n",
      "  std_replaced = std.replace(0, 1)\n",
      "/tmp/ipykernel_1168028/1295774049.py:77: SettingWithCopyWarning: \n",
      "A value is trying to be set on a copy of a slice from a DataFrame.\n",
      "Try using .loc[row_indexer,col_indexer] = value instead\n",
      "\n",
      "See the caveats in the documentation: https://pandas.pydata.org/pandas-docs/stable/user_guide/indexing.html#returning-a-view-versus-a-copy\n",
      "  original_df[columns_to_normalize] = normalized_df\n"
     ]
    },
    {
     "name": "stdout",
     "output_type": "stream",
     "text": [
      "4V4NC9EH7JN886777 367\n"
     ]
    },
    {
     "name": "stderr",
     "output_type": "stream",
     "text": [
      "/tmp/ipykernel_1168028/1295774049.py:73: FutureWarning: Downcasting behavior in `replace` is deprecated and will be removed in a future version. To retain the old behavior, explicitly call `result.infer_objects(copy=False)`. To opt-in to the future behavior, set `pd.set_option('future.no_silent_downcasting', True)`\n",
      "  std_replaced = std.replace(0, 1)\n",
      "/tmp/ipykernel_1168028/1295774049.py:77: SettingWithCopyWarning: \n",
      "A value is trying to be set on a copy of a slice from a DataFrame.\n",
      "Try using .loc[row_indexer,col_indexer] = value instead\n",
      "\n",
      "See the caveats in the documentation: https://pandas.pydata.org/pandas-docs/stable/user_guide/indexing.html#returning-a-view-versus-a-copy\n",
      "  original_df[columns_to_normalize] = normalized_df\n"
     ]
    },
    {
     "name": "stdout",
     "output_type": "stream",
     "text": [
      "4V4NC9EH7JN897780 368\n"
     ]
    },
    {
     "name": "stderr",
     "output_type": "stream",
     "text": [
      "/tmp/ipykernel_1168028/1295774049.py:73: FutureWarning: Downcasting behavior in `replace` is deprecated and will be removed in a future version. To retain the old behavior, explicitly call `result.infer_objects(copy=False)`. To opt-in to the future behavior, set `pd.set_option('future.no_silent_downcasting', True)`\n",
      "  std_replaced = std.replace(0, 1)\n",
      "/tmp/ipykernel_1168028/1295774049.py:77: SettingWithCopyWarning: \n",
      "A value is trying to be set on a copy of a slice from a DataFrame.\n",
      "Try using .loc[row_indexer,col_indexer] = value instead\n",
      "\n",
      "See the caveats in the documentation: https://pandas.pydata.org/pandas-docs/stable/user_guide/indexing.html#returning-a-view-versus-a-copy\n",
      "  original_df[columns_to_normalize] = normalized_df\n"
     ]
    },
    {
     "name": "stdout",
     "output_type": "stream",
     "text": [
      "4V4NC9EH7KN195797 369\n"
     ]
    },
    {
     "name": "stderr",
     "output_type": "stream",
     "text": [
      "/tmp/ipykernel_1168028/1295774049.py:73: FutureWarning: Downcasting behavior in `replace` is deprecated and will be removed in a future version. To retain the old behavior, explicitly call `result.infer_objects(copy=False)`. To opt-in to the future behavior, set `pd.set_option('future.no_silent_downcasting', True)`\n",
      "  std_replaced = std.replace(0, 1)\n",
      "/tmp/ipykernel_1168028/1295774049.py:77: SettingWithCopyWarning: \n",
      "A value is trying to be set on a copy of a slice from a DataFrame.\n",
      "Try using .loc[row_indexer,col_indexer] = value instead\n",
      "\n",
      "See the caveats in the documentation: https://pandas.pydata.org/pandas-docs/stable/user_guide/indexing.html#returning-a-view-versus-a-copy\n",
      "  original_df[columns_to_normalize] = normalized_df\n"
     ]
    },
    {
     "name": "stdout",
     "output_type": "stream",
     "text": [
      "4V4NC9EH7KN201517 370\n"
     ]
    },
    {
     "name": "stderr",
     "output_type": "stream",
     "text": [
      "/tmp/ipykernel_1168028/1295774049.py:73: FutureWarning: Downcasting behavior in `replace` is deprecated and will be removed in a future version. To retain the old behavior, explicitly call `result.infer_objects(copy=False)`. To opt-in to the future behavior, set `pd.set_option('future.no_silent_downcasting', True)`\n",
      "  std_replaced = std.replace(0, 1)\n",
      "/tmp/ipykernel_1168028/1295774049.py:77: SettingWithCopyWarning: \n",
      "A value is trying to be set on a copy of a slice from a DataFrame.\n",
      "Try using .loc[row_indexer,col_indexer] = value instead\n",
      "\n",
      "See the caveats in the documentation: https://pandas.pydata.org/pandas-docs/stable/user_guide/indexing.html#returning-a-view-versus-a-copy\n",
      "  original_df[columns_to_normalize] = normalized_df\n"
     ]
    },
    {
     "name": "stdout",
     "output_type": "stream",
     "text": [
      "4V4NC9EH7KN209648 371\n"
     ]
    },
    {
     "name": "stderr",
     "output_type": "stream",
     "text": [
      "/tmp/ipykernel_1168028/1295774049.py:73: FutureWarning: Downcasting behavior in `replace` is deprecated and will be removed in a future version. To retain the old behavior, explicitly call `result.infer_objects(copy=False)`. To opt-in to the future behavior, set `pd.set_option('future.no_silent_downcasting', True)`\n",
      "  std_replaced = std.replace(0, 1)\n",
      "/tmp/ipykernel_1168028/1295774049.py:77: SettingWithCopyWarning: \n",
      "A value is trying to be set on a copy of a slice from a DataFrame.\n",
      "Try using .loc[row_indexer,col_indexer] = value instead\n",
      "\n",
      "See the caveats in the documentation: https://pandas.pydata.org/pandas-docs/stable/user_guide/indexing.html#returning-a-view-versus-a-copy\n",
      "  original_df[columns_to_normalize] = normalized_df\n"
     ]
    },
    {
     "name": "stdout",
     "output_type": "stream",
     "text": [
      "4V4NC9EH7LN261038 372\n"
     ]
    },
    {
     "name": "stderr",
     "output_type": "stream",
     "text": [
      "/tmp/ipykernel_1168028/1295774049.py:73: FutureWarning: Downcasting behavior in `replace` is deprecated and will be removed in a future version. To retain the old behavior, explicitly call `result.infer_objects(copy=False)`. To opt-in to the future behavior, set `pd.set_option('future.no_silent_downcasting', True)`\n",
      "  std_replaced = std.replace(0, 1)\n",
      "/tmp/ipykernel_1168028/1295774049.py:77: SettingWithCopyWarning: \n",
      "A value is trying to be set on a copy of a slice from a DataFrame.\n",
      "Try using .loc[row_indexer,col_indexer] = value instead\n",
      "\n",
      "See the caveats in the documentation: https://pandas.pydata.org/pandas-docs/stable/user_guide/indexing.html#returning-a-view-versus-a-copy\n",
      "  original_df[columns_to_normalize] = normalized_df\n"
     ]
    },
    {
     "name": "stdout",
     "output_type": "stream",
     "text": [
      "4V4NC9EH7NN289229 373\n"
     ]
    },
    {
     "name": "stderr",
     "output_type": "stream",
     "text": [
      "/tmp/ipykernel_1168028/1295774049.py:73: FutureWarning: Downcasting behavior in `replace` is deprecated and will be removed in a future version. To retain the old behavior, explicitly call `result.infer_objects(copy=False)`. To opt-in to the future behavior, set `pd.set_option('future.no_silent_downcasting', True)`\n",
      "  std_replaced = std.replace(0, 1)\n",
      "/tmp/ipykernel_1168028/1295774049.py:77: SettingWithCopyWarning: \n",
      "A value is trying to be set on a copy of a slice from a DataFrame.\n",
      "Try using .loc[row_indexer,col_indexer] = value instead\n",
      "\n",
      "See the caveats in the documentation: https://pandas.pydata.org/pandas-docs/stable/user_guide/indexing.html#returning-a-view-versus-a-copy\n",
      "  original_df[columns_to_normalize] = normalized_df\n"
     ]
    },
    {
     "name": "stdout",
     "output_type": "stream",
     "text": [
      "4V4NC9EH8FN916926 374\n"
     ]
    },
    {
     "name": "stderr",
     "output_type": "stream",
     "text": [
      "/tmp/ipykernel_1168028/1295774049.py:73: FutureWarning: Downcasting behavior in `replace` is deprecated and will be removed in a future version. To retain the old behavior, explicitly call `result.infer_objects(copy=False)`. To opt-in to the future behavior, set `pd.set_option('future.no_silent_downcasting', True)`\n",
      "  std_replaced = std.replace(0, 1)\n",
      "/tmp/ipykernel_1168028/1295774049.py:77: SettingWithCopyWarning: \n",
      "A value is trying to be set on a copy of a slice from a DataFrame.\n",
      "Try using .loc[row_indexer,col_indexer] = value instead\n",
      "\n",
      "See the caveats in the documentation: https://pandas.pydata.org/pandas-docs/stable/user_guide/indexing.html#returning-a-view-versus-a-copy\n",
      "  original_df[columns_to_normalize] = normalized_df\n"
     ]
    },
    {
     "name": "stdout",
     "output_type": "stream",
     "text": [
      "4V4NC9EH8FN920507 375\n"
     ]
    },
    {
     "name": "stderr",
     "output_type": "stream",
     "text": [
      "/tmp/ipykernel_1168028/1295774049.py:73: FutureWarning: Downcasting behavior in `replace` is deprecated and will be removed in a future version. To retain the old behavior, explicitly call `result.infer_objects(copy=False)`. To opt-in to the future behavior, set `pd.set_option('future.no_silent_downcasting', True)`\n",
      "  std_replaced = std.replace(0, 1)\n",
      "/tmp/ipykernel_1168028/1295774049.py:77: SettingWithCopyWarning: \n",
      "A value is trying to be set on a copy of a slice from a DataFrame.\n",
      "Try using .loc[row_indexer,col_indexer] = value instead\n",
      "\n",
      "See the caveats in the documentation: https://pandas.pydata.org/pandas-docs/stable/user_guide/indexing.html#returning-a-view-versus-a-copy\n",
      "  original_df[columns_to_normalize] = normalized_df\n"
     ]
    },
    {
     "name": "stdout",
     "output_type": "stream",
     "text": [
      "4V4NC9EH8GN975220 376\n"
     ]
    },
    {
     "name": "stderr",
     "output_type": "stream",
     "text": [
      "/tmp/ipykernel_1168028/1295774049.py:73: FutureWarning: Downcasting behavior in `replace` is deprecated and will be removed in a future version. To retain the old behavior, explicitly call `result.infer_objects(copy=False)`. To opt-in to the future behavior, set `pd.set_option('future.no_silent_downcasting', True)`\n",
      "  std_replaced = std.replace(0, 1)\n",
      "/tmp/ipykernel_1168028/1295774049.py:77: SettingWithCopyWarning: \n",
      "A value is trying to be set on a copy of a slice from a DataFrame.\n",
      "Try using .loc[row_indexer,col_indexer] = value instead\n",
      "\n",
      "See the caveats in the documentation: https://pandas.pydata.org/pandas-docs/stable/user_guide/indexing.html#returning-a-view-versus-a-copy\n",
      "  original_df[columns_to_normalize] = normalized_df\n"
     ]
    },
    {
     "name": "stdout",
     "output_type": "stream",
     "text": [
      "4V4NC9EH8HN994447 377\n"
     ]
    },
    {
     "name": "stderr",
     "output_type": "stream",
     "text": [
      "/tmp/ipykernel_1168028/1295774049.py:73: FutureWarning: Downcasting behavior in `replace` is deprecated and will be removed in a future version. To retain the old behavior, explicitly call `result.infer_objects(copy=False)`. To opt-in to the future behavior, set `pd.set_option('future.no_silent_downcasting', True)`\n",
      "  std_replaced = std.replace(0, 1)\n",
      "/tmp/ipykernel_1168028/1295774049.py:77: SettingWithCopyWarning: \n",
      "A value is trying to be set on a copy of a slice from a DataFrame.\n",
      "Try using .loc[row_indexer,col_indexer] = value instead\n",
      "\n",
      "See the caveats in the documentation: https://pandas.pydata.org/pandas-docs/stable/user_guide/indexing.html#returning-a-view-versus-a-copy\n",
      "  original_df[columns_to_normalize] = normalized_df\n"
     ]
    },
    {
     "name": "stdout",
     "output_type": "stream",
     "text": [
      "4V4NC9EH8JN996124 378\n"
     ]
    },
    {
     "name": "stderr",
     "output_type": "stream",
     "text": [
      "/tmp/ipykernel_1168028/1295774049.py:73: FutureWarning: Downcasting behavior in `replace` is deprecated and will be removed in a future version. To retain the old behavior, explicitly call `result.infer_objects(copy=False)`. To opt-in to the future behavior, set `pd.set_option('future.no_silent_downcasting', True)`\n",
      "  std_replaced = std.replace(0, 1)\n",
      "/tmp/ipykernel_1168028/1295774049.py:77: SettingWithCopyWarning: \n",
      "A value is trying to be set on a copy of a slice from a DataFrame.\n",
      "Try using .loc[row_indexer,col_indexer] = value instead\n",
      "\n",
      "See the caveats in the documentation: https://pandas.pydata.org/pandas-docs/stable/user_guide/indexing.html#returning-a-view-versus-a-copy\n",
      "  original_df[columns_to_normalize] = normalized_df\n"
     ]
    },
    {
     "name": "stdout",
     "output_type": "stream",
     "text": [
      "4V4NC9EH8KN212428 379\n"
     ]
    },
    {
     "name": "stderr",
     "output_type": "stream",
     "text": [
      "/tmp/ipykernel_1168028/1295774049.py:73: FutureWarning: Downcasting behavior in `replace` is deprecated and will be removed in a future version. To retain the old behavior, explicitly call `result.infer_objects(copy=False)`. To opt-in to the future behavior, set `pd.set_option('future.no_silent_downcasting', True)`\n",
      "  std_replaced = std.replace(0, 1)\n",
      "/tmp/ipykernel_1168028/1295774049.py:77: SettingWithCopyWarning: \n",
      "A value is trying to be set on a copy of a slice from a DataFrame.\n",
      "Try using .loc[row_indexer,col_indexer] = value instead\n",
      "\n",
      "See the caveats in the documentation: https://pandas.pydata.org/pandas-docs/stable/user_guide/indexing.html#returning-a-view-versus-a-copy\n",
      "  original_df[columns_to_normalize] = normalized_df\n"
     ]
    },
    {
     "name": "stdout",
     "output_type": "stream",
     "text": [
      "4V4NC9EH8KN227835 380\n"
     ]
    },
    {
     "name": "stderr",
     "output_type": "stream",
     "text": [
      "/tmp/ipykernel_1168028/1295774049.py:73: FutureWarning: Downcasting behavior in `replace` is deprecated and will be removed in a future version. To retain the old behavior, explicitly call `result.infer_objects(copy=False)`. To opt-in to the future behavior, set `pd.set_option('future.no_silent_downcasting', True)`\n",
      "  std_replaced = std.replace(0, 1)\n",
      "/tmp/ipykernel_1168028/1295774049.py:77: SettingWithCopyWarning: \n",
      "A value is trying to be set on a copy of a slice from a DataFrame.\n",
      "Try using .loc[row_indexer,col_indexer] = value instead\n",
      "\n",
      "See the caveats in the documentation: https://pandas.pydata.org/pandas-docs/stable/user_guide/indexing.html#returning-a-view-versus-a-copy\n",
      "  original_df[columns_to_normalize] = normalized_df\n"
     ]
    },
    {
     "name": "stdout",
     "output_type": "stream",
     "text": [
      "4V4NC9EH8KN240102 381\n"
     ]
    },
    {
     "name": "stderr",
     "output_type": "stream",
     "text": [
      "/tmp/ipykernel_1168028/1295774049.py:73: FutureWarning: Downcasting behavior in `replace` is deprecated and will be removed in a future version. To retain the old behavior, explicitly call `result.infer_objects(copy=False)`. To opt-in to the future behavior, set `pd.set_option('future.no_silent_downcasting', True)`\n",
      "  std_replaced = std.replace(0, 1)\n",
      "/tmp/ipykernel_1168028/1295774049.py:77: SettingWithCopyWarning: \n",
      "A value is trying to be set on a copy of a slice from a DataFrame.\n",
      "Try using .loc[row_indexer,col_indexer] = value instead\n",
      "\n",
      "See the caveats in the documentation: https://pandas.pydata.org/pandas-docs/stable/user_guide/indexing.html#returning-a-view-versus-a-copy\n",
      "  original_df[columns_to_normalize] = normalized_df\n"
     ]
    },
    {
     "name": "stdout",
     "output_type": "stream",
     "text": [
      "4V4NC9EH8LN221275 382\n"
     ]
    },
    {
     "name": "stderr",
     "output_type": "stream",
     "text": [
      "/tmp/ipykernel_1168028/1295774049.py:73: FutureWarning: Downcasting behavior in `replace` is deprecated and will be removed in a future version. To retain the old behavior, explicitly call `result.infer_objects(copy=False)`. To opt-in to the future behavior, set `pd.set_option('future.no_silent_downcasting', True)`\n",
      "  std_replaced = std.replace(0, 1)\n",
      "/tmp/ipykernel_1168028/1295774049.py:77: SettingWithCopyWarning: \n",
      "A value is trying to be set on a copy of a slice from a DataFrame.\n",
      "Try using .loc[row_indexer,col_indexer] = value instead\n",
      "\n",
      "See the caveats in the documentation: https://pandas.pydata.org/pandas-docs/stable/user_guide/indexing.html#returning-a-view-versus-a-copy\n",
      "  original_df[columns_to_normalize] = normalized_df\n"
     ]
    },
    {
     "name": "stdout",
     "output_type": "stream",
     "text": [
      "4V4NC9EH8LN237928 383\n"
     ]
    },
    {
     "name": "stderr",
     "output_type": "stream",
     "text": [
      "/tmp/ipykernel_1168028/1295774049.py:73: FutureWarning: Downcasting behavior in `replace` is deprecated and will be removed in a future version. To retain the old behavior, explicitly call `result.infer_objects(copy=False)`. To opt-in to the future behavior, set `pd.set_option('future.no_silent_downcasting', True)`\n",
      "  std_replaced = std.replace(0, 1)\n",
      "/tmp/ipykernel_1168028/1295774049.py:77: SettingWithCopyWarning: \n",
      "A value is trying to be set on a copy of a slice from a DataFrame.\n",
      "Try using .loc[row_indexer,col_indexer] = value instead\n",
      "\n",
      "See the caveats in the documentation: https://pandas.pydata.org/pandas-docs/stable/user_guide/indexing.html#returning-a-view-versus-a-copy\n",
      "  original_df[columns_to_normalize] = normalized_df\n"
     ]
    },
    {
     "name": "stdout",
     "output_type": "stream",
     "text": [
      "4V4NC9EH8LN255913 384\n"
     ]
    },
    {
     "name": "stderr",
     "output_type": "stream",
     "text": [
      "/tmp/ipykernel_1168028/1295774049.py:73: FutureWarning: Downcasting behavior in `replace` is deprecated and will be removed in a future version. To retain the old behavior, explicitly call `result.infer_objects(copy=False)`. To opt-in to the future behavior, set `pd.set_option('future.no_silent_downcasting', True)`\n",
      "  std_replaced = std.replace(0, 1)\n",
      "/tmp/ipykernel_1168028/1295774049.py:77: SettingWithCopyWarning: \n",
      "A value is trying to be set on a copy of a slice from a DataFrame.\n",
      "Try using .loc[row_indexer,col_indexer] = value instead\n",
      "\n",
      "See the caveats in the documentation: https://pandas.pydata.org/pandas-docs/stable/user_guide/indexing.html#returning-a-view-versus-a-copy\n",
      "  original_df[columns_to_normalize] = normalized_df\n"
     ]
    },
    {
     "name": "stdout",
     "output_type": "stream",
     "text": [
      "4V4NC9EH8LN262280 385\n"
     ]
    },
    {
     "name": "stderr",
     "output_type": "stream",
     "text": [
      "/tmp/ipykernel_1168028/1295774049.py:73: FutureWarning: Downcasting behavior in `replace` is deprecated and will be removed in a future version. To retain the old behavior, explicitly call `result.infer_objects(copy=False)`. To opt-in to the future behavior, set `pd.set_option('future.no_silent_downcasting', True)`\n",
      "  std_replaced = std.replace(0, 1)\n",
      "/tmp/ipykernel_1168028/1295774049.py:77: SettingWithCopyWarning: \n",
      "A value is trying to be set on a copy of a slice from a DataFrame.\n",
      "Try using .loc[row_indexer,col_indexer] = value instead\n",
      "\n",
      "See the caveats in the documentation: https://pandas.pydata.org/pandas-docs/stable/user_guide/indexing.html#returning-a-view-versus-a-copy\n",
      "  original_df[columns_to_normalize] = normalized_df\n"
     ]
    },
    {
     "name": "stdout",
     "output_type": "stream",
     "text": [
      "4V4NC9EH8MN282417 386\n"
     ]
    },
    {
     "name": "stderr",
     "output_type": "stream",
     "text": [
      "/tmp/ipykernel_1168028/1295774049.py:73: FutureWarning: Downcasting behavior in `replace` is deprecated and will be removed in a future version. To retain the old behavior, explicitly call `result.infer_objects(copy=False)`. To opt-in to the future behavior, set `pd.set_option('future.no_silent_downcasting', True)`\n",
      "  std_replaced = std.replace(0, 1)\n",
      "/tmp/ipykernel_1168028/1295774049.py:77: SettingWithCopyWarning: \n",
      "A value is trying to be set on a copy of a slice from a DataFrame.\n",
      "Try using .loc[row_indexer,col_indexer] = value instead\n",
      "\n",
      "See the caveats in the documentation: https://pandas.pydata.org/pandas-docs/stable/user_guide/indexing.html#returning-a-view-versus-a-copy\n",
      "  original_df[columns_to_normalize] = normalized_df\n"
     ]
    },
    {
     "name": "stdout",
     "output_type": "stream",
     "text": [
      "4V4NC9EH8NN602062 387\n"
     ]
    },
    {
     "name": "stderr",
     "output_type": "stream",
     "text": [
      "/tmp/ipykernel_1168028/1295774049.py:73: FutureWarning: Downcasting behavior in `replace` is deprecated and will be removed in a future version. To retain the old behavior, explicitly call `result.infer_objects(copy=False)`. To opt-in to the future behavior, set `pd.set_option('future.no_silent_downcasting', True)`\n",
      "  std_replaced = std.replace(0, 1)\n",
      "/tmp/ipykernel_1168028/1295774049.py:77: SettingWithCopyWarning: \n",
      "A value is trying to be set on a copy of a slice from a DataFrame.\n",
      "Try using .loc[row_indexer,col_indexer] = value instead\n",
      "\n",
      "See the caveats in the documentation: https://pandas.pydata.org/pandas-docs/stable/user_guide/indexing.html#returning-a-view-versus-a-copy\n",
      "  original_df[columns_to_normalize] = normalized_df\n"
     ]
    },
    {
     "name": "stdout",
     "output_type": "stream",
     "text": [
      "4V4NC9EH9FN180580 388\n"
     ]
    },
    {
     "name": "stderr",
     "output_type": "stream",
     "text": [
      "/tmp/ipykernel_1168028/1295774049.py:73: FutureWarning: Downcasting behavior in `replace` is deprecated and will be removed in a future version. To retain the old behavior, explicitly call `result.infer_objects(copy=False)`. To opt-in to the future behavior, set `pd.set_option('future.no_silent_downcasting', True)`\n",
      "  std_replaced = std.replace(0, 1)\n",
      "/tmp/ipykernel_1168028/1295774049.py:77: SettingWithCopyWarning: \n",
      "A value is trying to be set on a copy of a slice from a DataFrame.\n",
      "Try using .loc[row_indexer,col_indexer] = value instead\n",
      "\n",
      "See the caveats in the documentation: https://pandas.pydata.org/pandas-docs/stable/user_guide/indexing.html#returning-a-view-versus-a-copy\n",
      "  original_df[columns_to_normalize] = normalized_df\n"
     ]
    },
    {
     "name": "stdout",
     "output_type": "stream",
     "text": [
      "4V4NC9EH9FN191241 389\n"
     ]
    },
    {
     "name": "stderr",
     "output_type": "stream",
     "text": [
      "/tmp/ipykernel_1168028/1295774049.py:73: FutureWarning: Downcasting behavior in `replace` is deprecated and will be removed in a future version. To retain the old behavior, explicitly call `result.infer_objects(copy=False)`. To opt-in to the future behavior, set `pd.set_option('future.no_silent_downcasting', True)`\n",
      "  std_replaced = std.replace(0, 1)\n",
      "/tmp/ipykernel_1168028/1295774049.py:77: SettingWithCopyWarning: \n",
      "A value is trying to be set on a copy of a slice from a DataFrame.\n",
      "Try using .loc[row_indexer,col_indexer] = value instead\n",
      "\n",
      "See the caveats in the documentation: https://pandas.pydata.org/pandas-docs/stable/user_guide/indexing.html#returning-a-view-versus-a-copy\n",
      "  original_df[columns_to_normalize] = normalized_df\n"
     ]
    },
    {
     "name": "stdout",
     "output_type": "stream",
     "text": [
      "4V4NC9EH9FN918636 390\n"
     ]
    },
    {
     "name": "stderr",
     "output_type": "stream",
     "text": [
      "/tmp/ipykernel_1168028/1295774049.py:73: FutureWarning: Downcasting behavior in `replace` is deprecated and will be removed in a future version. To retain the old behavior, explicitly call `result.infer_objects(copy=False)`. To opt-in to the future behavior, set `pd.set_option('future.no_silent_downcasting', True)`\n",
      "  std_replaced = std.replace(0, 1)\n",
      "/tmp/ipykernel_1168028/1295774049.py:77: SettingWithCopyWarning: \n",
      "A value is trying to be set on a copy of a slice from a DataFrame.\n",
      "Try using .loc[row_indexer,col_indexer] = value instead\n",
      "\n",
      "See the caveats in the documentation: https://pandas.pydata.org/pandas-docs/stable/user_guide/indexing.html#returning-a-view-versus-a-copy\n",
      "  original_df[columns_to_normalize] = normalized_df\n"
     ]
    },
    {
     "name": "stdout",
     "output_type": "stream",
     "text": [
      "4V4NC9EH9FN930334 391\n"
     ]
    },
    {
     "name": "stderr",
     "output_type": "stream",
     "text": [
      "/tmp/ipykernel_1168028/1295774049.py:73: FutureWarning: Downcasting behavior in `replace` is deprecated and will be removed in a future version. To retain the old behavior, explicitly call `result.infer_objects(copy=False)`. To opt-in to the future behavior, set `pd.set_option('future.no_silent_downcasting', True)`\n",
      "  std_replaced = std.replace(0, 1)\n",
      "/tmp/ipykernel_1168028/1295774049.py:77: SettingWithCopyWarning: \n",
      "A value is trying to be set on a copy of a slice from a DataFrame.\n",
      "Try using .loc[row_indexer,col_indexer] = value instead\n",
      "\n",
      "See the caveats in the documentation: https://pandas.pydata.org/pandas-docs/stable/user_guide/indexing.html#returning-a-view-versus-a-copy\n",
      "  original_df[columns_to_normalize] = normalized_df\n"
     ]
    },
    {
     "name": "stdout",
     "output_type": "stream",
     "text": [
      "4V4NC9EH9FN931032 392\n"
     ]
    },
    {
     "name": "stderr",
     "output_type": "stream",
     "text": [
      "/tmp/ipykernel_1168028/1295774049.py:73: FutureWarning: Downcasting behavior in `replace` is deprecated and will be removed in a future version. To retain the old behavior, explicitly call `result.infer_objects(copy=False)`. To opt-in to the future behavior, set `pd.set_option('future.no_silent_downcasting', True)`\n",
      "  std_replaced = std.replace(0, 1)\n",
      "/tmp/ipykernel_1168028/1295774049.py:77: SettingWithCopyWarning: \n",
      "A value is trying to be set on a copy of a slice from a DataFrame.\n",
      "Try using .loc[row_indexer,col_indexer] = value instead\n",
      "\n",
      "See the caveats in the documentation: https://pandas.pydata.org/pandas-docs/stable/user_guide/indexing.html#returning-a-view-versus-a-copy\n",
      "  original_df[columns_to_normalize] = normalized_df\n"
     ]
    },
    {
     "name": "stdout",
     "output_type": "stream",
     "text": [
      "4V4NC9EH9HN981206 393\n"
     ]
    },
    {
     "name": "stderr",
     "output_type": "stream",
     "text": [
      "/tmp/ipykernel_1168028/1295774049.py:73: FutureWarning: Downcasting behavior in `replace` is deprecated and will be removed in a future version. To retain the old behavior, explicitly call `result.infer_objects(copy=False)`. To opt-in to the future behavior, set `pd.set_option('future.no_silent_downcasting', True)`\n",
      "  std_replaced = std.replace(0, 1)\n",
      "/tmp/ipykernel_1168028/1295774049.py:77: SettingWithCopyWarning: \n",
      "A value is trying to be set on a copy of a slice from a DataFrame.\n",
      "Try using .loc[row_indexer,col_indexer] = value instead\n",
      "\n",
      "See the caveats in the documentation: https://pandas.pydata.org/pandas-docs/stable/user_guide/indexing.html#returning-a-view-versus-a-copy\n",
      "  original_df[columns_to_normalize] = normalized_df\n"
     ]
    },
    {
     "name": "stdout",
     "output_type": "stream",
     "text": [
      "4V4NC9EH9JN998383 394\n"
     ]
    },
    {
     "name": "stderr",
     "output_type": "stream",
     "text": [
      "/tmp/ipykernel_1168028/1295774049.py:73: FutureWarning: Downcasting behavior in `replace` is deprecated and will be removed in a future version. To retain the old behavior, explicitly call `result.infer_objects(copy=False)`. To opt-in to the future behavior, set `pd.set_option('future.no_silent_downcasting', True)`\n",
      "  std_replaced = std.replace(0, 1)\n",
      "/tmp/ipykernel_1168028/1295774049.py:77: SettingWithCopyWarning: \n",
      "A value is trying to be set on a copy of a slice from a DataFrame.\n",
      "Try using .loc[row_indexer,col_indexer] = value instead\n",
      "\n",
      "See the caveats in the documentation: https://pandas.pydata.org/pandas-docs/stable/user_guide/indexing.html#returning-a-view-versus-a-copy\n",
      "  original_df[columns_to_normalize] = normalized_df\n"
     ]
    },
    {
     "name": "stdout",
     "output_type": "stream",
     "text": [
      "4V4NC9EH9KN198314 395\n"
     ]
    },
    {
     "name": "stderr",
     "output_type": "stream",
     "text": [
      "/tmp/ipykernel_1168028/1295774049.py:73: FutureWarning: Downcasting behavior in `replace` is deprecated and will be removed in a future version. To retain the old behavior, explicitly call `result.infer_objects(copy=False)`. To opt-in to the future behavior, set `pd.set_option('future.no_silent_downcasting', True)`\n",
      "  std_replaced = std.replace(0, 1)\n",
      "/tmp/ipykernel_1168028/1295774049.py:77: SettingWithCopyWarning: \n",
      "A value is trying to be set on a copy of a slice from a DataFrame.\n",
      "Try using .loc[row_indexer,col_indexer] = value instead\n",
      "\n",
      "See the caveats in the documentation: https://pandas.pydata.org/pandas-docs/stable/user_guide/indexing.html#returning-a-view-versus-a-copy\n",
      "  original_df[columns_to_normalize] = normalized_df\n"
     ]
    },
    {
     "name": "stdout",
     "output_type": "stream",
     "text": [
      "4V4NC9EH9KN903967 396\n"
     ]
    },
    {
     "name": "stderr",
     "output_type": "stream",
     "text": [
      "/tmp/ipykernel_1168028/1295774049.py:73: FutureWarning: Downcasting behavior in `replace` is deprecated and will be removed in a future version. To retain the old behavior, explicitly call `result.infer_objects(copy=False)`. To opt-in to the future behavior, set `pd.set_option('future.no_silent_downcasting', True)`\n",
      "  std_replaced = std.replace(0, 1)\n",
      "/tmp/ipykernel_1168028/1295774049.py:77: SettingWithCopyWarning: \n",
      "A value is trying to be set on a copy of a slice from a DataFrame.\n",
      "Try using .loc[row_indexer,col_indexer] = value instead\n",
      "\n",
      "See the caveats in the documentation: https://pandas.pydata.org/pandas-docs/stable/user_guide/indexing.html#returning-a-view-versus-a-copy\n",
      "  original_df[columns_to_normalize] = normalized_df\n"
     ]
    },
    {
     "name": "stdout",
     "output_type": "stream",
     "text": [
      "4V4NC9EH9LN228252 397\n"
     ]
    },
    {
     "name": "stderr",
     "output_type": "stream",
     "text": [
      "/tmp/ipykernel_1168028/1295774049.py:73: FutureWarning: Downcasting behavior in `replace` is deprecated and will be removed in a future version. To retain the old behavior, explicitly call `result.infer_objects(copy=False)`. To opt-in to the future behavior, set `pd.set_option('future.no_silent_downcasting', True)`\n",
      "  std_replaced = std.replace(0, 1)\n",
      "/tmp/ipykernel_1168028/1295774049.py:77: SettingWithCopyWarning: \n",
      "A value is trying to be set on a copy of a slice from a DataFrame.\n",
      "Try using .loc[row_indexer,col_indexer] = value instead\n",
      "\n",
      "See the caveats in the documentation: https://pandas.pydata.org/pandas-docs/stable/user_guide/indexing.html#returning-a-view-versus-a-copy\n",
      "  original_df[columns_to_normalize] = normalized_df\n"
     ]
    },
    {
     "name": "stdout",
     "output_type": "stream",
     "text": [
      "4V4NC9EH9LN254348 398\n"
     ]
    },
    {
     "name": "stderr",
     "output_type": "stream",
     "text": [
      "/tmp/ipykernel_1168028/1295774049.py:73: FutureWarning: Downcasting behavior in `replace` is deprecated and will be removed in a future version. To retain the old behavior, explicitly call `result.infer_objects(copy=False)`. To opt-in to the future behavior, set `pd.set_option('future.no_silent_downcasting', True)`\n",
      "  std_replaced = std.replace(0, 1)\n",
      "/tmp/ipykernel_1168028/1295774049.py:77: SettingWithCopyWarning: \n",
      "A value is trying to be set on a copy of a slice from a DataFrame.\n",
      "Try using .loc[row_indexer,col_indexer] = value instead\n",
      "\n",
      "See the caveats in the documentation: https://pandas.pydata.org/pandas-docs/stable/user_guide/indexing.html#returning-a-view-versus-a-copy\n",
      "  original_df[columns_to_normalize] = normalized_df\n"
     ]
    },
    {
     "name": "stdout",
     "output_type": "stream",
     "text": [
      "4V4NC9EH9LN261686 399\n"
     ]
    },
    {
     "name": "stderr",
     "output_type": "stream",
     "text": [
      "/tmp/ipykernel_1168028/1295774049.py:73: FutureWarning: Downcasting behavior in `replace` is deprecated and will be removed in a future version. To retain the old behavior, explicitly call `result.infer_objects(copy=False)`. To opt-in to the future behavior, set `pd.set_option('future.no_silent_downcasting', True)`\n",
      "  std_replaced = std.replace(0, 1)\n",
      "/tmp/ipykernel_1168028/1295774049.py:77: SettingWithCopyWarning: \n",
      "A value is trying to be set on a copy of a slice from a DataFrame.\n",
      "Try using .loc[row_indexer,col_indexer] = value instead\n",
      "\n",
      "See the caveats in the documentation: https://pandas.pydata.org/pandas-docs/stable/user_guide/indexing.html#returning-a-view-versus-a-copy\n",
      "  original_df[columns_to_normalize] = normalized_df\n"
     ]
    },
    {
     "name": "stdout",
     "output_type": "stream",
     "text": [
      "4V4NC9EH9MN241973 400\n"
     ]
    },
    {
     "name": "stderr",
     "output_type": "stream",
     "text": [
      "/tmp/ipykernel_1168028/1295774049.py:73: FutureWarning: Downcasting behavior in `replace` is deprecated and will be removed in a future version. To retain the old behavior, explicitly call `result.infer_objects(copy=False)`. To opt-in to the future behavior, set `pd.set_option('future.no_silent_downcasting', True)`\n",
      "  std_replaced = std.replace(0, 1)\n",
      "/tmp/ipykernel_1168028/1295774049.py:77: SettingWithCopyWarning: \n",
      "A value is trying to be set on a copy of a slice from a DataFrame.\n",
      "Try using .loc[row_indexer,col_indexer] = value instead\n",
      "\n",
      "See the caveats in the documentation: https://pandas.pydata.org/pandas-docs/stable/user_guide/indexing.html#returning-a-view-versus-a-copy\n",
      "  original_df[columns_to_normalize] = normalized_df\n"
     ]
    },
    {
     "name": "stdout",
     "output_type": "stream",
     "text": [
      "4V4NC9EH9MN264931 401\n"
     ]
    },
    {
     "name": "stderr",
     "output_type": "stream",
     "text": [
      "/tmp/ipykernel_1168028/1295774049.py:73: FutureWarning: Downcasting behavior in `replace` is deprecated and will be removed in a future version. To retain the old behavior, explicitly call `result.infer_objects(copy=False)`. To opt-in to the future behavior, set `pd.set_option('future.no_silent_downcasting', True)`\n",
      "  std_replaced = std.replace(0, 1)\n",
      "/tmp/ipykernel_1168028/1295774049.py:77: SettingWithCopyWarning: \n",
      "A value is trying to be set on a copy of a slice from a DataFrame.\n",
      "Try using .loc[row_indexer,col_indexer] = value instead\n",
      "\n",
      "See the caveats in the documentation: https://pandas.pydata.org/pandas-docs/stable/user_guide/indexing.html#returning-a-view-versus-a-copy\n",
      "  original_df[columns_to_normalize] = normalized_df\n"
     ]
    },
    {
     "name": "stdout",
     "output_type": "stream",
     "text": [
      "4V4NC9EH9NN289555 402\n"
     ]
    },
    {
     "name": "stderr",
     "output_type": "stream",
     "text": [
      "/tmp/ipykernel_1168028/1295774049.py:73: FutureWarning: Downcasting behavior in `replace` is deprecated and will be removed in a future version. To retain the old behavior, explicitly call `result.infer_objects(copy=False)`. To opt-in to the future behavior, set `pd.set_option('future.no_silent_downcasting', True)`\n",
      "  std_replaced = std.replace(0, 1)\n",
      "/tmp/ipykernel_1168028/1295774049.py:77: SettingWithCopyWarning: \n",
      "A value is trying to be set on a copy of a slice from a DataFrame.\n",
      "Try using .loc[row_indexer,col_indexer] = value instead\n",
      "\n",
      "See the caveats in the documentation: https://pandas.pydata.org/pandas-docs/stable/user_guide/indexing.html#returning-a-view-versus-a-copy\n",
      "  original_df[columns_to_normalize] = normalized_df\n"
     ]
    },
    {
     "name": "stdout",
     "output_type": "stream",
     "text": [
      "4V4NC9EHXFN178644 403\n"
     ]
    },
    {
     "name": "stderr",
     "output_type": "stream",
     "text": [
      "/tmp/ipykernel_1168028/1295774049.py:73: FutureWarning: Downcasting behavior in `replace` is deprecated and will be removed in a future version. To retain the old behavior, explicitly call `result.infer_objects(copy=False)`. To opt-in to the future behavior, set `pd.set_option('future.no_silent_downcasting', True)`\n",
      "  std_replaced = std.replace(0, 1)\n",
      "/tmp/ipykernel_1168028/1295774049.py:77: SettingWithCopyWarning: \n",
      "A value is trying to be set on a copy of a slice from a DataFrame.\n",
      "Try using .loc[row_indexer,col_indexer] = value instead\n",
      "\n",
      "See the caveats in the documentation: https://pandas.pydata.org/pandas-docs/stable/user_guide/indexing.html#returning-a-view-versus-a-copy\n",
      "  original_df[columns_to_normalize] = normalized_df\n"
     ]
    },
    {
     "name": "stdout",
     "output_type": "stream",
     "text": [
      "4V4NC9EHXFN933968 404\n"
     ]
    },
    {
     "name": "stderr",
     "output_type": "stream",
     "text": [
      "/tmp/ipykernel_1168028/1295774049.py:73: FutureWarning: Downcasting behavior in `replace` is deprecated and will be removed in a future version. To retain the old behavior, explicitly call `result.infer_objects(copy=False)`. To opt-in to the future behavior, set `pd.set_option('future.no_silent_downcasting', True)`\n",
      "  std_replaced = std.replace(0, 1)\n",
      "/tmp/ipykernel_1168028/1295774049.py:77: SettingWithCopyWarning: \n",
      "A value is trying to be set on a copy of a slice from a DataFrame.\n",
      "Try using .loc[row_indexer,col_indexer] = value instead\n",
      "\n",
      "See the caveats in the documentation: https://pandas.pydata.org/pandas-docs/stable/user_guide/indexing.html#returning-a-view-versus-a-copy\n",
      "  original_df[columns_to_normalize] = normalized_df\n"
     ]
    },
    {
     "name": "stdout",
     "output_type": "stream",
     "text": [
      "4V4NC9EHXKN192473 405\n"
     ]
    },
    {
     "name": "stderr",
     "output_type": "stream",
     "text": [
      "/tmp/ipykernel_1168028/1295774049.py:73: FutureWarning: Downcasting behavior in `replace` is deprecated and will be removed in a future version. To retain the old behavior, explicitly call `result.infer_objects(copy=False)`. To opt-in to the future behavior, set `pd.set_option('future.no_silent_downcasting', True)`\n",
      "  std_replaced = std.replace(0, 1)\n",
      "/tmp/ipykernel_1168028/1295774049.py:77: SettingWithCopyWarning: \n",
      "A value is trying to be set on a copy of a slice from a DataFrame.\n",
      "Try using .loc[row_indexer,col_indexer] = value instead\n",
      "\n",
      "See the caveats in the documentation: https://pandas.pydata.org/pandas-docs/stable/user_guide/indexing.html#returning-a-view-versus-a-copy\n",
      "  original_df[columns_to_normalize] = normalized_df\n"
     ]
    },
    {
     "name": "stdout",
     "output_type": "stream",
     "text": [
      "4V4NC9EHXMN254652 406\n"
     ]
    },
    {
     "name": "stderr",
     "output_type": "stream",
     "text": [
      "/tmp/ipykernel_1168028/1295774049.py:73: FutureWarning: Downcasting behavior in `replace` is deprecated and will be removed in a future version. To retain the old behavior, explicitly call `result.infer_objects(copy=False)`. To opt-in to the future behavior, set `pd.set_option('future.no_silent_downcasting', True)`\n",
      "  std_replaced = std.replace(0, 1)\n",
      "/tmp/ipykernel_1168028/1295774049.py:77: SettingWithCopyWarning: \n",
      "A value is trying to be set on a copy of a slice from a DataFrame.\n",
      "Try using .loc[row_indexer,col_indexer] = value instead\n",
      "\n",
      "See the caveats in the documentation: https://pandas.pydata.org/pandas-docs/stable/user_guide/indexing.html#returning-a-view-versus-a-copy\n",
      "  original_df[columns_to_normalize] = normalized_df\n"
     ]
    },
    {
     "name": "stdout",
     "output_type": "stream",
     "text": [
      "4V4NC9EJ0FN180096 407\n"
     ]
    },
    {
     "name": "stderr",
     "output_type": "stream",
     "text": [
      "/tmp/ipykernel_1168028/1295774049.py:73: FutureWarning: Downcasting behavior in `replace` is deprecated and will be removed in a future version. To retain the old behavior, explicitly call `result.infer_objects(copy=False)`. To opt-in to the future behavior, set `pd.set_option('future.no_silent_downcasting', True)`\n",
      "  std_replaced = std.replace(0, 1)\n",
      "/tmp/ipykernel_1168028/1295774049.py:77: SettingWithCopyWarning: \n",
      "A value is trying to be set on a copy of a slice from a DataFrame.\n",
      "Try using .loc[row_indexer,col_indexer] = value instead\n",
      "\n",
      "See the caveats in the documentation: https://pandas.pydata.org/pandas-docs/stable/user_guide/indexing.html#returning-a-view-versus-a-copy\n",
      "  original_df[columns_to_normalize] = normalized_df\n"
     ]
    },
    {
     "name": "stdout",
     "output_type": "stream",
     "text": [
      "4V4NC9EJ0KN214127 408\n"
     ]
    },
    {
     "name": "stderr",
     "output_type": "stream",
     "text": [
      "/tmp/ipykernel_1168028/1295774049.py:73: FutureWarning: Downcasting behavior in `replace` is deprecated and will be removed in a future version. To retain the old behavior, explicitly call `result.infer_objects(copy=False)`. To opt-in to the future behavior, set `pd.set_option('future.no_silent_downcasting', True)`\n",
      "  std_replaced = std.replace(0, 1)\n",
      "/tmp/ipykernel_1168028/1295774049.py:77: SettingWithCopyWarning: \n",
      "A value is trying to be set on a copy of a slice from a DataFrame.\n",
      "Try using .loc[row_indexer,col_indexer] = value instead\n",
      "\n",
      "See the caveats in the documentation: https://pandas.pydata.org/pandas-docs/stable/user_guide/indexing.html#returning-a-view-versus-a-copy\n",
      "  original_df[columns_to_normalize] = normalized_df\n"
     ]
    },
    {
     "name": "stdout",
     "output_type": "stream",
     "text": [
      "4V4NC9EJ2FN910512 409\n"
     ]
    },
    {
     "name": "stderr",
     "output_type": "stream",
     "text": [
      "/tmp/ipykernel_1168028/1295774049.py:73: FutureWarning: Downcasting behavior in `replace` is deprecated and will be removed in a future version. To retain the old behavior, explicitly call `result.infer_objects(copy=False)`. To opt-in to the future behavior, set `pd.set_option('future.no_silent_downcasting', True)`\n",
      "  std_replaced = std.replace(0, 1)\n",
      "/tmp/ipykernel_1168028/1295774049.py:77: SettingWithCopyWarning: \n",
      "A value is trying to be set on a copy of a slice from a DataFrame.\n",
      "Try using .loc[row_indexer,col_indexer] = value instead\n",
      "\n",
      "See the caveats in the documentation: https://pandas.pydata.org/pandas-docs/stable/user_guide/indexing.html#returning-a-view-versus-a-copy\n",
      "  original_df[columns_to_normalize] = normalized_df\n"
     ]
    },
    {
     "name": "stdout",
     "output_type": "stream",
     "text": [
      "4V4NC9EJ2LN213451 410\n"
     ]
    },
    {
     "name": "stderr",
     "output_type": "stream",
     "text": [
      "/tmp/ipykernel_1168028/1295774049.py:73: FutureWarning: Downcasting behavior in `replace` is deprecated and will be removed in a future version. To retain the old behavior, explicitly call `result.infer_objects(copy=False)`. To opt-in to the future behavior, set `pd.set_option('future.no_silent_downcasting', True)`\n",
      "  std_replaced = std.replace(0, 1)\n",
      "/tmp/ipykernel_1168028/1295774049.py:77: SettingWithCopyWarning: \n",
      "A value is trying to be set on a copy of a slice from a DataFrame.\n",
      "Try using .loc[row_indexer,col_indexer] = value instead\n",
      "\n",
      "See the caveats in the documentation: https://pandas.pydata.org/pandas-docs/stable/user_guide/indexing.html#returning-a-view-versus-a-copy\n",
      "  original_df[columns_to_normalize] = normalized_df\n"
     ]
    },
    {
     "name": "stdout",
     "output_type": "stream",
     "text": [
      "4V4NC9EJ3FN910597 411\n"
     ]
    },
    {
     "name": "stderr",
     "output_type": "stream",
     "text": [
      "/tmp/ipykernel_1168028/1295774049.py:73: FutureWarning: Downcasting behavior in `replace` is deprecated and will be removed in a future version. To retain the old behavior, explicitly call `result.infer_objects(copy=False)`. To opt-in to the future behavior, set `pd.set_option('future.no_silent_downcasting', True)`\n",
      "  std_replaced = std.replace(0, 1)\n",
      "/tmp/ipykernel_1168028/1295774049.py:77: SettingWithCopyWarning: \n",
      "A value is trying to be set on a copy of a slice from a DataFrame.\n",
      "Try using .loc[row_indexer,col_indexer] = value instead\n",
      "\n",
      "See the caveats in the documentation: https://pandas.pydata.org/pandas-docs/stable/user_guide/indexing.html#returning-a-view-versus-a-copy\n",
      "  original_df[columns_to_normalize] = normalized_df\n"
     ]
    },
    {
     "name": "stdout",
     "output_type": "stream",
     "text": [
      "4V4NC9EJ3GN947618 412\n"
     ]
    },
    {
     "name": "stderr",
     "output_type": "stream",
     "text": [
      "/tmp/ipykernel_1168028/1295774049.py:73: FutureWarning: Downcasting behavior in `replace` is deprecated and will be removed in a future version. To retain the old behavior, explicitly call `result.infer_objects(copy=False)`. To opt-in to the future behavior, set `pd.set_option('future.no_silent_downcasting', True)`\n",
      "  std_replaced = std.replace(0, 1)\n",
      "/tmp/ipykernel_1168028/1295774049.py:77: SettingWithCopyWarning: \n",
      "A value is trying to be set on a copy of a slice from a DataFrame.\n",
      "Try using .loc[row_indexer,col_indexer] = value instead\n",
      "\n",
      "See the caveats in the documentation: https://pandas.pydata.org/pandas-docs/stable/user_guide/indexing.html#returning-a-view-versus-a-copy\n",
      "  original_df[columns_to_normalize] = normalized_df\n"
     ]
    },
    {
     "name": "stdout",
     "output_type": "stream",
     "text": [
      "4V4NC9EJ3LN226824 413\n"
     ]
    },
    {
     "name": "stderr",
     "output_type": "stream",
     "text": [
      "/tmp/ipykernel_1168028/1295774049.py:73: FutureWarning: Downcasting behavior in `replace` is deprecated and will be removed in a future version. To retain the old behavior, explicitly call `result.infer_objects(copy=False)`. To opt-in to the future behavior, set `pd.set_option('future.no_silent_downcasting', True)`\n",
      "  std_replaced = std.replace(0, 1)\n",
      "/tmp/ipykernel_1168028/1295774049.py:77: SettingWithCopyWarning: \n",
      "A value is trying to be set on a copy of a slice from a DataFrame.\n",
      "Try using .loc[row_indexer,col_indexer] = value instead\n",
      "\n",
      "See the caveats in the documentation: https://pandas.pydata.org/pandas-docs/stable/user_guide/indexing.html#returning-a-view-versus-a-copy\n",
      "  original_df[columns_to_normalize] = normalized_df\n"
     ]
    },
    {
     "name": "stdout",
     "output_type": "stream",
     "text": [
      "4V4NC9EJ4JN885783 414\n"
     ]
    },
    {
     "name": "stderr",
     "output_type": "stream",
     "text": [
      "/tmp/ipykernel_1168028/1295774049.py:73: FutureWarning: Downcasting behavior in `replace` is deprecated and will be removed in a future version. To retain the old behavior, explicitly call `result.infer_objects(copy=False)`. To opt-in to the future behavior, set `pd.set_option('future.no_silent_downcasting', True)`\n",
      "  std_replaced = std.replace(0, 1)\n",
      "/tmp/ipykernel_1168028/1295774049.py:77: SettingWithCopyWarning: \n",
      "A value is trying to be set on a copy of a slice from a DataFrame.\n",
      "Try using .loc[row_indexer,col_indexer] = value instead\n",
      "\n",
      "See the caveats in the documentation: https://pandas.pydata.org/pandas-docs/stable/user_guide/indexing.html#returning-a-view-versus-a-copy\n",
      "  original_df[columns_to_normalize] = normalized_df\n"
     ]
    },
    {
     "name": "stdout",
     "output_type": "stream",
     "text": [
      "4V4NC9EJ4JN888070 415\n"
     ]
    },
    {
     "name": "stderr",
     "output_type": "stream",
     "text": [
      "/tmp/ipykernel_1168028/1295774049.py:73: FutureWarning: Downcasting behavior in `replace` is deprecated and will be removed in a future version. To retain the old behavior, explicitly call `result.infer_objects(copy=False)`. To opt-in to the future behavior, set `pd.set_option('future.no_silent_downcasting', True)`\n",
      "  std_replaced = std.replace(0, 1)\n",
      "/tmp/ipykernel_1168028/1295774049.py:77: SettingWithCopyWarning: \n",
      "A value is trying to be set on a copy of a slice from a DataFrame.\n",
      "Try using .loc[row_indexer,col_indexer] = value instead\n",
      "\n",
      "See the caveats in the documentation: https://pandas.pydata.org/pandas-docs/stable/user_guide/indexing.html#returning-a-view-versus-a-copy\n",
      "  original_df[columns_to_normalize] = normalized_df\n"
     ]
    },
    {
     "name": "stdout",
     "output_type": "stream",
     "text": [
      "4V4NC9EJ4KN227897 416\n"
     ]
    },
    {
     "name": "stderr",
     "output_type": "stream",
     "text": [
      "/tmp/ipykernel_1168028/1295774049.py:73: FutureWarning: Downcasting behavior in `replace` is deprecated and will be removed in a future version. To retain the old behavior, explicitly call `result.infer_objects(copy=False)`. To opt-in to the future behavior, set `pd.set_option('future.no_silent_downcasting', True)`\n",
      "  std_replaced = std.replace(0, 1)\n",
      "/tmp/ipykernel_1168028/1295774049.py:77: SettingWithCopyWarning: \n",
      "A value is trying to be set on a copy of a slice from a DataFrame.\n",
      "Try using .loc[row_indexer,col_indexer] = value instead\n",
      "\n",
      "See the caveats in the documentation: https://pandas.pydata.org/pandas-docs/stable/user_guide/indexing.html#returning-a-view-versus-a-copy\n",
      "  original_df[columns_to_normalize] = normalized_df\n"
     ]
    },
    {
     "name": "stdout",
     "output_type": "stream",
     "text": [
      "4V4NC9EJ5KN210896 417\n"
     ]
    },
    {
     "name": "stderr",
     "output_type": "stream",
     "text": [
      "/tmp/ipykernel_1168028/1295774049.py:73: FutureWarning: Downcasting behavior in `replace` is deprecated and will be removed in a future version. To retain the old behavior, explicitly call `result.infer_objects(copy=False)`. To opt-in to the future behavior, set `pd.set_option('future.no_silent_downcasting', True)`\n",
      "  std_replaced = std.replace(0, 1)\n",
      "/tmp/ipykernel_1168028/1295774049.py:77: SettingWithCopyWarning: \n",
      "A value is trying to be set on a copy of a slice from a DataFrame.\n",
      "Try using .loc[row_indexer,col_indexer] = value instead\n",
      "\n",
      "See the caveats in the documentation: https://pandas.pydata.org/pandas-docs/stable/user_guide/indexing.html#returning-a-view-versus-a-copy\n",
      "  original_df[columns_to_normalize] = normalized_df\n"
     ]
    },
    {
     "name": "stdout",
     "output_type": "stream",
     "text": [
      "4V4NC9EJ5LN230244 418\n"
     ]
    },
    {
     "name": "stderr",
     "output_type": "stream",
     "text": [
      "/tmp/ipykernel_1168028/1295774049.py:73: FutureWarning: Downcasting behavior in `replace` is deprecated and will be removed in a future version. To retain the old behavior, explicitly call `result.infer_objects(copy=False)`. To opt-in to the future behavior, set `pd.set_option('future.no_silent_downcasting', True)`\n",
      "  std_replaced = std.replace(0, 1)\n",
      "/tmp/ipykernel_1168028/1295774049.py:77: SettingWithCopyWarning: \n",
      "A value is trying to be set on a copy of a slice from a DataFrame.\n",
      "Try using .loc[row_indexer,col_indexer] = value instead\n",
      "\n",
      "See the caveats in the documentation: https://pandas.pydata.org/pandas-docs/stable/user_guide/indexing.html#returning-a-view-versus-a-copy\n",
      "  original_df[columns_to_normalize] = normalized_df\n"
     ]
    },
    {
     "name": "stdout",
     "output_type": "stream",
     "text": [
      "4V4NC9EJ6FN915163 419\n"
     ]
    },
    {
     "name": "stderr",
     "output_type": "stream",
     "text": [
      "/tmp/ipykernel_1168028/1295774049.py:73: FutureWarning: Downcasting behavior in `replace` is deprecated and will be removed in a future version. To retain the old behavior, explicitly call `result.infer_objects(copy=False)`. To opt-in to the future behavior, set `pd.set_option('future.no_silent_downcasting', True)`\n",
      "  std_replaced = std.replace(0, 1)\n",
      "/tmp/ipykernel_1168028/1295774049.py:77: SettingWithCopyWarning: \n",
      "A value is trying to be set on a copy of a slice from a DataFrame.\n",
      "Try using .loc[row_indexer,col_indexer] = value instead\n",
      "\n",
      "See the caveats in the documentation: https://pandas.pydata.org/pandas-docs/stable/user_guide/indexing.html#returning-a-view-versus-a-copy\n",
      "  original_df[columns_to_normalize] = normalized_df\n"
     ]
    },
    {
     "name": "stdout",
     "output_type": "stream",
     "text": [
      "4V4NC9EJ8KN211329 420\n"
     ]
    },
    {
     "name": "stderr",
     "output_type": "stream",
     "text": [
      "/tmp/ipykernel_1168028/1295774049.py:73: FutureWarning: Downcasting behavior in `replace` is deprecated and will be removed in a future version. To retain the old behavior, explicitly call `result.infer_objects(copy=False)`. To opt-in to the future behavior, set `pd.set_option('future.no_silent_downcasting', True)`\n",
      "  std_replaced = std.replace(0, 1)\n",
      "/tmp/ipykernel_1168028/1295774049.py:77: SettingWithCopyWarning: \n",
      "A value is trying to be set on a copy of a slice from a DataFrame.\n",
      "Try using .loc[row_indexer,col_indexer] = value instead\n",
      "\n",
      "See the caveats in the documentation: https://pandas.pydata.org/pandas-docs/stable/user_guide/indexing.html#returning-a-view-versus-a-copy\n",
      "  original_df[columns_to_normalize] = normalized_df\n"
     ]
    },
    {
     "name": "stdout",
     "output_type": "stream",
     "text": [
      "4V4NC9EJ8LN232103 421\n"
     ]
    },
    {
     "name": "stderr",
     "output_type": "stream",
     "text": [
      "/tmp/ipykernel_1168028/1295774049.py:73: FutureWarning: Downcasting behavior in `replace` is deprecated and will be removed in a future version. To retain the old behavior, explicitly call `result.infer_objects(copy=False)`. To opt-in to the future behavior, set `pd.set_option('future.no_silent_downcasting', True)`\n",
      "  std_replaced = std.replace(0, 1)\n",
      "/tmp/ipykernel_1168028/1295774049.py:77: SettingWithCopyWarning: \n",
      "A value is trying to be set on a copy of a slice from a DataFrame.\n",
      "Try using .loc[row_indexer,col_indexer] = value instead\n",
      "\n",
      "See the caveats in the documentation: https://pandas.pydata.org/pandas-docs/stable/user_guide/indexing.html#returning-a-view-versus-a-copy\n",
      "  original_df[columns_to_normalize] = normalized_df\n"
     ]
    },
    {
     "name": "stdout",
     "output_type": "stream",
     "text": [
      "4V4NC9EJ9LN211793 422\n"
     ]
    },
    {
     "name": "stderr",
     "output_type": "stream",
     "text": [
      "/tmp/ipykernel_1168028/1295774049.py:73: FutureWarning: Downcasting behavior in `replace` is deprecated and will be removed in a future version. To retain the old behavior, explicitly call `result.infer_objects(copy=False)`. To opt-in to the future behavior, set `pd.set_option('future.no_silent_downcasting', True)`\n",
      "  std_replaced = std.replace(0, 1)\n",
      "/tmp/ipykernel_1168028/1295774049.py:77: SettingWithCopyWarning: \n",
      "A value is trying to be set on a copy of a slice from a DataFrame.\n",
      "Try using .loc[row_indexer,col_indexer] = value instead\n",
      "\n",
      "See the caveats in the documentation: https://pandas.pydata.org/pandas-docs/stable/user_guide/indexing.html#returning-a-view-versus-a-copy\n",
      "  original_df[columns_to_normalize] = normalized_df\n"
     ]
    },
    {
     "name": "stdout",
     "output_type": "stream",
     "text": [
      "4V4NC9EJ9LN232143 423\n"
     ]
    },
    {
     "name": "stderr",
     "output_type": "stream",
     "text": [
      "/tmp/ipykernel_1168028/1295774049.py:73: FutureWarning: Downcasting behavior in `replace` is deprecated and will be removed in a future version. To retain the old behavior, explicitly call `result.infer_objects(copy=False)`. To opt-in to the future behavior, set `pd.set_option('future.no_silent_downcasting', True)`\n",
      "  std_replaced = std.replace(0, 1)\n",
      "/tmp/ipykernel_1168028/1295774049.py:77: SettingWithCopyWarning: \n",
      "A value is trying to be set on a copy of a slice from a DataFrame.\n",
      "Try using .loc[row_indexer,col_indexer] = value instead\n",
      "\n",
      "See the caveats in the documentation: https://pandas.pydata.org/pandas-docs/stable/user_guide/indexing.html#returning-a-view-versus-a-copy\n",
      "  original_df[columns_to_normalize] = normalized_df\n"
     ]
    },
    {
     "name": "stdout",
     "output_type": "stream",
     "text": [
      "4V4NC9EJXFN911035 424\n"
     ]
    },
    {
     "name": "stderr",
     "output_type": "stream",
     "text": [
      "/tmp/ipykernel_1168028/1295774049.py:73: FutureWarning: Downcasting behavior in `replace` is deprecated and will be removed in a future version. To retain the old behavior, explicitly call `result.infer_objects(copy=False)`. To opt-in to the future behavior, set `pd.set_option('future.no_silent_downcasting', True)`\n",
      "  std_replaced = std.replace(0, 1)\n",
      "/tmp/ipykernel_1168028/1295774049.py:77: SettingWithCopyWarning: \n",
      "A value is trying to be set on a copy of a slice from a DataFrame.\n",
      "Try using .loc[row_indexer,col_indexer] = value instead\n",
      "\n",
      "See the caveats in the documentation: https://pandas.pydata.org/pandas-docs/stable/user_guide/indexing.html#returning-a-view-versus-a-copy\n",
      "  original_df[columns_to_normalize] = normalized_df\n"
     ]
    },
    {
     "name": "stdout",
     "output_type": "stream",
     "text": [
      "4V4NC9EJXLN267564 425\n"
     ]
    },
    {
     "name": "stderr",
     "output_type": "stream",
     "text": [
      "/tmp/ipykernel_1168028/1295774049.py:73: FutureWarning: Downcasting behavior in `replace` is deprecated and will be removed in a future version. To retain the old behavior, explicitly call `result.infer_objects(copy=False)`. To opt-in to the future behavior, set `pd.set_option('future.no_silent_downcasting', True)`\n",
      "  std_replaced = std.replace(0, 1)\n",
      "/tmp/ipykernel_1168028/1295774049.py:77: SettingWithCopyWarning: \n",
      "A value is trying to be set on a copy of a slice from a DataFrame.\n",
      "Try using .loc[row_indexer,col_indexer] = value instead\n",
      "\n",
      "See the caveats in the documentation: https://pandas.pydata.org/pandas-docs/stable/user_guide/indexing.html#returning-a-view-versus-a-copy\n",
      "  original_df[columns_to_normalize] = normalized_df\n"
     ]
    },
    {
     "name": "stdout",
     "output_type": "stream",
     "text": [
      "4V4W19EG0KN873954 426\n"
     ]
    },
    {
     "name": "stderr",
     "output_type": "stream",
     "text": [
      "/tmp/ipykernel_1168028/1295774049.py:73: FutureWarning: Downcasting behavior in `replace` is deprecated and will be removed in a future version. To retain the old behavior, explicitly call `result.infer_objects(copy=False)`. To opt-in to the future behavior, set `pd.set_option('future.no_silent_downcasting', True)`\n",
      "  std_replaced = std.replace(0, 1)\n",
      "/tmp/ipykernel_1168028/1295774049.py:77: SettingWithCopyWarning: \n",
      "A value is trying to be set on a copy of a slice from a DataFrame.\n",
      "Try using .loc[row_indexer,col_indexer] = value instead\n",
      "\n",
      "See the caveats in the documentation: https://pandas.pydata.org/pandas-docs/stable/user_guide/indexing.html#returning-a-view-versus-a-copy\n",
      "  original_df[columns_to_normalize] = normalized_df\n"
     ]
    },
    {
     "name": "stdout",
     "output_type": "stream",
     "text": [
      "4V4W19EG3MN285307 427\n"
     ]
    },
    {
     "name": "stderr",
     "output_type": "stream",
     "text": [
      "/tmp/ipykernel_1168028/1295774049.py:73: FutureWarning: Downcasting behavior in `replace` is deprecated and will be removed in a future version. To retain the old behavior, explicitly call `result.infer_objects(copy=False)`. To opt-in to the future behavior, set `pd.set_option('future.no_silent_downcasting', True)`\n",
      "  std_replaced = std.replace(0, 1)\n",
      "/tmp/ipykernel_1168028/1295774049.py:77: SettingWithCopyWarning: \n",
      "A value is trying to be set on a copy of a slice from a DataFrame.\n",
      "Try using .loc[row_indexer,col_indexer] = value instead\n",
      "\n",
      "See the caveats in the documentation: https://pandas.pydata.org/pandas-docs/stable/user_guide/indexing.html#returning-a-view-versus-a-copy\n",
      "  original_df[columns_to_normalize] = normalized_df\n"
     ]
    },
    {
     "name": "stdout",
     "output_type": "stream",
     "text": [
      "4V4W19EG4KN901898 428\n"
     ]
    },
    {
     "name": "stderr",
     "output_type": "stream",
     "text": [
      "/tmp/ipykernel_1168028/1295774049.py:73: FutureWarning: Downcasting behavior in `replace` is deprecated and will be removed in a future version. To retain the old behavior, explicitly call `result.infer_objects(copy=False)`. To opt-in to the future behavior, set `pd.set_option('future.no_silent_downcasting', True)`\n",
      "  std_replaced = std.replace(0, 1)\n",
      "/tmp/ipykernel_1168028/1295774049.py:77: SettingWithCopyWarning: \n",
      "A value is trying to be set on a copy of a slice from a DataFrame.\n",
      "Try using .loc[row_indexer,col_indexer] = value instead\n",
      "\n",
      "See the caveats in the documentation: https://pandas.pydata.org/pandas-docs/stable/user_guide/indexing.html#returning-a-view-versus-a-copy\n",
      "  original_df[columns_to_normalize] = normalized_df\n"
     ]
    },
    {
     "name": "stdout",
     "output_type": "stream",
     "text": [
      "4V4W19EG4MN285302 429\n"
     ]
    },
    {
     "name": "stderr",
     "output_type": "stream",
     "text": [
      "/tmp/ipykernel_1168028/1295774049.py:73: FutureWarning: Downcasting behavior in `replace` is deprecated and will be removed in a future version. To retain the old behavior, explicitly call `result.infer_objects(copy=False)`. To opt-in to the future behavior, set `pd.set_option('future.no_silent_downcasting', True)`\n",
      "  std_replaced = std.replace(0, 1)\n",
      "/tmp/ipykernel_1168028/1295774049.py:77: SettingWithCopyWarning: \n",
      "A value is trying to be set on a copy of a slice from a DataFrame.\n",
      "Try using .loc[row_indexer,col_indexer] = value instead\n",
      "\n",
      "See the caveats in the documentation: https://pandas.pydata.org/pandas-docs/stable/user_guide/indexing.html#returning-a-view-versus-a-copy\n",
      "  original_df[columns_to_normalize] = normalized_df\n"
     ]
    },
    {
     "name": "stdout",
     "output_type": "stream",
     "text": [
      "4V4W19EG5MN274390 430\n"
     ]
    },
    {
     "name": "stderr",
     "output_type": "stream",
     "text": [
      "/tmp/ipykernel_1168028/1295774049.py:73: FutureWarning: Downcasting behavior in `replace` is deprecated and will be removed in a future version. To retain the old behavior, explicitly call `result.infer_objects(copy=False)`. To opt-in to the future behavior, set `pd.set_option('future.no_silent_downcasting', True)`\n",
      "  std_replaced = std.replace(0, 1)\n",
      "/tmp/ipykernel_1168028/1295774049.py:77: SettingWithCopyWarning: \n",
      "A value is trying to be set on a copy of a slice from a DataFrame.\n",
      "Try using .loc[row_indexer,col_indexer] = value instead\n",
      "\n",
      "See the caveats in the documentation: https://pandas.pydata.org/pandas-docs/stable/user_guide/indexing.html#returning-a-view-versus-a-copy\n",
      "  original_df[columns_to_normalize] = normalized_df\n"
     ]
    },
    {
     "name": "stdout",
     "output_type": "stream",
     "text": [
      "4V4W19EG7MN285388 431\n"
     ]
    },
    {
     "name": "stderr",
     "output_type": "stream",
     "text": [
      "/tmp/ipykernel_1168028/1295774049.py:73: FutureWarning: Downcasting behavior in `replace` is deprecated and will be removed in a future version. To retain the old behavior, explicitly call `result.infer_objects(copy=False)`. To opt-in to the future behavior, set `pd.set_option('future.no_silent_downcasting', True)`\n",
      "  std_replaced = std.replace(0, 1)\n",
      "/tmp/ipykernel_1168028/1295774049.py:77: SettingWithCopyWarning: \n",
      "A value is trying to be set on a copy of a slice from a DataFrame.\n",
      "Try using .loc[row_indexer,col_indexer] = value instead\n",
      "\n",
      "See the caveats in the documentation: https://pandas.pydata.org/pandas-docs/stable/user_guide/indexing.html#returning-a-view-versus-a-copy\n",
      "  original_df[columns_to_normalize] = normalized_df\n"
     ]
    },
    {
     "name": "stdout",
     "output_type": "stream",
     "text": [
      "4V4W19EG9KN873869 432\n"
     ]
    },
    {
     "name": "stderr",
     "output_type": "stream",
     "text": [
      "/tmp/ipykernel_1168028/1295774049.py:73: FutureWarning: Downcasting behavior in `replace` is deprecated and will be removed in a future version. To retain the old behavior, explicitly call `result.infer_objects(copy=False)`. To opt-in to the future behavior, set `pd.set_option('future.no_silent_downcasting', True)`\n",
      "  std_replaced = std.replace(0, 1)\n",
      "/tmp/ipykernel_1168028/1295774049.py:77: SettingWithCopyWarning: \n",
      "A value is trying to be set on a copy of a slice from a DataFrame.\n",
      "Try using .loc[row_indexer,col_indexer] = value instead\n",
      "\n",
      "See the caveats in the documentation: https://pandas.pydata.org/pandas-docs/stable/user_guide/indexing.html#returning-a-view-versus-a-copy\n",
      "  original_df[columns_to_normalize] = normalized_df\n"
     ]
    },
    {
     "name": "stdout",
     "output_type": "stream",
     "text": [
      "4V4W19EG9KN907650 433\n"
     ]
    },
    {
     "name": "stderr",
     "output_type": "stream",
     "text": [
      "/tmp/ipykernel_1168028/1295774049.py:73: FutureWarning: Downcasting behavior in `replace` is deprecated and will be removed in a future version. To retain the old behavior, explicitly call `result.infer_objects(copy=False)`. To opt-in to the future behavior, set `pd.set_option('future.no_silent_downcasting', True)`\n",
      "  std_replaced = std.replace(0, 1)\n",
      "/tmp/ipykernel_1168028/1295774049.py:77: SettingWithCopyWarning: \n",
      "A value is trying to be set on a copy of a slice from a DataFrame.\n",
      "Try using .loc[row_indexer,col_indexer] = value instead\n",
      "\n",
      "See the caveats in the documentation: https://pandas.pydata.org/pandas-docs/stable/user_guide/indexing.html#returning-a-view-versus-a-copy\n",
      "  original_df[columns_to_normalize] = normalized_df\n"
     ]
    },
    {
     "name": "stdout",
     "output_type": "stream",
     "text": [
      "4V4W19EGXLN244378 434\n"
     ]
    },
    {
     "name": "stderr",
     "output_type": "stream",
     "text": [
      "/tmp/ipykernel_1168028/1295774049.py:73: FutureWarning: Downcasting behavior in `replace` is deprecated and will be removed in a future version. To retain the old behavior, explicitly call `result.infer_objects(copy=False)`. To opt-in to the future behavior, set `pd.set_option('future.no_silent_downcasting', True)`\n",
      "  std_replaced = std.replace(0, 1)\n",
      "/tmp/ipykernel_1168028/1295774049.py:77: SettingWithCopyWarning: \n",
      "A value is trying to be set on a copy of a slice from a DataFrame.\n",
      "Try using .loc[row_indexer,col_indexer] = value instead\n",
      "\n",
      "See the caveats in the documentation: https://pandas.pydata.org/pandas-docs/stable/user_guide/indexing.html#returning-a-view-versus-a-copy\n",
      "  original_df[columns_to_normalize] = normalized_df\n"
     ]
    },
    {
     "name": "stdout",
     "output_type": "stream",
     "text": [
      "4V4W19EGXLN245496 435\n"
     ]
    },
    {
     "name": "stderr",
     "output_type": "stream",
     "text": [
      "/tmp/ipykernel_1168028/1295774049.py:73: FutureWarning: Downcasting behavior in `replace` is deprecated and will be removed in a future version. To retain the old behavior, explicitly call `result.infer_objects(copy=False)`. To opt-in to the future behavior, set `pd.set_option('future.no_silent_downcasting', True)`\n",
      "  std_replaced = std.replace(0, 1)\n",
      "/tmp/ipykernel_1168028/1295774049.py:77: SettingWithCopyWarning: \n",
      "A value is trying to be set on a copy of a slice from a DataFrame.\n",
      "Try using .loc[row_indexer,col_indexer] = value instead\n",
      "\n",
      "See the caveats in the documentation: https://pandas.pydata.org/pandas-docs/stable/user_guide/indexing.html#returning-a-view-versus-a-copy\n",
      "  original_df[columns_to_normalize] = normalized_df\n"
     ]
    },
    {
     "name": "stdout",
     "output_type": "stream",
     "text": [
      "4V4W19EH0LN259884 436\n"
     ]
    },
    {
     "name": "stderr",
     "output_type": "stream",
     "text": [
      "/tmp/ipykernel_1168028/1295774049.py:73: FutureWarning: Downcasting behavior in `replace` is deprecated and will be removed in a future version. To retain the old behavior, explicitly call `result.infer_objects(copy=False)`. To opt-in to the future behavior, set `pd.set_option('future.no_silent_downcasting', True)`\n",
      "  std_replaced = std.replace(0, 1)\n",
      "/tmp/ipykernel_1168028/1295774049.py:77: SettingWithCopyWarning: \n",
      "A value is trying to be set on a copy of a slice from a DataFrame.\n",
      "Try using .loc[row_indexer,col_indexer] = value instead\n",
      "\n",
      "See the caveats in the documentation: https://pandas.pydata.org/pandas-docs/stable/user_guide/indexing.html#returning-a-view-versus-a-copy\n",
      "  original_df[columns_to_normalize] = normalized_df\n"
     ]
    },
    {
     "name": "stdout",
     "output_type": "stream",
     "text": [
      "4V4W19EH9JN893384 437\n"
     ]
    },
    {
     "name": "stderr",
     "output_type": "stream",
     "text": [
      "/tmp/ipykernel_1168028/1295774049.py:73: FutureWarning: Downcasting behavior in `replace` is deprecated and will be removed in a future version. To retain the old behavior, explicitly call `result.infer_objects(copy=False)`. To opt-in to the future behavior, set `pd.set_option('future.no_silent_downcasting', True)`\n",
      "  std_replaced = std.replace(0, 1)\n",
      "/tmp/ipykernel_1168028/1295774049.py:77: SettingWithCopyWarning: \n",
      "A value is trying to be set on a copy of a slice from a DataFrame.\n",
      "Try using .loc[row_indexer,col_indexer] = value instead\n",
      "\n",
      "See the caveats in the documentation: https://pandas.pydata.org/pandas-docs/stable/user_guide/indexing.html#returning-a-view-versus-a-copy\n",
      "  original_df[columns_to_normalize] = normalized_df\n"
     ]
    },
    {
     "name": "stdout",
     "output_type": "stream",
     "text": [
      "4V4W39EG9KN208870 438\n"
     ]
    },
    {
     "name": "stderr",
     "output_type": "stream",
     "text": [
      "/tmp/ipykernel_1168028/1295774049.py:73: FutureWarning: Downcasting behavior in `replace` is deprecated and will be removed in a future version. To retain the old behavior, explicitly call `result.infer_objects(copy=False)`. To opt-in to the future behavior, set `pd.set_option('future.no_silent_downcasting', True)`\n",
      "  std_replaced = std.replace(0, 1)\n",
      "/tmp/ipykernel_1168028/1295774049.py:77: SettingWithCopyWarning: \n",
      "A value is trying to be set on a copy of a slice from a DataFrame.\n",
      "Try using .loc[row_indexer,col_indexer] = value instead\n",
      "\n",
      "See the caveats in the documentation: https://pandas.pydata.org/pandas-docs/stable/user_guide/indexing.html#returning-a-view-versus-a-copy\n",
      "  original_df[columns_to_normalize] = normalized_df\n"
     ]
    },
    {
     "name": "stdout",
     "output_type": "stream",
     "text": [
      "4V4WC9DG4KN217073 439\n"
     ]
    },
    {
     "name": "stderr",
     "output_type": "stream",
     "text": [
      "/tmp/ipykernel_1168028/1295774049.py:73: FutureWarning: Downcasting behavior in `replace` is deprecated and will be removed in a future version. To retain the old behavior, explicitly call `result.infer_objects(copy=False)`. To opt-in to the future behavior, set `pd.set_option('future.no_silent_downcasting', True)`\n",
      "  std_replaced = std.replace(0, 1)\n",
      "/tmp/ipykernel_1168028/1295774049.py:77: SettingWithCopyWarning: \n",
      "A value is trying to be set on a copy of a slice from a DataFrame.\n",
      "Try using .loc[row_indexer,col_indexer] = value instead\n",
      "\n",
      "See the caveats in the documentation: https://pandas.pydata.org/pandas-docs/stable/user_guide/indexing.html#returning-a-view-versus-a-copy\n",
      "  original_df[columns_to_normalize] = normalized_df\n"
     ]
    },
    {
     "name": "stdout",
     "output_type": "stream",
     "text": [
      "4V4WC9DH4LN265134 440\n"
     ]
    },
    {
     "name": "stderr",
     "output_type": "stream",
     "text": [
      "/tmp/ipykernel_1168028/1295774049.py:73: FutureWarning: Downcasting behavior in `replace` is deprecated and will be removed in a future version. To retain the old behavior, explicitly call `result.infer_objects(copy=False)`. To opt-in to the future behavior, set `pd.set_option('future.no_silent_downcasting', True)`\n",
      "  std_replaced = std.replace(0, 1)\n",
      "/tmp/ipykernel_1168028/1295774049.py:77: SettingWithCopyWarning: \n",
      "A value is trying to be set on a copy of a slice from a DataFrame.\n",
      "Try using .loc[row_indexer,col_indexer] = value instead\n",
      "\n",
      "See the caveats in the documentation: https://pandas.pydata.org/pandas-docs/stable/user_guide/indexing.html#returning-a-view-versus-a-copy\n",
      "  original_df[columns_to_normalize] = normalized_df\n"
     ]
    },
    {
     "name": "stdout",
     "output_type": "stream",
     "text": [
      "4V4WC9DH7KN218095 441\n"
     ]
    },
    {
     "name": "stderr",
     "output_type": "stream",
     "text": [
      "/tmp/ipykernel_1168028/1295774049.py:73: FutureWarning: Downcasting behavior in `replace` is deprecated and will be removed in a future version. To retain the old behavior, explicitly call `result.infer_objects(copy=False)`. To opt-in to the future behavior, set `pd.set_option('future.no_silent_downcasting', True)`\n",
      "  std_replaced = std.replace(0, 1)\n",
      "/tmp/ipykernel_1168028/1295774049.py:77: SettingWithCopyWarning: \n",
      "A value is trying to be set on a copy of a slice from a DataFrame.\n",
      "Try using .loc[row_indexer,col_indexer] = value instead\n",
      "\n",
      "See the caveats in the documentation: https://pandas.pydata.org/pandas-docs/stable/user_guide/indexing.html#returning-a-view-versus-a-copy\n",
      "  original_df[columns_to_normalize] = normalized_df\n"
     ]
    },
    {
     "name": "stdout",
     "output_type": "stream",
     "text": [
      "4V4WC9EG1LN225552 442\n"
     ]
    },
    {
     "name": "stderr",
     "output_type": "stream",
     "text": [
      "/tmp/ipykernel_1168028/1295774049.py:73: FutureWarning: Downcasting behavior in `replace` is deprecated and will be removed in a future version. To retain the old behavior, explicitly call `result.infer_objects(copy=False)`. To opt-in to the future behavior, set `pd.set_option('future.no_silent_downcasting', True)`\n",
      "  std_replaced = std.replace(0, 1)\n",
      "/tmp/ipykernel_1168028/1295774049.py:77: SettingWithCopyWarning: \n",
      "A value is trying to be set on a copy of a slice from a DataFrame.\n",
      "Try using .loc[row_indexer,col_indexer] = value instead\n",
      "\n",
      "See the caveats in the documentation: https://pandas.pydata.org/pandas-docs/stable/user_guide/indexing.html#returning-a-view-versus-a-copy\n",
      "  original_df[columns_to_normalize] = normalized_df\n"
     ]
    },
    {
     "name": "stdout",
     "output_type": "stream",
     "text": [
      "4V4WC9EG2LN261864 443\n"
     ]
    },
    {
     "name": "stderr",
     "output_type": "stream",
     "text": [
      "/tmp/ipykernel_1168028/1295774049.py:73: FutureWarning: Downcasting behavior in `replace` is deprecated and will be removed in a future version. To retain the old behavior, explicitly call `result.infer_objects(copy=False)`. To opt-in to the future behavior, set `pd.set_option('future.no_silent_downcasting', True)`\n",
      "  std_replaced = std.replace(0, 1)\n",
      "/tmp/ipykernel_1168028/1295774049.py:77: SettingWithCopyWarning: \n",
      "A value is trying to be set on a copy of a slice from a DataFrame.\n",
      "Try using .loc[row_indexer,col_indexer] = value instead\n",
      "\n",
      "See the caveats in the documentation: https://pandas.pydata.org/pandas-docs/stable/user_guide/indexing.html#returning-a-view-versus-a-copy\n",
      "  original_df[columns_to_normalize] = normalized_df\n"
     ]
    },
    {
     "name": "stdout",
     "output_type": "stream",
     "text": [
      "4V4WC9EG3MN287116 444\n"
     ]
    },
    {
     "name": "stderr",
     "output_type": "stream",
     "text": [
      "/tmp/ipykernel_1168028/1295774049.py:73: FutureWarning: Downcasting behavior in `replace` is deprecated and will be removed in a future version. To retain the old behavior, explicitly call `result.infer_objects(copy=False)`. To opt-in to the future behavior, set `pd.set_option('future.no_silent_downcasting', True)`\n",
      "  std_replaced = std.replace(0, 1)\n",
      "/tmp/ipykernel_1168028/1295774049.py:77: SettingWithCopyWarning: \n",
      "A value is trying to be set on a copy of a slice from a DataFrame.\n",
      "Try using .loc[row_indexer,col_indexer] = value instead\n",
      "\n",
      "See the caveats in the documentation: https://pandas.pydata.org/pandas-docs/stable/user_guide/indexing.html#returning-a-view-versus-a-copy\n",
      "  original_df[columns_to_normalize] = normalized_df\n"
     ]
    },
    {
     "name": "stdout",
     "output_type": "stream",
     "text": [
      "4V4WC9EG4LN260554 445\n"
     ]
    },
    {
     "name": "stderr",
     "output_type": "stream",
     "text": [
      "/tmp/ipykernel_1168028/1295774049.py:73: FutureWarning: Downcasting behavior in `replace` is deprecated and will be removed in a future version. To retain the old behavior, explicitly call `result.infer_objects(copy=False)`. To opt-in to the future behavior, set `pd.set_option('future.no_silent_downcasting', True)`\n",
      "  std_replaced = std.replace(0, 1)\n",
      "/tmp/ipykernel_1168028/1295774049.py:77: SettingWithCopyWarning: \n",
      "A value is trying to be set on a copy of a slice from a DataFrame.\n",
      "Try using .loc[row_indexer,col_indexer] = value instead\n",
      "\n",
      "See the caveats in the documentation: https://pandas.pydata.org/pandas-docs/stable/user_guide/indexing.html#returning-a-view-versus-a-copy\n",
      "  original_df[columns_to_normalize] = normalized_df\n"
     ]
    },
    {
     "name": "stdout",
     "output_type": "stream",
     "text": [
      "4V4WC9EG4LN261882 446\n"
     ]
    },
    {
     "name": "stderr",
     "output_type": "stream",
     "text": [
      "/tmp/ipykernel_1168028/1295774049.py:73: FutureWarning: Downcasting behavior in `replace` is deprecated and will be removed in a future version. To retain the old behavior, explicitly call `result.infer_objects(copy=False)`. To opt-in to the future behavior, set `pd.set_option('future.no_silent_downcasting', True)`\n",
      "  std_replaced = std.replace(0, 1)\n",
      "/tmp/ipykernel_1168028/1295774049.py:77: SettingWithCopyWarning: \n",
      "A value is trying to be set on a copy of a slice from a DataFrame.\n",
      "Try using .loc[row_indexer,col_indexer] = value instead\n",
      "\n",
      "See the caveats in the documentation: https://pandas.pydata.org/pandas-docs/stable/user_guide/indexing.html#returning-a-view-versus-a-copy\n",
      "  original_df[columns_to_normalize] = normalized_df\n"
     ]
    },
    {
     "name": "stdout",
     "output_type": "stream",
     "text": [
      "4V4WC9EG5KN205920 447\n"
     ]
    },
    {
     "name": "stderr",
     "output_type": "stream",
     "text": [
      "/tmp/ipykernel_1168028/1295774049.py:73: FutureWarning: Downcasting behavior in `replace` is deprecated and will be removed in a future version. To retain the old behavior, explicitly call `result.infer_objects(copy=False)`. To opt-in to the future behavior, set `pd.set_option('future.no_silent_downcasting', True)`\n",
      "  std_replaced = std.replace(0, 1)\n",
      "/tmp/ipykernel_1168028/1295774049.py:77: SettingWithCopyWarning: \n",
      "A value is trying to be set on a copy of a slice from a DataFrame.\n",
      "Try using .loc[row_indexer,col_indexer] = value instead\n",
      "\n",
      "See the caveats in the documentation: https://pandas.pydata.org/pandas-docs/stable/user_guide/indexing.html#returning-a-view-versus-a-copy\n",
      "  original_df[columns_to_normalize] = normalized_df\n"
     ]
    },
    {
     "name": "stdout",
     "output_type": "stream",
     "text": [
      "4V4WC9EG5KN907347 448\n"
     ]
    },
    {
     "name": "stderr",
     "output_type": "stream",
     "text": [
      "/tmp/ipykernel_1168028/1295774049.py:73: FutureWarning: Downcasting behavior in `replace` is deprecated and will be removed in a future version. To retain the old behavior, explicitly call `result.infer_objects(copy=False)`. To opt-in to the future behavior, set `pd.set_option('future.no_silent_downcasting', True)`\n",
      "  std_replaced = std.replace(0, 1)\n",
      "/tmp/ipykernel_1168028/1295774049.py:77: SettingWithCopyWarning: \n",
      "A value is trying to be set on a copy of a slice from a DataFrame.\n",
      "Try using .loc[row_indexer,col_indexer] = value instead\n",
      "\n",
      "See the caveats in the documentation: https://pandas.pydata.org/pandas-docs/stable/user_guide/indexing.html#returning-a-view-versus-a-copy\n",
      "  original_df[columns_to_normalize] = normalized_df\n"
     ]
    },
    {
     "name": "stdout",
     "output_type": "stream",
     "text": [
      "4V4WC9EG7LN236927 449\n"
     ]
    },
    {
     "name": "stderr",
     "output_type": "stream",
     "text": [
      "/tmp/ipykernel_1168028/1295774049.py:73: FutureWarning: Downcasting behavior in `replace` is deprecated and will be removed in a future version. To retain the old behavior, explicitly call `result.infer_objects(copy=False)`. To opt-in to the future behavior, set `pd.set_option('future.no_silent_downcasting', True)`\n",
      "  std_replaced = std.replace(0, 1)\n",
      "/tmp/ipykernel_1168028/1295774049.py:77: SettingWithCopyWarning: \n",
      "A value is trying to be set on a copy of a slice from a DataFrame.\n",
      "Try using .loc[row_indexer,col_indexer] = value instead\n",
      "\n",
      "See the caveats in the documentation: https://pandas.pydata.org/pandas-docs/stable/user_guide/indexing.html#returning-a-view-versus-a-copy\n",
      "  original_df[columns_to_normalize] = normalized_df\n"
     ]
    },
    {
     "name": "stdout",
     "output_type": "stream",
     "text": [
      "4V4WC9EG7LN239651 450\n"
     ]
    },
    {
     "name": "stderr",
     "output_type": "stream",
     "text": [
      "/tmp/ipykernel_1168028/1295774049.py:73: FutureWarning: Downcasting behavior in `replace` is deprecated and will be removed in a future version. To retain the old behavior, explicitly call `result.infer_objects(copy=False)`. To opt-in to the future behavior, set `pd.set_option('future.no_silent_downcasting', True)`\n",
      "  std_replaced = std.replace(0, 1)\n",
      "/tmp/ipykernel_1168028/1295774049.py:77: SettingWithCopyWarning: \n",
      "A value is trying to be set on a copy of a slice from a DataFrame.\n",
      "Try using .loc[row_indexer,col_indexer] = value instead\n",
      "\n",
      "See the caveats in the documentation: https://pandas.pydata.org/pandas-docs/stable/user_guide/indexing.html#returning-a-view-versus-a-copy\n",
      "  original_df[columns_to_normalize] = normalized_df\n"
     ]
    },
    {
     "name": "stdout",
     "output_type": "stream",
     "text": [
      "4V4WC9EGXKN242204 451\n"
     ]
    },
    {
     "name": "stderr",
     "output_type": "stream",
     "text": [
      "/tmp/ipykernel_1168028/1295774049.py:73: FutureWarning: Downcasting behavior in `replace` is deprecated and will be removed in a future version. To retain the old behavior, explicitly call `result.infer_objects(copy=False)`. To opt-in to the future behavior, set `pd.set_option('future.no_silent_downcasting', True)`\n",
      "  std_replaced = std.replace(0, 1)\n",
      "/tmp/ipykernel_1168028/1295774049.py:77: SettingWithCopyWarning: \n",
      "A value is trying to be set on a copy of a slice from a DataFrame.\n",
      "Try using .loc[row_indexer,col_indexer] = value instead\n",
      "\n",
      "See the caveats in the documentation: https://pandas.pydata.org/pandas-docs/stable/user_guide/indexing.html#returning-a-view-versus-a-copy\n",
      "  original_df[columns_to_normalize] = normalized_df\n"
     ]
    },
    {
     "name": "stdout",
     "output_type": "stream",
     "text": [
      "4V4WC9EH0KN231866 452\n"
     ]
    },
    {
     "name": "stderr",
     "output_type": "stream",
     "text": [
      "/tmp/ipykernel_1168028/1295774049.py:73: FutureWarning: Downcasting behavior in `replace` is deprecated and will be removed in a future version. To retain the old behavior, explicitly call `result.infer_objects(copy=False)`. To opt-in to the future behavior, set `pd.set_option('future.no_silent_downcasting', True)`\n",
      "  std_replaced = std.replace(0, 1)\n",
      "/tmp/ipykernel_1168028/1295774049.py:77: SettingWithCopyWarning: \n",
      "A value is trying to be set on a copy of a slice from a DataFrame.\n",
      "Try using .loc[row_indexer,col_indexer] = value instead\n",
      "\n",
      "See the caveats in the documentation: https://pandas.pydata.org/pandas-docs/stable/user_guide/indexing.html#returning-a-view-versus-a-copy\n",
      "  original_df[columns_to_normalize] = normalized_df\n"
     ]
    },
    {
     "name": "stdout",
     "output_type": "stream",
     "text": [
      "4V4WC9EH0LN225230 453\n"
     ]
    },
    {
     "name": "stderr",
     "output_type": "stream",
     "text": [
      "/tmp/ipykernel_1168028/1295774049.py:73: FutureWarning: Downcasting behavior in `replace` is deprecated and will be removed in a future version. To retain the old behavior, explicitly call `result.infer_objects(copy=False)`. To opt-in to the future behavior, set `pd.set_option('future.no_silent_downcasting', True)`\n",
      "  std_replaced = std.replace(0, 1)\n",
      "/tmp/ipykernel_1168028/1295774049.py:77: SettingWithCopyWarning: \n",
      "A value is trying to be set on a copy of a slice from a DataFrame.\n",
      "Try using .loc[row_indexer,col_indexer] = value instead\n",
      "\n",
      "See the caveats in the documentation: https://pandas.pydata.org/pandas-docs/stable/user_guide/indexing.html#returning-a-view-versus-a-copy\n",
      "  original_df[columns_to_normalize] = normalized_df\n"
     ]
    },
    {
     "name": "stdout",
     "output_type": "stream",
     "text": [
      "4V4WC9EH0MN277135 454\n"
     ]
    },
    {
     "name": "stderr",
     "output_type": "stream",
     "text": [
      "/tmp/ipykernel_1168028/1295774049.py:73: FutureWarning: Downcasting behavior in `replace` is deprecated and will be removed in a future version. To retain the old behavior, explicitly call `result.infer_objects(copy=False)`. To opt-in to the future behavior, set `pd.set_option('future.no_silent_downcasting', True)`\n",
      "  std_replaced = std.replace(0, 1)\n",
      "/tmp/ipykernel_1168028/1295774049.py:77: SettingWithCopyWarning: \n",
      "A value is trying to be set on a copy of a slice from a DataFrame.\n",
      "Try using .loc[row_indexer,col_indexer] = value instead\n",
      "\n",
      "See the caveats in the documentation: https://pandas.pydata.org/pandas-docs/stable/user_guide/indexing.html#returning-a-view-versus-a-copy\n",
      "  original_df[columns_to_normalize] = normalized_df\n"
     ]
    },
    {
     "name": "stdout",
     "output_type": "stream",
     "text": [
      "4V4WC9EH1KN192723 455\n"
     ]
    },
    {
     "name": "stderr",
     "output_type": "stream",
     "text": [
      "/tmp/ipykernel_1168028/1295774049.py:73: FutureWarning: Downcasting behavior in `replace` is deprecated and will be removed in a future version. To retain the old behavior, explicitly call `result.infer_objects(copy=False)`. To opt-in to the future behavior, set `pd.set_option('future.no_silent_downcasting', True)`\n",
      "  std_replaced = std.replace(0, 1)\n",
      "/tmp/ipykernel_1168028/1295774049.py:77: SettingWithCopyWarning: \n",
      "A value is trying to be set on a copy of a slice from a DataFrame.\n",
      "Try using .loc[row_indexer,col_indexer] = value instead\n",
      "\n",
      "See the caveats in the documentation: https://pandas.pydata.org/pandas-docs/stable/user_guide/indexing.html#returning-a-view-versus-a-copy\n",
      "  original_df[columns_to_normalize] = normalized_df\n"
     ]
    },
    {
     "name": "stdout",
     "output_type": "stream",
     "text": [
      "4V4WC9EH1KN223954 456\n"
     ]
    },
    {
     "name": "stderr",
     "output_type": "stream",
     "text": [
      "/tmp/ipykernel_1168028/1295774049.py:73: FutureWarning: Downcasting behavior in `replace` is deprecated and will be removed in a future version. To retain the old behavior, explicitly call `result.infer_objects(copy=False)`. To opt-in to the future behavior, set `pd.set_option('future.no_silent_downcasting', True)`\n",
      "  std_replaced = std.replace(0, 1)\n",
      "/tmp/ipykernel_1168028/1295774049.py:77: SettingWithCopyWarning: \n",
      "A value is trying to be set on a copy of a slice from a DataFrame.\n",
      "Try using .loc[row_indexer,col_indexer] = value instead\n",
      "\n",
      "See the caveats in the documentation: https://pandas.pydata.org/pandas-docs/stable/user_guide/indexing.html#returning-a-view-versus-a-copy\n",
      "  original_df[columns_to_normalize] = normalized_df\n"
     ]
    },
    {
     "name": "stdout",
     "output_type": "stream",
     "text": [
      "4V4WC9EH2KN214518 457\n"
     ]
    },
    {
     "name": "stderr",
     "output_type": "stream",
     "text": [
      "/tmp/ipykernel_1168028/1295774049.py:73: FutureWarning: Downcasting behavior in `replace` is deprecated and will be removed in a future version. To retain the old behavior, explicitly call `result.infer_objects(copy=False)`. To opt-in to the future behavior, set `pd.set_option('future.no_silent_downcasting', True)`\n",
      "  std_replaced = std.replace(0, 1)\n",
      "/tmp/ipykernel_1168028/1295774049.py:77: SettingWithCopyWarning: \n",
      "A value is trying to be set on a copy of a slice from a DataFrame.\n",
      "Try using .loc[row_indexer,col_indexer] = value instead\n",
      "\n",
      "See the caveats in the documentation: https://pandas.pydata.org/pandas-docs/stable/user_guide/indexing.html#returning-a-view-versus-a-copy\n",
      "  original_df[columns_to_normalize] = normalized_df\n"
     ]
    },
    {
     "name": "stdout",
     "output_type": "stream",
     "text": [
      "4V4WC9EH4LN225148 458\n"
     ]
    },
    {
     "name": "stderr",
     "output_type": "stream",
     "text": [
      "/tmp/ipykernel_1168028/1295774049.py:73: FutureWarning: Downcasting behavior in `replace` is deprecated and will be removed in a future version. To retain the old behavior, explicitly call `result.infer_objects(copy=False)`. To opt-in to the future behavior, set `pd.set_option('future.no_silent_downcasting', True)`\n",
      "  std_replaced = std.replace(0, 1)\n",
      "/tmp/ipykernel_1168028/1295774049.py:77: SettingWithCopyWarning: \n",
      "A value is trying to be set on a copy of a slice from a DataFrame.\n",
      "Try using .loc[row_indexer,col_indexer] = value instead\n",
      "\n",
      "See the caveats in the documentation: https://pandas.pydata.org/pandas-docs/stable/user_guide/indexing.html#returning-a-view-versus-a-copy\n",
      "  original_df[columns_to_normalize] = normalized_df\n"
     ]
    },
    {
     "name": "stdout",
     "output_type": "stream",
     "text": [
      "4V4WC9EH4LN252432 459\n"
     ]
    },
    {
     "name": "stderr",
     "output_type": "stream",
     "text": [
      "/tmp/ipykernel_1168028/1295774049.py:73: FutureWarning: Downcasting behavior in `replace` is deprecated and will be removed in a future version. To retain the old behavior, explicitly call `result.infer_objects(copy=False)`. To opt-in to the future behavior, set `pd.set_option('future.no_silent_downcasting', True)`\n",
      "  std_replaced = std.replace(0, 1)\n",
      "/tmp/ipykernel_1168028/1295774049.py:77: SettingWithCopyWarning: \n",
      "A value is trying to be set on a copy of a slice from a DataFrame.\n",
      "Try using .loc[row_indexer,col_indexer] = value instead\n",
      "\n",
      "See the caveats in the documentation: https://pandas.pydata.org/pandas-docs/stable/user_guide/indexing.html#returning-a-view-versus-a-copy\n",
      "  original_df[columns_to_normalize] = normalized_df\n"
     ]
    },
    {
     "name": "stdout",
     "output_type": "stream",
     "text": [
      "4V4WC9EH5KN209202 460\n"
     ]
    },
    {
     "name": "stderr",
     "output_type": "stream",
     "text": [
      "/tmp/ipykernel_1168028/1295774049.py:73: FutureWarning: Downcasting behavior in `replace` is deprecated and will be removed in a future version. To retain the old behavior, explicitly call `result.infer_objects(copy=False)`. To opt-in to the future behavior, set `pd.set_option('future.no_silent_downcasting', True)`\n",
      "  std_replaced = std.replace(0, 1)\n",
      "/tmp/ipykernel_1168028/1295774049.py:77: SettingWithCopyWarning: \n",
      "A value is trying to be set on a copy of a slice from a DataFrame.\n",
      "Try using .loc[row_indexer,col_indexer] = value instead\n",
      "\n",
      "See the caveats in the documentation: https://pandas.pydata.org/pandas-docs/stable/user_guide/indexing.html#returning-a-view-versus-a-copy\n",
      "  original_df[columns_to_normalize] = normalized_df\n"
     ]
    },
    {
     "name": "stdout",
     "output_type": "stream",
     "text": [
      "4V4WC9EH5LN252374 461\n"
     ]
    },
    {
     "name": "stderr",
     "output_type": "stream",
     "text": [
      "/tmp/ipykernel_1168028/1295774049.py:73: FutureWarning: Downcasting behavior in `replace` is deprecated and will be removed in a future version. To retain the old behavior, explicitly call `result.infer_objects(copy=False)`. To opt-in to the future behavior, set `pd.set_option('future.no_silent_downcasting', True)`\n",
      "  std_replaced = std.replace(0, 1)\n",
      "/tmp/ipykernel_1168028/1295774049.py:77: SettingWithCopyWarning: \n",
      "A value is trying to be set on a copy of a slice from a DataFrame.\n",
      "Try using .loc[row_indexer,col_indexer] = value instead\n",
      "\n",
      "See the caveats in the documentation: https://pandas.pydata.org/pandas-docs/stable/user_guide/indexing.html#returning-a-view-versus-a-copy\n",
      "  original_df[columns_to_normalize] = normalized_df\n"
     ]
    },
    {
     "name": "stdout",
     "output_type": "stream",
     "text": [
      "4V4WC9EH6KN242256 462\n"
     ]
    },
    {
     "name": "stderr",
     "output_type": "stream",
     "text": [
      "/tmp/ipykernel_1168028/1295774049.py:73: FutureWarning: Downcasting behavior in `replace` is deprecated and will be removed in a future version. To retain the old behavior, explicitly call `result.infer_objects(copy=False)`. To opt-in to the future behavior, set `pd.set_option('future.no_silent_downcasting', True)`\n",
      "  std_replaced = std.replace(0, 1)\n",
      "/tmp/ipykernel_1168028/1295774049.py:77: SettingWithCopyWarning: \n",
      "A value is trying to be set on a copy of a slice from a DataFrame.\n",
      "Try using .loc[row_indexer,col_indexer] = value instead\n",
      "\n",
      "See the caveats in the documentation: https://pandas.pydata.org/pandas-docs/stable/user_guide/indexing.html#returning-a-view-versus-a-copy\n",
      "  original_df[columns_to_normalize] = normalized_df\n"
     ]
    },
    {
     "name": "stdout",
     "output_type": "stream",
     "text": [
      "4V4WC9EH7JN902268 463\n"
     ]
    },
    {
     "name": "stderr",
     "output_type": "stream",
     "text": [
      "/tmp/ipykernel_1168028/1295774049.py:73: FutureWarning: Downcasting behavior in `replace` is deprecated and will be removed in a future version. To retain the old behavior, explicitly call `result.infer_objects(copy=False)`. To opt-in to the future behavior, set `pd.set_option('future.no_silent_downcasting', True)`\n",
      "  std_replaced = std.replace(0, 1)\n",
      "/tmp/ipykernel_1168028/1295774049.py:77: SettingWithCopyWarning: \n",
      "A value is trying to be set on a copy of a slice from a DataFrame.\n",
      "Try using .loc[row_indexer,col_indexer] = value instead\n",
      "\n",
      "See the caveats in the documentation: https://pandas.pydata.org/pandas-docs/stable/user_guide/indexing.html#returning-a-view-versus-a-copy\n",
      "  original_df[columns_to_normalize] = normalized_df\n"
     ]
    },
    {
     "name": "stdout",
     "output_type": "stream",
     "text": [
      "4V4WC9EH8KN227869 464\n"
     ]
    },
    {
     "name": "stderr",
     "output_type": "stream",
     "text": [
      "/tmp/ipykernel_1168028/1295774049.py:73: FutureWarning: Downcasting behavior in `replace` is deprecated and will be removed in a future version. To retain the old behavior, explicitly call `result.infer_objects(copy=False)`. To opt-in to the future behavior, set `pd.set_option('future.no_silent_downcasting', True)`\n",
      "  std_replaced = std.replace(0, 1)\n",
      "/tmp/ipykernel_1168028/1295774049.py:77: SettingWithCopyWarning: \n",
      "A value is trying to be set on a copy of a slice from a DataFrame.\n",
      "Try using .loc[row_indexer,col_indexer] = value instead\n",
      "\n",
      "See the caveats in the documentation: https://pandas.pydata.org/pandas-docs/stable/user_guide/indexing.html#returning-a-view-versus-a-copy\n",
      "  original_df[columns_to_normalize] = normalized_df\n"
     ]
    },
    {
     "name": "stdout",
     "output_type": "stream",
     "text": [
      "4V4WC9EHXLN255724 465\n"
     ]
    },
    {
     "name": "stderr",
     "output_type": "stream",
     "text": [
      "/tmp/ipykernel_1168028/1295774049.py:73: FutureWarning: Downcasting behavior in `replace` is deprecated and will be removed in a future version. To retain the old behavior, explicitly call `result.infer_objects(copy=False)`. To opt-in to the future behavior, set `pd.set_option('future.no_silent_downcasting', True)`\n",
      "  std_replaced = std.replace(0, 1)\n",
      "/tmp/ipykernel_1168028/1295774049.py:77: SettingWithCopyWarning: \n",
      "A value is trying to be set on a copy of a slice from a DataFrame.\n",
      "Try using .loc[row_indexer,col_indexer] = value instead\n",
      "\n",
      "See the caveats in the documentation: https://pandas.pydata.org/pandas-docs/stable/user_guide/indexing.html#returning-a-view-versus-a-copy\n",
      "  original_df[columns_to_normalize] = normalized_df\n"
     ]
    },
    {
     "name": "stdout",
     "output_type": "stream",
     "text": [
      "4V4WC9EHXMN259161 466\n"
     ]
    },
    {
     "name": "stderr",
     "output_type": "stream",
     "text": [
      "/tmp/ipykernel_1168028/1295774049.py:73: FutureWarning: Downcasting behavior in `replace` is deprecated and will be removed in a future version. To retain the old behavior, explicitly call `result.infer_objects(copy=False)`. To opt-in to the future behavior, set `pd.set_option('future.no_silent_downcasting', True)`\n",
      "  std_replaced = std.replace(0, 1)\n",
      "/tmp/ipykernel_1168028/1295774049.py:77: SettingWithCopyWarning: \n",
      "A value is trying to be set on a copy of a slice from a DataFrame.\n",
      "Try using .loc[row_indexer,col_indexer] = value instead\n",
      "\n",
      "See the caveats in the documentation: https://pandas.pydata.org/pandas-docs/stable/user_guide/indexing.html#returning-a-view-versus-a-copy\n",
      "  original_df[columns_to_normalize] = normalized_df\n"
     ]
    },
    {
     "name": "stdout",
     "output_type": "stream",
     "text": [
      "4V4WC9EHXMN274579 467\n"
     ]
    },
    {
     "name": "stderr",
     "output_type": "stream",
     "text": [
      "/tmp/ipykernel_1168028/1295774049.py:73: FutureWarning: Downcasting behavior in `replace` is deprecated and will be removed in a future version. To retain the old behavior, explicitly call `result.infer_objects(copy=False)`. To opt-in to the future behavior, set `pd.set_option('future.no_silent_downcasting', True)`\n",
      "  std_replaced = std.replace(0, 1)\n",
      "/tmp/ipykernel_1168028/1295774049.py:77: SettingWithCopyWarning: \n",
      "A value is trying to be set on a copy of a slice from a DataFrame.\n",
      "Try using .loc[row_indexer,col_indexer] = value instead\n",
      "\n",
      "See the caveats in the documentation: https://pandas.pydata.org/pandas-docs/stable/user_guide/indexing.html#returning-a-view-versus-a-copy\n",
      "  original_df[columns_to_normalize] = normalized_df\n"
     ]
    },
    {
     "name": "stdout",
     "output_type": "stream",
     "text": [
      "4V4WC9EHXNN288905 468\n"
     ]
    },
    {
     "name": "stderr",
     "output_type": "stream",
     "text": [
      "/tmp/ipykernel_1168028/1295774049.py:73: FutureWarning: Downcasting behavior in `replace` is deprecated and will be removed in a future version. To retain the old behavior, explicitly call `result.infer_objects(copy=False)`. To opt-in to the future behavior, set `pd.set_option('future.no_silent_downcasting', True)`\n",
      "  std_replaced = std.replace(0, 1)\n",
      "/tmp/ipykernel_1168028/1295774049.py:77: SettingWithCopyWarning: \n",
      "A value is trying to be set on a copy of a slice from a DataFrame.\n",
      "Try using .loc[row_indexer,col_indexer] = value instead\n",
      "\n",
      "See the caveats in the documentation: https://pandas.pydata.org/pandas-docs/stable/user_guide/indexing.html#returning-a-view-versus-a-copy\n",
      "  original_df[columns_to_normalize] = normalized_df\n"
     ]
    },
    {
     "name": "stdout",
     "output_type": "stream",
     "text": [
      "4V4WC9EJ9MN282594 469\n"
     ]
    },
    {
     "name": "stderr",
     "output_type": "stream",
     "text": [
      "/tmp/ipykernel_1168028/1295774049.py:73: FutureWarning: Downcasting behavior in `replace` is deprecated and will be removed in a future version. To retain the old behavior, explicitly call `result.infer_objects(copy=False)`. To opt-in to the future behavior, set `pd.set_option('future.no_silent_downcasting', True)`\n",
      "  std_replaced = std.replace(0, 1)\n",
      "/tmp/ipykernel_1168028/1295774049.py:77: SettingWithCopyWarning: \n",
      "A value is trying to be set on a copy of a slice from a DataFrame.\n",
      "Try using .loc[row_indexer,col_indexer] = value instead\n",
      "\n",
      "See the caveats in the documentation: https://pandas.pydata.org/pandas-docs/stable/user_guide/indexing.html#returning-a-view-versus-a-copy\n",
      "  original_df[columns_to_normalize] = normalized_df\n"
     ]
    },
    {
     "name": "stdout",
     "output_type": "stream",
     "text": [
      "4V4WG9EJ7NN298797 470\n"
     ]
    },
    {
     "name": "stderr",
     "output_type": "stream",
     "text": [
      "/tmp/ipykernel_1168028/1295774049.py:73: FutureWarning: Downcasting behavior in `replace` is deprecated and will be removed in a future version. To retain the old behavior, explicitly call `result.infer_objects(copy=False)`. To opt-in to the future behavior, set `pd.set_option('future.no_silent_downcasting', True)`\n",
      "  std_replaced = std.replace(0, 1)\n",
      "/tmp/ipykernel_1168028/1295774049.py:77: SettingWithCopyWarning: \n",
      "A value is trying to be set on a copy of a slice from a DataFrame.\n",
      "Try using .loc[row_indexer,col_indexer] = value instead\n",
      "\n",
      "See the caveats in the documentation: https://pandas.pydata.org/pandas-docs/stable/user_guide/indexing.html#returning-a-view-versus-a-copy\n",
      "  original_df[columns_to_normalize] = normalized_df\n"
     ]
    },
    {
     "name": "stdout",
     "output_type": "stream",
     "text": [
      "4V5K99EH0FN924452 471\n"
     ]
    },
    {
     "name": "stderr",
     "output_type": "stream",
     "text": [
      "/tmp/ipykernel_1168028/1295774049.py:73: FutureWarning: Downcasting behavior in `replace` is deprecated and will be removed in a future version. To retain the old behavior, explicitly call `result.infer_objects(copy=False)`. To opt-in to the future behavior, set `pd.set_option('future.no_silent_downcasting', True)`\n",
      "  std_replaced = std.replace(0, 1)\n",
      "/tmp/ipykernel_1168028/1295774049.py:77: SettingWithCopyWarning: \n",
      "A value is trying to be set on a copy of a slice from a DataFrame.\n",
      "Try using .loc[row_indexer,col_indexer] = value instead\n",
      "\n",
      "See the caveats in the documentation: https://pandas.pydata.org/pandas-docs/stable/user_guide/indexing.html#returning-a-view-versus-a-copy\n",
      "  original_df[columns_to_normalize] = normalized_df\n"
     ]
    },
    {
     "name": "stdout",
     "output_type": "stream",
     "text": [
      "4V5K99EH4JN992875 472\n"
     ]
    },
    {
     "name": "stderr",
     "output_type": "stream",
     "text": [
      "/tmp/ipykernel_1168028/1295774049.py:73: FutureWarning: Downcasting behavior in `replace` is deprecated and will be removed in a future version. To retain the old behavior, explicitly call `result.infer_objects(copy=False)`. To opt-in to the future behavior, set `pd.set_option('future.no_silent_downcasting', True)`\n",
      "  std_replaced = std.replace(0, 1)\n",
      "/tmp/ipykernel_1168028/1295774049.py:77: SettingWithCopyWarning: \n",
      "A value is trying to be set on a copy of a slice from a DataFrame.\n",
      "Try using .loc[row_indexer,col_indexer] = value instead\n",
      "\n",
      "See the caveats in the documentation: https://pandas.pydata.org/pandas-docs/stable/user_guide/indexing.html#returning-a-view-versus-a-copy\n",
      "  original_df[columns_to_normalize] = normalized_df\n"
     ]
    },
    {
     "name": "stdout",
     "output_type": "stream",
     "text": [
      "4V5KC9DF0LN267455 473\n"
     ]
    },
    {
     "name": "stderr",
     "output_type": "stream",
     "text": [
      "/tmp/ipykernel_1168028/1295774049.py:73: FutureWarning: Downcasting behavior in `replace` is deprecated and will be removed in a future version. To retain the old behavior, explicitly call `result.infer_objects(copy=False)`. To opt-in to the future behavior, set `pd.set_option('future.no_silent_downcasting', True)`\n",
      "  std_replaced = std.replace(0, 1)\n",
      "/tmp/ipykernel_1168028/1295774049.py:77: SettingWithCopyWarning: \n",
      "A value is trying to be set on a copy of a slice from a DataFrame.\n",
      "Try using .loc[row_indexer,col_indexer] = value instead\n",
      "\n",
      "See the caveats in the documentation: https://pandas.pydata.org/pandas-docs/stable/user_guide/indexing.html#returning-a-view-versus-a-copy\n",
      "  original_df[columns_to_normalize] = normalized_df\n"
     ]
    },
    {
     "name": "stdout",
     "output_type": "stream",
     "text": [
      "4V5KC9EH4MN272319 474\n"
     ]
    },
    {
     "name": "stderr",
     "output_type": "stream",
     "text": [
      "/tmp/ipykernel_1168028/1295774049.py:73: FutureWarning: Downcasting behavior in `replace` is deprecated and will be removed in a future version. To retain the old behavior, explicitly call `result.infer_objects(copy=False)`. To opt-in to the future behavior, set `pd.set_option('future.no_silent_downcasting', True)`\n",
      "  std_replaced = std.replace(0, 1)\n",
      "/tmp/ipykernel_1168028/1295774049.py:77: SettingWithCopyWarning: \n",
      "A value is trying to be set on a copy of a slice from a DataFrame.\n",
      "Try using .loc[row_indexer,col_indexer] = value instead\n",
      "\n",
      "See the caveats in the documentation: https://pandas.pydata.org/pandas-docs/stable/user_guide/indexing.html#returning-a-view-versus-a-copy\n",
      "  original_df[columns_to_normalize] = normalized_df\n"
     ]
    },
    {
     "name": "stdout",
     "output_type": "stream",
     "text": [
      "4V5KC9EH5KN195683 475\n"
     ]
    },
    {
     "name": "stderr",
     "output_type": "stream",
     "text": [
      "/tmp/ipykernel_1168028/1295774049.py:73: FutureWarning: Downcasting behavior in `replace` is deprecated and will be removed in a future version. To retain the old behavior, explicitly call `result.infer_objects(copy=False)`. To opt-in to the future behavior, set `pd.set_option('future.no_silent_downcasting', True)`\n",
      "  std_replaced = std.replace(0, 1)\n",
      "/tmp/ipykernel_1168028/1295774049.py:77: SettingWithCopyWarning: \n",
      "A value is trying to be set on a copy of a slice from a DataFrame.\n",
      "Try using .loc[row_indexer,col_indexer] = value instead\n",
      "\n",
      "See the caveats in the documentation: https://pandas.pydata.org/pandas-docs/stable/user_guide/indexing.html#returning-a-view-versus-a-copy\n",
      "  original_df[columns_to_normalize] = normalized_df\n"
     ]
    },
    {
     "name": "stdout",
     "output_type": "stream",
     "text": [
      "4V5KC9EH9HN986758 476\n"
     ]
    },
    {
     "name": "stderr",
     "output_type": "stream",
     "text": [
      "/tmp/ipykernel_1168028/1295774049.py:73: FutureWarning: Downcasting behavior in `replace` is deprecated and will be removed in a future version. To retain the old behavior, explicitly call `result.infer_objects(copy=False)`. To opt-in to the future behavior, set `pd.set_option('future.no_silent_downcasting', True)`\n",
      "  std_replaced = std.replace(0, 1)\n",
      "/tmp/ipykernel_1168028/1295774049.py:77: SettingWithCopyWarning: \n",
      "A value is trying to be set on a copy of a slice from a DataFrame.\n",
      "Try using .loc[row_indexer,col_indexer] = value instead\n",
      "\n",
      "See the caveats in the documentation: https://pandas.pydata.org/pandas-docs/stable/user_guide/indexing.html#returning-a-view-versus-a-copy\n",
      "  original_df[columns_to_normalize] = normalized_df\n"
     ]
    },
    {
     "name": "stdout",
     "output_type": "stream",
     "text": [
      "4V5KC9EHXMN280778 477\n"
     ]
    },
    {
     "name": "stderr",
     "output_type": "stream",
     "text": [
      "/tmp/ipykernel_1168028/1295774049.py:73: FutureWarning: Downcasting behavior in `replace` is deprecated and will be removed in a future version. To retain the old behavior, explicitly call `result.infer_objects(copy=False)`. To opt-in to the future behavior, set `pd.set_option('future.no_silent_downcasting', True)`\n",
      "  std_replaced = std.replace(0, 1)\n",
      "/tmp/ipykernel_1168028/1295774049.py:77: SettingWithCopyWarning: \n",
      "A value is trying to be set on a copy of a slice from a DataFrame.\n",
      "Try using .loc[row_indexer,col_indexer] = value instead\n",
      "\n",
      "See the caveats in the documentation: https://pandas.pydata.org/pandas-docs/stable/user_guide/indexing.html#returning-a-view-versus-a-copy\n",
      "  original_df[columns_to_normalize] = normalized_df\n"
     ]
    },
    {
     "name": "stdout",
     "output_type": "stream",
     "text": [
      "4V5KG9EH2KN215165 478\n"
     ]
    },
    {
     "name": "stderr",
     "output_type": "stream",
     "text": [
      "/tmp/ipykernel_1168028/1295774049.py:73: FutureWarning: Downcasting behavior in `replace` is deprecated and will be removed in a future version. To retain the old behavior, explicitly call `result.infer_objects(copy=False)`. To opt-in to the future behavior, set `pd.set_option('future.no_silent_downcasting', True)`\n",
      "  std_replaced = std.replace(0, 1)\n",
      "/tmp/ipykernel_1168028/1295774049.py:77: SettingWithCopyWarning: \n",
      "A value is trying to be set on a copy of a slice from a DataFrame.\n",
      "Try using .loc[row_indexer,col_indexer] = value instead\n",
      "\n",
      "See the caveats in the documentation: https://pandas.pydata.org/pandas-docs/stable/user_guide/indexing.html#returning-a-view-versus-a-copy\n",
      "  original_df[columns_to_normalize] = normalized_df\n"
     ]
    },
    {
     "name": "stdout",
     "output_type": "stream",
     "text": [
      "4V5RC9DG1GN965134 479\n"
     ]
    },
    {
     "name": "stderr",
     "output_type": "stream",
     "text": [
      "/tmp/ipykernel_1168028/1295774049.py:73: FutureWarning: Downcasting behavior in `replace` is deprecated and will be removed in a future version. To retain the old behavior, explicitly call `result.infer_objects(copy=False)`. To opt-in to the future behavior, set `pd.set_option('future.no_silent_downcasting', True)`\n",
      "  std_replaced = std.replace(0, 1)\n",
      "/tmp/ipykernel_1168028/1295774049.py:77: SettingWithCopyWarning: \n",
      "A value is trying to be set on a copy of a slice from a DataFrame.\n",
      "Try using .loc[row_indexer,col_indexer] = value instead\n",
      "\n",
      "See the caveats in the documentation: https://pandas.pydata.org/pandas-docs/stable/user_guide/indexing.html#returning-a-view-versus-a-copy\n",
      "  original_df[columns_to_normalize] = normalized_df\n"
     ]
    },
    {
     "name": "stdout",
     "output_type": "stream",
     "text": [
      "4V5RC9DH8JN995389 480\n"
     ]
    },
    {
     "name": "stderr",
     "output_type": "stream",
     "text": [
      "/tmp/ipykernel_1168028/1295774049.py:73: FutureWarning: Downcasting behavior in `replace` is deprecated and will be removed in a future version. To retain the old behavior, explicitly call `result.infer_objects(copy=False)`. To opt-in to the future behavior, set `pd.set_option('future.no_silent_downcasting', True)`\n",
      "  std_replaced = std.replace(0, 1)\n",
      "/tmp/ipykernel_1168028/1295774049.py:77: SettingWithCopyWarning: \n",
      "A value is trying to be set on a copy of a slice from a DataFrame.\n",
      "Try using .loc[row_indexer,col_indexer] = value instead\n",
      "\n",
      "See the caveats in the documentation: https://pandas.pydata.org/pandas-docs/stable/user_guide/indexing.html#returning-a-view-versus-a-copy\n",
      "  original_df[columns_to_normalize] = normalized_df\n"
     ]
    },
    {
     "name": "stdout",
     "output_type": "stream",
     "text": [
      "4V5RC9EH6KN235039 481\n"
     ]
    },
    {
     "name": "stderr",
     "output_type": "stream",
     "text": [
      "/tmp/ipykernel_1168028/1295774049.py:73: FutureWarning: Downcasting behavior in `replace` is deprecated and will be removed in a future version. To retain the old behavior, explicitly call `result.infer_objects(copy=False)`. To opt-in to the future behavior, set `pd.set_option('future.no_silent_downcasting', True)`\n",
      "  std_replaced = std.replace(0, 1)\n",
      "/tmp/ipykernel_1168028/1295774049.py:77: SettingWithCopyWarning: \n",
      "A value is trying to be set on a copy of a slice from a DataFrame.\n",
      "Try using .loc[row_indexer,col_indexer] = value instead\n",
      "\n",
      "See the caveats in the documentation: https://pandas.pydata.org/pandas-docs/stable/user_guide/indexing.html#returning-a-view-versus-a-copy\n",
      "  original_df[columns_to_normalize] = normalized_df\n"
     ]
    },
    {
     "name": "stdout",
     "output_type": "stream",
     "text": [
      "Whole data for all VINs: \n",
      "\n",
      "                       VIN ENGINE_SIZE ENGINE_HP VEH_TYPE _KOLA_01X _KOLA_02X  \\\n",
      "0        4V4NC9EH6KN904736         D13       455      VNL  WTDF22.5  WTDD22.5   \n",
      "1        4V4NC9EH6KN904736         D13       455      VNL  WTDF22.5  WTDD22.5   \n",
      "2        4V4NC9EH6KN904736         D13       455      VNL  WTDF22.5  WTDD22.5   \n",
      "3        4V4NC9EH6KN904736         D13       455      VNL  WTDF22.5  WTDD22.5   \n",
      "4        4V4NC9EH6KN904736         D13       455      VNL  WTDF22.5  WTDD22.5   \n",
      "...                    ...         ...       ...      ...       ...       ...   \n",
      "1360328  1M2AV02C2GM016065         D11       325      MRU  WTDF22.5  WTDD22.5   \n",
      "1360329  1M2AV02C2GM016065         D11       325      MRU  WTDF22.5  WTDD22.5   \n",
      "1360330  1M2AV02C2GM016065         D11       325      MRU  WTDF22.5  WTDD22.5   \n",
      "1360331  1M2AV02C2GM016065         D11       325      MRU  WTDF22.5  WTDD22.5   \n",
      "1360332  1M2AV02C2GM016065         D11       325      MRU  WTDF22.5  WTDD22.5   \n",
      "\n",
      "        _KOLA_03X _KOLA_04X _KOLA_05X _KOLA_06X  ... f_5_dtc2457_1th_15d  \\\n",
      "0           UWTDT  WBF-ALCO  WBD-ALCO      UWBT  ...           -1.151782   \n",
      "1           UWTDT  WBF-ALCO  WBD-ALCO      UWBT  ...           -1.151782   \n",
      "2           UWTDT  WBF-ALCO  WBD-ALCO      UWBT  ...           -1.151782   \n",
      "3           UWTDT  WBF-ALCO  WBD-ALCO      UWBT  ...           -1.151782   \n",
      "4           UWTDT  WBF-ALCO  WBD-ALCO      UWBT  ...           -1.151782   \n",
      "...           ...       ...       ...       ...  ...                 ...   \n",
      "1360328         ?  WBF-ACCU  WBD-ACCU         ?  ...                 0.0   \n",
      "1360329         ?  WBF-ACCU  WBD-ACCU         ?  ...                 0.0   \n",
      "1360330         ?  WBF-ACCU  WBD-ACCU         ?  ...                 0.0   \n",
      "1360331         ?  WBF-ACCU  WBD-ACCU         ?  ...                 0.0   \n",
      "1360332         ?  WBF-ACCU  WBD-ACCU         ?  ...                 0.0   \n",
      "\n",
      "        f_5_dtc2457_2nd_15d f_6_dtc2457_1th_15d f_6_dtc2457_2nd_15d  \\\n",
      "0                 -0.437788                 0.0                 0.0   \n",
      "1                 -0.437788                 0.0                 0.0   \n",
      "2                 -0.437788                 0.0                 0.0   \n",
      "3                 -0.437788                 0.0                 0.0   \n",
      "4                 -0.437788                 0.0                 0.0   \n",
      "...                     ...                 ...                 ...   \n",
      "1360328                 0.0                 0.0                 0.0   \n",
      "1360329                 0.0                 0.0                 0.0   \n",
      "1360330                 0.0                 0.0                 0.0   \n",
      "1360331                 0.0                 0.0                 0.0   \n",
      "1360332                 0.0                 0.0                 0.0   \n",
      "\n",
      "        f_7_dtc2457_1th_15d f_7_dtc2457_2nd_15d f_8_dtc2457_1th_15d  \\\n",
      "0                       0.0                 0.0                 0.0   \n",
      "1                       0.0                 0.0                 0.0   \n",
      "2                       0.0                 0.0                 0.0   \n",
      "3                       0.0                 0.0                 0.0   \n",
      "4                       0.0                 0.0                 0.0   \n",
      "...                     ...                 ...                 ...   \n",
      "1360328                 0.0                 0.0                 0.0   \n",
      "1360329                 0.0                 0.0                 0.0   \n",
      "1360330                 0.0                 0.0                 0.0   \n",
      "1360331                 0.0                 0.0                 0.0   \n",
      "1360332                 0.0                 0.0                 0.0   \n",
      "\n",
      "        f_8_dtc2457_2nd_15d if_parts_replaced_in_1th_15d  \\\n",
      "0                       0.0                            0   \n",
      "1                       0.0                            0   \n",
      "2                       0.0                            0   \n",
      "3                       0.0                            0   \n",
      "4                       0.0                            0   \n",
      "...                     ...                          ...   \n",
      "1360328                 0.0                            0   \n",
      "1360329                 0.0                            0   \n",
      "1360330                 0.0                            0   \n",
      "1360331                 0.0                            0   \n",
      "1360332                 0.0                            0   \n",
      "\n",
      "        if_parts_replaced_in_2nd_15d  \n",
      "0                                  0  \n",
      "1                                  0  \n",
      "2                                  0  \n",
      "3                                  0  \n",
      "4                                  0  \n",
      "...                              ...  \n",
      "1360328                            0  \n",
      "1360329                            0  \n",
      "1360330                            0  \n",
      "1360331                            0  \n",
      "1360332                            0  \n",
      "\n",
      "[1103280 rows x 723 columns]\n"
     ]
    }
   ],
   "source": [
    "# Read VINs data\n",
    "VINs_data_df = pd.read_csv(VINs_data_file_path, header=None, names=['VIN', 'TOTAL_ROWS'], index_col=False, dtype='unicode')\n",
    "completed_calc_VINs = VINs_data_df[\"VIN\"].reset_index(drop=True)\n",
    "\n",
    "# Process the data for each VIN\n",
    "for i, thisVIN in completed_calc_VINs.items():\n",
    "    print(thisVIN, i)\n",
    "    whole_data_for_thisVIN = cleanedNormalized_resultedData.loc[cleanedNormalized_resultedData['VIN'] == thisVIN].copy()\n",
    "\n",
    "    data_size = len(whole_data_for_thisVIN)\n",
    "\n",
    "    # 1 - 1. Cleaning numeric chunk of the dataframe\n",
    "    selected_numeric_features_for_this_VIN = [s for s in all_columns_names if '_dtc' in s] + ['calendar_day']\n",
    "    for col in selected_numeric_features_for_this_VIN:\n",
    "        whole_data_for_thisVIN.loc[:, col] = pd.to_numeric(whole_data_for_thisVIN[col])\n",
    "\n",
    "    # Cleaning non-numeric chunk of the dataframe\n",
    "    selected_non_numeric_features_for_this_VIN = [s for s in all_columns_names if '_dtc' not in s]\n",
    "    whole_data_for_thisVIN.loc[:, selected_non_numeric_features_for_this_VIN] = whole_data_for_thisVIN[selected_non_numeric_features_for_this_VIN].replace('', np.nan)\n",
    "\n",
    "    # Normalizing numeric chunk of the dataframe \n",
    "    normalized_numeric_chunk = normalize_sparse_dataframe(whole_data_for_thisVIN[selected_numeric_features_for_this_VIN], \"calendar_day\")\n",
    "    whole_data_for_thisVIN.loc[:, selected_numeric_features_for_this_VIN] = normalized_numeric_chunk\n",
    "\n",
    "    cleanedNormalized_resultedData.loc[cleanedNormalized_resultedData['VIN'] == thisVIN, :] = whole_data_for_thisVIN\n",
    "\n",
    "# Remove rows with VINs not in completed_calc_VINs\n",
    "cleanedNormalized_resultedData = cleanedNormalized_resultedData[cleanedNormalized_resultedData['VIN'].isin(completed_calc_VINs)]\n",
    "\n",
    "cleanedNormalized_resultedData.to_csv('/storage/home/yqf5148/work/volvoPennState/data/dataset/cleanedNormalized_resultedData.csv', index=None, mode='w', header=False)\n",
    "print(\"Whole data for all VINs: \\n\")\n",
    "print(cleanedNormalized_resultedData)"
   ]
  },
  {
   "cell_type": "code",
   "execution_count": null,
   "id": "2030f787-dee1-40c2-b96b-c016a4c98506",
   "metadata": {},
   "outputs": [],
   "source": []
  },
  {
   "cell_type": "code",
   "execution_count": null,
   "id": "90799b78-6d01-4214-92f4-2380192360d3",
   "metadata": {},
   "outputs": [],
   "source": []
  },
  {
   "cell_type": "code",
   "execution_count": null,
   "id": "67991167-10ab-4a61-8e88-73b33c0216b4",
   "metadata": {},
   "outputs": [],
   "source": []
  }
 ],
 "metadata": {
  "kernelspec": {
   "display_name": "volvopennstate_new_kernel",
   "language": "python",
   "name": "volvopennstate_new_kernel"
  },
  "language_info": {
   "codemirror_mode": {
    "name": "ipython",
    "version": 3
   },
   "file_extension": ".py",
   "mimetype": "text/x-python",
   "name": "python",
   "nbconvert_exporter": "python",
   "pygments_lexer": "ipython3",
   "version": "3.12.4"
  }
 },
 "nbformat": 4,
 "nbformat_minor": 5
}
